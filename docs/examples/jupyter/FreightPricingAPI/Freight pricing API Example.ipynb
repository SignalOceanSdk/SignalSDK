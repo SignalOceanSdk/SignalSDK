{
 "cells": [
  {
   "cell_type": "markdown",
   "metadata": {},
   "source": [
    "# Freight Pricing API Example"
   ]
  },
  {
   "cell_type": "markdown",
   "metadata": {},
   "source": [
    "## Setup\n",
    "Install the Signal Ocean SDK:\n",
    "```\n",
    "pip install signal-ocean\n",
    "```\n",
    "Set your subscription key acquired here: https://apis.signalocean.com/profile"
   ]
  },
  {
   "cell_type": "code",
   "execution_count": 16,
   "metadata": {},
   "outputs": [],
   "source": [
    "signal_ocean_api_key = 'NotValid' #replace with your subscription key"
   ]
  },
  {
   "cell_type": "markdown",
   "metadata": {},
   "source": [
    "## Calculating a freight price\n",
    "The Freight pricing API Retrieves freight prices for moving commodities between two port.\n",
    "The following function is available:\n",
    "\n",
    "1. get_freight_pricing.\n",
    "\n",
    "Args:\n",
    "\n",
    "    vessel_type: The type of vessel to calculate the prices for.\n",
    "    load_port: Port where the commodity is loaded.\n",
    "    discharge_port: Port where the commodity is discharged.\n",
    "    date: Date at which the freight price is requested.\n",
    "    vessel_subclass: The vessel's subclass.\n",
    "\n",
    "Returns:\n",
    "\n",
    "    A collection of freight pricing items, one per vessel class.\n",
    "    \n",
    "### Moving commodity from Fujairah towards Rotterdam\n",
    "The following example will display how to calculate the available freight prices to move a commodity from Fujairah to Rotterdam.\n",
    "We will use also the PortAPI to map ports to the Signal Geo schema."
   ]
  },
  {
   "cell_type": "code",
   "execution_count": 13,
   "metadata": {},
   "outputs": [],
   "source": [
    "from signal_ocean import PortAPI, PortFilter, Connection\n",
    "\n",
    "connection = Connection(api_key=signal_ocean_api_key)\n",
    "\n",
    "port_api = PortAPI(connection)\n",
    "load_port = port_api.get_ports(PortFilter(name_like='Fujairah'))[0]\n",
    "discharge_port = port_api.get_ports(PortFilter(name_like='Rotterdam'))[0]"
   ]
  },
  {
   "cell_type": "markdown",
   "metadata": {},
   "source": [
    "### Call the freight pricing API\n",
    "Now that we have the ports we want to query about, we can call the freight pricing API and get out the commodity transfer cost."
   ]
  },
  {
   "cell_type": "code",
   "execution_count": 14,
   "metadata": {},
   "outputs": [],
   "source": [
    "from signal_ocean.freight_pricing import FreightPricingAPI,VesselType,VesselSubclass\n",
    "from datetime import date\n",
    "\n",
    "freight_pricing_api = FreightPricingAPI(connection)\n",
    "today = date.today()\n",
    "\n",
    "freight_pricing_collection = freight_pricing_api.get_freight_pricing(\n",
    "    vessel_type=VesselType(id=1, name='Tanker'),\n",
    "    load_port=load_port, \n",
    "    discharge_port=discharge_port,\n",
    "    date=today,\n",
    "    vessel_subclass=VesselSubclass.DIRTY)"
   ]
  },
  {
   "cell_type": "markdown",
   "metadata": {},
   "source": [
    "### Print out the result\n",
    "\n",
    "Now we can hold the result and print it out on a dataframe"
   ]
  },
  {
   "cell_type": "code",
   "execution_count": 15,
   "metadata": {},
   "outputs": [
    {
     "data": {
      "text/html": [
       "<div>\n",
       "<style scoped>\n",
       "    .dataframe tbody tr th:only-of-type {\n",
       "        vertical-align: middle;\n",
       "    }\n",
       "\n",
       "    .dataframe tbody tr th {\n",
       "        vertical-align: top;\n",
       "    }\n",
       "\n",
       "    .dataframe thead th {\n",
       "        text-align: right;\n",
       "    }\n",
       "</style>\n",
       "<table border=\"1\" class=\"dataframe\">\n",
       "  <thead>\n",
       "    <tr style=\"text-align: right;\">\n",
       "      <th></th>\n",
       "      <th>vessel_class</th>\n",
       "      <th>cargo_quantity</th>\n",
       "      <th>costs</th>\n",
       "      <th>totals</th>\n",
       "    </tr>\n",
       "  </thead>\n",
       "  <tbody>\n",
       "    <tr>\n",
       "      <th>0</th>\n",
       "      <td>VLCC</td>\n",
       "      <td>280000.0</td>\n",
       "      <td>Costs(freight_rate=Decimal('8.186306'), freigh...</td>\n",
       "      <td>Totals(total_cost=Decimal('2292165.68'), total...</td>\n",
       "    </tr>\n",
       "    <tr>\n",
       "      <th>1</th>\n",
       "      <td>Suezmax</td>\n",
       "      <td>140000.0</td>\n",
       "      <td>Costs(freight_rate=Decimal('-2.407452'), freig...</td>\n",
       "      <td>Totals(total_cost=Decimal('376244.72'), total_...</td>\n",
       "    </tr>\n",
       "    <tr>\n",
       "      <th>2</th>\n",
       "      <td>Aframax</td>\n",
       "      <td>80000.0</td>\n",
       "      <td>Costs(freight_rate=Decimal('13.875'), freight_...</td>\n",
       "      <td>Totals(total_cost=Decimal('1709610.0'), total_...</td>\n",
       "    </tr>\n",
       "  </tbody>\n",
       "</table>\n",
       "</div>"
      ],
      "text/plain": [
       "  vessel_class cargo_quantity  \\\n",
       "0         VLCC       280000.0   \n",
       "1      Suezmax       140000.0   \n",
       "2      Aframax        80000.0   \n",
       "\n",
       "                                               costs  \\\n",
       "0  Costs(freight_rate=Decimal('8.186306'), freigh...   \n",
       "1  Costs(freight_rate=Decimal('-2.407452'), freig...   \n",
       "2  Costs(freight_rate=Decimal('13.875'), freight_...   \n",
       "\n",
       "                                              totals  \n",
       "0  Totals(total_cost=Decimal('2292165.68'), total...  \n",
       "1  Totals(total_cost=Decimal('376244.72'), total_...  \n",
       "2  Totals(total_cost=Decimal('1709610.0'), total_...  "
      ]
     },
     "execution_count": 15,
     "metadata": {},
     "output_type": "execute_result"
    }
   ],
   "source": [
    "import pandas as pd\n",
    "\n",
    "dataf = pd.DataFrame([o.__dict__ for o in freight_pricing_collection])\n",
    "dataf"
   ]
  },
  {
   "cell_type": "code",
   "execution_count": null,
   "metadata": {},
   "outputs": [],
   "source": []
  }
 ],
 "metadata": {
  "kernelspec": {
   "display_name": "Python 3",
   "language": "python",
   "name": "python3"
  },
  "language_info": {
   "codemirror_mode": {
    "name": "ipython",
    "version": 3
   },
   "file_extension": ".py",
   "mimetype": "text/x-python",
   "name": "python",
   "nbconvert_exporter": "python",
   "pygments_lexer": "ipython3",
   "version": "3.8.5"
  }
 },
 "nbformat": 4,
 "nbformat_minor": 4
}
