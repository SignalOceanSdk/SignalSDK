{
 "cells": [
  {
   "cell_type": "markdown",
   "metadata": {},
   "source": [
    "# Freight Pricing API Example"
   ]
  },
  {
   "cell_type": "markdown",
   "metadata": {},
   "source": [
    "## Setup\n",
    "Install the Signal Ocean SDK:\n",
    "```\n",
    "pip install signal-ocean\n",
    "```\n",
    "And put your API key in a `SIGNAL_OCEAN_API_KEY` environment variable."
   ]
  },
  {
   "cell_type": "markdown",
   "metadata": {},
   "source": [
    "## Calculating a freight price\n",
    "The Freight pricing API Retrieves freight prices for moving commodities between two port.\n",
    "The following function is available:\n",
    "\n",
    "1. get_freight_pricing.\n",
    "\n",
    "Args:\n",
    "\n",
    "    vessel_type: The type of vessel to calculate the prices for.\n",
    "    load_port: Port where the commodity is loaded.\n",
    "    discharge_port: Port where the commodity is discharged.\n",
    "    date: Date at which the freight price is requested.\n",
    "    vessel_subclass: The vessel's subclass.\n",
    "\n",
    "Returns:\n",
    "\n",
    "    A collection of freight pricing items, one per vessel class.\n",
    "    \n",
    "### Moving commodity from Fujairah towards Rotterdam\n",
    "The following example will display how to calculate the available freight prices to move a commodity from Fujairah to Rotterdam.\n",
    "We will use also the API to map ports, vessel classes and vessel types to the Signal Geo schema."
   ]
  },
  {
   "cell_type": "markdown",
   "metadata": {},
   "source": [
    "Ports, vessel classes and vessel types can be retrieved through `FreightPricingAPI`:"
   ]
  },
  {
   "cell_type": "code",
   "execution_count": null,
   "metadata": {},
   "outputs": [],
   "source": [
    "from signal_ocean.freight_pricing import FreightPricingAPI\n",
    "\n",
    "freight_pricing_api = FreightPricingAPI()\n",
    "\n",
    "freight_pricing_api.get_ports()\n",
    "freight_pricing_api.get_vessel_classes()\n",
    "freight_pricing_api.get_vessel_types()\n"
   ]
  },
  {
   "cell_type": "markdown",
   "metadata": {},
   "source": [
    "All can be looked up by their name using filters"
   ]
  },
  {
   "cell_type": "code",
   "execution_count": null,
   "metadata": {},
   "outputs": [],
   "source": [
    "from signal_ocean.freight_pricing import FreightPricingAPI, VesselTypeFilter, VesselClassFilter, PortFilter\n",
    "\n",
    "freight_pricing_api.get_ports(PortFilter(name_like='roa'))\n",
    "freight_pricing_api.get_vessel_classes(VesselClassFilter(name_like='max'))\n",
    "freight_pricing_api.get_vessel_types(VesselTypeFilter(name_like='Tank'))"
   ]
  },
  {
   "cell_type": "markdown",
   "metadata": {},
   "source": [
    "### Call the freight pricing API\n",
    "Now that we have the ports we want to query about, we can call the freight pricing API and get out the commodity transfer cost."
   ]
  },
  {
   "cell_type": "code",
   "execution_count": null,
   "metadata": {},
   "outputs": [],
   "source": [
    "from signal_ocean.freight_pricing import FreightPricingAPI,VesselType,VesselSubclass\n",
    "from datetime import date\n",
    "\n",
    "freight_pricing_api = FreightPricingAPI()\n",
    "\n",
    "vessel_type = freight_pricing_api.get_vessel_types(VesselTypeFilter(name_like='tanker'))[0]\n",
    "load_port = freight_pricing_api.get_ports(PortFilter(name_like='Fujairah'))[0]\n",
    "discharge_port = freight_pricing_api.get_ports(PortFilter(name_like='Rotterdam'))[0]\n",
    "\n",
    "today = date.today()\n",
    "\n",
    "freight_pricing = freight_pricing_api.get_freight_pricing(\n",
    "    vessel_type,\n",
    "    load_port=load_port, \n",
    "    discharge_port=discharge_port,\n",
    "    date=today,\n",
    "    vessel_subclass=VesselSubclass.DIRTY\n",
    ")"
   ]
  },
  {
   "cell_type": "markdown",
   "metadata": {},
   "source": [
    "### Print out the result\n",
    "\n",
    "Now we can hold the result and print it out on a dataframe"
   ]
  },
  {
   "cell_type": "code",
   "execution_count": null,
   "metadata": {},
   "outputs": [],
   "source": [
    "import pandas as pd\n",
    "\n",
    "dataf = pd.DataFrame([{\n",
    "    'vessel_class': p.vessel_class,\n",
    "    'cargo_quantity': p.cargo_quantity,\n",
    "    **p.costs.__dict__,\n",
    "    **p.totals.__dict__ } for p in freight_pricing\n",
    "])\n",
    "\n",
    "dataf"
   ]
  }
 ],
 "metadata": {
  "kernelspec": {
   "display_name": "Python 3",
   "language": "python",
   "name": "python3"
  },
  "language_info": {
   "codemirror_mode": {
    "name": "ipython",
    "version": 3
   },
   "file_extension": ".py",
   "mimetype": "text/x-python",
   "name": "python",
   "nbconvert_exporter": "python",
   "pygments_lexer": "ipython3",
   "version": "3.8.2"
  }
 },
 "nbformat": 4,
 "nbformat_minor": 4
}
