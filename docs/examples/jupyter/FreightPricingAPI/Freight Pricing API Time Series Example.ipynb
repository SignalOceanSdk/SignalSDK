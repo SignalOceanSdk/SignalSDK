{
 "cells": [
  {
   "cell_type": "markdown",
   "metadata": {},
   "source": [
    "# Freight Pricing API Time Series Example"
   ]
  },
  {
   "cell_type": "markdown",
   "metadata": {},
   "source": [
    "This Jupyter Notebook displays a use case of how we could use the Freight Pricing API in order to conduct a time series analysis regarding the freight rates.\n",
    "But first we should make sure that the Signal Ocean SDK is installed."
   ]
  },
  {
   "cell_type": "markdown",
   "metadata": {},
   "source": [
    "Set your subscription key acquired here: https://apis.signalocean.com/profile"
   ]
  },
  {
   "cell_type": "code",
   "execution_count": 1,
   "metadata": {},
   "outputs": [],
   "source": [
    "signal_ocean_api_key = '6790039d8878424d8cf43a998d28dde7' #replace with your subscription key"
   ]
  },
  {
   "cell_type": "markdown",
   "metadata": {},
   "source": [
    "We will also use PortAPI in order to choose Load & Discharge ports."
   ]
  },
  {
   "cell_type": "code",
   "execution_count": 2,
   "metadata": {},
   "outputs": [],
   "source": [
    "from signal_ocean import PortAPI, PortFilter, Connection\n",
    "\n",
    "connection = Connection(api_key=signal_ocean_api_key)\n",
    "\n",
    "port_api = PortAPI(connection)\n",
    "load_port = port_api.get_ports(PortFilter(name_like='Gamba'))[0]\n",
    "discharge_port = port_api.get_ports(PortFilter(name_like='Singapore'))[0]"
   ]
  },
  {
   "cell_type": "code",
   "execution_count": 3,
   "metadata": {},
   "outputs": [],
   "source": [
    "from signal_ocean.freight_pricing import FreightPricingAPI,VesselType,VesselSubclass\n",
    "from datetime import date"
   ]
  },
  {
   "cell_type": "markdown",
   "metadata": {},
   "source": [
    "### Creating Time Series Data "
   ]
  },
  {
   "cell_type": "markdown",
   "metadata": {},
   "source": [
    "Time Series data are created by calling the Freight Pricing API iteratively. Τime Window and Frequency are determined by first_day, last_day and weeks_before variables. In this specific example we will get the freight rates for every week for the last 52 weeks. Reference day is the present day of week."
   ]
  },
  {
   "cell_type": "code",
   "execution_count": 4,
   "metadata": {},
   "outputs": [],
   "source": [
    "import pandas as pd\n",
    "import datetime as dt\n",
    "\n",
    "freight_pricing_api = FreightPricingAPI(connection)\n",
    "\n",
    "last_day = date.today() + pd.DateOffset(days= -1) #- pd.DateOffset(days= (- or +)...) To pick a specific date\n",
    "weeks_before = 52 # here the number of weeks back can change\n",
    "first_day = last_day + pd.DateOffset(days= -weeks_before*7)\n",
    "\n",
    "df_dict = {}\n",
    "\n",
    "for i in range(1,weeks_before+1):\n",
    "    next_date = first_day + pd.DateOffset(days=i*7)\n",
    "    freight_pricing_collection = freight_pricing_api.get_freight_pricing(\n",
    "        vessel_type=VesselType(id=1, name='Tanker'),\n",
    "        load_port=load_port, \n",
    "        discharge_port=discharge_port,\n",
    "        date=next_date,\n",
    "        vessel_subclass=VesselSubclass.DIRTY)\n",
    "    temp_dict = [o.__dict__ for o in freight_pricing_collection]\n",
    "    for item in temp_dict:\n",
    "        item['costs']= item['costs'].__dict__ \n",
    "        item['totals']= item['totals'].__dict__ \n",
    "    dataf = pd.json_normalize(data=temp_dict)\n",
    "    fr_series = dataf['costs.freight_rate']\n",
    "    df_dict[str(next_date)] = fr_series.values.tolist()\n",
    "    \n",
    "vessel_classes = dataf.vessel_class.tolist()\n",
    "df_dict[\"vessel_class\"] = vessel_classes"
   ]
  },
  {
   "cell_type": "code",
   "execution_count": 5,
   "metadata": {},
   "outputs": [
    {
     "data": {
      "text/html": [
       "<div>\n",
       "<style scoped>\n",
       "    .dataframe tbody tr th:only-of-type {\n",
       "        vertical-align: middle;\n",
       "    }\n",
       "\n",
       "    .dataframe tbody tr th {\n",
       "        vertical-align: top;\n",
       "    }\n",
       "\n",
       "    .dataframe thead th {\n",
       "        text-align: right;\n",
       "    }\n",
       "</style>\n",
       "<table border=\"1\" class=\"dataframe\">\n",
       "  <thead>\n",
       "    <tr style=\"text-align: right;\">\n",
       "      <th></th>\n",
       "      <th>2019-11-03 00:00:00</th>\n",
       "      <th>2019-11-10 00:00:00</th>\n",
       "      <th>2019-11-17 00:00:00</th>\n",
       "      <th>2019-11-24 00:00:00</th>\n",
       "      <th>2019-12-01 00:00:00</th>\n",
       "      <th>2019-12-08 00:00:00</th>\n",
       "      <th>2019-12-15 00:00:00</th>\n",
       "      <th>2019-12-22 00:00:00</th>\n",
       "      <th>2019-12-29 00:00:00</th>\n",
       "      <th>2020-01-05 00:00:00</th>\n",
       "      <th>...</th>\n",
       "      <th>2020-08-30 00:00:00</th>\n",
       "      <th>2020-09-06 00:00:00</th>\n",
       "      <th>2020-09-13 00:00:00</th>\n",
       "      <th>2020-09-20 00:00:00</th>\n",
       "      <th>2020-09-27 00:00:00</th>\n",
       "      <th>2020-10-04 00:00:00</th>\n",
       "      <th>2020-10-11 00:00:00</th>\n",
       "      <th>2020-10-18 00:00:00</th>\n",
       "      <th>2020-10-25 00:00:00</th>\n",
       "      <th>vessel_class</th>\n",
       "    </tr>\n",
       "  </thead>\n",
       "  <tbody>\n",
       "    <tr>\n",
       "      <th>0</th>\n",
       "      <td>21.9941275</td>\n",
       "      <td>19.9213825</td>\n",
       "      <td>19.0001625</td>\n",
       "      <td>25.9093125</td>\n",
       "      <td>27.406295</td>\n",
       "      <td>21.9941275</td>\n",
       "      <td>24.2971775</td>\n",
       "      <td>27.0608375</td>\n",
       "      <td>27.0608375</td>\n",
       "      <td>30.27816</td>\n",
       "      <td>...</td>\n",
       "      <td>9.771588</td>\n",
       "      <td>8.808192</td>\n",
       "      <td>11.285496</td>\n",
       "      <td>11.147868</td>\n",
       "      <td>10.046844</td>\n",
       "      <td>9.496332</td>\n",
       "      <td>9.083448</td>\n",
       "      <td>9.083448</td>\n",
       "      <td>9.221076</td>\n",
       "      <td>VLCC</td>\n",
       "    </tr>\n",
       "    <tr>\n",
       "      <th>1</th>\n",
       "      <td>28.4426675</td>\n",
       "      <td>22.800195</td>\n",
       "      <td>27.5214475</td>\n",
       "      <td>30.0548025</td>\n",
       "      <td>29.47904</td>\n",
       "      <td>33.62453</td>\n",
       "      <td>34.4305975</td>\n",
       "      <td>36.38819</td>\n",
       "      <td>42.145815</td>\n",
       "      <td>41.426028</td>\n",
       "      <td>...</td>\n",
       "      <td>14.175684</td>\n",
       "      <td>11.147868</td>\n",
       "      <td>12.661776</td>\n",
       "      <td>11.973636</td>\n",
       "      <td>11.147868</td>\n",
       "      <td>11.836008</td>\n",
       "      <td>11.285496</td>\n",
       "      <td>11.285496</td>\n",
       "      <td>10.459728</td>\n",
       "      <td>Suezmax</td>\n",
       "    </tr>\n",
       "    <tr>\n",
       "      <th>2</th>\n",
       "      <td>25.6790075</td>\n",
       "      <td>25.6790075</td>\n",
       "      <td>42.37612</td>\n",
       "      <td>49.28527</td>\n",
       "      <td>49.28527</td>\n",
       "      <td>44.1034075</td>\n",
       "      <td>44.1034075</td>\n",
       "      <td>49.28527</td>\n",
       "      <td>50.436795</td>\n",
       "      <td>58.216644</td>\n",
       "      <td>...</td>\n",
       "      <td>19.26792</td>\n",
       "      <td>18.57978</td>\n",
       "      <td>18.57978</td>\n",
       "      <td>18.57978</td>\n",
       "      <td>18.57978</td>\n",
       "      <td>18.57978</td>\n",
       "      <td>18.57978</td>\n",
       "      <td>18.57978</td>\n",
       "      <td>19.26792</td>\n",
       "      <td>Aframax</td>\n",
       "    </tr>\n",
       "  </tbody>\n",
       "</table>\n",
       "<p>3 rows × 53 columns</p>\n",
       "</div>"
      ],
      "text/plain": [
       "  2019-11-03 00:00:00 2019-11-10 00:00:00 2019-11-17 00:00:00  \\\n",
       "0          21.9941275          19.9213825          19.0001625   \n",
       "1          28.4426675           22.800195          27.5214475   \n",
       "2          25.6790075          25.6790075            42.37612   \n",
       "\n",
       "  2019-11-24 00:00:00 2019-12-01 00:00:00 2019-12-08 00:00:00  \\\n",
       "0          25.9093125           27.406295          21.9941275   \n",
       "1          30.0548025            29.47904            33.62453   \n",
       "2            49.28527            49.28527          44.1034075   \n",
       "\n",
       "  2019-12-15 00:00:00 2019-12-22 00:00:00 2019-12-29 00:00:00  \\\n",
       "0          24.2971775          27.0608375          27.0608375   \n",
       "1          34.4305975            36.38819           42.145815   \n",
       "2          44.1034075            49.28527           50.436795   \n",
       "\n",
       "  2020-01-05 00:00:00  ... 2020-08-30 00:00:00 2020-09-06 00:00:00  \\\n",
       "0            30.27816  ...            9.771588            8.808192   \n",
       "1           41.426028  ...           14.175684           11.147868   \n",
       "2           58.216644  ...            19.26792            18.57978   \n",
       "\n",
       "  2020-09-13 00:00:00 2020-09-20 00:00:00 2020-09-27 00:00:00  \\\n",
       "0           11.285496           11.147868           10.046844   \n",
       "1           12.661776           11.973636           11.147868   \n",
       "2            18.57978            18.57978            18.57978   \n",
       "\n",
       "  2020-10-04 00:00:00 2020-10-11 00:00:00 2020-10-18 00:00:00  \\\n",
       "0            9.496332            9.083448            9.083448   \n",
       "1           11.836008           11.285496           11.285496   \n",
       "2            18.57978            18.57978            18.57978   \n",
       "\n",
       "  2020-10-25 00:00:00 vessel_class  \n",
       "0            9.221076         VLCC  \n",
       "1           10.459728      Suezmax  \n",
       "2            19.26792      Aframax  \n",
       "\n",
       "[3 rows x 53 columns]"
      ]
     },
     "execution_count": 5,
     "metadata": {},
     "output_type": "execute_result"
    }
   ],
   "source": [
    "final_df = pd.DataFrame.from_dict(df_dict)\n",
    "final_df"
   ]
  },
  {
   "cell_type": "markdown",
   "metadata": {},
   "source": [
    "Transposed dataframe is helpfull for the visualization of the data"
   ]
  },
  {
   "cell_type": "code",
   "execution_count": 6,
   "metadata": {},
   "outputs": [
    {
     "data": {
      "text/html": [
       "<div>\n",
       "<style scoped>\n",
       "    .dataframe tbody tr th:only-of-type {\n",
       "        vertical-align: middle;\n",
       "    }\n",
       "\n",
       "    .dataframe tbody tr th {\n",
       "        vertical-align: top;\n",
       "    }\n",
       "\n",
       "    .dataframe thead th {\n",
       "        text-align: right;\n",
       "    }\n",
       "</style>\n",
       "<table border=\"1\" class=\"dataframe\">\n",
       "  <thead>\n",
       "    <tr style=\"text-align: right;\">\n",
       "      <th>vessel_class</th>\n",
       "      <th>VLCC</th>\n",
       "      <th>Suezmax</th>\n",
       "      <th>Aframax</th>\n",
       "    </tr>\n",
       "    <tr>\n",
       "      <th>Date</th>\n",
       "      <th></th>\n",
       "      <th></th>\n",
       "      <th></th>\n",
       "    </tr>\n",
       "  </thead>\n",
       "  <tbody>\n",
       "    <tr>\n",
       "      <th>2019-11-03 00:00:00</th>\n",
       "      <td>21.9941275</td>\n",
       "      <td>28.4426675</td>\n",
       "      <td>25.6790075</td>\n",
       "    </tr>\n",
       "    <tr>\n",
       "      <th>2019-11-10 00:00:00</th>\n",
       "      <td>19.9213825</td>\n",
       "      <td>22.800195</td>\n",
       "      <td>25.6790075</td>\n",
       "    </tr>\n",
       "    <tr>\n",
       "      <th>2019-11-17 00:00:00</th>\n",
       "      <td>19.0001625</td>\n",
       "      <td>27.5214475</td>\n",
       "      <td>42.37612</td>\n",
       "    </tr>\n",
       "    <tr>\n",
       "      <th>2019-11-24 00:00:00</th>\n",
       "      <td>25.9093125</td>\n",
       "      <td>30.0548025</td>\n",
       "      <td>49.28527</td>\n",
       "    </tr>\n",
       "    <tr>\n",
       "      <th>2019-12-01 00:00:00</th>\n",
       "      <td>27.406295</td>\n",
       "      <td>29.47904</td>\n",
       "      <td>49.28527</td>\n",
       "    </tr>\n",
       "  </tbody>\n",
       "</table>\n",
       "</div>"
      ],
      "text/plain": [
       "vessel_class               VLCC     Suezmax     Aframax\n",
       "Date                                                   \n",
       "2019-11-03 00:00:00  21.9941275  28.4426675  25.6790075\n",
       "2019-11-10 00:00:00  19.9213825   22.800195  25.6790075\n",
       "2019-11-17 00:00:00  19.0001625  27.5214475    42.37612\n",
       "2019-11-24 00:00:00  25.9093125  30.0548025    49.28527\n",
       "2019-12-01 00:00:00   27.406295    29.47904    49.28527"
      ]
     },
     "execution_count": 6,
     "metadata": {},
     "output_type": "execute_result"
    }
   ],
   "source": [
    "final_df_transposed = final_df.set_index(\"vessel_class\").T.rename_axis('Date')\n",
    "final_df_transposed.head()"
   ]
  },
  {
   "cell_type": "code",
   "execution_count": 7,
   "metadata": {},
   "outputs": [],
   "source": [
    "# extracting the transposed ton an excel file\n",
    "final_df.to_excel('simpleDemoFreightPricing.xlsx')"
   ]
  },
  {
   "cell_type": "markdown",
   "metadata": {},
   "source": [
    "## Visualizing the results in a graph"
   ]
  },
  {
   "cell_type": "code",
   "execution_count": 8,
   "metadata": {},
   "outputs": [],
   "source": [
    "# creating x axis for the graph\n",
    "variables_dict={}\n",
    "for vc in  final_df.vessel_class.tolist():\n",
    "    variables_dict[\"var%s\" %vc] = final_df.loc[final_df.vessel_class==vc,str(first_day):str(last_day)].values.tolist()[0]\n",
    "\n",
    "x_axis = final_df.loc[1:-1,str(first_day):str(last_day)].columns.tolist()\n",
    "x_axis = [dt.datetime.strptime(x[0:10], '%Y-%m-%d') for x in x_axis]\n"
   ]
  },
  {
   "cell_type": "code",
   "execution_count": 9,
   "metadata": {},
   "outputs": [],
   "source": [
    "#restrain the y axis\n",
    "import numpy as np\n",
    "\n",
    "minim = np.amin(final_df.loc[:,str(first_day):str(last_day)].values)\n",
    "maxim = np.amax(final_df.loc[:,str(first_day):str(last_day)].values)"
   ]
  },
  {
   "cell_type": "code",
   "execution_count": null,
   "metadata": {},
   "outputs": [],
   "source": [
    "import matplotlib.pyplot as plt\n",
    "from matplotlib.ticker import StrMethodFormatter\n",
    "import decimal\n",
    "\n",
    "fig = plt.figure(figsize=(20,10))\n",
    "ax = fig.add_subplot(111)\n",
    "ax.axes.set_ylim([minim - decimal.Decimal(1.5) ,maxim + decimal.Decimal(1.5)])\n",
    "ax.axes.yaxis.set_major_formatter(StrMethodFormatter('{x:,.0f}'))\n",
    "\n",
    "for key,val in variables_dict.items():\n",
    "    ax.plot(x_axis,val,label=key[3:])\n",
    "\n",
    "plt.xticks(x_axis)\n",
    "\n",
    "plt.xlabel(\"Dates\", fontsize=15)\n",
    "plt.ylabel(\"Total Rate ($/ton)\", fontsize=15)\n",
    "\n",
    "plt.legend(fontsize=20)\n",
    "\n",
    "# format your data to desired format. Here I chose YYYY-MM-DD but you can set it to whatever you want.\n",
    "import matplotlib.dates as mdates\n",
    "ax.xaxis.set_major_formatter(mdates.DateFormatter('%Y-%m-%d'))\n",
    "\n",
    "# rotate and align the tick labels so they look better\n",
    "fig.autofmt_xdate()"
   ]
  },
  {
   "cell_type": "code",
   "execution_count": null,
   "metadata": {},
   "outputs": [],
   "source": []
  },
  {
   "cell_type": "code",
   "execution_count": null,
   "metadata": {},
   "outputs": [],
   "source": []
  }
 ],
 "metadata": {
  "kernelspec": {
   "display_name": "Python 3",
   "language": "python",
   "name": "python3"
  },
  "language_info": {
   "codemirror_mode": {
    "name": "ipython",
    "version": 3
   },
   "file_extension": ".py",
   "mimetype": "text/x-python",
   "name": "python",
   "nbconvert_exporter": "python",
   "pygments_lexer": "ipython3",
   "version": "3.8.5"
  }
 },
 "nbformat": 4,
 "nbformat_minor": 4
}
