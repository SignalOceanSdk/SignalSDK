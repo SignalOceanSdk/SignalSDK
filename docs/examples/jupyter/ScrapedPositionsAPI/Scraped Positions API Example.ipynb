{
 "cells": [
  {
   "cell_type": "markdown",
   "id": "753942dd",
   "metadata": {
    "pycharm": {
     "name": "#%% md\n"
    }
   },
   "source": [
    "# Scraped Positions API Example\n",
    "\n",
    "## Run this example in [Colab](https://colab.research.google.com/github/SignalOceanSdk/SignalSDK/blob/master/docs/examples/jupyter/ScrapedPositionsAPI/Scraped%20Positions%20API%20Example.ipynb)"
   ]
  },
  {
   "cell_type": "markdown",
   "id": "bfc102e8",
   "metadata": {
    "pycharm": {
     "name": "#%% md\n"
    }
   },
   "source": [
    "Get your personal Signal Ocean API subscription key (acquired [here](https://apis.signalocean.com/profile)) and replace it below:"
   ]
  },
  {
   "cell_type": "code",
   "execution_count": 1,
   "id": "f4fa6bf5",
   "metadata": {
    "pycharm": {
     "name": "#%%\n"
    }
   },
   "outputs": [],
   "source": [
    "signal_ocean_api_key = '' # Replace with your subscription key"
   ]
  },
  {
   "cell_type": "markdown",
   "id": "d2be9253-a1c5-4d87-8bfb-2087d85cea41",
   "metadata": {
    "pycharm": {
     "name": "#%% md\n"
    }
   },
   "source": [
    "# Scraped Positions API\n",
    "\n",
    "The goal of Scraped Positions API is to collect and return scraped positions by the given filters. This can be done by using the `ScrapedPositionsAPI` class and calling appropriate methods\n",
    "\n",
    "#### 1. Request by filters\n",
    "\n",
    "Positions can be retrieved for specific filters, by calling the `get_positions` method with the following arguments:\n",
    "\n",
    "#### Required\n",
    "\n",
    "`vessel_type` The vessel type\n",
    "\n",
    "_Additionally, at least one of the following is required_\n",
    "\n",
    "`position_ids` List of PositionIDs to retrieve\n",
    "\n",
    "`imos` List of IMOs\n",
    "\n",
    "`message_ids` List of MessageIDs\n",
    "\n",
    "`external_message_ids` List of  ExternalMessageIDs\n",
    "\n",
    "`received_date_from` Earliest date the position received\n",
    "\n",
    "`received_date_to` Latest date the position received\n",
    "\n",
    "`updated_date_from` Earliest date the position updated\n",
    "\n",
    "`updated_date_to` Latest date the position updated\n",
    "\n",
    "> Mixing received and updated dates is not allowed\n",
    "\n",
    "> It's highly recommended to use UTC  dates, since this is the internally used format\n",
    "\n",
    "#### 2. Request by page token\n",
    "\n",
    "Positions can also be retrieved, by calling the `get_positions_incremental` method.\n",
    "This method will also return `next_request_token`, which the user should use to their next incremental request to retrieve only the latest updated cargoes.\n",
    "\n",
    "#### Required\n",
    "\n",
    "`vessel_type` The vessel type\n",
    "\n",
    "#### Optional\n",
    "\n",
    "`page_token` The key that should be used as a parameter of the token to retrieve the relevant page.\n",
    "\n",
    "#### 3. Retrieve page token\n",
    "\n",
    "The token referenced above can be retrieved for a specific date, by calling the `get_positions_incremental_token` method with the following argument:\n",
    "#### Required\n",
    "\n",
    "`updated_date_from` Earliest the position updated."
   ]
  },
  {
   "cell_type": "markdown",
   "id": "a560fa23",
   "metadata": {
    "pycharm": {
     "name": "#%% md\n"
    }
   },
   "source": [
    "### Additional optional arguments\n",
    "\n",
    "Methods `get_positions` and `get_positions_incremental`, also accept the following optional arguments:\n",
    "\n",
    "`include_details` If this field is `True` the following columns will be included in the response (otherwise they will be `None`):\n",
    "```\n",
    "parsed_part_id, line_from, line_to, source\n",
    "```\n",
    "\n",
    "`include_scraped_fields` If this field is `True` the following columns will be included in the response (otherwise they will be `None`):\n",
    "```\n",
    "scraped_vessel_name, scraped_deadweight, scraped_year_built, scraped_open_date, scraped_open_port, scraped_commercial_operator, scraped_cargo_type, scraped_last_cargo_types\n",
    "```\n",
    "\n",
    "`include_vessel_details` If this field is `True` the following columns will be included in the response (otherwise they will be `None`):\n",
    "```\n",
    "vessel_name, deadweight, year_built, liquid_capacity, vessel_type_id, vessel_type, vessel_class\n",
    "```\n",
    "\n",
    "`include_labels` If this field is `True` the following columns will be included in the response (otherwise they will be `None`):\n",
    "```\n",
    "open_name, open_taxonomy, commercial_operator, cargo_type, cargo_type_group, last_cargo_types\n",
    "```\n",
    "\n",
    "`include_content` If this field is `True` the following columns will be included in the response (otherwise they will be `None`):\n",
    "```\n",
    "content\n",
    "```\n",
    "\n",
    "`include_sender` If this field is `True` the following columns will be included in the response (otherwise they will be `None`): \n",
    "```\n",
    "sender\n",
    "```\n",
    "\n",
    "`include_debug_info` If this field is `True` the following columns will be included in the response (otherwise they will be `None`):\n",
    "```\n",
    "is_private\n",
    "```\n",
    "\n",
    "> Default value is `True` for all the optional arguments described above "
   ]
  },
  {
   "cell_type": "markdown",
   "id": "c5816f6d",
   "metadata": {
    "pycharm": {
     "name": "#%% md\n"
    }
   },
   "source": [
    "## Installation"
   ]
  },
  {
   "cell_type": "markdown",
   "id": "7de9a6f8",
   "metadata": {
    "pycharm": {
     "name": "#%% md\n"
    }
   },
   "source": [
    "To install _Signal Ocean SDK_, simply run the following command"
   ]
  },
  {
   "cell_type": "code",
   "execution_count": 2,
   "id": "759358ec",
   "metadata": {
    "pycharm": {
     "name": "#%%\n"
    }
   },
   "outputs": [],
   "source": [
    "%%capture\n",
    "%pip install signal-ocean"
   ]
  },
  {
   "cell_type": "markdown",
   "id": "d7474778",
   "metadata": {
    "pycharm": {
     "name": "#%% md\n"
    }
   },
   "source": [
    "## Quickstart"
   ]
  },
  {
   "cell_type": "markdown",
   "id": "7d53a68a",
   "metadata": {
    "pycharm": {
     "name": "#%% md\n"
    }
   },
   "source": [
    "Import `signal-ocean` and other modules required for this demo"
   ]
  },
  {
   "cell_type": "code",
   "execution_count": 3,
   "id": "56dc2ce7",
   "metadata": {
    "pycharm": {
     "name": "#%%\n"
    }
   },
   "outputs": [],
   "source": [
    "from signal_ocean import Connection\n",
    "from signal_ocean.scraped_positions import ScrapedPositionsAPI\n",
    "\n",
    "from datetime import datetime, timedelta\n",
    "import pandas as pd\n",
    "import plotly.graph_objects as go"
   ]
  },
  {
   "cell_type": "markdown",
   "id": "66cc1c5e",
   "metadata": {
    "pycharm": {
     "name": "#%% md\n"
    }
   },
   "source": [
    "Create a new instance of the `ScrapedPositionsAPI` class"
   ]
  },
  {
   "cell_type": "code",
   "execution_count": 4,
   "id": "aa6e0f95",
   "metadata": {
    "pycharm": {
     "name": "#%%\n"
    }
   },
   "outputs": [],
   "source": [
    "connection = Connection(signal_ocean_api_key)\n",
    "api = ScrapedPositionsAPI(connection)"
   ]
  },
  {
   "cell_type": "markdown",
   "id": "ac46eb60",
   "metadata": {
    "pycharm": {
     "name": "#%% md\n"
    }
   },
   "source": [
    "Now you are ready to retrieve your data"
   ]
  },
  {
   "cell_type": "markdown",
   "id": "67ca4f21",
   "metadata": {
    "pycharm": {
     "name": "#%% md\n"
    }
   },
   "source": [
    "#### Request by date"
   ]
  },
  {
   "cell_type": "markdown",
   "id": "e5603330",
   "metadata": {
    "pycharm": {
     "name": "#%% md\n"
    }
   },
   "source": [
    "To get all tanker positions received the last 4 days, you must declare appropriate `vessel_type` and `received_date_from` variables"
   ]
  },
  {
   "cell_type": "code",
   "execution_count": 5,
   "id": "22d11cfb",
   "metadata": {
    "pycharm": {
     "name": "#%%\n"
    }
   },
   "outputs": [],
   "source": [
    "vessel_type = 1  # Tanker\n",
    "received_date_from = datetime.utcnow() - timedelta(days=4)"
   ]
  },
  {
   "cell_type": "markdown",
   "id": "901e2f02",
   "metadata": {
    "pycharm": {
     "name": "#%% md\n"
    }
   },
   "source": [
    "And then call `get_positions` method, as below"
   ]
  },
  {
   "cell_type": "code",
   "execution_count": 6,
   "id": "0b63f285",
   "metadata": {
    "pycharm": {
     "name": "#%%\n"
    }
   },
   "outputs": [
    {
     "data": {
      "text/plain": [
       "ScrapedPosition(position_id=280995305, message_id=69566610, external_message_id=None, parsed_part_id=74684036, line_from=5, line_to=5, source='Email', updated_date=datetime.datetime(2024, 7, 29, 8, 58, 8, tzinfo=datetime.timezone.utc), received_date=datetime.datetime(2024, 7, 29, 8, 56, 1, tzinfo=datetime.timezone.utc), is_deleted=False, low_confidence=False, scraped_vessel_name='BLUE SKY I', scraped_deadweight='38402mts', scraped_year_built=None, imo=9335903, vessel_name='Blue Sky I', deadweight=38402, year_built=2006, liquid_capacity=43744, vessel_type_id=1, vessel_type='Tanker', vessel_class_id=89, vessel_class='MR1', scraped_open_date='05/Aug', open_date_from=datetime.datetime(2024, 8, 5, 0, 0, tzinfo=datetime.timezone.utc), open_date_to=datetime.datetime(2024, 8, 5, 0, 0, tzinfo=datetime.timezone.utc), scraped_open_port='Chittagong', open_geo_id=3215, open_name='Chittagong', open_taxonomy_id=2, open_taxonomy='Port', scraped_commercial_operator=None, commercial_operator_id=None, commercial_operator=None, scraped_cargo_type=None, cargo_type_id=None, cargo_type=None, cargo_type_group_id=None, cargo_type_group=None, scraped_last_cargo_types=None, last_cargo_types_ids=None, last_cargo_types=None, has_ballast=False, has_dry_dock=False, has_if=False, has_on_hold=False, has_on_subs=False, has_prompt=False, has_uncertain=False, is_position_list=True, content='Vessel: M/T BLUE SKY I dwt 38402mts open  Chittagong 05/Aug', subject='Harper Petersen Albis - Special Vessel Position - MT BLUE SKY I', sender='harperpetersen.com', is_private=True)"
      ]
     },
     "execution_count": 6,
     "metadata": {},
     "output_type": "execute_result"
    }
   ],
   "source": [
    "scraped_positions = api.get_positions(\n",
    "    vessel_type=vessel_type,\n",
    "    received_date_from=received_date_from,\n",
    ")\n",
    "\n",
    "next(iter(scraped_positions), None)"
   ]
  },
  {
   "cell_type": "markdown",
   "id": "364e0432",
   "metadata": {
    "pycharm": {
     "name": "#%% md\n"
    }
   },
   "source": [
    "For better visualization, it's convenient to insert data into a DataFrame"
   ]
  },
  {
   "cell_type": "code",
   "execution_count": 7,
   "id": "358413fb",
   "metadata": {
    "pycharm": {
     "name": "#%%\n"
    }
   },
   "outputs": [
    {
     "data": {
      "text/html": [
       "<div>\n",
       "<style scoped>\n",
       "    .dataframe tbody tr th:only-of-type {\n",
       "        vertical-align: middle;\n",
       "    }\n",
       "\n",
       "    .dataframe tbody tr th {\n",
       "        vertical-align: top;\n",
       "    }\n",
       "\n",
       "    .dataframe thead th {\n",
       "        text-align: right;\n",
       "    }\n",
       "</style>\n",
       "<table border=\"1\" class=\"dataframe\">\n",
       "  <thead>\n",
       "    <tr style=\"text-align: right;\">\n",
       "      <th></th>\n",
       "      <th>position_id</th>\n",
       "      <th>message_id</th>\n",
       "      <th>external_message_id</th>\n",
       "      <th>parsed_part_id</th>\n",
       "      <th>line_from</th>\n",
       "      <th>line_to</th>\n",
       "      <th>source</th>\n",
       "      <th>updated_date</th>\n",
       "      <th>received_date</th>\n",
       "      <th>is_deleted</th>\n",
       "      <th>...</th>\n",
       "      <th>has_if</th>\n",
       "      <th>has_on_hold</th>\n",
       "      <th>has_on_subs</th>\n",
       "      <th>has_prompt</th>\n",
       "      <th>has_uncertain</th>\n",
       "      <th>is_position_list</th>\n",
       "      <th>content</th>\n",
       "      <th>subject</th>\n",
       "      <th>sender</th>\n",
       "      <th>is_private</th>\n",
       "    </tr>\n",
       "  </thead>\n",
       "  <tbody>\n",
       "    <tr>\n",
       "      <th>0</th>\n",
       "      <td>280995305</td>\n",
       "      <td>69566610</td>\n",
       "      <td>None</td>\n",
       "      <td>74684036</td>\n",
       "      <td>5</td>\n",
       "      <td>5</td>\n",
       "      <td>Email</td>\n",
       "      <td>2024-07-29 08:58:08+00:00</td>\n",
       "      <td>2024-07-29 08:56:01+00:00</td>\n",
       "      <td>False</td>\n",
       "      <td>...</td>\n",
       "      <td>False</td>\n",
       "      <td>False</td>\n",
       "      <td>False</td>\n",
       "      <td>False</td>\n",
       "      <td>False</td>\n",
       "      <td>True</td>\n",
       "      <td>Vessel: M/T BLUE SKY I dwt 38402mts open  Chit...</td>\n",
       "      <td>Harper Petersen Albis - Special Vessel Positio...</td>\n",
       "      <td>harperpetersen.com</td>\n",
       "      <td>True</td>\n",
       "    </tr>\n",
       "    <tr>\n",
       "      <th>1</th>\n",
       "      <td>280996508</td>\n",
       "      <td>69568756</td>\n",
       "      <td>None</td>\n",
       "      <td>74685478</td>\n",
       "      <td>99</td>\n",
       "      <td>99</td>\n",
       "      <td>Email</td>\n",
       "      <td>2024-07-29 09:08:29+00:00</td>\n",
       "      <td>2024-07-29 09:07:57+00:00</td>\n",
       "      <td>False</td>\n",
       "      <td>...</td>\n",
       "      <td>False</td>\n",
       "      <td>False</td>\n",
       "      <td>False</td>\n",
       "      <td>False</td>\n",
       "      <td>False</td>\n",
       "      <td>False</td>\n",
       "      <td>grand winner 5 50 52 21 mackay 09/08 pan ocean...</td>\n",
       "      <td>BRS CPP MR LIST BSS YOSU - 29/07/24</td>\n",
       "      <td>BRS Group</td>\n",
       "      <td>True</td>\n",
       "    </tr>\n",
       "    <tr>\n",
       "      <th>2</th>\n",
       "      <td>280996509</td>\n",
       "      <td>69568756</td>\n",
       "      <td>None</td>\n",
       "      <td>74685478</td>\n",
       "      <td>21</td>\n",
       "      <td>21</td>\n",
       "      <td>Email</td>\n",
       "      <td>2024-07-29 09:08:29+00:00</td>\n",
       "      <td>2024-07-29 09:07:57+00:00</td>\n",
       "      <td>False</td>\n",
       "      <td>...</td>\n",
       "      <td>False</td>\n",
       "      <td>False</td>\n",
       "      <td>True</td>\n",
       "      <td>False</td>\n",
       "      <td>False</td>\n",
       "      <td>False</td>\n",
       "      <td>grand winner 2 49 52 21 mackay 22/07 pan ocean...</td>\n",
       "      <td>BRS CPP MR LIST BSS YOSU - 29/07/24</td>\n",
       "      <td>BRS Group</td>\n",
       "      <td>True</td>\n",
       "    </tr>\n",
       "    <tr>\n",
       "      <th>3</th>\n",
       "      <td>280996510</td>\n",
       "      <td>69568756</td>\n",
       "      <td>None</td>\n",
       "      <td>74685478</td>\n",
       "      <td>110</td>\n",
       "      <td>110</td>\n",
       "      <td>Email</td>\n",
       "      <td>2024-07-29 09:08:29+00:00</td>\n",
       "      <td>2024-07-29 09:07:57+00:00</td>\n",
       "      <td>False</td>\n",
       "      <td>...</td>\n",
       "      <td>False</td>\n",
       "      <td>False</td>\n",
       "      <td>False</td>\n",
       "      <td>False</td>\n",
       "      <td>False</td>\n",
       "      <td>False</td>\n",
       "      <td>grand winner 3 49 52 21 tauranga 08/08 pan oce...</td>\n",
       "      <td>BRS CPP MR LIST BSS YOSU - 29/07/24</td>\n",
       "      <td>BRS Group</td>\n",
       "      <td>True</td>\n",
       "    </tr>\n",
       "    <tr>\n",
       "      <th>4</th>\n",
       "      <td>280996511</td>\n",
       "      <td>69568756</td>\n",
       "      <td>None</td>\n",
       "      <td>74685478</td>\n",
       "      <td>75</td>\n",
       "      <td>75</td>\n",
       "      <td>Email</td>\n",
       "      <td>2024-07-29 09:08:29+00:00</td>\n",
       "      <td>2024-07-29 09:07:57+00:00</td>\n",
       "      <td>False</td>\n",
       "      <td>...</td>\n",
       "      <td>False</td>\n",
       "      <td>False</td>\n",
       "      <td>False</td>\n",
       "      <td>False</td>\n",
       "      <td>False</td>\n",
       "      <td>False</td>\n",
       "      <td>nomiki 44 42 02 pulau laut 05/08 unknown go - ...</td>\n",
       "      <td>BRS CPP MR LIST BSS YOSU - 29/07/24</td>\n",
       "      <td>BRS Group</td>\n",
       "      <td>True</td>\n",
       "    </tr>\n",
       "  </tbody>\n",
       "</table>\n",
       "<p>5 rows × 54 columns</p>\n",
       "</div>"
      ],
      "text/plain": [
       "   position_id  message_id external_message_id  parsed_part_id  line_from  \\\n",
       "0    280995305    69566610                None        74684036          5   \n",
       "1    280996508    69568756                None        74685478         99   \n",
       "2    280996509    69568756                None        74685478         21   \n",
       "3    280996510    69568756                None        74685478        110   \n",
       "4    280996511    69568756                None        74685478         75   \n",
       "\n",
       "   line_to source              updated_date             received_date  \\\n",
       "0        5  Email 2024-07-29 08:58:08+00:00 2024-07-29 08:56:01+00:00   \n",
       "1       99  Email 2024-07-29 09:08:29+00:00 2024-07-29 09:07:57+00:00   \n",
       "2       21  Email 2024-07-29 09:08:29+00:00 2024-07-29 09:07:57+00:00   \n",
       "3      110  Email 2024-07-29 09:08:29+00:00 2024-07-29 09:07:57+00:00   \n",
       "4       75  Email 2024-07-29 09:08:29+00:00 2024-07-29 09:07:57+00:00   \n",
       "\n",
       "   is_deleted  ...  has_if has_on_hold has_on_subs has_prompt  has_uncertain  \\\n",
       "0       False  ...   False       False       False      False          False   \n",
       "1       False  ...   False       False       False      False          False   \n",
       "2       False  ...   False       False        True      False          False   \n",
       "3       False  ...   False       False       False      False          False   \n",
       "4       False  ...   False       False       False      False          False   \n",
       "\n",
       "  is_position_list                                            content  \\\n",
       "0             True  Vessel: M/T BLUE SKY I dwt 38402mts open  Chit...   \n",
       "1            False  grand winner 5 50 52 21 mackay 09/08 pan ocean...   \n",
       "2            False  grand winner 2 49 52 21 mackay 22/07 pan ocean...   \n",
       "3            False  grand winner 3 49 52 21 tauranga 08/08 pan oce...   \n",
       "4            False  nomiki 44 42 02 pulau laut 05/08 unknown go - ...   \n",
       "\n",
       "                                             subject              sender  \\\n",
       "0  Harper Petersen Albis - Special Vessel Positio...  harperpetersen.com   \n",
       "1                BRS CPP MR LIST BSS YOSU - 29/07/24           BRS Group   \n",
       "2                BRS CPP MR LIST BSS YOSU - 29/07/24           BRS Group   \n",
       "3                BRS CPP MR LIST BSS YOSU - 29/07/24           BRS Group   \n",
       "4                BRS CPP MR LIST BSS YOSU - 29/07/24           BRS Group   \n",
       "\n",
       "   is_private  \n",
       "0        True  \n",
       "1        True  \n",
       "2        True  \n",
       "3        True  \n",
       "4        True  \n",
       "\n",
       "[5 rows x 54 columns]"
      ]
     },
     "execution_count": 7,
     "metadata": {},
     "output_type": "execute_result"
    }
   ],
   "source": [
    "df = pd.DataFrame(scraped_positions)\n",
    "\n",
    "df.head()"
   ]
  },
  {
   "cell_type": "markdown",
   "id": "5db75e56",
   "metadata": {
    "pycharm": {
     "name": "#%% md\n"
    }
   },
   "source": [
    "#### Request by IMOs"
   ]
  },
  {
   "cell_type": "markdown",
   "id": "b49f5daf",
   "metadata": {
    "pycharm": {
     "name": "#%% md\n"
    }
   },
   "source": [
    "To get positions for specific vessel(s) by their IMO number(s), you can simple call the `get_positions` method for a list of desired IMO(s)"
   ]
  },
  {
   "cell_type": "markdown",
   "id": "306105a5",
   "metadata": {
    "pycharm": {
     "name": "#%% md\n"
    }
   },
   "source": [
    "Adding some date argument is always feasible"
   ]
  },
  {
   "cell_type": "code",
   "execution_count": 8,
   "id": "d8059faf",
   "metadata": {
    "pycharm": {
     "name": "#%%\n"
    }
   },
   "outputs": [
    {
     "data": {
      "text/html": [
       "<div>\n",
       "<style scoped>\n",
       "    .dataframe tbody tr th:only-of-type {\n",
       "        vertical-align: middle;\n",
       "    }\n",
       "\n",
       "    .dataframe tbody tr th {\n",
       "        vertical-align: top;\n",
       "    }\n",
       "\n",
       "    .dataframe thead th {\n",
       "        text-align: right;\n",
       "    }\n",
       "</style>\n",
       "<table border=\"1\" class=\"dataframe\">\n",
       "  <thead>\n",
       "    <tr style=\"text-align: right;\">\n",
       "      <th></th>\n",
       "      <th>position_id</th>\n",
       "      <th>message_id</th>\n",
       "      <th>external_message_id</th>\n",
       "      <th>parsed_part_id</th>\n",
       "      <th>line_from</th>\n",
       "      <th>line_to</th>\n",
       "      <th>source</th>\n",
       "      <th>updated_date</th>\n",
       "      <th>received_date</th>\n",
       "      <th>is_deleted</th>\n",
       "      <th>...</th>\n",
       "      <th>has_if</th>\n",
       "      <th>has_on_hold</th>\n",
       "      <th>has_on_subs</th>\n",
       "      <th>has_prompt</th>\n",
       "      <th>has_uncertain</th>\n",
       "      <th>is_position_list</th>\n",
       "      <th>content</th>\n",
       "      <th>subject</th>\n",
       "      <th>sender</th>\n",
       "      <th>is_private</th>\n",
       "    </tr>\n",
       "  </thead>\n",
       "  <tbody>\n",
       "    <tr>\n",
       "      <th>0</th>\n",
       "      <td>281075434</td>\n",
       "      <td>69600287</td>\n",
       "      <td>None</td>\n",
       "      <td>74706024</td>\n",
       "      <td>10</td>\n",
       "      <td>10</td>\n",
       "      <td>Email</td>\n",
       "      <td>2024-07-29 12:55:06+00:00</td>\n",
       "      <td>2024-07-29 12:54:33+00:00</td>\n",
       "      <td>False</td>\n",
       "      <td>...</td>\n",
       "      <td>False</td>\n",
       "      <td>False</td>\n",
       "      <td>False</td>\n",
       "      <td>False</td>\n",
       "      <td>False</td>\n",
       "      <td>False</td>\n",
       "      <td>30/07 aegean vision arcadia 158 17 dty 29/07 a...</td>\n",
       "      <td>SIDI KERIR SUEZMAX POSITIONS LIST  29TH JUL  2024</td>\n",
       "      <td>Bravo Tankers</td>\n",
       "      <td>True</td>\n",
       "    </tr>\n",
       "    <tr>\n",
       "      <th>1</th>\n",
       "      <td>281075440</td>\n",
       "      <td>69600287</td>\n",
       "      <td>None</td>\n",
       "      <td>74706024</td>\n",
       "      <td>42</td>\n",
       "      <td>42</td>\n",
       "      <td>Email</td>\n",
       "      <td>2024-07-29 12:55:06+00:00</td>\n",
       "      <td>2024-07-29 12:54:33+00:00</td>\n",
       "      <td>False</td>\n",
       "      <td>...</td>\n",
       "      <td>False</td>\n",
       "      <td>False</td>\n",
       "      <td>False</td>\n",
       "      <td>False</td>\n",
       "      <td>False</td>\n",
       "      <td>False</td>\n",
       "      <td>09/08 pinnacle spirit teekay 159 08 dty 29/07 ...</td>\n",
       "      <td>SIDI KERIR SUEZMAX POSITIONS LIST  29TH JUL  2024</td>\n",
       "      <td>Bravo Tankers</td>\n",
       "      <td>True</td>\n",
       "    </tr>\n",
       "    <tr>\n",
       "      <th>2</th>\n",
       "      <td>281139185</td>\n",
       "      <td>69611578</td>\n",
       "      <td>None</td>\n",
       "      <td>74714401</td>\n",
       "      <td>56</td>\n",
       "      <td>56</td>\n",
       "      <td>Email</td>\n",
       "      <td>2024-07-29 15:01:49+00:00</td>\n",
       "      <td>2024-07-29 14:59:22+00:00</td>\n",
       "      <td>False</td>\n",
       "      <td>...</td>\n",
       "      <td>False</td>\n",
       "      <td>False</td>\n",
       "      <td>False</td>\n",
       "      <td>False</td>\n",
       "      <td>False</td>\n",
       "      <td>False</td>\n",
       "      <td>14-aug pinnacle spirit 160 08 wilhelmshaven 29...</td>\n",
       "      <td>GALBRAITHS SUEZMAX LIST BASIS USG</td>\n",
       "      <td>Ifchor Galbraiths</td>\n",
       "      <td>True</td>\n",
       "    </tr>\n",
       "    <tr>\n",
       "      <th>3</th>\n",
       "      <td>281139194</td>\n",
       "      <td>69611578</td>\n",
       "      <td>None</td>\n",
       "      <td>74714401</td>\n",
       "      <td>7</td>\n",
       "      <td>7</td>\n",
       "      <td>Email</td>\n",
       "      <td>2024-07-29 15:01:49+00:00</td>\n",
       "      <td>2024-07-29 14:59:22+00:00</td>\n",
       "      <td>False</td>\n",
       "      <td>...</td>\n",
       "      <td>True</td>\n",
       "      <td>False</td>\n",
       "      <td>False</td>\n",
       "      <td>False</td>\n",
       "      <td>False</td>\n",
       "      <td>False</td>\n",
       "      <td>2-aug cape benat 157 10 houston 2-aug maersk proj</td>\n",
       "      <td>GALBRAITHS SUEZMAX LIST BASIS USG</td>\n",
       "      <td>Ifchor Galbraiths</td>\n",
       "      <td>True</td>\n",
       "    </tr>\n",
       "    <tr>\n",
       "      <th>4</th>\n",
       "      <td>281161463</td>\n",
       "      <td>69615532</td>\n",
       "      <td>None</td>\n",
       "      <td>74717700</td>\n",
       "      <td>69</td>\n",
       "      <td>69</td>\n",
       "      <td>Email</td>\n",
       "      <td>2024-07-29 16:03:05+00:00</td>\n",
       "      <td>2024-07-29 16:00:47+00:00</td>\n",
       "      <td>False</td>\n",
       "      <td>...</td>\n",
       "      <td>False</td>\n",
       "      <td>False</td>\n",
       "      <td>False</td>\n",
       "      <td>False</td>\n",
       "      <td>False</td>\n",
       "      <td>False</td>\n",
       "      <td>16-aug pinnacle spirit 159 08 wilhelmshaven 29...</td>\n",
       "      <td>MJLF USG SUEZMAX POSITIONS</td>\n",
       "      <td>MJLF</td>\n",
       "      <td>False</td>\n",
       "    </tr>\n",
       "  </tbody>\n",
       "</table>\n",
       "<p>5 rows × 54 columns</p>\n",
       "</div>"
      ],
      "text/plain": [
       "   position_id  message_id external_message_id  parsed_part_id  line_from  \\\n",
       "0    281075434    69600287                None        74706024         10   \n",
       "1    281075440    69600287                None        74706024         42   \n",
       "2    281139185    69611578                None        74714401         56   \n",
       "3    281139194    69611578                None        74714401          7   \n",
       "4    281161463    69615532                None        74717700         69   \n",
       "\n",
       "   line_to source              updated_date             received_date  \\\n",
       "0       10  Email 2024-07-29 12:55:06+00:00 2024-07-29 12:54:33+00:00   \n",
       "1       42  Email 2024-07-29 12:55:06+00:00 2024-07-29 12:54:33+00:00   \n",
       "2       56  Email 2024-07-29 15:01:49+00:00 2024-07-29 14:59:22+00:00   \n",
       "3        7  Email 2024-07-29 15:01:49+00:00 2024-07-29 14:59:22+00:00   \n",
       "4       69  Email 2024-07-29 16:03:05+00:00 2024-07-29 16:00:47+00:00   \n",
       "\n",
       "   is_deleted  ...  has_if has_on_hold has_on_subs has_prompt  has_uncertain  \\\n",
       "0       False  ...   False       False       False      False          False   \n",
       "1       False  ...   False       False       False      False          False   \n",
       "2       False  ...   False       False       False      False          False   \n",
       "3       False  ...    True       False       False      False          False   \n",
       "4       False  ...   False       False       False      False          False   \n",
       "\n",
       "  is_position_list                                            content  \\\n",
       "0            False  30/07 aegean vision arcadia 158 17 dty 29/07 a...   \n",
       "1            False  09/08 pinnacle spirit teekay 159 08 dty 29/07 ...   \n",
       "2            False  14-aug pinnacle spirit 160 08 wilhelmshaven 29...   \n",
       "3            False  2-aug cape benat 157 10 houston 2-aug maersk proj   \n",
       "4            False  16-aug pinnacle spirit 159 08 wilhelmshaven 29...   \n",
       "\n",
       "                                             subject             sender  \\\n",
       "0  SIDI KERIR SUEZMAX POSITIONS LIST  29TH JUL  2024      Bravo Tankers   \n",
       "1  SIDI KERIR SUEZMAX POSITIONS LIST  29TH JUL  2024      Bravo Tankers   \n",
       "2                  GALBRAITHS SUEZMAX LIST BASIS USG  Ifchor Galbraiths   \n",
       "3                  GALBRAITHS SUEZMAX LIST BASIS USG  Ifchor Galbraiths   \n",
       "4                         MJLF USG SUEZMAX POSITIONS               MJLF   \n",
       "\n",
       "   is_private  \n",
       "0        True  \n",
       "1        True  \n",
       "2        True  \n",
       "3        True  \n",
       "4       False  \n",
       "\n",
       "[5 rows x 54 columns]"
      ]
     },
     "execution_count": 8,
     "metadata": {},
     "output_type": "execute_result"
    }
   ],
   "source": [
    "imos = [9321720,9385192,9325049,9406013,9645437]  # Or add a list of your desired IMOs\n",
    "\n",
    "scraped_positions_by_imos = api.get_positions(\n",
    "    vessel_type=vessel_type,\n",
    "    received_date_from=received_date_from,\n",
    "    imos=imos,\n",
    ")\n",
    "\n",
    "df_by_imos = pd.DataFrame(scraped_positions_by_imos)\n",
    "df_by_imos.head()"
   ]
  },
  {
   "cell_type": "markdown",
   "id": "b6e318db-5de8-4d56-bd32-7a49e3407350",
   "metadata": {
    "pycharm": {
     "name": "#%% md\n"
    }
   },
   "source": [
    "#### Request by Message or ExternalMessage IDs"
   ]
  },
  {
   "cell_type": "markdown",
   "id": "db45c12e-9bd9-4e4e-a413-d4075c15840a",
   "metadata": {
    "pycharm": {
     "name": "#%% md\n"
    }
   },
   "source": [
    "To retrieve positions for particular message ID(s), you should include an extra parameter called `message_ids` when using the `get_positions` method. This parameter should contain a list of message IDs. For instance,"
   ]
  },
  {
   "cell_type": "code",
   "execution_count": 9,
   "id": "cdbc4731-6a9b-4b03-9fd7-1c89c0abd7f5",
   "metadata": {
    "pycharm": {
     "name": "#%%\n"
    }
   },
   "outputs": [
    {
     "data": {
      "text/plain": [
       "ScrapedPosition(position_id=231186063, message_id=47238320, external_message_id=None, parsed_part_id=58295114, line_from=75, line_to=75, source='Email', updated_date=datetime.datetime(2023, 9, 11, 13, 40, 25, tzinfo=datetime.timezone.utc), received_date=datetime.datetime(2023, 9, 11, 13, 36, 39, tzinfo=datetime.timezone.utc), is_deleted=False, low_confidence=False, scraped_vessel_name='t.kurucesme', scraped_deadweight='105', scraped_year_built='15', imo=9692478, vessel_name='T. Kurucesme', deadweight=105171, year_built=2015, liquid_capacity=116922, vessel_type_id=1, vessel_type='Tanker', vessel_class_id=86, vessel_class='Aframax', scraped_open_date='28/09', open_date_from=datetime.datetime(2023, 9, 28, 0, 0, tzinfo=datetime.timezone.utc), open_date_to=datetime.datetime(2023, 9, 28, 0, 0, tzinfo=datetime.timezone.utc), scraped_open_port='milazzo', open_geo_id=3557, open_name='Milazzo', open_taxonomy_id=2, open_taxonomy='Port', scraped_commercial_operator='ditas', commercial_operator_id=412, commercial_operator='Ditas Deniz', scraped_cargo_type=None, cargo_type_id=None, cargo_type=None, cargo_type_group_id=None, cargo_type_group=None, scraped_last_cargo_types=None, last_cargo_types_ids=None, last_cargo_types=None, has_ballast=False, has_dry_dock=False, has_if=True, has_on_hold=False, has_on_subs=False, has_prompt=False, has_uncertain=False, is_position_list=False, content='t.kurucesme ditas 105 15 milazzo 28/09 2 prjctng x usg', subject='aframax med-blsea and ukc-balt position list(s) ...', sender='Banchero & Costa', is_private=False)"
      ]
     },
     "execution_count": 9,
     "metadata": {},
     "output_type": "execute_result"
    }
   ],
   "source": [
    "message_ids = [47238320,47244008,47244573,69350262,69348062]\n",
    "scraped_positions_by_message_ids = api.get_positions(\n",
    "    vessel_type=vessel_type,\n",
    "    message_ids=message_ids,\n",
    ")\n",
    "\n",
    "next(iter(scraped_positions_by_message_ids), None)"
   ]
  },
  {
   "cell_type": "markdown",
   "id": "9f1efe75-0bc9-4fb3-ad1d-280bd02cd682",
   "metadata": {
    "pycharm": {
     "name": "#%% md\n"
    }
   },
   "source": [
    "You can achieve a similar result for external message IDs by providing an argument called `external_message_ids`."
   ]
  },
  {
   "cell_type": "markdown",
   "id": "cc98a36f",
   "metadata": {
    "pycharm": {
     "name": "#%% md\n"
    }
   },
   "source": [
    "#### Request by Position IDs"
   ]
  },
  {
   "cell_type": "markdown",
   "id": "2d99663e",
   "metadata": {
    "pycharm": {
     "name": "#%% md\n"
    }
   },
   "source": [
    "In the same manner, to get data for specific position ID(s), you must call the `get_positions` method for a list of desired position ID(s)"
   ]
  },
  {
   "cell_type": "markdown",
   "id": "cbc01780",
   "metadata": {
    "pycharm": {
     "name": "#%% md\n"
    }
   },
   "source": [
    "Date arguments are not available in this method"
   ]
  },
  {
   "cell_type": "code",
   "execution_count": 10,
   "id": "34a6cd05",
   "metadata": {
    "pycharm": {
     "name": "#%%\n"
    }
   },
   "outputs": [
    {
     "data": {
      "text/html": [
       "<div>\n",
       "<style scoped>\n",
       "    .dataframe tbody tr th:only-of-type {\n",
       "        vertical-align: middle;\n",
       "    }\n",
       "\n",
       "    .dataframe tbody tr th {\n",
       "        vertical-align: top;\n",
       "    }\n",
       "\n",
       "    .dataframe thead th {\n",
       "        text-align: right;\n",
       "    }\n",
       "</style>\n",
       "<table border=\"1\" class=\"dataframe\">\n",
       "  <thead>\n",
       "    <tr style=\"text-align: right;\">\n",
       "      <th></th>\n",
       "      <th>position_id</th>\n",
       "      <th>message_id</th>\n",
       "      <th>external_message_id</th>\n",
       "      <th>parsed_part_id</th>\n",
       "      <th>line_from</th>\n",
       "      <th>line_to</th>\n",
       "      <th>source</th>\n",
       "      <th>updated_date</th>\n",
       "      <th>received_date</th>\n",
       "      <th>is_deleted</th>\n",
       "      <th>...</th>\n",
       "      <th>has_if</th>\n",
       "      <th>has_on_hold</th>\n",
       "      <th>has_on_subs</th>\n",
       "      <th>has_prompt</th>\n",
       "      <th>has_uncertain</th>\n",
       "      <th>is_position_list</th>\n",
       "      <th>content</th>\n",
       "      <th>subject</th>\n",
       "      <th>sender</th>\n",
       "      <th>is_private</th>\n",
       "    </tr>\n",
       "  </thead>\n",
       "  <tbody>\n",
       "    <tr>\n",
       "      <th>0</th>\n",
       "      <td>182459667</td>\n",
       "      <td>30791168</td>\n",
       "      <td>None</td>\n",
       "      <td>45785098</td>\n",
       "      <td>21</td>\n",
       "      <td>21</td>\n",
       "      <td>Email</td>\n",
       "      <td>2022-11-17 11:57:58+00:00</td>\n",
       "      <td>2022-11-17 11:54:41+00:00</td>\n",
       "      <td>False</td>\n",
       "      <td>...</td>\n",
       "      <td>False</td>\n",
       "      <td>False</td>\n",
       "      <td>False</td>\n",
       "      <td>False</td>\n",
       "      <td>False</td>\n",
       "      <td>False</td>\n",
       "      <td>20/11 SEASHARK  32  178 37,947  11.00 GER 04  ...</td>\n",
       "      <td>SIMPSON|SPENCE|YOUNG LTD – HANDY LIST (BASIS M...</td>\n",
       "      <td>SSY</td>\n",
       "      <td>False</td>\n",
       "    </tr>\n",
       "    <tr>\n",
       "      <th>1</th>\n",
       "      <td>182459702</td>\n",
       "      <td>30791168</td>\n",
       "      <td>None</td>\n",
       "      <td>45785098</td>\n",
       "      <td>59</td>\n",
       "      <td>59</td>\n",
       "      <td>Email</td>\n",
       "      <td>2022-11-17 11:57:58+00:00</td>\n",
       "      <td>2022-11-17 11:54:41+00:00</td>\n",
       "      <td>False</td>\n",
       "      <td>...</td>\n",
       "      <td>False</td>\n",
       "      <td>False</td>\n",
       "      <td>False</td>\n",
       "      <td>False</td>\n",
       "      <td>False</td>\n",
       "      <td>False</td>\n",
       "      <td>27/11 MOUNT OLYMPUS  40  182 42,241  11.97 MAR...</td>\n",
       "      <td>SIMPSON|SPENCE|YOUNG LTD – HANDY LIST (BASIS M...</td>\n",
       "      <td>SSY</td>\n",
       "      <td>False</td>\n",
       "    </tr>\n",
       "    <tr>\n",
       "      <th>2</th>\n",
       "      <td>182508037</td>\n",
       "      <td>30800115</td>\n",
       "      <td>None</td>\n",
       "      <td>45793950</td>\n",
       "      <td>27</td>\n",
       "      <td>27</td>\n",
       "      <td>Email</td>\n",
       "      <td>2022-11-17 15:27:04+00:00</td>\n",
       "      <td>2022-11-17 15:23:16+00:00</td>\n",
       "      <td>False</td>\n",
       "      <td>...</td>\n",
       "      <td>False</td>\n",
       "      <td>False</td>\n",
       "      <td>False</td>\n",
       "      <td>False</td>\n",
       "      <td>False</td>\n",
       "      <td>False</td>\n",
       "      <td>ardmore exporter 49 52 14 yabucoa 19/11 ardmor...</td>\n",
       "      <td>MJLF MR LIST BSS HOUSTON NOV 17</td>\n",
       "      <td>MJLF</td>\n",
       "      <td>False</td>\n",
       "    </tr>\n",
       "    <tr>\n",
       "      <th>3</th>\n",
       "      <td>182624943</td>\n",
       "      <td>30849799</td>\n",
       "      <td>None</td>\n",
       "      <td>45839901</td>\n",
       "      <td>88</td>\n",
       "      <td>88</td>\n",
       "      <td>Email</td>\n",
       "      <td>2022-11-18 16:58:54+00:00</td>\n",
       "      <td>2022-11-18 16:55:19+00:00</td>\n",
       "      <td>False</td>\n",
       "      <td>...</td>\n",
       "      <td>False</td>\n",
       "      <td>False</td>\n",
       "      <td>False</td>\n",
       "      <td>False</td>\n",
       "      <td>False</td>\n",
       "      <td>False</td>\n",
       "      <td>14-dec advantage spice 156 10 48.1 rotterdam 2...</td>\n",
       "      <td>MJLF USG SUEZMAX POSITIONS</td>\n",
       "      <td>MJLF</td>\n",
       "      <td>False</td>\n",
       "    </tr>\n",
       "    <tr>\n",
       "      <th>4</th>\n",
       "      <td>182624998</td>\n",
       "      <td>30849799</td>\n",
       "      <td>None</td>\n",
       "      <td>45839901</td>\n",
       "      <td>12</td>\n",
       "      <td>12</td>\n",
       "      <td>Email</td>\n",
       "      <td>2022-11-18 16:58:54+00:00</td>\n",
       "      <td>2022-11-18 16:55:19+00:00</td>\n",
       "      <td>False</td>\n",
       "      <td>...</td>\n",
       "      <td>True</td>\n",
       "      <td>False</td>\n",
       "      <td>False</td>\n",
       "      <td>False</td>\n",
       "      <td>False</td>\n",
       "      <td>False</td>\n",
       "      <td>26-nov proj eagle san pedro 157 12 49.0 off ga...</td>\n",
       "      <td>MJLF USG SUEZMAX POSITIONS</td>\n",
       "      <td>MJLF</td>\n",
       "      <td>False</td>\n",
       "    </tr>\n",
       "  </tbody>\n",
       "</table>\n",
       "<p>5 rows × 54 columns</p>\n",
       "</div>"
      ],
      "text/plain": [
       "   position_id  message_id external_message_id  parsed_part_id  line_from  \\\n",
       "0    182459667    30791168                None        45785098         21   \n",
       "1    182459702    30791168                None        45785098         59   \n",
       "2    182508037    30800115                None        45793950         27   \n",
       "3    182624943    30849799                None        45839901         88   \n",
       "4    182624998    30849799                None        45839901         12   \n",
       "\n",
       "   line_to source              updated_date             received_date  \\\n",
       "0       21  Email 2022-11-17 11:57:58+00:00 2022-11-17 11:54:41+00:00   \n",
       "1       59  Email 2022-11-17 11:57:58+00:00 2022-11-17 11:54:41+00:00   \n",
       "2       27  Email 2022-11-17 15:27:04+00:00 2022-11-17 15:23:16+00:00   \n",
       "3       88  Email 2022-11-18 16:58:54+00:00 2022-11-18 16:55:19+00:00   \n",
       "4       12  Email 2022-11-18 16:58:54+00:00 2022-11-18 16:55:19+00:00   \n",
       "\n",
       "   is_deleted  ...  has_if has_on_hold has_on_subs has_prompt  has_uncertain  \\\n",
       "0       False  ...   False       False       False      False          False   \n",
       "1       False  ...   False       False       False      False          False   \n",
       "2       False  ...   False       False       False      False          False   \n",
       "3       False  ...   False       False       False      False          False   \n",
       "4       False  ...    True       False       False      False          False   \n",
       "\n",
       "  is_position_list                                            content  \\\n",
       "0            False  20/11 SEASHARK  32  178 37,947  11.00 GER 04  ...   \n",
       "1            False  27/11 MOUNT OLYMPUS  40  182 42,241  11.97 MAR...   \n",
       "2            False  ardmore exporter 49 52 14 yabucoa 19/11 ardmor...   \n",
       "3            False  14-dec advantage spice 156 10 48.1 rotterdam 2...   \n",
       "4            False  26-nov proj eagle san pedro 157 12 49.0 off ga...   \n",
       "\n",
       "                                             subject  sender  is_private  \n",
       "0  SIMPSON|SPENCE|YOUNG LTD – HANDY LIST (BASIS M...     SSY       False  \n",
       "1  SIMPSON|SPENCE|YOUNG LTD – HANDY LIST (BASIS M...     SSY       False  \n",
       "2                    MJLF MR LIST BSS HOUSTON NOV 17    MJLF       False  \n",
       "3                         MJLF USG SUEZMAX POSITIONS    MJLF       False  \n",
       "4                         MJLF USG SUEZMAX POSITIONS    MJLF       False  \n",
       "\n",
       "[5 rows x 54 columns]"
      ]
     },
     "execution_count": 10,
     "metadata": {},
     "output_type": "execute_result"
    }
   ],
   "source": [
    "position_ids = [182459667,182459702,182624943,182624998,182508037]  # Or add a list of your desired position IDs\n",
    "\n",
    "scraped_positions_by_ids = api.get_positions(\n",
    "    vessel_type=vessel_type,\n",
    "    position_ids=position_ids,\n",
    ")\n",
    "\n",
    "df_by_ids = pd.DataFrame(scraped_positions_by_ids)\n",
    "df_by_ids.head()"
   ]
  },
  {
   "cell_type": "markdown",
   "id": "9ac09ead-8b99-49e0-91d8-766d49218271",
   "metadata": {
    "pycharm": {
     "name": "#%% md\n"
    }
   },
   "source": [
    "#### Retrieve incremental token\n",
    "The `get_positions_incremental_token` allows retrieval of `page_token` by adding the `updated_date_from` value.\n",
    "This `page_token` can be used as a variable to the `get_positions_incremental` method, in order to retrieve only new or updated positions.\n"
   ]
  },
  {
   "cell_type": "markdown",
   "id": "1ceffb80-bd95-44c6-80d7-5e1e6b8d1c91",
   "metadata": {
    "pycharm": {
     "name": "#%% md\n"
    }
   },
   "source": [
    "For instance, to retrieve the relevant page token for last 3 days' data, you must call the `get_positions_incremental_token`, as below"
   ]
  },
  {
   "cell_type": "code",
   "execution_count": 11,
   "id": "3b8ee86d-f5b5-45e9-b7ba-a8ed24c7609b",
   "metadata": {},
   "outputs": [
    {
     "data": {
      "text/plain": [
       "'MjAyNC0wNy0zMFQwODo1MDoxOC4wMDBa'"
      ]
     },
     "execution_count": 11,
     "metadata": {},
     "output_type": "execute_result"
    }
   ],
   "source": [
    "updated_date_from = datetime.utcnow() - timedelta(days=3)\n",
    "page_token = api.get_positions_incremental_token(\n",
    "    updated_date_from=updated_date_from,\n",
    ")\n",
    "\n",
    "page_token"
   ]
  },
  {
   "cell_type": "markdown",
   "id": "13ba5374",
   "metadata": {
    "pycharm": {
     "name": "#%% md\n"
    }
   },
   "source": [
    "#### Request by page token"
   ]
  },
  {
   "cell_type": "markdown",
   "id": "3594caad-0fbd-47ff-acb5-357305411854",
   "metadata": {
    "pycharm": {
     "name": "#%% md\n"
    }
   },
   "source": [
    "If the `page_token` parameter is not specified, the `get_positions_incremental` method will retrieve all positions. You can call the `get_positions_incremental` method, as below\n",
    "\n"
   ]
  },
  {
   "cell_type": "code",
   "execution_count": 12,
   "id": "c6f860e8-7e54-449b-979f-4f9ff2aa6288",
   "metadata": {},
   "outputs": [
    {
     "data": {
      "text/html": [
       "<div>\n",
       "<style scoped>\n",
       "    .dataframe tbody tr th:only-of-type {\n",
       "        vertical-align: middle;\n",
       "    }\n",
       "\n",
       "    .dataframe tbody tr th {\n",
       "        vertical-align: top;\n",
       "    }\n",
       "\n",
       "    .dataframe thead th {\n",
       "        text-align: right;\n",
       "    }\n",
       "</style>\n",
       "<table border=\"1\" class=\"dataframe\">\n",
       "  <thead>\n",
       "    <tr style=\"text-align: right;\">\n",
       "      <th></th>\n",
       "      <th>position_id</th>\n",
       "      <th>message_id</th>\n",
       "      <th>external_message_id</th>\n",
       "      <th>parsed_part_id</th>\n",
       "      <th>line_from</th>\n",
       "      <th>line_to</th>\n",
       "      <th>source</th>\n",
       "      <th>updated_date</th>\n",
       "      <th>received_date</th>\n",
       "      <th>is_deleted</th>\n",
       "      <th>...</th>\n",
       "      <th>has_if</th>\n",
       "      <th>has_on_hold</th>\n",
       "      <th>has_on_subs</th>\n",
       "      <th>has_prompt</th>\n",
       "      <th>has_uncertain</th>\n",
       "      <th>is_position_list</th>\n",
       "      <th>content</th>\n",
       "      <th>subject</th>\n",
       "      <th>sender</th>\n",
       "      <th>is_private</th>\n",
       "    </tr>\n",
       "  </thead>\n",
       "  <tbody>\n",
       "    <tr>\n",
       "      <th>0</th>\n",
       "      <td>281297965</td>\n",
       "      <td>69693869</td>\n",
       "      <td>None</td>\n",
       "      <td>74767967.0</td>\n",
       "      <td>43.0</td>\n",
       "      <td>43.0</td>\n",
       "      <td>Email</td>\n",
       "      <td>2024-07-30 09:15:14+00:00</td>\n",
       "      <td>2024-07-30 09:12:43+00:00</td>\n",
       "      <td>False</td>\n",
       "      <td>...</td>\n",
       "      <td>True</td>\n",
       "      <td>False</td>\n",
       "      <td>False</td>\n",
       "      <td>False</td>\n",
       "      <td>False</td>\n",
       "      <td>False</td>\n",
       "      <td>15/08 ncc danah 46 183 52590 12.17 sau 11 gibr...</td>\n",
       "      <td>SSY – MR LIST (BASIS MALTA) – TUESDAY 30TH JUL...</td>\n",
       "      <td>SSY</td>\n",
       "      <td>False</td>\n",
       "    </tr>\n",
       "    <tr>\n",
       "      <th>1</th>\n",
       "      <td>281297976</td>\n",
       "      <td>69693869</td>\n",
       "      <td>None</td>\n",
       "      <td>74767967.0</td>\n",
       "      <td>45.0</td>\n",
       "      <td>45.0</td>\n",
       "      <td>Email</td>\n",
       "      <td>2024-07-30 09:15:14+00:00</td>\n",
       "      <td>2024-07-30 09:12:43+00:00</td>\n",
       "      <td>False</td>\n",
       "      <td>...</td>\n",
       "      <td>False</td>\n",
       "      <td>False</td>\n",
       "      <td>False</td>\n",
       "      <td>False</td>\n",
       "      <td>False</td>\n",
       "      <td>False</td>\n",
       "      <td>20/08 uog constantine g 50 183 53879 13.14 lib...</td>\n",
       "      <td>SSY – MR LIST (BASIS MALTA) – TUESDAY 30TH JUL...</td>\n",
       "      <td>SSY</td>\n",
       "      <td>False</td>\n",
       "    </tr>\n",
       "    <tr>\n",
       "      <th>2</th>\n",
       "      <td>281297977</td>\n",
       "      <td>69693869</td>\n",
       "      <td>None</td>\n",
       "      <td>74767967.0</td>\n",
       "      <td>40.0</td>\n",
       "      <td>40.0</td>\n",
       "      <td>Email</td>\n",
       "      <td>2024-07-30 09:15:14+00:00</td>\n",
       "      <td>2024-07-30 09:12:43+00:00</td>\n",
       "      <td>False</td>\n",
       "      <td>...</td>\n",
       "      <td>False</td>\n",
       "      <td>False</td>\n",
       "      <td>False</td>\n",
       "      <td>False</td>\n",
       "      <td>True</td>\n",
       "      <td>False</td>\n",
       "      <td>14/08 arvin 47 183 53184 12.22 lib 08 gaeta 13...</td>\n",
       "      <td>SSY – MR LIST (BASIS MALTA) – TUESDAY 30TH JUL...</td>\n",
       "      <td>SSY</td>\n",
       "      <td>False</td>\n",
       "    </tr>\n",
       "    <tr>\n",
       "      <th>3</th>\n",
       "      <td>281297978</td>\n",
       "      <td>69693869</td>\n",
       "      <td>None</td>\n",
       "      <td>74767967.0</td>\n",
       "      <td>39.0</td>\n",
       "      <td>39.0</td>\n",
       "      <td>Email</td>\n",
       "      <td>2024-07-30 09:15:14+00:00</td>\n",
       "      <td>2024-07-30 09:12:43+00:00</td>\n",
       "      <td>False</td>\n",
       "      <td>...</td>\n",
       "      <td>False</td>\n",
       "      <td>False</td>\n",
       "      <td>False</td>\n",
       "      <td>False</td>\n",
       "      <td>True</td>\n",
       "      <td>False</td>\n",
       "      <td>14/08 hakata princess 50 183 56949 13.10 pan 1...</td>\n",
       "      <td>SSY – MR LIST (BASIS MALTA) – TUESDAY 30TH JUL...</td>\n",
       "      <td>SSY</td>\n",
       "      <td>False</td>\n",
       "    </tr>\n",
       "    <tr>\n",
       "      <th>4</th>\n",
       "      <td>281297979</td>\n",
       "      <td>69693869</td>\n",
       "      <td>None</td>\n",
       "      <td>74767967.0</td>\n",
       "      <td>32.0</td>\n",
       "      <td>32.0</td>\n",
       "      <td>Email</td>\n",
       "      <td>2024-07-30 09:15:14+00:00</td>\n",
       "      <td>2024-07-30 09:12:43+00:00</td>\n",
       "      <td>False</td>\n",
       "      <td>...</td>\n",
       "      <td>False</td>\n",
       "      <td>False</td>\n",
       "      <td>False</td>\n",
       "      <td>False</td>\n",
       "      <td>False</td>\n",
       "      <td>False</td>\n",
       "      <td>11/08 avax 50 183 53658 13.32 mar 23 gibraltar...</td>\n",
       "      <td>SSY – MR LIST (BASIS MALTA) – TUESDAY 30TH JUL...</td>\n",
       "      <td>SSY</td>\n",
       "      <td>False</td>\n",
       "    </tr>\n",
       "  </tbody>\n",
       "</table>\n",
       "<p>5 rows × 54 columns</p>\n",
       "</div>"
      ],
      "text/plain": [
       "   position_id  message_id external_message_id  parsed_part_id  line_from  \\\n",
       "0    281297965    69693869                None      74767967.0       43.0   \n",
       "1    281297976    69693869                None      74767967.0       45.0   \n",
       "2    281297977    69693869                None      74767967.0       40.0   \n",
       "3    281297978    69693869                None      74767967.0       39.0   \n",
       "4    281297979    69693869                None      74767967.0       32.0   \n",
       "\n",
       "   line_to source              updated_date             received_date  \\\n",
       "0     43.0  Email 2024-07-30 09:15:14+00:00 2024-07-30 09:12:43+00:00   \n",
       "1     45.0  Email 2024-07-30 09:15:14+00:00 2024-07-30 09:12:43+00:00   \n",
       "2     40.0  Email 2024-07-30 09:15:14+00:00 2024-07-30 09:12:43+00:00   \n",
       "3     39.0  Email 2024-07-30 09:15:14+00:00 2024-07-30 09:12:43+00:00   \n",
       "4     32.0  Email 2024-07-30 09:15:14+00:00 2024-07-30 09:12:43+00:00   \n",
       "\n",
       "   is_deleted  ...  has_if has_on_hold has_on_subs has_prompt  has_uncertain  \\\n",
       "0       False  ...    True       False       False      False          False   \n",
       "1       False  ...   False       False       False      False          False   \n",
       "2       False  ...   False       False       False      False           True   \n",
       "3       False  ...   False       False       False      False           True   \n",
       "4       False  ...   False       False       False      False          False   \n",
       "\n",
       "  is_position_list                                            content  \\\n",
       "0            False  15/08 ncc danah 46 183 52590 12.17 sau 11 gibr...   \n",
       "1            False  20/08 uog constantine g 50 183 53879 13.14 lib...   \n",
       "2            False  14/08 arvin 47 183 53184 12.22 lib 08 gaeta 13...   \n",
       "3            False  14/08 hakata princess 50 183 56949 13.10 pan 1...   \n",
       "4            False  11/08 avax 50 183 53658 13.32 mar 23 gibraltar...   \n",
       "\n",
       "                                             subject  sender  is_private  \n",
       "0  SSY – MR LIST (BASIS MALTA) – TUESDAY 30TH JUL...     SSY       False  \n",
       "1  SSY – MR LIST (BASIS MALTA) – TUESDAY 30TH JUL...     SSY       False  \n",
       "2  SSY – MR LIST (BASIS MALTA) – TUESDAY 30TH JUL...     SSY       False  \n",
       "3  SSY – MR LIST (BASIS MALTA) – TUESDAY 30TH JUL...     SSY       False  \n",
       "4  SSY – MR LIST (BASIS MALTA) – TUESDAY 30TH JUL...     SSY       False  \n",
       "\n",
       "[5 rows x 54 columns]"
      ]
     },
     "execution_count": 12,
     "metadata": {},
     "output_type": "execute_result"
    }
   ],
   "source": [
    "scraped_positions_incremental = api.get_positions_incremental(\n",
    "    vessel_type=vessel_type,\n",
    "    page_token=page_token,\n",
    ")\n",
    "\n",
    "df_by_ids = pd.DataFrame(scraped_positions_incremental.data)\n",
    "df_by_ids.head()"
   ]
  },
  {
   "cell_type": "markdown",
   "id": "8f1d675a-f240-4433-94dd-ae33f980c5b7",
   "metadata": {
    "pycharm": {
     "name": "#%% md\n"
    }
   },
   "source": [
    "Also, the `get_positions_incremental` method will retrieve the `next_request_token`, which should be used as the `page_token` for the next incremental call and retrieve only new or updated positions."
   ]
  },
  {
   "cell_type": "code",
   "execution_count": 13,
   "id": "0dc528de-0cc4-40b2-8d0a-ff02fbb37620",
   "metadata": {},
   "outputs": [
    {
     "data": {
      "text/plain": [
       "'MjAyNC0wOC0wMlQwODo1MDoxOC45MDha'"
      ]
     },
     "execution_count": 13,
     "metadata": {},
     "output_type": "execute_result"
    }
   ],
   "source": [
    "next_request_token = scraped_positions_incremental.next_request_token\n",
    "\n",
    "next_request_token"
   ]
  },
  {
   "cell_type": "markdown",
   "id": "ce904ba6-6623-419e-9a04-982f5210b27c",
   "metadata": {
    "pycharm": {
     "name": "#%% md\n"
    }
   },
   "source": [
    "#### Usage of optional arguments"
   ]
  },
  {
   "cell_type": "markdown",
   "id": "6153dddd",
   "metadata": {
    "pycharm": {
     "name": "#%% md\n"
    }
   },
   "source": [
    "By default, all fields are returned. In many cases, it is convenient to select specific columns. For example, if we want to compare scraped and mapped fields"
   ]
  },
  {
   "cell_type": "code",
   "execution_count": 14,
   "id": "c9fb0635",
   "metadata": {
    "pycharm": {
     "name": "#%%\n"
    }
   },
   "outputs": [
    {
     "data": {
      "text/html": [
       "<div>\n",
       "<style scoped>\n",
       "    .dataframe tbody tr th:only-of-type {\n",
       "        vertical-align: middle;\n",
       "    }\n",
       "\n",
       "    .dataframe tbody tr th {\n",
       "        vertical-align: top;\n",
       "    }\n",
       "\n",
       "    .dataframe thead th {\n",
       "        text-align: right;\n",
       "    }\n",
       "</style>\n",
       "<table border=\"1\" class=\"dataframe\">\n",
       "  <thead>\n",
       "    <tr style=\"text-align: right;\">\n",
       "      <th></th>\n",
       "      <th>scraped_vessel_name</th>\n",
       "      <th>vessel_name</th>\n",
       "      <th>scraped_deadweight</th>\n",
       "      <th>deadweight</th>\n",
       "      <th>scraped_commercial_operator</th>\n",
       "      <th>commercial_operator</th>\n",
       "      <th>scraped_open_port</th>\n",
       "      <th>open_name</th>\n",
       "    </tr>\n",
       "  </thead>\n",
       "  <tbody>\n",
       "    <tr>\n",
       "      <th>0</th>\n",
       "      <td>BLUE SKY I</td>\n",
       "      <td>Blue Sky I</td>\n",
       "      <td>38402mts</td>\n",
       "      <td>38402.0</td>\n",
       "      <td>None</td>\n",
       "      <td>None</td>\n",
       "      <td>Chittagong</td>\n",
       "      <td>Chittagong</td>\n",
       "    </tr>\n",
       "    <tr>\n",
       "      <th>1</th>\n",
       "      <td>grand winner</td>\n",
       "      <td>None</td>\n",
       "      <td>50</td>\n",
       "      <td>NaN</td>\n",
       "      <td>pan ocean</td>\n",
       "      <td>Pan Ocean</td>\n",
       "      <td>mackay</td>\n",
       "      <td>Mackay</td>\n",
       "    </tr>\n",
       "    <tr>\n",
       "      <th>2</th>\n",
       "      <td>grand winner</td>\n",
       "      <td>None</td>\n",
       "      <td>49</td>\n",
       "      <td>NaN</td>\n",
       "      <td>pan ocean</td>\n",
       "      <td>Pan Ocean</td>\n",
       "      <td>mackay</td>\n",
       "      <td>Mackay</td>\n",
       "    </tr>\n",
       "    <tr>\n",
       "      <th>3</th>\n",
       "      <td>grand winner</td>\n",
       "      <td>None</td>\n",
       "      <td>49</td>\n",
       "      <td>NaN</td>\n",
       "      <td>pan ocean</td>\n",
       "      <td>Pan Ocean</td>\n",
       "      <td>tauranga</td>\n",
       "      <td>Tauranga</td>\n",
       "    </tr>\n",
       "    <tr>\n",
       "      <th>4</th>\n",
       "      <td>nomiki</td>\n",
       "      <td>Nomiki</td>\n",
       "      <td>44</td>\n",
       "      <td>44485.0</td>\n",
       "      <td>unknown</td>\n",
       "      <td>None</td>\n",
       "      <td>pulau laut</td>\n",
       "      <td>Tanjung Pemancingan</td>\n",
       "    </tr>\n",
       "  </tbody>\n",
       "</table>\n",
       "</div>"
      ],
      "text/plain": [
       "  scraped_vessel_name vessel_name scraped_deadweight  deadweight  \\\n",
       "0          BLUE SKY I  Blue Sky I           38402mts     38402.0   \n",
       "1        grand winner        None                 50         NaN   \n",
       "2        grand winner        None                 49         NaN   \n",
       "3        grand winner        None                 49         NaN   \n",
       "4              nomiki      Nomiki                 44     44485.0   \n",
       "\n",
       "  scraped_commercial_operator commercial_operator scraped_open_port  \\\n",
       "0                        None                None        Chittagong   \n",
       "1                   pan ocean           Pan Ocean            mackay   \n",
       "2                   pan ocean           Pan Ocean            mackay   \n",
       "3                   pan ocean           Pan Ocean          tauranga   \n",
       "4                     unknown                None        pulau laut   \n",
       "\n",
       "             open_name  \n",
       "0           Chittagong  \n",
       "1               Mackay  \n",
       "2               Mackay  \n",
       "3             Tauranga  \n",
       "4  Tanjung Pemancingan  "
      ]
     },
     "execution_count": 14,
     "metadata": {},
     "output_type": "execute_result"
    }
   ],
   "source": [
    "scraped_mapped_columns = [\n",
    "    'scraped_vessel_name',\n",
    "    'vessel_name',\n",
    "    'scraped_deadweight',\n",
    "    'deadweight',\n",
    "    'scraped_commercial_operator',\n",
    "    'commercial_operator',\n",
    "    'scraped_open_port',\n",
    "    'open_name',\n",
    "]\n",
    "\n",
    "scraped_mapped_df = pd.DataFrame(scraped_positions, columns=scraped_mapped_columns)\n",
    "\n",
    "scraped_mapped_df.head()"
   ]
  },
  {
   "cell_type": "markdown",
   "id": "32d3bbad",
   "metadata": {
    "pycharm": {
     "name": "#%% md\n"
    }
   },
   "source": [
    "## Examples"
   ]
  },
  {
   "cell_type": "markdown",
   "id": "06897cfd",
   "metadata": {
    "pycharm": {
     "name": "#%% md\n"
    }
   },
   "source": [
    "Let's start by fetching all tanker positions received the last week"
   ]
  },
  {
   "cell_type": "code",
   "execution_count": 15,
   "id": "e65f37b4",
   "metadata": {
    "pycharm": {
     "name": "#%%\n"
    },
    "scrolled": true
   },
   "outputs": [],
   "source": [
    "example_vessel_type = 1  # Tanker\n",
    "example_date_from = datetime.utcnow() - timedelta(days=7)\n",
    "\n",
    "example_scraped_positions = api.get_positions(\n",
    "   vessel_type=example_vessel_type,\n",
    "   received_date_from=example_date_from,\n",
    ")"
   ]
  },
  {
   "cell_type": "markdown",
   "id": "6c5855b6",
   "metadata": {
    "pycharm": {
     "name": "#%% md\n"
    }
   },
   "source": [
    "#### Exclude deleted scraped positions"
   ]
  },
  {
   "cell_type": "markdown",
   "id": "a2fd8b25",
   "metadata": {
    "pycharm": {
     "name": "#%% md\n"
    }
   },
   "source": [
    "The `is_deleted` property of a scraped position indicates whether it is valid or not. If it is set to `True`, the corresponding `position_id` has been replaced by a new one.\n",
    "\n",
    "For the sake of completeness, we will exclude deleted scraped positions in the following examples."
   ]
  },
  {
   "cell_type": "code",
   "execution_count": 16,
   "id": "9f25b948",
   "metadata": {
    "pycharm": {
     "name": "#%%\n"
    }
   },
   "outputs": [
    {
     "data": {
      "text/plain": [
       "ScrapedPosition(position_id=280874923, message_id=69455617, external_message_id=None, parsed_part_id=74607938, line_from=21, line_to=21, source='Email', updated_date=datetime.datetime(2024, 7, 26, 9, 30, 24, tzinfo=datetime.timezone.utc), received_date=datetime.datetime(2024, 7, 26, 9, 29, 39, tzinfo=datetime.timezone.utc), is_deleted=False, low_confidence=False, scraped_vessel_name='british sailor', scraped_deadweight='45', scraped_year_built='16', imo=9724673, vessel_name='British Sailor', deadweight=45999, year_built=2016, liquid_capacity=53838, vessel_type_id=1, vessel_type='Tanker', vessel_class_id=88, vessel_class='MR2', scraped_open_date='01/08', open_date_from=datetime.datetime(2024, 8, 1, 0, 0, tzinfo=datetime.timezone.utc), open_date_to=datetime.datetime(2024, 8, 1, 0, 0, tzinfo=datetime.timezone.utc), scraped_open_port='lagos', open_geo_id=3683, open_name='Lagos', open_taxonomy_id=2, open_taxonomy='Port', scraped_commercial_operator=None, commercial_operator_id=None, commercial_operator=None, scraped_cargo_type=None, cargo_type_id=None, cargo_type=None, cargo_type_group_id=None, cargo_type_group=None, scraped_last_cargo_types=None, last_cargo_types_ids=None, last_cargo_types=None, has_ballast=False, has_dry_dock=False, has_if=False, has_on_hold=False, has_on_subs=False, has_prompt=False, has_uncertain=False, is_position_list=False, content='british sailor 45 53 16 12.32 183.06 3 bp lagos 01/08 waiting to berth', subject='WAFR HANDY/MR LIST BSS LAGOS', sender='BRS Group', is_private=True)"
      ]
     },
     "execution_count": 16,
     "metadata": {},
     "output_type": "execute_result"
    }
   ],
   "source": [
    "example_scraped_positions = [position for position in example_scraped_positions if not position.is_deleted]\n",
    "\n",
    "next(iter(example_scraped_positions), None)"
   ]
  },
  {
   "cell_type": "markdown",
   "id": "900b7f87",
   "metadata": {
    "pycharm": {
     "name": "#%% md\n"
    }
   },
   "source": [
    "Now, we are ready to insert our data into a dataframe and keep only specific fields"
   ]
  },
  {
   "cell_type": "code",
   "execution_count": 17,
   "id": "8e865d3e",
   "metadata": {
    "pycharm": {
     "name": "#%%\n"
    }
   },
   "outputs": [
    {
     "data": {
      "text/html": [
       "<div>\n",
       "<style scoped>\n",
       "    .dataframe tbody tr th:only-of-type {\n",
       "        vertical-align: middle;\n",
       "    }\n",
       "\n",
       "    .dataframe tbody tr th {\n",
       "        vertical-align: top;\n",
       "    }\n",
       "\n",
       "    .dataframe thead th {\n",
       "        text-align: right;\n",
       "    }\n",
       "</style>\n",
       "<table border=\"1\" class=\"dataframe\">\n",
       "  <thead>\n",
       "    <tr style=\"text-align: right;\">\n",
       "      <th></th>\n",
       "      <th>imo</th>\n",
       "      <th>commercial_operator</th>\n",
       "      <th>open_date_to</th>\n",
       "      <th>open_name</th>\n",
       "      <th>is_deleted</th>\n",
       "    </tr>\n",
       "  </thead>\n",
       "  <tbody>\n",
       "    <tr>\n",
       "      <th>0</th>\n",
       "      <td>9724673</td>\n",
       "      <td>None</td>\n",
       "      <td>2024-08-01 00:00:00+00:00</td>\n",
       "      <td>Lagos</td>\n",
       "      <td>False</td>\n",
       "    </tr>\n",
       "    <tr>\n",
       "      <th>1</th>\n",
       "      <td>9682394</td>\n",
       "      <td>Vitol</td>\n",
       "      <td>2024-08-01 00:00:00+00:00</td>\n",
       "      <td>Walvis Bay</td>\n",
       "      <td>False</td>\n",
       "    </tr>\n",
       "    <tr>\n",
       "      <th>2</th>\n",
       "      <td>9465966</td>\n",
       "      <td>Torm</td>\n",
       "      <td>2024-08-04 00:00:00+00:00</td>\n",
       "      <td>Lome</td>\n",
       "      <td>False</td>\n",
       "    </tr>\n",
       "    <tr>\n",
       "      <th>3</th>\n",
       "      <td>9637076</td>\n",
       "      <td>Ardmore Shipping</td>\n",
       "      <td>2024-08-02 00:00:00+00:00</td>\n",
       "      <td>West Africa</td>\n",
       "      <td>False</td>\n",
       "    </tr>\n",
       "    <tr>\n",
       "      <th>4</th>\n",
       "      <td>9455741</td>\n",
       "      <td>Tankerska Plovidba</td>\n",
       "      <td>2024-08-01 00:00:00+00:00</td>\n",
       "      <td>Limboh</td>\n",
       "      <td>False</td>\n",
       "    </tr>\n",
       "  </tbody>\n",
       "</table>\n",
       "</div>"
      ],
      "text/plain": [
       "       imo commercial_operator              open_date_to    open_name  \\\n",
       "0  9724673                None 2024-08-01 00:00:00+00:00        Lagos   \n",
       "1  9682394               Vitol 2024-08-01 00:00:00+00:00   Walvis Bay   \n",
       "2  9465966                Torm 2024-08-04 00:00:00+00:00         Lome   \n",
       "3  9637076    Ardmore Shipping 2024-08-02 00:00:00+00:00  West Africa   \n",
       "4  9455741  Tankerska Plovidba 2024-08-01 00:00:00+00:00       Limboh   \n",
       "\n",
       "   is_deleted  \n",
       "0       False  \n",
       "1       False  \n",
       "2       False  \n",
       "3       False  \n",
       "4       False  "
      ]
     },
     "execution_count": 17,
     "metadata": {},
     "output_type": "execute_result"
    }
   ],
   "source": [
    "example_columns = [\n",
    "    'imo',\n",
    "    'commercial_operator',\n",
    "    'open_date_to',\n",
    "    'open_name',\n",
    "    'is_deleted',\n",
    "]\n",
    "\n",
    "data = pd.DataFrame(example_scraped_positions, columns=example_columns).astype({'imo': 'Int64'})\n",
    "\n",
    "data.head()"
   ]
  },
  {
   "cell_type": "markdown",
   "id": "1b2468bb",
   "metadata": {
    "pycharm": {
     "name": "#%% md\n"
    }
   },
   "source": [
    "#### Top 10 Commercical Operators"
   ]
  },
  {
   "cell_type": "markdown",
   "id": "eff2a99f",
   "metadata": {
    "pycharm": {
     "name": "#%% md\n"
    }
   },
   "source": [
    "In this example, we will find the top 10 Commercial Operators, based on the number of their vessels opening"
   ]
  },
  {
   "cell_type": "code",
   "execution_count": 18,
   "id": "5116ecce",
   "metadata": {
    "pycharm": {
     "name": "#%%\n"
    }
   },
   "outputs": [
    {
     "data": {
      "text/html": [
       "<div>\n",
       "<style scoped>\n",
       "    .dataframe tbody tr th:only-of-type {\n",
       "        vertical-align: middle;\n",
       "    }\n",
       "\n",
       "    .dataframe tbody tr th {\n",
       "        vertical-align: top;\n",
       "    }\n",
       "\n",
       "    .dataframe thead th {\n",
       "        text-align: right;\n",
       "    }\n",
       "</style>\n",
       "<table border=\"1\" class=\"dataframe\">\n",
       "  <thead>\n",
       "    <tr style=\"text-align: right;\">\n",
       "      <th></th>\n",
       "      <th>commercial_operator</th>\n",
       "      <th>VesselCount</th>\n",
       "    </tr>\n",
       "  </thead>\n",
       "  <tbody>\n",
       "    <tr>\n",
       "      <th>0</th>\n",
       "      <td>Trafigura</td>\n",
       "      <td>107</td>\n",
       "    </tr>\n",
       "    <tr>\n",
       "      <th>1</th>\n",
       "      <td>Hafnia</td>\n",
       "      <td>93</td>\n",
       "    </tr>\n",
       "    <tr>\n",
       "      <th>2</th>\n",
       "      <td>Shell</td>\n",
       "      <td>78</td>\n",
       "    </tr>\n",
       "    <tr>\n",
       "      <th>3</th>\n",
       "      <td>Maersk</td>\n",
       "      <td>74</td>\n",
       "    </tr>\n",
       "    <tr>\n",
       "      <th>4</th>\n",
       "      <td>Torm</td>\n",
       "      <td>70</td>\n",
       "    </tr>\n",
       "    <tr>\n",
       "      <th>5</th>\n",
       "      <td>Vitol</td>\n",
       "      <td>66</td>\n",
       "    </tr>\n",
       "    <tr>\n",
       "      <th>6</th>\n",
       "      <td>Scorpio Commercial Management</td>\n",
       "      <td>64</td>\n",
       "    </tr>\n",
       "    <tr>\n",
       "      <th>7</th>\n",
       "      <td>Norden</td>\n",
       "      <td>58</td>\n",
       "    </tr>\n",
       "    <tr>\n",
       "      <th>8</th>\n",
       "      <td>Clearlake Shipping</td>\n",
       "      <td>56</td>\n",
       "    </tr>\n",
       "    <tr>\n",
       "      <th>9</th>\n",
       "      <td>Norden Tanker Pool</td>\n",
       "      <td>53</td>\n",
       "    </tr>\n",
       "  </tbody>\n",
       "</table>\n",
       "</div>"
      ],
      "text/plain": [
       "             commercial_operator  VesselCount\n",
       "0                      Trafigura          107\n",
       "1                         Hafnia           93\n",
       "2                          Shell           78\n",
       "3                         Maersk           74\n",
       "4                           Torm           70\n",
       "5                          Vitol           66\n",
       "6  Scorpio Commercial Management           64\n",
       "7                         Norden           58\n",
       "8             Clearlake Shipping           56\n",
       "9             Norden Tanker Pool           53"
      ]
     },
     "execution_count": 18,
     "metadata": {},
     "output_type": "execute_result"
    }
   ],
   "source": [
    "top_co_ser = data[['commercial_operator', 'imo']].drop_duplicates().commercial_operator.value_counts().head(10)\n",
    "\n",
    "top_co_df = top_co_ser.to_frame(name='VesselCount').reset_index().rename(columns={'index': 'CommercialOperator'})\n",
    "\n",
    "top_co_df"
   ]
  },
  {
   "cell_type": "markdown",
   "id": "21a9c192",
   "metadata": {
    "pycharm": {
     "name": "#%% md\n"
    }
   },
   "source": [
    "And display results in a bar plot"
   ]
  },
  {
   "cell_type": "code",
   "execution_count": 19,
   "id": "111ef349",
   "metadata": {
    "pycharm": {
     "name": "#%%\n"
    }
   },
   "outputs": [
    {
     "data": {
      "image/png": "[encoded data removed]"
     },
     "metadata": {},
     "output_type": "display_data"
    }
   ],
   "source": [
    "top_co_fig = go.Figure()\n",
    "\n",
    "bar = go.Bar(\n",
    "    x=top_co_df.commercial_operator.tolist(),\n",
    "    y=top_co_df.VesselCount.tolist(),\n",
    ")\n",
    "\n",
    "top_co_fig.add_trace(bar)\n",
    "top_co_fig.update_xaxes(title_text=\"Commercial Operator\")\n",
    "top_co_fig.update_yaxes(title_text=\"Number of Vessels opening\")\n",
    "top_co_fig.show()"
   ]
  },
  {
   "cell_type": "markdown",
   "id": "c96f47e8",
   "metadata": {
    "pycharm": {
     "name": "#%% md\n"
    }
   },
   "source": [
    "#### Vessels opening at specific ports"
   ]
  },
  {
   "cell_type": "markdown",
   "id": "d6715ce2",
   "metadata": {
    "pycharm": {
     "name": "#%% md\n"
    }
   },
   "source": [
    "In this example, we will create a visualization, for the number of distinct vessels opening at specific ports per day over the next week"
   ]
  },
  {
   "cell_type": "code",
   "execution_count": 20,
   "id": "5afc08c9",
   "metadata": {
    "pycharm": {
     "name": "#%%\n"
    }
   },
   "outputs": [
    {
     "data": {
      "text/plain": [
       "['Singapore', 'US Gulf', 'New York', 'Fujairah', 'Rotterdam']"
      ]
     },
     "execution_count": 20,
     "metadata": {},
     "output_type": "execute_result"
    }
   ],
   "source": [
    "this_week_days = pd.date_range(start=datetime.utcnow().date(), freq='D', periods=7, tz='UTC')\n",
    "ports = data[data.open_name.notna()].open_name.value_counts().head().index.tolist()\n",
    "\n",
    "ports"
   ]
  },
  {
   "cell_type": "markdown",
   "id": "8fb358b6",
   "metadata": {
    "pycharm": {
     "name": "#%% md\n"
    }
   },
   "source": [
    "Create the pivot table"
   ]
  },
  {
   "cell_type": "code",
   "execution_count": 21,
   "id": "93a37134",
   "metadata": {
    "pycharm": {
     "name": "#%%\n"
    }
   },
   "outputs": [
    {
     "data": {
      "text/html": [
       "<div>\n",
       "<style scoped>\n",
       "    .dataframe tbody tr th:only-of-type {\n",
       "        vertical-align: middle;\n",
       "    }\n",
       "\n",
       "    .dataframe tbody tr th {\n",
       "        vertical-align: top;\n",
       "    }\n",
       "\n",
       "    .dataframe thead th {\n",
       "        text-align: right;\n",
       "    }\n",
       "</style>\n",
       "<table border=\"1\" class=\"dataframe\">\n",
       "  <thead>\n",
       "    <tr style=\"text-align: right;\">\n",
       "      <th>open_name</th>\n",
       "      <th>open_date_to</th>\n",
       "      <th>Fujairah</th>\n",
       "      <th>New York</th>\n",
       "      <th>Rotterdam</th>\n",
       "      <th>Singapore</th>\n",
       "      <th>US Gulf</th>\n",
       "    </tr>\n",
       "  </thead>\n",
       "  <tbody>\n",
       "    <tr>\n",
       "      <th>0</th>\n",
       "      <td>2024-08-02 00:00:00+00:00</td>\n",
       "      <td>23</td>\n",
       "      <td>13</td>\n",
       "      <td>10</td>\n",
       "      <td>33</td>\n",
       "      <td>17</td>\n",
       "    </tr>\n",
       "    <tr>\n",
       "      <th>1</th>\n",
       "      <td>2024-08-03 00:00:00+00:00</td>\n",
       "      <td>20</td>\n",
       "      <td>8</td>\n",
       "      <td>8</td>\n",
       "      <td>24</td>\n",
       "      <td>12</td>\n",
       "    </tr>\n",
       "    <tr>\n",
       "      <th>2</th>\n",
       "      <td>2024-08-04 00:00:00+00:00</td>\n",
       "      <td>12</td>\n",
       "      <td>3</td>\n",
       "      <td>9</td>\n",
       "      <td>17</td>\n",
       "      <td>14</td>\n",
       "    </tr>\n",
       "    <tr>\n",
       "      <th>3</th>\n",
       "      <td>2024-08-05 00:00:00+00:00</td>\n",
       "      <td>11</td>\n",
       "      <td>4</td>\n",
       "      <td>7</td>\n",
       "      <td>21</td>\n",
       "      <td>11</td>\n",
       "    </tr>\n",
       "    <tr>\n",
       "      <th>4</th>\n",
       "      <td>2024-08-06 00:00:00+00:00</td>\n",
       "      <td>10</td>\n",
       "      <td>4</td>\n",
       "      <td>5</td>\n",
       "      <td>22</td>\n",
       "      <td>7</td>\n",
       "    </tr>\n",
       "    <tr>\n",
       "      <th>5</th>\n",
       "      <td>2024-08-07 00:00:00+00:00</td>\n",
       "      <td>6</td>\n",
       "      <td>7</td>\n",
       "      <td>6</td>\n",
       "      <td>19</td>\n",
       "      <td>3</td>\n",
       "    </tr>\n",
       "    <tr>\n",
       "      <th>6</th>\n",
       "      <td>2024-08-08 00:00:00+00:00</td>\n",
       "      <td>8</td>\n",
       "      <td>3</td>\n",
       "      <td>5</td>\n",
       "      <td>25</td>\n",
       "      <td>3</td>\n",
       "    </tr>\n",
       "  </tbody>\n",
       "</table>\n",
       "</div>"
      ],
      "text/plain": [
       "open_name              open_date_to  Fujairah  New York  Rotterdam  Singapore  \\\n",
       "0         2024-08-02 00:00:00+00:00        23        13         10         33   \n",
       "1         2024-08-03 00:00:00+00:00        20         8          8         24   \n",
       "2         2024-08-04 00:00:00+00:00        12         3          9         17   \n",
       "3         2024-08-05 00:00:00+00:00        11         4          7         21   \n",
       "4         2024-08-06 00:00:00+00:00        10         4          5         22   \n",
       "5         2024-08-07 00:00:00+00:00         6         7          6         19   \n",
       "6         2024-08-08 00:00:00+00:00         8         3          5         25   \n",
       "\n",
       "open_name  US Gulf  \n",
       "0               17  \n",
       "1               12  \n",
       "2               14  \n",
       "3               11  \n",
       "4                7  \n",
       "5                3  \n",
       "6                3  "
      ]
     },
     "execution_count": 21,
     "metadata": {},
     "output_type": "execute_result"
    }
   ],
   "source": [
    "ports_mask = data.open_name.isin(ports) & data.open_date_to.isin(this_week_days)\n",
    "\n",
    "df_ports = data[ports_mask]\n",
    "\n",
    "df_pivot = pd.pivot_table(\n",
    "    df_ports,\n",
    "    columns='open_name',\n",
    "    index='open_date_to',\n",
    "    values='imo',\n",
    "    aggfunc=pd.Series.nunique,\n",
    "    fill_value=0,\n",
    ").reindex(index=this_week_days, fill_value=0).reset_index().rename(columns={'index': 'open_date_to'})\n",
    "\n",
    "df_pivot"
   ]
  },
  {
   "cell_type": "markdown",
   "id": "86abbee4",
   "metadata": {
    "pycharm": {
     "name": "#%% md\n"
    }
   },
   "source": [
    "And display the results as timeseries"
   ]
  },
  {
   "cell_type": "code",
   "execution_count": 22,
   "id": "1b3a7f26",
   "metadata": {
    "pycharm": {
     "name": "#%%\n"
    }
   },
   "outputs": [
    {
     "data": {
      "image/png": "[encoded data removed]"
     },
     "metadata": {},
     "output_type": "display_data"
    }
   ],
   "source": [
    "def port_button(port):\n",
    "    args = [\n",
    "        {'visible': [i == ports.index(port) for i in range(len(ports))]},\n",
    "        {\n",
    "            'title': f'Vessels opening at {port} per day',\n",
    "            'showlegend': True\n",
    "        },\n",
    "    ]\n",
    "    \n",
    "    return dict(label=port,\n",
    "          method='update',\n",
    "          args=args,\n",
    "        )\n",
    "\n",
    "title = 'Vessels opening per day'\n",
    "today = datetime.combine(datetime.utcnow().date(), datetime.min.time())\n",
    "\n",
    "ports_fig = go.Figure()\n",
    "\n",
    "port_buttons = []\n",
    "\n",
    "for port in ports:\n",
    "    if port not in df_pivot.columns:\n",
    "        continue\n",
    "    port_scatter_plot = go.Scatter(    \n",
    "        x=df_pivot.open_date_to,\n",
    "        y=df_pivot[port],\n",
    "        name=port,\n",
    "        mode='lines',\n",
    "    )\n",
    "\n",
    "    ports_fig.add_trace(port_scatter_plot)\n",
    "    \n",
    "    port_buttons.append(port_button(port))\n",
    "    \n",
    "buttons = list([\n",
    "    dict(\n",
    "        label='All',\n",
    "        method='update',\n",
    "        args=[    \n",
    "            {'visible': [True for _ in range(len(ports))]},\n",
    "            {\n",
    "                'title': title,\n",
    "                'showlegend': True\n",
    "            }\n",
    "        ],\n",
    "    ),\n",
    "    *port_buttons,\n",
    "])\n",
    "\n",
    "ports_fig.update_layout(\n",
    "    title=title,\n",
    "    updatemenus=[go.layout.Updatemenu(\n",
    "        active=0,\n",
    "        buttons=buttons,\n",
    "    )],\n",
    "    xaxis_range=[today - timedelta(hours=4), today + timedelta(hours=24*6 + 4)],\n",
    ")\n",
    "\n",
    "ports_fig.show()"
   ]
  },
  {
   "cell_type": "markdown",
   "id": "61da3255",
   "metadata": {
    "pycharm": {
     "name": "#%% md\n"
    }
   },
   "source": [
    "#### Export data to csv"
   ]
  },
  {
   "cell_type": "code",
   "execution_count": 23,
   "id": "18c1f1a7",
   "metadata": {
    "collapsed": false,
    "jupyter": {
     "outputs_hidden": false
    },
    "pycharm": {
     "name": "#%%\n"
    }
   },
   "outputs": [],
   "source": [
    "output_path = '' # Change output_path with your path\n",
    "filename = 'last_week_positions.csv'\n",
    "if not data.empty:\n",
    "    data.to_csv(output_path+filename, index=False)"
   ]
  },
  {
   "cell_type": "code",
   "execution_count": null,
   "id": "bda511c4",
   "metadata": {
    "collapsed": false,
    "jupyter": {
     "outputs_hidden": false
    },
    "pycharm": {
     "name": "#%%\n"
    }
   },
   "outputs": [],
   "source": []
  }
 ],
 "metadata": {
  "kernelspec": {
   "display_name": "Python 3 (ipykernel)",
   "language": "python",
   "name": "python3"
  },
  "language_info": {
   "codemirror_mode": {
    "name": "ipython",
    "version": 3
   },
   "file_extension": ".py",
   "mimetype": "text/x-python",
   "name": "python",
   "nbconvert_exporter": "python",
   "pygments_lexer": "ipython3",
   "version": "3.8.10"
  }
 },
 "nbformat": 4,
 "nbformat_minor": 5
}
