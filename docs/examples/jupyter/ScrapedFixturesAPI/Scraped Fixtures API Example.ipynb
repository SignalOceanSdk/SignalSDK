{
 "cells": [
  {
   "cell_type": "markdown",
   "metadata": {
    "pycharm": {
     "name": "#%% md\n"
    }
   },
   "source": [
    "# Scraped Fixtures API Example\n",
    "\n",
    "## Run this example in [Colab](https://colab.research.google.com/github/SignalOceanSdk/SignalSDK/blob/master/docs/examples/jupyter/ScrapedFixturesAPI/Scraped%20Fixtures%20API%20Example.ipynb)"
   ]
  },
  {
   "cell_type": "markdown",
   "metadata": {
    "pycharm": {
     "name": "#%% md\n"
    }
   },
   "source": [
    "Get your personal Signal Ocean API subscription key (acquired [here](https://apis.signalocean.com/profile)) and replace it below:"
   ]
  },
  {
   "cell_type": "code",
   "execution_count": 1,
   "metadata": {
    "pycharm": {
     "name": "#%%\n"
    }
   },
   "outputs": [],
   "source": [
    "signal_ocean_api_key = '' # Replace with your subscription key"
   ]
  },
  {
   "cell_type": "markdown",
   "metadata": {
    "pycharm": {
     "name": "#%% md\n"
    }
   },
   "source": [
    "# Scraped Fixtures API\n",
    "\n",
    "The goal of Scraped Fixtures API is to collect and return scraped fixtures by the given filters. This can be done by using the `ScrapedFixturesAPI` class and calling appropriate methods\n",
    "\n",
    "\n",
    "#### 1. Request by filters\n",
    "\n",
    "Fixtures can be retrieved for specific filters, by calling the `get_fixtures` method with the following arguments:\n",
    "\n",
    "#### Required\n",
    "\n",
    "`vessel_type` The vessel type\n",
    "\n",
    "_Additionally, at least one of the following is required_\n",
    "\n",
    "`fixture_ids` List of FixtureIDs\n",
    "\n",
    "`imos` List of IMOs\n",
    "\n",
    "`message_ids` List of MessageIDs\n",
    "\n",
    "`external_message_ids` List of ExternalMessageIDs\n",
    "\n",
    "\n",
    "`received_date_from` Earliest date the fixture received\n",
    "\n",
    "`received_date_to` Latest date the fixture received\n",
    "\n",
    "`updated_date_from` Earliest date the fixture updated\n",
    "\n",
    "`updated_date_to` Latest date the fixture updated\n",
    "\n",
    "> Mixing received and updated dates is not allowed\n",
    "\n",
    "> It's highly recommended to use UTC  dates, since this is the internally used format\n",
    "\n",
    "\n",
    "#### 2. Request by page token\n",
    "\n",
    "Fixtures can also be retrieved, by calling the `get_fixtures_incremental` method.\n",
    "This method will also return `next_request_token`, which the user should use to their next incremental request to retrieve only the latest updated cargoes.\n",
    "\n",
    "\n",
    "#### Required\n",
    "\n",
    "`vessel_type` The vessel type\n",
    "\n",
    "#### Optional\n",
    "\n",
    "`page_token` The key that should be used as a parameter of the token to retrieve the relevant page.\n",
    "\n",
    "#### 3. Retrieve page token\n",
    "\n",
    "The token referenced above can be retrieved for a specific date, by calling the `get_fixtures_incremental_token` method with the following argument:\n",
    "#### Required\n",
    "\n",
    "`updated_date_from` Earliest date the fixture updated\n",
    "\n"
   ]
  },
  {
   "cell_type": "markdown",
   "metadata": {
    "pycharm": {
     "name": "#%% md\n"
    }
   },
   "source": [
    "### Additional optional arguments\n",
    "\n",
    "Methods `get_fixtures` and `get_fixtures_incremental`, also accept the following optional arguments:\n",
    "\n",
    "`include_details` If this field is `True` the following columns will be included in the response (otherwise they will be `None`):\n",
    "```\n",
    "parsed_part_id, line_from, line_to, in_line_order, source\n",
    "```\n",
    "\n",
    "`include_scraped_fields` If this field is `True` the following columns will be included in the response (otherwise they will be `None`):\n",
    "```\n",
    "scraped_vessel_name, scraped_deadweight, scraped_year_built, scraped_laycan, scraped_load, scraped_load2, scraped_discharge, scraped_discharge_options, scraped_discharge2, scraped_charterer, scraped_cargo_type, scraped_quantity, scraped_rate, scraped_rate_options, scraped_delivery_date, scraped_delivery, scraped_redelivery_from, scraped_redelivery_to\n",
    "```\n",
    "\n",
    "`include_vessel_details` If this field is `True` the following columns will be included in the response (otherwise they will be `None`):\n",
    "```\n",
    "vessel_name, deadweight, year_built, liquid_capacity, vessel_type_id, vessel_type, vessel_class, commercial_operator_id, commercial_operator\n",
    "```\n",
    "\n",
    "`include_labels` If this field is `True` the following columns will be included in the response (otherwise they will be `None`):\n",
    "```\n",
    "load_name, load_taxonomy, load_name2, load_taxonomy2, discharge_name, discharge_taxonomy, discharge_name2, discharge_taxonomy2, charterer, cargo_type, cargo_group, open_geo_name, open_taxonomy, delivery_name, delivery_taxonomy, redelivery_from_name, redelivery_from_taxonomy, redelivery_to_name, redelivery_to_taxonomy, charter_type, fixture_status\n",
    "```\n",
    "\n",
    "`include_content` If this field is `True` the following columns will be included in the response (otherwise they will be `None`):\n",
    "```\n",
    "content\n",
    "```\n",
    "\n",
    "`include_sender` If this field is `True` the following columns will be included in the response (otherwise they will be `None`): \n",
    "```\n",
    "sender\n",
    "```\n",
    "\n",
    "`include_debug_info` If this field is `True` the following columns will be included in the response (otherwise they will be `None`):\n",
    "```\n",
    "is_private, is_invalidated, is_partial\n",
    "```\n",
    "\n",
    "> Default value is `True` for the arguments described above "
   ]
  },
  {
   "cell_type": "markdown",
   "metadata": {
    "pycharm": {
     "name": "#%% md\n"
    }
   },
   "source": [
    "## Installation"
   ]
  },
  {
   "cell_type": "markdown",
   "metadata": {
    "pycharm": {
     "name": "#%% md\n"
    }
   },
   "source": [
    "To install _Signal Ocean SDK_, simply run the following command"
   ]
  },
  {
   "cell_type": "code",
   "execution_count": 2,
   "metadata": {
    "pycharm": {
     "name": "#%%\n"
    }
   },
   "outputs": [],
   "source": [
    "%%capture\n",
    "%pip install signal-ocean"
   ]
  },
  {
   "cell_type": "markdown",
   "metadata": {
    "pycharm": {
     "name": "#%% md\n"
    }
   },
   "source": [
    "## Quickstart"
   ]
  },
  {
   "cell_type": "markdown",
   "metadata": {
    "pycharm": {
     "name": "#%% md\n"
    }
   },
   "source": [
    "Import `signal-ocean` and other modules required for this demo"
   ]
  },
  {
   "cell_type": "code",
   "execution_count": 3,
   "metadata": {
    "pycharm": {
     "name": "#%%\n"
    }
   },
   "outputs": [],
   "source": [
    "from signal_ocean import Connection\n",
    "from signal_ocean.scraped_fixtures import ScrapedFixturesAPI\n",
    "\n",
    "from datetime import datetime, timedelta\n",
    "import pandas as pd\n",
    "import plotly.graph_objects as go"
   ]
  },
  {
   "cell_type": "markdown",
   "metadata": {
    "pycharm": {
     "name": "#%% md\n"
    }
   },
   "source": [
    "Create a new instance of the `ScrapedFixturesAPI` class"
   ]
  },
  {
   "cell_type": "code",
   "execution_count": 4,
   "metadata": {
    "pycharm": {
     "name": "#%%\n"
    }
   },
   "outputs": [],
   "source": [
    "connection = Connection(signal_ocean_api_key)\n",
    "api = ScrapedFixturesAPI(connection)"
   ]
  },
  {
   "cell_type": "markdown",
   "metadata": {
    "pycharm": {
     "name": "#%% md\n"
    }
   },
   "source": [
    "Now you are ready to retrieve your data"
   ]
  },
  {
   "cell_type": "markdown",
   "metadata": {
    "pycharm": {
     "name": "#%% md\n"
    }
   },
   "source": [
    "#### Request by date"
   ]
  },
  {
   "cell_type": "markdown",
   "metadata": {
    "pycharm": {
     "name": "#%% md\n"
    }
   },
   "source": [
    "To get all tanker fixtures received the last 2 days, you must declare appropriate `vessel_type` and `received_date_from` variables"
   ]
  },
  {
   "cell_type": "code",
   "execution_count": 5,
   "metadata": {
    "pycharm": {
     "name": "#%%\n"
    }
   },
   "outputs": [],
   "source": [
    "vessel_type = 1  # Tanker\n",
    "received_date_from = datetime.utcnow() - timedelta(days=2)"
   ]
  },
  {
   "cell_type": "markdown",
   "metadata": {
    "pycharm": {
     "name": "#%% md\n"
    }
   },
   "source": [
    "And then call `get_fixtures` method, as below"
   ]
  },
  {
   "cell_type": "code",
   "execution_count": 6,
   "metadata": {
    "pycharm": {
     "name": "#%%\n"
    }
   },
   "outputs": [
    {
     "data": {
      "text/plain": [
       "ScrapedFixture(fixture_id=151714760, message_id=69800782, external_message_id=None, parsed_part_id=74839673, line_from=26, line_to=26, in_line_order=None, source='Email', updated_date=datetime.datetime(2024, 7, 31, 8, 47, 37, tzinfo=datetime.timezone.utc), received_date=datetime.datetime(2024, 7, 31, 8, 45, 37, tzinfo=datetime.timezone.utc), is_deleted=False, low_confidence=False, scraped_vessel_name=None, scraped_deadweight=None, scraped_year_built=None, imo=9403322, vessel_name='Atlantic T', deadweight=45989, year_built=2009, liquid_capacity=52517, vessel_type_id=1, vessel_type='Tanker', vessel_class_id=88, vessel_class='MR2', commercial_operator_id=1088, commercial_operator='Norden Tanker Pool', scraped_laycan=None, laycan_from=None, laycan_to=None, scraped_load=None, load_geo_id=None, load_name=None, load_taxonomy_id=None, load_taxonomy=None, scraped_load2=None, load_geo_id2=None, load_name2=None, load_taxonomy_id2=None, load_taxonomy2=None, scraped_discharge=None, scraped_discharge_options=None, discharge_geo_id=None, discharge_name=None, discharge_taxonomy_id=None, discharge_taxonomy=None, scraped_discharge2=None, discharge_geo_id2=None, discharge_name2=None, discharge_taxonomy_id2=None, discharge_taxonomy2=None, scraped_charterer=None, charterer_id=None, charterer=None, scraped_cargo_type=None, cargo_type_id=None, cargo_type=None, cargo_group_id=None, cargo_group=None, scraped_quantity=None, quantity=None, quantity_buffer=None, quantity_from=None, quantity_to=None, scraped_rate=None, scraped_rate_options=None, rate_value=None, rate_type=None, open_geo_id=3794, open_geo_name='Singapore', open_taxonomy_id=2, open_taxonomy='Port', open_date=datetime.datetime(2024, 8, 3, 0, 0, tzinfo=datetime.timezone.utc), scraped_delivery_date=None, delivery_date_from=None, delivery_date_to=None, scraped_delivery=None, delivery_geo_id=None, delivery_name=None, delivery_taxonomy_id=None, delivery_taxonomy=None, scraped_redelivery_from=None, redelivery_from_geo_id=None, redelivery_from_name=None, redelivery_from_taxonomy_id=None, redelivery_from_taxonomy=None, scraped_redelivery_to=None, redelivery_to_geo_id=None, redelivery_to_name=None, redelivery_to_taxonomy_id=None, redelivery_to_taxonomy=None, charter_type_id=0, charter_type='Voyage', fixture_status_id=0, fixture_status='OnSubs', is_owners_option=False, is_coa=False, content=None, subject='BRS CPP MR LIST BSS SPORE - 31/07/24', sender='BRS Group', is_private=True, is_invalidated=False, is_partial=True)"
      ]
     },
     "execution_count": 6,
     "metadata": {},
     "output_type": "execute_result"
    }
   ],
   "source": [
    "scraped_fixtures = api.get_fixtures(\n",
    "    vessel_type=vessel_type,\n",
    "    received_date_from=received_date_from,\n",
    ")\n",
    "\n",
    "next(iter(scraped_fixtures), None)"
   ]
  },
  {
   "cell_type": "markdown",
   "metadata": {
    "pycharm": {
     "name": "#%% md\n"
    }
   },
   "source": [
    "For better visualization, it's convenient to insert data into a DataFrame"
   ]
  },
  {
   "cell_type": "code",
   "execution_count": 7,
   "metadata": {
    "pycharm": {
     "name": "#%%\n"
    }
   },
   "outputs": [
    {
     "data": {
      "text/html": [
       "<div>\n",
       "<style scoped>\n",
       "    .dataframe tbody tr th:only-of-type {\n",
       "        vertical-align: middle;\n",
       "    }\n",
       "\n",
       "    .dataframe tbody tr th {\n",
       "        vertical-align: top;\n",
       "    }\n",
       "\n",
       "    .dataframe thead th {\n",
       "        text-align: right;\n",
       "    }\n",
       "</style>\n",
       "<table border=\"1\" class=\"dataframe\">\n",
       "  <thead>\n",
       "    <tr style=\"text-align: right;\">\n",
       "      <th></th>\n",
       "      <th>fixture_id</th>\n",
       "      <th>message_id</th>\n",
       "      <th>external_message_id</th>\n",
       "      <th>parsed_part_id</th>\n",
       "      <th>line_from</th>\n",
       "      <th>line_to</th>\n",
       "      <th>in_line_order</th>\n",
       "      <th>source</th>\n",
       "      <th>updated_date</th>\n",
       "      <th>received_date</th>\n",
       "      <th>...</th>\n",
       "      <th>fixture_status_id</th>\n",
       "      <th>fixture_status</th>\n",
       "      <th>is_owners_option</th>\n",
       "      <th>is_coa</th>\n",
       "      <th>content</th>\n",
       "      <th>subject</th>\n",
       "      <th>sender</th>\n",
       "      <th>is_private</th>\n",
       "      <th>is_invalidated</th>\n",
       "      <th>is_partial</th>\n",
       "    </tr>\n",
       "  </thead>\n",
       "  <tbody>\n",
       "    <tr>\n",
       "      <th>0</th>\n",
       "      <td>151714760</td>\n",
       "      <td>69800782</td>\n",
       "      <td>None</td>\n",
       "      <td>74839673</td>\n",
       "      <td>26</td>\n",
       "      <td>26</td>\n",
       "      <td>NaN</td>\n",
       "      <td>Email</td>\n",
       "      <td>2024-07-31 08:47:37+00:00</td>\n",
       "      <td>2024-07-31 08:45:37+00:00</td>\n",
       "      <td>...</td>\n",
       "      <td>0.0</td>\n",
       "      <td>OnSubs</td>\n",
       "      <td>False</td>\n",
       "      <td>False</td>\n",
       "      <td>None</td>\n",
       "      <td>BRS CPP MR LIST BSS SPORE - 31/07/24</td>\n",
       "      <td>BRS Group</td>\n",
       "      <td>True</td>\n",
       "      <td>False</td>\n",
       "      <td>True</td>\n",
       "    </tr>\n",
       "    <tr>\n",
       "      <th>1</th>\n",
       "      <td>151714761</td>\n",
       "      <td>69800782</td>\n",
       "      <td>None</td>\n",
       "      <td>74839673</td>\n",
       "      <td>9</td>\n",
       "      <td>9</td>\n",
       "      <td>NaN</td>\n",
       "      <td>Email</td>\n",
       "      <td>2024-07-31 08:47:37+00:00</td>\n",
       "      <td>2024-07-31 08:45:37+00:00</td>\n",
       "      <td>...</td>\n",
       "      <td>0.0</td>\n",
       "      <td>OnSubs</td>\n",
       "      <td>False</td>\n",
       "      <td>False</td>\n",
       "      <td>None</td>\n",
       "      <td>BRS CPP MR LIST BSS SPORE - 31/07/24</td>\n",
       "      <td>BRS Group</td>\n",
       "      <td>True</td>\n",
       "      <td>False</td>\n",
       "      <td>True</td>\n",
       "    </tr>\n",
       "    <tr>\n",
       "      <th>2</th>\n",
       "      <td>151714762</td>\n",
       "      <td>69800782</td>\n",
       "      <td>None</td>\n",
       "      <td>74839673</td>\n",
       "      <td>35</td>\n",
       "      <td>35</td>\n",
       "      <td>NaN</td>\n",
       "      <td>Email</td>\n",
       "      <td>2024-07-31 08:47:37+00:00</td>\n",
       "      <td>2024-07-31 08:45:37+00:00</td>\n",
       "      <td>...</td>\n",
       "      <td>0.0</td>\n",
       "      <td>OnSubs</td>\n",
       "      <td>False</td>\n",
       "      <td>False</td>\n",
       "      <td>None</td>\n",
       "      <td>BRS CPP MR LIST BSS SPORE - 31/07/24</td>\n",
       "      <td>BRS Group</td>\n",
       "      <td>True</td>\n",
       "      <td>False</td>\n",
       "      <td>True</td>\n",
       "    </tr>\n",
       "    <tr>\n",
       "      <th>3</th>\n",
       "      <td>151714763</td>\n",
       "      <td>69800782</td>\n",
       "      <td>None</td>\n",
       "      <td>74839673</td>\n",
       "      <td>28</td>\n",
       "      <td>28</td>\n",
       "      <td>NaN</td>\n",
       "      <td>Email</td>\n",
       "      <td>2024-07-31 08:47:37+00:00</td>\n",
       "      <td>2024-07-31 08:45:37+00:00</td>\n",
       "      <td>...</td>\n",
       "      <td>0.0</td>\n",
       "      <td>OnSubs</td>\n",
       "      <td>False</td>\n",
       "      <td>False</td>\n",
       "      <td>None</td>\n",
       "      <td>BRS CPP MR LIST BSS SPORE - 31/07/24</td>\n",
       "      <td>BRS Group</td>\n",
       "      <td>True</td>\n",
       "      <td>False</td>\n",
       "      <td>True</td>\n",
       "    </tr>\n",
       "    <tr>\n",
       "      <th>4</th>\n",
       "      <td>151714764</td>\n",
       "      <td>69800782</td>\n",
       "      <td>None</td>\n",
       "      <td>74839673</td>\n",
       "      <td>38</td>\n",
       "      <td>38</td>\n",
       "      <td>NaN</td>\n",
       "      <td>Email</td>\n",
       "      <td>2024-07-31 08:47:37+00:00</td>\n",
       "      <td>2024-07-31 08:45:37+00:00</td>\n",
       "      <td>...</td>\n",
       "      <td>0.0</td>\n",
       "      <td>OnSubs</td>\n",
       "      <td>False</td>\n",
       "      <td>False</td>\n",
       "      <td>None</td>\n",
       "      <td>BRS CPP MR LIST BSS SPORE - 31/07/24</td>\n",
       "      <td>BRS Group</td>\n",
       "      <td>True</td>\n",
       "      <td>False</td>\n",
       "      <td>True</td>\n",
       "    </tr>\n",
       "  </tbody>\n",
       "</table>\n",
       "<p>5 rows × 102 columns</p>\n",
       "</div>"
      ],
      "text/plain": [
       "   fixture_id  message_id external_message_id  parsed_part_id  line_from  \\\n",
       "0   151714760    69800782                None        74839673         26   \n",
       "1   151714761    69800782                None        74839673          9   \n",
       "2   151714762    69800782                None        74839673         35   \n",
       "3   151714763    69800782                None        74839673         28   \n",
       "4   151714764    69800782                None        74839673         38   \n",
       "\n",
       "   line_to  in_line_order source              updated_date  \\\n",
       "0       26            NaN  Email 2024-07-31 08:47:37+00:00   \n",
       "1        9            NaN  Email 2024-07-31 08:47:37+00:00   \n",
       "2       35            NaN  Email 2024-07-31 08:47:37+00:00   \n",
       "3       28            NaN  Email 2024-07-31 08:47:37+00:00   \n",
       "4       38            NaN  Email 2024-07-31 08:47:37+00:00   \n",
       "\n",
       "              received_date  ...  fixture_status_id  fixture_status  \\\n",
       "0 2024-07-31 08:45:37+00:00  ...                0.0          OnSubs   \n",
       "1 2024-07-31 08:45:37+00:00  ...                0.0          OnSubs   \n",
       "2 2024-07-31 08:45:37+00:00  ...                0.0          OnSubs   \n",
       "3 2024-07-31 08:45:37+00:00  ...                0.0          OnSubs   \n",
       "4 2024-07-31 08:45:37+00:00  ...                0.0          OnSubs   \n",
       "\n",
       "  is_owners_option is_coa content                               subject  \\\n",
       "0            False  False    None  BRS CPP MR LIST BSS SPORE - 31/07/24   \n",
       "1            False  False    None  BRS CPP MR LIST BSS SPORE - 31/07/24   \n",
       "2            False  False    None  BRS CPP MR LIST BSS SPORE - 31/07/24   \n",
       "3            False  False    None  BRS CPP MR LIST BSS SPORE - 31/07/24   \n",
       "4            False  False    None  BRS CPP MR LIST BSS SPORE - 31/07/24   \n",
       "\n",
       "      sender  is_private  is_invalidated  is_partial  \n",
       "0  BRS Group        True           False        True  \n",
       "1  BRS Group        True           False        True  \n",
       "2  BRS Group        True           False        True  \n",
       "3  BRS Group        True           False        True  \n",
       "4  BRS Group        True           False        True  \n",
       "\n",
       "[5 rows x 102 columns]"
      ]
     },
     "execution_count": 7,
     "metadata": {},
     "output_type": "execute_result"
    }
   ],
   "source": [
    "df = pd.DataFrame(scraped_fixtures)\n",
    "\n",
    "df.head()"
   ]
  },
  {
   "cell_type": "markdown",
   "metadata": {
    "pycharm": {
     "name": "#%% md\n"
    }
   },
   "source": [
    "#### Request by IMOs"
   ]
  },
  {
   "cell_type": "markdown",
   "metadata": {
    "pycharm": {
     "name": "#%% md\n"
    }
   },
   "source": [
    "To get fixtures for specific vessel(s) by their IMO number(s), you can simple call the `get_fixtures` method for a list of desired IMO(s)"
   ]
  },
  {
   "cell_type": "markdown",
   "metadata": {
    "pycharm": {
     "name": "#%% md\n"
    }
   },
   "source": [
    "Adding some date argument is always feasible"
   ]
  },
  {
   "cell_type": "code",
   "execution_count": 8,
   "metadata": {
    "pycharm": {
     "name": "#%%\n"
    }
   },
   "outputs": [
    {
     "data": {
      "text/html": [
       "<div>\n",
       "<style scoped>\n",
       "    .dataframe tbody tr th:only-of-type {\n",
       "        vertical-align: middle;\n",
       "    }\n",
       "\n",
       "    .dataframe tbody tr th {\n",
       "        vertical-align: top;\n",
       "    }\n",
       "\n",
       "    .dataframe thead th {\n",
       "        text-align: right;\n",
       "    }\n",
       "</style>\n",
       "<table border=\"1\" class=\"dataframe\">\n",
       "  <thead>\n",
       "    <tr style=\"text-align: right;\">\n",
       "      <th></th>\n",
       "      <th>fixture_id</th>\n",
       "      <th>message_id</th>\n",
       "      <th>external_message_id</th>\n",
       "      <th>parsed_part_id</th>\n",
       "      <th>line_from</th>\n",
       "      <th>line_to</th>\n",
       "      <th>in_line_order</th>\n",
       "      <th>source</th>\n",
       "      <th>updated_date</th>\n",
       "      <th>received_date</th>\n",
       "      <th>...</th>\n",
       "      <th>fixture_status_id</th>\n",
       "      <th>fixture_status</th>\n",
       "      <th>is_owners_option</th>\n",
       "      <th>is_coa</th>\n",
       "      <th>content</th>\n",
       "      <th>subject</th>\n",
       "      <th>sender</th>\n",
       "      <th>is_private</th>\n",
       "      <th>is_invalidated</th>\n",
       "      <th>is_partial</th>\n",
       "    </tr>\n",
       "  </thead>\n",
       "  <tbody>\n",
       "    <tr>\n",
       "      <th>0</th>\n",
       "      <td>151766489</td>\n",
       "      <td>69818876</td>\n",
       "      <td>None</td>\n",
       "      <td>74851203</td>\n",
       "      <td>20</td>\n",
       "      <td>20</td>\n",
       "      <td>None</td>\n",
       "      <td>Email</td>\n",
       "      <td>2024-07-31 11:06:57+00:00</td>\n",
       "      <td>2024-07-31 11:05:23+00:00</td>\n",
       "      <td>...</td>\n",
       "      <td>0</td>\n",
       "      <td>OnSubs</td>\n",
       "      <td>False</td>\n",
       "      <td>False</td>\n",
       "      <td>None</td>\n",
       "      <td>HOWEROB FUJAIRAH MR POSITION LIST - 31TH JULY ...</td>\n",
       "      <td>Howerob</td>\n",
       "      <td>True</td>\n",
       "      <td>False</td>\n",
       "      <td>True</td>\n",
       "    </tr>\n",
       "    <tr>\n",
       "      <th>1</th>\n",
       "      <td>151783860</td>\n",
       "      <td>69836061</td>\n",
       "      <td>None</td>\n",
       "      <td>74864037</td>\n",
       "      <td>76</td>\n",
       "      <td>76</td>\n",
       "      <td>None</td>\n",
       "      <td>Email</td>\n",
       "      <td>2024-07-31 14:35:39+00:00</td>\n",
       "      <td>2024-07-31 14:34:19+00:00</td>\n",
       "      <td>...</td>\n",
       "      <td>0</td>\n",
       "      <td>OnSubs</td>\n",
       "      <td>False</td>\n",
       "      <td>False</td>\n",
       "      <td>None</td>\n",
       "      <td>CLARKSONS AG MR LIST DATED 31.07.24</td>\n",
       "      <td>Clarksons</td>\n",
       "      <td>True</td>\n",
       "      <td>False</td>\n",
       "      <td>True</td>\n",
       "    </tr>\n",
       "    <tr>\n",
       "      <th>2</th>\n",
       "      <td>151785145</td>\n",
       "      <td>69836593</td>\n",
       "      <td>None</td>\n",
       "      <td>74864427</td>\n",
       "      <td>47</td>\n",
       "      <td>47</td>\n",
       "      <td>None</td>\n",
       "      <td>Email</td>\n",
       "      <td>2024-07-31 14:44:45+00:00</td>\n",
       "      <td>2024-07-31 14:43:18+00:00</td>\n",
       "      <td>...</td>\n",
       "      <td>2</td>\n",
       "      <td>Failed</td>\n",
       "      <td>False</td>\n",
       "      <td>False</td>\n",
       "      <td>high challenge no details failed</td>\n",
       "      <td>harbour. | AG MR CLEAN - Evening fixture report</td>\n",
       "      <td>Harbour Marine</td>\n",
       "      <td>True</td>\n",
       "      <td>False</td>\n",
       "      <td>True</td>\n",
       "    </tr>\n",
       "    <tr>\n",
       "      <th>3</th>\n",
       "      <td>151836128</td>\n",
       "      <td>69895515</td>\n",
       "      <td>None</td>\n",
       "      <td>74903725</td>\n",
       "      <td>39</td>\n",
       "      <td>39</td>\n",
       "      <td>None</td>\n",
       "      <td>Email</td>\n",
       "      <td>2024-08-01 07:55:12+00:00</td>\n",
       "      <td>2024-08-01 07:52:29+00:00</td>\n",
       "      <td>...</td>\n",
       "      <td>0</td>\n",
       "      <td>OnSubs</td>\n",
       "      <td>False</td>\n",
       "      <td>False</td>\n",
       "      <td>None</td>\n",
       "      <td>BRS MR POSITION LIST BSS FUJAIRAH - 01.08.2024</td>\n",
       "      <td>BRS Group</td>\n",
       "      <td>True</td>\n",
       "      <td>False</td>\n",
       "      <td>True</td>\n",
       "    </tr>\n",
       "    <tr>\n",
       "      <th>4</th>\n",
       "      <td>151840557</td>\n",
       "      <td>69904244</td>\n",
       "      <td>None</td>\n",
       "      <td>74908859</td>\n",
       "      <td>17</td>\n",
       "      <td>17</td>\n",
       "      <td>None</td>\n",
       "      <td>Email</td>\n",
       "      <td>2024-08-01 08:37:29+00:00</td>\n",
       "      <td>2024-08-01 08:36:01+00:00</td>\n",
       "      <td>...</td>\n",
       "      <td>0</td>\n",
       "      <td>OnSubs</td>\n",
       "      <td>False</td>\n",
       "      <td>False</td>\n",
       "      <td>None</td>\n",
       "      <td>HOWEROB SIKKA MR POSITION LIST - 1ST AUGUST 2024</td>\n",
       "      <td>Howerob</td>\n",
       "      <td>True</td>\n",
       "      <td>False</td>\n",
       "      <td>True</td>\n",
       "    </tr>\n",
       "  </tbody>\n",
       "</table>\n",
       "<p>5 rows × 102 columns</p>\n",
       "</div>"
      ],
      "text/plain": [
       "   fixture_id  message_id external_message_id  parsed_part_id  line_from  \\\n",
       "0   151766489    69818876                None        74851203         20   \n",
       "1   151783860    69836061                None        74864037         76   \n",
       "2   151785145    69836593                None        74864427         47   \n",
       "3   151836128    69895515                None        74903725         39   \n",
       "4   151840557    69904244                None        74908859         17   \n",
       "\n",
       "   line_to in_line_order source              updated_date  \\\n",
       "0       20          None  Email 2024-07-31 11:06:57+00:00   \n",
       "1       76          None  Email 2024-07-31 14:35:39+00:00   \n",
       "2       47          None  Email 2024-07-31 14:44:45+00:00   \n",
       "3       39          None  Email 2024-08-01 07:55:12+00:00   \n",
       "4       17          None  Email 2024-08-01 08:37:29+00:00   \n",
       "\n",
       "              received_date  ...  fixture_status_id  fixture_status  \\\n",
       "0 2024-07-31 11:05:23+00:00  ...                  0          OnSubs   \n",
       "1 2024-07-31 14:34:19+00:00  ...                  0          OnSubs   \n",
       "2 2024-07-31 14:43:18+00:00  ...                  2          Failed   \n",
       "3 2024-08-01 07:52:29+00:00  ...                  0          OnSubs   \n",
       "4 2024-08-01 08:36:01+00:00  ...                  0          OnSubs   \n",
       "\n",
       "  is_owners_option is_coa                           content  \\\n",
       "0            False  False                              None   \n",
       "1            False  False                              None   \n",
       "2            False  False  high challenge no details failed   \n",
       "3            False  False                              None   \n",
       "4            False  False                              None   \n",
       "\n",
       "                                             subject          sender  \\\n",
       "0  HOWEROB FUJAIRAH MR POSITION LIST - 31TH JULY ...         Howerob   \n",
       "1                CLARKSONS AG MR LIST DATED 31.07.24       Clarksons   \n",
       "2    harbour. | AG MR CLEAN - Evening fixture report  Harbour Marine   \n",
       "3     BRS MR POSITION LIST BSS FUJAIRAH - 01.08.2024       BRS Group   \n",
       "4   HOWEROB SIKKA MR POSITION LIST - 1ST AUGUST 2024         Howerob   \n",
       "\n",
       "   is_private  is_invalidated  is_partial  \n",
       "0        True           False        True  \n",
       "1        True           False        True  \n",
       "2        True           False        True  \n",
       "3        True           False        True  \n",
       "4        True           False        True  \n",
       "\n",
       "[5 rows x 102 columns]"
      ]
     },
     "execution_count": 8,
     "metadata": {},
     "output_type": "execute_result"
    }
   ],
   "source": [
    "imos = [9786164,9732929,9510682,9740586,9917892]  # Or add a list of your desired IMOs\n",
    "\n",
    "scraped_fixtures_by_imos = api.get_fixtures(\n",
    "    vessel_type=vessel_type,\n",
    "    received_date_from=received_date_from,\n",
    "    imos=imos,\n",
    ")\n",
    "\n",
    "df_by_imos = pd.DataFrame(scraped_fixtures_by_imos)\n",
    "df_by_imos.head()"
   ]
  },
  {
   "cell_type": "markdown",
   "metadata": {
    "pycharm": {
     "name": "#%% md\n"
    }
   },
   "source": [
    "#### Request by Message or ExternalMessage IDs"
   ]
  },
  {
   "cell_type": "markdown",
   "metadata": {
    "pycharm": {
     "name": "#%% md\n"
    }
   },
   "source": [
    "To retrieve fixtures for particular message ID(s), you should include an extra parameter called `message_ids` when using the `get_fixtures` method. This parameter should contain a list of message IDs. For instance,"
   ]
  },
  {
   "cell_type": "code",
   "execution_count": 9,
   "metadata": {
    "pycharm": {
     "name": "#%%\n"
    }
   },
   "outputs": [
    {
     "data": {
      "text/plain": [
       "ScrapedFixture(fixture_id=151241265, message_id=69206864, external_message_id=None, parsed_part_id=74443270, line_from=162, line_to=162, in_line_order=None, source='Email', updated_date=datetime.datetime(2024, 7, 24, 5, 28, 21, tzinfo=datetime.timezone.utc), received_date=datetime.datetime(2024, 7, 24, 5, 27, 1, tzinfo=datetime.timezone.utc), is_deleted=False, low_confidence=False, scraped_vessel_name='vitol tbn', scraped_deadweight=None, scraped_year_built=None, imo=None, vessel_name=None, deadweight=None, year_built=None, liquid_capacity=None, vessel_type_id=0, vessel_type=None, vessel_class_id=None, vessel_class=None, commercial_operator_id=None, commercial_operator=None, scraped_laycan='01-aug', laycan_from=datetime.datetime(2024, 8, 1, 0, 0, tzinfo=datetime.timezone.utc), laycan_to=datetime.datetime(2024, 8, 1, 0, 0, tzinfo=datetime.timezone.utc), scraped_load='quanzhou', load_geo_id=3306, load_name='Quanzhou', load_taxonomy_id=2, load_taxonomy='Port', scraped_load2=None, load_geo_id2=None, load_name2=None, load_taxonomy_id2=None, load_taxonomy2=None, scraped_discharge='philippines', scraped_discharge_options=None, discharge_geo_id=184, discharge_name='Philippines', discharge_taxonomy_id=3, discharge_taxonomy='Country', scraped_discharge2=None, discharge_geo_id2=None, discharge_name2=None, discharge_taxonomy_id2=None, discharge_taxonomy2=None, scraped_charterer='vitol', charterer_id=1831, charterer='Vitol', scraped_cargo_type='ulsd', cargo_type_id=60, cargo_type='Ultra Low Sulphur Diesel', cargo_group_id=120000, cargo_group='Clean', scraped_quantity='35', quantity=35000.0, quantity_buffer=0.0, quantity_from=35000.0, quantity_to=35000.0, scraped_rate=None, scraped_rate_options=None, rate_value=None, rate_type=None, open_geo_id=None, open_geo_name=None, open_taxonomy_id=None, open_taxonomy=None, open_date=None, scraped_delivery_date=None, delivery_date_from=None, delivery_date_to=None, scraped_delivery=None, delivery_geo_id=None, delivery_name=None, delivery_taxonomy_id=None, delivery_taxonomy=None, scraped_redelivery_from=None, redelivery_from_geo_id=None, redelivery_from_name=None, redelivery_from_taxonomy_id=None, redelivery_from_taxonomy=None, scraped_redelivery_to=None, redelivery_to_geo_id=None, redelivery_to_name=None, redelivery_to_taxonomy_id=None, redelivery_to_taxonomy=None, charter_type_id=0, charter_type='Voyage', fixture_status_id=None, fixture_status=None, is_owners_option=False, is_coa=True, content='vitol tbn - 35 01-aug ulsd quanzhou philippines o/p vitol', subject='LA MER DAILY CPP MARKET REPORT 24 JULY 2024', sender='La Mer Maritime', is_private=True, is_invalidated=False, is_partial=False)"
      ]
     },
     "execution_count": 9,
     "metadata": {},
     "output_type": "execute_result"
    }
   ],
   "source": [
    "message_ids = [69293490,69206864,69292355,69292233,69289483]\n",
    "scraped_fixtures_by_message_ids = api.get_fixtures(\n",
    "    vessel_type=vessel_type,\n",
    "    message_ids=message_ids,\n",
    ")\n",
    "\n",
    "next(iter(scraped_fixtures_by_message_ids), None)"
   ]
  },
  {
   "cell_type": "markdown",
   "metadata": {
    "pycharm": {
     "name": "#%% md\n"
    }
   },
   "source": [
    "You can achieve a similar result for external message IDs by providing an argument called `external_message_ids`."
   ]
  },
  {
   "cell_type": "markdown",
   "metadata": {
    "pycharm": {
     "name": "#%% md\n"
    }
   },
   "source": [
    "#### Request by Fixture IDs"
   ]
  },
  {
   "cell_type": "markdown",
   "metadata": {
    "pycharm": {
     "name": "#%% md\n"
    }
   },
   "source": [
    "In the same manner, to get data for specific fixtures ID(s), you must call the `get_fixtures` method for a list of desired fixture ID(s)."
   ]
  },
  {
   "cell_type": "markdown",
   "metadata": {
    "pycharm": {
     "name": "#%% md\n"
    }
   },
   "source": [
    "Date arguments are not available in this method"
   ]
  },
  {
   "cell_type": "code",
   "execution_count": 10,
   "metadata": {
    "pycharm": {
     "name": "#%%\n"
    }
   },
   "outputs": [
    {
     "data": {
      "text/html": [
       "<div>\n",
       "<style scoped>\n",
       "    .dataframe tbody tr th:only-of-type {\n",
       "        vertical-align: middle;\n",
       "    }\n",
       "\n",
       "    .dataframe tbody tr th {\n",
       "        vertical-align: top;\n",
       "    }\n",
       "\n",
       "    .dataframe thead th {\n",
       "        text-align: right;\n",
       "    }\n",
       "</style>\n",
       "<table border=\"1\" class=\"dataframe\">\n",
       "  <thead>\n",
       "    <tr style=\"text-align: right;\">\n",
       "      <th></th>\n",
       "      <th>fixture_id</th>\n",
       "      <th>message_id</th>\n",
       "      <th>external_message_id</th>\n",
       "      <th>parsed_part_id</th>\n",
       "      <th>line_from</th>\n",
       "      <th>line_to</th>\n",
       "      <th>in_line_order</th>\n",
       "      <th>source</th>\n",
       "      <th>updated_date</th>\n",
       "      <th>received_date</th>\n",
       "      <th>...</th>\n",
       "      <th>fixture_status_id</th>\n",
       "      <th>fixture_status</th>\n",
       "      <th>is_owners_option</th>\n",
       "      <th>is_coa</th>\n",
       "      <th>content</th>\n",
       "      <th>subject</th>\n",
       "      <th>sender</th>\n",
       "      <th>is_private</th>\n",
       "      <th>is_invalidated</th>\n",
       "      <th>is_partial</th>\n",
       "    </tr>\n",
       "  </thead>\n",
       "  <tbody>\n",
       "    <tr>\n",
       "      <th>0</th>\n",
       "      <td>151345310</td>\n",
       "      <td>69293490</td>\n",
       "      <td>None</td>\n",
       "      <td>74501355</td>\n",
       "      <td>123</td>\n",
       "      <td>123</td>\n",
       "      <td>1.0</td>\n",
       "      <td>Email</td>\n",
       "      <td>2024-07-24 17:43:06+00:00</td>\n",
       "      <td>2024-07-24 17:40:41+00:00</td>\n",
       "      <td>...</td>\n",
       "      <td>0</td>\n",
       "      <td>OnSubs</td>\n",
       "      <td>False</td>\n",
       "      <td>False</td>\n",
       "      <td>total maersk cayman 35 ulsd 03-04 aug duqm eaf...</td>\n",
       "      <td>Fearnleys Clean Evening Market Report - 24th J...</td>\n",
       "      <td>Fearnleys</td>\n",
       "      <td>True</td>\n",
       "      <td>False</td>\n",
       "      <td>False</td>\n",
       "    </tr>\n",
       "    <tr>\n",
       "      <th>1</th>\n",
       "      <td>151345311</td>\n",
       "      <td>69293490</td>\n",
       "      <td>None</td>\n",
       "      <td>74501355</td>\n",
       "      <td>122</td>\n",
       "      <td>122</td>\n",
       "      <td>1.0</td>\n",
       "      <td>Email</td>\n",
       "      <td>2024-07-24 17:43:06+00:00</td>\n",
       "      <td>2024-07-24 17:40:41+00:00</td>\n",
       "      <td>...</td>\n",
       "      <td>0</td>\n",
       "      <td>OnSubs</td>\n",
       "      <td>False</td>\n",
       "      <td>False</td>\n",
       "      <td>st cl huaiyang 35 ulsd 03-04 aug sikka eafr/sa...</td>\n",
       "      <td>Fearnleys Clean Evening Market Report - 24th J...</td>\n",
       "      <td>Fearnleys</td>\n",
       "      <td>True</td>\n",
       "      <td>False</td>\n",
       "      <td>False</td>\n",
       "    </tr>\n",
       "    <tr>\n",
       "      <th>2</th>\n",
       "      <td>151345312</td>\n",
       "      <td>69293490</td>\n",
       "      <td>None</td>\n",
       "      <td>74501355</td>\n",
       "      <td>121</td>\n",
       "      <td>121</td>\n",
       "      <td>NaN</td>\n",
       "      <td>Email</td>\n",
       "      <td>2024-07-24 17:43:06+00:00</td>\n",
       "      <td>2024-07-24 17:40:41+00:00</td>\n",
       "      <td>...</td>\n",
       "      <td>0</td>\n",
       "      <td>OnSubs</td>\n",
       "      <td>False</td>\n",
       "      <td>False</td>\n",
       "      <td>reliance torm astrid 35 cpp 02-04 aug sikka uk...</td>\n",
       "      <td>Fearnleys Clean Evening Market Report - 24th J...</td>\n",
       "      <td>Fearnleys</td>\n",
       "      <td>True</td>\n",
       "      <td>False</td>\n",
       "      <td>False</td>\n",
       "    </tr>\n",
       "    <tr>\n",
       "      <th>3</th>\n",
       "      <td>151345313</td>\n",
       "      <td>69293490</td>\n",
       "      <td>None</td>\n",
       "      <td>74501355</td>\n",
       "      <td>114</td>\n",
       "      <td>114</td>\n",
       "      <td>1.0</td>\n",
       "      <td>Email</td>\n",
       "      <td>2024-07-24 17:43:06+00:00</td>\n",
       "      <td>2024-07-24 17:40:41+00:00</td>\n",
       "      <td>...</td>\n",
       "      <td>0</td>\n",
       "      <td>OnSubs</td>\n",
       "      <td>False</td>\n",
       "      <td>False</td>\n",
       "      <td>admic high challenge 35 jet 27-29 jul ruwais u...</td>\n",
       "      <td>Fearnleys Clean Evening Market Report - 24th J...</td>\n",
       "      <td>Fearnleys</td>\n",
       "      <td>True</td>\n",
       "      <td>False</td>\n",
       "      <td>False</td>\n",
       "    </tr>\n",
       "    <tr>\n",
       "      <th>4</th>\n",
       "      <td>151345314</td>\n",
       "      <td>69293490</td>\n",
       "      <td>None</td>\n",
       "      <td>74501355</td>\n",
       "      <td>115</td>\n",
       "      <td>115</td>\n",
       "      <td>NaN</td>\n",
       "      <td>Email</td>\n",
       "      <td>2024-07-24 17:43:06+00:00</td>\n",
       "      <td>2024-07-24 17:40:41+00:00</td>\n",
       "      <td>...</td>\n",
       "      <td>0</td>\n",
       "      <td>OnSubs</td>\n",
       "      <td>False</td>\n",
       "      <td>False</td>\n",
       "      <td>ats amwaj 35 nap 27-28 jul ag japan ws 177.5 o...</td>\n",
       "      <td>Fearnleys Clean Evening Market Report - 24th J...</td>\n",
       "      <td>Fearnleys</td>\n",
       "      <td>True</td>\n",
       "      <td>False</td>\n",
       "      <td>False</td>\n",
       "    </tr>\n",
       "  </tbody>\n",
       "</table>\n",
       "<p>5 rows × 102 columns</p>\n",
       "</div>"
      ],
      "text/plain": [
       "   fixture_id  message_id external_message_id  parsed_part_id  line_from  \\\n",
       "0   151345310    69293490                None        74501355        123   \n",
       "1   151345311    69293490                None        74501355        122   \n",
       "2   151345312    69293490                None        74501355        121   \n",
       "3   151345313    69293490                None        74501355        114   \n",
       "4   151345314    69293490                None        74501355        115   \n",
       "\n",
       "   line_to  in_line_order source              updated_date  \\\n",
       "0      123            1.0  Email 2024-07-24 17:43:06+00:00   \n",
       "1      122            1.0  Email 2024-07-24 17:43:06+00:00   \n",
       "2      121            NaN  Email 2024-07-24 17:43:06+00:00   \n",
       "3      114            1.0  Email 2024-07-24 17:43:06+00:00   \n",
       "4      115            NaN  Email 2024-07-24 17:43:06+00:00   \n",
       "\n",
       "              received_date  ...  fixture_status_id  fixture_status  \\\n",
       "0 2024-07-24 17:40:41+00:00  ...                  0          OnSubs   \n",
       "1 2024-07-24 17:40:41+00:00  ...                  0          OnSubs   \n",
       "2 2024-07-24 17:40:41+00:00  ...                  0          OnSubs   \n",
       "3 2024-07-24 17:40:41+00:00  ...                  0          OnSubs   \n",
       "4 2024-07-24 17:40:41+00:00  ...                  0          OnSubs   \n",
       "\n",
       "  is_owners_option is_coa                                            content  \\\n",
       "0            False  False  total maersk cayman 35 ulsd 03-04 aug duqm eaf...   \n",
       "1            False  False  st cl huaiyang 35 ulsd 03-04 aug sikka eafr/sa...   \n",
       "2            False  False  reliance torm astrid 35 cpp 02-04 aug sikka uk...   \n",
       "3            False  False  admic high challenge 35 jet 27-29 jul ruwais u...   \n",
       "4            False  False  ats amwaj 35 nap 27-28 jul ag japan ws 177.5 o...   \n",
       "\n",
       "                                             subject     sender  is_private  \\\n",
       "0  Fearnleys Clean Evening Market Report - 24th J...  Fearnleys        True   \n",
       "1  Fearnleys Clean Evening Market Report - 24th J...  Fearnleys        True   \n",
       "2  Fearnleys Clean Evening Market Report - 24th J...  Fearnleys        True   \n",
       "3  Fearnleys Clean Evening Market Report - 24th J...  Fearnleys        True   \n",
       "4  Fearnleys Clean Evening Market Report - 24th J...  Fearnleys        True   \n",
       "\n",
       "   is_invalidated  is_partial  \n",
       "0           False       False  \n",
       "1           False       False  \n",
       "2           False       False  \n",
       "3           False       False  \n",
       "4           False       False  \n",
       "\n",
       "[5 rows x 102 columns]"
      ]
     },
     "execution_count": 10,
     "metadata": {},
     "output_type": "execute_result"
    }
   ],
   "source": [
    "fixture_ids = [151345310,151345311,151345312,151345313,151345314]  # Or add a list of your desired fixture IDs\n",
    "\n",
    "scraped_fixtures_by_ids = api.get_fixtures(\n",
    "    vessel_type=vessel_type,\n",
    "    fixture_ids=fixture_ids,\n",
    ")\n",
    "\n",
    "df_by_ids = pd.DataFrame(scraped_fixtures_by_ids)\n",
    "df_by_ids.head()"
   ]
  },
  {
   "cell_type": "markdown",
   "metadata": {
    "pycharm": {
     "name": "#%% md\n"
    }
   },
   "source": [
    "#### Retrieve incremental token\n",
    "The `get_fixtures_incremental_token` allows retrieval of `page_token` by adding the `updated_date_from` value.\n",
    "This `page_token` can be used as a variable to the `get_fixtures_incremental` method, in order to retrieve only new or updated fixtures."
   ]
  },
  {
   "cell_type": "markdown",
   "metadata": {
    "pycharm": {
     "name": "#%% md\n"
    }
   },
   "source": [
    "For instance, to retrieve the relevant page token for last day's data, you must call the `get_fixtures_incremental_token`, as below"
   ]
  },
  {
   "cell_type": "code",
   "execution_count": 11,
   "metadata": {},
   "outputs": [
    {
     "data": {
      "text/plain": [
       "'MjAyNC0wOC0wMVQwODo0MzozNi4wMDBa'"
      ]
     },
     "execution_count": 11,
     "metadata": {},
     "output_type": "execute_result"
    }
   ],
   "source": [
    "updated_date_from = datetime.utcnow() - timedelta(days=1)\n",
    "page_token = api.get_fixtures_incremental_token(\n",
    "    updated_date_from=updated_date_from,\n",
    ")\n",
    "\n",
    "page_token"
   ]
  },
  {
   "cell_type": "markdown",
   "metadata": {
    "pycharm": {
     "name": "#%% md\n"
    }
   },
   "source": [
    "#### Request by page token"
   ]
  },
  {
   "cell_type": "markdown",
   "metadata": {
    "pycharm": {
     "name": "#%% md\n"
    }
   },
   "source": [
    "If the `page_token` parameter is not specified, the `get_fixtures_incremental` method will retrieve all fixtures. You can call the `get_fixtures_incremental` method, as below\n"
   ]
  },
  {
   "cell_type": "code",
   "execution_count": 12,
   "metadata": {},
   "outputs": [
    {
     "data": {
      "text/html": [
       "<div>\n",
       "<style scoped>\n",
       "    .dataframe tbody tr th:only-of-type {\n",
       "        vertical-align: middle;\n",
       "    }\n",
       "\n",
       "    .dataframe tbody tr th {\n",
       "        vertical-align: top;\n",
       "    }\n",
       "\n",
       "    .dataframe thead th {\n",
       "        text-align: right;\n",
       "    }\n",
       "</style>\n",
       "<table border=\"1\" class=\"dataframe\">\n",
       "  <thead>\n",
       "    <tr style=\"text-align: right;\">\n",
       "      <th></th>\n",
       "      <th>fixture_id</th>\n",
       "      <th>message_id</th>\n",
       "      <th>external_message_id</th>\n",
       "      <th>parsed_part_id</th>\n",
       "      <th>line_from</th>\n",
       "      <th>line_to</th>\n",
       "      <th>in_line_order</th>\n",
       "      <th>source</th>\n",
       "      <th>updated_date</th>\n",
       "      <th>received_date</th>\n",
       "      <th>...</th>\n",
       "      <th>fixture_status_id</th>\n",
       "      <th>fixture_status</th>\n",
       "      <th>is_owners_option</th>\n",
       "      <th>is_coa</th>\n",
       "      <th>content</th>\n",
       "      <th>subject</th>\n",
       "      <th>sender</th>\n",
       "      <th>is_private</th>\n",
       "      <th>is_invalidated</th>\n",
       "      <th>is_partial</th>\n",
       "    </tr>\n",
       "  </thead>\n",
       "  <tbody>\n",
       "    <tr>\n",
       "      <th>0</th>\n",
       "      <td>151841295</td>\n",
       "      <td>69907550</td>\n",
       "      <td>None</td>\n",
       "      <td>74910700.0</td>\n",
       "      <td>53.0</td>\n",
       "      <td>53.0</td>\n",
       "      <td>NaN</td>\n",
       "      <td>Email</td>\n",
       "      <td>2024-08-01 08:54:47+00:00</td>\n",
       "      <td>2024-08-01 08:51:53+00:00</td>\n",
       "      <td>...</td>\n",
       "      <td>NaN</td>\n",
       "      <td>None</td>\n",
       "      <td>False</td>\n",
       "      <td>False</td>\n",
       "      <td>dynacom tbn 130kt nhc 28-30/8 ceyhan/vadinar u...</td>\n",
       "      <td>MERIDIAN CRUDE MARKET REPORT 01/08/2024 ** MSG...</td>\n",
       "      <td>Meridian</td>\n",
       "      <td>True</td>\n",
       "      <td>False</td>\n",
       "      <td>False</td>\n",
       "    </tr>\n",
       "    <tr>\n",
       "      <th>1</th>\n",
       "      <td>151841296</td>\n",
       "      <td>69907550</td>\n",
       "      <td>None</td>\n",
       "      <td>74910700.0</td>\n",
       "      <td>106.0</td>\n",
       "      <td>106.0</td>\n",
       "      <td>NaN</td>\n",
       "      <td>Email</td>\n",
       "      <td>2024-08-01 08:54:47+00:00</td>\n",
       "      <td>2024-08-01 08:51:53+00:00</td>\n",
       "      <td>...</td>\n",
       "      <td>NaN</td>\n",
       "      <td>None</td>\n",
       "      <td>False</td>\n",
       "      <td>False</td>\n",
       "      <td>teekay tbn 70kt nhc 11/8 caribs/usg ws 135 atm...</td>\n",
       "      <td>MERIDIAN CRUDE MARKET REPORT 01/08/2024 ** MSG...</td>\n",
       "      <td>Meridian</td>\n",
       "      <td>True</td>\n",
       "      <td>False</td>\n",
       "      <td>False</td>\n",
       "    </tr>\n",
       "    <tr>\n",
       "      <th>2</th>\n",
       "      <td>151841297</td>\n",
       "      <td>69907550</td>\n",
       "      <td>None</td>\n",
       "      <td>74910700.0</td>\n",
       "      <td>112.0</td>\n",
       "      <td>112.0</td>\n",
       "      <td>NaN</td>\n",
       "      <td>Email</td>\n",
       "      <td>2024-08-01 08:54:47+00:00</td>\n",
       "      <td>2024-08-01 08:51:53+00:00</td>\n",
       "      <td>...</td>\n",
       "      <td>NaN</td>\n",
       "      <td>None</td>\n",
       "      <td>False</td>\n",
       "      <td>False</td>\n",
       "      <td>teekay tbn 70kt nhc 8-9/8 ecm/usg ws 117.5 valero</td>\n",
       "      <td>MERIDIAN CRUDE MARKET REPORT 01/08/2024 ** MSG...</td>\n",
       "      <td>Meridian</td>\n",
       "      <td>True</td>\n",
       "      <td>False</td>\n",
       "      <td>False</td>\n",
       "    </tr>\n",
       "    <tr>\n",
       "      <th>3</th>\n",
       "      <td>151841298</td>\n",
       "      <td>69907550</td>\n",
       "      <td>None</td>\n",
       "      <td>74910700.0</td>\n",
       "      <td>105.0</td>\n",
       "      <td>105.0</td>\n",
       "      <td>NaN</td>\n",
       "      <td>Email</td>\n",
       "      <td>2024-08-01 08:54:47+00:00</td>\n",
       "      <td>2024-08-01 08:51:53+00:00</td>\n",
       "      <td>...</td>\n",
       "      <td>NaN</td>\n",
       "      <td>None</td>\n",
       "      <td>False</td>\n",
       "      <td>False</td>\n",
       "      <td>fline tbn 70kt nhc 6-8/8 usg/ukcm ws 135 conoc...</td>\n",
       "      <td>MERIDIAN CRUDE MARKET REPORT 01/08/2024 ** MSG...</td>\n",
       "      <td>Meridian</td>\n",
       "      <td>True</td>\n",
       "      <td>False</td>\n",
       "      <td>False</td>\n",
       "    </tr>\n",
       "    <tr>\n",
       "      <th>4</th>\n",
       "      <td>151841299</td>\n",
       "      <td>69907550</td>\n",
       "      <td>None</td>\n",
       "      <td>74910700.0</td>\n",
       "      <td>107.0</td>\n",
       "      <td>107.0</td>\n",
       "      <td>NaN</td>\n",
       "      <td>Email</td>\n",
       "      <td>2024-08-01 08:54:47+00:00</td>\n",
       "      <td>2024-08-01 08:51:53+00:00</td>\n",
       "      <td>...</td>\n",
       "      <td>NaN</td>\n",
       "      <td>None</td>\n",
       "      <td>False</td>\n",
       "      <td>False</td>\n",
       "      <td>north sea 70kt nhc 13-15/8 whiffenhead/ukcm ws...</td>\n",
       "      <td>MERIDIAN CRUDE MARKET REPORT 01/08/2024 ** MSG...</td>\n",
       "      <td>Meridian</td>\n",
       "      <td>True</td>\n",
       "      <td>False</td>\n",
       "      <td>False</td>\n",
       "    </tr>\n",
       "  </tbody>\n",
       "</table>\n",
       "<p>5 rows × 102 columns</p>\n",
       "</div>"
      ],
      "text/plain": [
       "   fixture_id  message_id external_message_id  parsed_part_id  line_from  \\\n",
       "0   151841295    69907550                None      74910700.0       53.0   \n",
       "1   151841296    69907550                None      74910700.0      106.0   \n",
       "2   151841297    69907550                None      74910700.0      112.0   \n",
       "3   151841298    69907550                None      74910700.0      105.0   \n",
       "4   151841299    69907550                None      74910700.0      107.0   \n",
       "\n",
       "   line_to  in_line_order source              updated_date  \\\n",
       "0     53.0            NaN  Email 2024-08-01 08:54:47+00:00   \n",
       "1    106.0            NaN  Email 2024-08-01 08:54:47+00:00   \n",
       "2    112.0            NaN  Email 2024-08-01 08:54:47+00:00   \n",
       "3    105.0            NaN  Email 2024-08-01 08:54:47+00:00   \n",
       "4    107.0            NaN  Email 2024-08-01 08:54:47+00:00   \n",
       "\n",
       "              received_date  ...  fixture_status_id  fixture_status  \\\n",
       "0 2024-08-01 08:51:53+00:00  ...                NaN            None   \n",
       "1 2024-08-01 08:51:53+00:00  ...                NaN            None   \n",
       "2 2024-08-01 08:51:53+00:00  ...                NaN            None   \n",
       "3 2024-08-01 08:51:53+00:00  ...                NaN            None   \n",
       "4 2024-08-01 08:51:53+00:00  ...                NaN            None   \n",
       "\n",
       "  is_owners_option is_coa                                            content  \\\n",
       "0            False  False  dynacom tbn 130kt nhc 28-30/8 ceyhan/vadinar u...   \n",
       "1            False  False  teekay tbn 70kt nhc 11/8 caribs/usg ws 135 atm...   \n",
       "2            False  False  teekay tbn 70kt nhc 8-9/8 ecm/usg ws 117.5 valero   \n",
       "3            False  False  fline tbn 70kt nhc 6-8/8 usg/ukcm ws 135 conoc...   \n",
       "4            False  False  north sea 70kt nhc 13-15/8 whiffenhead/ukcm ws...   \n",
       "\n",
       "                                             subject    sender  is_private  \\\n",
       "0  MERIDIAN CRUDE MARKET REPORT 01/08/2024 ** MSG...  Meridian        True   \n",
       "1  MERIDIAN CRUDE MARKET REPORT 01/08/2024 ** MSG...  Meridian        True   \n",
       "2  MERIDIAN CRUDE MARKET REPORT 01/08/2024 ** MSG...  Meridian        True   \n",
       "3  MERIDIAN CRUDE MARKET REPORT 01/08/2024 ** MSG...  Meridian        True   \n",
       "4  MERIDIAN CRUDE MARKET REPORT 01/08/2024 ** MSG...  Meridian        True   \n",
       "\n",
       "   is_invalidated  is_partial  \n",
       "0           False       False  \n",
       "1           False       False  \n",
       "2           False       False  \n",
       "3           False       False  \n",
       "4           False       False  \n",
       "\n",
       "[5 rows x 102 columns]"
      ]
     },
     "execution_count": 12,
     "metadata": {},
     "output_type": "execute_result"
    }
   ],
   "source": [
    "scraped_fixtures_incremental = api.get_fixtures_incremental(\n",
    "    vessel_type=vessel_type,\n",
    "    page_token=page_token,\n",
    ")\n",
    "\n",
    "df_by_ids = pd.DataFrame(scraped_fixtures_incremental.data)\n",
    "df_by_ids.head()"
   ]
  },
  {
   "cell_type": "markdown",
   "metadata": {
    "pycharm": {
     "name": "#%% md\n"
    }
   },
   "source": [
    "Also, the `get_fixtures_incremental` method will retrieve the `next_request_token`, which should be used as the `page_token` for the next incremental call and retrieve only new or updated fixtures."
   ]
  },
  {
   "cell_type": "code",
   "execution_count": 13,
   "metadata": {},
   "outputs": [
    {
     "data": {
      "text/plain": [
       "'MjAyNC0wOC0wMlQwODo0MzozNi42OTla'"
      ]
     },
     "execution_count": 13,
     "metadata": {},
     "output_type": "execute_result"
    }
   ],
   "source": [
    "next_request_token = scraped_fixtures_incremental.next_request_token\n",
    "\n",
    "next_request_token"
   ]
  },
  {
   "cell_type": "markdown",
   "metadata": {
    "pycharm": {
     "name": "#%% md\n"
    }
   },
   "source": [
    "#### Usage of optional arguments"
   ]
  },
  {
   "cell_type": "markdown",
   "metadata": {
    "pycharm": {
     "name": "#%% md\n"
    }
   },
   "source": [
    "By default, all fields are returned. In many cases, it is convenient to select specific columns. For example, if we want to compare scraped and mapped fields"
   ]
  },
  {
   "cell_type": "code",
   "execution_count": 14,
   "metadata": {
    "pycharm": {
     "name": "#%%\n"
    }
   },
   "outputs": [
    {
     "data": {
      "text/html": [
       "<div>\n",
       "<style scoped>\n",
       "    .dataframe tbody tr th:only-of-type {\n",
       "        vertical-align: middle;\n",
       "    }\n",
       "\n",
       "    .dataframe tbody tr th {\n",
       "        vertical-align: top;\n",
       "    }\n",
       "\n",
       "    .dataframe thead th {\n",
       "        text-align: right;\n",
       "    }\n",
       "</style>\n",
       "<table border=\"1\" class=\"dataframe\">\n",
       "  <thead>\n",
       "    <tr style=\"text-align: right;\">\n",
       "      <th></th>\n",
       "      <th>scraped_vessel_name</th>\n",
       "      <th>vessel_name</th>\n",
       "      <th>scraped_quantity</th>\n",
       "      <th>quantity</th>\n",
       "      <th>scraped_charterer</th>\n",
       "      <th>charterer</th>\n",
       "      <th>scraped_laycan</th>\n",
       "      <th>laycan_from</th>\n",
       "      <th>laycan_to</th>\n",
       "    </tr>\n",
       "  </thead>\n",
       "  <tbody>\n",
       "    <tr>\n",
       "      <th>0</th>\n",
       "      <td>None</td>\n",
       "      <td>Atlantic T</td>\n",
       "      <td>None</td>\n",
       "      <td>NaN</td>\n",
       "      <td>None</td>\n",
       "      <td>None</td>\n",
       "      <td>None</td>\n",
       "      <td>NaT</td>\n",
       "      <td>NaT</td>\n",
       "    </tr>\n",
       "    <tr>\n",
       "      <th>1</th>\n",
       "      <td>None</td>\n",
       "      <td>Sea Spike</td>\n",
       "      <td>None</td>\n",
       "      <td>NaN</td>\n",
       "      <td>None</td>\n",
       "      <td>None</td>\n",
       "      <td>None</td>\n",
       "      <td>NaT</td>\n",
       "      <td>NaT</td>\n",
       "    </tr>\n",
       "    <tr>\n",
       "      <th>2</th>\n",
       "      <td>None</td>\n",
       "      <td>Yong Ao</td>\n",
       "      <td>None</td>\n",
       "      <td>NaN</td>\n",
       "      <td>None</td>\n",
       "      <td>None</td>\n",
       "      <td>None</td>\n",
       "      <td>NaT</td>\n",
       "      <td>NaT</td>\n",
       "    </tr>\n",
       "    <tr>\n",
       "      <th>3</th>\n",
       "      <td>None</td>\n",
       "      <td>STI Bronx</td>\n",
       "      <td>None</td>\n",
       "      <td>NaN</td>\n",
       "      <td>None</td>\n",
       "      <td>None</td>\n",
       "      <td>None</td>\n",
       "      <td>NaT</td>\n",
       "      <td>NaT</td>\n",
       "    </tr>\n",
       "    <tr>\n",
       "      <th>4</th>\n",
       "      <td>None</td>\n",
       "      <td>Torm Lotte</td>\n",
       "      <td>None</td>\n",
       "      <td>NaN</td>\n",
       "      <td>None</td>\n",
       "      <td>None</td>\n",
       "      <td>None</td>\n",
       "      <td>NaT</td>\n",
       "      <td>NaT</td>\n",
       "    </tr>\n",
       "  </tbody>\n",
       "</table>\n",
       "</div>"
      ],
      "text/plain": [
       "  scraped_vessel_name vessel_name scraped_quantity  quantity  \\\n",
       "0                None  Atlantic T             None       NaN   \n",
       "1                None   Sea Spike             None       NaN   \n",
       "2                None     Yong Ao             None       NaN   \n",
       "3                None   STI Bronx             None       NaN   \n",
       "4                None  Torm Lotte             None       NaN   \n",
       "\n",
       "  scraped_charterer charterer scraped_laycan laycan_from laycan_to  \n",
       "0              None      None           None         NaT       NaT  \n",
       "1              None      None           None         NaT       NaT  \n",
       "2              None      None           None         NaT       NaT  \n",
       "3              None      None           None         NaT       NaT  \n",
       "4              None      None           None         NaT       NaT  "
      ]
     },
     "execution_count": 14,
     "metadata": {},
     "output_type": "execute_result"
    }
   ],
   "source": [
    "scraped_mapped_columns = [\n",
    "    'scraped_vessel_name',\n",
    "    'vessel_name',\n",
    "    'scraped_quantity',\n",
    "    'quantity',\n",
    "    'scraped_charterer',\n",
    "    'charterer',\n",
    "    'scraped_laycan',\n",
    "    'laycan_from',\n",
    "    'laycan_to',\n",
    "]\n",
    "\n",
    "scraped_mapped_df = pd.DataFrame(scraped_fixtures, columns=scraped_mapped_columns)\n",
    "\n",
    "scraped_mapped_df.head()"
   ]
  },
  {
   "cell_type": "markdown",
   "metadata": {
    "pycharm": {
     "name": "#%% md\n"
    }
   },
   "source": [
    "## Examples"
   ]
  },
  {
   "cell_type": "markdown",
   "metadata": {
    "pycharm": {
     "name": "#%% md\n"
    }
   },
   "source": [
    "Let's start by fetching all tanker fixtures received the last week"
   ]
  },
  {
   "cell_type": "code",
   "execution_count": 15,
   "metadata": {
    "pycharm": {
     "name": "#%%\n"
    }
   },
   "outputs": [],
   "source": [
    "example_vessel_type = 1  # Tanker\n",
    "example_date_from = datetime.utcnow() - timedelta(days=7)\n",
    "\n",
    "example_scraped_fixtures = api.get_fixtures(\n",
    "   vessel_type=example_vessel_type,\n",
    "   received_date_from=example_date_from,\n",
    ")"
   ]
  },
  {
   "cell_type": "markdown",
   "metadata": {
    "pycharm": {
     "name": "#%% md\n"
    }
   },
   "source": [
    "#### Exclude deleted scraped fixtures"
   ]
  },
  {
   "cell_type": "markdown",
   "metadata": {
    "pycharm": {
     "name": "#%% md\n"
    }
   },
   "source": [
    "The `is_deleted` property of a scraped fixture indicates whether it is valid or not. If it is set to `True`, the corresponding `fixture_id` has been replaced by a new one.\n",
    "\n",
    "For the sake of completeness, we will exclude deleted scraped fixtures in the following examples."
   ]
  },
  {
   "cell_type": "code",
   "execution_count": 16,
   "metadata": {
    "pycharm": {
     "name": "#%%\n"
    }
   },
   "outputs": [
    {
     "data": {
      "text/plain": [
       "ScrapedFixture(fixture_id=151440093, message_id=69453094, external_message_id=None, parsed_part_id=74606440, line_from=17, line_to=17, in_line_order=None, source='Email', updated_date=datetime.datetime(2024, 7, 26, 9, 10, 2, tzinfo=datetime.timezone.utc), received_date=datetime.datetime(2024, 7, 26, 9, 8, 58, tzinfo=datetime.timezone.utc), is_deleted=False, low_confidence=False, scraped_vessel_name='cardiff tbn', scraped_deadweight=None, scraped_year_built=None, imo=None, vessel_name=None, deadweight=None, year_built=None, liquid_capacity=None, vessel_type_id=0, vessel_type=None, vessel_class_id=None, vessel_class=None, commercial_operator_id=None, commercial_operator=None, scraped_laycan='10-aug', laycan_from=datetime.datetime(2024, 8, 10, 0, 0, tzinfo=datetime.timezone.utc), laycan_to=datetime.datetime(2024, 8, 10, 0, 0, tzinfo=datetime.timezone.utc), scraped_load='bashayer', load_geo_id=3782, load_name='Bashayer', load_taxonomy_id=2, load_taxonomy='Port', scraped_load2=None, load_geo_id2=None, load_name2=None, load_taxonomy_id2=None, load_taxonomy2=None, scraped_discharge='fuja', scraped_discharge_options=None, discharge_geo_id=3153, discharge_name='Fujairah', discharge_taxonomy_id=2, discharge_taxonomy='Port', scraped_discharge2=None, discharge_geo_id2=None, discharge_name2=None, discharge_taxonomy_id2=None, discharge_taxonomy2=None, scraped_charterer='cardiff', charterer_id=-1, charterer=None, scraped_cargo_type='hc', cargo_type_id=19, cargo_type='Crude Oil', cargo_group_id=130000, cargo_group='Dirty', scraped_quantity='130', quantity=130000.0, quantity_buffer=0.0, quantity_from=130000.0, quantity_to=130000.0, scraped_rate='$1.90m', scraped_rate_options=None, rate_value=1900000.0, rate_type='LS', open_geo_id=None, open_geo_name=None, open_taxonomy_id=None, open_taxonomy=None, open_date=None, scraped_delivery_date=None, delivery_date_from=None, delivery_date_to=None, scraped_delivery=None, delivery_geo_id=None, delivery_name=None, delivery_taxonomy_id=None, delivery_taxonomy=None, scraped_redelivery_from=None, redelivery_from_geo_id=None, redelivery_from_name=None, redelivery_from_taxonomy_id=None, redelivery_from_taxonomy=None, scraped_redelivery_to=None, redelivery_to_geo_id=None, redelivery_to_name=None, redelivery_to_taxonomy_id=None, redelivery_to_taxonomy=None, charter_type_id=0, charter_type='Voyage', fixture_status_id=None, fixture_status=None, is_owners_option=False, is_coa=False, content='cardiff tbn 130 10-aug hc bashayer fuja $1.90m cardiff tbn -', subject=\"DA' OCEANIC SHIPPING - DAILY DPP MARKET REPORT 26.07.2024\", sender=\"Da'oceanic Shipping\", is_private=True, is_invalidated=False, is_partial=False)"
      ]
     },
     "execution_count": 16,
     "metadata": {},
     "output_type": "execute_result"
    }
   ],
   "source": [
    "example_scraped_fixtures = [fixture for fixture in example_scraped_fixtures if not fixture.is_deleted]\n",
    "\n",
    "next(iter(example_scraped_fixtures), None)"
   ]
  },
  {
   "cell_type": "markdown",
   "metadata": {
    "pycharm": {
     "name": "#%% md\n"
    }
   },
   "source": [
    "Now, we are ready to insert our data into a dataframe and keep only specific fields"
   ]
  },
  {
   "cell_type": "code",
   "execution_count": 17,
   "metadata": {
    "pycharm": {
     "name": "#%%\n"
    }
   },
   "outputs": [
    {
     "data": {
      "text/html": [
       "<div>\n",
       "<style scoped>\n",
       "    .dataframe tbody tr th:only-of-type {\n",
       "        vertical-align: middle;\n",
       "    }\n",
       "\n",
       "    .dataframe tbody tr th {\n",
       "        vertical-align: top;\n",
       "    }\n",
       "\n",
       "    .dataframe thead th {\n",
       "        text-align: right;\n",
       "    }\n",
       "</style>\n",
       "<table border=\"1\" class=\"dataframe\">\n",
       "  <thead>\n",
       "    <tr style=\"text-align: right;\">\n",
       "      <th></th>\n",
       "      <th>imo</th>\n",
       "      <th>charterer</th>\n",
       "      <th>laycan_from</th>\n",
       "      <th>load_name</th>\n",
       "      <th>is_deleted</th>\n",
       "    </tr>\n",
       "  </thead>\n",
       "  <tbody>\n",
       "    <tr>\n",
       "      <th>0</th>\n",
       "      <td>&lt;NA&gt;</td>\n",
       "      <td>None</td>\n",
       "      <td>2024-08-10 00:00:00+00:00</td>\n",
       "      <td>Bashayer</td>\n",
       "      <td>False</td>\n",
       "    </tr>\n",
       "    <tr>\n",
       "      <th>1</th>\n",
       "      <td>9305611</td>\n",
       "      <td>Heritage Petroleum</td>\n",
       "      <td>2024-08-07 00:00:00+00:00</td>\n",
       "      <td>Ceyhan</td>\n",
       "      <td>False</td>\n",
       "    </tr>\n",
       "    <tr>\n",
       "      <th>2</th>\n",
       "      <td>9449405</td>\n",
       "      <td>Shell</td>\n",
       "      <td>2024-08-11 00:00:00+00:00</td>\n",
       "      <td>Nigeria</td>\n",
       "      <td>False</td>\n",
       "    </tr>\n",
       "    <tr>\n",
       "      <th>3</th>\n",
       "      <td>9305623</td>\n",
       "      <td>Heritage Petroleum</td>\n",
       "      <td>2024-08-07 00:00:00+00:00</td>\n",
       "      <td>Ceyhan</td>\n",
       "      <td>False</td>\n",
       "    </tr>\n",
       "    <tr>\n",
       "      <th>4</th>\n",
       "      <td>9749556</td>\n",
       "      <td>ENI</td>\n",
       "      <td>2024-08-04 00:00:00+00:00</td>\n",
       "      <td>US Gulf</td>\n",
       "      <td>False</td>\n",
       "    </tr>\n",
       "  </tbody>\n",
       "</table>\n",
       "</div>"
      ],
      "text/plain": [
       "       imo           charterer               laycan_from load_name  is_deleted\n",
       "0     <NA>                None 2024-08-10 00:00:00+00:00  Bashayer       False\n",
       "1  9305611  Heritage Petroleum 2024-08-07 00:00:00+00:00    Ceyhan       False\n",
       "2  9449405               Shell 2024-08-11 00:00:00+00:00   Nigeria       False\n",
       "3  9305623  Heritage Petroleum 2024-08-07 00:00:00+00:00    Ceyhan       False\n",
       "4  9749556                 ENI 2024-08-04 00:00:00+00:00   US Gulf       False"
      ]
     },
     "execution_count": 17,
     "metadata": {},
     "output_type": "execute_result"
    }
   ],
   "source": [
    "example_columns = [\n",
    "    'imo',\n",
    "    'charterer',   \n",
    "    'laycan_from',\n",
    "    'load_name',\n",
    "    'is_deleted',\n",
    "]\n",
    "\n",
    "data = pd.DataFrame(example_scraped_fixtures, columns=example_columns).astype({'imo': 'Int64'})\n",
    "\n",
    "data.head()"
   ]
  },
  {
   "cell_type": "markdown",
   "metadata": {
    "pycharm": {
     "name": "#%% md\n"
    }
   },
   "source": [
    "#### Top 10 Charterers"
   ]
  },
  {
   "cell_type": "markdown",
   "metadata": {
    "pycharm": {
     "name": "#%% md\n"
    }
   },
   "source": [
    "In this example, we will find the top 10 Charterers, based on the number of distinct voyages"
   ]
  },
  {
   "cell_type": "code",
   "execution_count": 18,
   "metadata": {
    "pycharm": {
     "name": "#%%\n"
    }
   },
   "outputs": [
    {
     "data": {
      "text/html": [
       "<div>\n",
       "<style scoped>\n",
       "    .dataframe tbody tr th:only-of-type {\n",
       "        vertical-align: middle;\n",
       "    }\n",
       "\n",
       "    .dataframe tbody tr th {\n",
       "        vertical-align: top;\n",
       "    }\n",
       "\n",
       "    .dataframe thead th {\n",
       "        text-align: right;\n",
       "    }\n",
       "</style>\n",
       "<table border=\"1\" class=\"dataframe\">\n",
       "  <thead>\n",
       "    <tr style=\"text-align: right;\">\n",
       "      <th></th>\n",
       "      <th>charterer</th>\n",
       "      <th>FixtureCount</th>\n",
       "    </tr>\n",
       "  </thead>\n",
       "  <tbody>\n",
       "    <tr>\n",
       "      <th>0</th>\n",
       "      <td>Aramco Trading Company</td>\n",
       "      <td>69</td>\n",
       "    </tr>\n",
       "    <tr>\n",
       "      <th>1</th>\n",
       "      <td>Total</td>\n",
       "      <td>48</td>\n",
       "    </tr>\n",
       "    <tr>\n",
       "      <th>2</th>\n",
       "      <td>BP</td>\n",
       "      <td>45</td>\n",
       "    </tr>\n",
       "    <tr>\n",
       "      <th>3</th>\n",
       "      <td>Vitol</td>\n",
       "      <td>43</td>\n",
       "    </tr>\n",
       "    <tr>\n",
       "      <th>4</th>\n",
       "      <td>Shell</td>\n",
       "      <td>41</td>\n",
       "    </tr>\n",
       "    <tr>\n",
       "      <th>5</th>\n",
       "      <td>Unipec</td>\n",
       "      <td>34</td>\n",
       "    </tr>\n",
       "    <tr>\n",
       "      <th>6</th>\n",
       "      <td>Chevron</td>\n",
       "      <td>31</td>\n",
       "    </tr>\n",
       "    <tr>\n",
       "      <th>7</th>\n",
       "      <td>Reliance</td>\n",
       "      <td>29</td>\n",
       "    </tr>\n",
       "    <tr>\n",
       "      <th>8</th>\n",
       "      <td>ExxonMobil</td>\n",
       "      <td>29</td>\n",
       "    </tr>\n",
       "    <tr>\n",
       "      <th>9</th>\n",
       "      <td>Abu Dhabi National Oil Company</td>\n",
       "      <td>28</td>\n",
       "    </tr>\n",
       "  </tbody>\n",
       "</table>\n",
       "</div>"
      ],
      "text/plain": [
       "                        charterer  FixtureCount\n",
       "0          Aramco Trading Company            69\n",
       "1                           Total            48\n",
       "2                              BP            45\n",
       "3                           Vitol            43\n",
       "4                           Shell            41\n",
       "5                          Unipec            34\n",
       "6                         Chevron            31\n",
       "7                        Reliance            29\n",
       "8                      ExxonMobil            29\n",
       "9  Abu Dhabi National Oil Company            28"
      ]
     },
     "execution_count": 18,
     "metadata": {},
     "output_type": "execute_result"
    }
   ],
   "source": [
    "top_chrtr_ser = data[['charterer', 'imo']].drop_duplicates().charterer.value_counts().head(10)\n",
    "\n",
    "top_chrtr_df = top_chrtr_ser.to_frame(name='FixtureCount').reset_index().rename(columns={'index': 'Charterer'})\n",
    "\n",
    "top_chrtr_df"
   ]
  },
  {
   "cell_type": "markdown",
   "metadata": {
    "pycharm": {
     "name": "#%% md\n"
    }
   },
   "source": [
    "And display results in a bar plot"
   ]
  },
  {
   "cell_type": "code",
   "execution_count": 19,
   "metadata": {
    "pycharm": {
     "name": "#%%\n"
    }
   },
   "outputs": [
    {
     "data": {
      "image/png": "[encoded data removed]"
     },
     "metadata": {},
     "output_type": "display_data"
    }
   ],
   "source": [
    "top_chrtr_fig = go.Figure()\n",
    "\n",
    "bar = go.Bar(\n",
    "    x=top_chrtr_df.charterer.tolist(),\n",
    "    y=top_chrtr_df.FixtureCount.tolist(),\n",
    ")\n",
    "\n",
    "top_chrtr_fig.add_trace(bar)\n",
    "top_chrtr_fig.update_xaxes(title_text=\"Charterer\")\n",
    "top_chrtr_fig.update_yaxes(title_text=\"Number of Voyages\")\n",
    "top_chrtr_fig.show()"
   ]
  },
  {
   "cell_type": "markdown",
   "metadata": {
    "pycharm": {
     "name": "#%% md\n"
    }
   },
   "source": [
    "#### Vessels loading in specific areas"
   ]
  },
  {
   "cell_type": "markdown",
   "metadata": {
    "pycharm": {
     "name": "#%% md\n"
    }
   },
   "source": [
    "In this example, we will create a visualization, for the number of distinct vessels loading in specific areas per day over the next week"
   ]
  },
  {
   "cell_type": "code",
   "execution_count": 20,
   "metadata": {
    "pycharm": {
     "name": "#%%\n"
    }
   },
   "outputs": [
    {
     "data": {
      "text/plain": [
       "['Arabian Gulf', 'US Gulf', 'Sikka', 'Singapore', 'Korea, Republic of']"
      ]
     },
     "execution_count": 20,
     "metadata": {},
     "output_type": "execute_result"
    }
   ],
   "source": [
    "this_week_days = pd.date_range(start=datetime.utcnow().date(), freq='D', periods=7, tz='UTC')\n",
    "areas = data[data.load_name.notna()].load_name.value_counts().head().index.tolist()\n",
    "\n",
    "areas"
   ]
  },
  {
   "cell_type": "markdown",
   "metadata": {
    "pycharm": {
     "name": "#%% md\n"
    }
   },
   "source": [
    "Create the pivot table"
   ]
  },
  {
   "cell_type": "code",
   "execution_count": 21,
   "metadata": {
    "pycharm": {
     "name": "#%%\n"
    }
   },
   "outputs": [
    {
     "data": {
      "text/html": [
       "<div>\n",
       "<style scoped>\n",
       "    .dataframe tbody tr th:only-of-type {\n",
       "        vertical-align: middle;\n",
       "    }\n",
       "\n",
       "    .dataframe tbody tr th {\n",
       "        vertical-align: top;\n",
       "    }\n",
       "\n",
       "    .dataframe thead th {\n",
       "        text-align: right;\n",
       "    }\n",
       "</style>\n",
       "<table border=\"1\" class=\"dataframe\">\n",
       "  <thead>\n",
       "    <tr style=\"text-align: right;\">\n",
       "      <th>load_name</th>\n",
       "      <th>laycan_from</th>\n",
       "      <th>Arabian Gulf</th>\n",
       "      <th>Korea, Republic of</th>\n",
       "      <th>Sikka</th>\n",
       "      <th>Singapore</th>\n",
       "      <th>US Gulf</th>\n",
       "    </tr>\n",
       "  </thead>\n",
       "  <tbody>\n",
       "    <tr>\n",
       "      <th>0</th>\n",
       "      <td>2024-08-02 00:00:00+00:00</td>\n",
       "      <td>6</td>\n",
       "      <td>1</td>\n",
       "      <td>4</td>\n",
       "      <td>3</td>\n",
       "      <td>14</td>\n",
       "    </tr>\n",
       "    <tr>\n",
       "      <th>1</th>\n",
       "      <td>2024-08-03 00:00:00+00:00</td>\n",
       "      <td>5</td>\n",
       "      <td>5</td>\n",
       "      <td>1</td>\n",
       "      <td>2</td>\n",
       "      <td>19</td>\n",
       "    </tr>\n",
       "    <tr>\n",
       "      <th>2</th>\n",
       "      <td>2024-08-04 00:00:00+00:00</td>\n",
       "      <td>8</td>\n",
       "      <td>0</td>\n",
       "      <td>5</td>\n",
       "      <td>1</td>\n",
       "      <td>6</td>\n",
       "    </tr>\n",
       "    <tr>\n",
       "      <th>3</th>\n",
       "      <td>2024-08-05 00:00:00+00:00</td>\n",
       "      <td>10</td>\n",
       "      <td>1</td>\n",
       "      <td>7</td>\n",
       "      <td>2</td>\n",
       "      <td>15</td>\n",
       "    </tr>\n",
       "    <tr>\n",
       "      <th>4</th>\n",
       "      <td>2024-08-06 00:00:00+00:00</td>\n",
       "      <td>12</td>\n",
       "      <td>1</td>\n",
       "      <td>4</td>\n",
       "      <td>4</td>\n",
       "      <td>15</td>\n",
       "    </tr>\n",
       "    <tr>\n",
       "      <th>5</th>\n",
       "      <td>2024-08-07 00:00:00+00:00</td>\n",
       "      <td>11</td>\n",
       "      <td>1</td>\n",
       "      <td>4</td>\n",
       "      <td>0</td>\n",
       "      <td>4</td>\n",
       "    </tr>\n",
       "    <tr>\n",
       "      <th>6</th>\n",
       "      <td>2024-08-08 00:00:00+00:00</td>\n",
       "      <td>13</td>\n",
       "      <td>4</td>\n",
       "      <td>3</td>\n",
       "      <td>4</td>\n",
       "      <td>5</td>\n",
       "    </tr>\n",
       "  </tbody>\n",
       "</table>\n",
       "</div>"
      ],
      "text/plain": [
       "load_name               laycan_from  Arabian Gulf  Korea, Republic of  Sikka  \\\n",
       "0         2024-08-02 00:00:00+00:00             6                   1      4   \n",
       "1         2024-08-03 00:00:00+00:00             5                   5      1   \n",
       "2         2024-08-04 00:00:00+00:00             8                   0      5   \n",
       "3         2024-08-05 00:00:00+00:00            10                   1      7   \n",
       "4         2024-08-06 00:00:00+00:00            12                   1      4   \n",
       "5         2024-08-07 00:00:00+00:00            11                   1      4   \n",
       "6         2024-08-08 00:00:00+00:00            13                   4      3   \n",
       "\n",
       "load_name  Singapore  US Gulf  \n",
       "0                  3       14  \n",
       "1                  2       19  \n",
       "2                  1        6  \n",
       "3                  2       15  \n",
       "4                  4       15  \n",
       "5                  0        4  \n",
       "6                  4        5  "
      ]
     },
     "execution_count": 21,
     "metadata": {},
     "output_type": "execute_result"
    }
   ],
   "source": [
    "areas_mask = data.load_name.isin(areas) & data.laycan_from.isin(this_week_days)\n",
    "\n",
    "df_areas = data[areas_mask]\n",
    "\n",
    "df_pivot = pd.pivot_table(\n",
    "    df_areas,\n",
    "    columns='load_name',\n",
    "    index='laycan_from',\n",
    "    values='imo',\n",
    "    aggfunc=pd.Series.nunique,\n",
    "    fill_value=0,\n",
    ").reindex(index=this_week_days, fill_value=0).reset_index().rename(columns={'index': 'laycan_from'})\n",
    "\n",
    "df_pivot"
   ]
  },
  {
   "cell_type": "markdown",
   "metadata": {
    "pycharm": {
     "name": "#%% md\n"
    }
   },
   "source": [
    "And display the results as timeseries"
   ]
  },
  {
   "cell_type": "code",
   "execution_count": 22,
   "metadata": {
    "pycharm": {
     "name": "#%%\n"
    }
   },
   "outputs": [
    {
     "data": {
      "image/png": "[encoded data removed]"
     },
     "metadata": {},
     "output_type": "display_data"
    }
   ],
   "source": [
    "def area_button(area):\n",
    "    args = [\n",
    "        {'visible': [i == areas.index(area) for i in range(len(areas))]},\n",
    "        {\n",
    "            'title': f'Vessels loading in {area} per day',\n",
    "            'showlegend': True\n",
    "        },\n",
    "    ]\n",
    "    \n",
    "    return dict(\n",
    "        label=area,\n",
    "        method='update',\n",
    "        args=args,\n",
    "    )\n",
    "\n",
    "title = 'Vessels loading per day'\n",
    "today = datetime.combine(datetime.utcnow().date(), datetime.min.time())\n",
    "\n",
    "areas_fig = go.Figure()\n",
    "\n",
    "area_buttons = []\n",
    "\n",
    "for area in areas:\n",
    "    if area not in df_pivot.columns:\n",
    "        continue\n",
    "    area_scatter_plot = go.Scatter(    \n",
    "        x=df_pivot.laycan_from,\n",
    "        y=df_pivot[area],\n",
    "        name=area,\n",
    "        mode='lines',\n",
    "    )\n",
    "\n",
    "    areas_fig.add_trace(area_scatter_plot)\n",
    "    \n",
    "    area_buttons.append(area_button(area))\n",
    "    \n",
    "buttons = list([\n",
    "    dict(\n",
    "        label='All',\n",
    "        method='update',\n",
    "        args=[    \n",
    "            {'visible': [True for _ in range(len(areas))]},\n",
    "            {\n",
    "                'title': title,\n",
    "                'showlegend': True\n",
    "            }\n",
    "        ],\n",
    "    ),\n",
    "    *area_buttons,\n",
    "])\n",
    "\n",
    "areas_fig.update_layout(\n",
    "    title=title,\n",
    "    updatemenus=[go.layout.Updatemenu(\n",
    "        active=0,\n",
    "        buttons=buttons,\n",
    "    )],\n",
    "    xaxis_range=[today - timedelta(hours=4), today + timedelta(hours=24*6 + 4)],\n",
    ")\n",
    "\n",
    "areas_fig.show()"
   ]
  },
  {
   "cell_type": "markdown",
   "metadata": {
    "pycharm": {
     "name": "#%% md\n"
    }
   },
   "source": [
    "#### Export data to csv"
   ]
  },
  {
   "cell_type": "code",
   "execution_count": 23,
   "metadata": {
    "collapsed": false,
    "jupyter": {
     "outputs_hidden": false
    },
    "pycharm": {
     "name": "#%%\n"
    }
   },
   "outputs": [],
   "source": [
    "output_path = '' # Change output_path with your path\n",
    "filename = 'last_week_fixtures.csv'\n",
    "if not data.empty:\n",
    "    data.to_csv(output_path+filename, index=False)"
   ]
  },
  {
   "cell_type": "code",
   "execution_count": null,
   "metadata": {
    "collapsed": false,
    "jupyter": {
     "outputs_hidden": false
    },
    "pycharm": {
     "name": "#%%\n"
    }
   },
   "outputs": [],
   "source": []
  }
 ],
 "metadata": {
  "colab": {
   "collapsed_sections": [],
   "name": "Scraped Fixtures API Example.ipynb",
   "provenance": []
  },
  "kernelspec": {
   "display_name": "Python 3 (ipykernel)",
   "language": "python",
   "name": "python3"
  },
  "language_info": {
   "codemirror_mode": {
    "name": "ipython",
    "version": 3
   },
   "file_extension": ".py",
   "mimetype": "text/x-python",
   "name": "python",
   "nbconvert_exporter": "python",
   "pygments_lexer": "ipython3",
   "version": "3.8.10"
  }
 },
 "nbformat": 4,
 "nbformat_minor": 4
}
