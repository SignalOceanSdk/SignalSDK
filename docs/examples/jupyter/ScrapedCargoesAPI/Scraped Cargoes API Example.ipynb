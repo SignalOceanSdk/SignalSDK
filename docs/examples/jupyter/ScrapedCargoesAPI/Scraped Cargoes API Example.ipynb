{
 "cells": [
  {
   "cell_type": "markdown",
   "id": "7b752389",
   "metadata": {},
   "source": [
    "# Scraped Cargoes API Example\n",
    "\n",
    "## Run this example in [Colab](https://colab.research.google.com/github/SignalOceanSdk/SignalSDK/blob/master/docs/examples/jupyter/ScrapedCargoesAPI/Scraped%20Cargoes%20API%20Example.ipynb)"
   ]
  },
  {
   "cell_type": "markdown",
   "id": "8f837272",
   "metadata": {},
   "source": [
    "Get your personal Signal Ocean API subscription key (acquired [here](https://apis.signalocean.com/profile)) and replace it below:"
   ]
  },
  {
   "cell_type": "code",
   "execution_count": 1,
   "id": "2497822b",
   "metadata": {},
   "outputs": [],
   "source": [
    "signal_ocean_api_key = '' # Replace with your subscription key"
   ]
  },
  {
   "cell_type": "markdown",
   "id": "dd44a9fd",
   "metadata": {},
   "source": [
    "# Scraped Cargoes API\n",
    "\n",
    "The goal of Scraped Cargoes API is to collect and return scraped cargoes by the given filters or cargo IDs. This can be done by using the `ScrapedCargoesAPI` class and calling appropriate methods\n",
    "\n",
    "#### 1. Request by filters\n",
    "\n",
    "Cargoes can be retrieved for specific filters, by calling the `get_cargoes` method with the following arguments:\n",
    "\n",
    "#### Required\n",
    "\n",
    "`vessel_type` The vessel type\n",
    "\n",
    "_Additionally, at least one of the following is required_\n",
    "\n",
    "`message_ids` List of MessageIDs\n",
    "\n",
    "`external_message_ids` List of ExternalMessageIDs\n",
    "\n",
    "`received_date_from` Earliest date the cargo received\n",
    "\n",
    "`received_date_to` Latest date the cargo received\n",
    "\n",
    "`updated_date_from` Earliest date the cargo updated\n",
    "\n",
    "`updated_date_to` Latest date the cargo updated\n",
    "\n",
    "> Mixing received and updated dates is not allowed\n",
    "\n",
    "> It's highly recommended to use UTC  dates, since this is the internally used format\n",
    "\n",
    "\n",
    "#### 2. Request by cargo IDs\n",
    "\n",
    "Cargoes can be retrieved for specific cargo IDs, by calling the `get_cargoes_by_cargo_ids` method with the following argument:\n",
    "\n",
    "#### Required\n",
    "\n",
    "`cargo_ids` A list of cargo ids to retrieve"
   ]
  },
  {
   "cell_type": "markdown",
   "id": "3c3d1cb3",
   "metadata": {},
   "source": [
    "### Additional optional arguments\n",
    "\n",
    "Both methods, also accept the following optional arguments:\n",
    "\n",
    "`include_details` If this field is `True` the following columns will be included in the response (otherwise they will be `None`):\n",
    "```\n",
    "parsed_part_id, line_from, line_to, in_line_order, source\n",
    "```\n",
    "\n",
    "`include_scraped_fields` If this field is `True` the following columns will be included in the response (otherwise they will be `None`):\n",
    "```\n",
    "scraped_laycan, scraped_load, scraped_load2, scraped_discharge, scraped_discharge_options, scraped_discharge2, scraped_charterer, scraped_cargo_type, scraped_quantity, scraped_delivery_date, scraped_delivery_from, scraped_delivery_to, \n",
    "scraped_redelivery_from, scraped_redelivery_to\n",
    "```\n",
    "\n",
    "`include_labels` If this field is `True` the following columns will be included in the response (otherwise they will be `None`):\n",
    "```\n",
    "load_name, load_taxonomy, load_name2, load_taxonomy2, discharge_name, discharge_taxonomy, discharge_name2, discharge_taxonomy2, charterer, cargo_type, cargo_type_group, delivery_from_name, delivery_from_taxonomy, delivery_to_name, delivery_to_taxonomy, redelivery_from_name, redelivery_from_taxonomy, redelivery_to_name, redelivery_to_taxonomy, charter_type, cargo_status\n",
    "```\n",
    "\n",
    "`include_content` If this field is `True` the following columns will be included in the response (otherwise they will be `None`):\n",
    "```\n",
    "content\n",
    "```\n",
    "\n",
    "`include_sender` If this field is `True` the following columns will be included in the response (otherwise they will be `None`): \n",
    "```\n",
    "sender\n",
    "```\n",
    "\n",
    "`include_debug_info` If this field is `True` the following columns will be included in the response (otherwise they will be `None`):\n",
    "```\n",
    "is_private\n",
    "```\n",
    "\n",
    "> Default value is `True` for the arguments described above "
   ]
  },
  {
   "cell_type": "markdown",
   "id": "4e694c91",
   "metadata": {},
   "source": [
    "## Installation"
   ]
  },
  {
   "cell_type": "markdown",
   "id": "0f62eae9",
   "metadata": {},
   "source": [
    "To install _Signal Ocean SDK_, simply run the following command"
   ]
  },
  {
   "cell_type": "code",
   "execution_count": 2,
   "id": "0c0bc271",
   "metadata": {},
   "outputs": [],
   "source": [
    "%%capture\n",
    "%pip install signal-ocean"
   ]
  },
  {
   "cell_type": "markdown",
   "id": "8bd5ede1",
   "metadata": {},
   "source": [
    "## Quickstart"
   ]
  },
  {
   "cell_type": "markdown",
   "id": "b69aa608",
   "metadata": {},
   "source": [
    "Import `signal-ocean` and other modules required for this demo"
   ]
  },
  {
   "cell_type": "code",
   "execution_count": 3,
   "id": "ff6a062a",
   "metadata": {},
   "outputs": [],
   "source": [
    "from signal_ocean import Connection\n",
    "from signal_ocean.scraped_cargoes import ScrapedCargoesAPI, ScrapedCargo\n",
    "\n",
    "from datetime import datetime, timedelta\n",
    "import pandas as pd\n",
    "import plotly.graph_objects as go"
   ]
  },
  {
   "cell_type": "markdown",
   "id": "856e9b14",
   "metadata": {},
   "source": [
    "Create a new instance of the `ScrapedCargoesAPI` class"
   ]
  },
  {
   "cell_type": "code",
   "execution_count": 4,
   "id": "c309af83",
   "metadata": {},
   "outputs": [],
   "source": [
    "connection = Connection(signal_ocean_api_key)\n",
    "api = ScrapedCargoesAPI(connection)"
   ]
  },
  {
   "cell_type": "markdown",
   "id": "af6e7fa7",
   "metadata": {},
   "source": [
    "Now you are ready to retrieve your data"
   ]
  },
  {
   "cell_type": "markdown",
   "id": "7f8dce5e",
   "metadata": {},
   "source": [
    "#### Request by date"
   ]
  },
  {
   "cell_type": "markdown",
   "id": "3413ec09",
   "metadata": {},
   "source": [
    "To get all tanker cargoes received the last 4 days, you must declare appropriate `vessel_type` and `received_date_from` variables"
   ]
  },
  {
   "cell_type": "code",
   "execution_count": 5,
   "id": "7c189880",
   "metadata": {},
   "outputs": [],
   "source": [
    "vessel_type = 1  # Tanker\n",
    "received_date_from = datetime.utcnow() - timedelta(days=4)"
   ]
  },
  {
   "cell_type": "markdown",
   "id": "25751fdc",
   "metadata": {},
   "source": [
    "And then call `get_cargoes` method, as below"
   ]
  },
  {
   "cell_type": "code",
   "execution_count": 6,
   "id": "8c6089c8",
   "metadata": {},
   "outputs": [
    {
     "data": {
      "text/plain": [
       "ScrapedCargo(cargo_id=33490561, message_id=47247133, external_message_id=None, parsed_part_id=58302943, line_from=66, line_to=66, in_line_order=None, source='Email', updated_date=datetime.datetime(2023, 9, 11, 16, 44, 36, tzinfo=datetime.timezone.utc), received_date=datetime.datetime(2023, 9, 11, 16, 43, 41, tzinfo=datetime.timezone.utc), is_deleted=False, scraped_laycan='04-05/10', laycan_from=datetime.datetime(2023, 10, 4, 0, 0, tzinfo=datetime.timezone.utc), laycan_to=datetime.datetime(2023, 10, 5, 0, 0, tzinfo=datetime.timezone.utc), scraped_load='brazil', load_geo_id=38, load_name='Brazil', load_taxonomy_id=3, load_taxonomy='Country', scraped_load2=None, load_geo_id2=None, load_name2=None, load_taxonomy_id2=None, load_taxonomy2=None, scraped_discharge='uswc', scraped_discharge_options=None, discharge_geo_id=24741, discharge_name='US West Coast', discharge_taxonomy_id=4, discharge_taxonomy='Level0', scraped_discharge2=None, discharge_geo_id2=None, discharge_name2=None, discharge_taxonomy_id2=None, discharge_taxonomy2=None, scraped_charterer='petrobras', charterer_id=1242, charterer='Petrobras', scraped_cargo_type=None, cargo_type_id=None, cargo_type=None, cargo_type_group_id=None, cargo_type_group=None, scraped_quantity='260', quantity=260000.0, quantity_buffer=0.0, quantity_from=260000.0, quantity_to=260000.0, size_from=None, size_to=None, scraped_delivery_date=None, delivery_date_from=None, delivery_date_to=None, scraped_delivery_from=None, delivery_from_geo_id=None, delivery_from_name=None, delivery_from_taxonomy_id=None, delivery_from_taxonomy=None, scraped_delivery_to=None, delivery_to_geo_id=None, delivery_to_name=None, delivery_to_taxonomy_id=None, delivery_to_taxonomy=None, scraped_redelivery_from=None, redelivery_from_geo_id=None, redelivery_from_name=None, redelivery_from_taxonomy_id=None, redelivery_from_taxonomy=None, scraped_redelivery_to=None, redelivery_to_geo_id=None, redelivery_to_name=None, redelivery_to_taxonomy_id=None, redelivery_to_taxonomy=None, charter_type_id=0, charter_type='Voyage', cargo_status_id=None, cargo_status=None, content='petrobras 260 brazil/uswc 04-05/10', subject='SIMPSON | SPENCE | YOUNG LONDON VLCC COB REPORT 11TH SEPTEMBER 2023', sender='SSY', is_private=False)"
      ]
     },
     "execution_count": 6,
     "metadata": {},
     "output_type": "execute_result"
    }
   ],
   "source": [
    "scraped_cargoes = api.get_cargoes(\n",
    "    vessel_type=vessel_type,\n",
    "    received_date_from=received_date_from,\n",
    ")\n",
    "\n",
    "next(iter(scraped_cargoes), None)"
   ]
  },
  {
   "cell_type": "markdown",
   "id": "d568c2af",
   "metadata": {},
   "source": [
    "For better visualization, it's convenient to insert data into a DataFrame"
   ]
  },
  {
   "cell_type": "code",
   "execution_count": 7,
   "id": "0d6df5c7",
   "metadata": {},
   "outputs": [
    {
     "data": {
      "text/html": [
       "<div>\n",
       "<style scoped>\n",
       "    .dataframe tbody tr th:only-of-type {\n",
       "        vertical-align: middle;\n",
       "    }\n",
       "\n",
       "    .dataframe tbody tr th {\n",
       "        vertical-align: top;\n",
       "    }\n",
       "\n",
       "    .dataframe thead th {\n",
       "        text-align: right;\n",
       "    }\n",
       "</style>\n",
       "<table border=\"1\" class=\"dataframe\">\n",
       "  <thead>\n",
       "    <tr style=\"text-align: right;\">\n",
       "      <th></th>\n",
       "      <th>cargo_id</th>\n",
       "      <th>message_id</th>\n",
       "      <th>external_message_id</th>\n",
       "      <th>parsed_part_id</th>\n",
       "      <th>line_from</th>\n",
       "      <th>line_to</th>\n",
       "      <th>in_line_order</th>\n",
       "      <th>source</th>\n",
       "      <th>updated_date</th>\n",
       "      <th>received_date</th>\n",
       "      <th>...</th>\n",
       "      <th>redelivery_to_taxonomy_id</th>\n",
       "      <th>redelivery_to_taxonomy</th>\n",
       "      <th>charter_type_id</th>\n",
       "      <th>charter_type</th>\n",
       "      <th>cargo_status_id</th>\n",
       "      <th>cargo_status</th>\n",
       "      <th>content</th>\n",
       "      <th>subject</th>\n",
       "      <th>sender</th>\n",
       "      <th>is_private</th>\n",
       "    </tr>\n",
       "  </thead>\n",
       "  <tbody>\n",
       "    <tr>\n",
       "      <th>0</th>\n",
       "      <td>33490561</td>\n",
       "      <td>47247133</td>\n",
       "      <td>None</td>\n",
       "      <td>58302943</td>\n",
       "      <td>66</td>\n",
       "      <td>66</td>\n",
       "      <td>NaN</td>\n",
       "      <td>Email</td>\n",
       "      <td>2023-09-11 16:44:36+00:00</td>\n",
       "      <td>2023-09-11 16:43:41+00:00</td>\n",
       "      <td>...</td>\n",
       "      <td>None</td>\n",
       "      <td>None</td>\n",
       "      <td>0</td>\n",
       "      <td>Voyage</td>\n",
       "      <td>NaN</td>\n",
       "      <td>None</td>\n",
       "      <td>petrobras 260 brazil/uswc 04-05/10</td>\n",
       "      <td>SIMPSON | SPENCE | YOUNG LONDON VLCC COB REPOR...</td>\n",
       "      <td>SSY</td>\n",
       "      <td>False</td>\n",
       "    </tr>\n",
       "    <tr>\n",
       "      <th>1</th>\n",
       "      <td>33490687</td>\n",
       "      <td>47247239</td>\n",
       "      <td>None</td>\n",
       "      <td>58303014</td>\n",
       "      <td>103</td>\n",
       "      <td>103</td>\n",
       "      <td>2.0</td>\n",
       "      <td>Email</td>\n",
       "      <td>2023-09-11 16:46:52+00:00</td>\n",
       "      <td>2023-09-11 16:45:32+00:00</td>\n",
       "      <td>...</td>\n",
       "      <td>None</td>\n",
       "      <td>None</td>\n",
       "      <td>0</td>\n",
       "      <td>Voyage</td>\n",
       "      <td>NaN</td>\n",
       "      <td>None</td>\n",
       "      <td>eni 37kt ref+ums italy/ukc-ta-ecc-wafr off 18-20</td>\n",
       "      <td>SIMPSON SPENCE YOUNG CLEAN WEST REPORT - 11TH ...</td>\n",
       "      <td>SSY</td>\n",
       "      <td>False</td>\n",
       "    </tr>\n",
       "    <tr>\n",
       "      <th>2</th>\n",
       "      <td>33490688</td>\n",
       "      <td>47247239</td>\n",
       "      <td>None</td>\n",
       "      <td>58303014</td>\n",
       "      <td>103</td>\n",
       "      <td>103</td>\n",
       "      <td>NaN</td>\n",
       "      <td>Email</td>\n",
       "      <td>2023-09-11 16:46:52+00:00</td>\n",
       "      <td>2023-09-11 16:45:32+00:00</td>\n",
       "      <td>...</td>\n",
       "      <td>None</td>\n",
       "      <td>None</td>\n",
       "      <td>0</td>\n",
       "      <td>Voyage</td>\n",
       "      <td>NaN</td>\n",
       "      <td>None</td>\n",
       "      <td>eni 37kt ref+ums italy/ukc-ta-ecc-wafr off 18-20</td>\n",
       "      <td>SIMPSON SPENCE YOUNG CLEAN WEST REPORT - 11TH ...</td>\n",
       "      <td>SSY</td>\n",
       "      <td>False</td>\n",
       "    </tr>\n",
       "    <tr>\n",
       "      <th>3</th>\n",
       "      <td>33490689</td>\n",
       "      <td>47247239</td>\n",
       "      <td>None</td>\n",
       "      <td>58303014</td>\n",
       "      <td>31</td>\n",
       "      <td>31</td>\n",
       "      <td>2.0</td>\n",
       "      <td>Email</td>\n",
       "      <td>2023-09-11 16:46:52+00:00</td>\n",
       "      <td>2023-09-11 16:45:32+00:00</td>\n",
       "      <td>...</td>\n",
       "      <td>None</td>\n",
       "      <td>None</td>\n",
       "      <td>0</td>\n",
       "      <td>Voyage</td>\n",
       "      <td>NaN</td>\n",
       "      <td>None</td>\n",
       "      <td>prax 30kt nap+ums immingham ukc-med-waf off 17-19</td>\n",
       "      <td>SIMPSON SPENCE YOUNG CLEAN WEST REPORT - 11TH ...</td>\n",
       "      <td>SSY</td>\n",
       "      <td>False</td>\n",
       "    </tr>\n",
       "    <tr>\n",
       "      <th>4</th>\n",
       "      <td>33490690</td>\n",
       "      <td>47247239</td>\n",
       "      <td>None</td>\n",
       "      <td>58303014</td>\n",
       "      <td>31</td>\n",
       "      <td>31</td>\n",
       "      <td>NaN</td>\n",
       "      <td>Email</td>\n",
       "      <td>2023-09-11 16:46:52+00:00</td>\n",
       "      <td>2023-09-11 16:45:32+00:00</td>\n",
       "      <td>...</td>\n",
       "      <td>None</td>\n",
       "      <td>None</td>\n",
       "      <td>0</td>\n",
       "      <td>Voyage</td>\n",
       "      <td>NaN</td>\n",
       "      <td>None</td>\n",
       "      <td>prax 30kt nap+ums immingham ukc-med-waf off 17-19</td>\n",
       "      <td>SIMPSON SPENCE YOUNG CLEAN WEST REPORT - 11TH ...</td>\n",
       "      <td>SSY</td>\n",
       "      <td>False</td>\n",
       "    </tr>\n",
       "  </tbody>\n",
       "</table>\n",
       "<p>5 rows × 81 columns</p>\n",
       "</div>"
      ],
      "text/plain": [
       "   cargo_id  message_id external_message_id  parsed_part_id  line_from  \\\n",
       "0  33490561    47247133                None        58302943         66   \n",
       "1  33490687    47247239                None        58303014        103   \n",
       "2  33490688    47247239                None        58303014        103   \n",
       "3  33490689    47247239                None        58303014         31   \n",
       "4  33490690    47247239                None        58303014         31   \n",
       "\n",
       "   line_to  in_line_order source              updated_date  \\\n",
       "0       66            NaN  Email 2023-09-11 16:44:36+00:00   \n",
       "1      103            2.0  Email 2023-09-11 16:46:52+00:00   \n",
       "2      103            NaN  Email 2023-09-11 16:46:52+00:00   \n",
       "3       31            2.0  Email 2023-09-11 16:46:52+00:00   \n",
       "4       31            NaN  Email 2023-09-11 16:46:52+00:00   \n",
       "\n",
       "              received_date  ...  redelivery_to_taxonomy_id  \\\n",
       "0 2023-09-11 16:43:41+00:00  ...                       None   \n",
       "1 2023-09-11 16:45:32+00:00  ...                       None   \n",
       "2 2023-09-11 16:45:32+00:00  ...                       None   \n",
       "3 2023-09-11 16:45:32+00:00  ...                       None   \n",
       "4 2023-09-11 16:45:32+00:00  ...                       None   \n",
       "\n",
       "  redelivery_to_taxonomy charter_type_id charter_type cargo_status_id  \\\n",
       "0                   None               0       Voyage             NaN   \n",
       "1                   None               0       Voyage             NaN   \n",
       "2                   None               0       Voyage             NaN   \n",
       "3                   None               0       Voyage             NaN   \n",
       "4                   None               0       Voyage             NaN   \n",
       "\n",
       "   cargo_status                                            content  \\\n",
       "0          None                 petrobras 260 brazil/uswc 04-05/10   \n",
       "1          None   eni 37kt ref+ums italy/ukc-ta-ecc-wafr off 18-20   \n",
       "2          None   eni 37kt ref+ums italy/ukc-ta-ecc-wafr off 18-20   \n",
       "3          None  prax 30kt nap+ums immingham ukc-med-waf off 17-19   \n",
       "4          None  prax 30kt nap+ums immingham ukc-med-waf off 17-19   \n",
       "\n",
       "                                             subject sender is_private  \n",
       "0  SIMPSON | SPENCE | YOUNG LONDON VLCC COB REPOR...    SSY      False  \n",
       "1  SIMPSON SPENCE YOUNG CLEAN WEST REPORT - 11TH ...    SSY      False  \n",
       "2  SIMPSON SPENCE YOUNG CLEAN WEST REPORT - 11TH ...    SSY      False  \n",
       "3  SIMPSON SPENCE YOUNG CLEAN WEST REPORT - 11TH ...    SSY      False  \n",
       "4  SIMPSON SPENCE YOUNG CLEAN WEST REPORT - 11TH ...    SSY      False  \n",
       "\n",
       "[5 rows x 81 columns]"
      ]
     },
     "execution_count": 7,
     "metadata": {},
     "output_type": "execute_result"
    }
   ],
   "source": [
    "df = pd.DataFrame(scraped_cargoes)\n",
    "\n",
    "df.head()"
   ]
  },
  {
   "cell_type": "markdown",
   "id": "3c008a29-c38b-402c-8c0e-2d2123e868ac",
   "metadata": {},
   "source": [
    "#### Request by Message or ExternalMessage IDs"
   ]
  },
  {
   "cell_type": "markdown",
   "id": "271b2ea7-9f65-44ee-9981-21b96d04b734",
   "metadata": {},
   "source": [
    "To retrieve cargoes for particular message ID(s), you should include an extra parameter called `message_ids` when using the `get_cargoes` method. This parameter should contain a list of message IDs. For instance,"
   ]
  },
  {
   "cell_type": "code",
   "execution_count": 8,
   "id": "b2a75948-e1a1-4b11-978a-805ac3013dad",
   "metadata": {},
   "outputs": [
    {
     "data": {
      "text/plain": [
       "ScrapedCargo(cargo_id=33640251, message_id=47502652, external_message_id=None, parsed_part_id=58483539, line_from=35, line_to=35, in_line_order=None, source='Email', updated_date=datetime.datetime(2023, 9, 15, 3, 10, 17, tzinfo=datetime.timezone.utc), received_date=datetime.datetime(2023, 9, 15, 3, 7, 42, tzinfo=datetime.timezone.utc), is_deleted=False, scraped_laycan='27-sep', laycan_from=datetime.datetime(2023, 9, 27, 0, 0, tzinfo=datetime.timezone.utc), laycan_to=datetime.datetime(2023, 9, 27, 0, 0, tzinfo=datetime.timezone.utc), scraped_load='nigeria', load_geo_id=171, load_name='Nigeria', load_taxonomy_id=3, load_taxonomy='Country', scraped_load2=None, load_geo_id2=None, load_name2=None, load_taxonomy_id2=None, load_taxonomy2=None, scraped_discharge='ukcm', scraped_discharge_options=None, discharge_geo_id=25025, discharge_name='Mediterranean / UK Continent', discharge_taxonomy_id=6, discharge_taxonomy='Level2', scraped_discharge2=None, discharge_geo_id2=None, discharge_name2=None, discharge_taxonomy_id2=None, discharge_taxonomy2=None, scraped_charterer='exxon', charterer_id=529, charterer='ExxonMobil', scraped_cargo_type=None, cargo_type_id=None, cargo_type=None, cargo_type_group_id=None, cargo_type_group=None, scraped_quantity='130', quantity=130000.0, quantity_buffer=0.0, quantity_from=130000.0, quantity_to=130000.0, size_from=None, size_to=None, scraped_delivery_date=None, delivery_date_from=None, delivery_date_to=None, scraped_delivery_from=None, delivery_from_geo_id=None, delivery_from_name=None, delivery_from_taxonomy_id=None, delivery_from_taxonomy=None, scraped_delivery_to=None, delivery_to_geo_id=None, delivery_to_name=None, delivery_to_taxonomy_id=None, delivery_to_taxonomy=None, scraped_redelivery_from=None, redelivery_from_geo_id=None, redelivery_from_name=None, redelivery_from_taxonomy_id=None, redelivery_from_taxonomy=None, scraped_redelivery_to=None, redelivery_to_geo_id=None, redelivery_to_name=None, redelivery_to_taxonomy_id=None, redelivery_to_taxonomy=None, charter_type_id=0, charter_type='Voyage', cargo_status_id=None, cargo_status=None, content='exxon 130 nigeria / ukcm 27-sep', subject='ALLIANCE SUEZMAX MARKET REPORT 15 SEP 2023', sender='Alliance Tanker', is_private=False)"
      ]
     },
     "execution_count": 8,
     "metadata": {},
     "output_type": "execute_result"
    }
   ],
   "source": [
    "message_ids = [47502652, 47503150, 47528120]\n",
    "scraped_cargoes_by_message_ids = api.get_cargoes(\n",
    "    vessel_type=vessel_type,\n",
    "    message_ids=message_ids,\n",
    ")\n",
    "\n",
    "next(iter(scraped_cargoes_by_message_ids), None)"
   ]
  },
  {
   "cell_type": "markdown",
   "id": "ab2638c1-2ffd-4b41-afb0-8959f7f90700",
   "metadata": {},
   "source": [
    "You can achieve a similar result for external message IDs by providing an argument called `external_message_ids`."
   ]
  },
  {
   "cell_type": "markdown",
   "id": "78ad4070",
   "metadata": {},
   "source": [
    "#### Request by Cargo IDs"
   ]
  },
  {
   "cell_type": "markdown",
   "id": "b8d899bb",
   "metadata": {},
   "source": [
    "To get data for specific cargo ID(s), you must call the `get_cargoes_by_cargo_ids` method for a list of desired cargo ID(s)"
   ]
  },
  {
   "cell_type": "markdown",
   "id": "5aafdc45",
   "metadata": {},
   "source": [
    "Date arguments are not available in this method"
   ]
  },
  {
   "cell_type": "code",
   "execution_count": 9,
   "id": "c7947889",
   "metadata": {},
   "outputs": [
    {
     "data": {
      "text/html": [
       "<div>\n",
       "<style scoped>\n",
       "    .dataframe tbody tr th:only-of-type {\n",
       "        vertical-align: middle;\n",
       "    }\n",
       "\n",
       "    .dataframe tbody tr th {\n",
       "        vertical-align: top;\n",
       "    }\n",
       "\n",
       "    .dataframe thead th {\n",
       "        text-align: right;\n",
       "    }\n",
       "</style>\n",
       "<table border=\"1\" class=\"dataframe\">\n",
       "  <thead>\n",
       "    <tr style=\"text-align: right;\">\n",
       "      <th></th>\n",
       "      <th>cargo_id</th>\n",
       "      <th>message_id</th>\n",
       "      <th>external_message_id</th>\n",
       "      <th>parsed_part_id</th>\n",
       "      <th>line_from</th>\n",
       "      <th>line_to</th>\n",
       "      <th>in_line_order</th>\n",
       "      <th>source</th>\n",
       "      <th>updated_date</th>\n",
       "      <th>received_date</th>\n",
       "      <th>...</th>\n",
       "      <th>redelivery_to_taxonomy_id</th>\n",
       "      <th>redelivery_to_taxonomy</th>\n",
       "      <th>charter_type_id</th>\n",
       "      <th>charter_type</th>\n",
       "      <th>cargo_status_id</th>\n",
       "      <th>cargo_status</th>\n",
       "      <th>content</th>\n",
       "      <th>subject</th>\n",
       "      <th>sender</th>\n",
       "      <th>is_private</th>\n",
       "    </tr>\n",
       "  </thead>\n",
       "  <tbody>\n",
       "    <tr>\n",
       "      <th>0</th>\n",
       "      <td>23790303</td>\n",
       "      <td>30829741</td>\n",
       "      <td>None</td>\n",
       "      <td>45820017</td>\n",
       "      <td>494</td>\n",
       "      <td>494</td>\n",
       "      <td>None</td>\n",
       "      <td>Email</td>\n",
       "      <td>2022-11-18 08:39:59+00:00</td>\n",
       "      <td>2022-11-18 00:00:00+00:00</td>\n",
       "      <td>...</td>\n",
       "      <td>None</td>\n",
       "      <td>None</td>\n",
       "      <td>0</td>\n",
       "      <td>Voyage</td>\n",
       "      <td>None</td>\n",
       "      <td>None</td>\n",
       "      <td>exxon 145 26-27 nov usg/ukcm - firm 2nd cargo ...</td>\n",
       "      <td>SUEZMAX MORNING UPDATE FROM SIMPSON SPENCE YOUNG</td>\n",
       "      <td>SSY</td>\n",
       "      <td>False</td>\n",
       "    </tr>\n",
       "    <tr>\n",
       "      <th>1</th>\n",
       "      <td>23799890</td>\n",
       "      <td>30842695</td>\n",
       "      <td>None</td>\n",
       "      <td>45831137</td>\n",
       "      <td>110</td>\n",
       "      <td>110</td>\n",
       "      <td>None</td>\n",
       "      <td>Email</td>\n",
       "      <td>2022-11-18 12:31:38+00:00</td>\n",
       "      <td>2022-11-18 00:00:00+00:00</td>\n",
       "      <td>...</td>\n",
       "      <td>None</td>\n",
       "      <td>None</td>\n",
       "      <td>0</td>\n",
       "      <td>Voyage</td>\n",
       "      <td>None</td>\n",
       "      <td>None</td>\n",
       "      <td>ioc 130 22-23 dec greater plutonio/paradip - q...</td>\n",
       "      <td>AFTERNOON SUEZMAX FIXTURE REPORT FROM SIMPSON ...</td>\n",
       "      <td>SSY</td>\n",
       "      <td>False</td>\n",
       "    </tr>\n",
       "    <tr>\n",
       "      <th>2</th>\n",
       "      <td>23799892</td>\n",
       "      <td>30842695</td>\n",
       "      <td>None</td>\n",
       "      <td>45831137</td>\n",
       "      <td>100</td>\n",
       "      <td>100</td>\n",
       "      <td>None</td>\n",
       "      <td>Email</td>\n",
       "      <td>2022-11-18 12:31:38+00:00</td>\n",
       "      <td>2022-11-18 00:00:00+00:00</td>\n",
       "      <td>...</td>\n",
       "      <td>None</td>\n",
       "      <td>None</td>\n",
       "      <td>0</td>\n",
       "      <td>Voyage</td>\n",
       "      <td>None</td>\n",
       "      <td>None</td>\n",
       "      <td>cnr 140 ely dec basrah/west - rumoured</td>\n",
       "      <td>AFTERNOON SUEZMAX FIXTURE REPORT FROM SIMPSON ...</td>\n",
       "      <td>SSY</td>\n",
       "      <td>False</td>\n",
       "    </tr>\n",
       "    <tr>\n",
       "      <th>3</th>\n",
       "      <td>23799896</td>\n",
       "      <td>30842695</td>\n",
       "      <td>None</td>\n",
       "      <td>45831137</td>\n",
       "      <td>108</td>\n",
       "      <td>108</td>\n",
       "      <td>None</td>\n",
       "      <td>Email</td>\n",
       "      <td>2022-11-18 12:31:38+00:00</td>\n",
       "      <td>2022-11-18 00:00:00+00:00</td>\n",
       "      <td>...</td>\n",
       "      <td>None</td>\n",
       "      <td>None</td>\n",
       "      <td>0</td>\n",
       "      <td>Voyage</td>\n",
       "      <td>None</td>\n",
       "      <td>None</td>\n",
       "      <td>repsol 130 11-12 dec wafr/ukcm - firm</td>\n",
       "      <td>AFTERNOON SUEZMAX FIXTURE REPORT FROM SIMPSON ...</td>\n",
       "      <td>SSY</td>\n",
       "      <td>False</td>\n",
       "    </tr>\n",
       "    <tr>\n",
       "      <th>4</th>\n",
       "      <td>23780101</td>\n",
       "      <td>30814158</td>\n",
       "      <td>None</td>\n",
       "      <td>45808575</td>\n",
       "      <td>69</td>\n",
       "      <td>69</td>\n",
       "      <td>None</td>\n",
       "      <td>Email</td>\n",
       "      <td>2022-11-18 03:48:04+00:00</td>\n",
       "      <td>2022-11-18 03:44:48+00:00</td>\n",
       "      <td>...</td>\n",
       "      <td>None</td>\n",
       "      <td>None</td>\n",
       "      <td>0</td>\n",
       "      <td>Voyage</td>\n",
       "      <td>None</td>\n",
       "      <td>None</td>\n",
       "      <td>houston ref 70-145 ecmex/usg 27-29/11</td>\n",
       "      <td>SIMPSON SPENCE YOUNG SINGAPORE SUEZMAX REPORT ...</td>\n",
       "      <td>SSY</td>\n",
       "      <td>False</td>\n",
       "    </tr>\n",
       "  </tbody>\n",
       "</table>\n",
       "<p>5 rows × 81 columns</p>\n",
       "</div>"
      ],
      "text/plain": [
       "   cargo_id  message_id external_message_id  parsed_part_id  line_from  \\\n",
       "0  23790303    30829741                None        45820017        494   \n",
       "1  23799890    30842695                None        45831137        110   \n",
       "2  23799892    30842695                None        45831137        100   \n",
       "3  23799896    30842695                None        45831137        108   \n",
       "4  23780101    30814158                None        45808575         69   \n",
       "\n",
       "   line_to in_line_order source              updated_date  \\\n",
       "0      494          None  Email 2022-11-18 08:39:59+00:00   \n",
       "1      110          None  Email 2022-11-18 12:31:38+00:00   \n",
       "2      100          None  Email 2022-11-18 12:31:38+00:00   \n",
       "3      108          None  Email 2022-11-18 12:31:38+00:00   \n",
       "4       69          None  Email 2022-11-18 03:48:04+00:00   \n",
       "\n",
       "              received_date  ...  redelivery_to_taxonomy_id  \\\n",
       "0 2022-11-18 00:00:00+00:00  ...                       None   \n",
       "1 2022-11-18 00:00:00+00:00  ...                       None   \n",
       "2 2022-11-18 00:00:00+00:00  ...                       None   \n",
       "3 2022-11-18 00:00:00+00:00  ...                       None   \n",
       "4 2022-11-18 03:44:48+00:00  ...                       None   \n",
       "\n",
       "  redelivery_to_taxonomy charter_type_id charter_type cargo_status_id  \\\n",
       "0                   None               0       Voyage            None   \n",
       "1                   None               0       Voyage            None   \n",
       "2                   None               0       Voyage            None   \n",
       "3                   None               0       Voyage            None   \n",
       "4                   None               0       Voyage            None   \n",
       "\n",
       "   cargo_status                                            content  \\\n",
       "0          None  exxon 145 26-27 nov usg/ukcm - firm 2nd cargo ...   \n",
       "1          None  ioc 130 22-23 dec greater plutonio/paradip - q...   \n",
       "2          None             cnr 140 ely dec basrah/west - rumoured   \n",
       "3          None              repsol 130 11-12 dec wafr/ukcm - firm   \n",
       "4          None              houston ref 70-145 ecmex/usg 27-29/11   \n",
       "\n",
       "                                             subject sender is_private  \n",
       "0   SUEZMAX MORNING UPDATE FROM SIMPSON SPENCE YOUNG    SSY      False  \n",
       "1  AFTERNOON SUEZMAX FIXTURE REPORT FROM SIMPSON ...    SSY      False  \n",
       "2  AFTERNOON SUEZMAX FIXTURE REPORT FROM SIMPSON ...    SSY      False  \n",
       "3  AFTERNOON SUEZMAX FIXTURE REPORT FROM SIMPSON ...    SSY      False  \n",
       "4  SIMPSON SPENCE YOUNG SINGAPORE SUEZMAX REPORT ...    SSY      False  \n",
       "\n",
       "[5 rows x 81 columns]"
      ]
     },
     "execution_count": 9,
     "metadata": {},
     "output_type": "execute_result"
    }
   ],
   "source": [
    "cargo_ids = [23780101, 23799896, 23799890, 23799892, 23790303]    # Or add a list of your desired cargo IDs\n",
    "\n",
    "scraped_cargoes_by_ids = api.get_cargoes_by_cargo_ids(\n",
    "    cargo_ids=cargo_ids,\n",
    ")\n",
    "\n",
    "df_by_ids = pd.DataFrame(scraped_cargoes_by_ids)\n",
    "df_by_ids.head()"
   ]
  },
  {
   "cell_type": "markdown",
   "id": "870c3021",
   "metadata": {},
   "source": [
    "#### Usage of optional arguments"
   ]
  },
  {
   "cell_type": "markdown",
   "id": "c43706a0",
   "metadata": {},
   "source": [
    "By default, all fields are returned. In many cases, it is convenient to select specific columns. For example, if we want to compare scraped and mapped fields"
   ]
  },
  {
   "cell_type": "code",
   "execution_count": 10,
   "id": "edeea873",
   "metadata": {},
   "outputs": [
    {
     "data": {
      "text/html": [
       "<div>\n",
       "<style scoped>\n",
       "    .dataframe tbody tr th:only-of-type {\n",
       "        vertical-align: middle;\n",
       "    }\n",
       "\n",
       "    .dataframe tbody tr th {\n",
       "        vertical-align: top;\n",
       "    }\n",
       "\n",
       "    .dataframe thead th {\n",
       "        text-align: right;\n",
       "    }\n",
       "</style>\n",
       "<table border=\"1\" class=\"dataframe\">\n",
       "  <thead>\n",
       "    <tr style=\"text-align: right;\">\n",
       "      <th></th>\n",
       "      <th>scraped_charterer</th>\n",
       "      <th>charterer</th>\n",
       "      <th>scraped_quantity</th>\n",
       "      <th>quantity</th>\n",
       "      <th>scraped_load</th>\n",
       "      <th>load_name</th>\n",
       "    </tr>\n",
       "  </thead>\n",
       "  <tbody>\n",
       "    <tr>\n",
       "      <th>0</th>\n",
       "      <td>petrobras</td>\n",
       "      <td>Petrobras</td>\n",
       "      <td>260</td>\n",
       "      <td>260000.0</td>\n",
       "      <td>brazil</td>\n",
       "      <td>Brazil</td>\n",
       "    </tr>\n",
       "    <tr>\n",
       "      <th>1</th>\n",
       "      <td>eni</td>\n",
       "      <td>ENI</td>\n",
       "      <td>37kt</td>\n",
       "      <td>37000.0</td>\n",
       "      <td>italy</td>\n",
       "      <td>Italy</td>\n",
       "    </tr>\n",
       "    <tr>\n",
       "      <th>2</th>\n",
       "      <td>eni</td>\n",
       "      <td>ENI</td>\n",
       "      <td>37kt</td>\n",
       "      <td>37000.0</td>\n",
       "      <td>italy</td>\n",
       "      <td>Italy</td>\n",
       "    </tr>\n",
       "    <tr>\n",
       "      <th>3</th>\n",
       "      <td>prax</td>\n",
       "      <td>Prax Petroleum</td>\n",
       "      <td>30kt</td>\n",
       "      <td>30000.0</td>\n",
       "      <td>immingham</td>\n",
       "      <td>Immingham</td>\n",
       "    </tr>\n",
       "    <tr>\n",
       "      <th>4</th>\n",
       "      <td>prax</td>\n",
       "      <td>Prax Petroleum</td>\n",
       "      <td>30kt</td>\n",
       "      <td>30000.0</td>\n",
       "      <td>immingham</td>\n",
       "      <td>Immingham</td>\n",
       "    </tr>\n",
       "  </tbody>\n",
       "</table>\n",
       "</div>"
      ],
      "text/plain": [
       "  scraped_charterer       charterer scraped_quantity  quantity scraped_load  \\\n",
       "0         petrobras       Petrobras              260  260000.0       brazil   \n",
       "1               eni             ENI             37kt   37000.0        italy   \n",
       "2               eni             ENI             37kt   37000.0        italy   \n",
       "3              prax  Prax Petroleum             30kt   30000.0    immingham   \n",
       "4              prax  Prax Petroleum             30kt   30000.0    immingham   \n",
       "\n",
       "   load_name  \n",
       "0     Brazil  \n",
       "1      Italy  \n",
       "2      Italy  \n",
       "3  Immingham  \n",
       "4  Immingham  "
      ]
     },
     "execution_count": 10,
     "metadata": {},
     "output_type": "execute_result"
    }
   ],
   "source": [
    "scraped_mapped_columns = [\n",
    "    'scraped_charterer',\n",
    "    'charterer',\n",
    "    'scraped_quantity',\n",
    "    'quantity',\n",
    "    'scraped_load',\n",
    "    'load_name',\n",
    "]\n",
    "\n",
    "scraped_mapped_df = pd.DataFrame(scraped_cargoes, columns=scraped_mapped_columns)\n",
    "\n",
    "scraped_mapped_df.head()"
   ]
  },
  {
   "cell_type": "markdown",
   "id": "3fa44d5d",
   "metadata": {},
   "source": [
    "## Examples"
   ]
  },
  {
   "cell_type": "markdown",
   "id": "86378f5f",
   "metadata": {},
   "source": [
    "Let's start by fetching all tanker cargoes received the last 2 weeks"
   ]
  },
  {
   "cell_type": "code",
   "execution_count": 11,
   "id": "54269d8b",
   "metadata": {
    "scrolled": true
   },
   "outputs": [],
   "source": [
    "example_vessel_type = 1  # Tanker\n",
    "example_date_from = datetime.utcnow() - timedelta(days=14)\n",
    "\n",
    "example_scraped_cargoes = api.get_cargoes(\n",
    "   vessel_type=example_vessel_type,\n",
    "   received_date_from=example_date_from,\n",
    ")"
   ]
  },
  {
   "cell_type": "markdown",
   "id": "da6393c7",
   "metadata": {},
   "source": [
    "#### Exclude deleted scraped cargoes"
   ]
  },
  {
   "cell_type": "markdown",
   "id": "06de6b3e",
   "metadata": {},
   "source": [
    "The `is_deleted` property of a scraped cargo indicates whether it is valid or not. If it is set to `True`, the corresponding `cargo_id` has been replaced by a new one.\n",
    "\n",
    "For the sake of completeness, we will exclude deleted scraped cargoes in the following examples"
   ]
  },
  {
   "cell_type": "code",
   "execution_count": 12,
   "id": "b43829f5",
   "metadata": {},
   "outputs": [
    {
     "data": {
      "text/plain": [
       "ScrapedCargo(cargo_id=33228070, message_id=46751670, external_message_id=None, parsed_part_id=57945412, line_from=37, line_to=37, in_line_order=None, source='Email', updated_date=datetime.datetime(2023, 9, 4, 2, 58, 11, tzinfo=datetime.timezone.utc), received_date=datetime.datetime(2023, 9, 4, 2, 56, 19, tzinfo=datetime.timezone.utc), is_deleted=False, scraped_laycan='14-sep', laycan_from=datetime.datetime(2023, 9, 14, 0, 0, tzinfo=datetime.timezone.utc), laycan_to=datetime.datetime(2023, 9, 14, 0, 0, tzinfo=datetime.timezone.utc), scraped_load='usg', load_geo_id=24676, load_name='US Gulf', load_taxonomy_id=4, load_taxonomy='Level0', scraped_load2=None, load_geo_id2=None, load_name2=None, load_taxonomy_id2=None, load_taxonomy2=None, scraped_discharge='ukcm', scraped_discharge_options=None, discharge_geo_id=25025, discharge_name='Mediterranean / UK Continent', discharge_taxonomy_id=6, discharge_taxonomy='Level2', scraped_discharge2=None, discharge_geo_id2=None, discharge_name2=None, discharge_taxonomy_id2=None, discharge_taxonomy2=None, scraped_charterer='bp', charterer_id=209, charterer='BP', scraped_cargo_type=None, cargo_type_id=None, cargo_type=None, cargo_type_group_id=None, cargo_type_group=None, scraped_quantity='145', quantity=145000.0, quantity_buffer=0.0, quantity_from=145000.0, quantity_to=145000.0, size_from=None, size_to=None, scraped_delivery_date=None, delivery_date_from=None, delivery_date_to=None, scraped_delivery_from=None, delivery_from_geo_id=None, delivery_from_name=None, delivery_from_taxonomy_id=None, delivery_from_taxonomy=None, scraped_delivery_to=None, delivery_to_geo_id=None, delivery_to_name=None, delivery_to_taxonomy_id=None, delivery_to_taxonomy=None, scraped_redelivery_from=None, redelivery_from_geo_id=None, redelivery_from_name=None, redelivery_from_taxonomy_id=None, redelivery_from_taxonomy=None, scraped_redelivery_to=None, redelivery_to_geo_id=None, redelivery_to_name=None, redelivery_to_taxonomy_id=None, redelivery_to_taxonomy=None, charter_type_id=0, charter_type='Voyage', cargo_status_id=None, cargo_status=None, content='bp 145 usg / ukcm 14-sep', subject='ALLIANCE SUEZMAX MARKET REPORT 04 SEP 2023', sender='Alliance Tanker', is_private=False)"
      ]
     },
     "execution_count": 12,
     "metadata": {},
     "output_type": "execute_result"
    }
   ],
   "source": [
    "example_scraped_cargoes = [cargo for cargo in example_scraped_cargoes if not cargo.is_deleted]\n",
    "\n",
    "next(iter(example_scraped_cargoes), None)"
   ]
  },
  {
   "cell_type": "markdown",
   "id": "882d67c4",
   "metadata": {},
   "source": [
    "Now, we are ready to insert our data into a dataframe and keep only specific fields"
   ]
  },
  {
   "cell_type": "code",
   "execution_count": 13,
   "id": "a1719a9f",
   "metadata": {},
   "outputs": [
    {
     "data": {
      "text/html": [
       "<div>\n",
       "<style scoped>\n",
       "    .dataframe tbody tr th:only-of-type {\n",
       "        vertical-align: middle;\n",
       "    }\n",
       "\n",
       "    .dataframe tbody tr th {\n",
       "        vertical-align: top;\n",
       "    }\n",
       "\n",
       "    .dataframe thead th {\n",
       "        text-align: right;\n",
       "    }\n",
       "</style>\n",
       "<table border=\"1\" class=\"dataframe\">\n",
       "  <thead>\n",
       "    <tr style=\"text-align: right;\">\n",
       "      <th></th>\n",
       "      <th>charterer</th>\n",
       "      <th>laycan_from</th>\n",
       "      <th>load_name</th>\n",
       "      <th>quantity</th>\n",
       "      <th>is_deleted</th>\n",
       "    </tr>\n",
       "  </thead>\n",
       "  <tbody>\n",
       "    <tr>\n",
       "      <th>0</th>\n",
       "      <td>BP</td>\n",
       "      <td>2023-09-14 00:00:00+00:00</td>\n",
       "      <td>US Gulf</td>\n",
       "      <td>145000.0</td>\n",
       "      <td>False</td>\n",
       "    </tr>\n",
       "    <tr>\n",
       "      <th>1</th>\n",
       "      <td>CSSA</td>\n",
       "      <td>2023-09-20 00:00:00+00:00</td>\n",
       "      <td>Africa Atlantic Coast</td>\n",
       "      <td>130000.0</td>\n",
       "      <td>False</td>\n",
       "    </tr>\n",
       "    <tr>\n",
       "      <th>2</th>\n",
       "      <td>ExxonMobil</td>\n",
       "      <td>2023-09-16 00:00:00+00:00</td>\n",
       "      <td>Guyana</td>\n",
       "      <td>130000.0</td>\n",
       "      <td>False</td>\n",
       "    </tr>\n",
       "    <tr>\n",
       "      <th>3</th>\n",
       "      <td>ExxonMobil</td>\n",
       "      <td>2023-09-20 00:00:00+00:00</td>\n",
       "      <td>Africa Atlantic Coast</td>\n",
       "      <td>130000.0</td>\n",
       "      <td>False</td>\n",
       "    </tr>\n",
       "    <tr>\n",
       "      <th>4</th>\n",
       "      <td>BP</td>\n",
       "      <td>2023-10-12 00:00:00+00:00</td>\n",
       "      <td>US Gulf</td>\n",
       "      <td>NaN</td>\n",
       "      <td>False</td>\n",
       "    </tr>\n",
       "  </tbody>\n",
       "</table>\n",
       "</div>"
      ],
      "text/plain": [
       "    charterer               laycan_from              load_name  quantity  \\\n",
       "0          BP 2023-09-14 00:00:00+00:00                US Gulf  145000.0   \n",
       "1        CSSA 2023-09-20 00:00:00+00:00  Africa Atlantic Coast  130000.0   \n",
       "2  ExxonMobil 2023-09-16 00:00:00+00:00                 Guyana  130000.0   \n",
       "3  ExxonMobil 2023-09-20 00:00:00+00:00  Africa Atlantic Coast  130000.0   \n",
       "4          BP 2023-10-12 00:00:00+00:00                US Gulf       NaN   \n",
       "\n",
       "   is_deleted  \n",
       "0       False  \n",
       "1       False  \n",
       "2       False  \n",
       "3       False  \n",
       "4       False  "
      ]
     },
     "execution_count": 13,
     "metadata": {},
     "output_type": "execute_result"
    }
   ],
   "source": [
    "example_columns = [\n",
    "    'charterer',   \n",
    "    'laycan_from',\n",
    "    'load_name',\n",
    "    'quantity',\n",
    "    'is_deleted',\n",
    "]\n",
    "\n",
    "data = pd.DataFrame(example_scraped_cargoes, columns=example_columns)\n",
    "\n",
    "data.head()"
   ]
  },
  {
   "cell_type": "markdown",
   "id": "79adee65",
   "metadata": {},
   "source": [
    "#### Top 10 Charterers"
   ]
  },
  {
   "cell_type": "markdown",
   "id": "92f736dd",
   "metadata": {},
   "source": [
    "In this example, we will find the top 10 Charterers, based on the number of distinct available cargoes"
   ]
  },
  {
   "cell_type": "code",
   "execution_count": 14,
   "id": "fc9e6a1f",
   "metadata": {},
   "outputs": [
    {
     "data": {
      "text/html": [
       "<div>\n",
       "<style scoped>\n",
       "    .dataframe tbody tr th:only-of-type {\n",
       "        vertical-align: middle;\n",
       "    }\n",
       "\n",
       "    .dataframe tbody tr th {\n",
       "        vertical-align: top;\n",
       "    }\n",
       "\n",
       "    .dataframe thead th {\n",
       "        text-align: right;\n",
       "    }\n",
       "</style>\n",
       "<table border=\"1\" class=\"dataframe\">\n",
       "  <thead>\n",
       "    <tr style=\"text-align: right;\">\n",
       "      <th></th>\n",
       "      <th>Charterer</th>\n",
       "      <th>CargoCount</th>\n",
       "    </tr>\n",
       "  </thead>\n",
       "  <tbody>\n",
       "    <tr>\n",
       "      <th>0</th>\n",
       "      <td>Vitol</td>\n",
       "      <td>9</td>\n",
       "    </tr>\n",
       "    <tr>\n",
       "      <th>1</th>\n",
       "      <td>BP</td>\n",
       "      <td>8</td>\n",
       "    </tr>\n",
       "    <tr>\n",
       "      <th>2</th>\n",
       "      <td>GCC BUNKERS</td>\n",
       "      <td>8</td>\n",
       "    </tr>\n",
       "    <tr>\n",
       "      <th>3</th>\n",
       "      <td>ENI</td>\n",
       "      <td>8</td>\n",
       "    </tr>\n",
       "    <tr>\n",
       "      <th>4</th>\n",
       "      <td>Unipec</td>\n",
       "      <td>7</td>\n",
       "    </tr>\n",
       "    <tr>\n",
       "      <th>5</th>\n",
       "      <td>CSSA</td>\n",
       "      <td>6</td>\n",
       "    </tr>\n",
       "    <tr>\n",
       "      <th>6</th>\n",
       "      <td>Equinor</td>\n",
       "      <td>6</td>\n",
       "    </tr>\n",
       "    <tr>\n",
       "      <th>7</th>\n",
       "      <td>Trafigura</td>\n",
       "      <td>5</td>\n",
       "    </tr>\n",
       "    <tr>\n",
       "      <th>8</th>\n",
       "      <td>Indian Oil</td>\n",
       "      <td>5</td>\n",
       "    </tr>\n",
       "    <tr>\n",
       "      <th>9</th>\n",
       "      <td>Petrobras</td>\n",
       "      <td>5</td>\n",
       "    </tr>\n",
       "  </tbody>\n",
       "</table>\n",
       "</div>"
      ],
      "text/plain": [
       "     Charterer  CargoCount\n",
       "0        Vitol           9\n",
       "1           BP           8\n",
       "2  GCC BUNKERS           8\n",
       "3          ENI           8\n",
       "4       Unipec           7\n",
       "5         CSSA           6\n",
       "6      Equinor           6\n",
       "7    Trafigura           5\n",
       "8   Indian Oil           5\n",
       "9    Petrobras           5"
      ]
     },
     "execution_count": 14,
     "metadata": {},
     "output_type": "execute_result"
    }
   ],
   "source": [
    "top_chrtr_ser = data[['charterer', 'laycan_from']].drop_duplicates().charterer.value_counts().head(10)\n",
    "\n",
    "top_chrtr_df = top_chrtr_ser.to_frame(name='CargoCount').reset_index().rename(columns={'index': 'Charterer'})\n",
    "\n",
    "top_chrtr_df"
   ]
  },
  {
   "cell_type": "markdown",
   "id": "38000d58",
   "metadata": {},
   "source": [
    "And display results in a bar plot"
   ]
  },
  {
   "cell_type": "code",
   "execution_count": 15,
   "id": "5c176262",
   "metadata": {},
   "outputs": [
    {
     "data": {
      "image/png": "[encoded data removed]"
     },
     "metadata": {},
     "output_type": "display_data"
    }
   ],
   "source": [
    "top_chrtr_fig = go.Figure()\n",
    "\n",
    "bar = go.Bar(\n",
    "    x=top_chrtr_df.Charterer.tolist(),\n",
    "    y=top_chrtr_df.CargoCount.tolist(),\n",
    ")\n",
    "\n",
    "top_chrtr_fig.add_trace(bar)\n",
    "top_chrtr_fig.update_xaxes(title_text=\"Charterer\")\n",
    "top_chrtr_fig.update_yaxes(title_text=\"Number of available Cargoes\")\n",
    "top_chrtr_fig.show()"
   ]
  },
  {
   "cell_type": "markdown",
   "id": "a78da91b",
   "metadata": {
    "scrolled": false
   },
   "source": [
    "#### Total quantity to load in specific areas per day the next week"
   ]
  },
  {
   "cell_type": "code",
   "execution_count": 16,
   "id": "afaf5722",
   "metadata": {},
   "outputs": [
    {
     "data": {
      "text/plain": [
       "['Continent', 'Spain', 'US Gulf', 'Arabian Gulf', 'Africa Atlantic Coast']"
      ]
     },
     "execution_count": 16,
     "metadata": {},
     "output_type": "execute_result"
    }
   ],
   "source": [
    "this_week_days = pd.date_range(start=datetime.utcnow().date(), freq='D', periods=7, tz='UTC')\n",
    "areas = data[data.load_name.notna()].load_name.value_counts().head().index.tolist()\n",
    "\n",
    "areas"
   ]
  },
  {
   "cell_type": "markdown",
   "id": "2b2a4640",
   "metadata": {},
   "source": [
    "Create the pivot table"
   ]
  },
  {
   "cell_type": "code",
   "execution_count": 17,
   "id": "640be898",
   "metadata": {},
   "outputs": [
    {
     "data": {
      "text/html": [
       "<div>\n",
       "<style scoped>\n",
       "    .dataframe tbody tr th:only-of-type {\n",
       "        vertical-align: middle;\n",
       "    }\n",
       "\n",
       "    .dataframe tbody tr th {\n",
       "        vertical-align: top;\n",
       "    }\n",
       "\n",
       "    .dataframe thead th {\n",
       "        text-align: right;\n",
       "    }\n",
       "</style>\n",
       "<table border=\"1\" class=\"dataframe\">\n",
       "  <thead>\n",
       "    <tr style=\"text-align: right;\">\n",
       "      <th>load_name</th>\n",
       "      <th>laycan_from</th>\n",
       "      <th>Africa Atlantic Coast</th>\n",
       "      <th>Arabian Gulf</th>\n",
       "      <th>Continent</th>\n",
       "      <th>Spain</th>\n",
       "      <th>US Gulf</th>\n",
       "    </tr>\n",
       "  </thead>\n",
       "  <tbody>\n",
       "    <tr>\n",
       "      <th>0</th>\n",
       "      <td>2023-09-15 00:00:00+00:00</td>\n",
       "      <td>0</td>\n",
       "      <td>70000</td>\n",
       "      <td>0</td>\n",
       "      <td>0</td>\n",
       "      <td>0</td>\n",
       "    </tr>\n",
       "    <tr>\n",
       "      <th>1</th>\n",
       "      <td>2023-09-16 00:00:00+00:00</td>\n",
       "      <td>0</td>\n",
       "      <td>0</td>\n",
       "      <td>111000</td>\n",
       "      <td>0</td>\n",
       "      <td>0</td>\n",
       "    </tr>\n",
       "    <tr>\n",
       "      <th>2</th>\n",
       "      <td>2023-09-17 00:00:00+00:00</td>\n",
       "      <td>0</td>\n",
       "      <td>1120000</td>\n",
       "      <td>74000</td>\n",
       "      <td>0</td>\n",
       "      <td>1160000</td>\n",
       "    </tr>\n",
       "    <tr>\n",
       "      <th>3</th>\n",
       "      <td>2023-09-18 00:00:00+00:00</td>\n",
       "      <td>0</td>\n",
       "      <td>0</td>\n",
       "      <td>148000</td>\n",
       "      <td>60000</td>\n",
       "      <td>0</td>\n",
       "    </tr>\n",
       "    <tr>\n",
       "      <th>4</th>\n",
       "      <td>2023-09-19 00:00:00+00:00</td>\n",
       "      <td>0</td>\n",
       "      <td>0</td>\n",
       "      <td>0</td>\n",
       "      <td>296000</td>\n",
       "      <td>0</td>\n",
       "    </tr>\n",
       "    <tr>\n",
       "      <th>5</th>\n",
       "      <td>2023-09-20 00:00:00+00:00</td>\n",
       "      <td>650000</td>\n",
       "      <td>0</td>\n",
       "      <td>0</td>\n",
       "      <td>0</td>\n",
       "      <td>0</td>\n",
       "    </tr>\n",
       "    <tr>\n",
       "      <th>6</th>\n",
       "      <td>2023-09-21 00:00:00+00:00</td>\n",
       "      <td>0</td>\n",
       "      <td>0</td>\n",
       "      <td>0</td>\n",
       "      <td>888000</td>\n",
       "      <td>0</td>\n",
       "    </tr>\n",
       "  </tbody>\n",
       "</table>\n",
       "</div>"
      ],
      "text/plain": [
       "load_name               laycan_from  Africa Atlantic Coast  Arabian Gulf  \\\n",
       "0         2023-09-15 00:00:00+00:00                      0         70000   \n",
       "1         2023-09-16 00:00:00+00:00                      0             0   \n",
       "2         2023-09-17 00:00:00+00:00                      0       1120000   \n",
       "3         2023-09-18 00:00:00+00:00                      0             0   \n",
       "4         2023-09-19 00:00:00+00:00                      0             0   \n",
       "5         2023-09-20 00:00:00+00:00                 650000             0   \n",
       "6         2023-09-21 00:00:00+00:00                      0             0   \n",
       "\n",
       "load_name  Continent   Spain  US Gulf  \n",
       "0                  0       0        0  \n",
       "1             111000       0        0  \n",
       "2              74000       0  1160000  \n",
       "3             148000   60000        0  \n",
       "4                  0  296000        0  \n",
       "5                  0       0        0  \n",
       "6                  0  888000        0  "
      ]
     },
     "execution_count": 17,
     "metadata": {},
     "output_type": "execute_result"
    }
   ],
   "source": [
    "areas_mask = data.load_name.isin(areas) & data.laycan_from.isin(this_week_days)\n",
    "\n",
    "df_areas = data[areas_mask]\n",
    "\n",
    "df_pivot = pd.pivot_table(\n",
    "    df_areas,\n",
    "    columns='load_name',\n",
    "    index='laycan_from',\n",
    "    values='quantity',\n",
    "    aggfunc=pd.Series.sum,\n",
    "    fill_value=0,\n",
    ").reindex(index=this_week_days, fill_value=0).reset_index().rename(columns={'index': 'laycan_from'})\n",
    "\n",
    "df_pivot"
   ]
  },
  {
   "cell_type": "markdown",
   "id": "bd6d325c",
   "metadata": {},
   "source": [
    "And display the results as timeseries"
   ]
  },
  {
   "cell_type": "code",
   "execution_count": 18,
   "id": "a6e120ca",
   "metadata": {},
   "outputs": [
    {
     "data": {
      "image/png": "[encoded data removed]"
     },
     "metadata": {},
     "output_type": "display_data"
    }
   ],
   "source": [
    "def area_button(area):\n",
    "    args = [\n",
    "        {'visible': [i == areas.index(area) for i in range(len(areas))]},\n",
    "        {\n",
    "            'title': f'Total Quantity to load in {area} per day',\n",
    "            'showlegend': True\n",
    "        },\n",
    "    ]\n",
    "    \n",
    "    return dict(\n",
    "        label=area,\n",
    "        method='update',\n",
    "        args=args,\n",
    "    )\n",
    "\n",
    "title = 'Total Quantity to load per day'\n",
    "today = datetime.combine(datetime.utcnow().date(), datetime.min.time())\n",
    "\n",
    "areas_fig = go.Figure()\n",
    "\n",
    "area_buttons = []\n",
    "\n",
    "for area in areas:\n",
    "    if area not in df_pivot.columns:\n",
    "        continue\n",
    "    area_scatter_plot = go.Scatter(    \n",
    "        x=df_pivot.laycan_from,\n",
    "        y=df_pivot[area],\n",
    "        name=area,\n",
    "        mode='lines',\n",
    "    )\n",
    "\n",
    "    areas_fig.add_trace(area_scatter_plot)\n",
    "    \n",
    "    area_buttons.append(area_button(area))\n",
    "    \n",
    "buttons = list([\n",
    "    dict(\n",
    "        label='All',\n",
    "        method='update',\n",
    "        args=[    \n",
    "            {'visible': [True for _ in range(len(areas))]},\n",
    "            {\n",
    "                'title': title,\n",
    "                'showlegend': True\n",
    "            }\n",
    "        ],\n",
    "    ),\n",
    "    *area_buttons,\n",
    "])\n",
    "\n",
    "areas_fig.update_layout(\n",
    "    title=title,\n",
    "    updatemenus=[go.layout.Updatemenu(\n",
    "        active=0,\n",
    "        buttons=buttons,\n",
    "    )],\n",
    "    xaxis_range=[today - timedelta(hours=4), today + timedelta(hours=24*6 + 4)],\n",
    ")\n",
    "\n",
    "areas_fig.show()"
   ]
  },
  {
   "cell_type": "markdown",
   "id": "b4834756",
   "metadata": {},
   "source": [
    "#### Export data to csv"
   ]
  },
  {
   "cell_type": "code",
   "execution_count": 19,
   "id": "f0957236",
   "metadata": {},
   "outputs": [],
   "source": [
    "output_path = '' # Change output_path with your path\n",
    "filename = 'last_two_weeks_cargoes.csv'\n",
    "if not data.empty:\n",
    "    data.to_csv(output_path+filename, index=False)"
   ]
  }
 ],
 "metadata": {
  "kernelspec": {
   "display_name": "Python 3 (ipykernel)",
   "language": "python",
   "name": "python3"
  },
  "language_info": {
   "codemirror_mode": {
    "name": "ipython",
    "version": 3
   },
   "file_extension": ".py",
   "mimetype": "text/x-python",
   "name": "python",
   "nbconvert_exporter": "python",
   "pygments_lexer": "ipython3",
   "version": "3.8.10"
  }
 },
 "nbformat": 4,
 "nbformat_minor": 5
}
