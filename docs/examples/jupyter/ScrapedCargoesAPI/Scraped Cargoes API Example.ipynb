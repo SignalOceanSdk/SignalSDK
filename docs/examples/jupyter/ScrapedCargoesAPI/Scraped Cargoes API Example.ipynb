{
 "cells": [
  {
   "cell_type": "markdown",
   "id": "7b752389",
   "metadata": {
    "pycharm": {
     "name": "#%% md\n"
    }
   },
   "source": [
    "# Scraped Cargoes API Example\n",
    "\n",
    "## Run this example in [Colab](https://colab.research.google.com/github/SignalOceanSdk/SignalSDK/blob/master/docs/examples/jupyter/ScrapedCargoesAPI/Scraped%20Cargoes%20API%20Example.ipynb)"
   ]
  },
  {
   "cell_type": "markdown",
   "id": "8f837272",
   "metadata": {
    "pycharm": {
     "name": "#%% md\n"
    }
   },
   "source": [
    "Get your personal Signal Ocean API subscription key (acquired [here](https://apis.signalocean.com/profile)) and replace it below:"
   ]
  },
  {
   "cell_type": "code",
   "execution_count": 1,
   "id": "2497822b",
   "metadata": {
    "pycharm": {
     "name": "#%%\n"
    }
   },
   "outputs": [],
   "source": [
    "signal_ocean_api_key = '' # Replace with your subscription key"
   ]
  },
  {
   "cell_type": "markdown",
   "id": "482a6d79-068b-455d-bc75-13e6f8ca16a8",
   "metadata": {
    "pycharm": {
     "name": "#%% md\n"
    }
   },
   "source": [
    "# Scraped Cargoes API\n",
    "\n",
    "The goal of Scraped Cargoes API is to collect and return scraped cargoes by the given filters. This can be done by using the `ScrapedCargoesAPI` class and calling appropriate methods\n",
    "\n",
    "#### 1. Request by filters\n",
    "\n",
    "Cargoes can be retrieved for specific filters, by calling the `get_cargoes` method with the following arguments:\n",
    "\n",
    "#### Required\n",
    "\n",
    "`vessel_type` The vessel type\n",
    "\n",
    "_Additionally, at least one of the following is required_\n",
    "\n",
    "`cargo_ids` List of CargoIDs\n",
    "\n",
    "`message_ids` List of MessageIDs\n",
    "\n",
    "`external_message_ids` List of ExternalMessageIDs\n",
    "\n",
    "`received_date_from` Earliest date the cargo received\n",
    "\n",
    "`received_date_to` Latest date the cargo received\n",
    "\n",
    "`updated_date_from` Earliest date the cargo updated\n",
    "\n",
    "`updated_date_to` Latest date the cargo updated\n",
    "\n",
    "> Mixing received and updated dates is not allowed\n",
    "\n",
    "> It's highly recommended to use UTC  dates, since this is the internally used format\n",
    "\n",
    "\n",
    "#### 2. Request by page token\n",
    "\n",
    "Cargoes can also be retrieved, by calling the `get_cargoes_incremental` method.\n",
    "This method will also return `next_request_token`, which the user should use to their next incremental request to retrieve only the latest updated cargoes.\n",
    "\n",
    "#### Required\n",
    "\n",
    "`vessel_type` The vessel type\n",
    "\n",
    "#### Optional\n",
    "\n",
    "`page_token` The key that should be used as a parameter of the token to retrieve the relevant page.\n",
    "\n",
    "#### 3. Retrieve page token\n",
    "\n",
    "The token referenced above can be retrieved for a specific date, by calling the `get_cargoes_incremental_token` method with the following argument:\n",
    "#### Required\n",
    "\n",
    "`updated_date_from` Earliest date the cargo updated\n",
    "\n"
   ]
  },
  {
   "cell_type": "markdown",
   "id": "3c3d1cb3",
   "metadata": {
    "pycharm": {
     "name": "#%% md\n"
    }
   },
   "source": [
    "### Additional optional arguments\n",
    "\n",
    "Methods `get_cargoes` and `get_cargoes_incremental`, also accept the following optional arguments:\n",
    "\n",
    "`include_details` If this field is `True` the following columns will be included in the response (otherwise they will be `None`):\n",
    "```\n",
    "parsed_part_id, line_from, line_to, in_line_order, source\n",
    "```\n",
    "\n",
    "`include_scraped_fields` If this field is `True` the following columns will be included in the response (otherwise they will be `None`):\n",
    "```\n",
    "scraped_laycan, scraped_load, scraped_load2, scraped_discharge, scraped_discharge_options, scraped_discharge2, scraped_charterer, scraped_cargo_type, scraped_quantity, scraped_delivery_date, scraped_delivery_from, scraped_delivery_to, \n",
    "scraped_redelivery_from, scraped_redelivery_to\n",
    "```\n",
    "\n",
    "`include_labels` If this field is `True` the following columns will be included in the response (otherwise they will be `None`):\n",
    "```\n",
    "load_name, load_taxonomy, load_name2, load_taxonomy2, discharge_name, discharge_taxonomy, discharge_name2, discharge_taxonomy2, charterer, cargo_type, cargo_type_group, delivery_from_name, delivery_from_taxonomy, delivery_to_name, delivery_to_taxonomy, redelivery_from_name, redelivery_from_taxonomy, redelivery_to_name, redelivery_to_taxonomy, charter_type, cargo_status\n",
    "```\n",
    "\n",
    "`include_content` If this field is `True` the following columns will be included in the response (otherwise they will be `None`):\n",
    "```\n",
    "content\n",
    "```\n",
    "\n",
    "`include_sender` If this field is `True` the following columns will be included in the response (otherwise they will be `None`): \n",
    "```\n",
    "sender\n",
    "```\n",
    "\n",
    "`include_debug_info` If this field is `True` the following columns will be included in the response (otherwise they will be `None`):\n",
    "```\n",
    "is_private\n",
    "```\n",
    "\n",
    "> Default value is `True` for the arguments described above "
   ]
  },
  {
   "cell_type": "markdown",
   "id": "4e694c91",
   "metadata": {
    "pycharm": {
     "name": "#%% md\n"
    }
   },
   "source": [
    "## Installation"
   ]
  },
  {
   "cell_type": "markdown",
   "id": "0f62eae9",
   "metadata": {
    "pycharm": {
     "name": "#%% md\n"
    }
   },
   "source": [
    "To install _Signal Ocean SDK_, simply run the following command"
   ]
  },
  {
   "cell_type": "code",
   "execution_count": 2,
   "id": "0c0bc271",
   "metadata": {
    "pycharm": {
     "name": "#%%\n"
    }
   },
   "outputs": [],
   "source": [
    "%%capture\n",
    "%pip install signal-ocean"
   ]
  },
  {
   "cell_type": "markdown",
   "id": "8bd5ede1",
   "metadata": {
    "pycharm": {
     "name": "#%% md\n"
    }
   },
   "source": [
    "## Quickstart"
   ]
  },
  {
   "cell_type": "markdown",
   "id": "b69aa608",
   "metadata": {
    "pycharm": {
     "name": "#%% md\n"
    }
   },
   "source": [
    "Import `signal-ocean` and other modules required for this demo"
   ]
  },
  {
   "cell_type": "code",
   "execution_count": 3,
   "id": "ff6a062a",
   "metadata": {
    "pycharm": {
     "name": "#%%\n"
    }
   },
   "outputs": [],
   "source": [
    "from signal_ocean import Connection\n",
    "from signal_ocean.scraped_cargoes import ScrapedCargoesAPI, ScrapedCargo\n",
    "\n",
    "from datetime import datetime, timedelta\n",
    "import pandas as pd\n",
    "import plotly.graph_objects as go"
   ]
  },
  {
   "cell_type": "markdown",
   "id": "856e9b14",
   "metadata": {
    "pycharm": {
     "name": "#%% md\n"
    }
   },
   "source": [
    "Create a new instance of the `ScrapedCargoesAPI` class"
   ]
  },
  {
   "cell_type": "code",
   "execution_count": 4,
   "id": "c309af83",
   "metadata": {
    "pycharm": {
     "name": "#%%\n"
    }
   },
   "outputs": [],
   "source": [
    "connection = Connection(signal_ocean_api_key)\n",
    "api = ScrapedCargoesAPI(connection)"
   ]
  },
  {
   "cell_type": "markdown",
   "id": "af6e7fa7",
   "metadata": {
    "pycharm": {
     "name": "#%% md\n"
    }
   },
   "source": [
    "Now you are ready to retrieve your data"
   ]
  },
  {
   "cell_type": "markdown",
   "id": "7f8dce5e",
   "metadata": {
    "pycharm": {
     "name": "#%% md\n"
    }
   },
   "source": [
    "#### Request by date"
   ]
  },
  {
   "cell_type": "markdown",
   "id": "3413ec09",
   "metadata": {
    "pycharm": {
     "name": "#%% md\n"
    }
   },
   "source": [
    "To get all tanker cargoes received the last 4 days, you must declare appropriate `vessel_type` and `received_date_from` variables"
   ]
  },
  {
   "cell_type": "code",
   "execution_count": 5,
   "id": "7c189880",
   "metadata": {
    "pycharm": {
     "name": "#%%\n"
    }
   },
   "outputs": [],
   "source": [
    "vessel_type = 1  # Tanker\n",
    "received_date_from = datetime.utcnow() - timedelta(days=4)"
   ]
  },
  {
   "cell_type": "markdown",
   "id": "25751fdc",
   "metadata": {
    "pycharm": {
     "name": "#%% md\n"
    }
   },
   "source": [
    "And then call `get_cargoes` method, as below"
   ]
  },
  {
   "cell_type": "code",
   "execution_count": 6,
   "id": "8c6089c8",
   "metadata": {
    "pycharm": {
     "name": "#%%\n"
    }
   },
   "outputs": [
    {
     "data": {
      "text/plain": [
       "ScrapedCargo(cargo_id=45442083, message_id=69570386, external_message_id=None, parsed_part_id=74686406, line_from=80, line_to=80, in_line_order=None, source='Email', updated_date=datetime.datetime(2024, 7, 29, 9, 16, 43, tzinfo=datetime.timezone.utc), received_date=datetime.datetime(2024, 7, 29, 9, 15, 42, tzinfo=datetime.timezone.utc), is_deleted=False, low_confidence=False, scraped_laycan='07-08/aug', laycan_from=datetime.datetime(2024, 8, 7, 0, 0, tzinfo=datetime.timezone.utc), laycan_to=datetime.datetime(2024, 8, 8, 0, 0, tzinfo=datetime.timezone.utc), scraped_load='ag', load_geo_id=24777, load_name='Arabian Gulf', load_taxonomy_id=4, load_taxonomy='Level0', scraped_load2=None, load_geo_id2=None, load_name2=None, load_taxonomy_id2=None, load_taxonomy2=None, scraped_discharge='japan', scraped_discharge_options=None, discharge_geo_id=121, discharge_name='Japan', discharge_taxonomy_id=3, discharge_taxonomy='Country', scraped_discharge2=None, discharge_geo_id2=None, discharge_name2=None, discharge_taxonomy_id2=None, discharge_taxonomy2=None, scraped_charterer='shell', charterer_id=1482, charterer='Shell', scraped_cargo_type=None, cargo_type_id=None, cargo_type=None, cargo_type_group_id=None, cargo_type_group=None, scraped_quantity='75', quantity=75000.0, quantity_buffer=0.0, quantity_from=75000.0, quantity_to=75000.0, size_from=None, size_to=None, scraped_delivery_date=None, delivery_date_from=None, delivery_date_to=None, scraped_delivery_from=None, delivery_from_geo_id=None, delivery_from_name=None, delivery_from_taxonomy_id=None, delivery_from_taxonomy=None, scraped_delivery_to=None, delivery_to_geo_id=None, delivery_to_name=None, delivery_to_taxonomy_id=None, delivery_to_taxonomy=None, scraped_redelivery_from=None, redelivery_from_geo_id=None, redelivery_from_name=None, redelivery_from_taxonomy_id=None, redelivery_from_taxonomy=None, scraped_redelivery_to=None, redelivery_to_geo_id=None, redelivery_to_name=None, redelivery_to_taxonomy_id=None, redelivery_to_taxonomy=None, charter_type_id=0, charter_type='Voyage', cargo_status_id=None, cargo_status=None, content='07-08/aug shell ag japan 75 naf o/p proteus harvonne hld', subject='McQuilling Asia - Clean East Daily Market Report (29 Jul 2024)', sender='McQuilling', is_private=True)"
      ]
     },
     "execution_count": 6,
     "metadata": {},
     "output_type": "execute_result"
    }
   ],
   "source": [
    "scraped_cargoes = api.get_cargoes(\n",
    "    vessel_type=vessel_type,\n",
    "    received_date_from=received_date_from,\n",
    ")\n",
    "\n",
    "next(iter(scraped_cargoes), None)"
   ]
  },
  {
   "cell_type": "markdown",
   "id": "d568c2af",
   "metadata": {
    "pycharm": {
     "name": "#%% md\n"
    }
   },
   "source": [
    "For better visualization, it's convenient to insert data into a DataFrame"
   ]
  },
  {
   "cell_type": "code",
   "execution_count": 7,
   "id": "0d6df5c7",
   "metadata": {
    "pycharm": {
     "name": "#%%\n"
    }
   },
   "outputs": [
    {
     "data": {
      "text/html": [
       "<div>\n",
       "<style scoped>\n",
       "    .dataframe tbody tr th:only-of-type {\n",
       "        vertical-align: middle;\n",
       "    }\n",
       "\n",
       "    .dataframe tbody tr th {\n",
       "        vertical-align: top;\n",
       "    }\n",
       "\n",
       "    .dataframe thead th {\n",
       "        text-align: right;\n",
       "    }\n",
       "</style>\n",
       "<table border=\"1\" class=\"dataframe\">\n",
       "  <thead>\n",
       "    <tr style=\"text-align: right;\">\n",
       "      <th></th>\n",
       "      <th>cargo_id</th>\n",
       "      <th>message_id</th>\n",
       "      <th>external_message_id</th>\n",
       "      <th>parsed_part_id</th>\n",
       "      <th>line_from</th>\n",
       "      <th>line_to</th>\n",
       "      <th>in_line_order</th>\n",
       "      <th>source</th>\n",
       "      <th>updated_date</th>\n",
       "      <th>received_date</th>\n",
       "      <th>...</th>\n",
       "      <th>redelivery_to_taxonomy_id</th>\n",
       "      <th>redelivery_to_taxonomy</th>\n",
       "      <th>charter_type_id</th>\n",
       "      <th>charter_type</th>\n",
       "      <th>cargo_status_id</th>\n",
       "      <th>cargo_status</th>\n",
       "      <th>content</th>\n",
       "      <th>subject</th>\n",
       "      <th>sender</th>\n",
       "      <th>is_private</th>\n",
       "    </tr>\n",
       "  </thead>\n",
       "  <tbody>\n",
       "    <tr>\n",
       "      <th>0</th>\n",
       "      <td>45442083</td>\n",
       "      <td>69570386</td>\n",
       "      <td>None</td>\n",
       "      <td>74686406</td>\n",
       "      <td>80</td>\n",
       "      <td>80</td>\n",
       "      <td>NaN</td>\n",
       "      <td>Email</td>\n",
       "      <td>2024-07-29 09:16:43+00:00</td>\n",
       "      <td>2024-07-29 09:15:42+00:00</td>\n",
       "      <td>...</td>\n",
       "      <td>NaN</td>\n",
       "      <td>None</td>\n",
       "      <td>0</td>\n",
       "      <td>Voyage</td>\n",
       "      <td>NaN</td>\n",
       "      <td>None</td>\n",
       "      <td>07-08/aug shell ag japan 75 naf o/p proteus ha...</td>\n",
       "      <td>McQuilling Asia - Clean East Daily Market Repo...</td>\n",
       "      <td>McQuilling</td>\n",
       "      <td>True</td>\n",
       "    </tr>\n",
       "    <tr>\n",
       "      <th>1</th>\n",
       "      <td>45442084</td>\n",
       "      <td>69570386</td>\n",
       "      <td>None</td>\n",
       "      <td>74686406</td>\n",
       "      <td>58</td>\n",
       "      <td>58</td>\n",
       "      <td>1.0</td>\n",
       "      <td>Email</td>\n",
       "      <td>2024-07-29 09:16:43+00:00</td>\n",
       "      <td>2024-07-29 09:15:42+00:00</td>\n",
       "      <td>...</td>\n",
       "      <td>NaN</td>\n",
       "      <td>None</td>\n",
       "      <td>0</td>\n",
       "      <td>Voyage</td>\n",
       "      <td>0.0</td>\n",
       "      <td>OnSubs</td>\n",
       "      <td>01-02/aug ats taiwan spore-ag 60 um s 850k-14m...</td>\n",
       "      <td>McQuilling Asia - Clean East Daily Market Repo...</td>\n",
       "      <td>McQuilling</td>\n",
       "      <td>True</td>\n",
       "    </tr>\n",
       "    <tr>\n",
       "      <th>2</th>\n",
       "      <td>45442085</td>\n",
       "      <td>69570386</td>\n",
       "      <td>None</td>\n",
       "      <td>74686406</td>\n",
       "      <td>51</td>\n",
       "      <td>51</td>\n",
       "      <td>NaN</td>\n",
       "      <td>Email</td>\n",
       "      <td>2024-07-29 09:16:43+00:00</td>\n",
       "      <td>2024-07-29 09:15:42+00:00</td>\n",
       "      <td>...</td>\n",
       "      <td>NaN</td>\n",
       "      <td>None</td>\n",
       "      <td>0</td>\n",
       "      <td>Voyage</td>\n",
       "      <td>0.0</td>\n",
       "      <td>OnSubs</td>\n",
       "      <td>5-aug bf muara spore 35 cpf 285k daian subs</td>\n",
       "      <td>McQuilling Asia - Clean East Daily Market Repo...</td>\n",
       "      <td>McQuilling</td>\n",
       "      <td>True</td>\n",
       "    </tr>\n",
       "    <tr>\n",
       "      <th>3</th>\n",
       "      <td>45442086</td>\n",
       "      <td>69570386</td>\n",
       "      <td>None</td>\n",
       "      <td>74686406</td>\n",
       "      <td>41</td>\n",
       "      <td>41</td>\n",
       "      <td>NaN</td>\n",
       "      <td>Email</td>\n",
       "      <td>2024-07-29 09:16:43+00:00</td>\n",
       "      <td>2024-07-29 09:15:42+00:00</td>\n",
       "      <td>...</td>\n",
       "      <td>NaN</td>\n",
       "      <td>None</td>\n",
       "      <td>0</td>\n",
       "      <td>Voyage</td>\n",
       "      <td>0.0</td>\n",
       "      <td>OnSubs</td>\n",
       "      <td>03-05/aug marubeni korea japan 35 um s rnr ten...</td>\n",
       "      <td>McQuilling Asia - Clean East Daily Market Repo...</td>\n",
       "      <td>McQuilling</td>\n",
       "      <td>True</td>\n",
       "    </tr>\n",
       "    <tr>\n",
       "      <th>4</th>\n",
       "      <td>45442087</td>\n",
       "      <td>69570386</td>\n",
       "      <td>None</td>\n",
       "      <td>74686406</td>\n",
       "      <td>58</td>\n",
       "      <td>58</td>\n",
       "      <td>NaN</td>\n",
       "      <td>Email</td>\n",
       "      <td>2024-07-29 09:16:43+00:00</td>\n",
       "      <td>2024-07-29 09:15:42+00:00</td>\n",
       "      <td>...</td>\n",
       "      <td>NaN</td>\n",
       "      <td>None</td>\n",
       "      <td>0</td>\n",
       "      <td>Voyage</td>\n",
       "      <td>0.0</td>\n",
       "      <td>OnSubs</td>\n",
       "      <td>01-02/aug ats taiwan spore-ag 60 um s 850k-14m...</td>\n",
       "      <td>McQuilling Asia - Clean East Daily Market Repo...</td>\n",
       "      <td>McQuilling</td>\n",
       "      <td>True</td>\n",
       "    </tr>\n",
       "  </tbody>\n",
       "</table>\n",
       "<p>5 rows × 82 columns</p>\n",
       "</div>"
      ],
      "text/plain": [
       "   cargo_id  message_id external_message_id  parsed_part_id  line_from  \\\n",
       "0  45442083    69570386                None        74686406         80   \n",
       "1  45442084    69570386                None        74686406         58   \n",
       "2  45442085    69570386                None        74686406         51   \n",
       "3  45442086    69570386                None        74686406         41   \n",
       "4  45442087    69570386                None        74686406         58   \n",
       "\n",
       "   line_to  in_line_order source              updated_date  \\\n",
       "0       80            NaN  Email 2024-07-29 09:16:43+00:00   \n",
       "1       58            1.0  Email 2024-07-29 09:16:43+00:00   \n",
       "2       51            NaN  Email 2024-07-29 09:16:43+00:00   \n",
       "3       41            NaN  Email 2024-07-29 09:16:43+00:00   \n",
       "4       58            NaN  Email 2024-07-29 09:16:43+00:00   \n",
       "\n",
       "              received_date  ...  redelivery_to_taxonomy_id  \\\n",
       "0 2024-07-29 09:15:42+00:00  ...                        NaN   \n",
       "1 2024-07-29 09:15:42+00:00  ...                        NaN   \n",
       "2 2024-07-29 09:15:42+00:00  ...                        NaN   \n",
       "3 2024-07-29 09:15:42+00:00  ...                        NaN   \n",
       "4 2024-07-29 09:15:42+00:00  ...                        NaN   \n",
       "\n",
       "   redelivery_to_taxonomy charter_type_id charter_type cargo_status_id  \\\n",
       "0                    None               0       Voyage             NaN   \n",
       "1                    None               0       Voyage             0.0   \n",
       "2                    None               0       Voyage             0.0   \n",
       "3                    None               0       Voyage             0.0   \n",
       "4                    None               0       Voyage             0.0   \n",
       "\n",
       "  cargo_status                                            content  \\\n",
       "0         None  07-08/aug shell ag japan 75 naf o/p proteus ha...   \n",
       "1       OnSubs  01-02/aug ats taiwan spore-ag 60 um s 850k-14m...   \n",
       "2       OnSubs        5-aug bf muara spore 35 cpf 285k daian subs   \n",
       "3       OnSubs  03-05/aug marubeni korea japan 35 um s rnr ten...   \n",
       "4       OnSubs  01-02/aug ats taiwan spore-ag 60 um s 850k-14m...   \n",
       "\n",
       "                                             subject      sender is_private  \n",
       "0  McQuilling Asia - Clean East Daily Market Repo...  McQuilling       True  \n",
       "1  McQuilling Asia - Clean East Daily Market Repo...  McQuilling       True  \n",
       "2  McQuilling Asia - Clean East Daily Market Repo...  McQuilling       True  \n",
       "3  McQuilling Asia - Clean East Daily Market Repo...  McQuilling       True  \n",
       "4  McQuilling Asia - Clean East Daily Market Repo...  McQuilling       True  \n",
       "\n",
       "[5 rows x 82 columns]"
      ]
     },
     "execution_count": 7,
     "metadata": {},
     "output_type": "execute_result"
    }
   ],
   "source": [
    "df = pd.DataFrame(scraped_cargoes)\n",
    "\n",
    "df.head()"
   ]
  },
  {
   "cell_type": "markdown",
   "id": "3c008a29-c38b-402c-8c0e-2d2123e868ac",
   "metadata": {
    "pycharm": {
     "name": "#%% md\n"
    }
   },
   "source": [
    "#### Request by Message or ExternalMessage IDs"
   ]
  },
  {
   "cell_type": "markdown",
   "id": "271b2ea7-9f65-44ee-9981-21b96d04b734",
   "metadata": {
    "pycharm": {
     "name": "#%% md\n"
    }
   },
   "source": [
    "To retrieve cargoes for particular message ID(s), you should include an extra parameter called `message_ids` when using the `get_cargoes` method. This parameter should contain a list of message IDs. For instance,"
   ]
  },
  {
   "cell_type": "code",
   "execution_count": 8,
   "id": "b2a75948-e1a1-4b11-978a-805ac3013dad",
   "metadata": {
    "pycharm": {
     "name": "#%%\n"
    }
   },
   "outputs": [
    {
     "data": {
      "text/plain": [
       "ScrapedCargo(cargo_id=45279461, message_id=69201092, external_message_id=None, parsed_part_id=74439682, line_from=71, line_to=71, in_line_order=None, source='Email', updated_date=datetime.datetime(2024, 7, 24, 4, 32, 16, tzinfo=datetime.timezone.utc), received_date=datetime.datetime(2024, 7, 24, 4, 30, tzinfo=datetime.timezone.utc), is_deleted=False, low_confidence=False, scraped_laycan='26-27 aug', laycan_from=datetime.datetime(2024, 8, 26, 0, 0, tzinfo=datetime.timezone.utc), laycan_to=datetime.datetime(2024, 8, 27, 0, 0, tzinfo=datetime.timezone.utc), scraped_load='balikpapan', load_geo_id=3486, load_name='Balikpapan', load_taxonomy_id=2, load_taxonomy='Port', scraped_load2=None, load_geo_id2=None, load_name2=None, load_taxonomy_id2=None, load_taxonomy2=None, scraped_discharge='opts', scraped_discharge_options=None, discharge_geo_id=None, discharge_name=None, discharge_taxonomy_id=None, discharge_taxonomy=None, scraped_discharge2=None, discharge_geo_id2=None, discharge_name2=None, discharge_taxonomy_id2=None, discharge_taxonomy2=None, scraped_charterer='tender', charterer_id=None, charterer=None, scraped_cargo_type=None, cargo_type_id=None, cargo_type=None, cargo_type_group_id=None, cargo_type_group=None, scraped_quantity=None, quantity=None, quantity_buffer=None, quantity_from=None, quantity_to=None, size_from=None, size_to=None, scraped_delivery_date=None, delivery_date_from=None, delivery_date_to=None, scraped_delivery_from=None, delivery_from_geo_id=None, delivery_from_name=None, delivery_from_taxonomy_id=None, delivery_from_taxonomy=None, scraped_delivery_to=None, delivery_to_geo_id=None, delivery_to_name=None, delivery_to_taxonomy_id=None, delivery_to_taxonomy=None, scraped_redelivery_from=None, redelivery_from_geo_id=None, redelivery_from_name=None, redelivery_from_taxonomy_id=None, redelivery_from_taxonomy=None, scraped_redelivery_to=None, redelivery_to_geo_id=None, redelivery_to_name=None, redelivery_to_taxonomy_id=None, redelivery_to_taxonomy=None, charter_type_id=0, charter_type='Voyage', cargo_status_id=None, cargo_status=None, content='tender 200kb v1250 balikpapan opts 26-27 aug clsd', subject='RAFFLES MARKET REPORT 24TH JUL 2024', sender='Raffles Shipbrokers', is_private=True)"
      ]
     },
     "execution_count": 8,
     "metadata": {},
     "output_type": "execute_result"
    }
   ],
   "source": [
    "message_ids = [69320619,69201092,69216273,69274650,69314539]\n",
    "scraped_cargoes_by_message_ids = api.get_cargoes(\n",
    "    vessel_type=vessel_type,\n",
    "    message_ids=message_ids,\n",
    ")\n",
    "\n",
    "next(iter(scraped_cargoes_by_message_ids), None)"
   ]
  },
  {
   "cell_type": "markdown",
   "id": "ab2638c1-2ffd-4b41-afb0-8959f7f90700",
   "metadata": {
    "pycharm": {
     "name": "#%% md\n"
    }
   },
   "source": [
    "You can achieve a similar result for external message IDs by providing an argument called `external_message_ids`."
   ]
  },
  {
   "cell_type": "markdown",
   "id": "78ad4070",
   "metadata": {
    "pycharm": {
     "name": "#%% md\n"
    }
   },
   "source": [
    "#### Request by Cargo IDs"
   ]
  },
  {
   "cell_type": "markdown",
   "id": "b8d899bb",
   "metadata": {
    "pycharm": {
     "name": "#%% md\n"
    }
   },
   "source": [
    "To retrieve cargoes for particular cargo ID(s), you should include an extra parameter called `cargo_ids` when using the `get_cargoes` method.\n",
    "This parameter should contain a list of cargo IDs. For instance,"
   ]
  },
  {
   "cell_type": "code",
   "execution_count": 9,
   "id": "c7947889",
   "metadata": {
    "pycharm": {
     "name": "#%%\n"
    }
   },
   "outputs": [
    {
     "data": {
      "text/html": [
       "<div>\n",
       "<style scoped>\n",
       "    .dataframe tbody tr th:only-of-type {\n",
       "        vertical-align: middle;\n",
       "    }\n",
       "\n",
       "    .dataframe tbody tr th {\n",
       "        vertical-align: top;\n",
       "    }\n",
       "\n",
       "    .dataframe thead th {\n",
       "        text-align: right;\n",
       "    }\n",
       "</style>\n",
       "<table border=\"1\" class=\"dataframe\">\n",
       "  <thead>\n",
       "    <tr style=\"text-align: right;\">\n",
       "      <th></th>\n",
       "      <th>cargo_id</th>\n",
       "      <th>message_id</th>\n",
       "      <th>external_message_id</th>\n",
       "      <th>parsed_part_id</th>\n",
       "      <th>line_from</th>\n",
       "      <th>line_to</th>\n",
       "      <th>in_line_order</th>\n",
       "      <th>source</th>\n",
       "      <th>updated_date</th>\n",
       "      <th>received_date</th>\n",
       "      <th>...</th>\n",
       "      <th>redelivery_to_taxonomy_id</th>\n",
       "      <th>redelivery_to_taxonomy</th>\n",
       "      <th>charter_type_id</th>\n",
       "      <th>charter_type</th>\n",
       "      <th>cargo_status_id</th>\n",
       "      <th>cargo_status</th>\n",
       "      <th>content</th>\n",
       "      <th>subject</th>\n",
       "      <th>sender</th>\n",
       "      <th>is_private</th>\n",
       "    </tr>\n",
       "  </thead>\n",
       "  <tbody>\n",
       "    <tr>\n",
       "      <th>0</th>\n",
       "      <td>45336637</td>\n",
       "      <td>69320619</td>\n",
       "      <td>None</td>\n",
       "      <td>74519826</td>\n",
       "      <td>124</td>\n",
       "      <td>124</td>\n",
       "      <td>None</td>\n",
       "      <td>Email</td>\n",
       "      <td>2024-07-25 05:33:57+00:00</td>\n",
       "      <td>2024-07-25 05:30:18+00:00</td>\n",
       "      <td>...</td>\n",
       "      <td>None</td>\n",
       "      <td>None</td>\n",
       "      <td>0</td>\n",
       "      <td>Voyage</td>\n",
       "      <td>None</td>\n",
       "      <td>None</td>\n",
       "      <td>tender 200 kb mfo dumai opts 23-24 aug clsd</td>\n",
       "      <td>SHIPLINKS EAST OF SUEZ DIRTY MARKET REPORT (25...</td>\n",
       "      <td>ShipLinks</td>\n",
       "      <td>True</td>\n",
       "    </tr>\n",
       "    <tr>\n",
       "      <th>1</th>\n",
       "      <td>45336638</td>\n",
       "      <td>69320619</td>\n",
       "      <td>None</td>\n",
       "      <td>74519826</td>\n",
       "      <td>119</td>\n",
       "      <td>119</td>\n",
       "      <td>None</td>\n",
       "      <td>Email</td>\n",
       "      <td>2024-07-25 05:33:57+00:00</td>\n",
       "      <td>2024-07-25 05:30:18+00:00</td>\n",
       "      <td>...</td>\n",
       "      <td>None</td>\n",
       "      <td>None</td>\n",
       "      <td>0</td>\n",
       "      <td>Voyage</td>\n",
       "      <td>None</td>\n",
       "      <td>None</td>\n",
       "      <td>tender 200 kb v1250 sungai pakning opts 02-03 ...</td>\n",
       "      <td>SHIPLINKS EAST OF SUEZ DIRTY MARKET REPORT (25...</td>\n",
       "      <td>ShipLinks</td>\n",
       "      <td>True</td>\n",
       "    </tr>\n",
       "    <tr>\n",
       "      <th>2</th>\n",
       "      <td>45336639</td>\n",
       "      <td>69320619</td>\n",
       "      <td>None</td>\n",
       "      <td>74519826</td>\n",
       "      <td>120</td>\n",
       "      <td>120</td>\n",
       "      <td>None</td>\n",
       "      <td>Email</td>\n",
       "      <td>2024-07-25 05:33:57+00:00</td>\n",
       "      <td>2024-07-25 05:30:18+00:00</td>\n",
       "      <td>...</td>\n",
       "      <td>None</td>\n",
       "      <td>None</td>\n",
       "      <td>0</td>\n",
       "      <td>Voyage</td>\n",
       "      <td>None</td>\n",
       "      <td>None</td>\n",
       "      <td>tender 200 kb v1250 sungai pakning opts 13-14 ...</td>\n",
       "      <td>SHIPLINKS EAST OF SUEZ DIRTY MARKET REPORT (25...</td>\n",
       "      <td>ShipLinks</td>\n",
       "      <td>True</td>\n",
       "    </tr>\n",
       "    <tr>\n",
       "      <th>3</th>\n",
       "      <td>45336640</td>\n",
       "      <td>69320619</td>\n",
       "      <td>None</td>\n",
       "      <td>74519825</td>\n",
       "      <td>103</td>\n",
       "      <td>103</td>\n",
       "      <td>None</td>\n",
       "      <td>Email</td>\n",
       "      <td>2024-07-25 05:33:57+00:00</td>\n",
       "      <td>2024-07-25 05:30:18+00:00</td>\n",
       "      <td>...</td>\n",
       "      <td>None</td>\n",
       "      <td>None</td>\n",
       "      <td>0</td>\n",
       "      <td>Voyage</td>\n",
       "      <td>None</td>\n",
       "      <td>None</td>\n",
       "      <td>tender 200 kb mfo cilacap opts 21-22 aug clsd</td>\n",
       "      <td>SHIPLINKS EAST OF SUEZ DIRTY MARKET REPORT (25...</td>\n",
       "      <td>ShipLinks</td>\n",
       "      <td>True</td>\n",
       "    </tr>\n",
       "    <tr>\n",
       "      <th>4</th>\n",
       "      <td>45336641</td>\n",
       "      <td>69320619</td>\n",
       "      <td>None</td>\n",
       "      <td>74519825</td>\n",
       "      <td>102</td>\n",
       "      <td>102</td>\n",
       "      <td>None</td>\n",
       "      <td>Email</td>\n",
       "      <td>2024-07-25 05:33:57+00:00</td>\n",
       "      <td>2024-07-25 05:30:18+00:00</td>\n",
       "      <td>...</td>\n",
       "      <td>None</td>\n",
       "      <td>None</td>\n",
       "      <td>0</td>\n",
       "      <td>Voyage</td>\n",
       "      <td>None</td>\n",
       "      <td>None</td>\n",
       "      <td>tender 200 kb v1250 sungai pakning opts 26-27 ...</td>\n",
       "      <td>SHIPLINKS EAST OF SUEZ DIRTY MARKET REPORT (25...</td>\n",
       "      <td>ShipLinks</td>\n",
       "      <td>True</td>\n",
       "    </tr>\n",
       "  </tbody>\n",
       "</table>\n",
       "<p>5 rows × 82 columns</p>\n",
       "</div>"
      ],
      "text/plain": [
       "   cargo_id  message_id external_message_id  parsed_part_id  line_from  \\\n",
       "0  45336637    69320619                None        74519826        124   \n",
       "1  45336638    69320619                None        74519826        119   \n",
       "2  45336639    69320619                None        74519826        120   \n",
       "3  45336640    69320619                None        74519825        103   \n",
       "4  45336641    69320619                None        74519825        102   \n",
       "\n",
       "   line_to in_line_order source              updated_date  \\\n",
       "0      124          None  Email 2024-07-25 05:33:57+00:00   \n",
       "1      119          None  Email 2024-07-25 05:33:57+00:00   \n",
       "2      120          None  Email 2024-07-25 05:33:57+00:00   \n",
       "3      103          None  Email 2024-07-25 05:33:57+00:00   \n",
       "4      102          None  Email 2024-07-25 05:33:57+00:00   \n",
       "\n",
       "              received_date  ...  redelivery_to_taxonomy_id  \\\n",
       "0 2024-07-25 05:30:18+00:00  ...                       None   \n",
       "1 2024-07-25 05:30:18+00:00  ...                       None   \n",
       "2 2024-07-25 05:30:18+00:00  ...                       None   \n",
       "3 2024-07-25 05:30:18+00:00  ...                       None   \n",
       "4 2024-07-25 05:30:18+00:00  ...                       None   \n",
       "\n",
       "   redelivery_to_taxonomy charter_type_id charter_type cargo_status_id  \\\n",
       "0                    None               0       Voyage            None   \n",
       "1                    None               0       Voyage            None   \n",
       "2                    None               0       Voyage            None   \n",
       "3                    None               0       Voyage            None   \n",
       "4                    None               0       Voyage            None   \n",
       "\n",
       "  cargo_status                                            content  \\\n",
       "0         None        tender 200 kb mfo dumai opts 23-24 aug clsd   \n",
       "1         None  tender 200 kb v1250 sungai pakning opts 02-03 ...   \n",
       "2         None  tender 200 kb v1250 sungai pakning opts 13-14 ...   \n",
       "3         None      tender 200 kb mfo cilacap opts 21-22 aug clsd   \n",
       "4         None  tender 200 kb v1250 sungai pakning opts 26-27 ...   \n",
       "\n",
       "                                             subject     sender is_private  \n",
       "0  SHIPLINKS EAST OF SUEZ DIRTY MARKET REPORT (25...  ShipLinks       True  \n",
       "1  SHIPLINKS EAST OF SUEZ DIRTY MARKET REPORT (25...  ShipLinks       True  \n",
       "2  SHIPLINKS EAST OF SUEZ DIRTY MARKET REPORT (25...  ShipLinks       True  \n",
       "3  SHIPLINKS EAST OF SUEZ DIRTY MARKET REPORT (25...  ShipLinks       True  \n",
       "4  SHIPLINKS EAST OF SUEZ DIRTY MARKET REPORT (25...  ShipLinks       True  \n",
       "\n",
       "[5 rows x 82 columns]"
      ]
     },
     "execution_count": 9,
     "metadata": {},
     "output_type": "execute_result"
    }
   ],
   "source": [
    "cargo_ids = [45336637,45336638,45336639,45336640,45336641]    # Or add a list of your desired cargo IDs\n",
    "\n",
    "scraped_cargoes_by_ids = api.get_cargoes(\n",
    "    vessel_type=vessel_type,\n",
    "    cargo_ids=cargo_ids,\n",
    ")\n",
    "\n",
    "df_by_ids = pd.DataFrame(scraped_cargoes_by_ids)\n",
    "df_by_ids.head()"
   ]
  },
  {
   "cell_type": "markdown",
   "id": "cbeb5159-6c89-4bf9-bab0-e88d4a48fa3b",
   "metadata": {
    "pycharm": {
     "name": "#%% md\n"
    }
   },
   "source": [
    "#### Retrieve incremental token\n",
    "The `get_cargoes_incremental_token` allows retrieval of `page_token` by adding the `updated_date_from` value.\n",
    "This `page_token` can be used as a variable to the `get_cargoes_incremental` method, in order to retrieve only new or updated cargoes."
   ]
  },
  {
   "cell_type": "markdown",
   "id": "0dfcbc8b-f938-45cb-a79a-ff7a13e4e9fa",
   "metadata": {
    "pycharm": {
     "name": "#%% md\n"
    }
   },
   "source": [
    "For instance, to retrieve the relevant page token for last week's data, you must call the `get_cargoes_incremental_token`, as below"
   ]
  },
  {
   "cell_type": "code",
   "execution_count": 10,
   "id": "0bafd430-5bf0-4787-9010-1cd997d3d4f1",
   "metadata": {},
   "outputs": [
    {
     "data": {
      "text/plain": [
       "'MjAyNC0wNy0yNlQwODo0NzoyMy4wMDBa'"
      ]
     },
     "execution_count": 10,
     "metadata": {},
     "output_type": "execute_result"
    }
   ],
   "source": [
    "updated_date_from = datetime.utcnow() - timedelta(days=7)\n",
    "page_token = api.get_cargoes_incremental_token(\n",
    "    updated_date_from=updated_date_from,\n",
    ")\n",
    "\n",
    "page_token"
   ]
  },
  {
   "cell_type": "markdown",
   "id": "b875daec-5dbf-4848-88d6-e87a05cdc59d",
   "metadata": {
    "pycharm": {
     "name": "#%% md\n"
    }
   },
   "source": [
    "#### Request by page token"
   ]
  },
  {
   "cell_type": "markdown",
   "id": "c9dffec1-6531-43ee-a2fe-36f3ddaecf53",
   "metadata": {
    "pycharm": {
     "name": "#%% md\n"
    }
   },
   "source": [
    "If the `page_token` parameter is not specified, the `get_cargoes_incremental` method will retrieve all cargoes. You can call the `get_cargoes_incremental` method, as below"
   ]
  },
  {
   "cell_type": "code",
   "execution_count": 11,
   "id": "53175322-e96e-495c-b15e-077d8efd1d5b",
   "metadata": {},
   "outputs": [
    {
     "data": {
      "text/html": [
       "<div>\n",
       "<style scoped>\n",
       "    .dataframe tbody tr th:only-of-type {\n",
       "        vertical-align: middle;\n",
       "    }\n",
       "\n",
       "    .dataframe tbody tr th {\n",
       "        vertical-align: top;\n",
       "    }\n",
       "\n",
       "    .dataframe thead th {\n",
       "        text-align: right;\n",
       "    }\n",
       "</style>\n",
       "<table border=\"1\" class=\"dataframe\">\n",
       "  <thead>\n",
       "    <tr style=\"text-align: right;\">\n",
       "      <th></th>\n",
       "      <th>cargo_id</th>\n",
       "      <th>message_id</th>\n",
       "      <th>external_message_id</th>\n",
       "      <th>parsed_part_id</th>\n",
       "      <th>line_from</th>\n",
       "      <th>line_to</th>\n",
       "      <th>in_line_order</th>\n",
       "      <th>source</th>\n",
       "      <th>updated_date</th>\n",
       "      <th>received_date</th>\n",
       "      <th>...</th>\n",
       "      <th>redelivery_to_taxonomy_id</th>\n",
       "      <th>redelivery_to_taxonomy</th>\n",
       "      <th>charter_type_id</th>\n",
       "      <th>charter_type</th>\n",
       "      <th>cargo_status_id</th>\n",
       "      <th>cargo_status</th>\n",
       "      <th>content</th>\n",
       "      <th>subject</th>\n",
       "      <th>sender</th>\n",
       "      <th>is_private</th>\n",
       "    </tr>\n",
       "  </thead>\n",
       "  <tbody>\n",
       "    <tr>\n",
       "      <th>0</th>\n",
       "      <td>45396552</td>\n",
       "      <td>69453094</td>\n",
       "      <td>None</td>\n",
       "      <td>74606440.0</td>\n",
       "      <td>41.0</td>\n",
       "      <td>41.0</td>\n",
       "      <td>NaN</td>\n",
       "      <td>Email</td>\n",
       "      <td>2024-07-26 09:10:02+00:00</td>\n",
       "      <td>2024-07-26 09:08:58+00:00</td>\n",
       "      <td>...</td>\n",
       "      <td>NaN</td>\n",
       "      <td>None</td>\n",
       "      <td>0.0</td>\n",
       "      <td>Voyage</td>\n",
       "      <td>NaN</td>\n",
       "      <td>None</td>\n",
       "      <td>repsol 130 12-aug nhc sankofa spain 90ws popi p -</td>\n",
       "      <td>DA' OCEANIC SHIPPING - DAILY DPP MARKET REPORT...</td>\n",
       "      <td>Da'oceanic Shipping</td>\n",
       "      <td>True</td>\n",
       "    </tr>\n",
       "    <tr>\n",
       "      <th>1</th>\n",
       "      <td>45397078</td>\n",
       "      <td>69454207</td>\n",
       "      <td>None</td>\n",
       "      <td>74607105.0</td>\n",
       "      <td>203.0</td>\n",
       "      <td>203.0</td>\n",
       "      <td>NaN</td>\n",
       "      <td>Email</td>\n",
       "      <td>2024-07-26 09:20:30+00:00</td>\n",
       "      <td>2024-07-26 09:19:24+00:00</td>\n",
       "      <td>...</td>\n",
       "      <td>NaN</td>\n",
       "      <td>None</td>\n",
       "      <td>0.0</td>\n",
       "      <td>Voyage</td>\n",
       "      <td>NaN</td>\n",
       "      <td>None</td>\n",
       "      <td>equinor mongstad trans-atlantic 210ws green sky -</td>\n",
       "      <td>DA' OCEANIC SHIPPING - WEEKLY CPP MARKET REPOR...</td>\n",
       "      <td>Da'oceanic Shipping</td>\n",
       "      <td>True</td>\n",
       "    </tr>\n",
       "    <tr>\n",
       "      <th>2</th>\n",
       "      <td>45397079</td>\n",
       "      <td>69454207</td>\n",
       "      <td>None</td>\n",
       "      <td>74607105.0</td>\n",
       "      <td>91.0</td>\n",
       "      <td>91.0</td>\n",
       "      <td>NaN</td>\n",
       "      <td>Email</td>\n",
       "      <td>2024-07-26 09:20:30+00:00</td>\n",
       "      <td>2024-07-26 09:19:24+00:00</td>\n",
       "      <td>...</td>\n",
       "      <td>NaN</td>\n",
       "      <td>None</td>\n",
       "      <td>0.0</td>\n",
       "      <td>Voyage</td>\n",
       "      <td>NaN</td>\n",
       "      <td>None</td>\n",
       "      <td>kpc kuwait pakistan $595k em zenith -</td>\n",
       "      <td>DA' OCEANIC SHIPPING - WEEKLY CPP MARKET REPOR...</td>\n",
       "      <td>Da'oceanic Shipping</td>\n",
       "      <td>True</td>\n",
       "    </tr>\n",
       "    <tr>\n",
       "      <th>3</th>\n",
       "      <td>45397080</td>\n",
       "      <td>69454207</td>\n",
       "      <td>None</td>\n",
       "      <td>74607105.0</td>\n",
       "      <td>61.0</td>\n",
       "      <td>61.0</td>\n",
       "      <td>1.0</td>\n",
       "      <td>Email</td>\n",
       "      <td>2024-07-26 09:20:30+00:00</td>\n",
       "      <td>2024-07-26 09:19:24+00:00</td>\n",
       "      <td>...</td>\n",
       "      <td>NaN</td>\n",
       "      <td>None</td>\n",
       "      <td>0.0</td>\n",
       "      <td>Voyage</td>\n",
       "      <td>NaN</td>\n",
       "      <td>None</td>\n",
       "      <td>reliance sikka ukc-usac $4.30-4.75m hafnia yar...</td>\n",
       "      <td>DA' OCEANIC SHIPPING - WEEKLY CPP MARKET REPOR...</td>\n",
       "      <td>Da'oceanic Shipping</td>\n",
       "      <td>True</td>\n",
       "    </tr>\n",
       "    <tr>\n",
       "      <th>4</th>\n",
       "      <td>45397081</td>\n",
       "      <td>69454207</td>\n",
       "      <td>None</td>\n",
       "      <td>74607105.0</td>\n",
       "      <td>226.0</td>\n",
       "      <td>226.0</td>\n",
       "      <td>NaN</td>\n",
       "      <td>Email</td>\n",
       "      <td>2024-07-26 09:20:30+00:00</td>\n",
       "      <td>2024-07-26 09:19:24+00:00</td>\n",
       "      <td>...</td>\n",
       "      <td>NaN</td>\n",
       "      <td>None</td>\n",
       "      <td>0.0</td>\n",
       "      <td>Voyage</td>\n",
       "      <td>NaN</td>\n",
       "      <td>None</td>\n",
       "      <td>maersk usg opts own fpmc 36 -</td>\n",
       "      <td>DA' OCEANIC SHIPPING - WEEKLY CPP MARKET REPOR...</td>\n",
       "      <td>Da'oceanic Shipping</td>\n",
       "      <td>True</td>\n",
       "    </tr>\n",
       "  </tbody>\n",
       "</table>\n",
       "<p>5 rows × 82 columns</p>\n",
       "</div>"
      ],
      "text/plain": [
       "   cargo_id  message_id external_message_id  parsed_part_id  line_from  \\\n",
       "0  45396552    69453094                None      74606440.0       41.0   \n",
       "1  45397078    69454207                None      74607105.0      203.0   \n",
       "2  45397079    69454207                None      74607105.0       91.0   \n",
       "3  45397080    69454207                None      74607105.0       61.0   \n",
       "4  45397081    69454207                None      74607105.0      226.0   \n",
       "\n",
       "   line_to  in_line_order source              updated_date  \\\n",
       "0     41.0            NaN  Email 2024-07-26 09:10:02+00:00   \n",
       "1    203.0            NaN  Email 2024-07-26 09:20:30+00:00   \n",
       "2     91.0            NaN  Email 2024-07-26 09:20:30+00:00   \n",
       "3     61.0            1.0  Email 2024-07-26 09:20:30+00:00   \n",
       "4    226.0            NaN  Email 2024-07-26 09:20:30+00:00   \n",
       "\n",
       "              received_date  ...  redelivery_to_taxonomy_id  \\\n",
       "0 2024-07-26 09:08:58+00:00  ...                        NaN   \n",
       "1 2024-07-26 09:19:24+00:00  ...                        NaN   \n",
       "2 2024-07-26 09:19:24+00:00  ...                        NaN   \n",
       "3 2024-07-26 09:19:24+00:00  ...                        NaN   \n",
       "4 2024-07-26 09:19:24+00:00  ...                        NaN   \n",
       "\n",
       "   redelivery_to_taxonomy charter_type_id charter_type cargo_status_id  \\\n",
       "0                    None             0.0       Voyage             NaN   \n",
       "1                    None             0.0       Voyage             NaN   \n",
       "2                    None             0.0       Voyage             NaN   \n",
       "3                    None             0.0       Voyage             NaN   \n",
       "4                    None             0.0       Voyage             NaN   \n",
       "\n",
       "  cargo_status                                            content  \\\n",
       "0         None  repsol 130 12-aug nhc sankofa spain 90ws popi p -   \n",
       "1         None  equinor mongstad trans-atlantic 210ws green sky -   \n",
       "2         None              kpc kuwait pakistan $595k em zenith -   \n",
       "3         None  reliance sikka ukc-usac $4.30-4.75m hafnia yar...   \n",
       "4         None                      maersk usg opts own fpmc 36 -   \n",
       "\n",
       "                                             subject               sender  \\\n",
       "0  DA' OCEANIC SHIPPING - DAILY DPP MARKET REPORT...  Da'oceanic Shipping   \n",
       "1  DA' OCEANIC SHIPPING - WEEKLY CPP MARKET REPOR...  Da'oceanic Shipping   \n",
       "2  DA' OCEANIC SHIPPING - WEEKLY CPP MARKET REPOR...  Da'oceanic Shipping   \n",
       "3  DA' OCEANIC SHIPPING - WEEKLY CPP MARKET REPOR...  Da'oceanic Shipping   \n",
       "4  DA' OCEANIC SHIPPING - WEEKLY CPP MARKET REPOR...  Da'oceanic Shipping   \n",
       "\n",
       "  is_private  \n",
       "0       True  \n",
       "1       True  \n",
       "2       True  \n",
       "3       True  \n",
       "4       True  \n",
       "\n",
       "[5 rows x 82 columns]"
      ]
     },
     "execution_count": 11,
     "metadata": {},
     "output_type": "execute_result"
    }
   ],
   "source": [
    "scraped_cargoes_incremental = api.get_cargoes_incremental(\n",
    "    vessel_type=vessel_type,\n",
    "    page_token=page_token,\n",
    ")\n",
    "\n",
    "df_by_ids = pd.DataFrame(scraped_cargoes_incremental.data)\n",
    "df_by_ids.head()"
   ]
  },
  {
   "cell_type": "markdown",
   "id": "0b556a65-cff0-4380-b75f-ed024ae9b60e",
   "metadata": {
    "pycharm": {
     "name": "#%% md\n"
    }
   },
   "source": [
    "Also, the `get_cargoes_incremental` method will retrieve the `next_request_token`, which should be used as the `page_token` for the next incremental call and retrieve only new or updated cargoes."
   ]
  },
  {
   "cell_type": "code",
   "execution_count": 12,
   "id": "c472695e-4494-4126-9f9b-e8bae935d1b0",
   "metadata": {},
   "outputs": [
    {
     "data": {
      "text/plain": [
       "'MjAyNC0wOC0wMlQwODo0NzoyNC4xNDha'"
      ]
     },
     "execution_count": 12,
     "metadata": {},
     "output_type": "execute_result"
    }
   ],
   "source": [
    "next_request_token = scraped_cargoes_incremental.next_request_token\n",
    "\n",
    "next_request_token"
   ]
  },
  {
   "cell_type": "markdown",
   "id": "887ea0fa-3be2-4854-822e-421ecca59757",
   "metadata": {
    "pycharm": {
     "name": "#%% md\n"
    }
   },
   "source": [
    "#### Usage of optional arguments"
   ]
  },
  {
   "cell_type": "markdown",
   "id": "c43706a0",
   "metadata": {
    "pycharm": {
     "name": "#%% md\n"
    }
   },
   "source": [
    "By default, all fields are returned. In many cases, it is convenient to select specific columns. For example, if we want to compare scraped and mapped fields"
   ]
  },
  {
   "cell_type": "code",
   "execution_count": 13,
   "id": "edeea873",
   "metadata": {
    "pycharm": {
     "name": "#%%\n"
    }
   },
   "outputs": [
    {
     "data": {
      "text/html": [
       "<div>\n",
       "<style scoped>\n",
       "    .dataframe tbody tr th:only-of-type {\n",
       "        vertical-align: middle;\n",
       "    }\n",
       "\n",
       "    .dataframe tbody tr th {\n",
       "        vertical-align: top;\n",
       "    }\n",
       "\n",
       "    .dataframe thead th {\n",
       "        text-align: right;\n",
       "    }\n",
       "</style>\n",
       "<table border=\"1\" class=\"dataframe\">\n",
       "  <thead>\n",
       "    <tr style=\"text-align: right;\">\n",
       "      <th></th>\n",
       "      <th>scraped_charterer</th>\n",
       "      <th>charterer</th>\n",
       "      <th>scraped_quantity</th>\n",
       "      <th>quantity</th>\n",
       "      <th>scraped_load</th>\n",
       "      <th>load_name</th>\n",
       "    </tr>\n",
       "  </thead>\n",
       "  <tbody>\n",
       "    <tr>\n",
       "      <th>0</th>\n",
       "      <td>shell</td>\n",
       "      <td>Shell</td>\n",
       "      <td>75</td>\n",
       "      <td>75000.0</td>\n",
       "      <td>ag</td>\n",
       "      <td>Arabian Gulf</td>\n",
       "    </tr>\n",
       "    <tr>\n",
       "      <th>1</th>\n",
       "      <td>lr</td>\n",
       "      <td>None</td>\n",
       "      <td>60</td>\n",
       "      <td>60000.0</td>\n",
       "      <td>ats taiwan</td>\n",
       "      <td>Taiwan</td>\n",
       "    </tr>\n",
       "    <tr>\n",
       "      <th>2</th>\n",
       "      <td>None</td>\n",
       "      <td>None</td>\n",
       "      <td>35</td>\n",
       "      <td>35000.0</td>\n",
       "      <td>muara</td>\n",
       "      <td>Muara</td>\n",
       "    </tr>\n",
       "    <tr>\n",
       "      <th>3</th>\n",
       "      <td>None</td>\n",
       "      <td>None</td>\n",
       "      <td>35</td>\n",
       "      <td>35000.0</td>\n",
       "      <td>marubeni korea</td>\n",
       "      <td>Korea, Republic of</td>\n",
       "    </tr>\n",
       "    <tr>\n",
       "      <th>4</th>\n",
       "      <td>lr</td>\n",
       "      <td>None</td>\n",
       "      <td>60</td>\n",
       "      <td>60000.0</td>\n",
       "      <td>ats taiwan</td>\n",
       "      <td>Taiwan</td>\n",
       "    </tr>\n",
       "  </tbody>\n",
       "</table>\n",
       "</div>"
      ],
      "text/plain": [
       "  scraped_charterer charterer scraped_quantity  quantity    scraped_load  \\\n",
       "0             shell     Shell               75   75000.0              ag   \n",
       "1                lr      None               60   60000.0      ats taiwan   \n",
       "2              None      None               35   35000.0           muara   \n",
       "3              None      None               35   35000.0  marubeni korea   \n",
       "4                lr      None               60   60000.0      ats taiwan   \n",
       "\n",
       "            load_name  \n",
       "0        Arabian Gulf  \n",
       "1              Taiwan  \n",
       "2               Muara  \n",
       "3  Korea, Republic of  \n",
       "4              Taiwan  "
      ]
     },
     "execution_count": 13,
     "metadata": {},
     "output_type": "execute_result"
    }
   ],
   "source": [
    "scraped_mapped_columns = [\n",
    "    'scraped_charterer',\n",
    "    'charterer',\n",
    "    'scraped_quantity',\n",
    "    'quantity',\n",
    "    'scraped_load',\n",
    "    'load_name',\n",
    "]\n",
    "\n",
    "scraped_mapped_df = pd.DataFrame(scraped_cargoes, columns=scraped_mapped_columns)\n",
    "\n",
    "scraped_mapped_df.head()"
   ]
  },
  {
   "cell_type": "markdown",
   "id": "3fa44d5d",
   "metadata": {
    "pycharm": {
     "name": "#%% md\n"
    }
   },
   "source": [
    "## Examples"
   ]
  },
  {
   "cell_type": "markdown",
   "id": "86378f5f",
   "metadata": {
    "pycharm": {
     "name": "#%% md\n"
    }
   },
   "source": [
    "Let's start by fetching all tanker cargoes received the last 2 weeks"
   ]
  },
  {
   "cell_type": "code",
   "execution_count": 14,
   "id": "54269d8b",
   "metadata": {
    "pycharm": {
     "name": "#%%\n"
    },
    "scrolled": true
   },
   "outputs": [],
   "source": [
    "example_vessel_type = 1  # Tanker\n",
    "example_date_from = datetime.utcnow() - timedelta(days=14)\n",
    "\n",
    "example_scraped_cargoes = api.get_cargoes(\n",
    "   vessel_type=example_vessel_type,\n",
    "   received_date_from=example_date_from,\n",
    ")"
   ]
  },
  {
   "cell_type": "markdown",
   "id": "da6393c7",
   "metadata": {
    "pycharm": {
     "name": "#%% md\n"
    }
   },
   "source": [
    "#### Exclude deleted scraped cargoes"
   ]
  },
  {
   "cell_type": "markdown",
   "id": "06de6b3e",
   "metadata": {
    "pycharm": {
     "name": "#%% md\n"
    }
   },
   "source": [
    "The `is_deleted` property of a scraped cargo indicates whether it is valid or not. If it is set to `True`, the corresponding `cargo_id` has been replaced by a new one.\n",
    "\n",
    "For the sake of completeness, we will exclude deleted scraped cargoes in the following examples"
   ]
  },
  {
   "cell_type": "code",
   "execution_count": 15,
   "id": "b43829f5",
   "metadata": {
    "pycharm": {
     "name": "#%%\n"
    }
   },
   "outputs": [
    {
     "data": {
      "text/plain": [
       "ScrapedCargo(cargo_id=45136695, message_id=68888739, external_message_id=None, parsed_part_id=74227216, line_from=26, line_to=26, in_line_order=None, source='Email', updated_date=datetime.datetime(2024, 7, 19, 9, 14, 26, tzinfo=datetime.timezone.utc), received_date=datetime.datetime(2024, 7, 19, 9, 9, 22, tzinfo=datetime.timezone.utc), is_deleted=False, low_confidence=False, scraped_laycan='20-25/8', laycan_from=datetime.datetime(2024, 8, 20, 0, 0, tzinfo=datetime.timezone.utc), laycan_to=datetime.datetime(2024, 8, 25, 0, 0, tzinfo=datetime.timezone.utc), scraped_load='usg', load_geo_id=24676, load_name='US Gulf', load_taxonomy_id=4, load_taxonomy='Level0', scraped_load2=None, load_geo_id2=None, load_name2=None, load_taxonomy_id2=None, load_taxonomy2=None, scraped_discharge='ulsan', scraped_discharge_options=None, discharge_geo_id=3602, discharge_name='Ulsan', discharge_taxonomy_id=2, discharge_taxonomy='Port', scraped_discharge2=None, discharge_geo_id2=None, discharge_name2=None, discharge_taxonomy_id2=None, discharge_taxonomy2=None, scraped_charterer='sk', charterer_id=1528, charterer='SK', scraped_cargo_type=None, cargo_type_id=None, cargo_type=None, cargo_type_group_id=None, cargo_type_group=None, scraped_quantity='270', quantity=270000.0, quantity_buffer=0.0, quantity_from=270000.0, quantity_to=270000.0, size_from=None, size_to=None, scraped_delivery_date=None, delivery_date_from=None, delivery_date_to=None, scraped_delivery_from=None, delivery_from_geo_id=None, delivery_from_name=None, delivery_from_taxonomy_id=None, delivery_from_taxonomy=None, scraped_delivery_to=None, delivery_to_geo_id=None, delivery_to_name=None, delivery_to_taxonomy_id=None, delivery_to_taxonomy=None, scraped_redelivery_from=None, redelivery_from_geo_id=None, redelivery_from_name=None, redelivery_from_taxonomy_id=None, redelivery_from_taxonomy=None, scraped_redelivery_to=None, redelivery_to_geo_id=None, redelivery_to_name=None, redelivery_to_taxonomy_id=None, redelivery_to_taxonomy=None, charter_type_id=0, charter_type='Voyage', cargo_status_id=None, cargo_status=None, content='sk 270 usg/ulsan 20-25/8 -rptd', subject='VLCC update', sender='Fearnleys', is_private=True)"
      ]
     },
     "execution_count": 15,
     "metadata": {},
     "output_type": "execute_result"
    }
   ],
   "source": [
    "example_scraped_cargoes = [cargo for cargo in example_scraped_cargoes if not cargo.is_deleted]\n",
    "\n",
    "next(iter(example_scraped_cargoes), None)"
   ]
  },
  {
   "cell_type": "markdown",
   "id": "882d67c4",
   "metadata": {
    "pycharm": {
     "name": "#%% md\n"
    }
   },
   "source": [
    "Now, we are ready to insert our data into a dataframe and keep only specific fields"
   ]
  },
  {
   "cell_type": "code",
   "execution_count": 16,
   "id": "a1719a9f",
   "metadata": {
    "pycharm": {
     "name": "#%%\n"
    }
   },
   "outputs": [
    {
     "data": {
      "text/html": [
       "<div>\n",
       "<style scoped>\n",
       "    .dataframe tbody tr th:only-of-type {\n",
       "        vertical-align: middle;\n",
       "    }\n",
       "\n",
       "    .dataframe tbody tr th {\n",
       "        vertical-align: top;\n",
       "    }\n",
       "\n",
       "    .dataframe thead th {\n",
       "        text-align: right;\n",
       "    }\n",
       "</style>\n",
       "<table border=\"1\" class=\"dataframe\">\n",
       "  <thead>\n",
       "    <tr style=\"text-align: right;\">\n",
       "      <th></th>\n",
       "      <th>charterer</th>\n",
       "      <th>laycan_from</th>\n",
       "      <th>load_name</th>\n",
       "      <th>quantity</th>\n",
       "      <th>is_deleted</th>\n",
       "    </tr>\n",
       "  </thead>\n",
       "  <tbody>\n",
       "    <tr>\n",
       "      <th>0</th>\n",
       "      <td>SK</td>\n",
       "      <td>2024-08-20 00:00:00+00:00</td>\n",
       "      <td>US Gulf</td>\n",
       "      <td>270000.0</td>\n",
       "      <td>False</td>\n",
       "    </tr>\n",
       "    <tr>\n",
       "      <th>1</th>\n",
       "      <td>Equinor</td>\n",
       "      <td>2024-08-20 00:00:00+00:00</td>\n",
       "      <td>US Gulf</td>\n",
       "      <td>270000.0</td>\n",
       "      <td>False</td>\n",
       "    </tr>\n",
       "    <tr>\n",
       "      <th>2</th>\n",
       "      <td>Equinor</td>\n",
       "      <td>2024-08-20 00:00:00+00:00</td>\n",
       "      <td>US Gulf</td>\n",
       "      <td>270000.0</td>\n",
       "      <td>False</td>\n",
       "    </tr>\n",
       "    <tr>\n",
       "      <th>3</th>\n",
       "      <td>Petco Chartering</td>\n",
       "      <td>2024-08-01 00:00:00+00:00</td>\n",
       "      <td>Arabian Gulf</td>\n",
       "      <td>270000.0</td>\n",
       "      <td>False</td>\n",
       "    </tr>\n",
       "    <tr>\n",
       "      <th>4</th>\n",
       "      <td>BP</td>\n",
       "      <td>2024-08-04 00:00:00+00:00</td>\n",
       "      <td>Jebel Dhanna</td>\n",
       "      <td>270000.0</td>\n",
       "      <td>False</td>\n",
       "    </tr>\n",
       "  </tbody>\n",
       "</table>\n",
       "</div>"
      ],
      "text/plain": [
       "          charterer               laycan_from     load_name  quantity  \\\n",
       "0                SK 2024-08-20 00:00:00+00:00       US Gulf  270000.0   \n",
       "1           Equinor 2024-08-20 00:00:00+00:00       US Gulf  270000.0   \n",
       "2           Equinor 2024-08-20 00:00:00+00:00       US Gulf  270000.0   \n",
       "3  Petco Chartering 2024-08-01 00:00:00+00:00  Arabian Gulf  270000.0   \n",
       "4                BP 2024-08-04 00:00:00+00:00  Jebel Dhanna  270000.0   \n",
       "\n",
       "   is_deleted  \n",
       "0       False  \n",
       "1       False  \n",
       "2       False  \n",
       "3       False  \n",
       "4       False  "
      ]
     },
     "execution_count": 16,
     "metadata": {},
     "output_type": "execute_result"
    }
   ],
   "source": [
    "example_columns = [\n",
    "    'charterer',   \n",
    "    'laycan_from',\n",
    "    'load_name',\n",
    "    'quantity',\n",
    "    'is_deleted',\n",
    "]\n",
    "\n",
    "data = pd.DataFrame(example_scraped_cargoes, columns=example_columns)\n",
    "\n",
    "data.head()"
   ]
  },
  {
   "cell_type": "markdown",
   "id": "79adee65",
   "metadata": {
    "pycharm": {
     "name": "#%% md\n"
    }
   },
   "source": [
    "#### Top 10 Charterers"
   ]
  },
  {
   "cell_type": "markdown",
   "id": "92f736dd",
   "metadata": {
    "pycharm": {
     "name": "#%% md\n"
    }
   },
   "source": [
    "In this example, we will find the top 10 Charterers, based on the number of distinct available cargoes"
   ]
  },
  {
   "cell_type": "code",
   "execution_count": 17,
   "id": "fc9e6a1f",
   "metadata": {
    "pycharm": {
     "name": "#%%\n"
    }
   },
   "outputs": [
    {
     "data": {
      "text/html": [
       "<div>\n",
       "<style scoped>\n",
       "    .dataframe tbody tr th:only-of-type {\n",
       "        vertical-align: middle;\n",
       "    }\n",
       "\n",
       "    .dataframe tbody tr th {\n",
       "        vertical-align: top;\n",
       "    }\n",
       "\n",
       "    .dataframe thead th {\n",
       "        text-align: right;\n",
       "    }\n",
       "</style>\n",
       "<table border=\"1\" class=\"dataframe\">\n",
       "  <thead>\n",
       "    <tr style=\"text-align: right;\">\n",
       "      <th></th>\n",
       "      <th>charterer</th>\n",
       "      <th>CargoCount</th>\n",
       "    </tr>\n",
       "  </thead>\n",
       "  <tbody>\n",
       "    <tr>\n",
       "      <th>0</th>\n",
       "      <td>Aramco Trading Company</td>\n",
       "      <td>30</td>\n",
       "    </tr>\n",
       "    <tr>\n",
       "      <th>1</th>\n",
       "      <td>Vitol</td>\n",
       "      <td>27</td>\n",
       "    </tr>\n",
       "    <tr>\n",
       "      <th>2</th>\n",
       "      <td>Shell</td>\n",
       "      <td>22</td>\n",
       "    </tr>\n",
       "    <tr>\n",
       "      <th>3</th>\n",
       "      <td>Unipec</td>\n",
       "      <td>21</td>\n",
       "    </tr>\n",
       "    <tr>\n",
       "      <th>4</th>\n",
       "      <td>BP</td>\n",
       "      <td>20</td>\n",
       "    </tr>\n",
       "    <tr>\n",
       "      <th>5</th>\n",
       "      <td>Trafigura</td>\n",
       "      <td>16</td>\n",
       "    </tr>\n",
       "    <tr>\n",
       "      <th>6</th>\n",
       "      <td>CSSA</td>\n",
       "      <td>16</td>\n",
       "    </tr>\n",
       "    <tr>\n",
       "      <th>7</th>\n",
       "      <td>ExxonMobil</td>\n",
       "      <td>15</td>\n",
       "    </tr>\n",
       "    <tr>\n",
       "      <th>8</th>\n",
       "      <td>ADMIC</td>\n",
       "      <td>15</td>\n",
       "    </tr>\n",
       "    <tr>\n",
       "      <th>9</th>\n",
       "      <td>Indian Oil</td>\n",
       "      <td>14</td>\n",
       "    </tr>\n",
       "  </tbody>\n",
       "</table>\n",
       "</div>"
      ],
      "text/plain": [
       "                charterer  CargoCount\n",
       "0  Aramco Trading Company          30\n",
       "1                   Vitol          27\n",
       "2                   Shell          22\n",
       "3                  Unipec          21\n",
       "4                      BP          20\n",
       "5               Trafigura          16\n",
       "6                    CSSA          16\n",
       "7              ExxonMobil          15\n",
       "8                   ADMIC          15\n",
       "9              Indian Oil          14"
      ]
     },
     "execution_count": 17,
     "metadata": {},
     "output_type": "execute_result"
    }
   ],
   "source": [
    "top_chrtr_ser = data[['charterer', 'laycan_from']].drop_duplicates().charterer.value_counts().head(10)\n",
    "\n",
    "top_chrtr_df = top_chrtr_ser.to_frame(name='CargoCount').reset_index().rename(columns={'index': 'Charterer'})\n",
    "\n",
    "top_chrtr_df"
   ]
  },
  {
   "cell_type": "markdown",
   "id": "38000d58",
   "metadata": {
    "pycharm": {
     "name": "#%% md\n"
    }
   },
   "source": [
    "And display results in a bar plot"
   ]
  },
  {
   "cell_type": "code",
   "execution_count": 18,
   "id": "5c176262",
   "metadata": {
    "pycharm": {
     "name": "#%%\n"
    }
   },
   "outputs": [
    {
     "data": {
      "image/png": "[encoded data removed]"
     },
     "metadata": {},
     "output_type": "display_data"
    }
   ],
   "source": [
    "top_chrtr_fig = go.Figure()\n",
    "\n",
    "bar = go.Bar(\n",
    "    x=top_chrtr_df.charterer.tolist(),\n",
    "    y=top_chrtr_df.CargoCount.tolist(),\n",
    ")\n",
    "\n",
    "top_chrtr_fig.add_trace(bar)\n",
    "top_chrtr_fig.update_xaxes(title_text=\"Charterer\")\n",
    "top_chrtr_fig.update_yaxes(title_text=\"Number of available Cargoes\")\n",
    "top_chrtr_fig.show()"
   ]
  },
  {
   "cell_type": "markdown",
   "id": "a78da91b",
   "metadata": {
    "pycharm": {
     "name": "#%% md\n"
    },
    "scrolled": false
   },
   "source": [
    "#### Total quantity to load in specific areas per day the next week"
   ]
  },
  {
   "cell_type": "code",
   "execution_count": 19,
   "id": "afaf5722",
   "metadata": {
    "pycharm": {
     "name": "#%%\n"
    }
   },
   "outputs": [
    {
     "data": {
      "text/plain": [
       "['US Gulf', 'Arabian Gulf', 'Singapore', 'Mumbai', 'Sikka']"
      ]
     },
     "execution_count": 19,
     "metadata": {},
     "output_type": "execute_result"
    }
   ],
   "source": [
    "this_week_days = pd.date_range(start=datetime.utcnow().date(), freq='D', periods=7, tz='UTC')\n",
    "areas = data[data.load_name.notna()].load_name.value_counts().head().index.tolist()\n",
    "\n",
    "areas"
   ]
  },
  {
   "cell_type": "markdown",
   "id": "2b2a4640",
   "metadata": {
    "pycharm": {
     "name": "#%% md\n"
    }
   },
   "source": [
    "Create the pivot table"
   ]
  },
  {
   "cell_type": "code",
   "execution_count": 20,
   "id": "640be898",
   "metadata": {
    "pycharm": {
     "name": "#%%\n"
    }
   },
   "outputs": [
    {
     "data": {
      "text/html": [
       "<div>\n",
       "<style scoped>\n",
       "    .dataframe tbody tr th:only-of-type {\n",
       "        vertical-align: middle;\n",
       "    }\n",
       "\n",
       "    .dataframe tbody tr th {\n",
       "        vertical-align: top;\n",
       "    }\n",
       "\n",
       "    .dataframe thead th {\n",
       "        text-align: right;\n",
       "    }\n",
       "</style>\n",
       "<table border=\"1\" class=\"dataframe\">\n",
       "  <thead>\n",
       "    <tr style=\"text-align: right;\">\n",
       "      <th>load_name</th>\n",
       "      <th>laycan_from</th>\n",
       "      <th>Arabian Gulf</th>\n",
       "      <th>Mumbai</th>\n",
       "      <th>Sikka</th>\n",
       "      <th>Singapore</th>\n",
       "      <th>US Gulf</th>\n",
       "    </tr>\n",
       "  </thead>\n",
       "  <tbody>\n",
       "    <tr>\n",
       "      <th>0</th>\n",
       "      <td>2024-08-02 00:00:00+00:00</td>\n",
       "      <td>2480000</td>\n",
       "      <td>0</td>\n",
       "      <td>0</td>\n",
       "      <td>240000</td>\n",
       "      <td>2014000</td>\n",
       "    </tr>\n",
       "    <tr>\n",
       "      <th>1</th>\n",
       "      <td>2024-08-03 00:00:00+00:00</td>\n",
       "      <td>1350000</td>\n",
       "      <td>0</td>\n",
       "      <td>960000</td>\n",
       "      <td>140000</td>\n",
       "      <td>3184000</td>\n",
       "    </tr>\n",
       "    <tr>\n",
       "      <th>2</th>\n",
       "      <td>2024-08-04 00:00:00+00:00</td>\n",
       "      <td>1585000</td>\n",
       "      <td>0</td>\n",
       "      <td>120000</td>\n",
       "      <td>3440000</td>\n",
       "      <td>76000</td>\n",
       "    </tr>\n",
       "    <tr>\n",
       "      <th>3</th>\n",
       "      <td>2024-08-05 00:00:00+00:00</td>\n",
       "      <td>1605000</td>\n",
       "      <td>1140000</td>\n",
       "      <td>0</td>\n",
       "      <td>1040000</td>\n",
       "      <td>1662000</td>\n",
       "    </tr>\n",
       "    <tr>\n",
       "      <th>4</th>\n",
       "      <td>2024-08-06 00:00:00+00:00</td>\n",
       "      <td>2865000</td>\n",
       "      <td>650000</td>\n",
       "      <td>70000</td>\n",
       "      <td>360000</td>\n",
       "      <td>1232000</td>\n",
       "    </tr>\n",
       "    <tr>\n",
       "      <th>5</th>\n",
       "      <td>2024-08-07 00:00:00+00:00</td>\n",
       "      <td>1165000</td>\n",
       "      <td>0</td>\n",
       "      <td>0</td>\n",
       "      <td>480000</td>\n",
       "      <td>4536000</td>\n",
       "    </tr>\n",
       "    <tr>\n",
       "      <th>6</th>\n",
       "      <td>2024-08-08 00:00:00+00:00</td>\n",
       "      <td>4310000</td>\n",
       "      <td>30000</td>\n",
       "      <td>210000</td>\n",
       "      <td>885960</td>\n",
       "      <td>178000</td>\n",
       "    </tr>\n",
       "  </tbody>\n",
       "</table>\n",
       "</div>"
      ],
      "text/plain": [
       "load_name               laycan_from  Arabian Gulf   Mumbai   Sikka  Singapore  \\\n",
       "0         2024-08-02 00:00:00+00:00       2480000        0       0     240000   \n",
       "1         2024-08-03 00:00:00+00:00       1350000        0  960000     140000   \n",
       "2         2024-08-04 00:00:00+00:00       1585000        0  120000    3440000   \n",
       "3         2024-08-05 00:00:00+00:00       1605000  1140000       0    1040000   \n",
       "4         2024-08-06 00:00:00+00:00       2865000   650000   70000     360000   \n",
       "5         2024-08-07 00:00:00+00:00       1165000        0       0     480000   \n",
       "6         2024-08-08 00:00:00+00:00       4310000    30000  210000     885960   \n",
       "\n",
       "load_name  US Gulf  \n",
       "0          2014000  \n",
       "1          3184000  \n",
       "2            76000  \n",
       "3          1662000  \n",
       "4          1232000  \n",
       "5          4536000  \n",
       "6           178000  "
      ]
     },
     "execution_count": 20,
     "metadata": {},
     "output_type": "execute_result"
    }
   ],
   "source": [
    "areas_mask = data.load_name.isin(areas) & data.laycan_from.isin(this_week_days)\n",
    "\n",
    "df_areas = data[areas_mask]\n",
    "\n",
    "df_pivot = pd.pivot_table(\n",
    "    df_areas,\n",
    "    columns='load_name',\n",
    "    index='laycan_from',\n",
    "    values='quantity',\n",
    "    aggfunc=pd.Series.sum,\n",
    "    fill_value=0,\n",
    ").reindex(index=this_week_days, fill_value=0).reset_index().rename(columns={'index': 'laycan_from'})\n",
    "\n",
    "df_pivot"
   ]
  },
  {
   "cell_type": "markdown",
   "id": "bd6d325c",
   "metadata": {
    "pycharm": {
     "name": "#%% md\n"
    }
   },
   "source": [
    "And display the results as timeseries"
   ]
  },
  {
   "cell_type": "code",
   "execution_count": 21,
   "id": "a6e120ca",
   "metadata": {
    "pycharm": {
     "name": "#%%\n"
    }
   },
   "outputs": [
    {
     "data": {
      "image/png": "[encoded data removed]"
     },
     "metadata": {},
     "output_type": "display_data"
    }
   ],
   "source": [
    "def area_button(area):\n",
    "    args = [\n",
    "        {'visible': [i == areas.index(area) for i in range(len(areas))]},\n",
    "        {\n",
    "            'title': f'Total Quantity to load in {area} per day',\n",
    "            'showlegend': True\n",
    "        },\n",
    "    ]\n",
    "    \n",
    "    return dict(\n",
    "        label=area,\n",
    "        method='update',\n",
    "        args=args,\n",
    "    )\n",
    "\n",
    "title = 'Total Quantity to load per day'\n",
    "today = datetime.combine(datetime.utcnow().date(), datetime.min.time())\n",
    "\n",
    "areas_fig = go.Figure()\n",
    "\n",
    "area_buttons = []\n",
    "\n",
    "for area in areas:\n",
    "    if area not in df_pivot.columns:\n",
    "        continue\n",
    "    area_scatter_plot = go.Scatter(    \n",
    "        x=df_pivot.laycan_from,\n",
    "        y=df_pivot[area],\n",
    "        name=area,\n",
    "        mode='lines',\n",
    "    )\n",
    "\n",
    "    areas_fig.add_trace(area_scatter_plot)\n",
    "    \n",
    "    area_buttons.append(area_button(area))\n",
    "    \n",
    "buttons = list([\n",
    "    dict(\n",
    "        label='All',\n",
    "        method='update',\n",
    "        args=[    \n",
    "            {'visible': [True for _ in range(len(areas))]},\n",
    "            {\n",
    "                'title': title,\n",
    "                'showlegend': True\n",
    "            }\n",
    "        ],\n",
    "    ),\n",
    "    *area_buttons,\n",
    "])\n",
    "\n",
    "areas_fig.update_layout(\n",
    "    title=title,\n",
    "    updatemenus=[go.layout.Updatemenu(\n",
    "        active=0,\n",
    "        buttons=buttons,\n",
    "    )],\n",
    "    xaxis_range=[today - timedelta(hours=4), today + timedelta(hours=24*6 + 4)],\n",
    ")\n",
    "\n",
    "areas_fig.show()"
   ]
  },
  {
   "cell_type": "markdown",
   "id": "b4834756",
   "metadata": {
    "pycharm": {
     "name": "#%% md\n"
    }
   },
   "source": [
    "#### Export data to csv"
   ]
  },
  {
   "cell_type": "code",
   "execution_count": 22,
   "id": "3f55d6e8",
   "metadata": {
    "collapsed": false,
    "jupyter": {
     "outputs_hidden": false
    },
    "pycharm": {
     "name": "#%%\n"
    }
   },
   "outputs": [],
   "source": [
    "output_path = '' # Change output_path with your path\n",
    "filename = 'last_two_weeks_cargoes.csv'\n",
    "if not data.empty:\n",
    "    data.to_csv(output_path+filename, index=False)"
   ]
  },
  {
   "cell_type": "code",
   "execution_count": null,
   "id": "cc5db389",
   "metadata": {
    "collapsed": false,
    "jupyter": {
     "outputs_hidden": false
    },
    "pycharm": {
     "name": "#%%\n"
    }
   },
   "outputs": [],
   "source": []
  }
 ],
 "metadata": {
  "kernelspec": {
   "display_name": "Python 3 (ipykernel)",
   "language": "python",
   "name": "python3"
  },
  "language_info": {
   "codemirror_mode": {
    "name": "ipython",
    "version": 3
   },
   "file_extension": ".py",
   "mimetype": "text/x-python",
   "name": "python",
   "nbconvert_exporter": "python",
   "pygments_lexer": "ipython3",
   "version": "3.8.10"
  }
 },
 "nbformat": 4,
 "nbformat_minor": 5
}
