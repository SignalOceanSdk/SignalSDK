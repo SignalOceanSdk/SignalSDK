{
 "cells": [
  {
   "cell_type": "markdown",
   "id": "7b752389",
   "metadata": {
    "pycharm": {
     "name": "#%% md\n"
    }
   },
   "source": [
    "# Scraped Cargoes API Example\n",
    "\n",
    "## Run this example in [Colab](https://colab.research.google.com/github/SignalOceanSdk/SignalSDK/blob/master/docs/examples/jupyter/ScrapedCargoesAPI/Scraped%20Cargoes%20API%20Example.ipynb)"
   ]
  },
  {
   "cell_type": "markdown",
   "id": "8f837272",
   "metadata": {
    "pycharm": {
     "name": "#%% md\n"
    }
   },
   "source": [
    "Get your personal Signal Ocean API subscription key (acquired [here](https://apis.signalocean.com/profile)) and replace it below:"
   ]
  },
  {
   "cell_type": "code",
   "execution_count": 30,
   "id": "2497822b",
   "metadata": {
    "pycharm": {
     "name": "#%%\n"
    }
   },
   "outputs": [],
   "source": [
    "signal_ocean_api_key = '' # Replace with your subscription key"
   ]
  },
  {
   "cell_type": "markdown",
   "id": "dd44a9fd",
   "metadata": {
    "pycharm": {
     "name": "#%% md\n"
    }
   },
   "source": [
    "# Scraped Cargoes API\n",
    "\n",
    "The goal of Scraped Cargoes API is to collect and return scraped cargoes by the given filters or cargo IDs. This can be done by using the `ScrapedCargoesAPI` class and calling appropriate methods\n",
    "\n",
    "#### 1. Request by filters\n",
    "\n",
    "Cargoes can be retrieved for specific filters, by calling the `get_cargoes` method with the following arguments:\n",
    "\n",
    "#### Required\n",
    "\n",
    "`vessel_type` The vessel type\n",
    "\n",
    "_Additionally, at least one of the following is required_\n",
    "\n",
    "`message_ids` List of MessageIDs\n",
    "\n",
    "`external_message_ids` List of ExternalMessageIDs\n",
    "\n",
    "`received_date_from` Earliest date the cargo received\n",
    "\n",
    "`received_date_to` Latest date the cargo received\n",
    "\n",
    "`updated_date_from` Earliest date the cargo updated\n",
    "\n",
    "`updated_date_to` Latest date the cargo updated\n",
    "\n",
    "> Mixing received and updated dates is not allowed\n",
    "\n",
    "> It's highly recommended to use UTC  dates, since this is the internally used format\n",
    "\n",
    "\n",
    "#### 2. Request by cargo IDs\n",
    "\n",
    "Cargoes can be retrieved for specific cargo IDs, by calling the `get_cargoes_by_cargo_ids` method with the following argument:\n",
    "\n",
    "#### Required\n",
    "\n",
    "`cargo_ids` A list of cargo ids to retrieve"
   ]
  },
  {
   "cell_type": "markdown",
   "id": "3c3d1cb3",
   "metadata": {
    "pycharm": {
     "name": "#%% md\n"
    }
   },
   "source": [
    "### Additional optional arguments\n",
    "\n",
    "Both methods, also accept the following optional arguments:\n",
    "\n",
    "`include_details` If this field is `True` the following columns will be included in the response (otherwise they will be `None`):\n",
    "```\n",
    "parsed_part_id, line_from, line_to, in_line_order, source\n",
    "```\n",
    "\n",
    "`include_scraped_fields` If this field is `True` the following columns will be included in the response (otherwise they will be `None`):\n",
    "```\n",
    "scraped_laycan, scraped_load, scraped_load2, scraped_discharge, scraped_discharge_options, scraped_discharge2, scraped_charterer, scraped_cargo_type, scraped_quantity, scraped_delivery_date, scraped_delivery_from, scraped_delivery_to, \n",
    "scraped_redelivery_from, scraped_redelivery_to\n",
    "```\n",
    "\n",
    "`include_labels` If this field is `True` the following columns will be included in the response (otherwise they will be `None`):\n",
    "```\n",
    "load_name, load_taxonomy, load_name2, load_taxonomy2, discharge_name, discharge_taxonomy, discharge_name2, discharge_taxonomy2, charterer, cargo_type, cargo_type_group, delivery_from_name, delivery_from_taxonomy, delivery_to_name, delivery_to_taxonomy, redelivery_from_name, redelivery_from_taxonomy, redelivery_to_name, redelivery_to_taxonomy, charter_type, cargo_status\n",
    "```\n",
    "\n",
    "`include_content` If this field is `True` the following columns will be included in the response (otherwise they will be `None`):\n",
    "```\n",
    "content\n",
    "```\n",
    "\n",
    "`include_sender` If this field is `True` the following columns will be included in the response (otherwise they will be `None`): \n",
    "```\n",
    "sender\n",
    "```\n",
    "\n",
    "`include_debug_info` If this field is `True` the following columns will be included in the response (otherwise they will be `None`):\n",
    "```\n",
    "is_private\n",
    "```\n",
    "\n",
    "> Default value is `True` for the arguments described above "
   ]
  },
  {
   "cell_type": "markdown",
   "id": "4e694c91",
   "metadata": {
    "pycharm": {
     "name": "#%% md\n"
    }
   },
   "source": [
    "## Installation"
   ]
  },
  {
   "cell_type": "markdown",
   "id": "0f62eae9",
   "metadata": {
    "pycharm": {
     "name": "#%% md\n"
    }
   },
   "source": [
    "To install _Signal Ocean SDK_, simply run the following command"
   ]
  },
  {
   "cell_type": "code",
   "execution_count": 2,
   "id": "0c0bc271",
   "metadata": {
    "pycharm": {
     "name": "#%%\n"
    }
   },
   "outputs": [],
   "source": [
    "%%capture\n",
    "%pip install signal-ocean"
   ]
  },
  {
   "cell_type": "markdown",
   "id": "8bd5ede1",
   "metadata": {
    "pycharm": {
     "name": "#%% md\n"
    }
   },
   "source": [
    "## Quickstart"
   ]
  },
  {
   "cell_type": "markdown",
   "id": "b69aa608",
   "metadata": {
    "pycharm": {
     "name": "#%% md\n"
    }
   },
   "source": [
    "Import `signal-ocean` and other modules required for this demo"
   ]
  },
  {
   "cell_type": "code",
   "execution_count": 31,
   "id": "ff6a062a",
   "metadata": {
    "pycharm": {
     "name": "#%%\n"
    }
   },
   "outputs": [],
   "source": [
    "from signal_ocean import Connection\n",
    "from signal_ocean.scraped_cargoes import ScrapedCargoesAPI, ScrapedCargo\n",
    "\n",
    "from datetime import datetime, timedelta\n",
    "import pandas as pd\n",
    "import plotly.graph_objects as go"
   ]
  },
  {
   "cell_type": "markdown",
   "id": "856e9b14",
   "metadata": {
    "pycharm": {
     "name": "#%% md\n"
    }
   },
   "source": [
    "Create a new instance of the `ScrapedCargoesAPI` class"
   ]
  },
  {
   "cell_type": "code",
   "execution_count": 32,
   "id": "c309af83",
   "metadata": {
    "pycharm": {
     "name": "#%%\n"
    }
   },
   "outputs": [],
   "source": [
    "connection = Connection(signal_ocean_api_key)\n",
    "api = ScrapedCargoesAPI(connection)"
   ]
  },
  {
   "cell_type": "markdown",
   "id": "af6e7fa7",
   "metadata": {
    "pycharm": {
     "name": "#%% md\n"
    }
   },
   "source": [
    "Now you are ready to retrieve your data"
   ]
  },
  {
   "cell_type": "markdown",
   "id": "7f8dce5e",
   "metadata": {
    "pycharm": {
     "name": "#%% md\n"
    }
   },
   "source": [
    "#### Request by date"
   ]
  },
  {
   "cell_type": "markdown",
   "id": "3413ec09",
   "metadata": {
    "pycharm": {
     "name": "#%% md\n"
    }
   },
   "source": [
    "To get all tanker cargoes received the last 4 days, you must declare appropriate `vessel_type` and `received_date_from` variables"
   ]
  },
  {
   "cell_type": "code",
   "execution_count": 33,
   "id": "7c189880",
   "metadata": {
    "pycharm": {
     "name": "#%%\n"
    }
   },
   "outputs": [],
   "source": [
    "vessel_type = 1  # Tanker\n",
    "received_date_from = datetime.utcnow() - timedelta(days=4)"
   ]
  },
  {
   "cell_type": "markdown",
   "id": "25751fdc",
   "metadata": {
    "pycharm": {
     "name": "#%% md\n"
    }
   },
   "source": [
    "And then call `get_cargoes` method, as below"
   ]
  },
  {
   "cell_type": "code",
   "execution_count": 34,
   "id": "8c6089c8",
   "metadata": {
    "pycharm": {
     "name": "#%%\n"
    }
   },
   "outputs": [
    {
     "data": {
      "text/plain": "ScrapedCargo(cargo_id=33891609, message_id=47953999, external_message_id=None, parsed_part_id=58810511, line_from=14, line_to=14, in_line_order=1, source='Email', updated_date=datetime.datetime(2023, 9, 22, 12, 25, 49, tzinfo=datetime.timezone.utc), received_date=datetime.datetime(2023, 9, 22, 12, 23, 30, tzinfo=datetime.timezone.utc), is_deleted=False, scraped_laycan='29-30', laycan_from=datetime.datetime(2023, 9, 29, 0, 0, tzinfo=datetime.timezone.utc), laycan_to=datetime.datetime(2023, 9, 30, 0, 0, tzinfo=datetime.timezone.utc), scraped_load='pembroke', load_geo_id=3433, load_name='Pembroke Dock', load_taxonomy_id=2, load_taxonomy='Port', scraped_load2=None, load_geo_id2=None, load_name2=None, load_taxonomy_id2=None, load_taxonomy2=None, scraped_discharge='ecc', scraped_discharge_options=None, discharge_geo_id=24740, discharge_name='Canada Atlantic Coast', discharge_taxonomy_id=4, discharge_taxonomy='Level0', scraped_discharge2=None, discharge_geo_id2=None, discharge_name2=None, discharge_taxonomy_id2=None, discharge_taxonomy2=None, scraped_charterer='valero', charterer_id=1796, charterer='Valero', scraped_cargo_type='ums', cargo_type_id=135, cargo_type='Unleaded Motor Spirit', cargo_type_group_id=120000, cargo_type_group='Clean', scraped_quantity='37kt', quantity=37000.0, quantity_buffer=0.0, quantity_from=37000.0, quantity_to=37000.0, size_from=None, size_to=None, scraped_delivery_date=None, delivery_date_from=None, delivery_date_to=None, scraped_delivery_from=None, delivery_from_geo_id=None, delivery_from_name=None, delivery_from_taxonomy_id=None, delivery_from_taxonomy=None, scraped_delivery_to=None, delivery_to_geo_id=None, delivery_to_name=None, delivery_to_taxonomy_id=None, delivery_to_taxonomy=None, scraped_redelivery_from=None, redelivery_from_geo_id=None, redelivery_from_name=None, redelivery_from_taxonomy_id=None, redelivery_from_taxonomy=None, scraped_redelivery_to=None, redelivery_to_geo_id=None, redelivery_to_name=None, redelivery_to_taxonomy_id=None, redelivery_to_taxonomy=None, charter_type_id=0, charter_type='Voyage', cargo_status_id=None, cargo_status=None, content='valero 37kt ums pembroke ta-ecc-uswc off 29-30', subject='SSY CPP MR LIST+ UPDATE  - FRIDAY 22TH SEPTEMBER', sender='SSY', is_private=False)"
     },
     "execution_count": 34,
     "metadata": {},
     "output_type": "execute_result"
    }
   ],
   "source": [
    "scraped_cargoes = api.get_cargoes(\n",
    "    vessel_type=vessel_type,\n",
    "    received_date_from=received_date_from,\n",
    ")\n",
    "\n",
    "next(iter(scraped_cargoes), None)"
   ]
  },
  {
   "cell_type": "markdown",
   "id": "d568c2af",
   "metadata": {
    "pycharm": {
     "name": "#%% md\n"
    }
   },
   "source": [
    "For better visualization, it's convenient to insert data into a DataFrame"
   ]
  },
  {
   "cell_type": "code",
   "execution_count": 35,
   "id": "0d6df5c7",
   "metadata": {
    "pycharm": {
     "name": "#%%\n"
    }
   },
   "outputs": [
    {
     "data": {
      "text/plain": "   cargo_id  message_id external_message_id  parsed_part_id  line_from  \\\n0  33891609    47953999                None        58810511         14   \n1  33891610    47953999                None        58810511         15   \n2  33891611    47953999                None        58810511         14   \n3  33891612    47953999                None        58810511         15   \n4  33891613    47953999                None        58810511         14   \n\n   line_to  in_line_order source              updated_date  \\\n0       14            1.0  Email 2023-09-22 12:25:49+00:00   \n1       15            1.0  Email 2023-09-22 12:25:49+00:00   \n2       14            2.0  Email 2023-09-22 12:25:49+00:00   \n3       15            NaN  Email 2023-09-22 12:25:49+00:00   \n4       14            NaN  Email 2023-09-22 12:25:49+00:00   \n\n              received_date  ...  redelivery_to_taxonomy_id  \\\n0 2023-09-22 12:23:30+00:00  ...                       None   \n1 2023-09-22 12:23:30+00:00  ...                       None   \n2 2023-09-22 12:23:30+00:00  ...                       None   \n3 2023-09-22 12:23:30+00:00  ...                       None   \n4 2023-09-22 12:23:30+00:00  ...                       None   \n\n  redelivery_to_taxonomy charter_type_id charter_type cargo_status_id  \\\n0                   None               0       Voyage             NaN   \n1                   None               0       Voyage             NaN   \n2                   None               0       Voyage             NaN   \n3                   None               0       Voyage             NaN   \n4                   None               0       Voyage             NaN   \n\n   cargo_status                                            content  \\\n0          None     valero 37kt ums pembroke ta-ecc-uswc off 29-30   \n1          None  shell 37kt ums brofjorden ukc-ta off 28-30 - b...   \n2          None     valero 37kt ums pembroke ta-ecc-uswc off 29-30   \n3          None  shell 37kt ums brofjorden ukc-ta off 28-30 - b...   \n4          None     valero 37kt ums pembroke ta-ecc-uswc off 29-30   \n\n                                            subject sender is_private  \n0  SSY CPP MR LIST+ UPDATE  - FRIDAY 22TH SEPTEMBER    SSY      False  \n1  SSY CPP MR LIST+ UPDATE  - FRIDAY 22TH SEPTEMBER    SSY      False  \n2  SSY CPP MR LIST+ UPDATE  - FRIDAY 22TH SEPTEMBER    SSY      False  \n3  SSY CPP MR LIST+ UPDATE  - FRIDAY 22TH SEPTEMBER    SSY      False  \n4  SSY CPP MR LIST+ UPDATE  - FRIDAY 22TH SEPTEMBER    SSY      False  \n\n[5 rows x 81 columns]",
      "text/html": "<div>\n<style scoped>\n    .dataframe tbody tr th:only-of-type {\n        vertical-align: middle;\n    }\n\n    .dataframe tbody tr th {\n        vertical-align: top;\n    }\n\n    .dataframe thead th {\n        text-align: right;\n    }\n</style>\n<table border=\"1\" class=\"dataframe\">\n  <thead>\n    <tr style=\"text-align: right;\">\n      <th></th>\n      <th>cargo_id</th>\n      <th>message_id</th>\n      <th>external_message_id</th>\n      <th>parsed_part_id</th>\n      <th>line_from</th>\n      <th>line_to</th>\n      <th>in_line_order</th>\n      <th>source</th>\n      <th>updated_date</th>\n      <th>received_date</th>\n      <th>...</th>\n      <th>redelivery_to_taxonomy_id</th>\n      <th>redelivery_to_taxonomy</th>\n      <th>charter_type_id</th>\n      <th>charter_type</th>\n      <th>cargo_status_id</th>\n      <th>cargo_status</th>\n      <th>content</th>\n      <th>subject</th>\n      <th>sender</th>\n      <th>is_private</th>\n    </tr>\n  </thead>\n  <tbody>\n    <tr>\n      <th>0</th>\n      <td>33891609</td>\n      <td>47953999</td>\n      <td>None</td>\n      <td>58810511</td>\n      <td>14</td>\n      <td>14</td>\n      <td>1.0</td>\n      <td>Email</td>\n      <td>2023-09-22 12:25:49+00:00</td>\n      <td>2023-09-22 12:23:30+00:00</td>\n      <td>...</td>\n      <td>None</td>\n      <td>None</td>\n      <td>0</td>\n      <td>Voyage</td>\n      <td>NaN</td>\n      <td>None</td>\n      <td>valero 37kt ums pembroke ta-ecc-uswc off 29-30</td>\n      <td>SSY CPP MR LIST+ UPDATE  - FRIDAY 22TH SEPTEMBER</td>\n      <td>SSY</td>\n      <td>False</td>\n    </tr>\n    <tr>\n      <th>1</th>\n      <td>33891610</td>\n      <td>47953999</td>\n      <td>None</td>\n      <td>58810511</td>\n      <td>15</td>\n      <td>15</td>\n      <td>1.0</td>\n      <td>Email</td>\n      <td>2023-09-22 12:25:49+00:00</td>\n      <td>2023-09-22 12:23:30+00:00</td>\n      <td>...</td>\n      <td>None</td>\n      <td>None</td>\n      <td>0</td>\n      <td>Voyage</td>\n      <td>NaN</td>\n      <td>None</td>\n      <td>shell 37kt ums brofjorden ukc-ta off 28-30 - b...</td>\n      <td>SSY CPP MR LIST+ UPDATE  - FRIDAY 22TH SEPTEMBER</td>\n      <td>SSY</td>\n      <td>False</td>\n    </tr>\n    <tr>\n      <th>2</th>\n      <td>33891611</td>\n      <td>47953999</td>\n      <td>None</td>\n      <td>58810511</td>\n      <td>14</td>\n      <td>14</td>\n      <td>2.0</td>\n      <td>Email</td>\n      <td>2023-09-22 12:25:49+00:00</td>\n      <td>2023-09-22 12:23:30+00:00</td>\n      <td>...</td>\n      <td>None</td>\n      <td>None</td>\n      <td>0</td>\n      <td>Voyage</td>\n      <td>NaN</td>\n      <td>None</td>\n      <td>valero 37kt ums pembroke ta-ecc-uswc off 29-30</td>\n      <td>SSY CPP MR LIST+ UPDATE  - FRIDAY 22TH SEPTEMBER</td>\n      <td>SSY</td>\n      <td>False</td>\n    </tr>\n    <tr>\n      <th>3</th>\n      <td>33891612</td>\n      <td>47953999</td>\n      <td>None</td>\n      <td>58810511</td>\n      <td>15</td>\n      <td>15</td>\n      <td>NaN</td>\n      <td>Email</td>\n      <td>2023-09-22 12:25:49+00:00</td>\n      <td>2023-09-22 12:23:30+00:00</td>\n      <td>...</td>\n      <td>None</td>\n      <td>None</td>\n      <td>0</td>\n      <td>Voyage</td>\n      <td>NaN</td>\n      <td>None</td>\n      <td>shell 37kt ums brofjorden ukc-ta off 28-30 - b...</td>\n      <td>SSY CPP MR LIST+ UPDATE  - FRIDAY 22TH SEPTEMBER</td>\n      <td>SSY</td>\n      <td>False</td>\n    </tr>\n    <tr>\n      <th>4</th>\n      <td>33891613</td>\n      <td>47953999</td>\n      <td>None</td>\n      <td>58810511</td>\n      <td>14</td>\n      <td>14</td>\n      <td>NaN</td>\n      <td>Email</td>\n      <td>2023-09-22 12:25:49+00:00</td>\n      <td>2023-09-22 12:23:30+00:00</td>\n      <td>...</td>\n      <td>None</td>\n      <td>None</td>\n      <td>0</td>\n      <td>Voyage</td>\n      <td>NaN</td>\n      <td>None</td>\n      <td>valero 37kt ums pembroke ta-ecc-uswc off 29-30</td>\n      <td>SSY CPP MR LIST+ UPDATE  - FRIDAY 22TH SEPTEMBER</td>\n      <td>SSY</td>\n      <td>False</td>\n    </tr>\n  </tbody>\n</table>\n<p>5 rows × 81 columns</p>\n</div>"
     },
     "execution_count": 35,
     "metadata": {},
     "output_type": "execute_result"
    }
   ],
   "source": [
    "df = pd.DataFrame(scraped_cargoes)\n",
    "\n",
    "df.head()"
   ]
  },
  {
   "cell_type": "markdown",
   "id": "3c008a29-c38b-402c-8c0e-2d2123e868ac",
   "metadata": {
    "pycharm": {
     "name": "#%% md\n"
    }
   },
   "source": [
    "#### Request by Message or ExternalMessage IDs"
   ]
  },
  {
   "cell_type": "markdown",
   "id": "271b2ea7-9f65-44ee-9981-21b96d04b734",
   "metadata": {
    "pycharm": {
     "name": "#%% md\n"
    }
   },
   "source": [
    "To retrieve cargoes for particular message ID(s), you should include an extra parameter called `message_ids` when using the `get_cargoes` method. This parameter should contain a list of message IDs. For instance,"
   ]
  },
  {
   "cell_type": "code",
   "execution_count": 36,
   "id": "b2a75948-e1a1-4b11-978a-805ac3013dad",
   "metadata": {
    "pycharm": {
     "name": "#%%\n"
    }
   },
   "outputs": [
    {
     "data": {
      "text/plain": "ScrapedCargo(cargo_id=33640251, message_id=47502652, external_message_id=None, parsed_part_id=58483539, line_from=35, line_to=35, in_line_order=None, source='Email', updated_date=datetime.datetime(2023, 9, 15, 3, 10, 17, tzinfo=datetime.timezone.utc), received_date=datetime.datetime(2023, 9, 15, 3, 7, 42, tzinfo=datetime.timezone.utc), is_deleted=False, scraped_laycan='27-sep', laycan_from=datetime.datetime(2023, 9, 27, 0, 0, tzinfo=datetime.timezone.utc), laycan_to=datetime.datetime(2023, 9, 27, 0, 0, tzinfo=datetime.timezone.utc), scraped_load='nigeria', load_geo_id=171, load_name='Nigeria', load_taxonomy_id=3, load_taxonomy='Country', scraped_load2=None, load_geo_id2=None, load_name2=None, load_taxonomy_id2=None, load_taxonomy2=None, scraped_discharge='ukcm', scraped_discharge_options=None, discharge_geo_id=25025, discharge_name='Mediterranean / UK Continent', discharge_taxonomy_id=6, discharge_taxonomy='Level2', scraped_discharge2=None, discharge_geo_id2=None, discharge_name2=None, discharge_taxonomy_id2=None, discharge_taxonomy2=None, scraped_charterer='exxon', charterer_id=529, charterer='ExxonMobil', scraped_cargo_type=None, cargo_type_id=None, cargo_type=None, cargo_type_group_id=None, cargo_type_group=None, scraped_quantity='130', quantity=130000.0, quantity_buffer=0.0, quantity_from=130000.0, quantity_to=130000.0, size_from=None, size_to=None, scraped_delivery_date=None, delivery_date_from=None, delivery_date_to=None, scraped_delivery_from=None, delivery_from_geo_id=None, delivery_from_name=None, delivery_from_taxonomy_id=None, delivery_from_taxonomy=None, scraped_delivery_to=None, delivery_to_geo_id=None, delivery_to_name=None, delivery_to_taxonomy_id=None, delivery_to_taxonomy=None, scraped_redelivery_from=None, redelivery_from_geo_id=None, redelivery_from_name=None, redelivery_from_taxonomy_id=None, redelivery_from_taxonomy=None, scraped_redelivery_to=None, redelivery_to_geo_id=None, redelivery_to_name=None, redelivery_to_taxonomy_id=None, redelivery_to_taxonomy=None, charter_type_id=0, charter_type='Voyage', cargo_status_id=None, cargo_status=None, content='exxon 130 nigeria / ukcm 27-sep', subject='ALLIANCE SUEZMAX MARKET REPORT 15 SEP 2023', sender='Alliance Tanker', is_private=False)"
     },
     "execution_count": 36,
     "metadata": {},
     "output_type": "execute_result"
    }
   ],
   "source": [
    "message_ids = [47502652, 47503150, 47528120]\n",
    "scraped_cargoes_by_message_ids = api.get_cargoes(\n",
    "    vessel_type=vessel_type,\n",
    "    message_ids=message_ids,\n",
    ")\n",
    "\n",
    "next(iter(scraped_cargoes_by_message_ids), None)"
   ]
  },
  {
   "cell_type": "markdown",
   "id": "ab2638c1-2ffd-4b41-afb0-8959f7f90700",
   "metadata": {
    "pycharm": {
     "name": "#%% md\n"
    }
   },
   "source": [
    "You can achieve a similar result for external message IDs by providing an argument called `external_message_ids`."
   ]
  },
  {
   "cell_type": "markdown",
   "id": "78ad4070",
   "metadata": {
    "pycharm": {
     "name": "#%% md\n"
    }
   },
   "source": [
    "#### Request by Cargo IDs"
   ]
  },
  {
   "cell_type": "markdown",
   "id": "b8d899bb",
   "metadata": {
    "pycharm": {
     "name": "#%% md\n"
    }
   },
   "source": [
    "To get data for specific cargo ID(s), you must call the `get_cargoes_by_cargo_ids` method for a list of desired cargo ID(s)"
   ]
  },
  {
   "cell_type": "markdown",
   "id": "5aafdc45",
   "metadata": {
    "pycharm": {
     "name": "#%% md\n"
    }
   },
   "source": [
    "Date arguments are not available in this method"
   ]
  },
  {
   "cell_type": "code",
   "execution_count": 37,
   "id": "c7947889",
   "metadata": {
    "pycharm": {
     "name": "#%%\n"
    }
   },
   "outputs": [
    {
     "data": {
      "text/plain": "   cargo_id  message_id external_message_id  parsed_part_id  line_from  \\\n0  23790303    30829741                None        45820017        494   \n1  23799890    30842695                None        45831137        110   \n2  23799892    30842695                None        45831137        100   \n3  23799896    30842695                None        45831137        108   \n4  23780101    30814158                None        45808575         69   \n\n   line_to in_line_order source              updated_date  \\\n0      494          None  Email 2022-11-18 08:39:59+00:00   \n1      110          None  Email 2022-11-18 12:31:38+00:00   \n2      100          None  Email 2022-11-18 12:31:38+00:00   \n3      108          None  Email 2022-11-18 12:31:38+00:00   \n4       69          None  Email 2022-11-18 03:48:04+00:00   \n\n              received_date  ...  redelivery_to_taxonomy_id  \\\n0 2022-11-18 00:00:00+00:00  ...                       None   \n1 2022-11-18 00:00:00+00:00  ...                       None   \n2 2022-11-18 00:00:00+00:00  ...                       None   \n3 2022-11-18 00:00:00+00:00  ...                       None   \n4 2022-11-18 03:44:48+00:00  ...                       None   \n\n  redelivery_to_taxonomy charter_type_id charter_type cargo_status_id  \\\n0                   None               0       Voyage            None   \n1                   None               0       Voyage            None   \n2                   None               0       Voyage            None   \n3                   None               0       Voyage            None   \n4                   None               0       Voyage            None   \n\n   cargo_status                                            content  \\\n0          None  exxon 145 26-27 nov usg/ukcm - firm 2nd cargo ...   \n1          None  ioc 130 22-23 dec greater plutonio/paradip - q...   \n2          None             cnr 140 ely dec basrah/west - rumoured   \n3          None              repsol 130 11-12 dec wafr/ukcm - firm   \n4          None              houston ref 70-145 ecmex/usg 27-29/11   \n\n                                             subject sender is_private  \n0   SUEZMAX MORNING UPDATE FROM SIMPSON SPENCE YOUNG    SSY      False  \n1  AFTERNOON SUEZMAX FIXTURE REPORT FROM SIMPSON ...    SSY      False  \n2  AFTERNOON SUEZMAX FIXTURE REPORT FROM SIMPSON ...    SSY      False  \n3  AFTERNOON SUEZMAX FIXTURE REPORT FROM SIMPSON ...    SSY      False  \n4  SIMPSON SPENCE YOUNG SINGAPORE SUEZMAX REPORT ...    SSY      False  \n\n[5 rows x 81 columns]",
      "text/html": "<div>\n<style scoped>\n    .dataframe tbody tr th:only-of-type {\n        vertical-align: middle;\n    }\n\n    .dataframe tbody tr th {\n        vertical-align: top;\n    }\n\n    .dataframe thead th {\n        text-align: right;\n    }\n</style>\n<table border=\"1\" class=\"dataframe\">\n  <thead>\n    <tr style=\"text-align: right;\">\n      <th></th>\n      <th>cargo_id</th>\n      <th>message_id</th>\n      <th>external_message_id</th>\n      <th>parsed_part_id</th>\n      <th>line_from</th>\n      <th>line_to</th>\n      <th>in_line_order</th>\n      <th>source</th>\n      <th>updated_date</th>\n      <th>received_date</th>\n      <th>...</th>\n      <th>redelivery_to_taxonomy_id</th>\n      <th>redelivery_to_taxonomy</th>\n      <th>charter_type_id</th>\n      <th>charter_type</th>\n      <th>cargo_status_id</th>\n      <th>cargo_status</th>\n      <th>content</th>\n      <th>subject</th>\n      <th>sender</th>\n      <th>is_private</th>\n    </tr>\n  </thead>\n  <tbody>\n    <tr>\n      <th>0</th>\n      <td>23790303</td>\n      <td>30829741</td>\n      <td>None</td>\n      <td>45820017</td>\n      <td>494</td>\n      <td>494</td>\n      <td>None</td>\n      <td>Email</td>\n      <td>2022-11-18 08:39:59+00:00</td>\n      <td>2022-11-18 00:00:00+00:00</td>\n      <td>...</td>\n      <td>None</td>\n      <td>None</td>\n      <td>0</td>\n      <td>Voyage</td>\n      <td>None</td>\n      <td>None</td>\n      <td>exxon 145 26-27 nov usg/ukcm - firm 2nd cargo ...</td>\n      <td>SUEZMAX MORNING UPDATE FROM SIMPSON SPENCE YOUNG</td>\n      <td>SSY</td>\n      <td>False</td>\n    </tr>\n    <tr>\n      <th>1</th>\n      <td>23799890</td>\n      <td>30842695</td>\n      <td>None</td>\n      <td>45831137</td>\n      <td>110</td>\n      <td>110</td>\n      <td>None</td>\n      <td>Email</td>\n      <td>2022-11-18 12:31:38+00:00</td>\n      <td>2022-11-18 00:00:00+00:00</td>\n      <td>...</td>\n      <td>None</td>\n      <td>None</td>\n      <td>0</td>\n      <td>Voyage</td>\n      <td>None</td>\n      <td>None</td>\n      <td>ioc 130 22-23 dec greater plutonio/paradip - q...</td>\n      <td>AFTERNOON SUEZMAX FIXTURE REPORT FROM SIMPSON ...</td>\n      <td>SSY</td>\n      <td>False</td>\n    </tr>\n    <tr>\n      <th>2</th>\n      <td>23799892</td>\n      <td>30842695</td>\n      <td>None</td>\n      <td>45831137</td>\n      <td>100</td>\n      <td>100</td>\n      <td>None</td>\n      <td>Email</td>\n      <td>2022-11-18 12:31:38+00:00</td>\n      <td>2022-11-18 00:00:00+00:00</td>\n      <td>...</td>\n      <td>None</td>\n      <td>None</td>\n      <td>0</td>\n      <td>Voyage</td>\n      <td>None</td>\n      <td>None</td>\n      <td>cnr 140 ely dec basrah/west - rumoured</td>\n      <td>AFTERNOON SUEZMAX FIXTURE REPORT FROM SIMPSON ...</td>\n      <td>SSY</td>\n      <td>False</td>\n    </tr>\n    <tr>\n      <th>3</th>\n      <td>23799896</td>\n      <td>30842695</td>\n      <td>None</td>\n      <td>45831137</td>\n      <td>108</td>\n      <td>108</td>\n      <td>None</td>\n      <td>Email</td>\n      <td>2022-11-18 12:31:38+00:00</td>\n      <td>2022-11-18 00:00:00+00:00</td>\n      <td>...</td>\n      <td>None</td>\n      <td>None</td>\n      <td>0</td>\n      <td>Voyage</td>\n      <td>None</td>\n      <td>None</td>\n      <td>repsol 130 11-12 dec wafr/ukcm - firm</td>\n      <td>AFTERNOON SUEZMAX FIXTURE REPORT FROM SIMPSON ...</td>\n      <td>SSY</td>\n      <td>False</td>\n    </tr>\n    <tr>\n      <th>4</th>\n      <td>23780101</td>\n      <td>30814158</td>\n      <td>None</td>\n      <td>45808575</td>\n      <td>69</td>\n      <td>69</td>\n      <td>None</td>\n      <td>Email</td>\n      <td>2022-11-18 03:48:04+00:00</td>\n      <td>2022-11-18 03:44:48+00:00</td>\n      <td>...</td>\n      <td>None</td>\n      <td>None</td>\n      <td>0</td>\n      <td>Voyage</td>\n      <td>None</td>\n      <td>None</td>\n      <td>houston ref 70-145 ecmex/usg 27-29/11</td>\n      <td>SIMPSON SPENCE YOUNG SINGAPORE SUEZMAX REPORT ...</td>\n      <td>SSY</td>\n      <td>False</td>\n    </tr>\n  </tbody>\n</table>\n<p>5 rows × 81 columns</p>\n</div>"
     },
     "execution_count": 37,
     "metadata": {},
     "output_type": "execute_result"
    }
   ],
   "source": [
    "cargo_ids = [23780101, 23799896, 23799890, 23799892, 23790303]    # Or add a list of your desired cargo IDs\n",
    "\n",
    "scraped_cargoes_by_ids = api.get_cargoes_by_cargo_ids(\n",
    "    cargo_ids=cargo_ids,\n",
    ")\n",
    "\n",
    "df_by_ids = pd.DataFrame(scraped_cargoes_by_ids)\n",
    "df_by_ids.head()"
   ]
  },
  {
   "cell_type": "markdown",
   "id": "870c3021",
   "metadata": {
    "pycharm": {
     "name": "#%% md\n"
    }
   },
   "source": [
    "#### Usage of optional arguments"
   ]
  },
  {
   "cell_type": "markdown",
   "id": "c43706a0",
   "metadata": {
    "pycharm": {
     "name": "#%% md\n"
    }
   },
   "source": [
    "By default, all fields are returned. In many cases, it is convenient to select specific columns. For example, if we want to compare scraped and mapped fields"
   ]
  },
  {
   "cell_type": "code",
   "execution_count": 38,
   "id": "edeea873",
   "metadata": {
    "pycharm": {
     "name": "#%%\n"
    }
   },
   "outputs": [
    {
     "data": {
      "text/plain": "  scraped_charterer charterer scraped_quantity  quantity scraped_load  \\\n0            valero    Valero             37kt   37000.0     pembroke   \n1             shell     Shell             37kt   37000.0   brofjorden   \n2            valero    Valero             37kt   37000.0     pembroke   \n3             shell     Shell             37kt   37000.0   brofjorden   \n4            valero    Valero             37kt   37000.0     pembroke   \n\n       load_name  \n0  Pembroke Dock  \n1     Brofjorden  \n2  Pembroke Dock  \n3     Brofjorden  \n4  Pembroke Dock  ",
      "text/html": "<div>\n<style scoped>\n    .dataframe tbody tr th:only-of-type {\n        vertical-align: middle;\n    }\n\n    .dataframe tbody tr th {\n        vertical-align: top;\n    }\n\n    .dataframe thead th {\n        text-align: right;\n    }\n</style>\n<table border=\"1\" class=\"dataframe\">\n  <thead>\n    <tr style=\"text-align: right;\">\n      <th></th>\n      <th>scraped_charterer</th>\n      <th>charterer</th>\n      <th>scraped_quantity</th>\n      <th>quantity</th>\n      <th>scraped_load</th>\n      <th>load_name</th>\n    </tr>\n  </thead>\n  <tbody>\n    <tr>\n      <th>0</th>\n      <td>valero</td>\n      <td>Valero</td>\n      <td>37kt</td>\n      <td>37000.0</td>\n      <td>pembroke</td>\n      <td>Pembroke Dock</td>\n    </tr>\n    <tr>\n      <th>1</th>\n      <td>shell</td>\n      <td>Shell</td>\n      <td>37kt</td>\n      <td>37000.0</td>\n      <td>brofjorden</td>\n      <td>Brofjorden</td>\n    </tr>\n    <tr>\n      <th>2</th>\n      <td>valero</td>\n      <td>Valero</td>\n      <td>37kt</td>\n      <td>37000.0</td>\n      <td>pembroke</td>\n      <td>Pembroke Dock</td>\n    </tr>\n    <tr>\n      <th>3</th>\n      <td>shell</td>\n      <td>Shell</td>\n      <td>37kt</td>\n      <td>37000.0</td>\n      <td>brofjorden</td>\n      <td>Brofjorden</td>\n    </tr>\n    <tr>\n      <th>4</th>\n      <td>valero</td>\n      <td>Valero</td>\n      <td>37kt</td>\n      <td>37000.0</td>\n      <td>pembroke</td>\n      <td>Pembroke Dock</td>\n    </tr>\n  </tbody>\n</table>\n</div>"
     },
     "execution_count": 38,
     "metadata": {},
     "output_type": "execute_result"
    }
   ],
   "source": [
    "scraped_mapped_columns = [\n",
    "    'scraped_charterer',\n",
    "    'charterer',\n",
    "    'scraped_quantity',\n",
    "    'quantity',\n",
    "    'scraped_load',\n",
    "    'load_name',\n",
    "]\n",
    "\n",
    "scraped_mapped_df = pd.DataFrame(scraped_cargoes, columns=scraped_mapped_columns)\n",
    "\n",
    "scraped_mapped_df.head()"
   ]
  },
  {
   "cell_type": "markdown",
   "id": "3fa44d5d",
   "metadata": {
    "pycharm": {
     "name": "#%% md\n"
    }
   },
   "source": [
    "## Examples"
   ]
  },
  {
   "cell_type": "markdown",
   "id": "86378f5f",
   "metadata": {
    "pycharm": {
     "name": "#%% md\n"
    }
   },
   "source": [
    "Let's start by fetching all tanker cargoes received the last 2 weeks"
   ]
  },
  {
   "cell_type": "code",
   "execution_count": 39,
   "id": "54269d8b",
   "metadata": {
    "scrolled": true,
    "pycharm": {
     "name": "#%%\n"
    }
   },
   "outputs": [],
   "source": [
    "example_vessel_type = 1  # Tanker\n",
    "example_date_from = datetime.utcnow() - timedelta(days=14)\n",
    "\n",
    "example_scraped_cargoes = api.get_cargoes(\n",
    "   vessel_type=example_vessel_type,\n",
    "   received_date_from=example_date_from,\n",
    ")"
   ]
  },
  {
   "cell_type": "markdown",
   "id": "da6393c7",
   "metadata": {
    "pycharm": {
     "name": "#%% md\n"
    }
   },
   "source": [
    "#### Exclude deleted scraped cargoes"
   ]
  },
  {
   "cell_type": "markdown",
   "id": "06de6b3e",
   "metadata": {
    "pycharm": {
     "name": "#%% md\n"
    }
   },
   "source": [
    "The `is_deleted` property of a scraped cargo indicates whether it is valid or not. If it is set to `True`, the corresponding `cargo_id` has been replaced by a new one.\n",
    "\n",
    "For the sake of completeness, we will exclude deleted scraped cargoes in the following examples"
   ]
  },
  {
   "cell_type": "code",
   "execution_count": 40,
   "id": "b43829f5",
   "metadata": {
    "pycharm": {
     "name": "#%%\n"
    }
   },
   "outputs": [
    {
     "data": {
      "text/plain": "ScrapedCargo(cargo_id=33530079, message_id=47319156, external_message_id=None, parsed_part_id=58350583, line_from=16, line_to=16, in_line_order=None, source='Email', updated_date=datetime.datetime(2023, 9, 12, 11, 55, 35, tzinfo=datetime.timezone.utc), received_date=datetime.datetime(2023, 9, 12, 11, 52, 28, tzinfo=datetime.timezone.utc), is_deleted=False, scraped_laycan='21-23', laycan_from=datetime.datetime(2023, 9, 21, 0, 0, tzinfo=datetime.timezone.utc), laycan_to=datetime.datetime(2023, 9, 23, 0, 0, tzinfo=datetime.timezone.utc), scraped_load='nspain', load_geo_id=75, load_name='Spain', load_taxonomy_id=3, load_taxonomy='Country', scraped_load2=None, load_geo_id2=None, load_name2=None, load_taxonomy_id2=None, load_taxonomy2=None, scraped_discharge='ta', scraped_discharge_options='wccam-ukc-med', discharge_geo_id=25019, discharge_name='Atlantic America', discharge_taxonomy_id=6, discharge_taxonomy='Level2', scraped_discharge2=None, discharge_geo_id2=None, discharge_name2=None, discharge_taxonomy_id2=None, discharge_taxonomy2=None, scraped_charterer='repsol', charterer_id=1380, charterer='Repsol', scraped_cargo_type='ums', cargo_type_id=135, cargo_type='Unleaded Motor Spirit', cargo_type_group_id=120000, cargo_type_group='Clean', scraped_quantity='37kt', quantity=37000.0, quantity_buffer=0.0, quantity_from=37000.0, quantity_to=37000.0, size_from=None, size_to=None, scraped_delivery_date=None, delivery_date_from=None, delivery_date_to=None, scraped_delivery_from=None, delivery_from_geo_id=None, delivery_from_name=None, delivery_from_taxonomy_id=None, delivery_from_taxonomy=None, scraped_delivery_to=None, delivery_to_geo_id=None, delivery_to_name=None, delivery_to_taxonomy_id=None, delivery_to_taxonomy=None, scraped_redelivery_from=None, redelivery_from_geo_id=None, redelivery_from_name=None, redelivery_from_taxonomy_id=None, redelivery_from_taxonomy=None, scraped_redelivery_to=None, redelivery_to_geo_id=None, redelivery_to_name=None, redelivery_to_taxonomy_id=None, redelivery_to_taxonomy=None, charter_type_id=0, charter_type='Voyage', cargo_status_id=None, cargo_status=None, content='repsol 37kt ums nspain ta-wccam-ukc-med off 21-23', subject='SSY CPP MR LIST + UPDATE - TUESDAY 12TH SEPTEMBER', sender='SSY', is_private=False)"
     },
     "execution_count": 40,
     "metadata": {},
     "output_type": "execute_result"
    }
   ],
   "source": [
    "example_scraped_cargoes = [cargo for cargo in example_scraped_cargoes if not cargo.is_deleted]\n",
    "\n",
    "next(iter(example_scraped_cargoes), None)"
   ]
  },
  {
   "cell_type": "markdown",
   "id": "882d67c4",
   "metadata": {
    "pycharm": {
     "name": "#%% md\n"
    }
   },
   "source": [
    "Now, we are ready to insert our data into a dataframe and keep only specific fields"
   ]
  },
  {
   "cell_type": "code",
   "execution_count": 41,
   "id": "a1719a9f",
   "metadata": {
    "pycharm": {
     "name": "#%%\n"
    }
   },
   "outputs": [
    {
     "data": {
      "text/plain": "  charterer               laycan_from  load_name  quantity  is_deleted\n0    Repsol 2023-09-21 00:00:00+00:00      Spain   37000.0       False\n1    Irving 2023-09-23 00:00:00+00:00  Continent   37000.0       False\n2    Repsol 2023-09-21 00:00:00+00:00      Spain   37000.0       False\n3    Irving 2023-09-23 00:00:00+00:00  Continent   37000.0       False\n4    Repsol 2023-09-21 00:00:00+00:00      Spain   37000.0       False",
      "text/html": "<div>\n<style scoped>\n    .dataframe tbody tr th:only-of-type {\n        vertical-align: middle;\n    }\n\n    .dataframe tbody tr th {\n        vertical-align: top;\n    }\n\n    .dataframe thead th {\n        text-align: right;\n    }\n</style>\n<table border=\"1\" class=\"dataframe\">\n  <thead>\n    <tr style=\"text-align: right;\">\n      <th></th>\n      <th>charterer</th>\n      <th>laycan_from</th>\n      <th>load_name</th>\n      <th>quantity</th>\n      <th>is_deleted</th>\n    </tr>\n  </thead>\n  <tbody>\n    <tr>\n      <th>0</th>\n      <td>Repsol</td>\n      <td>2023-09-21 00:00:00+00:00</td>\n      <td>Spain</td>\n      <td>37000.0</td>\n      <td>False</td>\n    </tr>\n    <tr>\n      <th>1</th>\n      <td>Irving</td>\n      <td>2023-09-23 00:00:00+00:00</td>\n      <td>Continent</td>\n      <td>37000.0</td>\n      <td>False</td>\n    </tr>\n    <tr>\n      <th>2</th>\n      <td>Repsol</td>\n      <td>2023-09-21 00:00:00+00:00</td>\n      <td>Spain</td>\n      <td>37000.0</td>\n      <td>False</td>\n    </tr>\n    <tr>\n      <th>3</th>\n      <td>Irving</td>\n      <td>2023-09-23 00:00:00+00:00</td>\n      <td>Continent</td>\n      <td>37000.0</td>\n      <td>False</td>\n    </tr>\n    <tr>\n      <th>4</th>\n      <td>Repsol</td>\n      <td>2023-09-21 00:00:00+00:00</td>\n      <td>Spain</td>\n      <td>37000.0</td>\n      <td>False</td>\n    </tr>\n  </tbody>\n</table>\n</div>"
     },
     "execution_count": 41,
     "metadata": {},
     "output_type": "execute_result"
    }
   ],
   "source": [
    "example_columns = [\n",
    "    'charterer',   \n",
    "    'laycan_from',\n",
    "    'load_name',\n",
    "    'quantity',\n",
    "    'is_deleted',\n",
    "]\n",
    "\n",
    "data = pd.DataFrame(example_scraped_cargoes, columns=example_columns)\n",
    "\n",
    "data.head()"
   ]
  },
  {
   "cell_type": "markdown",
   "id": "79adee65",
   "metadata": {
    "pycharm": {
     "name": "#%% md\n"
    }
   },
   "source": [
    "#### Top 10 Charterers"
   ]
  },
  {
   "cell_type": "markdown",
   "id": "92f736dd",
   "metadata": {
    "pycharm": {
     "name": "#%% md\n"
    }
   },
   "source": [
    "In this example, we will find the top 10 Charterers, based on the number of distinct available cargoes"
   ]
  },
  {
   "cell_type": "code",
   "execution_count": 42,
   "id": "fc9e6a1f",
   "metadata": {
    "pycharm": {
     "name": "#%%\n"
    }
   },
   "outputs": [
    {
     "data": {
      "text/plain": "          charterer  CargoCount\n0       GCC BUNKERS          10\n1                BP           9\n2         Trafigura           8\n3               ENI           8\n4         Petrobras           8\n5             Shell           8\n6             Vitol           8\n7            Unipec           6\n8  Bharat Petroleum           6\n9            Repsol           6",
      "text/html": "<div>\n<style scoped>\n    .dataframe tbody tr th:only-of-type {\n        vertical-align: middle;\n    }\n\n    .dataframe tbody tr th {\n        vertical-align: top;\n    }\n\n    .dataframe thead th {\n        text-align: right;\n    }\n</style>\n<table border=\"1\" class=\"dataframe\">\n  <thead>\n    <tr style=\"text-align: right;\">\n      <th></th>\n      <th>charterer</th>\n      <th>CargoCount</th>\n    </tr>\n  </thead>\n  <tbody>\n    <tr>\n      <th>0</th>\n      <td>GCC BUNKERS</td>\n      <td>10</td>\n    </tr>\n    <tr>\n      <th>1</th>\n      <td>BP</td>\n      <td>9</td>\n    </tr>\n    <tr>\n      <th>2</th>\n      <td>Trafigura</td>\n      <td>8</td>\n    </tr>\n    <tr>\n      <th>3</th>\n      <td>ENI</td>\n      <td>8</td>\n    </tr>\n    <tr>\n      <th>4</th>\n      <td>Petrobras</td>\n      <td>8</td>\n    </tr>\n    <tr>\n      <th>5</th>\n      <td>Shell</td>\n      <td>8</td>\n    </tr>\n    <tr>\n      <th>6</th>\n      <td>Vitol</td>\n      <td>8</td>\n    </tr>\n    <tr>\n      <th>7</th>\n      <td>Unipec</td>\n      <td>6</td>\n    </tr>\n    <tr>\n      <th>8</th>\n      <td>Bharat Petroleum</td>\n      <td>6</td>\n    </tr>\n    <tr>\n      <th>9</th>\n      <td>Repsol</td>\n      <td>6</td>\n    </tr>\n  </tbody>\n</table>\n</div>"
     },
     "execution_count": 42,
     "metadata": {},
     "output_type": "execute_result"
    }
   ],
   "source": [
    "top_chrtr_ser = data[['charterer', 'laycan_from']].drop_duplicates().charterer.value_counts().head(10)\n",
    "\n",
    "top_chrtr_df = top_chrtr_ser.to_frame(name='CargoCount').reset_index().rename(columns={'index': 'Charterer'})\n",
    "\n",
    "top_chrtr_df"
   ]
  },
  {
   "cell_type": "markdown",
   "id": "38000d58",
   "metadata": {
    "pycharm": {
     "name": "#%% md\n"
    }
   },
   "source": [
    "And display results in a bar plot"
   ]
  },
  {
   "cell_type": "code",
   "execution_count": 43,
   "id": "5c176262",
   "metadata": {
    "pycharm": {
     "name": "#%%\n"
    }
   },
   "outputs": [
    {
     "data": {
      "application/vnd.plotly.v1+json": {
       "data": [
        {
         "x": [
          "GCC BUNKERS",
          "BP",
          "Trafigura",
          "ENI",
          "Petrobras",
          "Shell",
          "Vitol",
          "Unipec",
          "Bharat Petroleum",
          "Repsol"
         ],
         "y": [
          10,
          9,
          8,
          8,
          8,
          8,
          8,
          6,
          6,
          6
         ],
         "type": "bar"
        }
       ],
       "layout": {
        "template": {
         "data": {
          "histogram2dcontour": [
           {
            "type": "histogram2dcontour",
            "colorbar": {
             "outlinewidth": 0,
             "ticks": ""
            },
            "colorscale": [
             [
              0.0,
              "#0d0887"
             ],
             [
              0.1111111111111111,
              "#46039f"
             ],
             [
              0.2222222222222222,
              "#7201a8"
             ],
             [
              0.3333333333333333,
              "#9c179e"
             ],
             [
              0.4444444444444444,
              "#bd3786"
             ],
             [
              0.5555555555555556,
              "#d8576b"
             ],
             [
              0.6666666666666666,
              "#ed7953"
             ],
             [
              0.7777777777777778,
              "#fb9f3a"
             ],
             [
              0.8888888888888888,
              "#fdca26"
             ],
             [
              1.0,
              "#f0f921"
             ]
            ]
           }
          ],
          "choropleth": [
           {
            "type": "choropleth",
            "colorbar": {
             "outlinewidth": 0,
             "ticks": ""
            }
           }
          ],
          "histogram2d": [
           {
            "type": "histogram2d",
            "colorbar": {
             "outlinewidth": 0,
             "ticks": ""
            },
            "colorscale": [
             [
              0.0,
              "#0d0887"
             ],
             [
              0.1111111111111111,
              "#46039f"
             ],
             [
              0.2222222222222222,
              "#7201a8"
             ],
             [
              0.3333333333333333,
              "#9c179e"
             ],
             [
              0.4444444444444444,
              "#bd3786"
             ],
             [
              0.5555555555555556,
              "#d8576b"
             ],
             [
              0.6666666666666666,
              "#ed7953"
             ],
             [
              0.7777777777777778,
              "#fb9f3a"
             ],
             [
              0.8888888888888888,
              "#fdca26"
             ],
             [
              1.0,
              "#f0f921"
             ]
            ]
           }
          ],
          "heatmap": [
           {
            "type": "heatmap",
            "colorbar": {
             "outlinewidth": 0,
             "ticks": ""
            },
            "colorscale": [
             [
              0.0,
              "#0d0887"
             ],
             [
              0.1111111111111111,
              "#46039f"
             ],
             [
              0.2222222222222222,
              "#7201a8"
             ],
             [
              0.3333333333333333,
              "#9c179e"
             ],
             [
              0.4444444444444444,
              "#bd3786"
             ],
             [
              0.5555555555555556,
              "#d8576b"
             ],
             [
              0.6666666666666666,
              "#ed7953"
             ],
             [
              0.7777777777777778,
              "#fb9f3a"
             ],
             [
              0.8888888888888888,
              "#fdca26"
             ],
             [
              1.0,
              "#f0f921"
             ]
            ]
           }
          ],
          "heatmapgl": [
           {
            "type": "heatmapgl",
            "colorbar": {
             "outlinewidth": 0,
             "ticks": ""
            },
            "colorscale": [
             [
              0.0,
              "#0d0887"
             ],
             [
              0.1111111111111111,
              "#46039f"
             ],
             [
              0.2222222222222222,
              "#7201a8"
             ],
             [
              0.3333333333333333,
              "#9c179e"
             ],
             [
              0.4444444444444444,
              "#bd3786"
             ],
             [
              0.5555555555555556,
              "#d8576b"
             ],
             [
              0.6666666666666666,
              "#ed7953"
             ],
             [
              0.7777777777777778,
              "#fb9f3a"
             ],
             [
              0.8888888888888888,
              "#fdca26"
             ],
             [
              1.0,
              "#f0f921"
             ]
            ]
           }
          ],
          "contourcarpet": [
           {
            "type": "contourcarpet",
            "colorbar": {
             "outlinewidth": 0,
             "ticks": ""
            }
           }
          ],
          "contour": [
           {
            "type": "contour",
            "colorbar": {
             "outlinewidth": 0,
             "ticks": ""
            },
            "colorscale": [
             [
              0.0,
              "#0d0887"
             ],
             [
              0.1111111111111111,
              "#46039f"
             ],
             [
              0.2222222222222222,
              "#7201a8"
             ],
             [
              0.3333333333333333,
              "#9c179e"
             ],
             [
              0.4444444444444444,
              "#bd3786"
             ],
             [
              0.5555555555555556,
              "#d8576b"
             ],
             [
              0.6666666666666666,
              "#ed7953"
             ],
             [
              0.7777777777777778,
              "#fb9f3a"
             ],
             [
              0.8888888888888888,
              "#fdca26"
             ],
             [
              1.0,
              "#f0f921"
             ]
            ]
           }
          ],
          "surface": [
           {
            "type": "surface",
            "colorbar": {
             "outlinewidth": 0,
             "ticks": ""
            },
            "colorscale": [
             [
              0.0,
              "#0d0887"
             ],
             [
              0.1111111111111111,
              "#46039f"
             ],
             [
              0.2222222222222222,
              "#7201a8"
             ],
             [
              0.3333333333333333,
              "#9c179e"
             ],
             [
              0.4444444444444444,
              "#bd3786"
             ],
             [
              0.5555555555555556,
              "#d8576b"
             ],
             [
              0.6666666666666666,
              "#ed7953"
             ],
             [
              0.7777777777777778,
              "#fb9f3a"
             ],
             [
              0.8888888888888888,
              "#fdca26"
             ],
             [
              1.0,
              "#f0f921"
             ]
            ]
           }
          ],
          "mesh3d": [
           {
            "type": "mesh3d",
            "colorbar": {
             "outlinewidth": 0,
             "ticks": ""
            }
           }
          ],
          "scatter": [
           {
            "marker": {
             "line": {
              "color": "#283442"
             }
            },
            "type": "scatter"
           }
          ],
          "parcoords": [
           {
            "type": "parcoords",
            "line": {
             "colorbar": {
              "outlinewidth": 0,
              "ticks": ""
             }
            }
           }
          ],
          "scatterpolargl": [
           {
            "type": "scatterpolargl",
            "marker": {
             "colorbar": {
              "outlinewidth": 0,
              "ticks": ""
             }
            }
           }
          ],
          "bar": [
           {
            "error_x": {
             "color": "#f2f5fa"
            },
            "error_y": {
             "color": "#f2f5fa"
            },
            "marker": {
             "line": {
              "color": "rgb(17,17,17)",
              "width": 0.5
             },
             "pattern": {
              "fillmode": "overlay",
              "size": 10,
              "solidity": 0.2
             }
            },
            "type": "bar"
           }
          ],
          "scattergeo": [
           {
            "type": "scattergeo",
            "marker": {
             "colorbar": {
              "outlinewidth": 0,
              "ticks": ""
             }
            }
           }
          ],
          "scatterpolar": [
           {
            "type": "scatterpolar",
            "marker": {
             "colorbar": {
              "outlinewidth": 0,
              "ticks": ""
             }
            }
           }
          ],
          "histogram": [
           {
            "marker": {
             "pattern": {
              "fillmode": "overlay",
              "size": 10,
              "solidity": 0.2
             }
            },
            "type": "histogram"
           }
          ],
          "scattergl": [
           {
            "marker": {
             "line": {
              "color": "#283442"
             }
            },
            "type": "scattergl"
           }
          ],
          "scatter3d": [
           {
            "type": "scatter3d",
            "line": {
             "colorbar": {
              "outlinewidth": 0,
              "ticks": ""
             }
            },
            "marker": {
             "colorbar": {
              "outlinewidth": 0,
              "ticks": ""
             }
            }
           }
          ],
          "scattermapbox": [
           {
            "type": "scattermapbox",
            "marker": {
             "colorbar": {
              "outlinewidth": 0,
              "ticks": ""
             }
            }
           }
          ],
          "scatterternary": [
           {
            "type": "scatterternary",
            "marker": {
             "colorbar": {
              "outlinewidth": 0,
              "ticks": ""
             }
            }
           }
          ],
          "scattercarpet": [
           {
            "type": "scattercarpet",
            "marker": {
             "colorbar": {
              "outlinewidth": 0,
              "ticks": ""
             }
            }
           }
          ],
          "carpet": [
           {
            "aaxis": {
             "endlinecolor": "#A2B1C6",
             "gridcolor": "#506784",
             "linecolor": "#506784",
             "minorgridcolor": "#506784",
             "startlinecolor": "#A2B1C6"
            },
            "baxis": {
             "endlinecolor": "#A2B1C6",
             "gridcolor": "#506784",
             "linecolor": "#506784",
             "minorgridcolor": "#506784",
             "startlinecolor": "#A2B1C6"
            },
            "type": "carpet"
           }
          ],
          "table": [
           {
            "cells": {
             "fill": {
              "color": "#506784"
             },
             "line": {
              "color": "rgb(17,17,17)"
             }
            },
            "header": {
             "fill": {
              "color": "#2a3f5f"
             },
             "line": {
              "color": "rgb(17,17,17)"
             }
            },
            "type": "table"
           }
          ],
          "barpolar": [
           {
            "marker": {
             "line": {
              "color": "rgb(17,17,17)",
              "width": 0.5
             },
             "pattern": {
              "fillmode": "overlay",
              "size": 10,
              "solidity": 0.2
             }
            },
            "type": "barpolar"
           }
          ],
          "pie": [
           {
            "automargin": true,
            "type": "pie"
           }
          ]
         },
         "layout": {
          "autotypenumbers": "strict",
          "colorway": [
           "#636efa",
           "#EF553B",
           "#00cc96",
           "#ab63fa",
           "#FFA15A",
           "#19d3f3",
           "#FF6692",
           "#B6E880",
           "#FF97FF",
           "#FECB52"
          ],
          "font": {
           "color": "#f2f5fa"
          },
          "hovermode": "closest",
          "hoverlabel": {
           "align": "left"
          },
          "paper_bgcolor": "rgb(17,17,17)",
          "plot_bgcolor": "rgb(17,17,17)",
          "polar": {
           "bgcolor": "rgb(17,17,17)",
           "angularaxis": {
            "gridcolor": "#506784",
            "linecolor": "#506784",
            "ticks": ""
           },
           "radialaxis": {
            "gridcolor": "#506784",
            "linecolor": "#506784",
            "ticks": ""
           }
          },
          "ternary": {
           "bgcolor": "rgb(17,17,17)",
           "aaxis": {
            "gridcolor": "#506784",
            "linecolor": "#506784",
            "ticks": ""
           },
           "baxis": {
            "gridcolor": "#506784",
            "linecolor": "#506784",
            "ticks": ""
           },
           "caxis": {
            "gridcolor": "#506784",
            "linecolor": "#506784",
            "ticks": ""
           }
          },
          "coloraxis": {
           "colorbar": {
            "outlinewidth": 0,
            "ticks": ""
           }
          },
          "colorscale": {
           "sequential": [
            [
             0.0,
             "#0d0887"
            ],
            [
             0.1111111111111111,
             "#46039f"
            ],
            [
             0.2222222222222222,
             "#7201a8"
            ],
            [
             0.3333333333333333,
             "#9c179e"
            ],
            [
             0.4444444444444444,
             "#bd3786"
            ],
            [
             0.5555555555555556,
             "#d8576b"
            ],
            [
             0.6666666666666666,
             "#ed7953"
            ],
            [
             0.7777777777777778,
             "#fb9f3a"
            ],
            [
             0.8888888888888888,
             "#fdca26"
            ],
            [
             1.0,
             "#f0f921"
            ]
           ],
           "sequentialminus": [
            [
             0.0,
             "#0d0887"
            ],
            [
             0.1111111111111111,
             "#46039f"
            ],
            [
             0.2222222222222222,
             "#7201a8"
            ],
            [
             0.3333333333333333,
             "#9c179e"
            ],
            [
             0.4444444444444444,
             "#bd3786"
            ],
            [
             0.5555555555555556,
             "#d8576b"
            ],
            [
             0.6666666666666666,
             "#ed7953"
            ],
            [
             0.7777777777777778,
             "#fb9f3a"
            ],
            [
             0.8888888888888888,
             "#fdca26"
            ],
            [
             1.0,
             "#f0f921"
            ]
           ],
           "diverging": [
            [
             0,
             "#8e0152"
            ],
            [
             0.1,
             "#c51b7d"
            ],
            [
             0.2,
             "#de77ae"
            ],
            [
             0.3,
             "#f1b6da"
            ],
            [
             0.4,
             "#fde0ef"
            ],
            [
             0.5,
             "#f7f7f7"
            ],
            [
             0.6,
             "#e6f5d0"
            ],
            [
             0.7,
             "#b8e186"
            ],
            [
             0.8,
             "#7fbc41"
            ],
            [
             0.9,
             "#4d9221"
            ],
            [
             1,
             "#276419"
            ]
           ]
          },
          "xaxis": {
           "gridcolor": "#283442",
           "linecolor": "#506784",
           "ticks": "",
           "title": {
            "standoff": 15
           },
           "zerolinecolor": "#283442",
           "automargin": true,
           "zerolinewidth": 2
          },
          "yaxis": {
           "gridcolor": "#283442",
           "linecolor": "#506784",
           "ticks": "",
           "title": {
            "standoff": 15
           },
           "zerolinecolor": "#283442",
           "automargin": true,
           "zerolinewidth": 2
          },
          "scene": {
           "xaxis": {
            "backgroundcolor": "rgb(17,17,17)",
            "gridcolor": "#506784",
            "linecolor": "#506784",
            "showbackground": true,
            "ticks": "",
            "zerolinecolor": "#C8D4E3",
            "gridwidth": 2
           },
           "yaxis": {
            "backgroundcolor": "rgb(17,17,17)",
            "gridcolor": "#506784",
            "linecolor": "#506784",
            "showbackground": true,
            "ticks": "",
            "zerolinecolor": "#C8D4E3",
            "gridwidth": 2
           },
           "zaxis": {
            "backgroundcolor": "rgb(17,17,17)",
            "gridcolor": "#506784",
            "linecolor": "#506784",
            "showbackground": true,
            "ticks": "",
            "zerolinecolor": "#C8D4E3",
            "gridwidth": 2
           }
          },
          "shapedefaults": {
           "line": {
            "color": "#f2f5fa"
           }
          },
          "annotationdefaults": {
           "arrowcolor": "#f2f5fa",
           "arrowhead": 0,
           "arrowwidth": 1
          },
          "geo": {
           "bgcolor": "rgb(17,17,17)",
           "landcolor": "rgb(17,17,17)",
           "subunitcolor": "#506784",
           "showland": true,
           "showlakes": true,
           "lakecolor": "rgb(17,17,17)"
          },
          "title": {
           "x": 0.05
          },
          "updatemenudefaults": {
           "bgcolor": "#506784",
           "borderwidth": 0
          },
          "sliderdefaults": {
           "bgcolor": "#C8D4E3",
           "borderwidth": 1,
           "bordercolor": "rgb(17,17,17)",
           "tickwidth": 0
          },
          "mapbox": {
           "style": "dark"
          }
         }
        },
        "xaxis": {
         "title": {
          "text": "Charterer"
         }
        },
        "yaxis": {
         "title": {
          "text": "Number of available Cargoes"
         }
        }
       },
       "config": {
        "plotlyServerURL": "https://plot.ly"
       }
      },
      "text/html": "<div>                            <div id=\"071382f3-f08d-4f7d-8747-f88e641d8d25\" class=\"plotly-graph-div\" style=\"height:525px; width:100%;\"></div>            <script type=\"text/javascript\">                require([\"plotly\"], function(Plotly) {                    window.PLOTLYENV=window.PLOTLYENV || {};                                    if (document.getElementById(\"071382f3-f08d-4f7d-8747-f88e641d8d25\")) {                    Plotly.newPlot(                        \"071382f3-f08d-4f7d-8747-f88e641d8d25\",                        [{\"x\":[\"GCC BUNKERS\",\"BP\",\"Trafigura\",\"ENI\",\"Petrobras\",\"Shell\",\"Vitol\",\"Unipec\",\"Bharat Petroleum\",\"Repsol\"],\"y\":[10,9,8,8,8,8,8,6,6,6],\"type\":\"bar\"}],                        {\"template\":{\"data\":{\"histogram2dcontour\":[{\"type\":\"histogram2dcontour\",\"colorbar\":{\"outlinewidth\":0,\"ticks\":\"\"},\"colorscale\":[[0.0,\"#0d0887\"],[0.1111111111111111,\"#46039f\"],[0.2222222222222222,\"#7201a8\"],[0.3333333333333333,\"#9c179e\"],[0.4444444444444444,\"#bd3786\"],[0.5555555555555556,\"#d8576b\"],[0.6666666666666666,\"#ed7953\"],[0.7777777777777778,\"#fb9f3a\"],[0.8888888888888888,\"#fdca26\"],[1.0,\"#f0f921\"]]}],\"choropleth\":[{\"type\":\"choropleth\",\"colorbar\":{\"outlinewidth\":0,\"ticks\":\"\"}}],\"histogram2d\":[{\"type\":\"histogram2d\",\"colorbar\":{\"outlinewidth\":0,\"ticks\":\"\"},\"colorscale\":[[0.0,\"#0d0887\"],[0.1111111111111111,\"#46039f\"],[0.2222222222222222,\"#7201a8\"],[0.3333333333333333,\"#9c179e\"],[0.4444444444444444,\"#bd3786\"],[0.5555555555555556,\"#d8576b\"],[0.6666666666666666,\"#ed7953\"],[0.7777777777777778,\"#fb9f3a\"],[0.8888888888888888,\"#fdca26\"],[1.0,\"#f0f921\"]]}],\"heatmap\":[{\"type\":\"heatmap\",\"colorbar\":{\"outlinewidth\":0,\"ticks\":\"\"},\"colorscale\":[[0.0,\"#0d0887\"],[0.1111111111111111,\"#46039f\"],[0.2222222222222222,\"#7201a8\"],[0.3333333333333333,\"#9c179e\"],[0.4444444444444444,\"#bd3786\"],[0.5555555555555556,\"#d8576b\"],[0.6666666666666666,\"#ed7953\"],[0.7777777777777778,\"#fb9f3a\"],[0.8888888888888888,\"#fdca26\"],[1.0,\"#f0f921\"]]}],\"heatmapgl\":[{\"type\":\"heatmapgl\",\"colorbar\":{\"outlinewidth\":0,\"ticks\":\"\"},\"colorscale\":[[0.0,\"#0d0887\"],[0.1111111111111111,\"#46039f\"],[0.2222222222222222,\"#7201a8\"],[0.3333333333333333,\"#9c179e\"],[0.4444444444444444,\"#bd3786\"],[0.5555555555555556,\"#d8576b\"],[0.6666666666666666,\"#ed7953\"],[0.7777777777777778,\"#fb9f3a\"],[0.8888888888888888,\"#fdca26\"],[1.0,\"#f0f921\"]]}],\"contourcarpet\":[{\"type\":\"contourcarpet\",\"colorbar\":{\"outlinewidth\":0,\"ticks\":\"\"}}],\"contour\":[{\"type\":\"contour\",\"colorbar\":{\"outlinewidth\":0,\"ticks\":\"\"},\"colorscale\":[[0.0,\"#0d0887\"],[0.1111111111111111,\"#46039f\"],[0.2222222222222222,\"#7201a8\"],[0.3333333333333333,\"#9c179e\"],[0.4444444444444444,\"#bd3786\"],[0.5555555555555556,\"#d8576b\"],[0.6666666666666666,\"#ed7953\"],[0.7777777777777778,\"#fb9f3a\"],[0.8888888888888888,\"#fdca26\"],[1.0,\"#f0f921\"]]}],\"surface\":[{\"type\":\"surface\",\"colorbar\":{\"outlinewidth\":0,\"ticks\":\"\"},\"colorscale\":[[0.0,\"#0d0887\"],[0.1111111111111111,\"#46039f\"],[0.2222222222222222,\"#7201a8\"],[0.3333333333333333,\"#9c179e\"],[0.4444444444444444,\"#bd3786\"],[0.5555555555555556,\"#d8576b\"],[0.6666666666666666,\"#ed7953\"],[0.7777777777777778,\"#fb9f3a\"],[0.8888888888888888,\"#fdca26\"],[1.0,\"#f0f921\"]]}],\"mesh3d\":[{\"type\":\"mesh3d\",\"colorbar\":{\"outlinewidth\":0,\"ticks\":\"\"}}],\"scatter\":[{\"marker\":{\"line\":{\"color\":\"#283442\"}},\"type\":\"scatter\"}],\"parcoords\":[{\"type\":\"parcoords\",\"line\":{\"colorbar\":{\"outlinewidth\":0,\"ticks\":\"\"}}}],\"scatterpolargl\":[{\"type\":\"scatterpolargl\",\"marker\":{\"colorbar\":{\"outlinewidth\":0,\"ticks\":\"\"}}}],\"bar\":[{\"error_x\":{\"color\":\"#f2f5fa\"},\"error_y\":{\"color\":\"#f2f5fa\"},\"marker\":{\"line\":{\"color\":\"rgb(17,17,17)\",\"width\":0.5},\"pattern\":{\"fillmode\":\"overlay\",\"size\":10,\"solidity\":0.2}},\"type\":\"bar\"}],\"scattergeo\":[{\"type\":\"scattergeo\",\"marker\":{\"colorbar\":{\"outlinewidth\":0,\"ticks\":\"\"}}}],\"scatterpolar\":[{\"type\":\"scatterpolar\",\"marker\":{\"colorbar\":{\"outlinewidth\":0,\"ticks\":\"\"}}}],\"histogram\":[{\"marker\":{\"pattern\":{\"fillmode\":\"overlay\",\"size\":10,\"solidity\":0.2}},\"type\":\"histogram\"}],\"scattergl\":[{\"marker\":{\"line\":{\"color\":\"#283442\"}},\"type\":\"scattergl\"}],\"scatter3d\":[{\"type\":\"scatter3d\",\"line\":{\"colorbar\":{\"outlinewidth\":0,\"ticks\":\"\"}},\"marker\":{\"colorbar\":{\"outlinewidth\":0,\"ticks\":\"\"}}}],\"scattermapbox\":[{\"type\":\"scattermapbox\",\"marker\":{\"colorbar\":{\"outlinewidth\":0,\"ticks\":\"\"}}}],\"scatterternary\":[{\"type\":\"scatterternary\",\"marker\":{\"colorbar\":{\"outlinewidth\":0,\"ticks\":\"\"}}}],\"scattercarpet\":[{\"type\":\"scattercarpet\",\"marker\":{\"colorbar\":{\"outlinewidth\":0,\"ticks\":\"\"}}}],\"carpet\":[{\"aaxis\":{\"endlinecolor\":\"#A2B1C6\",\"gridcolor\":\"#506784\",\"linecolor\":\"#506784\",\"minorgridcolor\":\"#506784\",\"startlinecolor\":\"#A2B1C6\"},\"baxis\":{\"endlinecolor\":\"#A2B1C6\",\"gridcolor\":\"#506784\",\"linecolor\":\"#506784\",\"minorgridcolor\":\"#506784\",\"startlinecolor\":\"#A2B1C6\"},\"type\":\"carpet\"}],\"table\":[{\"cells\":{\"fill\":{\"color\":\"#506784\"},\"line\":{\"color\":\"rgb(17,17,17)\"}},\"header\":{\"fill\":{\"color\":\"#2a3f5f\"},\"line\":{\"color\":\"rgb(17,17,17)\"}},\"type\":\"table\"}],\"barpolar\":[{\"marker\":{\"line\":{\"color\":\"rgb(17,17,17)\",\"width\":0.5},\"pattern\":{\"fillmode\":\"overlay\",\"size\":10,\"solidity\":0.2}},\"type\":\"barpolar\"}],\"pie\":[{\"automargin\":true,\"type\":\"pie\"}]},\"layout\":{\"autotypenumbers\":\"strict\",\"colorway\":[\"#636efa\",\"#EF553B\",\"#00cc96\",\"#ab63fa\",\"#FFA15A\",\"#19d3f3\",\"#FF6692\",\"#B6E880\",\"#FF97FF\",\"#FECB52\"],\"font\":{\"color\":\"#f2f5fa\"},\"hovermode\":\"closest\",\"hoverlabel\":{\"align\":\"left\"},\"paper_bgcolor\":\"rgb(17,17,17)\",\"plot_bgcolor\":\"rgb(17,17,17)\",\"polar\":{\"bgcolor\":\"rgb(17,17,17)\",\"angularaxis\":{\"gridcolor\":\"#506784\",\"linecolor\":\"#506784\",\"ticks\":\"\"},\"radialaxis\":{\"gridcolor\":\"#506784\",\"linecolor\":\"#506784\",\"ticks\":\"\"}},\"ternary\":{\"bgcolor\":\"rgb(17,17,17)\",\"aaxis\":{\"gridcolor\":\"#506784\",\"linecolor\":\"#506784\",\"ticks\":\"\"},\"baxis\":{\"gridcolor\":\"#506784\",\"linecolor\":\"#506784\",\"ticks\":\"\"},\"caxis\":{\"gridcolor\":\"#506784\",\"linecolor\":\"#506784\",\"ticks\":\"\"}},\"coloraxis\":{\"colorbar\":{\"outlinewidth\":0,\"ticks\":\"\"}},\"colorscale\":{\"sequential\":[[0.0,\"#0d0887\"],[0.1111111111111111,\"#46039f\"],[0.2222222222222222,\"#7201a8\"],[0.3333333333333333,\"#9c179e\"],[0.4444444444444444,\"#bd3786\"],[0.5555555555555556,\"#d8576b\"],[0.6666666666666666,\"#ed7953\"],[0.7777777777777778,\"#fb9f3a\"],[0.8888888888888888,\"#fdca26\"],[1.0,\"#f0f921\"]],\"sequentialminus\":[[0.0,\"#0d0887\"],[0.1111111111111111,\"#46039f\"],[0.2222222222222222,\"#7201a8\"],[0.3333333333333333,\"#9c179e\"],[0.4444444444444444,\"#bd3786\"],[0.5555555555555556,\"#d8576b\"],[0.6666666666666666,\"#ed7953\"],[0.7777777777777778,\"#fb9f3a\"],[0.8888888888888888,\"#fdca26\"],[1.0,\"#f0f921\"]],\"diverging\":[[0,\"#8e0152\"],[0.1,\"#c51b7d\"],[0.2,\"#de77ae\"],[0.3,\"#f1b6da\"],[0.4,\"#fde0ef\"],[0.5,\"#f7f7f7\"],[0.6,\"#e6f5d0\"],[0.7,\"#b8e186\"],[0.8,\"#7fbc41\"],[0.9,\"#4d9221\"],[1,\"#276419\"]]},\"xaxis\":{\"gridcolor\":\"#283442\",\"linecolor\":\"#506784\",\"ticks\":\"\",\"title\":{\"standoff\":15},\"zerolinecolor\":\"#283442\",\"automargin\":true,\"zerolinewidth\":2},\"yaxis\":{\"gridcolor\":\"#283442\",\"linecolor\":\"#506784\",\"ticks\":\"\",\"title\":{\"standoff\":15},\"zerolinecolor\":\"#283442\",\"automargin\":true,\"zerolinewidth\":2},\"scene\":{\"xaxis\":{\"backgroundcolor\":\"rgb(17,17,17)\",\"gridcolor\":\"#506784\",\"linecolor\":\"#506784\",\"showbackground\":true,\"ticks\":\"\",\"zerolinecolor\":\"#C8D4E3\",\"gridwidth\":2},\"yaxis\":{\"backgroundcolor\":\"rgb(17,17,17)\",\"gridcolor\":\"#506784\",\"linecolor\":\"#506784\",\"showbackground\":true,\"ticks\":\"\",\"zerolinecolor\":\"#C8D4E3\",\"gridwidth\":2},\"zaxis\":{\"backgroundcolor\":\"rgb(17,17,17)\",\"gridcolor\":\"#506784\",\"linecolor\":\"#506784\",\"showbackground\":true,\"ticks\":\"\",\"zerolinecolor\":\"#C8D4E3\",\"gridwidth\":2}},\"shapedefaults\":{\"line\":{\"color\":\"#f2f5fa\"}},\"annotationdefaults\":{\"arrowcolor\":\"#f2f5fa\",\"arrowhead\":0,\"arrowwidth\":1},\"geo\":{\"bgcolor\":\"rgb(17,17,17)\",\"landcolor\":\"rgb(17,17,17)\",\"subunitcolor\":\"#506784\",\"showland\":true,\"showlakes\":true,\"lakecolor\":\"rgb(17,17,17)\"},\"title\":{\"x\":0.05},\"updatemenudefaults\":{\"bgcolor\":\"#506784\",\"borderwidth\":0},\"sliderdefaults\":{\"bgcolor\":\"#C8D4E3\",\"borderwidth\":1,\"bordercolor\":\"rgb(17,17,17)\",\"tickwidth\":0},\"mapbox\":{\"style\":\"dark\"}}},\"xaxis\":{\"title\":{\"text\":\"Charterer\"}},\"yaxis\":{\"title\":{\"text\":\"Number of available Cargoes\"}}},                        {\"responsive\": true}                    ).then(function(){\n                            \nvar gd = document.getElementById('071382f3-f08d-4f7d-8747-f88e641d8d25');\nvar x = new MutationObserver(function (mutations, observer) {{\n        var display = window.getComputedStyle(gd).display;\n        if (!display || display === 'none') {{\n            console.log([gd, 'removed!']);\n            Plotly.purge(gd);\n            observer.disconnect();\n        }}\n}});\n\n// Listen for the removal of the full notebook cells\nvar notebookContainer = gd.closest('#notebook-container');\nif (notebookContainer) {{\n    x.observe(notebookContainer, {childList: true});\n}}\n\n// Listen for the clearing of the current output cell\nvar outputEl = gd.closest('.output');\nif (outputEl) {{\n    x.observe(outputEl, {childList: true});\n}}\n\n                        })                };                });            </script>        </div>"
     },
     "metadata": {},
     "output_type": "display_data"
    }
   ],
   "source": [
    "top_chrtr_fig = go.Figure()\n",
    "\n",
    "bar = go.Bar(\n",
    "    x=top_chrtr_df.charterer.tolist(),\n",
    "    y=top_chrtr_df.CargoCount.tolist(),\n",
    ")\n",
    "\n",
    "top_chrtr_fig.add_trace(bar)\n",
    "top_chrtr_fig.update_xaxes(title_text=\"Charterer\")\n",
    "top_chrtr_fig.update_yaxes(title_text=\"Number of available Cargoes\")\n",
    "top_chrtr_fig.show()"
   ]
  },
  {
   "cell_type": "markdown",
   "id": "a78da91b",
   "metadata": {
    "scrolled": false,
    "pycharm": {
     "name": "#%% md\n"
    }
   },
   "source": [
    "#### Total quantity to load in specific areas per day the next week"
   ]
  },
  {
   "cell_type": "code",
   "execution_count": 44,
   "id": "afaf5722",
   "metadata": {
    "pycharm": {
     "name": "#%%\n"
    }
   },
   "outputs": [
    {
     "data": {
      "text/plain": "['Spain', 'Arabian Gulf', 'Continent', 'US Gulf', 'Ras Tanura']"
     },
     "execution_count": 44,
     "metadata": {},
     "output_type": "execute_result"
    }
   ],
   "source": [
    "this_week_days = pd.date_range(start=datetime.utcnow().date(), freq='D', periods=7, tz='UTC')\n",
    "areas = data[data.load_name.notna()].load_name.value_counts().head().index.tolist()\n",
    "\n",
    "areas"
   ]
  },
  {
   "cell_type": "markdown",
   "id": "2b2a4640",
   "metadata": {
    "pycharm": {
     "name": "#%% md\n"
    }
   },
   "source": [
    "Create the pivot table"
   ]
  },
  {
   "cell_type": "code",
   "execution_count": 45,
   "id": "640be898",
   "metadata": {
    "pycharm": {
     "name": "#%%\n"
    }
   },
   "outputs": [
    {
     "data": {
      "text/plain": "load_name               laycan_from  Arabian Gulf  Continent  Ras Tanura  \\\n0         2023-09-26 00:00:00+00:00             0          0           0   \n1         2023-09-27 00:00:00+00:00             0          0           0   \n2         2023-09-28 00:00:00+00:00             0          0           0   \n3         2023-09-29 00:00:00+00:00             0          0           0   \n4         2023-09-30 00:00:00+00:00         75000      30000           0   \n5         2023-10-01 00:00:00+00:00       1070000     240000      260000   \n6         2023-10-02 00:00:00+00:00        790000      37000      260000   \n\nload_name   Spain  US Gulf  \n0          120000        0  \n1           90000        0  \n2          180000        0  \n3               0        0  \n4           60000        0  \n5               0   145000  \n6               0        0  ",
      "text/html": "<div>\n<style scoped>\n    .dataframe tbody tr th:only-of-type {\n        vertical-align: middle;\n    }\n\n    .dataframe tbody tr th {\n        vertical-align: top;\n    }\n\n    .dataframe thead th {\n        text-align: right;\n    }\n</style>\n<table border=\"1\" class=\"dataframe\">\n  <thead>\n    <tr style=\"text-align: right;\">\n      <th>load_name</th>\n      <th>laycan_from</th>\n      <th>Arabian Gulf</th>\n      <th>Continent</th>\n      <th>Ras Tanura</th>\n      <th>Spain</th>\n      <th>US Gulf</th>\n    </tr>\n  </thead>\n  <tbody>\n    <tr>\n      <th>0</th>\n      <td>2023-09-26 00:00:00+00:00</td>\n      <td>0</td>\n      <td>0</td>\n      <td>0</td>\n      <td>120000</td>\n      <td>0</td>\n    </tr>\n    <tr>\n      <th>1</th>\n      <td>2023-09-27 00:00:00+00:00</td>\n      <td>0</td>\n      <td>0</td>\n      <td>0</td>\n      <td>90000</td>\n      <td>0</td>\n    </tr>\n    <tr>\n      <th>2</th>\n      <td>2023-09-28 00:00:00+00:00</td>\n      <td>0</td>\n      <td>0</td>\n      <td>0</td>\n      <td>180000</td>\n      <td>0</td>\n    </tr>\n    <tr>\n      <th>3</th>\n      <td>2023-09-29 00:00:00+00:00</td>\n      <td>0</td>\n      <td>0</td>\n      <td>0</td>\n      <td>0</td>\n      <td>0</td>\n    </tr>\n    <tr>\n      <th>4</th>\n      <td>2023-09-30 00:00:00+00:00</td>\n      <td>75000</td>\n      <td>30000</td>\n      <td>0</td>\n      <td>60000</td>\n      <td>0</td>\n    </tr>\n    <tr>\n      <th>5</th>\n      <td>2023-10-01 00:00:00+00:00</td>\n      <td>1070000</td>\n      <td>240000</td>\n      <td>260000</td>\n      <td>0</td>\n      <td>145000</td>\n    </tr>\n    <tr>\n      <th>6</th>\n      <td>2023-10-02 00:00:00+00:00</td>\n      <td>790000</td>\n      <td>37000</td>\n      <td>260000</td>\n      <td>0</td>\n      <td>0</td>\n    </tr>\n  </tbody>\n</table>\n</div>"
     },
     "execution_count": 45,
     "metadata": {},
     "output_type": "execute_result"
    }
   ],
   "source": [
    "areas_mask = data.load_name.isin(areas) & data.laycan_from.isin(this_week_days)\n",
    "\n",
    "df_areas = data[areas_mask]\n",
    "\n",
    "df_pivot = pd.pivot_table(\n",
    "    df_areas,\n",
    "    columns='load_name',\n",
    "    index='laycan_from',\n",
    "    values='quantity',\n",
    "    aggfunc=pd.Series.sum,\n",
    "    fill_value=0,\n",
    ").reindex(index=this_week_days, fill_value=0).reset_index().rename(columns={'index': 'laycan_from'})\n",
    "\n",
    "df_pivot"
   ]
  },
  {
   "cell_type": "markdown",
   "id": "bd6d325c",
   "metadata": {
    "pycharm": {
     "name": "#%% md\n"
    }
   },
   "source": [
    "And display the results as timeseries"
   ]
  },
  {
   "cell_type": "code",
   "execution_count": 46,
   "id": "a6e120ca",
   "metadata": {
    "pycharm": {
     "name": "#%%\n"
    }
   },
   "outputs": [
    {
     "data": {
      "application/vnd.plotly.v1+json": {
       "data": [
        {
         "mode": "lines",
         "name": "Spain",
         "x": [
          "2023-09-26T00:00:00+00:00",
          "2023-09-27T00:00:00+00:00",
          "2023-09-28T00:00:00+00:00",
          "2023-09-29T00:00:00+00:00",
          "2023-09-30T00:00:00+00:00",
          "2023-10-01T00:00:00+00:00",
          "2023-10-02T00:00:00+00:00"
         ],
         "y": [
          120000,
          90000,
          180000,
          0,
          60000,
          0,
          0
         ],
         "type": "scatter"
        },
        {
         "mode": "lines",
         "name": "Arabian Gulf",
         "x": [
          "2023-09-26T00:00:00+00:00",
          "2023-09-27T00:00:00+00:00",
          "2023-09-28T00:00:00+00:00",
          "2023-09-29T00:00:00+00:00",
          "2023-09-30T00:00:00+00:00",
          "2023-10-01T00:00:00+00:00",
          "2023-10-02T00:00:00+00:00"
         ],
         "y": [
          0,
          0,
          0,
          0,
          75000,
          1070000,
          790000
         ],
         "type": "scatter"
        },
        {
         "mode": "lines",
         "name": "Continent",
         "x": [
          "2023-09-26T00:00:00+00:00",
          "2023-09-27T00:00:00+00:00",
          "2023-09-28T00:00:00+00:00",
          "2023-09-29T00:00:00+00:00",
          "2023-09-30T00:00:00+00:00",
          "2023-10-01T00:00:00+00:00",
          "2023-10-02T00:00:00+00:00"
         ],
         "y": [
          0,
          0,
          0,
          0,
          30000,
          240000,
          37000
         ],
         "type": "scatter"
        },
        {
         "mode": "lines",
         "name": "US Gulf",
         "x": [
          "2023-09-26T00:00:00+00:00",
          "2023-09-27T00:00:00+00:00",
          "2023-09-28T00:00:00+00:00",
          "2023-09-29T00:00:00+00:00",
          "2023-09-30T00:00:00+00:00",
          "2023-10-01T00:00:00+00:00",
          "2023-10-02T00:00:00+00:00"
         ],
         "y": [
          0,
          0,
          0,
          0,
          0,
          145000,
          0
         ],
         "type": "scatter"
        },
        {
         "mode": "lines",
         "name": "Ras Tanura",
         "x": [
          "2023-09-26T00:00:00+00:00",
          "2023-09-27T00:00:00+00:00",
          "2023-09-28T00:00:00+00:00",
          "2023-09-29T00:00:00+00:00",
          "2023-09-30T00:00:00+00:00",
          "2023-10-01T00:00:00+00:00",
          "2023-10-02T00:00:00+00:00"
         ],
         "y": [
          0,
          0,
          0,
          0,
          0,
          260000,
          260000
         ],
         "type": "scatter"
        }
       ],
       "layout": {
        "template": {
         "data": {
          "histogram2dcontour": [
           {
            "type": "histogram2dcontour",
            "colorbar": {
             "outlinewidth": 0,
             "ticks": ""
            },
            "colorscale": [
             [
              0.0,
              "#0d0887"
             ],
             [
              0.1111111111111111,
              "#46039f"
             ],
             [
              0.2222222222222222,
              "#7201a8"
             ],
             [
              0.3333333333333333,
              "#9c179e"
             ],
             [
              0.4444444444444444,
              "#bd3786"
             ],
             [
              0.5555555555555556,
              "#d8576b"
             ],
             [
              0.6666666666666666,
              "#ed7953"
             ],
             [
              0.7777777777777778,
              "#fb9f3a"
             ],
             [
              0.8888888888888888,
              "#fdca26"
             ],
             [
              1.0,
              "#f0f921"
             ]
            ]
           }
          ],
          "choropleth": [
           {
            "type": "choropleth",
            "colorbar": {
             "outlinewidth": 0,
             "ticks": ""
            }
           }
          ],
          "histogram2d": [
           {
            "type": "histogram2d",
            "colorbar": {
             "outlinewidth": 0,
             "ticks": ""
            },
            "colorscale": [
             [
              0.0,
              "#0d0887"
             ],
             [
              0.1111111111111111,
              "#46039f"
             ],
             [
              0.2222222222222222,
              "#7201a8"
             ],
             [
              0.3333333333333333,
              "#9c179e"
             ],
             [
              0.4444444444444444,
              "#bd3786"
             ],
             [
              0.5555555555555556,
              "#d8576b"
             ],
             [
              0.6666666666666666,
              "#ed7953"
             ],
             [
              0.7777777777777778,
              "#fb9f3a"
             ],
             [
              0.8888888888888888,
              "#fdca26"
             ],
             [
              1.0,
              "#f0f921"
             ]
            ]
           }
          ],
          "heatmap": [
           {
            "type": "heatmap",
            "colorbar": {
             "outlinewidth": 0,
             "ticks": ""
            },
            "colorscale": [
             [
              0.0,
              "#0d0887"
             ],
             [
              0.1111111111111111,
              "#46039f"
             ],
             [
              0.2222222222222222,
              "#7201a8"
             ],
             [
              0.3333333333333333,
              "#9c179e"
             ],
             [
              0.4444444444444444,
              "#bd3786"
             ],
             [
              0.5555555555555556,
              "#d8576b"
             ],
             [
              0.6666666666666666,
              "#ed7953"
             ],
             [
              0.7777777777777778,
              "#fb9f3a"
             ],
             [
              0.8888888888888888,
              "#fdca26"
             ],
             [
              1.0,
              "#f0f921"
             ]
            ]
           }
          ],
          "heatmapgl": [
           {
            "type": "heatmapgl",
            "colorbar": {
             "outlinewidth": 0,
             "ticks": ""
            },
            "colorscale": [
             [
              0.0,
              "#0d0887"
             ],
             [
              0.1111111111111111,
              "#46039f"
             ],
             [
              0.2222222222222222,
              "#7201a8"
             ],
             [
              0.3333333333333333,
              "#9c179e"
             ],
             [
              0.4444444444444444,
              "#bd3786"
             ],
             [
              0.5555555555555556,
              "#d8576b"
             ],
             [
              0.6666666666666666,
              "#ed7953"
             ],
             [
              0.7777777777777778,
              "#fb9f3a"
             ],
             [
              0.8888888888888888,
              "#fdca26"
             ],
             [
              1.0,
              "#f0f921"
             ]
            ]
           }
          ],
          "contourcarpet": [
           {
            "type": "contourcarpet",
            "colorbar": {
             "outlinewidth": 0,
             "ticks": ""
            }
           }
          ],
          "contour": [
           {
            "type": "contour",
            "colorbar": {
             "outlinewidth": 0,
             "ticks": ""
            },
            "colorscale": [
             [
              0.0,
              "#0d0887"
             ],
             [
              0.1111111111111111,
              "#46039f"
             ],
             [
              0.2222222222222222,
              "#7201a8"
             ],
             [
              0.3333333333333333,
              "#9c179e"
             ],
             [
              0.4444444444444444,
              "#bd3786"
             ],
             [
              0.5555555555555556,
              "#d8576b"
             ],
             [
              0.6666666666666666,
              "#ed7953"
             ],
             [
              0.7777777777777778,
              "#fb9f3a"
             ],
             [
              0.8888888888888888,
              "#fdca26"
             ],
             [
              1.0,
              "#f0f921"
             ]
            ]
           }
          ],
          "surface": [
           {
            "type": "surface",
            "colorbar": {
             "outlinewidth": 0,
             "ticks": ""
            },
            "colorscale": [
             [
              0.0,
              "#0d0887"
             ],
             [
              0.1111111111111111,
              "#46039f"
             ],
             [
              0.2222222222222222,
              "#7201a8"
             ],
             [
              0.3333333333333333,
              "#9c179e"
             ],
             [
              0.4444444444444444,
              "#bd3786"
             ],
             [
              0.5555555555555556,
              "#d8576b"
             ],
             [
              0.6666666666666666,
              "#ed7953"
             ],
             [
              0.7777777777777778,
              "#fb9f3a"
             ],
             [
              0.8888888888888888,
              "#fdca26"
             ],
             [
              1.0,
              "#f0f921"
             ]
            ]
           }
          ],
          "mesh3d": [
           {
            "type": "mesh3d",
            "colorbar": {
             "outlinewidth": 0,
             "ticks": ""
            }
           }
          ],
          "scatter": [
           {
            "marker": {
             "line": {
              "color": "#283442"
             }
            },
            "type": "scatter"
           }
          ],
          "parcoords": [
           {
            "type": "parcoords",
            "line": {
             "colorbar": {
              "outlinewidth": 0,
              "ticks": ""
             }
            }
           }
          ],
          "scatterpolargl": [
           {
            "type": "scatterpolargl",
            "marker": {
             "colorbar": {
              "outlinewidth": 0,
              "ticks": ""
             }
            }
           }
          ],
          "bar": [
           {
            "error_x": {
             "color": "#f2f5fa"
            },
            "error_y": {
             "color": "#f2f5fa"
            },
            "marker": {
             "line": {
              "color": "rgb(17,17,17)",
              "width": 0.5
             },
             "pattern": {
              "fillmode": "overlay",
              "size": 10,
              "solidity": 0.2
             }
            },
            "type": "bar"
           }
          ],
          "scattergeo": [
           {
            "type": "scattergeo",
            "marker": {
             "colorbar": {
              "outlinewidth": 0,
              "ticks": ""
             }
            }
           }
          ],
          "scatterpolar": [
           {
            "type": "scatterpolar",
            "marker": {
             "colorbar": {
              "outlinewidth": 0,
              "ticks": ""
             }
            }
           }
          ],
          "histogram": [
           {
            "marker": {
             "pattern": {
              "fillmode": "overlay",
              "size": 10,
              "solidity": 0.2
             }
            },
            "type": "histogram"
           }
          ],
          "scattergl": [
           {
            "marker": {
             "line": {
              "color": "#283442"
             }
            },
            "type": "scattergl"
           }
          ],
          "scatter3d": [
           {
            "type": "scatter3d",
            "line": {
             "colorbar": {
              "outlinewidth": 0,
              "ticks": ""
             }
            },
            "marker": {
             "colorbar": {
              "outlinewidth": 0,
              "ticks": ""
             }
            }
           }
          ],
          "scattermapbox": [
           {
            "type": "scattermapbox",
            "marker": {
             "colorbar": {
              "outlinewidth": 0,
              "ticks": ""
             }
            }
           }
          ],
          "scatterternary": [
           {
            "type": "scatterternary",
            "marker": {
             "colorbar": {
              "outlinewidth": 0,
              "ticks": ""
             }
            }
           }
          ],
          "scattercarpet": [
           {
            "type": "scattercarpet",
            "marker": {
             "colorbar": {
              "outlinewidth": 0,
              "ticks": ""
             }
            }
           }
          ],
          "carpet": [
           {
            "aaxis": {
             "endlinecolor": "#A2B1C6",
             "gridcolor": "#506784",
             "linecolor": "#506784",
             "minorgridcolor": "#506784",
             "startlinecolor": "#A2B1C6"
            },
            "baxis": {
             "endlinecolor": "#A2B1C6",
             "gridcolor": "#506784",
             "linecolor": "#506784",
             "minorgridcolor": "#506784",
             "startlinecolor": "#A2B1C6"
            },
            "type": "carpet"
           }
          ],
          "table": [
           {
            "cells": {
             "fill": {
              "color": "#506784"
             },
             "line": {
              "color": "rgb(17,17,17)"
             }
            },
            "header": {
             "fill": {
              "color": "#2a3f5f"
             },
             "line": {
              "color": "rgb(17,17,17)"
             }
            },
            "type": "table"
           }
          ],
          "barpolar": [
           {
            "marker": {
             "line": {
              "color": "rgb(17,17,17)",
              "width": 0.5
             },
             "pattern": {
              "fillmode": "overlay",
              "size": 10,
              "solidity": 0.2
             }
            },
            "type": "barpolar"
           }
          ],
          "pie": [
           {
            "automargin": true,
            "type": "pie"
           }
          ]
         },
         "layout": {
          "autotypenumbers": "strict",
          "colorway": [
           "#636efa",
           "#EF553B",
           "#00cc96",
           "#ab63fa",
           "#FFA15A",
           "#19d3f3",
           "#FF6692",
           "#B6E880",
           "#FF97FF",
           "#FECB52"
          ],
          "font": {
           "color": "#f2f5fa"
          },
          "hovermode": "closest",
          "hoverlabel": {
           "align": "left"
          },
          "paper_bgcolor": "rgb(17,17,17)",
          "plot_bgcolor": "rgb(17,17,17)",
          "polar": {
           "bgcolor": "rgb(17,17,17)",
           "angularaxis": {
            "gridcolor": "#506784",
            "linecolor": "#506784",
            "ticks": ""
           },
           "radialaxis": {
            "gridcolor": "#506784",
            "linecolor": "#506784",
            "ticks": ""
           }
          },
          "ternary": {
           "bgcolor": "rgb(17,17,17)",
           "aaxis": {
            "gridcolor": "#506784",
            "linecolor": "#506784",
            "ticks": ""
           },
           "baxis": {
            "gridcolor": "#506784",
            "linecolor": "#506784",
            "ticks": ""
           },
           "caxis": {
            "gridcolor": "#506784",
            "linecolor": "#506784",
            "ticks": ""
           }
          },
          "coloraxis": {
           "colorbar": {
            "outlinewidth": 0,
            "ticks": ""
           }
          },
          "colorscale": {
           "sequential": [
            [
             0.0,
             "#0d0887"
            ],
            [
             0.1111111111111111,
             "#46039f"
            ],
            [
             0.2222222222222222,
             "#7201a8"
            ],
            [
             0.3333333333333333,
             "#9c179e"
            ],
            [
             0.4444444444444444,
             "#bd3786"
            ],
            [
             0.5555555555555556,
             "#d8576b"
            ],
            [
             0.6666666666666666,
             "#ed7953"
            ],
            [
             0.7777777777777778,
             "#fb9f3a"
            ],
            [
             0.8888888888888888,
             "#fdca26"
            ],
            [
             1.0,
             "#f0f921"
            ]
           ],
           "sequentialminus": [
            [
             0.0,
             "#0d0887"
            ],
            [
             0.1111111111111111,
             "#46039f"
            ],
            [
             0.2222222222222222,
             "#7201a8"
            ],
            [
             0.3333333333333333,
             "#9c179e"
            ],
            [
             0.4444444444444444,
             "#bd3786"
            ],
            [
             0.5555555555555556,
             "#d8576b"
            ],
            [
             0.6666666666666666,
             "#ed7953"
            ],
            [
             0.7777777777777778,
             "#fb9f3a"
            ],
            [
             0.8888888888888888,
             "#fdca26"
            ],
            [
             1.0,
             "#f0f921"
            ]
           ],
           "diverging": [
            [
             0,
             "#8e0152"
            ],
            [
             0.1,
             "#c51b7d"
            ],
            [
             0.2,
             "#de77ae"
            ],
            [
             0.3,
             "#f1b6da"
            ],
            [
             0.4,
             "#fde0ef"
            ],
            [
             0.5,
             "#f7f7f7"
            ],
            [
             0.6,
             "#e6f5d0"
            ],
            [
             0.7,
             "#b8e186"
            ],
            [
             0.8,
             "#7fbc41"
            ],
            [
             0.9,
             "#4d9221"
            ],
            [
             1,
             "#276419"
            ]
           ]
          },
          "xaxis": {
           "gridcolor": "#283442",
           "linecolor": "#506784",
           "ticks": "",
           "title": {
            "standoff": 15
           },
           "zerolinecolor": "#283442",
           "automargin": true,
           "zerolinewidth": 2
          },
          "yaxis": {
           "gridcolor": "#283442",
           "linecolor": "#506784",
           "ticks": "",
           "title": {
            "standoff": 15
           },
           "zerolinecolor": "#283442",
           "automargin": true,
           "zerolinewidth": 2
          },
          "scene": {
           "xaxis": {
            "backgroundcolor": "rgb(17,17,17)",
            "gridcolor": "#506784",
            "linecolor": "#506784",
            "showbackground": true,
            "ticks": "",
            "zerolinecolor": "#C8D4E3",
            "gridwidth": 2
           },
           "yaxis": {
            "backgroundcolor": "rgb(17,17,17)",
            "gridcolor": "#506784",
            "linecolor": "#506784",
            "showbackground": true,
            "ticks": "",
            "zerolinecolor": "#C8D4E3",
            "gridwidth": 2
           },
           "zaxis": {
            "backgroundcolor": "rgb(17,17,17)",
            "gridcolor": "#506784",
            "linecolor": "#506784",
            "showbackground": true,
            "ticks": "",
            "zerolinecolor": "#C8D4E3",
            "gridwidth": 2
           }
          },
          "shapedefaults": {
           "line": {
            "color": "#f2f5fa"
           }
          },
          "annotationdefaults": {
           "arrowcolor": "#f2f5fa",
           "arrowhead": 0,
           "arrowwidth": 1
          },
          "geo": {
           "bgcolor": "rgb(17,17,17)",
           "landcolor": "rgb(17,17,17)",
           "subunitcolor": "#506784",
           "showland": true,
           "showlakes": true,
           "lakecolor": "rgb(17,17,17)"
          },
          "title": {
           "x": 0.05
          },
          "updatemenudefaults": {
           "bgcolor": "#506784",
           "borderwidth": 0
          },
          "sliderdefaults": {
           "bgcolor": "#C8D4E3",
           "borderwidth": 1,
           "bordercolor": "rgb(17,17,17)",
           "tickwidth": 0
          },
          "mapbox": {
           "style": "dark"
          }
         }
        },
        "xaxis": {
         "range": [
          "2023-09-25T20:00:00",
          "2023-10-02T04:00:00"
         ]
        },
        "title": {
         "text": "Total Quantity to load per day"
        },
        "updatemenus": [
         {
          "active": 0,
          "buttons": [
           {
            "args": [
             {
              "visible": [
               true,
               true,
               true,
               true,
               true
              ]
             },
             {
              "title": "Total Quantity to load per day",
              "showlegend": true
             }
            ],
            "label": "All",
            "method": "update"
           },
           {
            "args": [
             {
              "visible": [
               true,
               false,
               false,
               false,
               false
              ]
             },
             {
              "title": "Total Quantity to load in Spain per day",
              "showlegend": true
             }
            ],
            "label": "Spain",
            "method": "update"
           },
           {
            "args": [
             {
              "visible": [
               false,
               true,
               false,
               false,
               false
              ]
             },
             {
              "title": "Total Quantity to load in Arabian Gulf per day",
              "showlegend": true
             }
            ],
            "label": "Arabian Gulf",
            "method": "update"
           },
           {
            "args": [
             {
              "visible": [
               false,
               false,
               true,
               false,
               false
              ]
             },
             {
              "title": "Total Quantity to load in Continent per day",
              "showlegend": true
             }
            ],
            "label": "Continent",
            "method": "update"
           },
           {
            "args": [
             {
              "visible": [
               false,
               false,
               false,
               true,
               false
              ]
             },
             {
              "title": "Total Quantity to load in US Gulf per day",
              "showlegend": true
             }
            ],
            "label": "US Gulf",
            "method": "update"
           },
           {
            "args": [
             {
              "visible": [
               false,
               false,
               false,
               false,
               true
              ]
             },
             {
              "title": "Total Quantity to load in Ras Tanura per day",
              "showlegend": true
             }
            ],
            "label": "Ras Tanura",
            "method": "update"
           }
          ]
         }
        ]
       },
       "config": {
        "plotlyServerURL": "https://plot.ly"
       }
      },
      "text/html": "<div>                            <div id=\"ed7648da-ed9d-4135-b2a9-32e047c74cbd\" class=\"plotly-graph-div\" style=\"height:525px; width:100%;\"></div>            <script type=\"text/javascript\">                require([\"plotly\"], function(Plotly) {                    window.PLOTLYENV=window.PLOTLYENV || {};                                    if (document.getElementById(\"ed7648da-ed9d-4135-b2a9-32e047c74cbd\")) {                    Plotly.newPlot(                        \"ed7648da-ed9d-4135-b2a9-32e047c74cbd\",                        [{\"mode\":\"lines\",\"name\":\"Spain\",\"x\":[\"2023-09-26T00:00:00+00:00\",\"2023-09-27T00:00:00+00:00\",\"2023-09-28T00:00:00+00:00\",\"2023-09-29T00:00:00+00:00\",\"2023-09-30T00:00:00+00:00\",\"2023-10-01T00:00:00+00:00\",\"2023-10-02T00:00:00+00:00\"],\"y\":[120000,90000,180000,0,60000,0,0],\"type\":\"scatter\"},{\"mode\":\"lines\",\"name\":\"Arabian Gulf\",\"x\":[\"2023-09-26T00:00:00+00:00\",\"2023-09-27T00:00:00+00:00\",\"2023-09-28T00:00:00+00:00\",\"2023-09-29T00:00:00+00:00\",\"2023-09-30T00:00:00+00:00\",\"2023-10-01T00:00:00+00:00\",\"2023-10-02T00:00:00+00:00\"],\"y\":[0,0,0,0,75000,1070000,790000],\"type\":\"scatter\"},{\"mode\":\"lines\",\"name\":\"Continent\",\"x\":[\"2023-09-26T00:00:00+00:00\",\"2023-09-27T00:00:00+00:00\",\"2023-09-28T00:00:00+00:00\",\"2023-09-29T00:00:00+00:00\",\"2023-09-30T00:00:00+00:00\",\"2023-10-01T00:00:00+00:00\",\"2023-10-02T00:00:00+00:00\"],\"y\":[0,0,0,0,30000,240000,37000],\"type\":\"scatter\"},{\"mode\":\"lines\",\"name\":\"US Gulf\",\"x\":[\"2023-09-26T00:00:00+00:00\",\"2023-09-27T00:00:00+00:00\",\"2023-09-28T00:00:00+00:00\",\"2023-09-29T00:00:00+00:00\",\"2023-09-30T00:00:00+00:00\",\"2023-10-01T00:00:00+00:00\",\"2023-10-02T00:00:00+00:00\"],\"y\":[0,0,0,0,0,145000,0],\"type\":\"scatter\"},{\"mode\":\"lines\",\"name\":\"Ras Tanura\",\"x\":[\"2023-09-26T00:00:00+00:00\",\"2023-09-27T00:00:00+00:00\",\"2023-09-28T00:00:00+00:00\",\"2023-09-29T00:00:00+00:00\",\"2023-09-30T00:00:00+00:00\",\"2023-10-01T00:00:00+00:00\",\"2023-10-02T00:00:00+00:00\"],\"y\":[0,0,0,0,0,260000,260000],\"type\":\"scatter\"}],                        {\"template\":{\"data\":{\"histogram2dcontour\":[{\"type\":\"histogram2dcontour\",\"colorbar\":{\"outlinewidth\":0,\"ticks\":\"\"},\"colorscale\":[[0.0,\"#0d0887\"],[0.1111111111111111,\"#46039f\"],[0.2222222222222222,\"#7201a8\"],[0.3333333333333333,\"#9c179e\"],[0.4444444444444444,\"#bd3786\"],[0.5555555555555556,\"#d8576b\"],[0.6666666666666666,\"#ed7953\"],[0.7777777777777778,\"#fb9f3a\"],[0.8888888888888888,\"#fdca26\"],[1.0,\"#f0f921\"]]}],\"choropleth\":[{\"type\":\"choropleth\",\"colorbar\":{\"outlinewidth\":0,\"ticks\":\"\"}}],\"histogram2d\":[{\"type\":\"histogram2d\",\"colorbar\":{\"outlinewidth\":0,\"ticks\":\"\"},\"colorscale\":[[0.0,\"#0d0887\"],[0.1111111111111111,\"#46039f\"],[0.2222222222222222,\"#7201a8\"],[0.3333333333333333,\"#9c179e\"],[0.4444444444444444,\"#bd3786\"],[0.5555555555555556,\"#d8576b\"],[0.6666666666666666,\"#ed7953\"],[0.7777777777777778,\"#fb9f3a\"],[0.8888888888888888,\"#fdca26\"],[1.0,\"#f0f921\"]]}],\"heatmap\":[{\"type\":\"heatmap\",\"colorbar\":{\"outlinewidth\":0,\"ticks\":\"\"},\"colorscale\":[[0.0,\"#0d0887\"],[0.1111111111111111,\"#46039f\"],[0.2222222222222222,\"#7201a8\"],[0.3333333333333333,\"#9c179e\"],[0.4444444444444444,\"#bd3786\"],[0.5555555555555556,\"#d8576b\"],[0.6666666666666666,\"#ed7953\"],[0.7777777777777778,\"#fb9f3a\"],[0.8888888888888888,\"#fdca26\"],[1.0,\"#f0f921\"]]}],\"heatmapgl\":[{\"type\":\"heatmapgl\",\"colorbar\":{\"outlinewidth\":0,\"ticks\":\"\"},\"colorscale\":[[0.0,\"#0d0887\"],[0.1111111111111111,\"#46039f\"],[0.2222222222222222,\"#7201a8\"],[0.3333333333333333,\"#9c179e\"],[0.4444444444444444,\"#bd3786\"],[0.5555555555555556,\"#d8576b\"],[0.6666666666666666,\"#ed7953\"],[0.7777777777777778,\"#fb9f3a\"],[0.8888888888888888,\"#fdca26\"],[1.0,\"#f0f921\"]]}],\"contourcarpet\":[{\"type\":\"contourcarpet\",\"colorbar\":{\"outlinewidth\":0,\"ticks\":\"\"}}],\"contour\":[{\"type\":\"contour\",\"colorbar\":{\"outlinewidth\":0,\"ticks\":\"\"},\"colorscale\":[[0.0,\"#0d0887\"],[0.1111111111111111,\"#46039f\"],[0.2222222222222222,\"#7201a8\"],[0.3333333333333333,\"#9c179e\"],[0.4444444444444444,\"#bd3786\"],[0.5555555555555556,\"#d8576b\"],[0.6666666666666666,\"#ed7953\"],[0.7777777777777778,\"#fb9f3a\"],[0.8888888888888888,\"#fdca26\"],[1.0,\"#f0f921\"]]}],\"surface\":[{\"type\":\"surface\",\"colorbar\":{\"outlinewidth\":0,\"ticks\":\"\"},\"colorscale\":[[0.0,\"#0d0887\"],[0.1111111111111111,\"#46039f\"],[0.2222222222222222,\"#7201a8\"],[0.3333333333333333,\"#9c179e\"],[0.4444444444444444,\"#bd3786\"],[0.5555555555555556,\"#d8576b\"],[0.6666666666666666,\"#ed7953\"],[0.7777777777777778,\"#fb9f3a\"],[0.8888888888888888,\"#fdca26\"],[1.0,\"#f0f921\"]]}],\"mesh3d\":[{\"type\":\"mesh3d\",\"colorbar\":{\"outlinewidth\":0,\"ticks\":\"\"}}],\"scatter\":[{\"marker\":{\"line\":{\"color\":\"#283442\"}},\"type\":\"scatter\"}],\"parcoords\":[{\"type\":\"parcoords\",\"line\":{\"colorbar\":{\"outlinewidth\":0,\"ticks\":\"\"}}}],\"scatterpolargl\":[{\"type\":\"scatterpolargl\",\"marker\":{\"colorbar\":{\"outlinewidth\":0,\"ticks\":\"\"}}}],\"bar\":[{\"error_x\":{\"color\":\"#f2f5fa\"},\"error_y\":{\"color\":\"#f2f5fa\"},\"marker\":{\"line\":{\"color\":\"rgb(17,17,17)\",\"width\":0.5},\"pattern\":{\"fillmode\":\"overlay\",\"size\":10,\"solidity\":0.2}},\"type\":\"bar\"}],\"scattergeo\":[{\"type\":\"scattergeo\",\"marker\":{\"colorbar\":{\"outlinewidth\":0,\"ticks\":\"\"}}}],\"scatterpolar\":[{\"type\":\"scatterpolar\",\"marker\":{\"colorbar\":{\"outlinewidth\":0,\"ticks\":\"\"}}}],\"histogram\":[{\"marker\":{\"pattern\":{\"fillmode\":\"overlay\",\"size\":10,\"solidity\":0.2}},\"type\":\"histogram\"}],\"scattergl\":[{\"marker\":{\"line\":{\"color\":\"#283442\"}},\"type\":\"scattergl\"}],\"scatter3d\":[{\"type\":\"scatter3d\",\"line\":{\"colorbar\":{\"outlinewidth\":0,\"ticks\":\"\"}},\"marker\":{\"colorbar\":{\"outlinewidth\":0,\"ticks\":\"\"}}}],\"scattermapbox\":[{\"type\":\"scattermapbox\",\"marker\":{\"colorbar\":{\"outlinewidth\":0,\"ticks\":\"\"}}}],\"scatterternary\":[{\"type\":\"scatterternary\",\"marker\":{\"colorbar\":{\"outlinewidth\":0,\"ticks\":\"\"}}}],\"scattercarpet\":[{\"type\":\"scattercarpet\",\"marker\":{\"colorbar\":{\"outlinewidth\":0,\"ticks\":\"\"}}}],\"carpet\":[{\"aaxis\":{\"endlinecolor\":\"#A2B1C6\",\"gridcolor\":\"#506784\",\"linecolor\":\"#506784\",\"minorgridcolor\":\"#506784\",\"startlinecolor\":\"#A2B1C6\"},\"baxis\":{\"endlinecolor\":\"#A2B1C6\",\"gridcolor\":\"#506784\",\"linecolor\":\"#506784\",\"minorgridcolor\":\"#506784\",\"startlinecolor\":\"#A2B1C6\"},\"type\":\"carpet\"}],\"table\":[{\"cells\":{\"fill\":{\"color\":\"#506784\"},\"line\":{\"color\":\"rgb(17,17,17)\"}},\"header\":{\"fill\":{\"color\":\"#2a3f5f\"},\"line\":{\"color\":\"rgb(17,17,17)\"}},\"type\":\"table\"}],\"barpolar\":[{\"marker\":{\"line\":{\"color\":\"rgb(17,17,17)\",\"width\":0.5},\"pattern\":{\"fillmode\":\"overlay\",\"size\":10,\"solidity\":0.2}},\"type\":\"barpolar\"}],\"pie\":[{\"automargin\":true,\"type\":\"pie\"}]},\"layout\":{\"autotypenumbers\":\"strict\",\"colorway\":[\"#636efa\",\"#EF553B\",\"#00cc96\",\"#ab63fa\",\"#FFA15A\",\"#19d3f3\",\"#FF6692\",\"#B6E880\",\"#FF97FF\",\"#FECB52\"],\"font\":{\"color\":\"#f2f5fa\"},\"hovermode\":\"closest\",\"hoverlabel\":{\"align\":\"left\"},\"paper_bgcolor\":\"rgb(17,17,17)\",\"plot_bgcolor\":\"rgb(17,17,17)\",\"polar\":{\"bgcolor\":\"rgb(17,17,17)\",\"angularaxis\":{\"gridcolor\":\"#506784\",\"linecolor\":\"#506784\",\"ticks\":\"\"},\"radialaxis\":{\"gridcolor\":\"#506784\",\"linecolor\":\"#506784\",\"ticks\":\"\"}},\"ternary\":{\"bgcolor\":\"rgb(17,17,17)\",\"aaxis\":{\"gridcolor\":\"#506784\",\"linecolor\":\"#506784\",\"ticks\":\"\"},\"baxis\":{\"gridcolor\":\"#506784\",\"linecolor\":\"#506784\",\"ticks\":\"\"},\"caxis\":{\"gridcolor\":\"#506784\",\"linecolor\":\"#506784\",\"ticks\":\"\"}},\"coloraxis\":{\"colorbar\":{\"outlinewidth\":0,\"ticks\":\"\"}},\"colorscale\":{\"sequential\":[[0.0,\"#0d0887\"],[0.1111111111111111,\"#46039f\"],[0.2222222222222222,\"#7201a8\"],[0.3333333333333333,\"#9c179e\"],[0.4444444444444444,\"#bd3786\"],[0.5555555555555556,\"#d8576b\"],[0.6666666666666666,\"#ed7953\"],[0.7777777777777778,\"#fb9f3a\"],[0.8888888888888888,\"#fdca26\"],[1.0,\"#f0f921\"]],\"sequentialminus\":[[0.0,\"#0d0887\"],[0.1111111111111111,\"#46039f\"],[0.2222222222222222,\"#7201a8\"],[0.3333333333333333,\"#9c179e\"],[0.4444444444444444,\"#bd3786\"],[0.5555555555555556,\"#d8576b\"],[0.6666666666666666,\"#ed7953\"],[0.7777777777777778,\"#fb9f3a\"],[0.8888888888888888,\"#fdca26\"],[1.0,\"#f0f921\"]],\"diverging\":[[0,\"#8e0152\"],[0.1,\"#c51b7d\"],[0.2,\"#de77ae\"],[0.3,\"#f1b6da\"],[0.4,\"#fde0ef\"],[0.5,\"#f7f7f7\"],[0.6,\"#e6f5d0\"],[0.7,\"#b8e186\"],[0.8,\"#7fbc41\"],[0.9,\"#4d9221\"],[1,\"#276419\"]]},\"xaxis\":{\"gridcolor\":\"#283442\",\"linecolor\":\"#506784\",\"ticks\":\"\",\"title\":{\"standoff\":15},\"zerolinecolor\":\"#283442\",\"automargin\":true,\"zerolinewidth\":2},\"yaxis\":{\"gridcolor\":\"#283442\",\"linecolor\":\"#506784\",\"ticks\":\"\",\"title\":{\"standoff\":15},\"zerolinecolor\":\"#283442\",\"automargin\":true,\"zerolinewidth\":2},\"scene\":{\"xaxis\":{\"backgroundcolor\":\"rgb(17,17,17)\",\"gridcolor\":\"#506784\",\"linecolor\":\"#506784\",\"showbackground\":true,\"ticks\":\"\",\"zerolinecolor\":\"#C8D4E3\",\"gridwidth\":2},\"yaxis\":{\"backgroundcolor\":\"rgb(17,17,17)\",\"gridcolor\":\"#506784\",\"linecolor\":\"#506784\",\"showbackground\":true,\"ticks\":\"\",\"zerolinecolor\":\"#C8D4E3\",\"gridwidth\":2},\"zaxis\":{\"backgroundcolor\":\"rgb(17,17,17)\",\"gridcolor\":\"#506784\",\"linecolor\":\"#506784\",\"showbackground\":true,\"ticks\":\"\",\"zerolinecolor\":\"#C8D4E3\",\"gridwidth\":2}},\"shapedefaults\":{\"line\":{\"color\":\"#f2f5fa\"}},\"annotationdefaults\":{\"arrowcolor\":\"#f2f5fa\",\"arrowhead\":0,\"arrowwidth\":1},\"geo\":{\"bgcolor\":\"rgb(17,17,17)\",\"landcolor\":\"rgb(17,17,17)\",\"subunitcolor\":\"#506784\",\"showland\":true,\"showlakes\":true,\"lakecolor\":\"rgb(17,17,17)\"},\"title\":{\"x\":0.05},\"updatemenudefaults\":{\"bgcolor\":\"#506784\",\"borderwidth\":0},\"sliderdefaults\":{\"bgcolor\":\"#C8D4E3\",\"borderwidth\":1,\"bordercolor\":\"rgb(17,17,17)\",\"tickwidth\":0},\"mapbox\":{\"style\":\"dark\"}}},\"xaxis\":{\"range\":[\"2023-09-25T20:00:00\",\"2023-10-02T04:00:00\"]},\"title\":{\"text\":\"Total Quantity to load per day\"},\"updatemenus\":[{\"active\":0,\"buttons\":[{\"args\":[{\"visible\":[true,true,true,true,true]},{\"title\":\"Total Quantity to load per day\",\"showlegend\":true}],\"label\":\"All\",\"method\":\"update\"},{\"args\":[{\"visible\":[true,false,false,false,false]},{\"title\":\"Total Quantity to load in Spain per day\",\"showlegend\":true}],\"label\":\"Spain\",\"method\":\"update\"},{\"args\":[{\"visible\":[false,true,false,false,false]},{\"title\":\"Total Quantity to load in Arabian Gulf per day\",\"showlegend\":true}],\"label\":\"Arabian Gulf\",\"method\":\"update\"},{\"args\":[{\"visible\":[false,false,true,false,false]},{\"title\":\"Total Quantity to load in Continent per day\",\"showlegend\":true}],\"label\":\"Continent\",\"method\":\"update\"},{\"args\":[{\"visible\":[false,false,false,true,false]},{\"title\":\"Total Quantity to load in US Gulf per day\",\"showlegend\":true}],\"label\":\"US Gulf\",\"method\":\"update\"},{\"args\":[{\"visible\":[false,false,false,false,true]},{\"title\":\"Total Quantity to load in Ras Tanura per day\",\"showlegend\":true}],\"label\":\"Ras Tanura\",\"method\":\"update\"}]}]},                        {\"responsive\": true}                    ).then(function(){\n                            \nvar gd = document.getElementById('ed7648da-ed9d-4135-b2a9-32e047c74cbd');\nvar x = new MutationObserver(function (mutations, observer) {{\n        var display = window.getComputedStyle(gd).display;\n        if (!display || display === 'none') {{\n            console.log([gd, 'removed!']);\n            Plotly.purge(gd);\n            observer.disconnect();\n        }}\n}});\n\n// Listen for the removal of the full notebook cells\nvar notebookContainer = gd.closest('#notebook-container');\nif (notebookContainer) {{\n    x.observe(notebookContainer, {childList: true});\n}}\n\n// Listen for the clearing of the current output cell\nvar outputEl = gd.closest('.output');\nif (outputEl) {{\n    x.observe(outputEl, {childList: true});\n}}\n\n                        })                };                });            </script>        </div>"
     },
     "metadata": {},
     "output_type": "display_data"
    }
   ],
   "source": [
    "def area_button(area):\n",
    "    args = [\n",
    "        {'visible': [i == areas.index(area) for i in range(len(areas))]},\n",
    "        {\n",
    "            'title': f'Total Quantity to load in {area} per day',\n",
    "            'showlegend': True\n",
    "        },\n",
    "    ]\n",
    "    \n",
    "    return dict(\n",
    "        label=area,\n",
    "        method='update',\n",
    "        args=args,\n",
    "    )\n",
    "\n",
    "title = 'Total Quantity to load per day'\n",
    "today = datetime.combine(datetime.utcnow().date(), datetime.min.time())\n",
    "\n",
    "areas_fig = go.Figure()\n",
    "\n",
    "area_buttons = []\n",
    "\n",
    "for area in areas:\n",
    "    if area not in df_pivot.columns:\n",
    "        continue\n",
    "    area_scatter_plot = go.Scatter(    \n",
    "        x=df_pivot.laycan_from,\n",
    "        y=df_pivot[area],\n",
    "        name=area,\n",
    "        mode='lines',\n",
    "    )\n",
    "\n",
    "    areas_fig.add_trace(area_scatter_plot)\n",
    "    \n",
    "    area_buttons.append(area_button(area))\n",
    "    \n",
    "buttons = list([\n",
    "    dict(\n",
    "        label='All',\n",
    "        method='update',\n",
    "        args=[    \n",
    "            {'visible': [True for _ in range(len(areas))]},\n",
    "            {\n",
    "                'title': title,\n",
    "                'showlegend': True\n",
    "            }\n",
    "        ],\n",
    "    ),\n",
    "    *area_buttons,\n",
    "])\n",
    "\n",
    "areas_fig.update_layout(\n",
    "    title=title,\n",
    "    updatemenus=[go.layout.Updatemenu(\n",
    "        active=0,\n",
    "        buttons=buttons,\n",
    "    )],\n",
    "    xaxis_range=[today - timedelta(hours=4), today + timedelta(hours=24*6 + 4)],\n",
    ")\n",
    "\n",
    "areas_fig.show()"
   ]
  },
  {
   "cell_type": "markdown",
   "id": "b4834756",
   "metadata": {
    "pycharm": {
     "name": "#%% md\n"
    }
   },
   "source": [
    "#### Export data to csv"
   ]
  },
  {
   "cell_type": "code",
   "execution_count": 47,
   "outputs": [],
   "source": [
    "output_path = '' # Change output_path with your path\n",
    "filename = 'last_two_weeks_cargoes.csv'\n",
    "if not data.empty:\n",
    "    data.to_csv(output_path+filename, index=False)"
   ],
   "metadata": {
    "collapsed": false,
    "pycharm": {
     "name": "#%%\n"
    }
   }
  },
  {
   "cell_type": "code",
   "execution_count": null,
   "outputs": [],
   "source": [],
   "metadata": {
    "collapsed": false,
    "pycharm": {
     "name": "#%%\n"
    }
   }
  }
 ],
 "metadata": {
  "kernelspec": {
   "display_name": "Python 3 (ipykernel)",
   "language": "python",
   "name": "python3"
  },
  "language_info": {
   "codemirror_mode": {
    "name": "ipython",
    "version": 3
   },
   "file_extension": ".py",
   "mimetype": "text/x-python",
   "name": "python",
   "nbconvert_exporter": "python",
   "pygments_lexer": "ipython3",
   "version": "3.8.10"
  }
 },
 "nbformat": 4,
 "nbformat_minor": 5
}