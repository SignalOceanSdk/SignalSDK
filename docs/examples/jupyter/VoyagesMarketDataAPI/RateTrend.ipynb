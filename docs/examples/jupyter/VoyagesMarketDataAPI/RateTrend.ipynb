{
 "cells": [
  {
   "cell_type": "markdown",
   "id": "346da45f-e4f0-4e42-b9b0-a6e2e02fa63f",
   "metadata": {},
   "source": [
    "# Rate Trend\n",
    "\n",
    "## Run this example in [Colab](https://colab.research.google.com/github/SignalOceanSdk/SignalSDK/blob/master/docs/examples/jupyter/VoyagesMarketDataAPI/RateTrend.ipynb) "
   ]
  },
  {
   "cell_type": "markdown",
   "id": "585b2f85-c4a2-40e6-bc35-2d278946ff61",
   "metadata": {},
   "source": [
    "This example calculates the Crude Oil Tanker Freight Rates For Very Large Crude Carriers (VLCCs) From The Arabian Gulf To China"
   ]
  },
  {
   "cell_type": "markdown",
   "id": "92e6f2a2-f6bf-4191-9fd4-964c80ed04a1",
   "metadata": {},
   "source": [
    "<h3>Setup</h3>"
   ]
  },
  {
   "cell_type": "markdown",
   "id": "a64ef077-af1d-47b7-9320-0df1a779226f",
   "metadata": {},
   "source": [
    "Install the Signal Ocean SDK:"
   ]
  },
  {
   "cell_type": "code",
   "execution_count": null,
   "id": "9afc6d3c-a92a-4259-b209-9383dc1fd1e9",
   "metadata": {},
   "outputs": [],
   "source": [
    "pip install signal-ocean"
   ]
  },
  {
   "cell_type": "markdown",
   "id": "c80cf8bd-f84b-4e47-9942-977bee7ab5b1",
   "metadata": {
    "id": "8hq1SgijyOr6"
   },
   "source": [
    "Import required libraries / APIs / packages:"
   ]
  },
  {
   "cell_type": "markdown",
   "id": "15206cff-3d3b-4686-b7dd-398120978ee6",
   "metadata": {},
   "source": [
    "<h3>Import Voyages Market Data API and some additional libraries</h3>"
   ]
  },
  {
   "cell_type": "code",
   "execution_count": 1,
   "id": "5bc5aec3-886b-4560-a252-4cbcfe9d9bbc",
   "metadata": {
    "tags": []
   },
   "outputs": [],
   "source": [
    "import pandas as pd\n",
    "import seaborn as sns\n",
    "\n",
    "from signal_ocean import Connection\n",
    "from signal_ocean.voyages_market_data import VoyagesMarketDataAPI"
   ]
  },
  {
   "cell_type": "markdown",
   "id": "2533ee72-9604-409c-ba72-faf6d00a2732",
   "metadata": {
    "id": "w3y19XNwyOr8"
   },
   "source": [
    "Fill in your personal SignalOcean API subscription key acquired <a href=\"https://apis.signalocean.com/profile\" target=\"_blank\">here</a> and open a connection:"
   ]
  },
  {
   "cell_type": "code",
   "execution_count": 2,
   "id": "4dab49c8-0f3c-4ae5-b34a-94f30fa9fa7d",
   "metadata": {
    "tags": []
   },
   "outputs": [],
   "source": [
    "signal_ocean_api_key = '' #replace with your subscription key"
   ]
  },
  {
   "cell_type": "markdown",
   "id": "58c7cf86-66cc-4f0b-be2e-b75bc07e72ef",
   "metadata": {},
   "source": [
    "Create a connection"
   ]
  },
  {
   "cell_type": "code",
   "execution_count": 3,
   "id": "0fb447ec-f69e-42c8-b848-a9860a4da5fd",
   "metadata": {
    "tags": []
   },
   "outputs": [],
   "source": [
    "connection = Connection(signal_ocean_api_key)\n",
    "api = VoyagesMarketDataAPI(connection)"
   ]
  },
  {
   "cell_type": "markdown",
   "id": "bba31ad1-a13a-4abf-ad3d-260e2a57354a",
   "metadata": {},
   "source": [
    "<h3>Call the API to get market data</h3>"
   ]
  },
  {
   "cell_type": "code",
   "execution_count": 2,
   "id": "d4ff86a6-09d1-49ac-b3ae-ac741531e910",
   "metadata": {
    "tags": []
   },
   "outputs": [],
   "source": [
    "result = api.get_voyage_market_data(vessel_class_id=84, include_matched_fixture = True, filter_by_matched_fixture = True,\n",
    "        include_labels = True)"
   ]
  },
  {
   "cell_type": "markdown",
   "id": "b5b0e07c-fc81-4813-940b-8de3ede396f7",
   "metadata": {},
   "source": [
    "Get matched fixtures into a dataframe"
   ]
  },
  {
   "cell_type": "code",
   "execution_count": 3,
   "id": "c0e58895-26fb-4bdf-8360-560c6aa6b600",
   "metadata": {},
   "outputs": [],
   "source": [
    "fixtures = pd.DataFrame([r.matched_fixture.__dict__ for r in result])"
   ]
  },
  {
   "cell_type": "markdown",
   "id": "32ba48a3-d7ac-4ace-9bfc-39524540919f",
   "metadata": {},
   "source": [
    "<h3>Transform Data</h3>"
   ]
  },
  {
   "cell_type": "markdown",
   "id": "a2962a1a-19c3-4f6b-9872-bfd4d7d5cedd",
   "metadata": {},
   "source": [
    "Keep columns with rate info and rate type in WS (World Scale)"
   ]
  },
  {
   "cell_type": "code",
   "execution_count": 4,
   "id": "cef3b899-758c-4741-bb08-30869dc5363c",
   "metadata": {},
   "outputs": [],
   "source": [
    "fixtures = fixtures[(~fixtures['rate'].isnull())&(fixtures['rate_type']=='WS')]"
   ]
  },
  {
   "cell_type": "markdown",
   "id": "5252cd6c-9265-4dc5-a124-a836e7c0d5da",
   "metadata": {},
   "source": [
    "Keep columns with info on the desired itinerary: Arabian Gulf to China"
   ]
  },
  {
   "cell_type": "code",
   "execution_count": 5,
   "id": "f0fac5e9-387d-4d4a-83d2-358c7327bbdf",
   "metadata": {},
   "outputs": [],
   "source": [
    "fixtures = fixtures[(fixtures['load_name'] == 'Arabian Gulf')&(fixtures['discharge_name'] == 'China')]"
   ]
  },
  {
   "cell_type": "markdown",
   "id": "a9d96a51-5c69-42f8-9c68-6defeb32a960",
   "metadata": {},
   "source": [
    "Convert to datetime to use in aggregations"
   ]
  },
  {
   "cell_type": "code",
   "execution_count": 6,
   "id": "25311a44-30b1-45dc-8ef2-bd27d18ad206",
   "metadata": {},
   "outputs": [],
   "source": [
    "fixtures['laycan_from'] = pd.to_datetime(fixtures['laycan_from'], errors='coerce', utc=True)\n",
    "fixtures.sort_values('laycan_from', inplace = True)"
   ]
  },
  {
   "cell_type": "markdown",
   "id": "50f79b72-ea7c-4137-97f8-6b5d6acf7274",
   "metadata": {},
   "source": [
    "set date as index and calculate a the 7 days moving average - we use the lacan from as date"
   ]
  },
  {
   "cell_type": "code",
   "execution_count": 7,
   "id": "f364939d-c4db-4f16-a663-6ca426c0f531",
   "metadata": {},
   "outputs": [],
   "source": [
    "fixtures.set_index('laycan_from', inplace = True, drop=False)\n",
    "fixtures['7_days_moving_average'] = fixtures['rate'].rolling('7D').mean()"
   ]
  },
  {
   "cell_type": "markdown",
   "id": "5a43af85-4b70-4c2f-88cd-b9604950c5ab",
   "metadata": {},
   "source": [
    "extract the day and keep only last done per day"
   ]
  },
  {
   "cell_type": "code",
   "execution_count": 8,
   "id": "a255baf9-5ebb-4886-b8f5-d785edfce999",
   "metadata": {},
   "outputs": [],
   "source": [
    "fixtures['Date'] = fixtures['laycan_from'].dt.tz_localize(None).dt.to_period('D').dt.to_timestamp()\n",
    "fixtures = fixtures.drop_duplicates(subset=['Date'], keep='last')"
   ]
  },
  {
   "cell_type": "markdown",
   "id": "1a7b0cf6-328a-475b-840e-5c55c90331de",
   "metadata": {},
   "source": [
    "<h3>Plot the rate moving average and last done</h3>"
   ]
  },
  {
   "cell_type": "code",
   "execution_count": 9,
   "id": "658b6e02-47bd-413c-a716-4e0b00ec1ace",
   "metadata": {},
   "outputs": [
    {
     "data": {
      "text/plain": [
       "<AxesSubplot:title={'center':'Rate moving average and last done'}, xlabel='Date', ylabel='7_days_moving_average'>"
      ]
     },
     "execution_count": 9,
     "metadata": {},
     "output_type": "execute_result"
    },
    {
     "data": {
      "image/png": "[encoded data removed]",
      "text/plain": [
       "<Figure size 1080x576 with 1 Axes>"
      ]
     },
     "metadata": {},
     "output_type": "display_data"
    }
   ],
   "source": [
    "sns.set(rc = {'figure.figsize':(15,8)})\n",
    "\n",
    "start_date = '2022-01-01'\n",
    "\n",
    "sns.lineplot(data=fixtures[fixtures['Date']>start_date], x='Date', color='red', y='7_days_moving_average').set_title(\"Rate moving average and last done\")\n",
    "sns.scatterplot(data=fixtures[fixtures['Date']>start_date], x='Date', y='rate')"
   ]
  }
 ],
 "metadata": {
  "kernelspec": {
   "display_name": "Python 3 (ipykernel)",
   "language": "python",
   "name": "python3"
  },
  "language_info": {
   "codemirror_mode": {
    "name": "ipython",
    "version": 3
   },
   "file_extension": ".py",
   "mimetype": "text/x-python",
   "name": "python",
   "nbconvert_exporter": "python",
   "pygments_lexer": "ipython3",
   "version": "3.8.12"
  }
 },
 "nbformat": 4,
 "nbformat_minor": 5
}
