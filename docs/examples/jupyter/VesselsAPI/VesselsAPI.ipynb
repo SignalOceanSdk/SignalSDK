{
 "cells": [
  {
   "cell_type": "markdown",
   "metadata": {},
   "source": [
    "# Vessels API Example\n",
    "\n",
    "## Run this example in [Colab](https://colab.research.google.com/github/SignalOceanSdk/SignalSDK/blob/master/docs/examples/jupyter/VesselsAPI/VesselsAPI.ipynb) "
   ]
  },
  {
   "cell_type": "markdown",
   "metadata": {},
   "source": [
    "<h3>Setup</h3>"
   ]
  },
  {
   "cell_type": "markdown",
   "metadata": {},
   "source": [
    "Install the Signal Ocean SDK:"
   ]
  },
  {
   "cell_type": "code",
   "execution_count": null,
   "metadata": {},
   "outputs": [],
   "source": [
    "pip install signal-ocean"
   ]
  },
  {
   "cell_type": "markdown",
   "metadata": {
    "id": "8hq1SgijyOr6"
   },
   "source": [
    "Import required libraries / APIs / packages:"
   ]
  },
  {
   "cell_type": "markdown",
   "metadata": {},
   "source": [
    "<h3>Import Vessels API and some additional libraries</h3>"
   ]
  },
  {
   "cell_type": "code",
   "execution_count": 1,
   "metadata": {},
   "outputs": [],
   "source": [
    "from signal_ocean.vessels import VesselsAPI\n",
    "import pandas as pd\n",
    "from datetime import datetime\n",
    "from signal_ocean import Connection"
   ]
  },
  {
   "cell_type": "markdown",
   "metadata": {
    "id": "w3y19XNwyOr8"
   },
   "source": [
    "Fill in your personal SignalOcean API subscription key acquired <a href=\"https://apis.signalocean.com/profile\" target=\"_blank\">here</a> and open a connection:"
   ]
  },
  {
   "cell_type": "code",
   "execution_count": 2,
   "metadata": {},
   "outputs": [],
   "source": [
    "signal_ocean_api_key = '' #replace with your subscription key"
   ]
  },
  {
   "cell_type": "markdown",
   "metadata": {},
   "source": [
    "Create a connection"
   ]
  },
  {
   "cell_type": "code",
   "execution_count": 3,
   "metadata": {},
   "outputs": [],
   "source": [
    "connection = Connection(signal_ocean_api_key)"
   ]
  },
  {
   "cell_type": "markdown",
   "metadata": {},
   "source": [
    "## Call the vessels API\n",
    "The Vessels API retrieves vessel information."
   ]
  },
  {
   "cell_type": "code",
   "execution_count": 4,
   "metadata": {},
   "outputs": [],
   "source": [
    "api = VesselsAPI(connection)"
   ]
  },
  {
   "cell_type": "markdown",
   "metadata": {},
   "source": [
    "#### Get vessel classes"
   ]
  },
  {
   "cell_type": "markdown",
   "metadata": {},
   "source": [
    "Retrieve information on the various vessel classes"
   ]
  },
  {
   "cell_type": "code",
   "execution_count": 5,
   "metadata": {},
   "outputs": [],
   "source": [
    "vessel_classes = api.get_vessel_classes()"
   ]
  },
  {
   "cell_type": "markdown",
   "metadata": {},
   "source": [
    "Extract the returned information into a dataframe"
   ]
  },
  {
   "cell_type": "code",
   "execution_count": 6,
   "metadata": {},
   "outputs": [
    {
     "data": {
      "text/html": [
       "<div>\n",
       "<style scoped>\n",
       "    .dataframe tbody tr th:only-of-type {\n",
       "        vertical-align: middle;\n",
       "    }\n",
       "\n",
       "    .dataframe tbody tr th {\n",
       "        vertical-align: top;\n",
       "    }\n",
       "\n",
       "    .dataframe thead th {\n",
       "        text-align: right;\n",
       "    }\n",
       "</style>\n",
       "<table border=\"1\" class=\"dataframe\">\n",
       "  <thead>\n",
       "    <tr style=\"text-align: right;\">\n",
       "      <th></th>\n",
       "      <th>id</th>\n",
       "      <th>vessel_type_id</th>\n",
       "      <th>from_size</th>\n",
       "      <th>to_size</th>\n",
       "      <th>name</th>\n",
       "      <th>vessel_type</th>\n",
       "      <th>defining_size</th>\n",
       "      <th>size</th>\n",
       "    </tr>\n",
       "  </thead>\n",
       "  <tbody>\n",
       "    <tr>\n",
       "      <th>0</th>\n",
       "      <td>-2</td>\n",
       "      <td>-2</td>\n",
       "      <td>0</td>\n",
       "      <td>0</td>\n",
       "      <td>Not set</td>\n",
       "      <td>Not Set</td>\n",
       "      <td>NotSet</td>\n",
       "      <td>NotSet</td>\n",
       "    </tr>\n",
       "    <tr>\n",
       "      <th>1</th>\n",
       "      <td>-1</td>\n",
       "      <td>-1</td>\n",
       "      <td>0</td>\n",
       "      <td>0</td>\n",
       "      <td>Unknown</td>\n",
       "      <td>Unknown</td>\n",
       "      <td>Unknown</td>\n",
       "      <td>Unknown</td>\n",
       "    </tr>\n",
       "    <tr>\n",
       "      <th>2</th>\n",
       "      <td>60</td>\n",
       "      <td>6</td>\n",
       "      <td>70001</td>\n",
       "      <td>250000</td>\n",
       "      <td>VLGC</td>\n",
       "      <td>LPG</td>\n",
       "      <td>CubicSize</td>\n",
       "      <td>cbm</td>\n",
       "    </tr>\n",
       "    <tr>\n",
       "      <th>3</th>\n",
       "      <td>61</td>\n",
       "      <td>6</td>\n",
       "      <td>28001</td>\n",
       "      <td>70000</td>\n",
       "      <td>Midsize/LGC</td>\n",
       "      <td>LPG</td>\n",
       "      <td>CubicSize</td>\n",
       "      <td>cbm</td>\n",
       "    </tr>\n",
       "    <tr>\n",
       "      <th>4</th>\n",
       "      <td>62</td>\n",
       "      <td>6</td>\n",
       "      <td>10001</td>\n",
       "      <td>28000</td>\n",
       "      <td>Handy</td>\n",
       "      <td>LPG</td>\n",
       "      <td>CubicSize</td>\n",
       "      <td>cbm</td>\n",
       "    </tr>\n",
       "  </tbody>\n",
       "</table>\n",
       "</div>"
      ],
      "text/plain": [
       "   id  vessel_type_id  from_size  to_size         name vessel_type  \\\n",
       "0  -2              -2          0        0      Not set     Not Set   \n",
       "1  -1              -1          0        0      Unknown     Unknown   \n",
       "2  60               6      70001   250000         VLGC         LPG   \n",
       "3  61               6      28001    70000  Midsize/LGC         LPG   \n",
       "4  62               6      10001    28000        Handy         LPG   \n",
       "\n",
       "  defining_size     size  \n",
       "0        NotSet   NotSet  \n",
       "1       Unknown  Unknown  \n",
       "2     CubicSize      cbm  \n",
       "3     CubicSize      cbm  \n",
       "4     CubicSize      cbm  "
      ]
     },
     "execution_count": 6,
     "metadata": {},
     "output_type": "execute_result"
    }
   ],
   "source": [
    "pd.DataFrame([vc.__dict__ for vc in vessel_classes]).head()"
   ]
  },
  {
   "cell_type": "markdown",
   "metadata": {},
   "source": [
    "#### Get vessel types"
   ]
  },
  {
   "cell_type": "markdown",
   "metadata": {},
   "source": [
    "Retrieve information on the various vessel types"
   ]
  },
  {
   "cell_type": "code",
   "execution_count": 7,
   "metadata": {},
   "outputs": [],
   "source": [
    "vessel_types = api.get_vessel_types()"
   ]
  },
  {
   "cell_type": "markdown",
   "metadata": {},
   "source": [
    "Extract the returned information into a dataframe"
   ]
  },
  {
   "cell_type": "code",
   "execution_count": 8,
   "metadata": {},
   "outputs": [
    {
     "data": {
      "text/html": [
       "<div>\n",
       "<style scoped>\n",
       "    .dataframe tbody tr th:only-of-type {\n",
       "        vertical-align: middle;\n",
       "    }\n",
       "\n",
       "    .dataframe tbody tr th {\n",
       "        vertical-align: top;\n",
       "    }\n",
       "\n",
       "    .dataframe thead th {\n",
       "        text-align: right;\n",
       "    }\n",
       "</style>\n",
       "<table border=\"1\" class=\"dataframe\">\n",
       "  <thead>\n",
       "    <tr style=\"text-align: right;\">\n",
       "      <th></th>\n",
       "      <th>id</th>\n",
       "      <th>name</th>\n",
       "    </tr>\n",
       "  </thead>\n",
       "  <tbody>\n",
       "    <tr>\n",
       "      <th>0</th>\n",
       "      <td>-2</td>\n",
       "      <td>Not Set</td>\n",
       "    </tr>\n",
       "    <tr>\n",
       "      <th>1</th>\n",
       "      <td>-1</td>\n",
       "      <td>Unknown</td>\n",
       "    </tr>\n",
       "    <tr>\n",
       "      <th>2</th>\n",
       "      <td>6</td>\n",
       "      <td>LPG</td>\n",
       "    </tr>\n",
       "    <tr>\n",
       "      <th>3</th>\n",
       "      <td>3</td>\n",
       "      <td>Dry</td>\n",
       "    </tr>\n",
       "    <tr>\n",
       "      <th>4</th>\n",
       "      <td>4</td>\n",
       "      <td>Container</td>\n",
       "    </tr>\n",
       "    <tr>\n",
       "      <th>5</th>\n",
       "      <td>1</td>\n",
       "      <td>Tanker</td>\n",
       "    </tr>\n",
       "    <tr>\n",
       "      <th>6</th>\n",
       "      <td>5</td>\n",
       "      <td>LNG</td>\n",
       "    </tr>\n",
       "  </tbody>\n",
       "</table>\n",
       "</div>"
      ],
      "text/plain": [
       "   id       name\n",
       "0  -2    Not Set\n",
       "1  -1    Unknown\n",
       "2   6        LPG\n",
       "3   3        Dry\n",
       "4   4  Container\n",
       "5   1     Tanker\n",
       "6   5        LNG"
      ]
     },
     "execution_count": 8,
     "metadata": {},
     "output_type": "execute_result"
    }
   ],
   "source": [
    "pd.DataFrame([vc.__dict__ for vc in vessel_types]).head(7)"
   ]
  },
  {
   "cell_type": "markdown",
   "metadata": {},
   "source": [
    "#### Get details for a specific vessel"
   ]
  },
  {
   "cell_type": "code",
   "execution_count": 9,
   "metadata": {},
   "outputs": [
    {
     "name": "stdout",
     "output_type": "stream",
     "text": [
      "9436006: Samsun (Aframax / Unknown)\n"
     ]
    }
   ],
   "source": [
    "imo = 9436006\n",
    "v = api.get_vessel(imo)\n",
    "print(f'{v.imo}: {v.vessel_name} ({v.vessel_class} / {v.commercial_operator})')"
   ]
  },
  {
   "cell_type": "markdown",
   "metadata": {},
   "source": [
    "#### Get details for all vessels"
   ]
  },
  {
   "cell_type": "code",
   "execution_count": 10,
   "metadata": {},
   "outputs": [],
   "source": [
    "vessels = api.get_vessels()"
   ]
  },
  {
   "cell_type": "markdown",
   "metadata": {},
   "source": [
    "Extract the returned information into a dataframe"
   ]
  },
  {
   "cell_type": "code",
   "execution_count": 11,
   "metadata": {},
   "outputs": [],
   "source": [
    "df = pd.DataFrame([x.__dict__ for x in vessels])"
   ]
  },
  {
   "cell_type": "code",
   "execution_count": 12,
   "metadata": {},
   "outputs": [
    {
     "data": {
      "text/html": [
       "<div>\n",
       "<style scoped>\n",
       "    .dataframe tbody tr th:only-of-type {\n",
       "        vertical-align: middle;\n",
       "    }\n",
       "\n",
       "    .dataframe tbody tr th {\n",
       "        vertical-align: top;\n",
       "    }\n",
       "\n",
       "    .dataframe thead th {\n",
       "        text-align: right;\n",
       "    }\n",
       "</style>\n",
       "<table border=\"1\" class=\"dataframe\">\n",
       "  <thead>\n",
       "    <tr style=\"text-align: right;\">\n",
       "      <th></th>\n",
       "      <th>imo</th>\n",
       "      <th>vessel_name</th>\n",
       "      <th>vessel_class</th>\n",
       "    </tr>\n",
       "  </thead>\n",
       "  <tbody>\n",
       "    <tr>\n",
       "      <th>56036</th>\n",
       "      <td>9936264</td>\n",
       "      <td>Seacon Nola</td>\n",
       "      <td>Post Panamax</td>\n",
       "    </tr>\n",
       "    <tr>\n",
       "      <th>56348</th>\n",
       "      <td>9941398</td>\n",
       "      <td>Nord Aquarius</td>\n",
       "      <td>Panamax</td>\n",
       "    </tr>\n",
       "    <tr>\n",
       "      <th>30758</th>\n",
       "      <td>9371311</td>\n",
       "      <td>Santorini</td>\n",
       "      <td>Small</td>\n",
       "    </tr>\n",
       "    <tr>\n",
       "      <th>5338</th>\n",
       "      <td>8014746</td>\n",
       "      <td>Akti N.</td>\n",
       "      <td>MR2</td>\n",
       "    </tr>\n",
       "    <tr>\n",
       "      <th>49241</th>\n",
       "      <td>9766231</td>\n",
       "      <td>Seacon Manila</td>\n",
       "      <td>Handysize</td>\n",
       "    </tr>\n",
       "  </tbody>\n",
       "</table>\n",
       "</div>"
      ],
      "text/plain": [
       "           imo    vessel_name  vessel_class\n",
       "56036  9936264    Seacon Nola  Post Panamax\n",
       "56348  9941398  Nord Aquarius       Panamax\n",
       "30758  9371311      Santorini         Small\n",
       "5338   8014746        Akti N.           MR2\n",
       "49241  9766231  Seacon Manila     Handysize"
      ]
     },
     "execution_count": 12,
     "metadata": {},
     "output_type": "execute_result"
    }
   ],
   "source": [
    "df[['imo', 'vessel_name', 'vessel_class']].sample(5)"
   ]
  },
  {
   "cell_type": "markdown",
   "metadata": {},
   "source": [
    "#### Find fleet size per vessel class - exclude scrapped vessels"
   ]
  },
  {
   "cell_type": "code",
   "execution_count": 13,
   "metadata": {},
   "outputs": [
    {
     "data": {
      "text/html": [
       "<div>\n",
       "<style scoped>\n",
       "    .dataframe tbody tr th:only-of-type {\n",
       "        vertical-align: middle;\n",
       "    }\n",
       "\n",
       "    .dataframe tbody tr th {\n",
       "        vertical-align: top;\n",
       "    }\n",
       "\n",
       "    .dataframe thead th {\n",
       "        text-align: right;\n",
       "    }\n",
       "</style>\n",
       "<table border=\"1\" class=\"dataframe\">\n",
       "  <thead>\n",
       "    <tr style=\"text-align: right;\">\n",
       "      <th></th>\n",
       "      <th>vessel_count</th>\n",
       "    </tr>\n",
       "    <tr>\n",
       "      <th>vessel_class</th>\n",
       "      <th></th>\n",
       "    </tr>\n",
       "  </thead>\n",
       "  <tbody>\n",
       "    <tr>\n",
       "      <th>Small</th>\n",
       "      <td>21340</td>\n",
       "    </tr>\n",
       "    <tr>\n",
       "      <th>Panamax</th>\n",
       "      <td>4164</td>\n",
       "    </tr>\n",
       "    <tr>\n",
       "      <th>Supramax</th>\n",
       "      <td>3685</td>\n",
       "    </tr>\n",
       "    <tr>\n",
       "      <th>Handysize</th>\n",
       "      <td>3358</td>\n",
       "    </tr>\n",
       "    <tr>\n",
       "      <th>MR2</th>\n",
       "      <td>1946</td>\n",
       "    </tr>\n",
       "    <tr>\n",
       "      <th>Post Panamax</th>\n",
       "      <td>1815</td>\n",
       "    </tr>\n",
       "    <tr>\n",
       "      <th>Capesize</th>\n",
       "      <td>1687</td>\n",
       "    </tr>\n",
       "    <tr>\n",
       "      <th>Feeder</th>\n",
       "      <td>1590</td>\n",
       "    </tr>\n",
       "    <tr>\n",
       "      <th>Aframax</th>\n",
       "      <td>1304</td>\n",
       "    </tr>\n",
       "    <tr>\n",
       "      <th>VLCC</th>\n",
       "      <td>1057</td>\n",
       "    </tr>\n",
       "  </tbody>\n",
       "</table>\n",
       "</div>"
      ],
      "text/plain": [
       "              vessel_count\n",
       "vessel_class              \n",
       "Small                21340\n",
       "Panamax               4164\n",
       "Supramax              3685\n",
       "Handysize             3358\n",
       "MR2                   1946\n",
       "Post Panamax          1815\n",
       "Capesize              1687\n",
       "Feeder                1590\n",
       "Aframax               1304\n",
       "VLCC                  1057"
      ]
     },
     "execution_count": 13,
     "metadata": {},
     "output_type": "execute_result"
    }
   ],
   "source": [
    "df[pd.isnull(df['scrapped_date'])]['vessel_class'].value_counts().to_frame('vessel_count').head(10)"
   ]
  },
  {
   "cell_type": "markdown",
   "metadata": {},
   "source": [
    "#### Find the commercial operators that currently operate the largest Aframax fleets"
   ]
  },
  {
   "cell_type": "code",
   "execution_count": 14,
   "metadata": {},
   "outputs": [
    {
     "data": {
      "text/plain": [
       "commercial_operator\n",
       "Unknown                          208\n",
       "Sovcomflot                        46\n",
       "Trafigura                         35\n",
       "Cardiff Marine                    31\n",
       "Scorpio Commercial Management     30\n",
       "Teekay Corp                       29\n",
       "Penfield Marine                   28\n",
       "Shell                             28\n",
       "Minerva Marine                    27\n",
       "Navig8 group                      23\n",
       "Name: count, dtype: int64"
      ]
     },
     "execution_count": 14,
     "metadata": {},
     "output_type": "execute_result"
    }
   ],
   "source": [
    "data = df[(df['vessel_class']=='Aframax')&(pd.isnull(df['scrapped_date']))]\n",
    "data['commercial_operator'].value_counts().head(10)"
   ]
  },
  {
   "cell_type": "markdown",
   "metadata": {},
   "source": [
    "#### Get all vessels the name of which contains the term helen"
   ]
  },
  {
   "cell_type": "code",
   "execution_count": 15,
   "metadata": {},
   "outputs": [
    {
     "data": {
      "text/plain": [
       "40"
      ]
     },
     "execution_count": 15,
     "metadata": {},
     "output_type": "execute_result"
    }
   ],
   "source": [
    "vessels = api.get_vessels('helen')\n",
    "len(vessels)"
   ]
  },
  {
   "cell_type": "markdown",
   "metadata": {},
   "source": [
    "Extract the returned information into a dataframe"
   ]
  },
  {
   "cell_type": "code",
   "execution_count": 16,
   "metadata": {},
   "outputs": [
    {
     "data": {
      "text/html": [
       "<div>\n",
       "<style scoped>\n",
       "    .dataframe tbody tr th:only-of-type {\n",
       "        vertical-align: middle;\n",
       "    }\n",
       "\n",
       "    .dataframe tbody tr th {\n",
       "        vertical-align: top;\n",
       "    }\n",
       "\n",
       "    .dataframe thead th {\n",
       "        text-align: right;\n",
       "    }\n",
       "</style>\n",
       "<table border=\"1\" class=\"dataframe\">\n",
       "  <thead>\n",
       "    <tr style=\"text-align: right;\">\n",
       "      <th></th>\n",
       "      <th>imo</th>\n",
       "      <th>vessel_type_id</th>\n",
       "      <th>built_for_trade_id</th>\n",
       "      <th>trade_id</th>\n",
       "      <th>vessel_class_id</th>\n",
       "      <th>commercial_operator_id</th>\n",
       "      <th>deadweight</th>\n",
       "      <th>breadth_extreme</th>\n",
       "      <th>gross_rated_tonnage</th>\n",
       "      <th>reduced_gross_tonnage</th>\n",
       "      <th>...</th>\n",
       "      <th>bwts</th>\n",
       "      <th>grabs_fitted</th>\n",
       "      <th>ghg</th>\n",
       "      <th>order_book_status_id</th>\n",
       "      <th>order_book_status</th>\n",
       "      <th>order_date</th>\n",
       "      <th>construction_start_date</th>\n",
       "      <th>launch_date</th>\n",
       "      <th>scheduled_delivery_date</th>\n",
       "      <th>cancelled_date</th>\n",
       "    </tr>\n",
       "  </thead>\n",
       "  <tbody>\n",
       "    <tr>\n",
       "      <th>0</th>\n",
       "      <td>6716857</td>\n",
       "      <td>4</td>\n",
       "      <td>-2</td>\n",
       "      <td>-1</td>\n",
       "      <td>95</td>\n",
       "      <td>-1</td>\n",
       "      <td>1180</td>\n",
       "      <td>11</td>\n",
       "      <td>953</td>\n",
       "      <td>762</td>\n",
       "      <td>...</td>\n",
       "      <td>None</td>\n",
       "      <td>None</td>\n",
       "      <td>None</td>\n",
       "      <td>8</td>\n",
       "      <td>Dead</td>\n",
       "      <td>NaT</td>\n",
       "      <td>NaT</td>\n",
       "      <td>NaT</td>\n",
       "      <td>NaT</td>\n",
       "      <td>None</td>\n",
       "    </tr>\n",
       "    <tr>\n",
       "      <th>1</th>\n",
       "      <td>7360083</td>\n",
       "      <td>1</td>\n",
       "      <td>1</td>\n",
       "      <td>1</td>\n",
       "      <td>84</td>\n",
       "      <td>-1</td>\n",
       "      <td>274333</td>\n",
       "      <td>52</td>\n",
       "      <td>133871</td>\n",
       "      <td>98338</td>\n",
       "      <td>...</td>\n",
       "      <td>None</td>\n",
       "      <td>None</td>\n",
       "      <td>None</td>\n",
       "      <td>8</td>\n",
       "      <td>Dead</td>\n",
       "      <td>NaT</td>\n",
       "      <td>1976-01-01 00:00:00+00:00</td>\n",
       "      <td>1976-01-01 00:00:00+00:00</td>\n",
       "      <td>NaT</td>\n",
       "      <td>None</td>\n",
       "    </tr>\n",
       "    <tr>\n",
       "      <th>2</th>\n",
       "      <td>7915644</td>\n",
       "      <td>3</td>\n",
       "      <td>4</td>\n",
       "      <td>4</td>\n",
       "      <td>74</td>\n",
       "      <td>-1</td>\n",
       "      <td>70537</td>\n",
       "      <td>32</td>\n",
       "      <td>41644</td>\n",
       "      <td>33659</td>\n",
       "      <td>...</td>\n",
       "      <td>None</td>\n",
       "      <td>None</td>\n",
       "      <td>None</td>\n",
       "      <td>8</td>\n",
       "      <td>Dead</td>\n",
       "      <td>1979-05-01 00:00:00+00:00</td>\n",
       "      <td>NaT</td>\n",
       "      <td>NaT</td>\n",
       "      <td>NaT</td>\n",
       "      <td>None</td>\n",
       "    </tr>\n",
       "    <tr>\n",
       "      <th>3</th>\n",
       "      <td>8120571</td>\n",
       "      <td>3</td>\n",
       "      <td>4</td>\n",
       "      <td>4</td>\n",
       "      <td>77</td>\n",
       "      <td>-1</td>\n",
       "      <td>34913</td>\n",
       "      <td>28</td>\n",
       "      <td>20922</td>\n",
       "      <td>16169</td>\n",
       "      <td>...</td>\n",
       "      <td>None</td>\n",
       "      <td>None</td>\n",
       "      <td>None</td>\n",
       "      <td>8</td>\n",
       "      <td>Dead</td>\n",
       "      <td>1981-11-01 00:00:00+00:00</td>\n",
       "      <td>1982-02-15 00:00:00+00:00</td>\n",
       "      <td>1982-09-16 00:00:00+00:00</td>\n",
       "      <td>NaT</td>\n",
       "      <td>None</td>\n",
       "    </tr>\n",
       "    <tr>\n",
       "      <th>4</th>\n",
       "      <td>8716306</td>\n",
       "      <td>3</td>\n",
       "      <td>5</td>\n",
       "      <td>5</td>\n",
       "      <td>92</td>\n",
       "      <td>-1</td>\n",
       "      <td>3130</td>\n",
       "      <td>19</td>\n",
       "      <td>6767</td>\n",
       "      <td>4205</td>\n",
       "      <td>...</td>\n",
       "      <td>None</td>\n",
       "      <td>None</td>\n",
       "      <td>None</td>\n",
       "      <td>7</td>\n",
       "      <td>Live</td>\n",
       "      <td>NaT</td>\n",
       "      <td>1990-01-01 00:00:00+00:00</td>\n",
       "      <td>1990-01-01 00:00:00+00:00</td>\n",
       "      <td>NaT</td>\n",
       "      <td>None</td>\n",
       "    </tr>\n",
       "  </tbody>\n",
       "</table>\n",
       "<p>5 rows × 94 columns</p>\n",
       "</div>"
      ],
      "text/plain": [
       "       imo  vessel_type_id  built_for_trade_id  trade_id  vessel_class_id  \\\n",
       "0  6716857               4                  -2        -1               95   \n",
       "1  7360083               1                   1         1               84   \n",
       "2  7915644               3                   4         4               74   \n",
       "3  8120571               3                   4         4               77   \n",
       "4  8716306               3                   5         5               92   \n",
       "\n",
       "   commercial_operator_id  deadweight  breadth_extreme  gross_rated_tonnage  \\\n",
       "0                      -1        1180               11                  953   \n",
       "1                      -1      274333               52               133871   \n",
       "2                      -1       70537               32                41644   \n",
       "3                      -1       34913               28                20922   \n",
       "4                      -1        3130               19                 6767   \n",
       "\n",
       "   reduced_gross_tonnage  ...  bwts  grabs_fitted   ghg  order_book_status_id  \\\n",
       "0                    762  ...  None          None  None                     8   \n",
       "1                  98338  ...  None          None  None                     8   \n",
       "2                  33659  ...  None          None  None                     8   \n",
       "3                  16169  ...  None          None  None                     8   \n",
       "4                   4205  ...  None          None  None                     7   \n",
       "\n",
       "   order_book_status                order_date   construction_start_date  \\\n",
       "0               Dead                       NaT                       NaT   \n",
       "1               Dead                       NaT 1976-01-01 00:00:00+00:00   \n",
       "2               Dead 1979-05-01 00:00:00+00:00                       NaT   \n",
       "3               Dead 1981-11-01 00:00:00+00:00 1982-02-15 00:00:00+00:00   \n",
       "4               Live                       NaT 1990-01-01 00:00:00+00:00   \n",
       "\n",
       "                launch_date scheduled_delivery_date  cancelled_date  \n",
       "0                       NaT                     NaT            None  \n",
       "1 1976-01-01 00:00:00+00:00                     NaT            None  \n",
       "2                       NaT                     NaT            None  \n",
       "3 1982-09-16 00:00:00+00:00                     NaT            None  \n",
       "4 1990-01-01 00:00:00+00:00                     NaT            None  \n",
       "\n",
       "[5 rows x 94 columns]"
      ]
     },
     "execution_count": 16,
     "metadata": {},
     "output_type": "execute_result"
    }
   ],
   "source": [
    "df = pd.DataFrame([x.__dict__ for x in vessels])\n",
    "df.head()"
   ]
  },
  {
   "cell_type": "markdown",
   "metadata": {},
   "source": [
    "#### Get Vessel Names Changes"
   ]
  },
  {
   "cell_type": "markdown",
   "metadata": {},
   "source": [
    "You can get Vessel Name changes for all vessels or for a specific one "
   ]
  },
  {
   "cell_type": "code",
   "execution_count": 17,
   "metadata": {},
   "outputs": [],
   "source": [
    "imo = 9436006\n",
    "vessels_names = api.get_vessels_name_history(imo)"
   ]
  },
  {
   "cell_type": "code",
   "execution_count": 18,
   "metadata": {},
   "outputs": [],
   "source": [
    "df = pd.DataFrame([x.__dict__ for x in vessels_names[0].history[0].values])"
   ]
  },
  {
   "cell_type": "code",
   "execution_count": 19,
   "metadata": {},
   "outputs": [
    {
     "data": {
      "text/html": [
       "<div>\n",
       "<style scoped>\n",
       "    .dataframe tbody tr th:only-of-type {\n",
       "        vertical-align: middle;\n",
       "    }\n",
       "\n",
       "    .dataframe tbody tr th {\n",
       "        vertical-align: top;\n",
       "    }\n",
       "\n",
       "    .dataframe thead th {\n",
       "        text-align: right;\n",
       "    }\n",
       "</style>\n",
       "<table border=\"1\" class=\"dataframe\">\n",
       "  <thead>\n",
       "    <tr style=\"text-align: right;\">\n",
       "      <th></th>\n",
       "      <th>value</th>\n",
       "      <th>begin_date</th>\n",
       "      <th>end_date</th>\n",
       "      <th>name</th>\n",
       "    </tr>\n",
       "  </thead>\n",
       "  <tbody>\n",
       "    <tr>\n",
       "      <th>0</th>\n",
       "      <td>Stealth Chios</td>\n",
       "      <td>1900-01-01 00:00:00+00:00</td>\n",
       "      <td>2012-01-01 23:13:55+00:00</td>\n",
       "      <td>None</td>\n",
       "    </tr>\n",
       "    <tr>\n",
       "      <th>1</th>\n",
       "      <td>Signal Cheetah</td>\n",
       "      <td>2012-01-01 23:13:55+00:00</td>\n",
       "      <td>2021-02-25 23:56:31+00:00</td>\n",
       "      <td>None</td>\n",
       "    </tr>\n",
       "    <tr>\n",
       "      <th>2</th>\n",
       "      <td>Stealth Chios</td>\n",
       "      <td>2021-02-25 23:56:31+00:00</td>\n",
       "      <td>2021-05-01 07:41:09+00:00</td>\n",
       "      <td>None</td>\n",
       "    </tr>\n",
       "    <tr>\n",
       "      <th>3</th>\n",
       "      <td>Paramount</td>\n",
       "      <td>2021-05-01 07:41:09+00:00</td>\n",
       "      <td>2023-03-10 18:59:11+00:00</td>\n",
       "      <td>None</td>\n",
       "    </tr>\n",
       "    <tr>\n",
       "      <th>4</th>\n",
       "      <td>Samsun</td>\n",
       "      <td>2023-03-10 18:59:11+00:00</td>\n",
       "      <td>9999-12-31 23:59:59.999999+00:00</td>\n",
       "      <td>None</td>\n",
       "    </tr>\n",
       "  </tbody>\n",
       "</table>\n",
       "</div>"
      ],
      "text/plain": [
       "            value                begin_date                          end_date  \\\n",
       "0   Stealth Chios 1900-01-01 00:00:00+00:00         2012-01-01 23:13:55+00:00   \n",
       "1  Signal Cheetah 2012-01-01 23:13:55+00:00         2021-02-25 23:56:31+00:00   \n",
       "2   Stealth Chios 2021-02-25 23:56:31+00:00         2021-05-01 07:41:09+00:00   \n",
       "3       Paramount 2021-05-01 07:41:09+00:00         2023-03-10 18:59:11+00:00   \n",
       "4          Samsun 2023-03-10 18:59:11+00:00  9999-12-31 23:59:59.999999+00:00   \n",
       "\n",
       "   name  \n",
       "0  None  \n",
       "1  None  \n",
       "2  None  \n",
       "3  None  \n",
       "4  None  "
      ]
     },
     "execution_count": 19,
     "metadata": {},
     "output_type": "execute_result"
    }
   ],
   "source": [
    "df"
   ]
  },
  {
   "cell_type": "markdown",
   "metadata": {},
   "source": [
    "#### Get Commercial Operator Changes"
   ]
  },
  {
   "cell_type": "markdown",
   "metadata": {},
   "source": [
    "You can get Vessel Name changes for all vessels or for a specific one "
   ]
  },
  {
   "cell_type": "code",
   "execution_count": 20,
   "metadata": {},
   "outputs": [],
   "source": [
    "imo = 9436006\n",
    "vessels_names = api.get_vessels_commOp_history(imo)"
   ]
  },
  {
   "cell_type": "code",
   "execution_count": 21,
   "metadata": {},
   "outputs": [],
   "source": [
    "df = pd.DataFrame([x.__dict__ for x in vessels_names[0].history[0].values])"
   ]
  },
  {
   "cell_type": "code",
   "execution_count": 22,
   "metadata": {},
   "outputs": [
    {
     "data": {
      "text/html": [
       "<div>\n",
       "<style scoped>\n",
       "    .dataframe tbody tr th:only-of-type {\n",
       "        vertical-align: middle;\n",
       "    }\n",
       "\n",
       "    .dataframe tbody tr th {\n",
       "        vertical-align: top;\n",
       "    }\n",
       "\n",
       "    .dataframe thead th {\n",
       "        text-align: right;\n",
       "    }\n",
       "</style>\n",
       "<table border=\"1\" class=\"dataframe\">\n",
       "  <thead>\n",
       "    <tr style=\"text-align: right;\">\n",
       "      <th></th>\n",
       "      <th>value</th>\n",
       "      <th>begin_date</th>\n",
       "      <th>end_date</th>\n",
       "      <th>name</th>\n",
       "    </tr>\n",
       "  </thead>\n",
       "  <tbody>\n",
       "    <tr>\n",
       "      <th>0</th>\n",
       "      <td>1926</td>\n",
       "      <td>1900-01-01 00:00:00+00:00</td>\n",
       "      <td>2016-06-12 13:03:12+00:00</td>\n",
       "      <td>Signal Maritime</td>\n",
       "    </tr>\n",
       "    <tr>\n",
       "      <th>1</th>\n",
       "      <td>1713</td>\n",
       "      <td>2016-06-12 13:03:12+00:00</td>\n",
       "      <td>2016-06-13 13:03:12+00:00</td>\n",
       "      <td>Trafigura</td>\n",
       "    </tr>\n",
       "    <tr>\n",
       "      <th>2</th>\n",
       "      <td>1926</td>\n",
       "      <td>2016-06-13 13:03:12+00:00</td>\n",
       "      <td>2021-02-22 00:00:00+00:00</td>\n",
       "      <td>Signal Maritime</td>\n",
       "    </tr>\n",
       "    <tr>\n",
       "      <th>3</th>\n",
       "      <td>1597</td>\n",
       "      <td>2021-02-22 00:00:00+00:00</td>\n",
       "      <td>2023-04-06 15:02:40.715274+00:00</td>\n",
       "      <td>Stealth Maritime Corp</td>\n",
       "    </tr>\n",
       "    <tr>\n",
       "      <th>4</th>\n",
       "      <td>-1</td>\n",
       "      <td>2023-04-06 15:02:40.715274+00:00</td>\n",
       "      <td>9999-12-31 23:59:59.999999+00:00</td>\n",
       "      <td>Unknown</td>\n",
       "    </tr>\n",
       "  </tbody>\n",
       "</table>\n",
       "</div>"
      ],
      "text/plain": [
       "  value                       begin_date                          end_date  \\\n",
       "0  1926        1900-01-01 00:00:00+00:00         2016-06-12 13:03:12+00:00   \n",
       "1  1713        2016-06-12 13:03:12+00:00         2016-06-13 13:03:12+00:00   \n",
       "2  1926        2016-06-13 13:03:12+00:00         2021-02-22 00:00:00+00:00   \n",
       "3  1597        2021-02-22 00:00:00+00:00  2023-04-06 15:02:40.715274+00:00   \n",
       "4    -1 2023-04-06 15:02:40.715274+00:00  9999-12-31 23:59:59.999999+00:00   \n",
       "\n",
       "                    name  \n",
       "0        Signal Maritime  \n",
       "1              Trafigura  \n",
       "2        Signal Maritime  \n",
       "3  Stealth Maritime Corp  \n",
       "4                Unknown  "
      ]
     },
     "execution_count": 22,
     "metadata": {},
     "output_type": "execute_result"
    }
   ],
   "source": [
    "df"
   ]
  }
 ],
 "metadata": {
  "kernelspec": {
   "display_name": "Python 3 (ipykernel)",
   "language": "python",
   "name": "python3"
  },
  "language_info": {
   "codemirror_mode": {
    "name": "ipython",
    "version": 3
   },
   "file_extension": ".py",
   "mimetype": "text/x-python",
   "name": "python",
   "nbconvert_exporter": "python",
   "pygments_lexer": "ipython3",
   "version": "3.11.5"
  }
 },
 "nbformat": 4,
 "nbformat_minor": 4
}
