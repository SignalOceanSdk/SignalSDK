{
 "cells": [
  {
   "cell_type": "markdown",
   "metadata": {},
   "source": [
    "# Vessels API Example\n",
    "\n",
    "## Run this example in [Colab](https://colab.research.google.com/github/SignalOceanSdk/SignalSDK/blob/master/docs/examples/jupyter/VesselsAPI/VesselsAPI.ipynb) "
   ]
  },
  {
   "cell_type": "markdown",
   "metadata": {},
   "source": [
    "<h3>Setup</h3>"
   ]
  },
  {
   "cell_type": "markdown",
   "metadata": {},
   "source": [
    "Install the Signal Ocean SDK:"
   ]
  },
  {
   "cell_type": "code",
   "execution_count": null,
   "metadata": {},
   "outputs": [],
   "source": [
    "pip install signal-ocean"
   ]
  },
  {
   "cell_type": "markdown",
   "metadata": {
    "id": "8hq1SgijyOr6"
   },
   "source": [
    "Import required libraries / APIs / packages:"
   ]
  },
  {
   "cell_type": "markdown",
   "metadata": {},
   "source": [
    "<h3>Import Vessels API and some additional libraries</h3>"
   ]
  },
  {
   "cell_type": "code",
   "execution_count": 1,
   "metadata": {},
   "outputs": [],
   "source": [
    "from signal_ocean.vessels import VesselsAPI\n",
    "import pandas as pd\n",
    "from datetime import datetime\n",
    "from signal_ocean import Connection"
   ]
  },
  {
   "cell_type": "markdown",
   "metadata": {
    "id": "w3y19XNwyOr8"
   },
   "source": [
    "Fill in your personal SignalOcean API subscription key acquired <a href=\"https://apis.signalocean.com/profile\" target=\"_blank\">here</a> and open a connection:"
   ]
  },
  {
   "cell_type": "code",
   "execution_count": 2,
   "metadata": {},
   "outputs": [],
   "source": [
    "signal_ocean_api_key = '' #replace with your subscription key"
   ]
  },
  {
   "cell_type": "markdown",
   "metadata": {},
   "source": [
    "Create a connection"
   ]
  },
  {
   "cell_type": "code",
   "execution_count": 3,
   "metadata": {},
   "outputs": [],
   "source": [
    "connection = Connection(signal_ocean_api_key)"
   ]
  },
  {
   "cell_type": "markdown",
   "metadata": {},
   "source": [
    "## Call the vessels API\n",
    "The Vessels API retrieves vessel information."
   ]
  },
  {
   "cell_type": "code",
   "execution_count": 4,
   "metadata": {},
   "outputs": [],
   "source": [
    "api = VesselsAPI(connection)"
   ]
  },
  {
   "cell_type": "markdown",
   "metadata": {},
   "source": [
    "#### Get vessel classes"
   ]
  },
  {
   "cell_type": "markdown",
   "metadata": {},
   "source": [
    "Retrieve information on the various vessel classes"
   ]
  },
  {
   "cell_type": "code",
   "execution_count": 5,
   "metadata": {},
   "outputs": [],
   "source": [
    "vessel_classes = api.get_vessel_classes()"
   ]
  },
  {
   "cell_type": "markdown",
   "metadata": {},
   "source": [
    "Extract the returned information into a dataframe"
   ]
  },
  {
   "cell_type": "code",
   "execution_count": 6,
   "metadata": {},
   "outputs": [
    {
     "data": {
      "text/html": [
       "<div>\n",
       "<style scoped>\n",
       "    .dataframe tbody tr th:only-of-type {\n",
       "        vertical-align: middle;\n",
       "    }\n",
       "\n",
       "    .dataframe tbody tr th {\n",
       "        vertical-align: top;\n",
       "    }\n",
       "\n",
       "    .dataframe thead th {\n",
       "        text-align: right;\n",
       "    }\n",
       "</style>\n",
       "<table border=\"1\" class=\"dataframe\">\n",
       "  <thead>\n",
       "    <tr style=\"text-align: right;\">\n",
       "      <th></th>\n",
       "      <th>id</th>\n",
       "      <th>vessel_type_id</th>\n",
       "      <th>from_size</th>\n",
       "      <th>to_size</th>\n",
       "      <th>name</th>\n",
       "      <th>vessel_type</th>\n",
       "      <th>defining_size</th>\n",
       "      <th>size</th>\n",
       "    </tr>\n",
       "  </thead>\n",
       "  <tbody>\n",
       "    <tr>\n",
       "      <th>0</th>\n",
       "      <td>-2</td>\n",
       "      <td>-2</td>\n",
       "      <td>0</td>\n",
       "      <td>0</td>\n",
       "      <td>Not set</td>\n",
       "      <td>Not Set</td>\n",
       "      <td>NotSet</td>\n",
       "      <td>NotSet</td>\n",
       "    </tr>\n",
       "    <tr>\n",
       "      <th>1</th>\n",
       "      <td>-1</td>\n",
       "      <td>-1</td>\n",
       "      <td>0</td>\n",
       "      <td>0</td>\n",
       "      <td>Unknown</td>\n",
       "      <td>Unknown</td>\n",
       "      <td>Unknown</td>\n",
       "      <td>Unknown</td>\n",
       "    </tr>\n",
       "    <tr>\n",
       "      <th>2</th>\n",
       "      <td>60</td>\n",
       "      <td>6</td>\n",
       "      <td>70001</td>\n",
       "      <td>250000</td>\n",
       "      <td>VLGC</td>\n",
       "      <td>LPG</td>\n",
       "      <td>CubicSize</td>\n",
       "      <td>cbm</td>\n",
       "    </tr>\n",
       "    <tr>\n",
       "      <th>3</th>\n",
       "      <td>61</td>\n",
       "      <td>6</td>\n",
       "      <td>28001</td>\n",
       "      <td>70000</td>\n",
       "      <td>Midsize/LGC</td>\n",
       "      <td>LPG</td>\n",
       "      <td>CubicSize</td>\n",
       "      <td>cbm</td>\n",
       "    </tr>\n",
       "    <tr>\n",
       "      <th>4</th>\n",
       "      <td>62</td>\n",
       "      <td>6</td>\n",
       "      <td>10001</td>\n",
       "      <td>28000</td>\n",
       "      <td>Handy</td>\n",
       "      <td>LPG</td>\n",
       "      <td>CubicSize</td>\n",
       "      <td>cbm</td>\n",
       "    </tr>\n",
       "  </tbody>\n",
       "</table>\n",
       "</div>"
      ],
      "text/plain": [
       "   id  vessel_type_id  from_size  to_size         name vessel_type  \\\n",
       "0  -2              -2          0        0      Not set     Not Set   \n",
       "1  -1              -1          0        0      Unknown     Unknown   \n",
       "2  60               6      70001   250000         VLGC         LPG   \n",
       "3  61               6      28001    70000  Midsize/LGC         LPG   \n",
       "4  62               6      10001    28000        Handy         LPG   \n",
       "\n",
       "  defining_size     size  \n",
       "0        NotSet   NotSet  \n",
       "1       Unknown  Unknown  \n",
       "2     CubicSize      cbm  \n",
       "3     CubicSize      cbm  \n",
       "4     CubicSize      cbm  "
      ]
     },
     "execution_count": 6,
     "metadata": {},
     "output_type": "execute_result"
    }
   ],
   "source": [
    "pd.DataFrame([vc.__dict__ for vc in vessel_classes]).head()"
   ]
  },
  {
   "cell_type": "markdown",
   "metadata": {},
   "source": [
    "#### Get vessel types"
   ]
  },
  {
   "cell_type": "markdown",
   "metadata": {},
   "source": [
    "Retrieve information on the various vessel types"
   ]
  },
  {
   "cell_type": "code",
   "execution_count": 7,
   "metadata": {},
   "outputs": [],
   "source": [
    "vessel_types = api.get_vessel_types()"
   ]
  },
  {
   "cell_type": "markdown",
   "metadata": {},
   "source": [
    "Extract the returned information into a dataframe"
   ]
  },
  {
   "cell_type": "code",
   "execution_count": 8,
   "metadata": {},
   "outputs": [
    {
     "data": {
      "text/html": [
       "<div>\n",
       "<style scoped>\n",
       "    .dataframe tbody tr th:only-of-type {\n",
       "        vertical-align: middle;\n",
       "    }\n",
       "\n",
       "    .dataframe tbody tr th {\n",
       "        vertical-align: top;\n",
       "    }\n",
       "\n",
       "    .dataframe thead th {\n",
       "        text-align: right;\n",
       "    }\n",
       "</style>\n",
       "<table border=\"1\" class=\"dataframe\">\n",
       "  <thead>\n",
       "    <tr style=\"text-align: right;\">\n",
       "      <th></th>\n",
       "      <th>id</th>\n",
       "      <th>name</th>\n",
       "    </tr>\n",
       "  </thead>\n",
       "  <tbody>\n",
       "    <tr>\n",
       "      <th>0</th>\n",
       "      <td>-2</td>\n",
       "      <td>Not Set</td>\n",
       "    </tr>\n",
       "    <tr>\n",
       "      <th>1</th>\n",
       "      <td>-1</td>\n",
       "      <td>Unknown</td>\n",
       "    </tr>\n",
       "    <tr>\n",
       "      <th>2</th>\n",
       "      <td>6</td>\n",
       "      <td>LPG</td>\n",
       "    </tr>\n",
       "    <tr>\n",
       "      <th>3</th>\n",
       "      <td>3</td>\n",
       "      <td>Dry</td>\n",
       "    </tr>\n",
       "    <tr>\n",
       "      <th>4</th>\n",
       "      <td>4</td>\n",
       "      <td>Container</td>\n",
       "    </tr>\n",
       "    <tr>\n",
       "      <th>5</th>\n",
       "      <td>1</td>\n",
       "      <td>Tanker</td>\n",
       "    </tr>\n",
       "    <tr>\n",
       "      <th>6</th>\n",
       "      <td>5</td>\n",
       "      <td>LNG</td>\n",
       "    </tr>\n",
       "  </tbody>\n",
       "</table>\n",
       "</div>"
      ],
      "text/plain": [
       "   id       name\n",
       "0  -2    Not Set\n",
       "1  -1    Unknown\n",
       "2   6        LPG\n",
       "3   3        Dry\n",
       "4   4  Container\n",
       "5   1     Tanker\n",
       "6   5        LNG"
      ]
     },
     "execution_count": 8,
     "metadata": {},
     "output_type": "execute_result"
    }
   ],
   "source": [
    "pd.DataFrame([vc.__dict__ for vc in vessel_types]).head(7)"
   ]
  },
  {
   "cell_type": "markdown",
   "metadata": {},
   "source": [
    "#### Get details for a specific vessel"
   ]
  },
  {
   "cell_type": "code",
   "execution_count": 9,
   "metadata": {},
   "outputs": [
    {
     "name": "stdout",
     "output_type": "stream",
     "text": [
      "9436006: Samsun (Aframax / Unknown)\n"
     ]
    }
   ],
   "source": [
    "imo = 9436006\n",
    "v = api.get_vessel(imo)\n",
    "print(f'{v.imo}: {v.vessel_name} ({v.vessel_class} / {v.commercial_operator})')"
   ]
  },
  {
   "cell_type": "markdown",
   "metadata": {},
   "source": [
    "#### Get details for all vessels"
   ]
  },
  {
   "cell_type": "code",
   "execution_count": 10,
   "metadata": {},
   "outputs": [],
   "source": [
    "vessels = api.get_vessels()"
   ]
  },
  {
   "cell_type": "markdown",
   "metadata": {},
   "source": [
    "Extract the returned information into a dataframe"
   ]
  },
  {
   "cell_type": "code",
   "execution_count": 11,
   "metadata": {},
   "outputs": [],
   "source": [
    "df = pd.DataFrame([x.__dict__ for x in vessels])"
   ]
  },
  {
   "cell_type": "code",
   "execution_count": 12,
   "metadata": {},
   "outputs": [
    {
     "data": {
      "text/html": [
       "<div>\n",
       "<style scoped>\n",
       "    .dataframe tbody tr th:only-of-type {\n",
       "        vertical-align: middle;\n",
       "    }\n",
       "\n",
       "    .dataframe tbody tr th {\n",
       "        vertical-align: top;\n",
       "    }\n",
       "\n",
       "    .dataframe thead th {\n",
       "        text-align: right;\n",
       "    }\n",
       "</style>\n",
       "<table border=\"1\" class=\"dataframe\">\n",
       "  <thead>\n",
       "    <tr style=\"text-align: right;\">\n",
       "      <th></th>\n",
       "      <th>imo</th>\n",
       "      <th>vessel_name</th>\n",
       "      <th>vessel_class</th>\n",
       "    </tr>\n",
       "  </thead>\n",
       "  <tbody>\n",
       "    <tr>\n",
       "      <th>840</th>\n",
       "      <td>6702442</td>\n",
       "      <td>Provider I</td>\n",
       "      <td>Small</td>\n",
       "    </tr>\n",
       "    <tr>\n",
       "      <th>55120</th>\n",
       "      <td>9913975</td>\n",
       "      <td>Gao Lan 309</td>\n",
       "      <td>Handysize</td>\n",
       "    </tr>\n",
       "    <tr>\n",
       "      <th>13633</th>\n",
       "      <td>8945543</td>\n",
       "      <td>Toni Dominique Ii</td>\n",
       "      <td>Small</td>\n",
       "    </tr>\n",
       "    <tr>\n",
       "      <th>25159</th>\n",
       "      <td>9273636</td>\n",
       "      <td>Spica</td>\n",
       "      <td>MR2</td>\n",
       "    </tr>\n",
       "    <tr>\n",
       "      <th>21680</th>\n",
       "      <td>9196826</td>\n",
       "      <td>Ten Spring</td>\n",
       "      <td>Post Panamax</td>\n",
       "    </tr>\n",
       "  </tbody>\n",
       "</table>\n",
       "</div>"
      ],
      "text/plain": [
       "           imo        vessel_name  vessel_class\n",
       "840    6702442         Provider I         Small\n",
       "55120  9913975        Gao Lan 309     Handysize\n",
       "13633  8945543  Toni Dominique Ii         Small\n",
       "25159  9273636              Spica           MR2\n",
       "21680  9196826         Ten Spring  Post Panamax"
      ]
     },
     "execution_count": 12,
     "metadata": {},
     "output_type": "execute_result"
    }
   ],
   "source": [
    "df[['imo', 'vessel_name', 'vessel_class']].sample(5)"
   ]
  },
  {
   "cell_type": "markdown",
   "metadata": {},
   "source": [
    "#### Find fleet size per vessel class - exclude scrapped vessels"
   ]
  },
  {
   "cell_type": "code",
   "execution_count": 13,
   "metadata": {},
   "outputs": [
    {
     "data": {
      "text/html": [
       "<div>\n",
       "<style scoped>\n",
       "    .dataframe tbody tr th:only-of-type {\n",
       "        vertical-align: middle;\n",
       "    }\n",
       "\n",
       "    .dataframe tbody tr th {\n",
       "        vertical-align: top;\n",
       "    }\n",
       "\n",
       "    .dataframe thead th {\n",
       "        text-align: right;\n",
       "    }\n",
       "</style>\n",
       "<table border=\"1\" class=\"dataframe\">\n",
       "  <thead>\n",
       "    <tr style=\"text-align: right;\">\n",
       "      <th></th>\n",
       "      <th>vessel_count</th>\n",
       "    </tr>\n",
       "    <tr>\n",
       "      <th>vessel_class</th>\n",
       "      <th></th>\n",
       "    </tr>\n",
       "  </thead>\n",
       "  <tbody>\n",
       "    <tr>\n",
       "      <th>Small</th>\n",
       "      <td>21339</td>\n",
       "    </tr>\n",
       "    <tr>\n",
       "      <th>Panamax</th>\n",
       "      <td>4164</td>\n",
       "    </tr>\n",
       "    <tr>\n",
       "      <th>Supramax</th>\n",
       "      <td>3685</td>\n",
       "    </tr>\n",
       "    <tr>\n",
       "      <th>Handysize</th>\n",
       "      <td>3358</td>\n",
       "    </tr>\n",
       "    <tr>\n",
       "      <th>MR2</th>\n",
       "      <td>1946</td>\n",
       "    </tr>\n",
       "    <tr>\n",
       "      <th>Post Panamax</th>\n",
       "      <td>1815</td>\n",
       "    </tr>\n",
       "    <tr>\n",
       "      <th>Capesize</th>\n",
       "      <td>1687</td>\n",
       "    </tr>\n",
       "    <tr>\n",
       "      <th>Feeder</th>\n",
       "      <td>1593</td>\n",
       "    </tr>\n",
       "    <tr>\n",
       "      <th>Aframax</th>\n",
       "      <td>1303</td>\n",
       "    </tr>\n",
       "    <tr>\n",
       "      <th>VLCC</th>\n",
       "      <td>1057</td>\n",
       "    </tr>\n",
       "  </tbody>\n",
       "</table>\n",
       "</div>"
      ],
      "text/plain": [
       "              vessel_count\n",
       "vessel_class              \n",
       "Small                21339\n",
       "Panamax               4164\n",
       "Supramax              3685\n",
       "Handysize             3358\n",
       "MR2                   1946\n",
       "Post Panamax          1815\n",
       "Capesize              1687\n",
       "Feeder                1593\n",
       "Aframax               1303\n",
       "VLCC                  1057"
      ]
     },
     "execution_count": 13,
     "metadata": {},
     "output_type": "execute_result"
    }
   ],
   "source": [
    "df[pd.isnull(df['scrapped_date'])]['vessel_class'].value_counts().to_frame('vessel_count').head(10)"
   ]
  },
  {
   "cell_type": "markdown",
   "metadata": {},
   "source": [
    "#### Find the commercial operators that currently operate the largest Aframax fleets"
   ]
  },
  {
   "cell_type": "code",
   "execution_count": 14,
   "metadata": {},
   "outputs": [
    {
     "data": {
      "text/plain": [
       "commercial_operator\n",
       "Unknown                          205\n",
       "Sovcomflot                        46\n",
       "Trafigura                         35\n",
       "Cardiff Marine                    31\n",
       "Scorpio Commercial Management     30\n",
       "Teekay Corp                       29\n",
       "Shell                             28\n",
       "Penfield Marine                   28\n",
       "Minerva Marine                    27\n",
       "Navig8 group                      23\n",
       "Name: count, dtype: int64"
      ]
     },
     "execution_count": 14,
     "metadata": {},
     "output_type": "execute_result"
    }
   ],
   "source": [
    "data = df[(df['vessel_class']=='Aframax')&(pd.isnull(df['scrapped_date']))]\n",
    "data['commercial_operator'].value_counts().head(10)"
   ]
  },
  {
   "cell_type": "markdown",
   "metadata": {},
   "source": [
    "#### Get all vessels the name of which contains the term signal"
   ]
  },
  {
   "cell_type": "code",
   "execution_count": 15,
   "metadata": {},
   "outputs": [
    {
     "data": {
      "text/plain": [
       "0"
      ]
     },
     "execution_count": 15,
     "metadata": {},
     "output_type": "execute_result"
    }
   ],
   "source": [
    "vessels = api.get_vessels('signal')\n",
    "len(vessels)"
   ]
  },
  {
   "cell_type": "markdown",
   "metadata": {},
   "source": [
    "Extract the returned information into a dataframe"
   ]
  },
  {
   "cell_type": "code",
   "execution_count": 16,
   "metadata": {},
   "outputs": [
    {
     "data": {
      "text/html": [
       "<div>\n",
       "<style scoped>\n",
       "    .dataframe tbody tr th:only-of-type {\n",
       "        vertical-align: middle;\n",
       "    }\n",
       "\n",
       "    .dataframe tbody tr th {\n",
       "        vertical-align: top;\n",
       "    }\n",
       "\n",
       "    .dataframe thead th {\n",
       "        text-align: right;\n",
       "    }\n",
       "</style>\n",
       "<table border=\"1\" class=\"dataframe\">\n",
       "  <thead>\n",
       "    <tr style=\"text-align: right;\">\n",
       "      <th></th>\n",
       "    </tr>\n",
       "  </thead>\n",
       "  <tbody>\n",
       "  </tbody>\n",
       "</table>\n",
       "</div>"
      ],
      "text/plain": [
       "Empty DataFrame\n",
       "Columns: []\n",
       "Index: []"
      ]
     },
     "execution_count": 16,
     "metadata": {},
     "output_type": "execute_result"
    }
   ],
   "source": [
    "df = pd.DataFrame([x.__dict__ for x in vessels])\n",
    "df.head()"
   ]
  },
  {
   "cell_type": "markdown",
   "metadata": {},
   "source": [
    "#### Get Vessel Names Changes"
   ]
  },
  {
   "cell_type": "markdown",
   "metadata": {},
   "source": [
    "You can get Vessel Name changes for all vessels or for a specific one "
   ]
  },
  {
   "cell_type": "code",
   "execution_count": 17,
   "metadata": {},
   "outputs": [],
   "source": [
    "imo = 9436006\n",
    "vessels_names = api.get_vessels_name_history(imo)"
   ]
  },
  {
   "cell_type": "code",
   "execution_count": 18,
   "metadata": {},
   "outputs": [],
   "source": [
    "df = pd.DataFrame([x.__dict__ for x in vessels_names[0].history[0].values])"
   ]
  },
  {
   "cell_type": "code",
   "execution_count": 19,
   "metadata": {},
   "outputs": [
    {
     "data": {
      "text/html": [
       "<div>\n",
       "<style scoped>\n",
       "    .dataframe tbody tr th:only-of-type {\n",
       "        vertical-align: middle;\n",
       "    }\n",
       "\n",
       "    .dataframe tbody tr th {\n",
       "        vertical-align: top;\n",
       "    }\n",
       "\n",
       "    .dataframe thead th {\n",
       "        text-align: right;\n",
       "    }\n",
       "</style>\n",
       "<table border=\"1\" class=\"dataframe\">\n",
       "  <thead>\n",
       "    <tr style=\"text-align: right;\">\n",
       "      <th></th>\n",
       "      <th>value</th>\n",
       "      <th>begin_date</th>\n",
       "      <th>end_date</th>\n",
       "      <th>name</th>\n",
       "    </tr>\n",
       "  </thead>\n",
       "  <tbody>\n",
       "    <tr>\n",
       "      <th>0</th>\n",
       "      <td>Stealth Chios</td>\n",
       "      <td>1900-01-01 00:00:00+00:00</td>\n",
       "      <td>2012-01-01 23:13:55+00:00</td>\n",
       "      <td>None</td>\n",
       "    </tr>\n",
       "    <tr>\n",
       "      <th>1</th>\n",
       "      <td>Signal Cheetah</td>\n",
       "      <td>2012-01-01 23:13:55+00:00</td>\n",
       "      <td>2021-02-25 23:56:31+00:00</td>\n",
       "      <td>None</td>\n",
       "    </tr>\n",
       "    <tr>\n",
       "      <th>2</th>\n",
       "      <td>Stealth Chios</td>\n",
       "      <td>2021-02-25 23:56:31+00:00</td>\n",
       "      <td>2021-05-01 07:41:09+00:00</td>\n",
       "      <td>None</td>\n",
       "    </tr>\n",
       "    <tr>\n",
       "      <th>3</th>\n",
       "      <td>Paramount</td>\n",
       "      <td>2021-05-01 07:41:09+00:00</td>\n",
       "      <td>2023-03-10 18:59:11+00:00</td>\n",
       "      <td>None</td>\n",
       "    </tr>\n",
       "    <tr>\n",
       "      <th>4</th>\n",
       "      <td>Samsun</td>\n",
       "      <td>2023-03-10 18:59:11+00:00</td>\n",
       "      <td>9999-12-31 23:59:59.999999+00:00</td>\n",
       "      <td>None</td>\n",
       "    </tr>\n",
       "  </tbody>\n",
       "</table>\n",
       "</div>"
      ],
      "text/plain": [
       "            value                begin_date                          end_date  \\\n",
       "0   Stealth Chios 1900-01-01 00:00:00+00:00         2012-01-01 23:13:55+00:00   \n",
       "1  Signal Cheetah 2012-01-01 23:13:55+00:00         2021-02-25 23:56:31+00:00   \n",
       "2   Stealth Chios 2021-02-25 23:56:31+00:00         2021-05-01 07:41:09+00:00   \n",
       "3       Paramount 2021-05-01 07:41:09+00:00         2023-03-10 18:59:11+00:00   \n",
       "4          Samsun 2023-03-10 18:59:11+00:00  9999-12-31 23:59:59.999999+00:00   \n",
       "\n",
       "   name  \n",
       "0  None  \n",
       "1  None  \n",
       "2  None  \n",
       "3  None  \n",
       "4  None  "
      ]
     },
     "execution_count": 19,
     "metadata": {},
     "output_type": "execute_result"
    }
   ],
   "source": [
    "df"
   ]
  },
  {
   "cell_type": "markdown",
   "metadata": {},
   "source": [
    "#### Get Commercial Operator Changes"
   ]
  },
  {
   "cell_type": "markdown",
   "metadata": {},
   "source": [
    "You can get Vessel Name changes for all vessels or for a specific one "
   ]
  },
  {
   "cell_type": "code",
   "execution_count": 20,
   "metadata": {},
   "outputs": [],
   "source": [
    "imo = 9436006\n",
    "vessels_names = api.get_vessels_commOp_history(imo)"
   ]
  },
  {
   "cell_type": "code",
   "execution_count": 21,
   "metadata": {},
   "outputs": [],
   "source": [
    "df = pd.DataFrame([x.__dict__ for x in vessels_names[0].history[0].values])"
   ]
  },
  {
   "cell_type": "code",
   "execution_count": 22,
   "metadata": {},
   "outputs": [
    {
     "data": {
      "text/html": [
       "<div>\n",
       "<style scoped>\n",
       "    .dataframe tbody tr th:only-of-type {\n",
       "        vertical-align: middle;\n",
       "    }\n",
       "\n",
       "    .dataframe tbody tr th {\n",
       "        vertical-align: top;\n",
       "    }\n",
       "\n",
       "    .dataframe thead th {\n",
       "        text-align: right;\n",
       "    }\n",
       "</style>\n",
       "<table border=\"1\" class=\"dataframe\">\n",
       "  <thead>\n",
       "    <tr style=\"text-align: right;\">\n",
       "      <th></th>\n",
       "      <th>value</th>\n",
       "      <th>begin_date</th>\n",
       "      <th>end_date</th>\n",
       "      <th>name</th>\n",
       "    </tr>\n",
       "  </thead>\n",
       "  <tbody>\n",
       "    <tr>\n",
       "      <th>0</th>\n",
       "      <td>1926</td>\n",
       "      <td>1900-01-01 00:00:00+00:00</td>\n",
       "      <td>2016-06-12 13:03:12+00:00</td>\n",
       "      <td>Signal Maritime</td>\n",
       "    </tr>\n",
       "    <tr>\n",
       "      <th>1</th>\n",
       "      <td>1713</td>\n",
       "      <td>2016-06-12 13:03:12+00:00</td>\n",
       "      <td>2016-06-13 13:03:12+00:00</td>\n",
       "      <td>Trafigura</td>\n",
       "    </tr>\n",
       "    <tr>\n",
       "      <th>2</th>\n",
       "      <td>1926</td>\n",
       "      <td>2016-06-13 13:03:12+00:00</td>\n",
       "      <td>2021-02-22 00:00:00+00:00</td>\n",
       "      <td>Signal Maritime</td>\n",
       "    </tr>\n",
       "    <tr>\n",
       "      <th>3</th>\n",
       "      <td>1597</td>\n",
       "      <td>2021-02-22 00:00:00+00:00</td>\n",
       "      <td>2023-04-06 15:02:40.715274+00:00</td>\n",
       "      <td>Stealth Maritime Corp</td>\n",
       "    </tr>\n",
       "    <tr>\n",
       "      <th>4</th>\n",
       "      <td>-1</td>\n",
       "      <td>2023-04-06 15:02:40.715274+00:00</td>\n",
       "      <td>9999-12-31 23:59:59.999999+00:00</td>\n",
       "      <td>Unknown</td>\n",
       "    </tr>\n",
       "  </tbody>\n",
       "</table>\n",
       "</div>"
      ],
      "text/plain": [
       "  value                       begin_date                          end_date  \\\n",
       "0  1926        1900-01-01 00:00:00+00:00         2016-06-12 13:03:12+00:00   \n",
       "1  1713        2016-06-12 13:03:12+00:00         2016-06-13 13:03:12+00:00   \n",
       "2  1926        2016-06-13 13:03:12+00:00         2021-02-22 00:00:00+00:00   \n",
       "3  1597        2021-02-22 00:00:00+00:00  2023-04-06 15:02:40.715274+00:00   \n",
       "4    -1 2023-04-06 15:02:40.715274+00:00  9999-12-31 23:59:59.999999+00:00   \n",
       "\n",
       "                    name  \n",
       "0        Signal Maritime  \n",
       "1              Trafigura  \n",
       "2        Signal Maritime  \n",
       "3  Stealth Maritime Corp  \n",
       "4                Unknown  "
      ]
     },
     "execution_count": 22,
     "metadata": {},
     "output_type": "execute_result"
    }
   ],
   "source": [
    "df"
   ]
  }
 ],
 "metadata": {
  "kernelspec": {
   "display_name": "Python 3 (ipykernel)",
   "language": "python",
   "name": "python3"
  },
  "language_info": {
   "codemirror_mode": {
    "name": "ipython",
    "version": 3
   },
   "file_extension": ".py",
   "mimetype": "text/x-python",
   "name": "python",
   "nbconvert_exporter": "python",
   "pygments_lexer": "ipython3",
   "version": "3.11.5"
  }
 },
 "nbformat": 4,
 "nbformat_minor": 4
}
