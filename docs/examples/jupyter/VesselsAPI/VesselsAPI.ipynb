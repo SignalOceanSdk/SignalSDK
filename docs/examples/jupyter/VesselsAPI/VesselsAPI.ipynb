{
 "cells": [
  {
   "cell_type": "markdown",
   "metadata": {},
   "source": [
    "# Vessels API Example\n",
    "\n",
    "## Run this example in [Colab](https://colab.research.google.com/github/SignalOceanSdk/SignalSDK/blob/master/docs/examples/jupyter/VesselsAPI/VesselsAPI.ipynb) "
   ]
  },
  {
   "cell_type": "markdown",
   "metadata": {},
   "source": [
    "<h3>Setup</h3>"
   ]
  },
  {
   "cell_type": "markdown",
   "metadata": {},
   "source": [
    "Install the Signal Ocean SDK:"
   ]
  },
  {
   "cell_type": "code",
   "execution_count": null,
   "metadata": {},
   "outputs": [],
   "source": [
    "pip install signal-ocean"
   ]
  },
  {
   "cell_type": "markdown",
   "metadata": {
    "id": "8hq1SgijyOr6"
   },
   "source": [
    "Import required libraries / APIs / packages:"
   ]
  },
  {
   "cell_type": "markdown",
   "metadata": {},
   "source": [
    "<h3>Import Vessels API and some additional libraries</h3>"
   ]
  },
  {
   "cell_type": "code",
   "execution_count": 1,
   "metadata": {},
   "outputs": [],
   "source": [
    "from signal_ocean.vessels import VesselsAPI\n",
    "import pandas as pd\n",
    "from datetime import datetime\n",
    "from signal_ocean import Connection"
   ]
  },
  {
   "cell_type": "markdown",
   "metadata": {
    "id": "w3y19XNwyOr8"
   },
   "source": [
    "Fill in your personal SignalOcean API subscription key acquired <a href=\"https://apis.signalocean.com/profile\" target=\"_blank\">here</a> and open a connection:"
   ]
  },
  {
   "cell_type": "code",
   "execution_count": 2,
   "metadata": {},
   "outputs": [],
   "source": [
    "signal_ocean_api_key = '' #replace with your subscription key"
   ]
  },
  {
   "cell_type": "markdown",
   "metadata": {},
   "source": [
    "Create a connection"
   ]
  },
  {
   "cell_type": "code",
   "execution_count": 3,
   "metadata": {},
   "outputs": [],
   "source": [
    "connection = Connection(signal_ocean_api_key)"
   ]
  },
  {
   "cell_type": "markdown",
   "metadata": {},
   "source": [
    "## Call the vessels API\n",
    "The Vessels API retrieves vessel information."
   ]
  },
  {
   "cell_type": "code",
   "execution_count": 4,
   "metadata": {},
   "outputs": [],
   "source": [
    "api = VesselsAPI(connection)"
   ]
  },
  {
   "cell_type": "markdown",
   "metadata": {},
   "source": [
    "#### Get vessel classes"
   ]
  },
  {
   "cell_type": "markdown",
   "metadata": {},
   "source": [
    "Retrieve information on the various vessel classes"
   ]
  },
  {
   "cell_type": "code",
   "execution_count": 5,
   "metadata": {},
   "outputs": [],
   "source": [
    "vessel_classes = api.get_vessel_classes()"
   ]
  },
  {
   "cell_type": "markdown",
   "metadata": {},
   "source": [
    "Extract the returned information into a dataframe"
   ]
  },
  {
   "cell_type": "code",
   "execution_count": 6,
   "metadata": {},
   "outputs": [
    {
     "data": {
      "text/html": [
       "<div>\n",
       "<style scoped>\n",
       "    .dataframe tbody tr th:only-of-type {\n",
       "        vertical-align: middle;\n",
       "    }\n",
       "\n",
       "    .dataframe tbody tr th {\n",
       "        vertical-align: top;\n",
       "    }\n",
       "\n",
       "    .dataframe thead th {\n",
       "        text-align: right;\n",
       "    }\n",
       "</style>\n",
       "<table border=\"1\" class=\"dataframe\">\n",
       "  <thead>\n",
       "    <tr style=\"text-align: right;\">\n",
       "      <th></th>\n",
       "      <th>id</th>\n",
       "      <th>vessel_type_id</th>\n",
       "      <th>from_size</th>\n",
       "      <th>to_size</th>\n",
       "      <th>name</th>\n",
       "      <th>vessel_type</th>\n",
       "      <th>defining_size</th>\n",
       "      <th>size</th>\n",
       "    </tr>\n",
       "  </thead>\n",
       "  <tbody>\n",
       "    <tr>\n",
       "      <th>0</th>\n",
       "      <td>-2</td>\n",
       "      <td>-2</td>\n",
       "      <td>0</td>\n",
       "      <td>0</td>\n",
       "      <td>Not set</td>\n",
       "      <td>Not Set</td>\n",
       "      <td>NotSet</td>\n",
       "      <td>NotSet</td>\n",
       "    </tr>\n",
       "    <tr>\n",
       "      <th>1</th>\n",
       "      <td>-1</td>\n",
       "      <td>-1</td>\n",
       "      <td>0</td>\n",
       "      <td>0</td>\n",
       "      <td>Unknown</td>\n",
       "      <td>Unknown</td>\n",
       "      <td>Unknown</td>\n",
       "      <td>Unknown</td>\n",
       "    </tr>\n",
       "    <tr>\n",
       "      <th>2</th>\n",
       "      <td>60</td>\n",
       "      <td>6</td>\n",
       "      <td>70001</td>\n",
       "      <td>250000</td>\n",
       "      <td>VLGC</td>\n",
       "      <td>LPG</td>\n",
       "      <td>CubicSize</td>\n",
       "      <td>cbm</td>\n",
       "    </tr>\n",
       "    <tr>\n",
       "      <th>3</th>\n",
       "      <td>61</td>\n",
       "      <td>6</td>\n",
       "      <td>28001</td>\n",
       "      <td>70000</td>\n",
       "      <td>Midsize/LGC</td>\n",
       "      <td>LPG</td>\n",
       "      <td>CubicSize</td>\n",
       "      <td>cbm</td>\n",
       "    </tr>\n",
       "    <tr>\n",
       "      <th>4</th>\n",
       "      <td>62</td>\n",
       "      <td>6</td>\n",
       "      <td>10001</td>\n",
       "      <td>28000</td>\n",
       "      <td>Handy</td>\n",
       "      <td>LPG</td>\n",
       "      <td>CubicSize</td>\n",
       "      <td>cbm</td>\n",
       "    </tr>\n",
       "  </tbody>\n",
       "</table>\n",
       "</div>"
      ],
      "text/plain": [
       "   id  vessel_type_id  from_size  to_size         name vessel_type  \\\n",
       "0  -2              -2          0        0      Not set     Not Set   \n",
       "1  -1              -1          0        0      Unknown     Unknown   \n",
       "2  60               6      70001   250000         VLGC         LPG   \n",
       "3  61               6      28001    70000  Midsize/LGC         LPG   \n",
       "4  62               6      10001    28000        Handy         LPG   \n",
       "\n",
       "  defining_size     size  \n",
       "0        NotSet   NotSet  \n",
       "1       Unknown  Unknown  \n",
       "2     CubicSize      cbm  \n",
       "3     CubicSize      cbm  \n",
       "4     CubicSize      cbm  "
      ]
     },
     "execution_count": 6,
     "metadata": {},
     "output_type": "execute_result"
    }
   ],
   "source": [
    "pd.DataFrame([vc.__dict__ for vc in vessel_classes]).head()"
   ]
  },
  {
   "cell_type": "markdown",
   "metadata": {},
   "source": [
    "#### Get vessel types"
   ]
  },
  {
   "cell_type": "markdown",
   "metadata": {},
   "source": [
    "Retrieve information on the various vessel types"
   ]
  },
  {
   "cell_type": "code",
   "execution_count": 7,
   "metadata": {},
   "outputs": [],
   "source": [
    "vessel_types = api.get_vessel_types()"
   ]
  },
  {
   "cell_type": "markdown",
   "metadata": {},
   "source": [
    "Extract the returned information into a dataframe"
   ]
  },
  {
   "cell_type": "code",
   "execution_count": 8,
   "metadata": {},
   "outputs": [
    {
     "data": {
      "text/html": [
       "<div>\n",
       "<style scoped>\n",
       "    .dataframe tbody tr th:only-of-type {\n",
       "        vertical-align: middle;\n",
       "    }\n",
       "\n",
       "    .dataframe tbody tr th {\n",
       "        vertical-align: top;\n",
       "    }\n",
       "\n",
       "    .dataframe thead th {\n",
       "        text-align: right;\n",
       "    }\n",
       "</style>\n",
       "<table border=\"1\" class=\"dataframe\">\n",
       "  <thead>\n",
       "    <tr style=\"text-align: right;\">\n",
       "      <th></th>\n",
       "      <th>id</th>\n",
       "      <th>name</th>\n",
       "    </tr>\n",
       "  </thead>\n",
       "  <tbody>\n",
       "    <tr>\n",
       "      <th>0</th>\n",
       "      <td>-2</td>\n",
       "      <td>Not Set</td>\n",
       "    </tr>\n",
       "    <tr>\n",
       "      <th>1</th>\n",
       "      <td>-1</td>\n",
       "      <td>Unknown</td>\n",
       "    </tr>\n",
       "    <tr>\n",
       "      <th>2</th>\n",
       "      <td>6</td>\n",
       "      <td>LPG</td>\n",
       "    </tr>\n",
       "    <tr>\n",
       "      <th>3</th>\n",
       "      <td>3</td>\n",
       "      <td>Dry</td>\n",
       "    </tr>\n",
       "    <tr>\n",
       "      <th>4</th>\n",
       "      <td>4</td>\n",
       "      <td>Container</td>\n",
       "    </tr>\n",
       "    <tr>\n",
       "      <th>5</th>\n",
       "      <td>1</td>\n",
       "      <td>Tanker</td>\n",
       "    </tr>\n",
       "    <tr>\n",
       "      <th>6</th>\n",
       "      <td>5</td>\n",
       "      <td>LNG</td>\n",
       "    </tr>\n",
       "  </tbody>\n",
       "</table>\n",
       "</div>"
      ],
      "text/plain": [
       "   id       name\n",
       "0  -2    Not Set\n",
       "1  -1    Unknown\n",
       "2   6        LPG\n",
       "3   3        Dry\n",
       "4   4  Container\n",
       "5   1     Tanker\n",
       "6   5        LNG"
      ]
     },
     "execution_count": 8,
     "metadata": {},
     "output_type": "execute_result"
    }
   ],
   "source": [
    "pd.DataFrame([vc.__dict__ for vc in vessel_types]).head(7)"
   ]
  },
  {
   "cell_type": "markdown",
   "metadata": {},
   "source": [
    "#### Get details for a specific vessel"
   ]
  },
  {
   "cell_type": "code",
   "execution_count": 9,
   "metadata": {},
   "outputs": [
    {
     "name": "stdout",
     "output_type": "stream",
     "text": [
      "9436006: Samira (Aframax / Unknown)\n"
     ]
    }
   ],
   "source": [
    "imo = 9436006\n",
    "v = api.get_vessel(imo)\n",
    "print(f'{v.imo}: {v.vessel_name} ({v.vessel_class} / {v.commercial_operator})')"
   ]
  },
  {
   "cell_type": "markdown",
   "metadata": {},
   "source": [
    "#### Get details for all vessels"
   ]
  },
  {
   "cell_type": "code",
   "execution_count": 10,
   "metadata": {},
   "outputs": [],
   "source": [
    "vessels = api.get_vessels()"
   ]
  },
  {
   "cell_type": "markdown",
   "metadata": {},
   "source": [
    "Extract the returned information into a dataframe"
   ]
  },
  {
   "cell_type": "code",
   "execution_count": 11,
   "metadata": {},
   "outputs": [],
   "source": [
    "df = pd.DataFrame([x.__dict__ for x in vessels])"
   ]
  },
  {
   "cell_type": "code",
   "execution_count": 12,
   "metadata": {},
   "outputs": [
    {
     "data": {
      "text/html": [
       "<div>\n",
       "<style scoped>\n",
       "    .dataframe tbody tr th:only-of-type {\n",
       "        vertical-align: middle;\n",
       "    }\n",
       "\n",
       "    .dataframe tbody tr th {\n",
       "        vertical-align: top;\n",
       "    }\n",
       "\n",
       "    .dataframe thead th {\n",
       "        text-align: right;\n",
       "    }\n",
       "</style>\n",
       "<table border=\"1\" class=\"dataframe\">\n",
       "  <thead>\n",
       "    <tr style=\"text-align: right;\">\n",
       "      <th></th>\n",
       "      <th>imo</th>\n",
       "      <th>vessel_name</th>\n",
       "      <th>vessel_class</th>\n",
       "    </tr>\n",
       "  </thead>\n",
       "  <tbody>\n",
       "    <tr>\n",
       "      <th>21529</th>\n",
       "      <td>9121950</td>\n",
       "      <td>Ronika</td>\n",
       "      <td>Small</td>\n",
       "    </tr>\n",
       "    <tr>\n",
       "      <th>39179</th>\n",
       "      <td>9468152</td>\n",
       "      <td>Diamond Sea</td>\n",
       "      <td>Supramax</td>\n",
       "    </tr>\n",
       "    <tr>\n",
       "      <th>24506</th>\n",
       "      <td>9183843</td>\n",
       "      <td>Themsestern</td>\n",
       "      <td>Small</td>\n",
       "    </tr>\n",
       "    <tr>\n",
       "      <th>43464</th>\n",
       "      <td>9566435</td>\n",
       "      <td>Sanctum</td>\n",
       "      <td>Supramax</td>\n",
       "    </tr>\n",
       "    <tr>\n",
       "      <th>22524</th>\n",
       "      <td>9141302</td>\n",
       "      <td>San Diego</td>\n",
       "      <td>Panamax</td>\n",
       "    </tr>\n",
       "  </tbody>\n",
       "</table>\n",
       "</div>"
      ],
      "text/plain": [
       "           imo  vessel_name vessel_class\n",
       "21529  9121950       Ronika        Small\n",
       "39179  9468152  Diamond Sea     Supramax\n",
       "24506  9183843  Themsestern        Small\n",
       "43464  9566435      Sanctum     Supramax\n",
       "22524  9141302    San Diego      Panamax"
      ]
     },
     "execution_count": 12,
     "metadata": {},
     "output_type": "execute_result"
    }
   ],
   "source": [
    "df[['imo', 'vessel_name', 'vessel_class']].sample(5)"
   ]
  },
  {
   "cell_type": "markdown",
   "metadata": {},
   "source": [
    "#### Find fleet size per vessel class - exclude scrapped vessels"
   ]
  },
  {
   "cell_type": "code",
   "execution_count": 13,
   "metadata": {},
   "outputs": [
    {
     "data": {
      "text/html": [
       "<div>\n",
       "<style scoped>\n",
       "    .dataframe tbody tr th:only-of-type {\n",
       "        vertical-align: middle;\n",
       "    }\n",
       "\n",
       "    .dataframe tbody tr th {\n",
       "        vertical-align: top;\n",
       "    }\n",
       "\n",
       "    .dataframe thead th {\n",
       "        text-align: right;\n",
       "    }\n",
       "</style>\n",
       "<table border=\"1\" class=\"dataframe\">\n",
       "  <thead>\n",
       "    <tr style=\"text-align: right;\">\n",
       "      <th></th>\n",
       "      <th>vessel_count</th>\n",
       "    </tr>\n",
       "    <tr>\n",
       "      <th>vessel_class</th>\n",
       "      <th></th>\n",
       "    </tr>\n",
       "  </thead>\n",
       "  <tbody>\n",
       "    <tr>\n",
       "      <th>Small</th>\n",
       "      <td>21886</td>\n",
       "    </tr>\n",
       "    <tr>\n",
       "      <th>Panamax</th>\n",
       "      <td>4487</td>\n",
       "    </tr>\n",
       "    <tr>\n",
       "      <th>Supramax</th>\n",
       "      <td>4179</td>\n",
       "    </tr>\n",
       "    <tr>\n",
       "      <th>Handysize</th>\n",
       "      <td>3565</td>\n",
       "    </tr>\n",
       "    <tr>\n",
       "      <th>MR2</th>\n",
       "      <td>2125</td>\n",
       "    </tr>\n",
       "    <tr>\n",
       "      <th>Post Panamax</th>\n",
       "      <td>1959</td>\n",
       "    </tr>\n",
       "    <tr>\n",
       "      <th>Capesize</th>\n",
       "      <td>1804</td>\n",
       "    </tr>\n",
       "    <tr>\n",
       "      <th>Feeder</th>\n",
       "      <td>1662</td>\n",
       "    </tr>\n",
       "    <tr>\n",
       "      <th>Aframax</th>\n",
       "      <td>1406</td>\n",
       "    </tr>\n",
       "    <tr>\n",
       "      <th>VLCC</th>\n",
       "      <td>1113</td>\n",
       "    </tr>\n",
       "  </tbody>\n",
       "</table>\n",
       "</div>"
      ],
      "text/plain": [
       "              vessel_count\n",
       "vessel_class              \n",
       "Small                21886\n",
       "Panamax               4487\n",
       "Supramax              4179\n",
       "Handysize             3565\n",
       "MR2                   2125\n",
       "Post Panamax          1959\n",
       "Capesize              1804\n",
       "Feeder                1662\n",
       "Aframax               1406\n",
       "VLCC                  1113"
      ]
     },
     "execution_count": 13,
     "metadata": {},
     "output_type": "execute_result"
    }
   ],
   "source": [
    "df[pd.isnull(df['scrapped_date'])]['vessel_class'].value_counts().to_frame('vessel_count').head(10)"
   ]
  },
  {
   "cell_type": "markdown",
   "metadata": {},
   "source": [
    "#### Find the commercial operators that currently operate the largest Aframax fleets"
   ]
  },
  {
   "cell_type": "code",
   "execution_count": 14,
   "metadata": {},
   "outputs": [
    {
     "data": {
      "text/plain": [
       "commercial_operator\n",
       "Unknown                          302\n",
       "Sovcomflot                        49\n",
       "Trafigura                         29\n",
       "Shell                             29\n",
       "Maersk                            28\n",
       "Scorpio Commercial Management     25\n",
       "Teekay Corp                       24\n",
       "Cardiff Marine                    22\n",
       "AET                               22\n",
       "Thenamaris                        22\n",
       "Name: count, dtype: int64"
      ]
     },
     "execution_count": 14,
     "metadata": {},
     "output_type": "execute_result"
    }
   ],
   "source": [
    "data = df[(df['vessel_class']=='Aframax')&(pd.isnull(df['scrapped_date']))]\n",
    "data['commercial_operator'].value_counts().head(10)"
   ]
  },
  {
   "cell_type": "markdown",
   "metadata": {},
   "source": [
    "#### Get all vessels the name of which contains the term helen"
   ]
  },
  {
   "cell_type": "code",
   "execution_count": 15,
   "metadata": {},
   "outputs": [
    {
     "data": {
      "text/plain": [
       "39"
      ]
     },
     "execution_count": 15,
     "metadata": {},
     "output_type": "execute_result"
    }
   ],
   "source": [
    "vessels = api.get_vessels('helen')\n",
    "len(vessels)"
   ]
  },
  {
   "cell_type": "markdown",
   "metadata": {},
   "source": [
    "Extract the returned information into a dataframe"
   ]
  },
  {
   "cell_type": "code",
   "execution_count": 16,
   "metadata": {},
   "outputs": [
    {
     "data": {
      "text/html": [
       "<div>\n",
       "<style scoped>\n",
       "    .dataframe tbody tr th:only-of-type {\n",
       "        vertical-align: middle;\n",
       "    }\n",
       "\n",
       "    .dataframe tbody tr th {\n",
       "        vertical-align: top;\n",
       "    }\n",
       "\n",
       "    .dataframe thead th {\n",
       "        text-align: right;\n",
       "    }\n",
       "</style>\n",
       "<table border=\"1\" class=\"dataframe\">\n",
       "  <thead>\n",
       "    <tr style=\"text-align: right;\">\n",
       "      <th></th>\n",
       "      <th>imo</th>\n",
       "      <th>vessel_type_id</th>\n",
       "      <th>built_for_trade_id</th>\n",
       "      <th>trade_id</th>\n",
       "      <th>vessel_class_id</th>\n",
       "      <th>commercial_operator_id</th>\n",
       "      <th>deadweight</th>\n",
       "      <th>breadth_extreme</th>\n",
       "      <th>gross_rated_tonnage</th>\n",
       "      <th>reduced_gross_tonnage</th>\n",
       "      <th>...</th>\n",
       "      <th>empty_parallel_body_length</th>\n",
       "      <th>stern_line</th>\n",
       "      <th>yard_number</th>\n",
       "      <th>design_model</th>\n",
       "      <th>bow_to_center_manifold</th>\n",
       "      <th>water_line_to_manifold</th>\n",
       "      <th>deck_to_center_manifold</th>\n",
       "      <th>rail_to_center_manifold</th>\n",
       "      <th>bow_chain_stoppers_fitted</th>\n",
       "      <th>sanctions_history</th>\n",
       "    </tr>\n",
       "  </thead>\n",
       "  <tbody>\n",
       "    <tr>\n",
       "      <th>0</th>\n",
       "      <td>6716857</td>\n",
       "      <td>4</td>\n",
       "      <td>-1</td>\n",
       "      <td>-1</td>\n",
       "      <td>95</td>\n",
       "      <td>-1</td>\n",
       "      <td>1180</td>\n",
       "      <td>11</td>\n",
       "      <td>953</td>\n",
       "      <td>762</td>\n",
       "      <td>...</td>\n",
       "      <td>NaN</td>\n",
       "      <td>None</td>\n",
       "      <td>None</td>\n",
       "      <td>None</td>\n",
       "      <td>NaN</td>\n",
       "      <td>NaN</td>\n",
       "      <td>NaN</td>\n",
       "      <td>NaN</td>\n",
       "      <td>None</td>\n",
       "      <td>None</td>\n",
       "    </tr>\n",
       "    <tr>\n",
       "      <th>1</th>\n",
       "      <td>7360083</td>\n",
       "      <td>1</td>\n",
       "      <td>1</td>\n",
       "      <td>1</td>\n",
       "      <td>84</td>\n",
       "      <td>-1</td>\n",
       "      <td>274333</td>\n",
       "      <td>52</td>\n",
       "      <td>133871</td>\n",
       "      <td>98338</td>\n",
       "      <td>...</td>\n",
       "      <td>NaN</td>\n",
       "      <td>None</td>\n",
       "      <td>None</td>\n",
       "      <td>None</td>\n",
       "      <td>NaN</td>\n",
       "      <td>NaN</td>\n",
       "      <td>NaN</td>\n",
       "      <td>NaN</td>\n",
       "      <td>None</td>\n",
       "      <td>None</td>\n",
       "    </tr>\n",
       "    <tr>\n",
       "      <th>2</th>\n",
       "      <td>7915644</td>\n",
       "      <td>3</td>\n",
       "      <td>4</td>\n",
       "      <td>4</td>\n",
       "      <td>74</td>\n",
       "      <td>-1</td>\n",
       "      <td>69420</td>\n",
       "      <td>32</td>\n",
       "      <td>41644</td>\n",
       "      <td>33659</td>\n",
       "      <td>...</td>\n",
       "      <td>NaN</td>\n",
       "      <td>None</td>\n",
       "      <td>None</td>\n",
       "      <td>None</td>\n",
       "      <td>NaN</td>\n",
       "      <td>NaN</td>\n",
       "      <td>NaN</td>\n",
       "      <td>NaN</td>\n",
       "      <td>None</td>\n",
       "      <td>None</td>\n",
       "    </tr>\n",
       "    <tr>\n",
       "      <th>3</th>\n",
       "      <td>8120571</td>\n",
       "      <td>3</td>\n",
       "      <td>4</td>\n",
       "      <td>4</td>\n",
       "      <td>77</td>\n",
       "      <td>-1</td>\n",
       "      <td>34913</td>\n",
       "      <td>28</td>\n",
       "      <td>20922</td>\n",
       "      <td>16169</td>\n",
       "      <td>...</td>\n",
       "      <td>NaN</td>\n",
       "      <td>None</td>\n",
       "      <td>None</td>\n",
       "      <td>None</td>\n",
       "      <td>NaN</td>\n",
       "      <td>NaN</td>\n",
       "      <td>NaN</td>\n",
       "      <td>NaN</td>\n",
       "      <td>None</td>\n",
       "      <td>None</td>\n",
       "    </tr>\n",
       "    <tr>\n",
       "      <th>4</th>\n",
       "      <td>8671702</td>\n",
       "      <td>3</td>\n",
       "      <td>4</td>\n",
       "      <td>4</td>\n",
       "      <td>77</td>\n",
       "      <td>-1</td>\n",
       "      <td>26700</td>\n",
       "      <td>24</td>\n",
       "      <td>16490</td>\n",
       "      <td>16182</td>\n",
       "      <td>...</td>\n",
       "      <td>NaN</td>\n",
       "      <td>None</td>\n",
       "      <td>None</td>\n",
       "      <td>None</td>\n",
       "      <td>NaN</td>\n",
       "      <td>NaN</td>\n",
       "      <td>NaN</td>\n",
       "      <td>NaN</td>\n",
       "      <td>None</td>\n",
       "      <td>None</td>\n",
       "    </tr>\n",
       "  </tbody>\n",
       "</table>\n",
       "<p>5 rows × 115 columns</p>\n",
       "</div>"
      ],
      "text/plain": [
       "       imo  vessel_type_id  built_for_trade_id  trade_id  vessel_class_id  \\\n",
       "0  6716857               4                  -1        -1               95   \n",
       "1  7360083               1                   1         1               84   \n",
       "2  7915644               3                   4         4               74   \n",
       "3  8120571               3                   4         4               77   \n",
       "4  8671702               3                   4         4               77   \n",
       "\n",
       "   commercial_operator_id  deadweight  breadth_extreme  gross_rated_tonnage  \\\n",
       "0                      -1        1180               11                  953   \n",
       "1                      -1      274333               52               133871   \n",
       "2                      -1       69420               32                41644   \n",
       "3                      -1       34913               28                20922   \n",
       "4                      -1       26700               24                16490   \n",
       "\n",
       "   reduced_gross_tonnage  ...  empty_parallel_body_length  stern_line  \\\n",
       "0                    762  ...                         NaN        None   \n",
       "1                  98338  ...                         NaN        None   \n",
       "2                  33659  ...                         NaN        None   \n",
       "3                  16169  ...                         NaN        None   \n",
       "4                  16182  ...                         NaN        None   \n",
       "\n",
       "   yard_number  design_model  bow_to_center_manifold  water_line_to_manifold  \\\n",
       "0         None          None                     NaN                     NaN   \n",
       "1         None          None                     NaN                     NaN   \n",
       "2         None          None                     NaN                     NaN   \n",
       "3         None          None                     NaN                     NaN   \n",
       "4         None          None                     NaN                     NaN   \n",
       "\n",
       "   deck_to_center_manifold  rail_to_center_manifold bow_chain_stoppers_fitted  \\\n",
       "0                      NaN                      NaN                      None   \n",
       "1                      NaN                      NaN                      None   \n",
       "2                      NaN                      NaN                      None   \n",
       "3                      NaN                      NaN                      None   \n",
       "4                      NaN                      NaN                      None   \n",
       "\n",
       "   sanctions_history  \n",
       "0               None  \n",
       "1               None  \n",
       "2               None  \n",
       "3               None  \n",
       "4               None  \n",
       "\n",
       "[5 rows x 115 columns]"
      ]
     },
     "execution_count": 16,
     "metadata": {},
     "output_type": "execute_result"
    }
   ],
   "source": [
    "df = pd.DataFrame([x.__dict__ for x in vessels])\n",
    "df.head()"
   ]
  },
  {
   "cell_type": "markdown",
   "metadata": {},
   "source": [
    "#### Get Vessel Names Changes"
   ]
  },
  {
   "cell_type": "markdown",
   "metadata": {},
   "source": [
    "You can get Vessel Name changes for all vessels or for a specific one "
   ]
  },
  {
   "cell_type": "code",
   "execution_count": 17,
   "metadata": {},
   "outputs": [],
   "source": [
    "imo = 9436006\n",
    "vessels_names = api.get_vessels_name_history(imo)"
   ]
  },
  {
   "cell_type": "code",
   "execution_count": 18,
   "metadata": {},
   "outputs": [],
   "source": [
    "df = pd.DataFrame([x.__dict__ for x in vessels_names[0].history[0].values])"
   ]
  },
  {
   "cell_type": "code",
   "execution_count": 19,
   "metadata": {},
   "outputs": [
    {
     "data": {
      "text/html": [
       "<div>\n",
       "<style scoped>\n",
       "    .dataframe tbody tr th:only-of-type {\n",
       "        vertical-align: middle;\n",
       "    }\n",
       "\n",
       "    .dataframe tbody tr th {\n",
       "        vertical-align: top;\n",
       "    }\n",
       "\n",
       "    .dataframe thead th {\n",
       "        text-align: right;\n",
       "    }\n",
       "</style>\n",
       "<table border=\"1\" class=\"dataframe\">\n",
       "  <thead>\n",
       "    <tr style=\"text-align: right;\">\n",
       "      <th></th>\n",
       "      <th>value</th>\n",
       "      <th>begin_date</th>\n",
       "      <th>end_date</th>\n",
       "      <th>name</th>\n",
       "    </tr>\n",
       "  </thead>\n",
       "  <tbody>\n",
       "    <tr>\n",
       "      <th>0</th>\n",
       "      <td>Stealth Chios</td>\n",
       "      <td>1900-01-01 00:00:00+00:00</td>\n",
       "      <td>2012-01-01 23:13:55+00:00</td>\n",
       "      <td>None</td>\n",
       "    </tr>\n",
       "    <tr>\n",
       "      <th>1</th>\n",
       "      <td>Signal Cheetah</td>\n",
       "      <td>2012-01-01 23:13:55+00:00</td>\n",
       "      <td>2021-02-25 23:56:31+00:00</td>\n",
       "      <td>None</td>\n",
       "    </tr>\n",
       "    <tr>\n",
       "      <th>2</th>\n",
       "      <td>Stealth Chios</td>\n",
       "      <td>2021-02-25 23:56:31+00:00</td>\n",
       "      <td>2021-05-01 07:41:09+00:00</td>\n",
       "      <td>None</td>\n",
       "    </tr>\n",
       "    <tr>\n",
       "      <th>3</th>\n",
       "      <td>Paramount</td>\n",
       "      <td>2021-05-01 07:41:09+00:00</td>\n",
       "      <td>2023-03-10 18:59:11+00:00</td>\n",
       "      <td>None</td>\n",
       "    </tr>\n",
       "    <tr>\n",
       "      <th>4</th>\n",
       "      <td>Samsun</td>\n",
       "      <td>2023-03-10 18:59:11+00:00</td>\n",
       "      <td>2025-05-18 11:24:57+00:00</td>\n",
       "      <td>None</td>\n",
       "    </tr>\n",
       "    <tr>\n",
       "      <th>5</th>\n",
       "      <td>Samira</td>\n",
       "      <td>2025-05-18 11:24:57+00:00</td>\n",
       "      <td>9999-12-31 23:59:59.999999+00:00</td>\n",
       "      <td>None</td>\n",
       "    </tr>\n",
       "  </tbody>\n",
       "</table>\n",
       "</div>"
      ],
      "text/plain": [
       "            value                begin_date                          end_date  \\\n",
       "0   Stealth Chios 1900-01-01 00:00:00+00:00         2012-01-01 23:13:55+00:00   \n",
       "1  Signal Cheetah 2012-01-01 23:13:55+00:00         2021-02-25 23:56:31+00:00   \n",
       "2   Stealth Chios 2021-02-25 23:56:31+00:00         2021-05-01 07:41:09+00:00   \n",
       "3       Paramount 2021-05-01 07:41:09+00:00         2023-03-10 18:59:11+00:00   \n",
       "4          Samsun 2023-03-10 18:59:11+00:00         2025-05-18 11:24:57+00:00   \n",
       "5          Samira 2025-05-18 11:24:57+00:00  9999-12-31 23:59:59.999999+00:00   \n",
       "\n",
       "   name  \n",
       "0  None  \n",
       "1  None  \n",
       "2  None  \n",
       "3  None  \n",
       "4  None  \n",
       "5  None  "
      ]
     },
     "execution_count": 19,
     "metadata": {},
     "output_type": "execute_result"
    }
   ],
   "source": [
    "df"
   ]
  },
  {
   "cell_type": "markdown",
   "metadata": {},
   "source": [
    "#### Get Commercial Operator Changes"
   ]
  },
  {
   "cell_type": "markdown",
   "metadata": {},
   "source": [
    "You can get Vessel comOpp changes for all vessels or for a specific one "
   ]
  },
  {
   "cell_type": "code",
   "execution_count": 20,
   "metadata": {},
   "outputs": [],
   "source": [
    "imo = 9436006\n",
    "vessels_commOps = api.get_vessels_commOp_history(imo)"
   ]
  },
  {
   "cell_type": "code",
   "execution_count": 21,
   "metadata": {},
   "outputs": [],
   "source": [
    "df = pd.DataFrame([x.__dict__ for x in vessels_commOps[0].history[0].values])"
   ]
  },
  {
   "cell_type": "code",
   "execution_count": 22,
   "metadata": {},
   "outputs": [
    {
     "data": {
      "text/html": [
       "<div>\n",
       "<style scoped>\n",
       "    .dataframe tbody tr th:only-of-type {\n",
       "        vertical-align: middle;\n",
       "    }\n",
       "\n",
       "    .dataframe tbody tr th {\n",
       "        vertical-align: top;\n",
       "    }\n",
       "\n",
       "    .dataframe thead th {\n",
       "        text-align: right;\n",
       "    }\n",
       "</style>\n",
       "<table border=\"1\" class=\"dataframe\">\n",
       "  <thead>\n",
       "    <tr style=\"text-align: right;\">\n",
       "      <th></th>\n",
       "      <th>value</th>\n",
       "      <th>begin_date</th>\n",
       "      <th>end_date</th>\n",
       "      <th>name</th>\n",
       "    </tr>\n",
       "  </thead>\n",
       "  <tbody>\n",
       "    <tr>\n",
       "      <th>0</th>\n",
       "      <td>1926</td>\n",
       "      <td>1900-01-01 00:00:00+00:00</td>\n",
       "      <td>2016-06-12 13:03:12+00:00</td>\n",
       "      <td>Signal Maritime</td>\n",
       "    </tr>\n",
       "    <tr>\n",
       "      <th>1</th>\n",
       "      <td>1713</td>\n",
       "      <td>2016-06-12 13:03:12+00:00</td>\n",
       "      <td>2016-06-13 13:03:12+00:00</td>\n",
       "      <td>Trafigura</td>\n",
       "    </tr>\n",
       "    <tr>\n",
       "      <th>2</th>\n",
       "      <td>1926</td>\n",
       "      <td>2016-06-13 13:03:12+00:00</td>\n",
       "      <td>2021-02-22 00:00:00+00:00</td>\n",
       "      <td>Signal Maritime</td>\n",
       "    </tr>\n",
       "    <tr>\n",
       "      <th>3</th>\n",
       "      <td>1597</td>\n",
       "      <td>2021-02-22 00:00:00+00:00</td>\n",
       "      <td>2025-01-09 14:59:56+00:00</td>\n",
       "      <td>Stealth Maritime Corp</td>\n",
       "    </tr>\n",
       "    <tr>\n",
       "      <th>4</th>\n",
       "      <td>-1</td>\n",
       "      <td>2025-01-09 14:59:56+00:00</td>\n",
       "      <td>9999-12-31 23:59:59.999999+00:00</td>\n",
       "      <td>Unknown</td>\n",
       "    </tr>\n",
       "  </tbody>\n",
       "</table>\n",
       "</div>"
      ],
      "text/plain": [
       "  value                begin_date                          end_date  \\\n",
       "0  1926 1900-01-01 00:00:00+00:00         2016-06-12 13:03:12+00:00   \n",
       "1  1713 2016-06-12 13:03:12+00:00         2016-06-13 13:03:12+00:00   \n",
       "2  1926 2016-06-13 13:03:12+00:00         2021-02-22 00:00:00+00:00   \n",
       "3  1597 2021-02-22 00:00:00+00:00         2025-01-09 14:59:56+00:00   \n",
       "4    -1 2025-01-09 14:59:56+00:00  9999-12-31 23:59:59.999999+00:00   \n",
       "\n",
       "                    name  \n",
       "0        Signal Maritime  \n",
       "1              Trafigura  \n",
       "2        Signal Maritime  \n",
       "3  Stealth Maritime Corp  \n",
       "4                Unknown  "
      ]
     },
     "execution_count": 22,
     "metadata": {},
     "output_type": "execute_result"
    }
   ],
   "source": [
    "df"
   ]
  },
  {
   "cell_type": "markdown",
   "metadata": {},
   "source": [
    "#### Get Flag Changes"
   ]
  },
  {
   "cell_type": "markdown",
   "metadata": {},
   "source": [
    "You can get Vessel Flag changes for all vessels or for a specific one "
   ]
  },
  {
   "cell_type": "code",
   "execution_count": 23,
   "metadata": {},
   "outputs": [],
   "source": [
    "imo = 9436006\n",
    "vessels_flags = api.get_vessels_flag_history(imo)"
   ]
  },
  {
   "cell_type": "code",
   "execution_count": 24,
   "metadata": {},
   "outputs": [],
   "source": [
    "df = pd.DataFrame([x.__dict__ for x in vessels_flags[0].history[0].values])"
   ]
  },
  {
   "cell_type": "code",
   "execution_count": 25,
   "metadata": {},
   "outputs": [
    {
     "data": {
      "text/html": [
       "<div>\n",
       "<style scoped>\n",
       "    .dataframe tbody tr th:only-of-type {\n",
       "        vertical-align: middle;\n",
       "    }\n",
       "\n",
       "    .dataframe tbody tr th {\n",
       "        vertical-align: top;\n",
       "    }\n",
       "\n",
       "    .dataframe thead th {\n",
       "        text-align: right;\n",
       "    }\n",
       "</style>\n",
       "<table border=\"1\" class=\"dataframe\">\n",
       "  <thead>\n",
       "    <tr style=\"text-align: right;\">\n",
       "      <th></th>\n",
       "      <th>value</th>\n",
       "      <th>begin_date</th>\n",
       "      <th>end_date</th>\n",
       "      <th>name</th>\n",
       "    </tr>\n",
       "  </thead>\n",
       "  <tbody>\n",
       "    <tr>\n",
       "      <th>0</th>\n",
       "      <td>CY</td>\n",
       "      <td>1900-01-01 00:00:00+00:00</td>\n",
       "      <td>2009-05-07 10:46:24+00:00</td>\n",
       "      <td>Cyprus</td>\n",
       "    </tr>\n",
       "    <tr>\n",
       "      <th>1</th>\n",
       "      <td>MH</td>\n",
       "      <td>2009-05-07 10:46:24+00:00</td>\n",
       "      <td>2009-07-06 15:53:10+00:00</td>\n",
       "      <td>Marshall Islands</td>\n",
       "    </tr>\n",
       "    <tr>\n",
       "      <th>2</th>\n",
       "      <td>GR</td>\n",
       "      <td>2009-07-06 15:53:10+00:00</td>\n",
       "      <td>2014-04-28 11:44:52+00:00</td>\n",
       "      <td>Greece</td>\n",
       "    </tr>\n",
       "    <tr>\n",
       "      <th>3</th>\n",
       "      <td>MT</td>\n",
       "      <td>2014-04-28 11:44:52+00:00</td>\n",
       "      <td>2021-02-26 14:17:30.780000+00:00</td>\n",
       "      <td>Malta</td>\n",
       "    </tr>\n",
       "    <tr>\n",
       "      <th>4</th>\n",
       "      <td>MH</td>\n",
       "      <td>2021-02-26 14:17:30.780000+00:00</td>\n",
       "      <td>2023-03-22 16:23:00.150000+00:00</td>\n",
       "      <td>Marshall Islands</td>\n",
       "    </tr>\n",
       "    <tr>\n",
       "      <th>5</th>\n",
       "      <td>PA</td>\n",
       "      <td>2023-03-22 16:23:00.150000+00:00</td>\n",
       "      <td>2025-06-18 22:14:26.711006+00:00</td>\n",
       "      <td>Panama</td>\n",
       "    </tr>\n",
       "    <tr>\n",
       "      <th>6</th>\n",
       "      <td>KM</td>\n",
       "      <td>2025-06-18 22:14:26.711006+00:00</td>\n",
       "      <td>9999-12-31 23:59:59.999999+00:00</td>\n",
       "      <td>Comoros</td>\n",
       "    </tr>\n",
       "  </tbody>\n",
       "</table>\n",
       "</div>"
      ],
      "text/plain": [
       "  value                       begin_date                          end_date  \\\n",
       "0    CY        1900-01-01 00:00:00+00:00         2009-05-07 10:46:24+00:00   \n",
       "1    MH        2009-05-07 10:46:24+00:00         2009-07-06 15:53:10+00:00   \n",
       "2    GR        2009-07-06 15:53:10+00:00         2014-04-28 11:44:52+00:00   \n",
       "3    MT        2014-04-28 11:44:52+00:00  2021-02-26 14:17:30.780000+00:00   \n",
       "4    MH 2021-02-26 14:17:30.780000+00:00  2023-03-22 16:23:00.150000+00:00   \n",
       "5    PA 2023-03-22 16:23:00.150000+00:00  2025-06-18 22:14:26.711006+00:00   \n",
       "6    KM 2025-06-18 22:14:26.711006+00:00  9999-12-31 23:59:59.999999+00:00   \n",
       "\n",
       "               name  \n",
       "0            Cyprus  \n",
       "1  Marshall Islands  \n",
       "2            Greece  \n",
       "3             Malta  \n",
       "4  Marshall Islands  \n",
       "5            Panama  \n",
       "6           Comoros  "
      ]
     },
     "execution_count": 25,
     "metadata": {},
     "output_type": "execute_result"
    }
   ],
   "source": [
    "df"
   ]
  }
 ],
 "metadata": {
  "kernelspec": {
   "display_name": "Python 3 (ipykernel)",
   "language": "python",
   "name": "python3"
  },
  "language_info": {
   "codemirror_mode": {
    "name": "ipython",
    "version": 3
   },
   "file_extension": ".py",
   "mimetype": "text/x-python",
   "name": "python",
   "nbconvert_exporter": "python",
   "pygments_lexer": "ipython3",
   "version": "3.11.5"
  }
 },
 "nbformat": 4,
 "nbformat_minor": 4
}
