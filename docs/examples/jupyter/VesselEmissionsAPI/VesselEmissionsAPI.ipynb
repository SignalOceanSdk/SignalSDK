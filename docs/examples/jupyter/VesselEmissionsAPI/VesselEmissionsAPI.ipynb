{
 "cells": [
  {
   "cell_type": "markdown",
   "id": "ec2130ec-4db3-4bbf-b579-ca5d46223f84",
   "metadata": {
    "id": "ec2130ec-4db3-4bbf-b579-ca5d46223f84"
   },
   "source": [
    "# Vessel Emissions API Example\n",
    "\n",
    "## Run this example in [Colab](https://colab.research.google.com/github/SignalOceanSdk/SignalSDK/blob/master/docs/examples/jupyter/VesselEmissionsAPI/VesselEmissionsAPI.ipynb)"
   ]
  },
  {
   "cell_type": "markdown",
   "id": "7acabfe0-ef99-4722-94f8-705fff21440f",
   "metadata": {
    "id": "7acabfe0-ef99-4722-94f8-705fff21440f"
   },
   "source": [
    "#### In this notebook, we will showcase the Vessel Emissions API and supported methods with examples."
   ]
  },
  {
   "cell_type": "markdown",
   "id": "0b004c84-63bf-4c04-bf72-05d451cee304",
   "metadata": {
    "id": "0b004c84-63bf-4c04-bf72-05d451cee304"
   },
   "source": [
    "## Setup\n",
    "Install the Signal Ocean SDK:\n",
    "```\n",
    "pip install signal-ocean\n",
    "```\n",
    "Set your subscription key acquired here: https://apis.signalocean.com/profile"
   ]
  },
  {
   "cell_type": "code",
   "execution_count": null,
   "id": "6b928c46-8ad3-4a57-975c-0b0a1026e863",
   "metadata": {},
   "outputs": [],
   "source": [
    "pip install signal-ocean"
   ]
  },
  {
   "cell_type": "code",
   "execution_count": 1,
   "id": "39ccb562-7cee-4307-a455-c61d91d91c81",
   "metadata": {
    "id": "39ccb562-7cee-4307-a455-c61d91d91c81"
   },
   "outputs": [],
   "source": [
    "signal_ocean_api_key = '' #replace with your subscription key"
   ]
  },
  {
   "cell_type": "markdown",
   "id": "e73bc726-dce3-4c46-8ec3-756a008e666e",
   "metadata": {
    "id": "e73bc726-dce3-4c46-8ec3-756a008e666e"
   },
   "source": [
    "## Call the Vessel Emissions API\n",
    "The Vessel Emissions API retrieves information about voyage emissions, vessel emissions and metrics for a single vessel or a vessel class."
   ]
  },
  {
   "cell_type": "code",
   "execution_count": 2,
   "id": "791a1fb7-0955-4520-aed3-4d6449e0f3fe",
   "metadata": {
    "id": "791a1fb7-0955-4520-aed3-4d6449e0f3fe"
   },
   "outputs": [],
   "source": [
    "from signal_ocean import Connection\n",
    "from signal_ocean.vessel_emissions import VesselEmissionsAPI\n",
    "\n",
    "import pandas as pd\n",
    "\n",
    "connection = Connection(signal_ocean_api_key)\n",
    "api = VesselEmissionsAPI(connection)"
   ]
  },
  {
   "cell_type": "markdown",
   "id": "fdfb8be7-2eac-474d-9ac3-e16185de9255",
   "metadata": {
    "id": "fdfb8be7-2eac-474d-9ac3-e16185de9255"
   },
   "source": [
    "## Examples"
   ]
  },
  {
   "cell_type": "markdown",
   "id": "f3f84188-558a-4848-90ca-99d946b83955",
   "metadata": {
    "id": "f3f84188-558a-4848-90ca-99d946b83955"
   },
   "source": [
    "### Get Emissions for a voyage"
   ]
  },
  {
   "cell_type": "code",
   "execution_count": 3,
   "id": "c131cced-ebd6-4e03-8e00-8ab9120bbc4d",
   "metadata": {
    "colab": {
     "base_uri": "https://localhost:8080/"
    },
    "id": "c131cced-ebd6-4e03-8e00-8ab9120bbc4d",
    "outputId": "ec54520b-36f9-4f21-ac74-730303d04466",
    "scrolled": true
   },
   "outputs": [
    {
     "name": "stdout",
     "output_type": "stream",
     "text": [
      "Return type is:  <class 'signal_ocean.vessel_emissions.models.EmissionsEstimation'> \n",
      "\n"
     ]
    }
   ],
   "source": [
    "voyage_emissions = api.get_emissions_by_imo_and_voyage_number(imo=9412036, voyage_number=140)\n",
    "print(\"Return type is: \", type(voyage_emissions), \"\\n\")"
   ]
  },
  {
   "cell_type": "markdown",
   "id": "17ad7320-0c70-4aca-8d25-c9a7decbc0e9",
   "metadata": {
    "id": "17ad7320-0c70-4aca-8d25-c9a7decbc0e9"
   },
   "source": [
    "#### Note that this function returns a custom object. To get a dictionary object, as in the public API response, we can call class method _to_dict()_."
   ]
  },
  {
   "cell_type": "code",
   "execution_count": 4,
   "id": "c9321be5-5afc-4f48-8f25-fdba4bdaa450",
   "metadata": {
    "colab": {
     "base_uri": "https://localhost:8080/"
    },
    "id": "c9321be5-5afc-4f48-8f25-fdba4bdaa450",
    "outputId": "087c2169-c10b-4e5c-8eb7-60c50002053c",
    "scrolled": true
   },
   "outputs": [
    {
     "data": {
      "text/plain": [
       "dict_keys(['ID', 'IMO', 'VesselName', 'VoyageNumber', 'VesselTypeID', 'VesselClassID', 'StartDate', 'EndDate', 'Deadweight', 'Emissions', 'VesselType', 'VesselClass', 'Quantity', 'TransportWorkInMillionTonneMiles', 'TransportWorkInMillionDwtMiles', 'ContainsEuEmissions'])"
      ]
     },
     "execution_count": 4,
     "metadata": {},
     "output_type": "execute_result"
    }
   ],
   "source": [
    "voyage_emissions.to_dict().keys()"
   ]
  },
  {
   "cell_type": "markdown",
   "id": "3e4f8a85-ae4b-40ad-b09c-06e9a0fa02cc",
   "metadata": {
    "id": "3e4f8a85-ae4b-40ad-b09c-06e9a0fa02cc"
   },
   "source": [
    "### Include consumptions, distances, durations, speed_statistics in the response"
   ]
  },
  {
   "cell_type": "code",
   "execution_count": 5,
   "id": "7b425865-0651-4c50-8dd2-ca2a5c57e338",
   "metadata": {
    "colab": {
     "base_uri": "https://localhost:8080/"
    },
    "id": "7b425865-0651-4c50-8dd2-ca2a5c57e338",
    "outputId": "afdf2321-0c5d-49df-febe-cc3e816b1fe6",
    "scrolled": true
   },
   "outputs": [],
   "source": [
    "voyage_emissions = api.get_emissions_by_imo_and_voyage_number(imo=9412036, voyage_number=140,\n",
    "                                                              include_consumptions=True,\n",
    "                                                              include_distances=True,\n",
    "                                                              include_durations=True,\n",
    "                                                              include_speed_statistics=True\n",
    "                                                             )"
   ]
  },
  {
   "cell_type": "markdown",
   "id": "ab5843af-749f-4b9a-93e0-3b946b3a61f7",
   "metadata": {
    "id": "ab5843af-749f-4b9a-93e0-3b946b3a61f7"
   },
   "source": [
    "### Include efficiency metrics in the response"
   ]
  },
  {
   "cell_type": "code",
   "execution_count": 6,
   "id": "173b5da6-542d-4606-bcf6-55848f8b4ba3",
   "metadata": {
    "colab": {
     "base_uri": "https://localhost:8080/"
    },
    "id": "173b5da6-542d-4606-bcf6-55848f8b4ba3",
    "outputId": "012feae5-527a-4e88-dae5-4f96e18af2e3",
    "scrolled": true
   },
   "outputs": [],
   "source": [
    "voyage_emissions = api.get_emissions_by_imo_and_voyage_number(imo=9412036, voyage_number=140,\n",
    "                                                              include_efficiency_metrics=True\n",
    "                                                             )"
   ]
  },
  {
   "cell_type": "markdown",
   "id": "2173bda5-cd3a-4c5b-a7c8-1c5e56515fde",
   "metadata": {
    "id": "2173bda5-cd3a-4c5b-a7c8-1c5e56515fde"
   },
   "source": [
    "### Include EU regulated emissions in the response"
   ]
  },
  {
   "cell_type": "code",
   "execution_count": 7,
   "id": "7d80d544-837d-4ed9-91a2-a4cafd7b0e74",
   "metadata": {
    "colab": {
     "base_uri": "https://localhost:8080/"
    },
    "id": "7d80d544-837d-4ed9-91a2-a4cafd7b0e74",
    "outputId": "e6e1fa7e-a397-4c03-8c28-a77a4d2b458b",
    "scrolled": true
   },
   "outputs": [],
   "source": [
    "voyage_emissions = api.get_emissions_by_imo_and_voyage_number(imo=9412036, voyage_number=140,\n",
    "                                                              include_eu_emissions=True\n",
    "                                                             )"
   ]
  },
  {
   "cell_type": "markdown",
   "id": "df90a784-faf7-4895-a3f5-f42108ff1ce6",
   "metadata": {
    "id": "df90a784-faf7-4895-a3f5-f42108ff1ce6"
   },
   "source": [
    "### Get Emissions for a vessel"
   ]
  },
  {
   "cell_type": "code",
   "execution_count": 8,
   "id": "2334e7aa-9734-467f-96dc-6d5a0751248f",
   "metadata": {
    "colab": {
     "base_uri": "https://localhost:8080/"
    },
    "id": "2334e7aa-9734-467f-96dc-6d5a0751248f",
    "outputId": "0da7bb1a-0d10-42c9-aadf-214c8276c98d",
    "scrolled": true
   },
   "outputs": [
    {
     "name": "stdout",
     "output_type": "stream",
     "text": [
      "Return type is: <class 'list'>, of <class 'signal_ocean.vessel_emissions.models.EmissionsEstimation'>\n",
      "Return objects consists of 71 voyage emissions estimations for vessel 9412036, for Voyages #106 to #176\n"
     ]
    }
   ],
   "source": [
    "imo = 9412036\n",
    "vessel_emissions = api.get_emissions_by_imo(imo=imo, include_distances=True, include_eu_emissions=True)\n",
    "\n",
    "print(f\"Return type is: {type(vessel_emissions)}, of {type(vessel_emissions[0])}\")\n",
    "\n",
    "first, last = vessel_emissions[0], vessel_emissions[-1]\n",
    "\n",
    "print(f\"\"\"Return objects consists of {len(vessel_emissions)} voyage emissions estimations for vessel {imo}, for Voyages #{first.voyage_number} to #{last.voyage_number}\"\"\" )"
   ]
  },
  {
   "cell_type": "markdown",
   "id": "8ec4b9de-33bc-4d1f-8a10-b27ef1e8f667",
   "metadata": {
    "id": "8ec4b9de-33bc-4d1f-8a10-b27ef1e8f667"
   },
   "source": [
    "#### Note that this function returns a list of custom objects. To get a list of dictionary objects, as in the public API response, we can call method _to_dict()_ in a list comprehension."
   ]
  },
  {
   "cell_type": "code",
   "execution_count": 9,
   "id": "6a64a75e-f826-4fcf-ae94-8a3c840c0e7b",
   "metadata": {
    "id": "6a64a75e-f826-4fcf-ae94-8a3c840c0e7b",
    "scrolled": true
   },
   "outputs": [],
   "source": [
    "emissions_as_dicts = [emissions.to_dict() for emissions in vessel_emissions]"
   ]
  },
  {
   "cell_type": "markdown",
   "id": "157c2d38-9ad0-4254-9c2e-f977559a2ddd",
   "metadata": {
    "id": "157c2d38-9ad0-4254-9c2e-f977559a2ddd"
   },
   "source": [
    "### Get Emissions for a vessel class.\n",
    "Again, we can get a dictionary, similar to the response of the public API by calling method to_dict().\n",
    "This dict has two keys, 'NextPageToken' which can be used in the next api call and 'Data', where our emissions are stored as a list of dictionaries. We can apply the pandas DataFrame constructor to that list get our emissions in table format."
   ]
  },
  {
   "cell_type": "code",
   "execution_count": 10,
   "id": "e8010aca-7374-4795-8311-9e06882daff3",
   "metadata": {
    "colab": {
     "base_uri": "https://localhost:8080/",
     "height": 964
    },
    "id": "e8010aca-7374-4795-8311-9e06882daff3",
    "outputId": "9941d56c-5888-4e02-cf3b-681031611494",
    "scrolled": true
   },
   "outputs": [
    {
     "data": {
      "text/html": [
       "<div>\n",
       "<style scoped>\n",
       "    .dataframe tbody tr th:only-of-type {\n",
       "        vertical-align: middle;\n",
       "    }\n",
       "\n",
       "    .dataframe tbody tr th {\n",
       "        vertical-align: top;\n",
       "    }\n",
       "\n",
       "    .dataframe thead th {\n",
       "        text-align: right;\n",
       "    }\n",
       "</style>\n",
       "<table border=\"1\" class=\"dataframe\">\n",
       "  <thead>\n",
       "    <tr style=\"text-align: right;\">\n",
       "      <th></th>\n",
       "      <th>ID</th>\n",
       "      <th>IMO</th>\n",
       "      <th>VesselName</th>\n",
       "      <th>VoyageNumber</th>\n",
       "      <th>VesselTypeID</th>\n",
       "      <th>VesselClassID</th>\n",
       "      <th>StartDate</th>\n",
       "      <th>EndDate</th>\n",
       "      <th>Deadweight</th>\n",
       "      <th>VesselType</th>\n",
       "      <th>...</th>\n",
       "      <th>EmissionsPortCallSOxInTons</th>\n",
       "      <th>EmissionsPortCallPmInTons</th>\n",
       "      <th>EmissionsStopCO2InTons</th>\n",
       "      <th>EmissionsStopCOInTons</th>\n",
       "      <th>EmissionsStopCh4InTons</th>\n",
       "      <th>EmissionsStopN2OInTons</th>\n",
       "      <th>EmissionsStopNMVOCInTons</th>\n",
       "      <th>EmissionsStopNOxInTons</th>\n",
       "      <th>EmissionsStopSOxInTons</th>\n",
       "      <th>EmissionsStopPmInTons</th>\n",
       "    </tr>\n",
       "  </thead>\n",
       "  <tbody>\n",
       "    <tr>\n",
       "      <th>0</th>\n",
       "      <td>I92EA8CVEDE4C9900</td>\n",
       "      <td>9628300</td>\n",
       "      <td>Hilda Knutsen</td>\n",
       "      <td>183</td>\n",
       "      <td>1</td>\n",
       "      <td>86</td>\n",
       "      <td>2024-08-22T23:56:14</td>\n",
       "      <td>2024-09-10T23:06:37.484000</td>\n",
       "      <td>123166</td>\n",
       "      <td>Tanker</td>\n",
       "      <td>...</td>\n",
       "      <td>0.156405</td>\n",
       "      <td>0.075120</td>\n",
       "      <td>241.371325</td>\n",
       "      <td>0.208546</td>\n",
       "      <td>0.004517</td>\n",
       "      <td>0.011293</td>\n",
       "      <td>0.231885</td>\n",
       "      <td>6.169800</td>\n",
       "      <td>0.147191</td>\n",
       "      <td>0.070695</td>\n",
       "    </tr>\n",
       "    <tr>\n",
       "      <th>1</th>\n",
       "      <td>I8F414CVEDE250C00</td>\n",
       "      <td>9388364</td>\n",
       "      <td>Merbabu</td>\n",
       "      <td>181</td>\n",
       "      <td>1</td>\n",
       "      <td>86</td>\n",
       "      <td>2024-07-21T03:49:12</td>\n",
       "      <td>2024-11-12T09:30:00.792000</td>\n",
       "      <td>105746</td>\n",
       "      <td>Tanker</td>\n",
       "      <td>...</td>\n",
       "      <td>0.156405</td>\n",
       "      <td>0.106184</td>\n",
       "      <td>1383.738290</td>\n",
       "      <td>1.216410</td>\n",
       "      <td>0.026348</td>\n",
       "      <td>0.070262</td>\n",
       "      <td>1.352542</td>\n",
       "      <td>40.760697</td>\n",
       "      <td>0.858539</td>\n",
       "      <td>1.321780</td>\n",
       "    </tr>\n",
       "    <tr>\n",
       "      <th>2</th>\n",
       "      <td>I906053VED3547E00</td>\n",
       "      <td>9461843</td>\n",
       "      <td>Torm Gloria</td>\n",
       "      <td>58</td>\n",
       "      <td>1</td>\n",
       "      <td>86</td>\n",
       "      <td>2018-10-27T06:15:32</td>\n",
       "      <td>2019-06-03T07:51:23</td>\n",
       "      <td>119456</td>\n",
       "      <td>Tanker</td>\n",
       "      <td>...</td>\n",
       "      <td>3.910120</td>\n",
       "      <td>0.557153</td>\n",
       "      <td>4073.305629</td>\n",
       "      <td>3.622867</td>\n",
       "      <td>0.078474</td>\n",
       "      <td>0.209263</td>\n",
       "      <td>4.028314</td>\n",
       "      <td>114.022214</td>\n",
       "      <td>63.925290</td>\n",
       "      <td>9.108708</td>\n",
       "    </tr>\n",
       "    <tr>\n",
       "      <th>3</th>\n",
       "      <td>I8DEDABVEDE4C9900</td>\n",
       "      <td>9301419</td>\n",
       "      <td>Yuri Senkevich</td>\n",
       "      <td>307</td>\n",
       "      <td>1</td>\n",
       "      <td>86</td>\n",
       "      <td>2024-09-02T03:55:44</td>\n",
       "      <td>2024-09-15T12:22:59.041000</td>\n",
       "      <td>100869</td>\n",
       "      <td>Tanker</td>\n",
       "      <td>...</td>\n",
       "      <td>0.156405</td>\n",
       "      <td>0.075120</td>\n",
       "      <td>33.336873</td>\n",
       "      <td>0.029306</td>\n",
       "      <td>0.000635</td>\n",
       "      <td>0.001693</td>\n",
       "      <td>0.032585</td>\n",
       "      <td>0.982002</td>\n",
       "      <td>0.020684</td>\n",
       "      <td>0.031844</td>\n",
       "    </tr>\n",
       "    <tr>\n",
       "      <th>4</th>\n",
       "      <td>I95A928VEDE59C800</td>\n",
       "      <td>9808168</td>\n",
       "      <td>Green Aura</td>\n",
       "      <td>64</td>\n",
       "      <td>1</td>\n",
       "      <td>86</td>\n",
       "      <td>2024-08-31T23:45:55</td>\n",
       "      <td>2024-09-17T07:30:23.790000</td>\n",
       "      <td>113000</td>\n",
       "      <td>Tanker</td>\n",
       "      <td>...</td>\n",
       "      <td>0.096189</td>\n",
       "      <td>0.210047</td>\n",
       "      <td>76.735187</td>\n",
       "      <td>0.066300</td>\n",
       "      <td>0.001436</td>\n",
       "      <td>0.003590</td>\n",
       "      <td>0.073719</td>\n",
       "      <td>1.765197</td>\n",
       "      <td>0.001404</td>\n",
       "      <td>0.010114</td>\n",
       "    </tr>\n",
       "  </tbody>\n",
       "</table>\n",
       "<p>5 rows × 55 columns</p>\n",
       "</div>"
      ],
      "text/plain": [
       "                  ID      IMO      VesselName  VoyageNumber  VesselTypeID  \\\n",
       "0  I92EA8CVEDE4C9900  9628300   Hilda Knutsen           183             1   \n",
       "1  I8F414CVEDE250C00  9388364         Merbabu           181             1   \n",
       "2  I906053VED3547E00  9461843     Torm Gloria            58             1   \n",
       "3  I8DEDABVEDE4C9900  9301419  Yuri Senkevich           307             1   \n",
       "4  I95A928VEDE59C800  9808168      Green Aura            64             1   \n",
       "\n",
       "   VesselClassID            StartDate                     EndDate  Deadweight  \\\n",
       "0             86  2024-08-22T23:56:14  2024-09-10T23:06:37.484000      123166   \n",
       "1             86  2024-07-21T03:49:12  2024-11-12T09:30:00.792000      105746   \n",
       "2             86  2018-10-27T06:15:32         2019-06-03T07:51:23      119456   \n",
       "3             86  2024-09-02T03:55:44  2024-09-15T12:22:59.041000      100869   \n",
       "4             86  2024-08-31T23:45:55  2024-09-17T07:30:23.790000      113000   \n",
       "\n",
       "  VesselType  ... EmissionsPortCallSOxInTons  EmissionsPortCallPmInTons  \\\n",
       "0     Tanker  ...                   0.156405                   0.075120   \n",
       "1     Tanker  ...                   0.156405                   0.106184   \n",
       "2     Tanker  ...                   3.910120                   0.557153   \n",
       "3     Tanker  ...                   0.156405                   0.075120   \n",
       "4     Tanker  ...                   0.096189                   0.210047   \n",
       "\n",
       "   EmissionsStopCO2InTons  EmissionsStopCOInTons  EmissionsStopCh4InTons  \\\n",
       "0              241.371325               0.208546                0.004517   \n",
       "1             1383.738290               1.216410                0.026348   \n",
       "2             4073.305629               3.622867                0.078474   \n",
       "3               33.336873               0.029306                0.000635   \n",
       "4               76.735187               0.066300                0.001436   \n",
       "\n",
       "   EmissionsStopN2OInTons  EmissionsStopNMVOCInTons  EmissionsStopNOxInTons  \\\n",
       "0                0.011293                  0.231885                6.169800   \n",
       "1                0.070262                  1.352542               40.760697   \n",
       "2                0.209263                  4.028314              114.022214   \n",
       "3                0.001693                  0.032585                0.982002   \n",
       "4                0.003590                  0.073719                1.765197   \n",
       "\n",
       "   EmissionsStopSOxInTons  EmissionsStopPmInTons  \n",
       "0                0.147191               0.070695  \n",
       "1                0.858539               1.321780  \n",
       "2               63.925290               9.108708  \n",
       "3                0.020684               0.031844  \n",
       "4                0.001404               0.010114  \n",
       "\n",
       "[5 rows x 55 columns]"
      ]
     },
     "execution_count": 10,
     "metadata": {},
     "output_type": "execute_result"
    }
   ],
   "source": [
    "vessel_class_emissions = api.get_emissions_by_vessel_class_id(vessel_class_id=86)\n",
    "vessel_class_emissions_df = pd.json_normalize(vessel_class_emissions.to_dict()['Data'], sep='')\n",
    "vessel_class_emissions_df.head()"
   ]
  },
  {
   "cell_type": "markdown",
   "id": "1abcc915-f43e-41f3-85b2-3255e66d3ffd",
   "metadata": {
    "id": "1abcc915-f43e-41f3-85b2-3255e66d3ffd"
   },
   "source": [
    "To get the next page, we repeat the same api call using the token that we got from the previous."
   ]
  },
  {
   "cell_type": "code",
   "execution_count": 11,
   "id": "bdd52b7d-7a54-4f48-b3ea-0d10dc6ca164",
   "metadata": {
    "colab": {
     "base_uri": "https://localhost:8080/",
     "height": 964
    },
    "id": "bdd52b7d-7a54-4f48-b3ea-0d10dc6ca164",
    "outputId": "32422c3f-1108-4c1f-ca2f-551497f14a0c",
    "scrolled": true
   },
   "outputs": [
    {
     "data": {
      "text/html": [
       "<div>\n",
       "<style scoped>\n",
       "    .dataframe tbody tr th:only-of-type {\n",
       "        vertical-align: middle;\n",
       "    }\n",
       "\n",
       "    .dataframe tbody tr th {\n",
       "        vertical-align: top;\n",
       "    }\n",
       "\n",
       "    .dataframe thead th {\n",
       "        text-align: right;\n",
       "    }\n",
       "</style>\n",
       "<table border=\"1\" class=\"dataframe\">\n",
       "  <thead>\n",
       "    <tr style=\"text-align: right;\">\n",
       "      <th></th>\n",
       "      <th>ID</th>\n",
       "      <th>IMO</th>\n",
       "      <th>VesselName</th>\n",
       "      <th>VoyageNumber</th>\n",
       "      <th>VesselTypeID</th>\n",
       "      <th>VesselClassID</th>\n",
       "      <th>StartDate</th>\n",
       "      <th>EndDate</th>\n",
       "      <th>Deadweight</th>\n",
       "      <th>VesselType</th>\n",
       "      <th>...</th>\n",
       "      <th>Emissions.PortCall.SOxInTons</th>\n",
       "      <th>Emissions.PortCall.PmInTons</th>\n",
       "      <th>Emissions.Stop.CO2InTons</th>\n",
       "      <th>Emissions.Stop.COInTons</th>\n",
       "      <th>Emissions.Stop.Ch4InTons</th>\n",
       "      <th>Emissions.Stop.N2OInTons</th>\n",
       "      <th>Emissions.Stop.NMVOCInTons</th>\n",
       "      <th>Emissions.Stop.NOxInTons</th>\n",
       "      <th>Emissions.Stop.SOxInTons</th>\n",
       "      <th>Emissions.Stop.PmInTons</th>\n",
       "    </tr>\n",
       "  </thead>\n",
       "  <tbody>\n",
       "    <tr>\n",
       "      <th>0</th>\n",
       "      <td>I8A6CCAVED61C6800</td>\n",
       "      <td>9071818</td>\n",
       "      <td>Athina I</td>\n",
       "      <td>99</td>\n",
       "      <td>1</td>\n",
       "      <td>86</td>\n",
       "      <td>2020-04-18T07:12:38</td>\n",
       "      <td>2020-06-02T11:59:29</td>\n",
       "      <td>96001</td>\n",
       "      <td>Tanker</td>\n",
       "      <td>...</td>\n",
       "      <td>0.537641</td>\n",
       "      <td>0.827736</td>\n",
       "      <td>24.676837</td>\n",
       "      <td>0.021693</td>\n",
       "      <td>0.000470</td>\n",
       "      <td>0.001253</td>\n",
       "      <td>0.024120</td>\n",
       "      <td>0.726904</td>\n",
       "      <td>0.015311</td>\n",
       "      <td>0.023572</td>\n",
       "    </tr>\n",
       "    <tr>\n",
       "      <th>1</th>\n",
       "      <td>I8A6CCAVED643F500</td>\n",
       "      <td>9071818</td>\n",
       "      <td>Athina I</td>\n",
       "      <td>100</td>\n",
       "      <td>1</td>\n",
       "      <td>86</td>\n",
       "      <td>2020-06-02T11:59:29</td>\n",
       "      <td>2020-06-12T07:58:33</td>\n",
       "      <td>96001</td>\n",
       "      <td>Tanker</td>\n",
       "      <td>...</td>\n",
       "      <td>0.156405</td>\n",
       "      <td>0.240796</td>\n",
       "      <td>0.000000</td>\n",
       "      <td>0.000000</td>\n",
       "      <td>0.000000</td>\n",
       "      <td>0.000000</td>\n",
       "      <td>0.000000</td>\n",
       "      <td>0.000000</td>\n",
       "      <td>0.000000</td>\n",
       "      <td>0.000000</td>\n",
       "    </tr>\n",
       "    <tr>\n",
       "      <th>2</th>\n",
       "      <td>I8A6CCAVED66B8200</td>\n",
       "      <td>9071818</td>\n",
       "      <td>Athina I</td>\n",
       "      <td>101</td>\n",
       "      <td>1</td>\n",
       "      <td>86</td>\n",
       "      <td>2020-06-12T07:58:33</td>\n",
       "      <td>2020-08-03T15:57:16</td>\n",
       "      <td>96001</td>\n",
       "      <td>Tanker</td>\n",
       "      <td>...</td>\n",
       "      <td>0.185731</td>\n",
       "      <td>0.285945</td>\n",
       "      <td>4.296830</td>\n",
       "      <td>0.003777</td>\n",
       "      <td>0.000082</td>\n",
       "      <td>0.000218</td>\n",
       "      <td>0.004200</td>\n",
       "      <td>0.126571</td>\n",
       "      <td>0.002666</td>\n",
       "      <td>0.004104</td>\n",
       "    </tr>\n",
       "    <tr>\n",
       "      <th>3</th>\n",
       "      <td>I8A6CCAVED6930F00</td>\n",
       "      <td>9071818</td>\n",
       "      <td>Athina I</td>\n",
       "      <td>102</td>\n",
       "      <td>1</td>\n",
       "      <td>86</td>\n",
       "      <td>2020-08-03T15:57:16</td>\n",
       "      <td>2020-09-04T15:57:13</td>\n",
       "      <td>96001</td>\n",
       "      <td>Tanker</td>\n",
       "      <td>...</td>\n",
       "      <td>0.185731</td>\n",
       "      <td>0.285945</td>\n",
       "      <td>0.000000</td>\n",
       "      <td>0.000000</td>\n",
       "      <td>0.000000</td>\n",
       "      <td>0.000000</td>\n",
       "      <td>0.000000</td>\n",
       "      <td>0.000000</td>\n",
       "      <td>0.000000</td>\n",
       "      <td>0.000000</td>\n",
       "    </tr>\n",
       "    <tr>\n",
       "      <th>4</th>\n",
       "      <td>I8A6CCAVED6E22900</td>\n",
       "      <td>9071818</td>\n",
       "      <td>Athina I</td>\n",
       "      <td>103</td>\n",
       "      <td>1</td>\n",
       "      <td>86</td>\n",
       "      <td>2020-09-04T15:57:13</td>\n",
       "      <td>2020-10-03T19:54:35</td>\n",
       "      <td>96001</td>\n",
       "      <td>Tanker</td>\n",
       "      <td>...</td>\n",
       "      <td>0.185731</td>\n",
       "      <td>0.285945</td>\n",
       "      <td>2.549097</td>\n",
       "      <td>0.002241</td>\n",
       "      <td>0.000049</td>\n",
       "      <td>0.000129</td>\n",
       "      <td>0.002492</td>\n",
       "      <td>0.075089</td>\n",
       "      <td>0.001582</td>\n",
       "      <td>0.002435</td>\n",
       "    </tr>\n",
       "  </tbody>\n",
       "</table>\n",
       "<p>5 rows × 55 columns</p>\n",
       "</div>"
      ],
      "text/plain": [
       "                  ID      IMO VesselName  VoyageNumber  VesselTypeID  \\\n",
       "0  I8A6CCAVED61C6800  9071818   Athina I            99             1   \n",
       "1  I8A6CCAVED643F500  9071818   Athina I           100             1   \n",
       "2  I8A6CCAVED66B8200  9071818   Athina I           101             1   \n",
       "3  I8A6CCAVED6930F00  9071818   Athina I           102             1   \n",
       "4  I8A6CCAVED6E22900  9071818   Athina I           103             1   \n",
       "\n",
       "   VesselClassID            StartDate              EndDate  Deadweight  \\\n",
       "0             86  2020-04-18T07:12:38  2020-06-02T11:59:29       96001   \n",
       "1             86  2020-06-02T11:59:29  2020-06-12T07:58:33       96001   \n",
       "2             86  2020-06-12T07:58:33  2020-08-03T15:57:16       96001   \n",
       "3             86  2020-08-03T15:57:16  2020-09-04T15:57:13       96001   \n",
       "4             86  2020-09-04T15:57:13  2020-10-03T19:54:35       96001   \n",
       "\n",
       "  VesselType  ... Emissions.PortCall.SOxInTons  Emissions.PortCall.PmInTons  \\\n",
       "0     Tanker  ...                     0.537641                     0.827736   \n",
       "1     Tanker  ...                     0.156405                     0.240796   \n",
       "2     Tanker  ...                     0.185731                     0.285945   \n",
       "3     Tanker  ...                     0.185731                     0.285945   \n",
       "4     Tanker  ...                     0.185731                     0.285945   \n",
       "\n",
       "   Emissions.Stop.CO2InTons  Emissions.Stop.COInTons  \\\n",
       "0                 24.676837                 0.021693   \n",
       "1                  0.000000                 0.000000   \n",
       "2                  4.296830                 0.003777   \n",
       "3                  0.000000                 0.000000   \n",
       "4                  2.549097                 0.002241   \n",
       "\n",
       "   Emissions.Stop.Ch4InTons  Emissions.Stop.N2OInTons  \\\n",
       "0                  0.000470                  0.001253   \n",
       "1                  0.000000                  0.000000   \n",
       "2                  0.000082                  0.000218   \n",
       "3                  0.000000                  0.000000   \n",
       "4                  0.000049                  0.000129   \n",
       "\n",
       "   Emissions.Stop.NMVOCInTons  Emissions.Stop.NOxInTons  \\\n",
       "0                    0.024120                  0.726904   \n",
       "1                    0.000000                  0.000000   \n",
       "2                    0.004200                  0.126571   \n",
       "3                    0.000000                  0.000000   \n",
       "4                    0.002492                  0.075089   \n",
       "\n",
       "   Emissions.Stop.SOxInTons  Emissions.Stop.PmInTons  \n",
       "0                  0.015311                 0.023572  \n",
       "1                  0.000000                 0.000000  \n",
       "2                  0.002666                 0.004104  \n",
       "3                  0.000000                 0.000000  \n",
       "4                  0.001582                 0.002435  \n",
       "\n",
       "[5 rows x 55 columns]"
      ]
     },
     "execution_count": 11,
     "metadata": {},
     "output_type": "execute_result"
    }
   ],
   "source": [
    "vessel_class_emissions_next_page = api.get_emissions_by_vessel_class_id(\n",
    "    vessel_class_id=86,\n",
    "    token=vessel_class_emissions.to_dict()['NextPageToken']\n",
    ")\n",
    "pd.json_normalize(vessel_class_emissions_next_page.to_dict()['Data']).head()"
   ]
  },
  {
   "cell_type": "markdown",
   "id": "b233781a-7374-43a4-bf21-f8e358fc1f3c",
   "metadata": {
    "id": "b233781a-7374-43a4-bf21-f8e358fc1f3c"
   },
   "source": [
    "### *Vessel Metrics*"
   ]
  },
  {
   "cell_type": "code",
   "execution_count": 12,
   "id": "5e4870b2-f970-4eb8-8b41-abedbe5396c8",
   "metadata": {
    "colab": {
     "base_uri": "https://localhost:8080/"
    },
    "id": "5e4870b2-f970-4eb8-8b41-abedbe5396c8",
    "outputId": "55ac8870-39d7-46b2-b78f-99ad26f45935",
    "scrolled": true
   },
   "outputs": [
    {
     "name": "stdout",
     "output_type": "stream",
     "text": [
      "Return type is:  <class 'list'> of <class 'signal_ocean.vessel_emissions.models.VesselMetrics'> \n",
      "\n",
      "Return objects is:\n",
      "\n"
     ]
    },
    {
     "data": {
      "text/plain": [
       "VesselMetrics(imo=9412036, year=2018, vessel_type=Tanker, vessel_type_id=1, vessel_class=Aframax, vessel_class_id=86, eexi=Eexi(value=4.205015419201572, unit='g-CO2/ton mile', required=3.288153751950862), eiv=Eiv(value=4.69363738382239, unit='g-CO2/ton mile'), aer=Aer(value=4.370328069517782, unit='g-CO2/dwt mile', poseidon_principles_class='Oil Tanker 80000-119999 DWT', poseidon_principles_alignment_in_percentage=11.204276578060616, poseidon_principles_year_target=3.93), cii=Cii(value=4.247319824890369, unit='g-CO2/capacity mile', rating='C', target=4.264058648014019, target_year=2018))"
      ]
     },
     "execution_count": 12,
     "metadata": {},
     "output_type": "execute_result"
    }
   ],
   "source": [
    "vessel_metrics = api.get_metrics_by_imo(imo=9412036)\n",
    "\n",
    "print(\"Return type is: \", type(vessel_metrics), \"of\", type(vessel_metrics[0]), \"\\n\")\n",
    "\n",
    "print(\"Return objects is:\\n\", )\n",
    "vessel_metrics[0]"
   ]
  },
  {
   "cell_type": "markdown",
   "id": "b897e35b-e005-4557-8e20-5b44102a599c",
   "metadata": {
    "id": "b897e35b-e005-4557-8e20-5b44102a599c"
   },
   "source": [
    "#### Since our return object is a list, we need to use _to_dict()_ method and list comprehension to get a list of dictionaries. Then, using pd.DataFrame we get our metrics in table format."
   ]
  },
  {
   "cell_type": "code",
   "execution_count": 13,
   "id": "03c5a384-580f-4b67-9c4e-7aa1270e6282",
   "metadata": {
    "colab": {
     "base_uri": "https://localhost:8080/",
     "height": 390
    },
    "id": "03c5a384-580f-4b67-9c4e-7aa1270e6282",
    "outputId": "03f429f6-d660-4766-da4f-59dcac229a73",
    "scrolled": true
   },
   "outputs": [
    {
     "data": {
      "text/html": [
       "<div>\n",
       "<style scoped>\n",
       "    .dataframe tbody tr th:only-of-type {\n",
       "        vertical-align: middle;\n",
       "    }\n",
       "\n",
       "    .dataframe tbody tr th {\n",
       "        vertical-align: top;\n",
       "    }\n",
       "\n",
       "    .dataframe thead th {\n",
       "        text-align: right;\n",
       "    }\n",
       "</style>\n",
       "<table border=\"1\" class=\"dataframe\">\n",
       "  <thead>\n",
       "    <tr style=\"text-align: right;\">\n",
       "      <th></th>\n",
       "      <th>IMO</th>\n",
       "      <th>Year</th>\n",
       "      <th>VesselType</th>\n",
       "      <th>VesselTypeID</th>\n",
       "      <th>VesselClass</th>\n",
       "      <th>VesselClassID</th>\n",
       "      <th>EexiValue</th>\n",
       "      <th>EexiUnit</th>\n",
       "      <th>EexiRequired</th>\n",
       "      <th>EivValue</th>\n",
       "      <th>...</th>\n",
       "      <th>AerValue</th>\n",
       "      <th>AerUnit</th>\n",
       "      <th>AerPoseidonPrinciplesClass</th>\n",
       "      <th>AerPoseidonPrinciplesAlignmentInPercentage</th>\n",
       "      <th>AerPoseidonPrinciplesYearTarget</th>\n",
       "      <th>CiiValue</th>\n",
       "      <th>CiiUnit</th>\n",
       "      <th>CiiRating</th>\n",
       "      <th>CiiTarget</th>\n",
       "      <th>CiiTargetYear</th>\n",
       "    </tr>\n",
       "  </thead>\n",
       "  <tbody>\n",
       "    <tr>\n",
       "      <th>0</th>\n",
       "      <td>9412036</td>\n",
       "      <td>2018</td>\n",
       "      <td>Tanker</td>\n",
       "      <td>1</td>\n",
       "      <td>Aframax</td>\n",
       "      <td>86</td>\n",
       "      <td>4.205015</td>\n",
       "      <td>g-CO2/ton mile</td>\n",
       "      <td>3.288154</td>\n",
       "      <td>4.693637</td>\n",
       "      <td>...</td>\n",
       "      <td>4.370328</td>\n",
       "      <td>g-CO2/dwt mile</td>\n",
       "      <td>Oil Tanker 80000-119999 DWT</td>\n",
       "      <td>11.204277</td>\n",
       "      <td>3.93</td>\n",
       "      <td>4.247320</td>\n",
       "      <td>g-CO2/capacity mile</td>\n",
       "      <td>C</td>\n",
       "      <td>4.264059</td>\n",
       "      <td>2018</td>\n",
       "    </tr>\n",
       "    <tr>\n",
       "      <th>1</th>\n",
       "      <td>9412036</td>\n",
       "      <td>2019</td>\n",
       "      <td>Tanker</td>\n",
       "      <td>1</td>\n",
       "      <td>Aframax</td>\n",
       "      <td>86</td>\n",
       "      <td>4.205015</td>\n",
       "      <td>g-CO2/ton mile</td>\n",
       "      <td>3.288154</td>\n",
       "      <td>4.693637</td>\n",
       "      <td>...</td>\n",
       "      <td>3.578199</td>\n",
       "      <td>g-CO2/dwt mile</td>\n",
       "      <td>Oil Tanker 80000-119999 DWT</td>\n",
       "      <td>-6.817738</td>\n",
       "      <td>3.84</td>\n",
       "      <td>3.609029</td>\n",
       "      <td>g-CO2/capacity mile</td>\n",
       "      <td>B</td>\n",
       "      <td>4.264059</td>\n",
       "      <td>2019</td>\n",
       "    </tr>\n",
       "    <tr>\n",
       "      <th>2</th>\n",
       "      <td>9412036</td>\n",
       "      <td>2020</td>\n",
       "      <td>Tanker</td>\n",
       "      <td>1</td>\n",
       "      <td>Aframax</td>\n",
       "      <td>86</td>\n",
       "      <td>4.205015</td>\n",
       "      <td>g-CO2/ton mile</td>\n",
       "      <td>3.288154</td>\n",
       "      <td>4.693637</td>\n",
       "      <td>...</td>\n",
       "      <td>3.687948</td>\n",
       "      <td>g-CO2/dwt mile</td>\n",
       "      <td>Oil Tanker 80000-119999 DWT</td>\n",
       "      <td>-1.391768</td>\n",
       "      <td>3.74</td>\n",
       "      <td>3.676282</td>\n",
       "      <td>g-CO2/capacity mile</td>\n",
       "      <td>B</td>\n",
       "      <td>4.221418</td>\n",
       "      <td>2020</td>\n",
       "    </tr>\n",
       "    <tr>\n",
       "      <th>3</th>\n",
       "      <td>9412036</td>\n",
       "      <td>2021</td>\n",
       "      <td>Tanker</td>\n",
       "      <td>1</td>\n",
       "      <td>Aframax</td>\n",
       "      <td>86</td>\n",
       "      <td>4.205015</td>\n",
       "      <td>g-CO2/ton mile</td>\n",
       "      <td>3.288154</td>\n",
       "      <td>4.693637</td>\n",
       "      <td>...</td>\n",
       "      <td>4.081832</td>\n",
       "      <td>g-CO2/dwt mile</td>\n",
       "      <td>Oil Tanker 80000-119999 DWT</td>\n",
       "      <td>12.138239</td>\n",
       "      <td>3.64</td>\n",
       "      <td>4.065335</td>\n",
       "      <td>g-CO2/capacity mile</td>\n",
       "      <td>C</td>\n",
       "      <td>4.178777</td>\n",
       "      <td>2021</td>\n",
       "    </tr>\n",
       "    <tr>\n",
       "      <th>4</th>\n",
       "      <td>9412036</td>\n",
       "      <td>2022</td>\n",
       "      <td>Tanker</td>\n",
       "      <td>1</td>\n",
       "      <td>Aframax</td>\n",
       "      <td>86</td>\n",
       "      <td>4.205015</td>\n",
       "      <td>g-CO2/ton mile</td>\n",
       "      <td>3.288154</td>\n",
       "      <td>4.693637</td>\n",
       "      <td>...</td>\n",
       "      <td>3.732896</td>\n",
       "      <td>g-CO2/dwt mile</td>\n",
       "      <td>Oil Tanker 80000-119999 DWT</td>\n",
       "      <td>5.449053</td>\n",
       "      <td>3.54</td>\n",
       "      <td>3.732896</td>\n",
       "      <td>g-CO2/capacity mile</td>\n",
       "      <td>B</td>\n",
       "      <td>4.136137</td>\n",
       "      <td>2022</td>\n",
       "    </tr>\n",
       "  </tbody>\n",
       "</table>\n",
       "<p>5 rows × 21 columns</p>\n",
       "</div>"
      ],
      "text/plain": [
       "       IMO  Year VesselType  VesselTypeID VesselClass  VesselClassID  \\\n",
       "0  9412036  2018     Tanker             1     Aframax             86   \n",
       "1  9412036  2019     Tanker             1     Aframax             86   \n",
       "2  9412036  2020     Tanker             1     Aframax             86   \n",
       "3  9412036  2021     Tanker             1     Aframax             86   \n",
       "4  9412036  2022     Tanker             1     Aframax             86   \n",
       "\n",
       "   EexiValue        EexiUnit  EexiRequired  EivValue  ...  AerValue  \\\n",
       "0   4.205015  g-CO2/ton mile      3.288154  4.693637  ...  4.370328   \n",
       "1   4.205015  g-CO2/ton mile      3.288154  4.693637  ...  3.578199   \n",
       "2   4.205015  g-CO2/ton mile      3.288154  4.693637  ...  3.687948   \n",
       "3   4.205015  g-CO2/ton mile      3.288154  4.693637  ...  4.081832   \n",
       "4   4.205015  g-CO2/ton mile      3.288154  4.693637  ...  3.732896   \n",
       "\n",
       "          AerUnit   AerPoseidonPrinciplesClass  \\\n",
       "0  g-CO2/dwt mile  Oil Tanker 80000-119999 DWT   \n",
       "1  g-CO2/dwt mile  Oil Tanker 80000-119999 DWT   \n",
       "2  g-CO2/dwt mile  Oil Tanker 80000-119999 DWT   \n",
       "3  g-CO2/dwt mile  Oil Tanker 80000-119999 DWT   \n",
       "4  g-CO2/dwt mile  Oil Tanker 80000-119999 DWT   \n",
       "\n",
       "  AerPoseidonPrinciplesAlignmentInPercentage  AerPoseidonPrinciplesYearTarget  \\\n",
       "0                                  11.204277                             3.93   \n",
       "1                                  -6.817738                             3.84   \n",
       "2                                  -1.391768                             3.74   \n",
       "3                                  12.138239                             3.64   \n",
       "4                                   5.449053                             3.54   \n",
       "\n",
       "   CiiValue              CiiUnit CiiRating CiiTarget  CiiTargetYear  \n",
       "0  4.247320  g-CO2/capacity mile         C  4.264059           2018  \n",
       "1  3.609029  g-CO2/capacity mile         B  4.264059           2019  \n",
       "2  3.676282  g-CO2/capacity mile         B  4.221418           2020  \n",
       "3  4.065335  g-CO2/capacity mile         C  4.178777           2021  \n",
       "4  3.732896  g-CO2/capacity mile         B  4.136137           2022  \n",
       "\n",
       "[5 rows x 21 columns]"
      ]
     },
     "execution_count": 13,
     "metadata": {},
     "output_type": "execute_result"
    }
   ],
   "source": [
    "pd.json_normalize([metrics.to_dict() for metrics in vessel_metrics], sep='').head()"
   ]
  },
  {
   "cell_type": "markdown",
   "id": "59314827-0d31-4a22-b102-3ffdbf50128a",
   "metadata": {
    "id": "59314827-0d31-4a22-b102-3ffdbf50128a"
   },
   "source": [
    "### Get Metrics for a vessel for a specific year"
   ]
  },
  {
   "cell_type": "code",
   "execution_count": 14,
   "id": "c9516e6a-6d0f-4185-975e-8d24a6f267c8",
   "metadata": {
    "colab": {
     "base_uri": "https://localhost:8080/"
    },
    "id": "c9516e6a-6d0f-4185-975e-8d24a6f267c8",
    "outputId": "283c79b9-7530-45c5-d378-54324521e8c1",
    "scrolled": true
   },
   "outputs": [],
   "source": [
    "vessel_metrics = api.get_metrics_by_imo(imo=9412036, year=2020)"
   ]
  },
  {
   "cell_type": "markdown",
   "id": "da3868d3-37ad-4c77-b5b7-6347cbd09030",
   "metadata": {
    "id": "da3868d3-37ad-4c77-b5b7-6347cbd09030"
   },
   "source": [
    "### Get Metrics for a vessel class"
   ]
  },
  {
   "cell_type": "code",
   "execution_count": 15,
   "id": "1c7c0ad8-b28b-4227-ad33-a6b5fe780714",
   "metadata": {
    "colab": {
     "base_uri": "https://localhost:8080/",
     "height": 510
    },
    "id": "1c7c0ad8-b28b-4227-ad33-a6b5fe780714",
    "outputId": "d83e359b-f7cc-4437-f055-7595ca5e3f46",
    "scrolled": true
   },
   "outputs": [],
   "source": [
    "vessel_class_metrics = api.get_metrics_by_vessel_class_id(vessel_class_id=86)"
   ]
  },
  {
   "cell_type": "markdown",
   "id": "13943020-38a2-4ca4-9376-e6924994018d",
   "metadata": {
    "id": "13943020-38a2-4ca4-9376-e6924994018d"
   },
   "source": [
    "### Get Metrics for a vessel class for a specific year"
   ]
  },
  {
   "cell_type": "code",
   "execution_count": 16,
   "id": "02bd3c86-824e-49a6-ac25-59973b028d48",
   "metadata": {
    "colab": {
     "base_uri": "https://localhost:8080/",
     "height": 528
    },
    "id": "02bd3c86-824e-49a6-ac25-59973b028d48",
    "outputId": "70e075e5-9914-4072-f4b9-34094960969b",
    "scrolled": true
   },
   "outputs": [],
   "source": [
    "vessel_class_metrics_2020 = api.get_metrics_by_vessel_class_id(vessel_class_id=86, year=2020)"
   ]
  }
 ],
 "metadata": {
  "colab": {
   "provenance": []
  },
  "kernelspec": {
   "display_name": "Python 3 (ipykernel)",
   "language": "python",
   "name": "python3"
  },
  "language_info": {
   "codemirror_mode": {
    "name": "ipython",
    "version": 3
   },
   "file_extension": ".py",
   "mimetype": "text/x-python",
   "name": "python",
   "nbconvert_exporter": "python",
   "pygments_lexer": "ipython3",
   "version": "3.10.14"
  }
 },
 "nbformat": 4,
 "nbformat_minor": 5
}
