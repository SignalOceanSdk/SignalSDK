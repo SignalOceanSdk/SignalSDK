{
 "cells": [
  {
   "cell_type": "markdown",
   "id": "ec2130ec-4db3-4bbf-b579-ca5d46223f84",
   "metadata": {},
   "source": [
    "# Vessel Emissions API Example\n",
    "\n",
    "## Run this example in [Colab](https://colab.research.google.com/github/SignalOceanSdk/SignalSDK/blob/master/docs/examples/jupyter/VesselEmissionsAPI/VesselEmissionsAPI.ipynb) "
   ]
  },
  {
   "cell_type": "markdown",
   "id": "7acabfe0-ef99-4722-94f8-705fff21440f",
   "metadata": {},
   "source": [
    "#### In this notebook, we will showcase the Vessel Emissions API and supported methods with examples."
   ]
  },
  {
   "cell_type": "markdown",
   "id": "0b004c84-63bf-4c04-bf72-05d451cee304",
   "metadata": {},
   "source": [
    "## Setup\n",
    "Install the Signal Ocean SDK:\n",
    "```\n",
    "pip install signal-ocean\n",
    "```\n",
    "Set your subscription key acquired here: https://apis.signalocean.com/profile"
   ]
  },
  {
   "cell_type": "code",
   "execution_count": null,
   "id": "19722c49-00cf-4444-b40f-866a9bcedbef",
   "metadata": {},
   "outputs": [],
   "source": [
    "!pip install signal-ocean"
   ]
  },
  {
   "cell_type": "code",
   "execution_count": 1,
   "id": "39ccb562-7cee-4307-a455-c61d91d91c81",
   "metadata": {},
   "outputs": [],
   "source": [
    "signal_ocean_api_key = '' #replace with your subscription key"
   ]
  },
  {
   "cell_type": "markdown",
   "id": "e73bc726-dce3-4c46-8ec3-756a008e666e",
   "metadata": {},
   "source": [
    "## Call the Vessel Emissions API\n",
    "The Vessel Emissions API retrieves information about voyage emissions, vessel emissions and metrics for a single vessel or a vessel class."
   ]
  },
  {
   "cell_type": "code",
   "execution_count": 2,
   "id": "791a1fb7-0955-4520-aed3-4d6449e0f3fe",
   "metadata": {},
   "outputs": [],
   "source": [
    "from signal_ocean import Connection\n",
    "from signal_ocean.vessel_emissions import VesselEmissionsAPI\n",
    "\n",
    "connection = Connection(signal_ocean_api_key)\n",
    "api = VesselEmissionsAPI(connection)"
   ]
  },
  {
   "cell_type": "markdown",
   "id": "fdfb8be7-2eac-474d-9ac3-e16185de9255",
   "metadata": {},
   "source": [
    "## Examples"
   ]
  },
  {
   "cell_type": "markdown",
   "id": "f3f84188-558a-4848-90ca-99d946b83955",
   "metadata": {},
   "source": [
    "### Get Emissions for a voyage"
   ]
  },
  {
   "cell_type": "code",
   "execution_count": 3,
   "id": "c131cced-ebd6-4e03-8e00-8ab9120bbc4d",
   "metadata": {
    "scrolled": true
   },
   "outputs": [
    {
     "data": {
      "text/plain": [
       "{'ID': 'I8F9DC4VED6E22900',\n",
       " 'IMO': 9412036,\n",
       " 'VesselName': 'Sea Hymn',\n",
       " 'VoyageNumber': 140,\n",
       " 'VesselTypeID': 1,\n",
       " 'VesselClassID': 86,\n",
       " 'StartDate': '2020-09-19T23:58:04',\n",
       " 'EndDate': '2020-11-06T11:58:50',\n",
       " 'Deadweight': 116337,\n",
       " 'Emissions': {'Voyage': {'CO2InTons': 2876.4055937543308,\n",
       "   'COInTons': 2.513077972515762,\n",
       "   'Ch4InTons': 0.05443490193174936,\n",
       "   'N2OInTons': 0.14195200485341702,\n",
       "   'NMVOCInTons': 2.7943249658298,\n",
       "   'NOxInTons': 77.41626781768913,\n",
       "   'SOxInTons': 1.773724989511432,\n",
       "   'PmInTons': 2.066464647910779},\n",
       "  'Ballast': {'CO2InTons': 264.4494860706905,\n",
       "   'COInTons': 0.22848567573793283,\n",
       "   'Ch4InTons': 0.004949148210929954,\n",
       "   'N2OInTons': 0.01237287052732488,\n",
       "   'NMVOCInTons': 0.2540562748277376,\n",
       "   'NOxInTons': 6.759711598095162,\n",
       "   'SOxInTons': 0.16126469502101193,\n",
       "   'PmInTons': 0.07745391720997516},\n",
       "  'Laden': {'CO2InTons': 1930.4620199910476,\n",
       "   'COInTons': 1.694617755342644,\n",
       "   'Ch4InTons': 0.03670652177637496,\n",
       "   'N2OInTons': 0.09738671812238843,\n",
       "   'NMVOCInTons': 1.8842681178539147,\n",
       "   'NOxInTons': 53.074467348297674,\n",
       "   'SOxInTons': 1.1960575410686607,\n",
       "   'PmInTons': 1.7384155339575644},\n",
       "  'PortCall': {'CO2InTons': 255.6556,\n",
       "   'COInTons': 0.2216,\n",
       "   'Ch4InTons': 0.0048000000000000004,\n",
       "   'N2OInTons': 0.012150000000000001,\n",
       "   'NMVOCInTons': 0.24639999999999998,\n",
       "   'NOxInTons': 6.634449999999999,\n",
       "   'SOxInTons': 0.1564048,\n",
       "   'PmInTons': 0.10618402580800002},\n",
       "  'Stop': {'CO2InTons': 425.8384876925926,\n",
       "   'COInTons': 0.3683745414351851,\n",
       "   'Ch4InTons': 0.007979231944444444,\n",
       "   'N2OInTons': 0.0200424162037037,\n",
       "   'NMVOCInTons': 0.40960057314814813,\n",
       "   'NOxInTons': 10.947638871296293,\n",
       "   'SOxInTons': 0.2599979534217593,\n",
       "   'PmInTons': 0.1444111709352393}},\n",
       " 'VesselType': 'Tanker',\n",
       " 'VesselClass': 'Aframax',\n",
       " 'Quantity': 98000.0,\n",
       " 'TransportWorkInMillionTonneMiles': 621.8217600000002,\n",
       " 'TransportWorkInMillionDwtMiles': 738.17222544,\n",
       " 'ContainsEuEmissions': True}"
      ]
     },
     "execution_count": 3,
     "metadata": {},
     "output_type": "execute_result"
    }
   ],
   "source": [
    "voyage_emissions = api.get_emissions_by_imo_and_voyage_number(imo=9412036, voyage_number=140)\n",
    "voyage_emissions"
   ]
  },
  {
   "cell_type": "markdown",
   "id": "3e4f8a85-ae4b-40ad-b09c-06e9a0fa02cc",
   "metadata": {},
   "source": [
    "### Include consumptions, distances, durations, speed_statistics in the response"
   ]
  },
  {
   "cell_type": "code",
   "execution_count": 4,
   "id": "7b425865-0651-4c50-8dd2-ca2a5c57e338",
   "metadata": {
    "scrolled": true
   },
   "outputs": [
    {
     "data": {
      "text/plain": [
       "{'ID': 'I8F9DC4VED6E22900',\n",
       " 'IMO': 9412036,\n",
       " 'VesselName': 'Sea Hymn',\n",
       " 'VoyageNumber': 140,\n",
       " 'VesselTypeID': 1,\n",
       " 'VesselClassID': 86,\n",
       " 'StartDate': '2020-09-19T23:58:04',\n",
       " 'EndDate': '2020-11-06T11:58:50',\n",
       " 'Deadweight': 116337,\n",
       " 'Emissions': {'Voyage': {'CO2InTons': 2876.4055937543308,\n",
       "   'COInTons': 2.513077972515762,\n",
       "   'Ch4InTons': 0.05443490193174936,\n",
       "   'N2OInTons': 0.14195200485341702,\n",
       "   'NMVOCInTons': 2.7943249658298,\n",
       "   'NOxInTons': 77.41626781768913,\n",
       "   'SOxInTons': 1.773724989511432,\n",
       "   'PmInTons': 2.066464647910779},\n",
       "  'Ballast': {'CO2InTons': 264.4494860706905,\n",
       "   'COInTons': 0.22848567573793283,\n",
       "   'Ch4InTons': 0.004949148210929954,\n",
       "   'N2OInTons': 0.01237287052732488,\n",
       "   'NMVOCInTons': 0.2540562748277376,\n",
       "   'NOxInTons': 6.759711598095162,\n",
       "   'SOxInTons': 0.16126469502101193,\n",
       "   'PmInTons': 0.07745391720997516},\n",
       "  'Laden': {'CO2InTons': 1930.4620199910476,\n",
       "   'COInTons': 1.694617755342644,\n",
       "   'Ch4InTons': 0.03670652177637496,\n",
       "   'N2OInTons': 0.09738671812238843,\n",
       "   'NMVOCInTons': 1.8842681178539147,\n",
       "   'NOxInTons': 53.074467348297674,\n",
       "   'SOxInTons': 1.1960575410686607,\n",
       "   'PmInTons': 1.7384155339575644},\n",
       "  'PortCall': {'CO2InTons': 255.6556,\n",
       "   'COInTons': 0.2216,\n",
       "   'Ch4InTons': 0.0048000000000000004,\n",
       "   'N2OInTons': 0.012150000000000001,\n",
       "   'NMVOCInTons': 0.24639999999999998,\n",
       "   'NOxInTons': 6.634449999999999,\n",
       "   'SOxInTons': 0.1564048,\n",
       "   'PmInTons': 0.10618402580800002},\n",
       "  'Stop': {'CO2InTons': 425.8384876925926,\n",
       "   'COInTons': 0.3683745414351851,\n",
       "   'Ch4InTons': 0.007979231944444444,\n",
       "   'N2OInTons': 0.0200424162037037,\n",
       "   'NMVOCInTons': 0.40960057314814813,\n",
       "   'NOxInTons': 10.947638871296293,\n",
       "   'SOxInTons': 0.2599979534217593,\n",
       "   'PmInTons': 0.1444111709352393}},\n",
       " 'VesselType': 'Tanker',\n",
       " 'VesselClass': 'Aframax',\n",
       " 'Quantity': 98000.0,\n",
       " 'TransportWorkInMillionTonneMiles': 621.8217600000002,\n",
       " 'TransportWorkInMillionDwtMiles': 738.17222544,\n",
       " 'ContainsEuEmissions': True,\n",
       " 'Consumptions': {'Voyage': {'TotalInTons': 907.2483655291561,\n",
       "   'LfoInTons': 586.4750024043597,\n",
       "   'MgoInTons': 320.77336312479645},\n",
       "  'Ballast': {'TotalInTons': 82.48580351549923,\n",
       "   'MgoInTons': 82.48580351549923},\n",
       "  'Laden': {'TotalInTons': 611.7753629395828,\n",
       "   'LfoInTons': 562.0413681451004,\n",
       "   'MgoInTons': 49.733994794482356},\n",
       "  'PortCall': {'TotalInTons': 80.0, 'LfoInTons': 15.0, 'MgoInTons': 65.0},\n",
       "  'Stop': {'TotalInTons': 132.98719907407408,\n",
       "   'LfoInTons': 9.43363425925926,\n",
       "   'MgoInTons': 123.5535648148148}},\n",
       " 'SeagoingSpeedStatistics': {'Voyage': {'AverageSpeedInKnots': 11.501242236024845,\n",
       "   'StdSpeedInKnots': 1.4208431068017422,\n",
       "   'MinSpeedInKnots': 7.1,\n",
       "   'MaxSpeedInKnots': 15.2},\n",
       "  'Laden': {'AverageSpeedInKnots': 11.8264631043257,\n",
       "   'StdSpeedInKnots': 1.0057041189053546,\n",
       "   'MinSpeedInKnots': 7.5,\n",
       "   'MaxSpeedInKnots': 13.9},\n",
       "  'Ballast': {'AverageSpeedInKnots': 10.081111111111111,\n",
       "   'StdSpeedInKnots': 1.9929592048032463,\n",
       "   'MinSpeedInKnots': 7.1,\n",
       "   'MaxSpeedInKnots': 15.2}},\n",
       " 'Duration': {'Voyage': {'InHours': 1140.0127777777777,\n",
       "   'InDays': 47.50053240740741},\n",
       "  'Ballast': {'InHours': 119.22083333333335, 'InDays': 4.967534722222221},\n",
       "  'Laden': {'InHours': 472.85305555555556, 'InDays': 19.702210648148153},\n",
       "  'PortCall': {'InHours': 91.98277777777778, 'InDays': 3.832615740740741},\n",
       "  'Stop': {'InHours': 455.9561111111111, 'InDays': 18.998171296296295}},\n",
       " 'Distances': {'Voyage': {'DistanceTravelled': 6345.120000000001},\n",
       "  'Ballast': {'DistanceTravelled': 995.4999999999999},\n",
       "  'Laden': {'DistanceTravelled': 5349.620000000001}}}"
      ]
     },
     "execution_count": 4,
     "metadata": {},
     "output_type": "execute_result"
    }
   ],
   "source": [
    "voyage_emissions = api.get_emissions_by_imo_and_voyage_number(imo=9412036, voyage_number=140, \n",
    "                                                              include_consumptions=True,\n",
    "                                                              include_distances=True,\n",
    "                                                              include_durations=True,\n",
    "                                                              include_speed_statistics=True\n",
    "                                                             )\n",
    "voyage_emissions"
   ]
  },
  {
   "cell_type": "markdown",
   "id": "ab5843af-749f-4b9a-93e0-3b946b3a61f7",
   "metadata": {},
   "source": [
    "### Include efficiency metrics in the response"
   ]
  },
  {
   "cell_type": "code",
   "execution_count": 5,
   "id": "173b5da6-542d-4606-bcf6-55848f8b4ba3",
   "metadata": {
    "scrolled": true
   },
   "outputs": [
    {
     "data": {
      "text/plain": [
       "{'ID': 'I8F9DC4VED6E22900',\n",
       " 'IMO': 9412036,\n",
       " 'VesselName': 'Sea Hymn',\n",
       " 'VoyageNumber': 140,\n",
       " 'VesselTypeID': 1,\n",
       " 'VesselClassID': 86,\n",
       " 'StartDate': '2020-09-19T23:58:04',\n",
       " 'EndDate': '2020-11-06T11:58:50',\n",
       " 'Deadweight': 116337,\n",
       " 'Emissions': {'Voyage': {'CO2InTons': 2876.4055937543308,\n",
       "   'COInTons': 2.513077972515762,\n",
       "   'Ch4InTons': 0.05443490193174936,\n",
       "   'N2OInTons': 0.14195200485341702,\n",
       "   'NMVOCInTons': 2.7943249658298,\n",
       "   'NOxInTons': 77.41626781768913,\n",
       "   'SOxInTons': 1.773724989511432,\n",
       "   'PmInTons': 2.066464647910779},\n",
       "  'Ballast': {'CO2InTons': 264.4494860706905,\n",
       "   'COInTons': 0.22848567573793283,\n",
       "   'Ch4InTons': 0.004949148210929954,\n",
       "   'N2OInTons': 0.01237287052732488,\n",
       "   'NMVOCInTons': 0.2540562748277376,\n",
       "   'NOxInTons': 6.759711598095162,\n",
       "   'SOxInTons': 0.16126469502101193,\n",
       "   'PmInTons': 0.07745391720997516},\n",
       "  'Laden': {'CO2InTons': 1930.4620199910476,\n",
       "   'COInTons': 1.694617755342644,\n",
       "   'Ch4InTons': 0.03670652177637496,\n",
       "   'N2OInTons': 0.09738671812238843,\n",
       "   'NMVOCInTons': 1.8842681178539147,\n",
       "   'NOxInTons': 53.074467348297674,\n",
       "   'SOxInTons': 1.1960575410686607,\n",
       "   'PmInTons': 1.7384155339575644},\n",
       "  'PortCall': {'CO2InTons': 255.6556,\n",
       "   'COInTons': 0.2216,\n",
       "   'Ch4InTons': 0.0048000000000000004,\n",
       "   'N2OInTons': 0.012150000000000001,\n",
       "   'NMVOCInTons': 0.24639999999999998,\n",
       "   'NOxInTons': 6.634449999999999,\n",
       "   'SOxInTons': 0.1564048,\n",
       "   'PmInTons': 0.10618402580800002},\n",
       "  'Stop': {'CO2InTons': 425.8384876925926,\n",
       "   'COInTons': 0.3683745414351851,\n",
       "   'Ch4InTons': 0.007979231944444444,\n",
       "   'N2OInTons': 0.0200424162037037,\n",
       "   'NMVOCInTons': 0.40960057314814813,\n",
       "   'NOxInTons': 10.947638871296293,\n",
       "   'SOxInTons': 0.2599979534217593,\n",
       "   'PmInTons': 0.1444111709352393}},\n",
       " 'VesselType': 'Tanker',\n",
       " 'VesselClass': 'Aframax',\n",
       " 'Quantity': 98000.0,\n",
       " 'TransportWorkInMillionTonneMiles': 621.8217600000002,\n",
       " 'TransportWorkInMillionDwtMiles': 738.17222544,\n",
       " 'ContainsEuEmissions': True,\n",
       " 'EfficiencyMetrics': {'VoyageCii': 3.89665920041871,\n",
       "  'VoyageCiiUnit': 'g-CO2/capacity mile',\n",
       "  'VoyageCiiRating': 'B',\n",
       "  'VoyageCiiTarget': 4.221418061533878,\n",
       "  'VoyageCiiTargetYear': 2020,\n",
       "  'CapacityEeoi': 4.621780654655988,\n",
       "  'CapacityEeoiUnit': 'g-CO2/capacity mile',\n",
       "  'CapacityEeoiSeaCargoCharterYearTarget': 11.29,\n",
       "  'CapacityEeoiSeaCargoCharterClass': 'Oil Tanker 80000-119999 DWT',\n",
       "  'CapacityEeoiSeaCargoCharterAlignmentInPercentage': -59.06305886044297,\n",
       "  'Eeoi': 5.486572408374629,\n",
       "  'EeoiUnit': 'g-CO2/ton mile',\n",
       "  'EeoiSeaCargoCharterYearTarget': 11.29,\n",
       "  'EeoiSeaCargoCharterClass': 'Oil Tanker 80000-119999 DWT',\n",
       "  'EeoiSeaCargoCharterAlignmentInPercentage': -51.403255904564844,\n",
       "  'KgCO2PerTonneCargo': 29.35107748728909,\n",
       "  'KgCO2PerTonneDwt': 24.72477022576077}}"
      ]
     },
     "execution_count": 5,
     "metadata": {},
     "output_type": "execute_result"
    }
   ],
   "source": [
    "voyage_emissions = api.get_emissions_by_imo_and_voyage_number(imo=9412036, voyage_number=140, \n",
    "                                                              include_efficiency_metrics=True\n",
    "                                                             )\n",
    "voyage_emissions"
   ]
  },
  {
   "cell_type": "markdown",
   "id": "2173bda5-cd3a-4c5b-a7c8-1c5e56515fde",
   "metadata": {},
   "source": [
    "### Include EU regulated emissions in the response"
   ]
  },
  {
   "cell_type": "code",
   "execution_count": 6,
   "id": "7d80d544-837d-4ed9-91a2-a4cafd7b0e74",
   "metadata": {
    "scrolled": true
   },
   "outputs": [
    {
     "data": {
      "text/plain": [
       "{'ID': 'I8F9DC4VED6E22900',\n",
       " 'IMO': 9412036,\n",
       " 'VesselName': 'Sea Hymn',\n",
       " 'VoyageNumber': 140,\n",
       " 'VesselTypeID': 1,\n",
       " 'VesselClassID': 86,\n",
       " 'StartDate': '2020-09-19T23:58:04',\n",
       " 'EndDate': '2020-11-06T11:58:50',\n",
       " 'Deadweight': 116337,\n",
       " 'Emissions': {'Voyage': {'CO2InTons': 2876.4055937543308,\n",
       "   'COInTons': 2.513077972515762,\n",
       "   'Ch4InTons': 0.05443490193174936,\n",
       "   'N2OInTons': 0.14195200485341702,\n",
       "   'NMVOCInTons': 2.7943249658298,\n",
       "   'NOxInTons': 77.41626781768913,\n",
       "   'SOxInTons': 1.773724989511432,\n",
       "   'PmInTons': 2.066464647910779},\n",
       "  'Ballast': {'CO2InTons': 264.4494860706905,\n",
       "   'COInTons': 0.22848567573793283,\n",
       "   'Ch4InTons': 0.004949148210929954,\n",
       "   'N2OInTons': 0.01237287052732488,\n",
       "   'NMVOCInTons': 0.2540562748277376,\n",
       "   'NOxInTons': 6.759711598095162,\n",
       "   'SOxInTons': 0.16126469502101193,\n",
       "   'PmInTons': 0.07745391720997516},\n",
       "  'Laden': {'CO2InTons': 1930.4620199910476,\n",
       "   'COInTons': 1.694617755342644,\n",
       "   'Ch4InTons': 0.03670652177637496,\n",
       "   'N2OInTons': 0.09738671812238843,\n",
       "   'NMVOCInTons': 1.8842681178539147,\n",
       "   'NOxInTons': 53.074467348297674,\n",
       "   'SOxInTons': 1.1960575410686607,\n",
       "   'PmInTons': 1.7384155339575644},\n",
       "  'PortCall': {'CO2InTons': 255.6556,\n",
       "   'COInTons': 0.2216,\n",
       "   'Ch4InTons': 0.0048000000000000004,\n",
       "   'N2OInTons': 0.012150000000000001,\n",
       "   'NMVOCInTons': 0.24639999999999998,\n",
       "   'NOxInTons': 6.634449999999999,\n",
       "   'SOxInTons': 0.1564048,\n",
       "   'PmInTons': 0.10618402580800002},\n",
       "  'Stop': {'CO2InTons': 425.8384876925926,\n",
       "   'COInTons': 0.3683745414351851,\n",
       "   'Ch4InTons': 0.007979231944444444,\n",
       "   'N2OInTons': 0.0200424162037037,\n",
       "   'NMVOCInTons': 0.40960057314814813,\n",
       "   'NOxInTons': 10.947638871296293,\n",
       "   'SOxInTons': 0.2599979534217593,\n",
       "   'PmInTons': 0.1444111709352393}},\n",
       " 'VesselType': 'Tanker',\n",
       " 'VesselClass': 'Aframax',\n",
       " 'Quantity': 98000.0,\n",
       " 'TransportWorkInMillionTonneMiles': 621.8217600000002,\n",
       " 'TransportWorkInMillionDwtMiles': 738.17222544,\n",
       " 'ContainsEuEmissions': True,\n",
       " 'EuropeanUnionRegulated': {'Emissions': {'Voyage': {'CO2InTons': 2119.3228537993373,\n",
       "    'COInTons': 1.8577944582899188,\n",
       "    'Ch4InTons': 0.04024103519761557,\n",
       "    'N2OInTons': 0.10622300167548994,\n",
       "    'NMVOCInTons': 2.0657064734775994,\n",
       "    'NOxInTons': 57.902023596142136,\n",
       "    'SOxInTons': 1.3112273045575051,\n",
       "    'PmInTons': 1.7937304888222674},\n",
       "   'Laden': {'CO2InTons': 1910.9328537993374,\n",
       "    'COInTons': 1.6777444582899188,\n",
       "    'Ch4InTons': 0.03634103519761557,\n",
       "    'N2OInTons': 0.09647300167548994,\n",
       "    'NMVOCInTons': 1.8655064734775992,\n",
       "    'NOxInTons': 52.57527359614214,\n",
       "    'SOxInTons': 1.184148404557505,\n",
       "    'PmInTons': 1.7326956876312674},\n",
       "   'PortCall': {'CO2InTons': 208.39,\n",
       "    'COInTons': 0.18005,\n",
       "    'Ch4InTons': 0.0039000000000000003,\n",
       "    'N2OInTons': 0.00975,\n",
       "    'NMVOCInTons': 0.2002,\n",
       "    'NOxInTons': 5.32675,\n",
       "    'SOxInTons': 0.12707890000000002,\n",
       "    'PmInTons': 0.06103480119100001},\n",
       "   'Stop': {'CO2InTons': 0.0,\n",
       "    'COInTons': 0.0,\n",
       "    'Ch4InTons': 0.0,\n",
       "    'N2OInTons': 0.0,\n",
       "    'NMVOCInTons': 0.0,\n",
       "    'NOxInTons': 0.0,\n",
       "    'SOxInTons': 0.0,\n",
       "    'PmInTons': 0.0}}}}"
      ]
     },
     "execution_count": 6,
     "metadata": {},
     "output_type": "execute_result"
    }
   ],
   "source": [
    "voyage_emissions = api.get_emissions_by_imo_and_voyage_number(imo=9412036, voyage_number=140, \n",
    "                                                              include_eu_emissions=True\n",
    "                                                             )\n",
    "voyage_emissions"
   ]
  },
  {
   "cell_type": "markdown",
   "id": "df90a784-faf7-4895-a3f5-f42108ff1ce6",
   "metadata": {},
   "source": [
    "### Get Emissions for a vessel"
   ]
  },
  {
   "cell_type": "code",
   "execution_count": 7,
   "id": "2334e7aa-9734-467f-96dc-6d5a0751248f",
   "metadata": {
    "scrolled": true
   },
   "outputs": [],
   "source": [
    "vessel_emissions = api.get_emissions_by_imo(imo=9412036, include_distances=True, include_eu_emissions=True)\n",
    "# vessel_emissions"
   ]
  },
  {
   "cell_type": "markdown",
   "id": "157c2d38-9ad0-4254-9c2e-f977559a2ddd",
   "metadata": {},
   "source": [
    "### Get Emissions for a vessel class"
   ]
  },
  {
   "cell_type": "code",
   "execution_count": 8,
   "id": "e8010aca-7374-4795-8311-9e06882daff3",
   "metadata": {
    "scrolled": true
   },
   "outputs": [],
   "source": [
    "vessel_class_emissions = api.get_emissions_by_vessel_class_id(vessel_class_id=86)\n",
    "# vessel_class_emissions"
   ]
  },
  {
   "cell_type": "markdown",
   "id": "1abcc915-f43e-41f3-85b2-3255e66d3ffd",
   "metadata": {},
   "source": [
    "### Get Emissions for a vessel class using next page token"
   ]
  },
  {
   "cell_type": "code",
   "execution_count": 9,
   "id": "bdd52b7d-7a54-4f48-b3ea-0d10dc6ca164",
   "metadata": {
    "scrolled": true
   },
   "outputs": [],
   "source": [
    "vessel_class_emissions_with_token = api.get_emissions_by_vessel_class_id(\n",
    "    vessel_class_id=86, \n",
    "    token=\"eyJ2ZXNzZWxfY2xhc3NfaWQiOiA4NiwgImxhc3RfaWQiOiAiNjI1ZjUyZTlkMzMwZDA2MTBjOWFkZTEwIn0=\",\n",
    "    include_eu_emissions=True\n",
    ")\n",
    "# vessel_class_emissions_with_token"
   ]
  },
  {
   "cell_type": "markdown",
   "id": "b233781a-7374-43a4-bf21-f8e358fc1f3c",
   "metadata": {},
   "source": [
    "### Get Metrics for a vessel"
   ]
  },
  {
   "cell_type": "code",
   "execution_count": 11,
   "id": "5e4870b2-f970-4eb8-8b41-abedbe5396c8",
   "metadata": {
    "scrolled": true
   },
   "outputs": [
    {
     "data": {
      "text/plain": [
       "[{'IMO': 9412036,\n",
       "  'Year': 2018,\n",
       "  'VesselType': 'Tanker',\n",
       "  'VesselTypeID': 1,\n",
       "  'VesselClass': 'Aframax',\n",
       "  'VesselClassID': 86,\n",
       "  'Eexi': {'Value': 5.515052548670922,\n",
       "   'Unit': 'g-CO2/ton mile',\n",
       "   'Required': 3.288153751950862},\n",
       "  'Eiv': {'Value': 4.69363738382239, 'Unit': 'g-CO2/ton mile'},\n",
       "  'Aer': {'Value': 4.247291695332408,\n",
       "   'Unit': 'g-CO2/dwt mile',\n",
       "   'PoseidonPrinciplesClass': 'Oil Tanker 80000-119999 DWT',\n",
       "   'PoseidonPrinciplesAlignmentInPercentage': 8.073580033903513,\n",
       "   'PoseidonPrinciplesYearTarget': 3.93},\n",
       "  'Cii': {'Value': 4.247291695332408,\n",
       "   'Unit': 'g-CO2/capacity mile',\n",
       "   'Rating': 'C',\n",
       "   'Target': 4.264058648014019,\n",
       "   'TargetYear': 2018}},\n",
       " {'IMO': 9412036,\n",
       "  'Year': 2019,\n",
       "  'VesselType': 'Tanker',\n",
       "  'VesselTypeID': 1,\n",
       "  'VesselClass': 'Aframax',\n",
       "  'VesselClassID': 86,\n",
       "  'Eexi': {'Value': 5.515052548670922,\n",
       "   'Unit': 'g-CO2/ton mile',\n",
       "   'Required': 3.288153751950862},\n",
       "  'Eiv': {'Value': 4.69363738382239, 'Unit': 'g-CO2/ton mile'},\n",
       "  'Aer': {'Value': 3.6090451319739767,\n",
       "   'Unit': 'g-CO2/dwt mile',\n",
       "   'PoseidonPrinciplesClass': 'Oil Tanker 80000-119999 DWT',\n",
       "   'PoseidonPrinciplesAlignmentInPercentage': -6.014449688177687,\n",
       "   'PoseidonPrinciplesYearTarget': 3.84},\n",
       "  'Cii': {'Value': 3.6090451319739767,\n",
       "   'Unit': 'g-CO2/capacity mile',\n",
       "   'Rating': 'B',\n",
       "   'Target': 4.264058648014019,\n",
       "   'TargetYear': 2019}},\n",
       " {'IMO': 9412036,\n",
       "  'Year': 2020,\n",
       "  'VesselType': 'Tanker',\n",
       "  'VesselTypeID': 1,\n",
       "  'VesselClass': 'Aframax',\n",
       "  'VesselClassID': 86,\n",
       "  'Eexi': {'Value': 5.515052548670922,\n",
       "   'Unit': 'g-CO2/ton mile',\n",
       "   'Required': 3.288153751950862},\n",
       "  'Eiv': {'Value': 4.69363738382239, 'Unit': 'g-CO2/ton mile'},\n",
       "  'Aer': {'Value': 3.6762797538353507,\n",
       "   'Unit': 'g-CO2/dwt mile',\n",
       "   'PoseidonPrinciplesClass': 'Oil Tanker 80000-119999 DWT',\n",
       "   'PoseidonPrinciplesAlignmentInPercentage': -1.7037498974505227,\n",
       "   'PoseidonPrinciplesYearTarget': 3.74},\n",
       "  'Cii': {'Value': 3.6762797538353507,\n",
       "   'Unit': 'g-CO2/capacity mile',\n",
       "   'Rating': 'B',\n",
       "   'Target': 4.221418061533878,\n",
       "   'TargetYear': 2020}},\n",
       " {'IMO': 9412036,\n",
       "  'Year': 2021,\n",
       "  'VesselType': 'Tanker',\n",
       "  'VesselTypeID': 1,\n",
       "  'VesselClass': 'Aframax',\n",
       "  'VesselClassID': 86,\n",
       "  'Eexi': {'Value': 5.515052548670922,\n",
       "   'Unit': 'g-CO2/ton mile',\n",
       "   'Required': 3.288153751950862},\n",
       "  'Eiv': {'Value': 4.69363738382239, 'Unit': 'g-CO2/ton mile'},\n",
       "  'Aer': {'Value': 4.065336970939952,\n",
       "   'Unit': 'g-CO2/dwt mile',\n",
       "   'PoseidonPrinciplesClass': 'Oil Tanker 80000-119999 DWT',\n",
       "   'PoseidonPrinciplesAlignmentInPercentage': 11.685081619229443,\n",
       "   'PoseidonPrinciplesYearTarget': 3.64},\n",
       "  'Cii': {'Value': 4.065336970939952,\n",
       "   'Unit': 'g-CO2/capacity mile',\n",
       "   'Rating': 'C',\n",
       "   'Target': 4.178777475053739,\n",
       "   'TargetYear': 2021}},\n",
       " {'IMO': 9412036,\n",
       "  'Year': 2022,\n",
       "  'VesselType': 'Tanker',\n",
       "  'VesselTypeID': 1,\n",
       "  'VesselClass': 'Aframax',\n",
       "  'VesselClassID': 86,\n",
       "  'Eexi': {'Value': 5.515052548670922,\n",
       "   'Unit': 'g-CO2/ton mile',\n",
       "   'Required': 3.288153751950862},\n",
       "  'Eiv': {'Value': 4.69363738382239, 'Unit': 'g-CO2/ton mile'},\n",
       "  'Aer': {'Value': 3.7799129607191055,\n",
       "   'Unit': 'g-CO2/dwt mile',\n",
       "   'PoseidonPrinciplesClass': 'Oil Tanker 80000-119999 DWT',\n",
       "   'PoseidonPrinciplesAlignmentInPercentage': 6.77720228020072,\n",
       "   'PoseidonPrinciplesYearTarget': 3.54},\n",
       "  'Cii': {'Value': 3.7799129607191055,\n",
       "   'Unit': 'g-CO2/capacity mile',\n",
       "   'Rating': 'B',\n",
       "   'Target': 4.136136888573598,\n",
       "   'TargetYear': 2022}},\n",
       " {'IMO': 9412036,\n",
       "  'Year': 2023,\n",
       "  'VesselType': 'Tanker',\n",
       "  'VesselTypeID': 1,\n",
       "  'VesselClass': 'Aframax',\n",
       "  'VesselClassID': 86,\n",
       "  'Eexi': {'Value': 5.515052548670922,\n",
       "   'Unit': 'g-CO2/ton mile',\n",
       "   'Required': 3.288153751950862},\n",
       "  'Eiv': {'Value': 4.69363738382239, 'Unit': 'g-CO2/ton mile'},\n",
       "  'Aer': {'Value': 3.555051656278761,\n",
       "   'Unit': 'g-CO2/dwt mile',\n",
       "   'PoseidonPrinciplesClass': 'Oil Tanker 80000-119999 DWT',\n",
       "   'PoseidonPrinciplesAlignmentInPercentage': 3.344524891824445,\n",
       "   'PoseidonPrinciplesYearTarget': 3.44},\n",
       "  'Cii': {'Value': 3.555051656278761,\n",
       "   'Unit': 'g-CO2/capacity mile',\n",
       "   'Rating': 'B',\n",
       "   'Target': 4.050855715613317,\n",
       "   'TargetYear': 2023}}]"
      ]
     },
     "execution_count": 11,
     "metadata": {},
     "output_type": "execute_result"
    }
   ],
   "source": [
    "vessel_metrics = api.get_metrics_by_imo(imo=9412036)\n",
    "vessel_metrics"
   ]
  },
  {
   "cell_type": "markdown",
   "id": "59314827-0d31-4a22-b102-3ffdbf50128a",
   "metadata": {},
   "source": [
    "### Get Metrics for a vessel for a specific year"
   ]
  },
  {
   "cell_type": "code",
   "execution_count": 12,
   "id": "c9516e6a-6d0f-4185-975e-8d24a6f267c8",
   "metadata": {},
   "outputs": [
    {
     "data": {
      "text/plain": [
       "[{'IMO': 9412036,\n",
       "  'Year': 2020,\n",
       "  'VesselType': 'Tanker',\n",
       "  'VesselTypeID': 1,\n",
       "  'VesselClass': 'Aframax',\n",
       "  'VesselClassID': 86,\n",
       "  'Eexi': {'Value': 5.515052548670922,\n",
       "   'Unit': 'g-CO2/ton mile',\n",
       "   'Required': 3.288153751950862},\n",
       "  'Eiv': {'Value': 4.69363738382239, 'Unit': 'g-CO2/ton mile'},\n",
       "  'Aer': {'Value': 3.6762797538353507,\n",
       "   'Unit': 'g-CO2/dwt mile',\n",
       "   'PoseidonPrinciplesClass': 'Oil Tanker 80000-119999 DWT',\n",
       "   'PoseidonPrinciplesAlignmentInPercentage': -1.7037498974505227,\n",
       "   'PoseidonPrinciplesYearTarget': 3.74},\n",
       "  'Cii': {'Value': 3.6762797538353507,\n",
       "   'Unit': 'g-CO2/capacity mile',\n",
       "   'Rating': 'B',\n",
       "   'Target': 4.221418061533878,\n",
       "   'TargetYear': 2020}}]"
      ]
     },
     "execution_count": 12,
     "metadata": {},
     "output_type": "execute_result"
    }
   ],
   "source": [
    "vessel_metrics = api.get_metrics_by_imo(imo=9412036, year=2020)\n",
    "vessel_metrics"
   ]
  },
  {
   "cell_type": "markdown",
   "id": "da3868d3-37ad-4c77-b5b7-6347cbd09030",
   "metadata": {},
   "source": [
    "### Get Metrics for a vessel class"
   ]
  },
  {
   "cell_type": "code",
   "execution_count": 13,
   "id": "1c7c0ad8-b28b-4227-ad33-a6b5fe780714",
   "metadata": {
    "scrolled": true
   },
   "outputs": [],
   "source": [
    "vessel_class_metrics = api.get_metrics_by_vessel_class_id(vessel_class_id=86)\n",
    "# vessel_class_metrics"
   ]
  },
  {
   "cell_type": "markdown",
   "id": "13943020-38a2-4ca4-9376-e6924994018d",
   "metadata": {},
   "source": [
    "### Get Metrics for a vessel class for a specific year"
   ]
  },
  {
   "cell_type": "code",
   "execution_count": 14,
   "id": "02bd3c86-824e-49a6-ac25-59973b028d48",
   "metadata": {
    "scrolled": true
   },
   "outputs": [],
   "source": [
    "vessel_class_metrics = api.get_metrics_by_vessel_class_id(vessel_class_id=86, year=2020)\n",
    "# vessel_class_metrics"
   ]
  },
  {
   "cell_type": "code",
   "execution_count": null,
   "id": "45598990-f112-45f4-98e2-fdc9a33a63b3",
   "metadata": {},
   "outputs": [],
   "source": []
  }
 ],
 "metadata": {
  "kernelspec": {
   "display_name": "Python 3 (ipykernel)",
   "language": "python",
   "name": "python3"
  },
  "language_info": {
   "codemirror_mode": {
    "name": "ipython",
    "version": 3
   },
   "file_extension": ".py",
   "mimetype": "text/x-python",
   "name": "python",
   "nbconvert_exporter": "python",
   "pygments_lexer": "ipython3",
   "version": "3.10.6"
  }
 },
 "nbformat": 4,
 "nbformat_minor": 5
}
