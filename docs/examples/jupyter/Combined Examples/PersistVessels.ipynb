{
 "cells": [
  {
   "cell_type": "markdown",
   "metadata": {},
   "source": [
    "# Example: Persist Vessels into local DB "
   ]
  },
  {
   "cell_type": "markdown",
   "metadata": {},
   "source": [
    "This example demonstrates how to persist a call to the VesselsAPI() into a local database for later usage."
   ]
  },
  {
   "cell_type": "code",
   "execution_count": 1,
   "metadata": {},
   "outputs": [
    {
     "name": "stdout",
     "output_type": "stream",
     "text": [
      "Requirement already satisfied: signal-ocean in c:\\users\\m.logothetis\\anaconda3\\lib\\site-packages (1.0.2)\n",
      "Requirement already satisfied: pandas<2,>=1.0.3 in c:\\users\\m.logothetis\\anaconda3\\lib\\site-packages (from signal-ocean) (1.1.3)\n",
      "Requirement already satisfied: requests<3,>=2.23.0 in c:\\users\\m.logothetis\\anaconda3\\lib\\site-packages (from signal-ocean) (2.24.0)\n",
      "Requirement already satisfied: python-dateutil<3,>=2.8.1 in c:\\users\\m.logothetis\\anaconda3\\lib\\site-packages (from signal-ocean) (2.8.1)\n",
      "Requirement already satisfied: numpy>=1.15.4 in c:\\users\\m.logothetis\\anaconda3\\lib\\site-packages (from pandas<2,>=1.0.3->signal-ocean) (1.19.2)\n",
      "Requirement already satisfied: pytz>=2017.2 in c:\\users\\m.logothetis\\anaconda3\\lib\\site-packages (from pandas<2,>=1.0.3->signal-ocean) (2020.1)\n",
      "Requirement already satisfied: certifi>=2017.4.17 in c:\\users\\m.logothetis\\anaconda3\\lib\\site-packages (from requests<3,>=2.23.0->signal-ocean) (2020.6.20)\n",
      "Requirement already satisfied: chardet<4,>=3.0.2 in c:\\users\\m.logothetis\\anaconda3\\lib\\site-packages (from requests<3,>=2.23.0->signal-ocean) (3.0.4)\n",
      "Requirement already satisfied: idna<3,>=2.5 in c:\\users\\m.logothetis\\anaconda3\\lib\\site-packages (from requests<3,>=2.23.0->signal-ocean) (2.10)\n",
      "Requirement already satisfied: urllib3!=1.25.0,!=1.25.1,<1.26,>=1.21.1 in c:\\users\\m.logothetis\\anaconda3\\lib\\site-packages (from requests<3,>=2.23.0->signal-ocean) (1.25.11)\n",
      "Requirement already satisfied: six>=1.5 in c:\\users\\m.logothetis\\anaconda3\\lib\\site-packages (from python-dateutil<3,>=2.8.1->signal-ocean) (1.15.0)\n"
     ]
    }
   ],
   "source": [
    "!pip install signal-ocean"
   ]
  },
  {
   "cell_type": "code",
   "execution_count": 2,
   "metadata": {},
   "outputs": [],
   "source": [
    "signal_ocean_api_key = '' #replace with your subscription key"
   ]
  },
  {
   "cell_type": "code",
   "execution_count": 5,
   "metadata": {},
   "outputs": [],
   "source": [
    "from signal_ocean import Connection\n",
    "from signal_ocean.vessels import VesselsAPI\n",
    "from sqlalchemy import create_engine\n",
    "import pandas as pd\n",
    "import sqlite3\n",
    "import os"
   ]
  },
  {
   "cell_type": "markdown",
   "metadata": {},
   "source": [
    "#### Establish connection to API and get all vessels"
   ]
  },
  {
   "cell_type": "code",
   "execution_count": 7,
   "metadata": {},
   "outputs": [
    {
     "data": {
      "text/html": [
       "<div>\n",
       "<style scoped>\n",
       "    .dataframe tbody tr th:only-of-type {\n",
       "        vertical-align: middle;\n",
       "    }\n",
       "\n",
       "    .dataframe tbody tr th {\n",
       "        vertical-align: top;\n",
       "    }\n",
       "\n",
       "    .dataframe thead th {\n",
       "        text-align: right;\n",
       "    }\n",
       "</style>\n",
       "<table border=\"1\" class=\"dataframe\">\n",
       "  <thead>\n",
       "    <tr style=\"text-align: right;\">\n",
       "      <th></th>\n",
       "      <th>imo</th>\n",
       "      <th>vessel_type_id</th>\n",
       "      <th>built_for_trade_id</th>\n",
       "      <th>trade_id</th>\n",
       "      <th>vessel_class_id</th>\n",
       "      <th>commercial_operator_id</th>\n",
       "      <th>deadweight</th>\n",
       "      <th>breadth_extreme</th>\n",
       "      <th>gross_rated_tonnage</th>\n",
       "      <th>reduced_gross_tonnage</th>\n",
       "      <th>...</th>\n",
       "      <th>cubic_size</th>\n",
       "      <th>scrubbers_date</th>\n",
       "      <th>summer_tpc</th>\n",
       "      <th>lightship_tonnes</th>\n",
       "      <th>main_engine_manufacturer</th>\n",
       "      <th>delivery_date</th>\n",
       "      <th>classification_register</th>\n",
       "      <th>number_of_holds</th>\n",
       "      <th>grain_capacity</th>\n",
       "      <th>bale_capacity</th>\n",
       "    </tr>\n",
       "  </thead>\n",
       "  <tbody>\n",
       "    <tr>\n",
       "      <th>0</th>\n",
       "      <td>-2</td>\n",
       "      <td>-2</td>\n",
       "      <td>-2</td>\n",
       "      <td>-2</td>\n",
       "      <td>-2</td>\n",
       "      <td>-2</td>\n",
       "      <td>0</td>\n",
       "      <td>0</td>\n",
       "      <td>0</td>\n",
       "      <td>0</td>\n",
       "      <td>...</td>\n",
       "      <td>NaN</td>\n",
       "      <td>NaT</td>\n",
       "      <td>NaN</td>\n",
       "      <td>NaN</td>\n",
       "      <td>NotSet</td>\n",
       "      <td>NaT</td>\n",
       "      <td>Not set</td>\n",
       "      <td>NaN</td>\n",
       "      <td>NaN</td>\n",
       "      <td>NaN</td>\n",
       "    </tr>\n",
       "    <tr>\n",
       "      <th>1</th>\n",
       "      <td>-1</td>\n",
       "      <td>-1</td>\n",
       "      <td>-1</td>\n",
       "      <td>-1</td>\n",
       "      <td>-1</td>\n",
       "      <td>-1</td>\n",
       "      <td>0</td>\n",
       "      <td>0</td>\n",
       "      <td>0</td>\n",
       "      <td>0</td>\n",
       "      <td>...</td>\n",
       "      <td>NaN</td>\n",
       "      <td>NaT</td>\n",
       "      <td>NaN</td>\n",
       "      <td>NaN</td>\n",
       "      <td>NotSet</td>\n",
       "      <td>NaT</td>\n",
       "      <td>Not set</td>\n",
       "      <td>NaN</td>\n",
       "      <td>NaN</td>\n",
       "      <td>NaN</td>\n",
       "    </tr>\n",
       "    <tr>\n",
       "      <th>2</th>\n",
       "      <td>2228228</td>\n",
       "      <td>3</td>\n",
       "      <td>-2</td>\n",
       "      <td>-1</td>\n",
       "      <td>77</td>\n",
       "      <td>-1</td>\n",
       "      <td>20420</td>\n",
       "      <td>22</td>\n",
       "      <td>12827</td>\n",
       "      <td>16169</td>\n",
       "      <td>...</td>\n",
       "      <td>NaN</td>\n",
       "      <td>NaT</td>\n",
       "      <td>NaN</td>\n",
       "      <td>4919.0</td>\n",
       "      <td>NotSet</td>\n",
       "      <td>1985-07-01 00:00:00+00:00</td>\n",
       "      <td>Not set</td>\n",
       "      <td>NaN</td>\n",
       "      <td>NaN</td>\n",
       "      <td>NaN</td>\n",
       "    </tr>\n",
       "    <tr>\n",
       "      <th>3</th>\n",
       "      <td>5000172</td>\n",
       "      <td>1</td>\n",
       "      <td>-1</td>\n",
       "      <td>-1</td>\n",
       "      <td>90</td>\n",
       "      <td>-1</td>\n",
       "      <td>269</td>\n",
       "      <td>7</td>\n",
       "      <td>202</td>\n",
       "      <td>3133</td>\n",
       "      <td>...</td>\n",
       "      <td>286.0</td>\n",
       "      <td>NaT</td>\n",
       "      <td>NaN</td>\n",
       "      <td>103.0</td>\n",
       "      <td>NotSet</td>\n",
       "      <td>1961-07-01 00:00:00+00:00</td>\n",
       "      <td>Not set</td>\n",
       "      <td>NaN</td>\n",
       "      <td>NaN</td>\n",
       "      <td>NaN</td>\n",
       "    </tr>\n",
       "    <tr>\n",
       "      <th>4</th>\n",
       "      <td>5000201</td>\n",
       "      <td>1</td>\n",
       "      <td>-1</td>\n",
       "      <td>-1</td>\n",
       "      <td>90</td>\n",
       "      <td>-1</td>\n",
       "      <td>590</td>\n",
       "      <td>11</td>\n",
       "      <td>693</td>\n",
       "      <td>3133</td>\n",
       "      <td>...</td>\n",
       "      <td>NaN</td>\n",
       "      <td>NaT</td>\n",
       "      <td>NaN</td>\n",
       "      <td>226.0</td>\n",
       "      <td>NotSet</td>\n",
       "      <td>1961-07-01 00:00:00+00:00</td>\n",
       "      <td>Not set</td>\n",
       "      <td>NaN</td>\n",
       "      <td>NaN</td>\n",
       "      <td>NaN</td>\n",
       "    </tr>\n",
       "  </tbody>\n",
       "</table>\n",
       "<p>5 rows × 50 columns</p>\n",
       "</div>"
      ],
      "text/plain": [
       "       imo  vessel_type_id  built_for_trade_id  trade_id  vessel_class_id  \\\n",
       "0       -2              -2                  -2        -2               -2   \n",
       "1       -1              -1                  -1        -1               -1   \n",
       "2  2228228               3                  -2        -1               77   \n",
       "3  5000172               1                  -1        -1               90   \n",
       "4  5000201               1                  -1        -1               90   \n",
       "\n",
       "   commercial_operator_id  deadweight  breadth_extreme  gross_rated_tonnage  \\\n",
       "0                      -2           0                0                    0   \n",
       "1                      -1           0                0                    0   \n",
       "2                      -1       20420               22                12827   \n",
       "3                      -1         269                7                  202   \n",
       "4                      -1         590               11                  693   \n",
       "\n",
       "   reduced_gross_tonnage  ...  cubic_size  scrubbers_date  summer_tpc  \\\n",
       "0                      0  ...         NaN             NaT         NaN   \n",
       "1                      0  ...         NaN             NaT         NaN   \n",
       "2                  16169  ...         NaN             NaT         NaN   \n",
       "3                   3133  ...       286.0             NaT         NaN   \n",
       "4                   3133  ...         NaN             NaT         NaN   \n",
       "\n",
       "   lightship_tonnes  main_engine_manufacturer             delivery_date  \\\n",
       "0               NaN                    NotSet                       NaT   \n",
       "1               NaN                    NotSet                       NaT   \n",
       "2            4919.0                    NotSet 1985-07-01 00:00:00+00:00   \n",
       "3             103.0                    NotSet 1961-07-01 00:00:00+00:00   \n",
       "4             226.0                    NotSet 1961-07-01 00:00:00+00:00   \n",
       "\n",
       "   classification_register  number_of_holds  grain_capacity bale_capacity  \n",
       "0                  Not set              NaN             NaN           NaN  \n",
       "1                  Not set              NaN             NaN           NaN  \n",
       "2                  Not set              NaN             NaN           NaN  \n",
       "3                  Not set              NaN             NaN           NaN  \n",
       "4                  Not set              NaN             NaN           NaN  \n",
       "\n",
       "[5 rows x 50 columns]"
      ]
     },
     "execution_count": 7,
     "metadata": {},
     "output_type": "execute_result"
    }
   ],
   "source": [
    "connection = Connection(signal_ocean_api_key)\n",
    "vessels_api = VesselsAPI(connection)\n",
    "\n",
    "vessels = vessels_api.get_vessels()\n",
    "vessels_df = pd.DataFrame([v.__dict__ for v in vessels])\n",
    "\n",
    "vessels_df.head(5)"
   ]
  },
  {
   "cell_type": "markdown",
   "metadata": {},
   "source": [
    "#### Create SQLite database"
   ]
  },
  {
   "cell_type": "code",
   "execution_count": 8,
   "metadata": {},
   "outputs": [],
   "source": [
    "db_name = ('AllVessels.db')\n",
    "db_conn = sqlite3.connect(db_name)"
   ]
  },
  {
   "cell_type": "markdown",
   "metadata": {},
   "source": [
    "#### Create \"Vessels\" table and append data to it"
   ]
  },
  {
   "cell_type": "code",
   "execution_count": 9,
   "metadata": {},
   "outputs": [],
   "source": [
    "engine = create_engine(f'sqlite:///{os.path.join(os.path.abspath(os.getcwd()), db_name)}')\n",
    "\n",
    "vessels_df.to_sql('Vessels', engine, index=True, if_exists=\"replace\")\n",
    "\n",
    "db_conn.close()"
   ]
  },
  {
   "cell_type": "code",
   "execution_count": null,
   "metadata": {},
   "outputs": [],
   "source": []
  }
 ],
 "metadata": {
  "kernelspec": {
   "display_name": "Python 3",
   "language": "python",
   "name": "python3"
  },
  "language_info": {
   "codemirror_mode": {
    "name": "ipython",
    "version": 3
   },
   "file_extension": ".py",
   "mimetype": "text/x-python",
   "name": "python",
   "nbconvert_exporter": "python",
   "pygments_lexer": "ipython3",
   "version": "3.8.5"
  }
 },
 "nbformat": 4,
 "nbformat_minor": 4
}
