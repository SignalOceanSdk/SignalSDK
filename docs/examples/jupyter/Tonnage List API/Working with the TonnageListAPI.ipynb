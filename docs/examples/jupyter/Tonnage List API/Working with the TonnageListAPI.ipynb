{
 "cells": [
  {
   "cell_type": "markdown",
   "metadata": {
    "pycharm": {
     "name": "#%% md\n"
    }
   },
   "source": [
    "# Working with the `TonnageListAPI`"
   ]
  },
  {
   "cell_type": "markdown",
   "metadata": {
    "pycharm": {
     "name": "#%% md\n"
    }
   },
   "source": [
    "## Run this example in [Colab](https://colab.research.google.com/github/SignalOceanSdk/SignalSDK/blob/master/docs/examples/jupyter/Tonnage%20List%20API/Working%20with%20the%20TonnageListAPI.ipynb)."
   ]
  },
  {
   "cell_type": "markdown",
   "metadata": {
    "pycharm": {
     "name": "#%% md\n"
    }
   },
   "source": [
    "## Setup\n",
    "Install the Signal Ocean SDK:"
   ]
  },
  {
   "cell_type": "code",
   "execution_count": null,
   "metadata": {
    "pycharm": {
     "name": "#%%\n"
    }
   },
   "outputs": [],
   "source": [
    "!pip install signal-ocean"
   ]
  },
  {
   "cell_type": "markdown",
   "metadata": {
    "pycharm": {
     "name": "#%% md\n"
    }
   },
   "source": [
    "Set your subscription key, acquired here: [https://apis.signalocean.com/profile](https://apis.signalocean.com/profile)"
   ]
  },
  {
   "cell_type": "code",
   "execution_count": 1,
   "metadata": {
    "pycharm": {
     "name": "#%%\n"
    }
   },
   "outputs": [],
   "source": [
    "signal_ocean_api_key = \"\"  # replace with your subscription key"
   ]
  },
  {
   "cell_type": "markdown",
   "metadata": {
    "pycharm": {
     "name": "#%% md\n"
    }
   },
   "source": [
    "## Retrieving a historical tonnage list\n",
    "First, we need to create an instance of the `TonnageListAPI`:"
   ]
  },
  {
   "cell_type": "code",
   "execution_count": 2,
   "metadata": {
    "pycharm": {
     "name": "#%%\n"
    }
   },
   "outputs": [],
   "source": [
    "from signal_ocean import Connection\n",
    "from signal_ocean.tonnage_list import TonnageListAPI\n",
    "\n",
    "connection = Connection(signal_ocean_api_key)\n",
    "api = TonnageListAPI(connection)"
   ]
  },
  {
   "cell_type": "markdown",
   "metadata": {
    "pycharm": {
     "name": "#%% md\n"
    }
   },
   "source": [
    "\n",
    "Then, we need to determine the parameters of the **historical tonnage list** (**HTL**). In order to fetch an HTL, we will need to specify:\n",
    "- a loading port,\n",
    "- a vessel class,\n",
    "- a time frame.\n",
    "\n",
    "Ports and vessel classes can be retrieved through the `get_ports` and `get_vessel_classes` methods:"
   ]
  },
  {
   "cell_type": "code",
   "execution_count": 3,
   "metadata": {
    "pycharm": {
     "name": "#%%\n"
    }
   },
   "outputs": [
    {
     "data": {
      "text/plain": "(VesselClass(id=60, name='VLGCLpg'),\n VesselClass(id=61, name='MidsizeLpg'),\n VesselClass(id=62, name='HandyLpg'),\n VesselClass(id=63, name='SmallLpg'),\n VesselClass(id=69, name='VLOC'),\n VesselClass(id=70, name='Capesize'),\n VesselClass(id=72, name='PostPanamaxDry'),\n VesselClass(id=74, name='PanamaxDry'),\n VesselClass(id=75, name='Supramax'),\n VesselClass(id=76, name='Handymax'),\n VesselClass(id=77, name='Handysize'),\n VesselClass(id=78, name='ULCV'),\n VesselClass(id=79, name='NewPanamaxContainer'),\n VesselClass(id=80, name='PostPanamaxContainer'),\n VesselClass(id=81, name='PanamaxContainer'),\n VesselClass(id=82, name='FeedermaxContainer'),\n VesselClass(id=83, name='FeederContainer'),\n VesselClass(id=84, name='VLCC'),\n VesselClass(id=85, name='Suezmax'),\n VesselClass(id=86, name='Aframax'),\n VesselClass(id=87, name='PanamaxTanker'),\n VesselClass(id=88, name='MR2'),\n VesselClass(id=89, name='MR1'),\n VesselClass(id=90, name='Small'),\n VesselClass(id=91, name='LNGLng'),\n VesselClass(id=92, name='SmallDry'),\n VesselClass(id=94, name='ULCC'),\n VesselClass(id=95, name='SmallContainer'))"
     },
     "execution_count": 3,
     "metadata": {},
     "output_type": "execute_result"
    }
   ],
   "source": [
    "api.get_vessel_classes()\n"
   ]
  },
  {
   "cell_type": "markdown",
   "metadata": {
    "pycharm": {
     "name": "#%% md\n"
    }
   },
   "source": [
    "Ports can be looked up by their name using the `PortFilter`:"
   ]
  },
  {
   "cell_type": "code",
   "execution_count": 4,
   "metadata": {
    "pycharm": {
     "name": "#%%\n"
    }
   },
   "outputs": [
    {
     "data": {
      "text/plain": "(Port(id=3689, name='Rotterdam'),\n Port(id=6625, name='Rota'),\n Port(id=8920, name='Crotone'),\n Port(id=15617, name='Rarotonga'),\n Port(id=4048, name='Rotterdam Anchorage'),\n Port(id=4429, name='Rotterdam Lightering Zone'),\n Port(id=4890, name='Bp Rotterdam Refinery'),\n Port(id=4895, name='Rotterdam Refinery (Esso)'),\n Port(id=5750, name='Vopak Terminal Eurotank'),\n Port(id=5754, name='Eurotank Amsterdam'),\n Port(id=6183, name='Eurotank Terminal Amsterdam'),\n Port(id=6328, name='Petrotitan Xiao Hu Terminal'),\n Port(id=6745, name='Rotim Bulk Terminal'),\n Port(id=6861, name='Rota Dock'),\n Port(id=6862, name='Damen Shiprepair Rotterdam'),\n Port(id=6863, name='Damen Shiprepair Van Brink Rotterdam'),\n Port(id=6865, name='Frigocare Rotterdam'),\n Port(id=6867, name='Lbc Rotterdam'),\n Port(id=7058, name='Phoenix Petroterminals & Industrial Park'),\n Port(id=8476, name='Rotterdam Bulk Terminal'),\n Port(id=9376, name='Crotone Bulk Terminal'),\n Port(id=12788, name='Rotterdam World Gateway'),\n Port(id=12790, name='APM Terminals Rotterdam'),\n Port(id=12792, name='Rotterdam Container Terminal (Kramer Group)'),\n Port(id=12794, name='Rotterdam Shortsea Terminals'),\n Port(id=12953, name='Antwerp Euroterminal NV Container Terminal (Grimaldi Group)'),\n Port(id=15788, name='Rarotonga Tanker Terminal'),\n Port(id=16742, name='Rotterdam Ship Repair'),\n Port(id=17220, name='Gate LNG Terminal (LNG Terminal Rotterdam)'))"
     },
     "execution_count": 4,
     "metadata": {},
     "output_type": "execute_result"
    }
   ],
   "source": [
    "from signal_ocean.tonnage_list import PortFilter\n",
    "\n",
    "api.get_ports(PortFilter(name_like=\"rot\"))"
   ]
  },
  {
   "cell_type": "markdown",
   "metadata": {
    "pycharm": {
     "name": "#%% md\n"
    }
   },
   "source": [
    "And so can vessel classes with the use of the `VesselClassFilter`:"
   ]
  },
  {
   "cell_type": "code",
   "execution_count": 5,
   "metadata": {
    "pycharm": {
     "name": "#%%\n"
    }
   },
   "outputs": [
    {
     "data": {
      "text/plain": "(VesselClass(id=72, name='PostPanamaxDry'),\n VesselClass(id=74, name='PanamaxDry'),\n VesselClass(id=75, name='Supramax'),\n VesselClass(id=76, name='Handymax'),\n VesselClass(id=79, name='NewPanamaxContainer'),\n VesselClass(id=80, name='PostPanamaxContainer'),\n VesselClass(id=81, name='PanamaxContainer'),\n VesselClass(id=82, name='FeedermaxContainer'),\n VesselClass(id=85, name='Suezmax'),\n VesselClass(id=86, name='Aframax'),\n VesselClass(id=87, name='PanamaxTanker'))"
     },
     "execution_count": 5,
     "metadata": {},
     "output_type": "execute_result"
    }
   ],
   "source": [
    "from signal_ocean.tonnage_list import VesselClassFilter\n",
    "\n",
    "api.get_vessel_classes(VesselClassFilter(name_like=\"MAX\"))"
   ]
  },
  {
   "cell_type": "markdown",
   "metadata": {
    "pycharm": {
     "name": "#%% md\n"
    }
   },
   "source": [
    "Note that the search is case-insensitive and does not require specifying exact names.\n",
    "\n",
    "We want our HTL to contain Aframax vessels in Ceyhan, with a 6-day forward laycan end, for the last 90 days:"
   ]
  },
  {
   "cell_type": "code",
   "execution_count": 6,
   "metadata": {
    "pycharm": {
     "name": "#%%\n"
    }
   },
   "outputs": [],
   "source": [
    "from datetime import timedelta, date\n",
    "\n",
    "vessel_class_filter = VesselClassFilter(name_like=\"aframax\")\n",
    "vessel_class = api.get_vessel_classes(vessel_class_filter)[0]\n",
    "\n",
    "port_filter = PortFilter(name_like=\"ceyhan\")\n",
    "port = api.get_ports(port_filter)[0]\n",
    "\n",
    "laycan_end_in_days = 6\n",
    "today = date.today()\n",
    "start_date = today - timedelta(days=5)"
   ]
  },
  {
   "cell_type": "markdown",
   "metadata": {
    "pycharm": {
     "name": "#%% md\n"
    }
   },
   "source": [
    "With the parameters above, we can now request an HTL:"
   ]
  },
  {
   "cell_type": "code",
   "execution_count": 7,
   "metadata": {
    "pycharm": {
     "name": "#%%\n"
    }
   },
   "outputs": [],
   "source": [
    "from signal_ocean.tonnage_list import DateRange\n",
    "\n",
    "htl = api.get_historical_tonnage_list(\n",
    "    port, vessel_class, laycan_end_in_days, DateRange(start_date, today)\n",
    ")\n"
   ]
  },
  {
   "cell_type": "markdown",
   "metadata": {
    "pycharm": {
     "name": "#%% md\n"
    }
   },
   "source": [
    "The resulting historical tonnage list is a Python object that contains a collection of tonnage lists, each of which has a timestamp and a collection of vessel data. The tonnage lists are ordered by date in descending order:"
   ]
  },
  {
   "cell_type": "code",
   "execution_count": 8,
   "metadata": {
    "pycharm": {
     "name": "#%%\n"
    }
   },
   "outputs": [
    {
     "name": "stdout",
     "output_type": "stream",
     "text": [
      "Date: 2023-09-26 12:00:00+00:00\n",
      "Vessel count: 90\n",
      "Example vessel: Vessel(imo=9038842, name='Icaro', vessel_class='Aframax', ice_class=None, year_built=1993, deadweight=99450, length_overall=243.97, breadth_extreme=46, market_deployment='Program', push_type='Not Pushed', open_port_id=8805, open_port='Taizhou (Zhejiang)', open_date=datetime.datetime(2022, 10, 22, 10, 57, 49, 215000, tzinfo=datetime.timezone.utc), operational_status='Laden', commercial_operator_id=1219, commercial_operator='PDVSA', commercial_status='Available', eta=datetime.datetime(2022, 11, 18, 8, 0, tzinfo=datetime.timezone.utc), latest_ais=datetime.datetime(2022, 10, 19, 0, 23, 51, tzinfo=datetime.timezone.utc), subclass='Dirty', willing_to_switch_subclass=False, open_prediction_accuracy='Narrow Area', open_areas=(Area(id=24726, name='Central China', location_taxonomy='Narrow Area', taxonomy_id=4), Area(id=17, name='China / Taiwan', location_taxonomy='Wide Area', taxonomy_id=5), Area(id=55, name='China', location_taxonomy='Country', taxonomy_id=3)), availability_port_type='Prediction', availability_date_type='Prediction', fixture_type=None, current_vessel_sub_type_id=1, current_vessel_sub_type='Dirty', willing_to_switch_current_vessel_sub_type=False)\n"
     ]
    }
   ],
   "source": [
    "yesterdays_tl = htl[1]\n",
    "print(\"Date:\", yesterdays_tl.date)\n",
    "print(\"Vessel count:\", len(yesterdays_tl.vessels))\n",
    "print(\"Example vessel:\", yesterdays_tl.vessels[0])"
   ]
  },
  {
   "cell_type": "markdown",
   "metadata": {
    "pycharm": {
     "name": "#%% md\n"
    }
   },
   "source": [
    "The result can also be converted into a Pandas data frame:"
   ]
  },
  {
   "cell_type": "code",
   "execution_count": 9,
   "metadata": {
    "pycharm": {
     "name": "#%%\n"
    }
   },
   "outputs": [
    {
     "data": {
      "text/plain": "                                              name vessel_class ice_class  \\\ndate                      imo                                               \n2023-09-26 12:00:00+00:00 9038842            Icaro      Aframax       NaN   \n                          9543512       Paramaconi      Aframax       NaN   \n                          9199713          Bovista      Aframax       NaN   \n                          9133587            Pablo      Aframax       NaN   \n                          9187629          Artavil      Aframax       NaN   \n...                                            ...          ...       ...   \n2023-09-22 12:00:00+00:00 9304643            Chris      Aframax       NaN   \n                          9865116           Sparto      Aframax       NaN   \n                          9920497          Newbury      Aframax       NaN   \n                          9791298   Navig8 Promise      Aframax       NaN   \n                          9460576  Safeen Baroness      Aframax       NaN   \n\n                                   year_built  deadweight  length_overall  \\\ndate                      imo                                               \n2023-09-26 12:00:00+00:00 9038842        1993       99450          243.97   \n                          9543512        2011      104554          228.60   \n                          9199713        1999      106644          240.50   \n                          9133587        1997       96773          232.04   \n                          9187629        2000       99144          248.00   \n...                                       ...         ...             ...   \n2023-09-22 12:00:00+00:00 9304643        2004      105778          239.00   \n                          9865116        2020      115468          249.90   \n                          9920497        2022      112095          237.00   \n                          9791298        2019      109992          249.90   \n                          9460576        2011      105335          228.60   \n\n                                   breadth_extreme subclass  \\\ndate                      imo                                 \n2023-09-26 12:00:00+00:00 9038842               46    Dirty   \n                          9543512               42    Dirty   \n                          9199713               42    Dirty   \n                          9133587               42    Dirty   \n                          9187629               43    Dirty   \n...                                            ...      ...   \n2023-09-22 12:00:00+00:00 9304643               42    Dirty   \n                          9865116               44    Dirty   \n                          9920497               44    Dirty   \n                          9791298               44    Dirty   \n                          9460576               42    Dirty   \n\n                                  market_deployment_point_in_time  \\\ndate                      imo                                       \n2023-09-26 12:00:00+00:00 9038842                         Program   \n                          9543512                         Program   \n                          9199713                        Contract   \n                          9133587                        Contract   \n                          9187629                        Contract   \n...                                                           ...   \n2023-09-22 12:00:00+00:00 9304643                        Contract   \n                          9865116                           Relet   \n                          9920497                            Spot   \n                          9791298                            Spot   \n                          9460576                            Spot   \n\n                                  push_type_point_in_time  ...  \\\ndate                      imo                              ...   \n2023-09-26 12:00:00+00:00 9038842              Not Pushed  ...   \n                          9543512              Not Pushed  ...   \n                          9199713              Not Pushed  ...   \n                          9133587              Not Pushed  ...   \n                          9187629              Not Pushed  ...   \n...                                                   ...  ...   \n2023-09-22 12:00:00+00:00 9304643              Not Pushed  ...   \n                          9865116                  Pushed  ...   \n                          9920497                  Pushed  ...   \n                          9791298              Not Pushed  ...   \n                          9460576             Pushed POSS  ...   \n\n                                  open_prediction_accuracy_point_in_time  \\\ndate                      imo                                              \n2023-09-26 12:00:00+00:00 9038842                            Narrow Area   \n                          9543512                            Narrow Area   \n                          9199713                            Narrow Area   \n                          9133587                            Narrow Area   \n                          9187629                            Narrow Area   \n...                                                                  ...   \n2023-09-22 12:00:00+00:00 9304643                                   Port   \n                          9865116                            Narrow Area   \n                          9920497                                   Port   \n                          9791298                            Narrow Area   \n                          9460576                            Narrow Area   \n\n                                          open_country_point_in_time  \\\ndate                      imo                                          \n2023-09-26 12:00:00+00:00 9038842                              China   \n                          9543512  Venezuela, Bolivarian Republic of   \n                          9199713                            Namibia   \n                          9133587                          Singapore   \n                          9187629                          Singapore   \n...                                                              ...   \n2023-09-22 12:00:00+00:00 9304643                              Egypt   \n                          9865116                            Algeria   \n                          9920497                              Italy   \n                          9791298                              Spain   \n                          9460576                             Turkey   \n\n                                  open_narrow_area_point_in_time  \\\ndate                      imo                                      \n2023-09-26 12:00:00+00:00 9038842                  Central China   \n                          9543512                         Caribs   \n                          9199713                   South Africa   \n                          9133587           Singapore / Malaysia   \n                          9187629           Singapore / Malaysia   \n...                                                          ...   \n2023-09-22 12:00:00+00:00 9304643                        Red Sea   \n                          9865116             West Mediterranean   \n                          9920497          Central Mediterranean   \n                          9791298             West Mediterranean   \n                          9460576             East Mediterranean   \n\n                                  open_wide_area_point_in_time  \\\ndate                      imo                                    \n2023-09-26 12:00:00+00:00 9038842               China / Taiwan   \n                          9543512                       Caribs   \n                          9199713            South East Africa   \n                          9133587              South East Asia   \n                          9187629              South East Asia   \n...                                                        ...   \n2023-09-22 12:00:00+00:00 9304643                      Red Sea   \n                          9865116                Mediterranean   \n                          9920497                Mediterranean   \n                          9791298                Mediterranean   \n                          9460576                Mediterranean   \n\n                                  availability_port_type_point_in_time  \\\ndate                      imo                                            \n2023-09-26 12:00:00+00:00 9038842                           Prediction   \n                          9543512                               Source   \n                          9199713                               Source   \n                          9133587                               Source   \n                          9187629                           Prediction   \n...                                                                ...   \n2023-09-22 12:00:00+00:00 9304643                               Source   \n                          9865116                               Source   \n                          9920497                               Source   \n                          9791298                               Source   \n                          9460576                           Prediction   \n\n                                  availability_date_type_point_in_time  \\\ndate                      imo                                            \n2023-09-26 12:00:00+00:00 9038842                           Prediction   \n                          9543512                               Source   \n                          9199713                               Source   \n                          9133587                               Source   \n                          9187629                           Prediction   \n...                                                                ...   \n2023-09-22 12:00:00+00:00 9304643                           Prediction   \n                          9865116                               Source   \n                          9920497                           Prediction   \n                          9791298                               Source   \n                          9460576                           Prediction   \n\n                                  fixture_type_point_in_time  \\\ndate                      imo                                  \n2023-09-26 12:00:00+00:00 9038842                        NaN   \n                          9543512                        NaN   \n                          9199713                        NaN   \n                          9133587                        NaN   \n                          9187629                        NaN   \n...                                                      ...   \n2023-09-22 12:00:00+00:00 9304643                        NaN   \n                          9865116                        NaN   \n                          9920497                        NaN   \n                          9791298                    Scraped   \n                          9460576                        NaN   \n\n                                  current_vessel_sub_type_id_point_in_time  \\\ndate                      imo                                                \n2023-09-26 12:00:00+00:00 9038842                                        1   \n                          9543512                                        1   \n                          9199713                                        1   \n                          9133587                                        1   \n                          9187629                                        1   \n...                                                                    ...   \n2023-09-22 12:00:00+00:00 9304643                                        1   \n                          9865116                                        1   \n                          9920497                                        1   \n                          9791298                                        1   \n                          9460576                                        1   \n\n                                  current_vessel_sub_type_point_in_time  \\\ndate                      imo                                             \n2023-09-26 12:00:00+00:00 9038842                            Prediction   \n                          9543512                                Source   \n                          9199713                                Source   \n                          9133587                                Source   \n                          9187629                            Prediction   \n...                                                                 ...   \n2023-09-22 12:00:00+00:00 9304643                            Prediction   \n                          9865116                                Source   \n                          9920497                            Prediction   \n                          9791298                                Source   \n                          9460576                            Prediction   \n\n                                  willing_to_switch_current_vessel_sub_type_point_in_time  \ndate                      imo                                                              \n2023-09-26 12:00:00+00:00 9038842                                              False       \n                          9543512                                              False       \n                          9199713                                              False       \n                          9133587                                              False       \n                          9187629                                              False       \n...                                                                              ...       \n2023-09-22 12:00:00+00:00 9304643                                              False       \n                          9865116                                              False       \n                          9920497                                              False       \n                          9791298                                              False       \n                          9460576                                              False       \n\n[432 rows x 29 columns]",
      "text/html": "<div>\n<style scoped>\n    .dataframe tbody tr th:only-of-type {\n        vertical-align: middle;\n    }\n\n    .dataframe tbody tr th {\n        vertical-align: top;\n    }\n\n    .dataframe thead th {\n        text-align: right;\n    }\n</style>\n<table border=\"1\" class=\"dataframe\">\n  <thead>\n    <tr style=\"text-align: right;\">\n      <th></th>\n      <th></th>\n      <th>name</th>\n      <th>vessel_class</th>\n      <th>ice_class</th>\n      <th>year_built</th>\n      <th>deadweight</th>\n      <th>length_overall</th>\n      <th>breadth_extreme</th>\n      <th>subclass</th>\n      <th>market_deployment_point_in_time</th>\n      <th>push_type_point_in_time</th>\n      <th>...</th>\n      <th>open_prediction_accuracy_point_in_time</th>\n      <th>open_country_point_in_time</th>\n      <th>open_narrow_area_point_in_time</th>\n      <th>open_wide_area_point_in_time</th>\n      <th>availability_port_type_point_in_time</th>\n      <th>availability_date_type_point_in_time</th>\n      <th>fixture_type_point_in_time</th>\n      <th>current_vessel_sub_type_id_point_in_time</th>\n      <th>current_vessel_sub_type_point_in_time</th>\n      <th>willing_to_switch_current_vessel_sub_type_point_in_time</th>\n    </tr>\n    <tr>\n      <th>date</th>\n      <th>imo</th>\n      <th></th>\n      <th></th>\n      <th></th>\n      <th></th>\n      <th></th>\n      <th></th>\n      <th></th>\n      <th></th>\n      <th></th>\n      <th></th>\n      <th></th>\n      <th></th>\n      <th></th>\n      <th></th>\n      <th></th>\n      <th></th>\n      <th></th>\n      <th></th>\n      <th></th>\n      <th></th>\n      <th></th>\n    </tr>\n  </thead>\n  <tbody>\n    <tr>\n      <th rowspan=\"5\" valign=\"top\">2023-09-26 12:00:00+00:00</th>\n      <th>9038842</th>\n      <td>Icaro</td>\n      <td>Aframax</td>\n      <td>NaN</td>\n      <td>1993</td>\n      <td>99450</td>\n      <td>243.97</td>\n      <td>46</td>\n      <td>Dirty</td>\n      <td>Program</td>\n      <td>Not Pushed</td>\n      <td>...</td>\n      <td>Narrow Area</td>\n      <td>China</td>\n      <td>Central China</td>\n      <td>China / Taiwan</td>\n      <td>Prediction</td>\n      <td>Prediction</td>\n      <td>NaN</td>\n      <td>1</td>\n      <td>Prediction</td>\n      <td>False</td>\n    </tr>\n    <tr>\n      <th>9543512</th>\n      <td>Paramaconi</td>\n      <td>Aframax</td>\n      <td>NaN</td>\n      <td>2011</td>\n      <td>104554</td>\n      <td>228.60</td>\n      <td>42</td>\n      <td>Dirty</td>\n      <td>Program</td>\n      <td>Not Pushed</td>\n      <td>...</td>\n      <td>Narrow Area</td>\n      <td>Venezuela, Bolivarian Republic of</td>\n      <td>Caribs</td>\n      <td>Caribs</td>\n      <td>Source</td>\n      <td>Source</td>\n      <td>NaN</td>\n      <td>1</td>\n      <td>Source</td>\n      <td>False</td>\n    </tr>\n    <tr>\n      <th>9199713</th>\n      <td>Bovista</td>\n      <td>Aframax</td>\n      <td>NaN</td>\n      <td>1999</td>\n      <td>106644</td>\n      <td>240.50</td>\n      <td>42</td>\n      <td>Dirty</td>\n      <td>Contract</td>\n      <td>Not Pushed</td>\n      <td>...</td>\n      <td>Narrow Area</td>\n      <td>Namibia</td>\n      <td>South Africa</td>\n      <td>South East Africa</td>\n      <td>Source</td>\n      <td>Source</td>\n      <td>NaN</td>\n      <td>1</td>\n      <td>Source</td>\n      <td>False</td>\n    </tr>\n    <tr>\n      <th>9133587</th>\n      <td>Pablo</td>\n      <td>Aframax</td>\n      <td>NaN</td>\n      <td>1997</td>\n      <td>96773</td>\n      <td>232.04</td>\n      <td>42</td>\n      <td>Dirty</td>\n      <td>Contract</td>\n      <td>Not Pushed</td>\n      <td>...</td>\n      <td>Narrow Area</td>\n      <td>Singapore</td>\n      <td>Singapore / Malaysia</td>\n      <td>South East Asia</td>\n      <td>Source</td>\n      <td>Source</td>\n      <td>NaN</td>\n      <td>1</td>\n      <td>Source</td>\n      <td>False</td>\n    </tr>\n    <tr>\n      <th>9187629</th>\n      <td>Artavil</td>\n      <td>Aframax</td>\n      <td>NaN</td>\n      <td>2000</td>\n      <td>99144</td>\n      <td>248.00</td>\n      <td>43</td>\n      <td>Dirty</td>\n      <td>Contract</td>\n      <td>Not Pushed</td>\n      <td>...</td>\n      <td>Narrow Area</td>\n      <td>Singapore</td>\n      <td>Singapore / Malaysia</td>\n      <td>South East Asia</td>\n      <td>Prediction</td>\n      <td>Prediction</td>\n      <td>NaN</td>\n      <td>1</td>\n      <td>Prediction</td>\n      <td>False</td>\n    </tr>\n    <tr>\n      <th>...</th>\n      <th>...</th>\n      <td>...</td>\n      <td>...</td>\n      <td>...</td>\n      <td>...</td>\n      <td>...</td>\n      <td>...</td>\n      <td>...</td>\n      <td>...</td>\n      <td>...</td>\n      <td>...</td>\n      <td>...</td>\n      <td>...</td>\n      <td>...</td>\n      <td>...</td>\n      <td>...</td>\n      <td>...</td>\n      <td>...</td>\n      <td>...</td>\n      <td>...</td>\n      <td>...</td>\n      <td>...</td>\n    </tr>\n    <tr>\n      <th rowspan=\"5\" valign=\"top\">2023-09-22 12:00:00+00:00</th>\n      <th>9304643</th>\n      <td>Chris</td>\n      <td>Aframax</td>\n      <td>NaN</td>\n      <td>2004</td>\n      <td>105778</td>\n      <td>239.00</td>\n      <td>42</td>\n      <td>Dirty</td>\n      <td>Contract</td>\n      <td>Not Pushed</td>\n      <td>...</td>\n      <td>Port</td>\n      <td>Egypt</td>\n      <td>Red Sea</td>\n      <td>Red Sea</td>\n      <td>Source</td>\n      <td>Prediction</td>\n      <td>NaN</td>\n      <td>1</td>\n      <td>Prediction</td>\n      <td>False</td>\n    </tr>\n    <tr>\n      <th>9865116</th>\n      <td>Sparto</td>\n      <td>Aframax</td>\n      <td>NaN</td>\n      <td>2020</td>\n      <td>115468</td>\n      <td>249.90</td>\n      <td>44</td>\n      <td>Dirty</td>\n      <td>Relet</td>\n      <td>Pushed</td>\n      <td>...</td>\n      <td>Narrow Area</td>\n      <td>Algeria</td>\n      <td>West Mediterranean</td>\n      <td>Mediterranean</td>\n      <td>Source</td>\n      <td>Source</td>\n      <td>NaN</td>\n      <td>1</td>\n      <td>Source</td>\n      <td>False</td>\n    </tr>\n    <tr>\n      <th>9920497</th>\n      <td>Newbury</td>\n      <td>Aframax</td>\n      <td>NaN</td>\n      <td>2022</td>\n      <td>112095</td>\n      <td>237.00</td>\n      <td>44</td>\n      <td>Dirty</td>\n      <td>Spot</td>\n      <td>Pushed</td>\n      <td>...</td>\n      <td>Port</td>\n      <td>Italy</td>\n      <td>Central Mediterranean</td>\n      <td>Mediterranean</td>\n      <td>Source</td>\n      <td>Prediction</td>\n      <td>NaN</td>\n      <td>1</td>\n      <td>Prediction</td>\n      <td>False</td>\n    </tr>\n    <tr>\n      <th>9791298</th>\n      <td>Navig8 Promise</td>\n      <td>Aframax</td>\n      <td>NaN</td>\n      <td>2019</td>\n      <td>109992</td>\n      <td>249.90</td>\n      <td>44</td>\n      <td>Dirty</td>\n      <td>Spot</td>\n      <td>Not Pushed</td>\n      <td>...</td>\n      <td>Narrow Area</td>\n      <td>Spain</td>\n      <td>West Mediterranean</td>\n      <td>Mediterranean</td>\n      <td>Source</td>\n      <td>Source</td>\n      <td>Scraped</td>\n      <td>1</td>\n      <td>Source</td>\n      <td>False</td>\n    </tr>\n    <tr>\n      <th>9460576</th>\n      <td>Safeen Baroness</td>\n      <td>Aframax</td>\n      <td>NaN</td>\n      <td>2011</td>\n      <td>105335</td>\n      <td>228.60</td>\n      <td>42</td>\n      <td>Dirty</td>\n      <td>Spot</td>\n      <td>Pushed POSS</td>\n      <td>...</td>\n      <td>Narrow Area</td>\n      <td>Turkey</td>\n      <td>East Mediterranean</td>\n      <td>Mediterranean</td>\n      <td>Prediction</td>\n      <td>Prediction</td>\n      <td>NaN</td>\n      <td>1</td>\n      <td>Prediction</td>\n      <td>False</td>\n    </tr>\n  </tbody>\n</table>\n<p>432 rows × 29 columns</p>\n</div>"
     },
     "execution_count": 9,
     "metadata": {},
     "output_type": "execute_result"
    }
   ],
   "source": [
    "data_frame = htl.to_data_frame()\n",
    "data_frame"
   ]
  },
  {
   "cell_type": "markdown",
   "metadata": {
    "pycharm": {
     "name": "#%% md\n"
    }
   },
   "source": [
    "### Example 1 - Plotting a supply trend\n",
    "The data frame format makes it very easy to generate a supply trend plot.\n",
    "\n",
    "We'll generate a supply trend from the beginning of the year, but we'll also filter the vessel list by looking for vessels that:\n",
    "- are pushed,\n",
    "- have a market deployment type of \"Relet\" or \"Spot\",\n",
    "- their commercial status is available, cancelled or failed,\n",
    "- are crude oil tankers (their vessel subclass is \"Dirty\"),\n",
    "- their AIS information is no older than 5 days.\n",
    "\n",
    "Filtering can be achieved by creating an instance of a `VesselFilter` and passing it to the `get_historical_tonnage_list` method. A `VesselFilter` meeting the above criteria will look as follows:"
   ]
  },
  {
   "cell_type": "code",
   "execution_count": 10,
   "metadata": {
    "pycharm": {
     "name": "#%%\n"
    }
   },
   "outputs": [],
   "source": [
    "from signal_ocean.tonnage_list import (\n",
    "    VesselFilter,\n",
    "    PushType,\n",
    "    MarketDeployment,\n",
    "    CommercialStatus,\n",
    "    VesselSubclass,\n",
    ")\n",
    "\n",
    "vessel_filter = VesselFilter(\n",
    "    push_types=[PushType.PUSHED],\n",
    "    market_deployments=[MarketDeployment.RELET, MarketDeployment.SPOT],\n",
    "    commercial_statuses=[\n",
    "        CommercialStatus.AVAILABLE,\n",
    "        CommercialStatus.CANCELLED,\n",
    "        CommercialStatus.FAILED,\n",
    "    ],\n",
    "    vessel_subclass=VesselSubclass.DIRTY,\n",
    "    latest_ais_since=5,\n",
    ")\n"
   ]
  },
  {
   "cell_type": "markdown",
   "metadata": {
    "pycharm": {
     "name": "#%% md\n"
    }
   },
   "source": [
    "Note the usage of the `PushType`, `MarketDeployment`, `CommercialStatus`, and `VesselSubclass`. These are enum-like classes that contain constants for all the possible values for a given `VesselFilter` parameter. To list the available values for any of the classes, just invoke `list()` on the class:"
   ]
  },
  {
   "cell_type": "code",
   "execution_count": 11,
   "metadata": {
    "pycharm": {
     "name": "#%%\n"
    }
   },
   "outputs": [
    {
     "data": {
      "text/plain": "['On Subs', 'Failed', 'Cancelled', 'Available', 'Poss Fixed']"
     },
     "execution_count": 11,
     "metadata": {},
     "output_type": "execute_result"
    }
   ],
   "source": [
    "list(CommercialStatus)"
   ]
  },
  {
   "cell_type": "markdown",
   "metadata": {
    "pycharm": {
     "name": "#%% md\n"
    }
   },
   "source": [
    "You can use these values directly or use a corresponding class member:"
   ]
  },
  {
   "cell_type": "code",
   "execution_count": 12,
   "metadata": {
    "pycharm": {
     "name": "#%%\n"
    }
   },
   "outputs": [
    {
     "data": {
      "text/plain": "True"
     },
     "execution_count": 12,
     "metadata": {},
     "output_type": "execute_result"
    }
   ],
   "source": [
    "CommercialStatus.ON_SUBS == 'On Subs'"
   ]
  },
  {
   "cell_type": "markdown",
   "metadata": {
    "pycharm": {
     "name": "#%% md\n"
    }
   },
   "source": [
    "Let's get the HTL for our filter:"
   ]
  },
  {
   "cell_type": "code",
   "execution_count": 43,
   "metadata": {
    "pycharm": {
     "name": "#%%\n"
    }
   },
   "outputs": [
    {
     "data": {
      "text/plain": "                                                 name vessel_class ice_class  \\\ndate                      imo                                                  \n2023-09-26 12:00:00+00:00 9437684           Chrysalis      Aframax       NaN   \n                          9592264      Nissos Serifos      Aframax       NaN   \n                          9386536  Stealth Haralambos      Aframax       NaN   \n                          9231468               Giuse      Aframax       NaN   \n                          9592305        Nissos Delos      Aframax       NaN   \n...                                               ...          ...       ...   \n2023-09-22 12:00:00+00:00 9309423      Minerva Nounou      Aframax        1A   \n                          9386536  Stealth Haralambos      Aframax       NaN   \n                          9388364             Merbabu      Aframax       NaN   \n                          9865116              Sparto      Aframax       NaN   \n                          9920497             Newbury      Aframax       NaN   \n\n                                   year_built  deadweight  length_overall  \\\ndate                      imo                                               \n2023-09-26 12:00:00+00:00 9437684        2010      115867          248.96   \n                          9592264        2012      115689          248.97   \n                          9386536        2009      113021          249.96   \n                          9231468        2002      109390          244.60   \n                          9592305        2012      115691          248.97   \n...                                       ...         ...             ...   \n2023-09-22 12:00:00+00:00 9309423        2006      114850          253.59   \n                          9386536        2009      113021          249.96   \n                          9388364        2008      105746          243.97   \n                          9865116        2020      115468          249.90   \n                          9920497        2022      112095          237.00   \n\n                                   breadth_extreme subclass  \\\ndate                      imo                                 \n2023-09-26 12:00:00+00:00 9437684               44    Dirty   \n                          9592264               44    Dirty   \n                          9386536               44    Dirty   \n                          9231468               42    Dirty   \n                          9592305               44    Dirty   \n...                                            ...      ...   \n2023-09-22 12:00:00+00:00 9309423               44    Dirty   \n                          9386536               44    Dirty   \n                          9388364               42    Dirty   \n                          9865116               44    Dirty   \n                          9920497               44    Dirty   \n\n                                  market_deployment_point_in_time  \\\ndate                      imo                                       \n2023-09-26 12:00:00+00:00 9437684                            Spot   \n                          9592264                            Spot   \n                          9386536                            Spot   \n                          9231468                           Relet   \n                          9592305                            Spot   \n...                                                           ...   \n2023-09-22 12:00:00+00:00 9309423                            Spot   \n                          9386536                            Spot   \n                          9388364                            Spot   \n                          9865116                           Relet   \n                          9920497                            Spot   \n\n                                  push_type_point_in_time  ...  \\\ndate                      imo                              ...   \n2023-09-26 12:00:00+00:00 9437684                  Pushed  ...   \n                          9592264                  Pushed  ...   \n                          9386536                  Pushed  ...   \n                          9231468                  Pushed  ...   \n                          9592305                  Pushed  ...   \n...                                                   ...  ...   \n2023-09-22 12:00:00+00:00 9309423                  Pushed  ...   \n                          9386536                  Pushed  ...   \n                          9388364                  Pushed  ...   \n                          9865116                  Pushed  ...   \n                          9920497                  Pushed  ...   \n\n                                  open_prediction_accuracy_point_in_time  \\\ndate                      imo                                              \n2023-09-26 12:00:00+00:00 9437684                            Narrow Area   \n                          9592264                            Narrow Area   \n                          9386536                            Narrow Area   \n                          9231468                            Narrow Area   \n                          9592305                            Narrow Area   \n...                                                                  ...   \n2023-09-22 12:00:00+00:00 9309423                            Narrow Area   \n                          9386536                            Narrow Area   \n                          9388364                                   Port   \n                          9865116                            Narrow Area   \n                          9920497                                   Port   \n\n                                  open_country_point_in_time  \\\ndate                      imo                                  \n2023-09-26 12:00:00+00:00 9437684                      Egypt   \n                          9592264                      Egypt   \n                          9386536                      Egypt   \n                          9231468                     Greece   \n                          9592305                      Egypt   \n...                                                      ...   \n2023-09-22 12:00:00+00:00 9309423                     Turkey   \n                          9386536                      Sudan   \n                          9388364               Saudi Arabia   \n                          9865116                    Algeria   \n                          9920497                      Italy   \n\n                                  open_narrow_area_point_in_time  \\\ndate                      imo                                      \n2023-09-26 12:00:00+00:00 9437684             East Mediterranean   \n                          9592264             East Mediterranean   \n                          9386536             East Mediterranean   \n                          9231468             East Mediterranean   \n                          9592305                        Red Sea   \n...                                                          ...   \n2023-09-22 12:00:00+00:00 9309423                 Sea of Marmara   \n                          9386536                        Red Sea   \n                          9388364                        Red Sea   \n                          9865116             West Mediterranean   \n                          9920497          Central Mediterranean   \n\n                                  open_wide_area_point_in_time  \\\ndate                      imo                                    \n2023-09-26 12:00:00+00:00 9437684                Mediterranean   \n                          9592264                Mediterranean   \n                          9386536                Mediterranean   \n                          9231468                Mediterranean   \n                          9592305                      Red Sea   \n...                                                        ...   \n2023-09-22 12:00:00+00:00 9309423   Black Sea / Sea Of Marmara   \n                          9386536                      Red Sea   \n                          9388364                      Red Sea   \n                          9865116                Mediterranean   \n                          9920497                Mediterranean   \n\n                                  availability_port_type_point_in_time  \\\ndate                      imo                                            \n2023-09-26 12:00:00+00:00 9437684                               Source   \n                          9592264                               Source   \n                          9386536                               Source   \n                          9231468                               Source   \n                          9592305                               Source   \n...                                                                ...   \n2023-09-22 12:00:00+00:00 9309423                               Source   \n                          9386536                               Source   \n                          9388364                               Source   \n                          9865116                               Source   \n                          9920497                               Source   \n\n                                  availability_date_type_point_in_time  \\\ndate                      imo                                            \n2023-09-26 12:00:00+00:00 9437684                               Source   \n                          9592264                               Source   \n                          9386536                               Source   \n                          9231468                               Source   \n                          9592305                               Source   \n...                                                                ...   \n2023-09-22 12:00:00+00:00 9309423                               Source   \n                          9386536                               Source   \n                          9388364                           Prediction   \n                          9865116                               Source   \n                          9920497                           Prediction   \n\n                                  fixture_type_point_in_time  \\\ndate                      imo                                  \n2023-09-26 12:00:00+00:00 9437684                        NaN   \n                          9592264                        NaN   \n                          9386536                        NaN   \n                          9231468                        NaN   \n                          9592305                        NaN   \n...                                                      ...   \n2023-09-22 12:00:00+00:00 9309423                        NaN   \n                          9386536                        NaN   \n                          9388364                        NaN   \n                          9865116                        NaN   \n                          9920497                        NaN   \n\n                                  current_vessel_sub_type_id_point_in_time  \\\ndate                      imo                                                \n2023-09-26 12:00:00+00:00 9437684                                        1   \n                          9592264                                        1   \n                          9386536                                        1   \n                          9231468                                        1   \n                          9592305                                        1   \n...                                                                    ...   \n2023-09-22 12:00:00+00:00 9309423                                        1   \n                          9386536                                        1   \n                          9388364                                        1   \n                          9865116                                        1   \n                          9920497                                        1   \n\n                                  current_vessel_sub_type_point_in_time  \\\ndate                      imo                                             \n2023-09-26 12:00:00+00:00 9437684                                Source   \n                          9592264                                Source   \n                          9386536                                Source   \n                          9231468                                Source   \n                          9592305                                Source   \n...                                                                 ...   \n2023-09-22 12:00:00+00:00 9309423                                Source   \n                          9386536                                Source   \n                          9388364                            Prediction   \n                          9865116                                Source   \n                          9920497                            Prediction   \n\n                                  willing_to_switch_current_vessel_sub_type_point_in_time  \ndate                      imo                                                              \n2023-09-26 12:00:00+00:00 9437684                                              False       \n                          9592264                                              False       \n                          9386536                                              False       \n                          9231468                                              False       \n                          9592305                                              False       \n...                                                                              ...       \n2023-09-22 12:00:00+00:00 9309423                                              False       \n                          9386536                                              False       \n                          9388364                                              False       \n                          9865116                                              False       \n                          9920497                                              False       \n\n[63 rows x 29 columns]",
      "text/html": "<div>\n<style scoped>\n    .dataframe tbody tr th:only-of-type {\n        vertical-align: middle;\n    }\n\n    .dataframe tbody tr th {\n        vertical-align: top;\n    }\n\n    .dataframe thead th {\n        text-align: right;\n    }\n</style>\n<table border=\"1\" class=\"dataframe\">\n  <thead>\n    <tr style=\"text-align: right;\">\n      <th></th>\n      <th></th>\n      <th>name</th>\n      <th>vessel_class</th>\n      <th>ice_class</th>\n      <th>year_built</th>\n      <th>deadweight</th>\n      <th>length_overall</th>\n      <th>breadth_extreme</th>\n      <th>subclass</th>\n      <th>market_deployment_point_in_time</th>\n      <th>push_type_point_in_time</th>\n      <th>...</th>\n      <th>open_prediction_accuracy_point_in_time</th>\n      <th>open_country_point_in_time</th>\n      <th>open_narrow_area_point_in_time</th>\n      <th>open_wide_area_point_in_time</th>\n      <th>availability_port_type_point_in_time</th>\n      <th>availability_date_type_point_in_time</th>\n      <th>fixture_type_point_in_time</th>\n      <th>current_vessel_sub_type_id_point_in_time</th>\n      <th>current_vessel_sub_type_point_in_time</th>\n      <th>willing_to_switch_current_vessel_sub_type_point_in_time</th>\n    </tr>\n    <tr>\n      <th>date</th>\n      <th>imo</th>\n      <th></th>\n      <th></th>\n      <th></th>\n      <th></th>\n      <th></th>\n      <th></th>\n      <th></th>\n      <th></th>\n      <th></th>\n      <th></th>\n      <th></th>\n      <th></th>\n      <th></th>\n      <th></th>\n      <th></th>\n      <th></th>\n      <th></th>\n      <th></th>\n      <th></th>\n      <th></th>\n      <th></th>\n    </tr>\n  </thead>\n  <tbody>\n    <tr>\n      <th rowspan=\"5\" valign=\"top\">2023-09-26 12:00:00+00:00</th>\n      <th>9437684</th>\n      <td>Chrysalis</td>\n      <td>Aframax</td>\n      <td>NaN</td>\n      <td>2010</td>\n      <td>115867</td>\n      <td>248.96</td>\n      <td>44</td>\n      <td>Dirty</td>\n      <td>Spot</td>\n      <td>Pushed</td>\n      <td>...</td>\n      <td>Narrow Area</td>\n      <td>Egypt</td>\n      <td>East Mediterranean</td>\n      <td>Mediterranean</td>\n      <td>Source</td>\n      <td>Source</td>\n      <td>NaN</td>\n      <td>1</td>\n      <td>Source</td>\n      <td>False</td>\n    </tr>\n    <tr>\n      <th>9592264</th>\n      <td>Nissos Serifos</td>\n      <td>Aframax</td>\n      <td>NaN</td>\n      <td>2012</td>\n      <td>115689</td>\n      <td>248.97</td>\n      <td>44</td>\n      <td>Dirty</td>\n      <td>Spot</td>\n      <td>Pushed</td>\n      <td>...</td>\n      <td>Narrow Area</td>\n      <td>Egypt</td>\n      <td>East Mediterranean</td>\n      <td>Mediterranean</td>\n      <td>Source</td>\n      <td>Source</td>\n      <td>NaN</td>\n      <td>1</td>\n      <td>Source</td>\n      <td>False</td>\n    </tr>\n    <tr>\n      <th>9386536</th>\n      <td>Stealth Haralambos</td>\n      <td>Aframax</td>\n      <td>NaN</td>\n      <td>2009</td>\n      <td>113021</td>\n      <td>249.96</td>\n      <td>44</td>\n      <td>Dirty</td>\n      <td>Spot</td>\n      <td>Pushed</td>\n      <td>...</td>\n      <td>Narrow Area</td>\n      <td>Egypt</td>\n      <td>East Mediterranean</td>\n      <td>Mediterranean</td>\n      <td>Source</td>\n      <td>Source</td>\n      <td>NaN</td>\n      <td>1</td>\n      <td>Source</td>\n      <td>False</td>\n    </tr>\n    <tr>\n      <th>9231468</th>\n      <td>Giuse</td>\n      <td>Aframax</td>\n      <td>NaN</td>\n      <td>2002</td>\n      <td>109390</td>\n      <td>244.60</td>\n      <td>42</td>\n      <td>Dirty</td>\n      <td>Relet</td>\n      <td>Pushed</td>\n      <td>...</td>\n      <td>Narrow Area</td>\n      <td>Greece</td>\n      <td>East Mediterranean</td>\n      <td>Mediterranean</td>\n      <td>Source</td>\n      <td>Source</td>\n      <td>NaN</td>\n      <td>1</td>\n      <td>Source</td>\n      <td>False</td>\n    </tr>\n    <tr>\n      <th>9592305</th>\n      <td>Nissos Delos</td>\n      <td>Aframax</td>\n      <td>NaN</td>\n      <td>2012</td>\n      <td>115691</td>\n      <td>248.97</td>\n      <td>44</td>\n      <td>Dirty</td>\n      <td>Spot</td>\n      <td>Pushed</td>\n      <td>...</td>\n      <td>Narrow Area</td>\n      <td>Egypt</td>\n      <td>Red Sea</td>\n      <td>Red Sea</td>\n      <td>Source</td>\n      <td>Source</td>\n      <td>NaN</td>\n      <td>1</td>\n      <td>Source</td>\n      <td>False</td>\n    </tr>\n    <tr>\n      <th>...</th>\n      <th>...</th>\n      <td>...</td>\n      <td>...</td>\n      <td>...</td>\n      <td>...</td>\n      <td>...</td>\n      <td>...</td>\n      <td>...</td>\n      <td>...</td>\n      <td>...</td>\n      <td>...</td>\n      <td>...</td>\n      <td>...</td>\n      <td>...</td>\n      <td>...</td>\n      <td>...</td>\n      <td>...</td>\n      <td>...</td>\n      <td>...</td>\n      <td>...</td>\n      <td>...</td>\n      <td>...</td>\n    </tr>\n    <tr>\n      <th rowspan=\"5\" valign=\"top\">2023-09-22 12:00:00+00:00</th>\n      <th>9309423</th>\n      <td>Minerva Nounou</td>\n      <td>Aframax</td>\n      <td>1A</td>\n      <td>2006</td>\n      <td>114850</td>\n      <td>253.59</td>\n      <td>44</td>\n      <td>Dirty</td>\n      <td>Spot</td>\n      <td>Pushed</td>\n      <td>...</td>\n      <td>Narrow Area</td>\n      <td>Turkey</td>\n      <td>Sea of Marmara</td>\n      <td>Black Sea / Sea Of Marmara</td>\n      <td>Source</td>\n      <td>Source</td>\n      <td>NaN</td>\n      <td>1</td>\n      <td>Source</td>\n      <td>False</td>\n    </tr>\n    <tr>\n      <th>9386536</th>\n      <td>Stealth Haralambos</td>\n      <td>Aframax</td>\n      <td>NaN</td>\n      <td>2009</td>\n      <td>113021</td>\n      <td>249.96</td>\n      <td>44</td>\n      <td>Dirty</td>\n      <td>Spot</td>\n      <td>Pushed</td>\n      <td>...</td>\n      <td>Narrow Area</td>\n      <td>Sudan</td>\n      <td>Red Sea</td>\n      <td>Red Sea</td>\n      <td>Source</td>\n      <td>Source</td>\n      <td>NaN</td>\n      <td>1</td>\n      <td>Source</td>\n      <td>False</td>\n    </tr>\n    <tr>\n      <th>9388364</th>\n      <td>Merbabu</td>\n      <td>Aframax</td>\n      <td>NaN</td>\n      <td>2008</td>\n      <td>105746</td>\n      <td>243.97</td>\n      <td>42</td>\n      <td>Dirty</td>\n      <td>Spot</td>\n      <td>Pushed</td>\n      <td>...</td>\n      <td>Port</td>\n      <td>Saudi Arabia</td>\n      <td>Red Sea</td>\n      <td>Red Sea</td>\n      <td>Source</td>\n      <td>Prediction</td>\n      <td>NaN</td>\n      <td>1</td>\n      <td>Prediction</td>\n      <td>False</td>\n    </tr>\n    <tr>\n      <th>9865116</th>\n      <td>Sparto</td>\n      <td>Aframax</td>\n      <td>NaN</td>\n      <td>2020</td>\n      <td>115468</td>\n      <td>249.90</td>\n      <td>44</td>\n      <td>Dirty</td>\n      <td>Relet</td>\n      <td>Pushed</td>\n      <td>...</td>\n      <td>Narrow Area</td>\n      <td>Algeria</td>\n      <td>West Mediterranean</td>\n      <td>Mediterranean</td>\n      <td>Source</td>\n      <td>Source</td>\n      <td>NaN</td>\n      <td>1</td>\n      <td>Source</td>\n      <td>False</td>\n    </tr>\n    <tr>\n      <th>9920497</th>\n      <td>Newbury</td>\n      <td>Aframax</td>\n      <td>NaN</td>\n      <td>2022</td>\n      <td>112095</td>\n      <td>237.00</td>\n      <td>44</td>\n      <td>Dirty</td>\n      <td>Spot</td>\n      <td>Pushed</td>\n      <td>...</td>\n      <td>Port</td>\n      <td>Italy</td>\n      <td>Central Mediterranean</td>\n      <td>Mediterranean</td>\n      <td>Source</td>\n      <td>Prediction</td>\n      <td>NaN</td>\n      <td>1</td>\n      <td>Prediction</td>\n      <td>False</td>\n    </tr>\n  </tbody>\n</table>\n<p>63 rows × 29 columns</p>\n</div>"
     },
     "execution_count": 43,
     "metadata": {},
     "output_type": "execute_result"
    }
   ],
   "source": [
    "beginning_of_year = date(today.year, 1, 1)\n",
    "\n",
    "htl_for_supply_trend = api.get_historical_tonnage_list(\n",
    "    port,\n",
    "    vessel_class,\n",
    "    laycan_end_in_days,\n",
    "    DateRange(start_date, today),\n",
    "    vessel_filter=vessel_filter,\n",
    ")\n",
    "\n",
    "supply_trend_data_frame = htl_for_supply_trend.to_data_frame()\n",
    "supply_trend_data_frame\n"
   ]
  },
  {
   "cell_type": "markdown",
   "metadata": {
    "pycharm": {
     "name": "#%% md\n"
    }
   },
   "source": [
    "Now, we can generate the plot:"
   ]
  },
  {
   "cell_type": "code",
   "execution_count": 44,
   "metadata": {
    "pycharm": {
     "name": "#%%\n"
    }
   },
   "outputs": [
    {
     "data": {
      "text/plain": "<AxesSubplot: title={'center': 'Ceyhan Aframax Laycan 6 days'}, xlabel='date', ylabel='Vessel count'>"
     },
     "execution_count": 44,
     "metadata": {},
     "output_type": "execute_result"
    },
    {
     "data": {
      "text/plain": "<Figure size 640x480 with 1 Axes>",
      "image/png": "[encoded data removed]"
     },
     "metadata": {},
     "output_type": "display_data"
    }
   ],
   "source": [
    "from signal_ocean.tonnage_list import IndexLevel\n",
    "\n",
    "supply_trend = supply_trend_data_frame.groupby(\n",
    "    IndexLevel.DATE, sort=True\n",
    ").size()\n",
    "\n",
    "plot = supply_trend.plot()\n",
    "plot.set_ylabel(\"Vessel count\")\n",
    "plot.set_title(\"Ceyhan Aframax Laycan 6 days\")\n",
    "plot\n"
   ]
  },
  {
   "cell_type": "markdown",
   "metadata": {
    "pycharm": {
     "name": "#%% md\n"
    }
   },
   "source": [
    "### Example 2 - Generating an Excel sheet\n",
    "The data frame can be easily saved as an Excel file by using Pandas's built-in `to_excel()` function.\n",
    "\n",
    "Before we do that, we need to remove all the time zone information from all timestamps in the data frame. This is because Excel does not support storing time zone information along with timestamps. However, Signal Ocean's SDK always provides time zone information to make all timestamp-based computation unambiguous."
   ]
  },
  {
   "cell_type": "code",
   "execution_count": 70,
   "metadata": {
    "pycharm": {
     "name": "#%%\n"
    }
   },
   "outputs": [],
   "source": [
    "import pandas as pd\n",
    "\n",
    "supply_trend_data_frame[\"open_date_point_in_time\"] = pd.to_datetime(supply_trend_data_frame[\"open_date_point_in_time\"]).dt.tz_localize(None)\n",
    "supply_trend_data_frame[\"eta_point_in_time\"] = pd.to_datetime(supply_trend_data_frame[\"eta_point_in_time\"]).dt.tz_localize(None)\n",
    "supply_trend_data_frame[\"latest_ais_point_in_time\"] = pd.to_datetime(supply_trend_data_frame[\"latest_ais_point_in_time\"]).dt.tz_localize(None)\n",
    "\n",
    "without_time_zones = (\n",
    "    supply_trend_data_frame.reset_index()\n",
    "    .set_index(IndexLevel.IMO)\n",
    ")\n",
    "without_time_zones[\"date\"] = pd.to_datetime(without_time_zones[\"date\"]).dt.tz_localize(None)"
   ]
  },
  {
   "cell_type": "markdown",
   "metadata": {
    "pycharm": {
     "name": "#%% md\n"
    }
   },
   "source": [
    "Now, we can generate the Excel file:"
   ]
  },
  {
   "cell_type": "code",
   "execution_count": 71,
   "outputs": [],
   "source": [
    "without_time_zones.to_excel('Ceyhan_Afra_6days_history.xlsx')"
   ],
   "metadata": {
    "collapsed": false,
    "pycharm": {
     "name": "#%%\n"
    }
   }
  },
  {
   "cell_type": "code",
   "execution_count": null,
   "outputs": [],
   "source": [],
   "metadata": {
    "collapsed": false,
    "pycharm": {
     "name": "#%%\n"
    }
   }
  }
 ],
 "metadata": {
  "interpreter": {
   "hash": "21e11546e10a66add335db6a1349eaa88bf2ec3fc97130662d43c4cc611e17ce"
  },
  "kernelspec": {
   "display_name": "Python 3.9.7 64-bit ('env': venv)",
   "name": "python3"
  },
  "language_info": {
   "codemirror_mode": {
    "name": "ipython",
    "version": 3
   },
   "file_extension": ".py",
   "mimetype": "text/x-python",
   "name": "python",
   "nbconvert_exporter": "python",
   "pygments_lexer": "ipython3",
   "version": "3.9.7"
  }
 },
 "nbformat": 4,
 "nbformat_minor": 4
}