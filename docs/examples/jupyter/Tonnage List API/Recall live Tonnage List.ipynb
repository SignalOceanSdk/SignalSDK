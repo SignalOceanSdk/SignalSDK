{
 "cells": [
  {
   "cell_type": "markdown",
   "metadata": {
    "pycharm": {
     "name": "#%% md\n"
    }
   },
   "source": [
    "# Recall live tonnage list"
   ]
  },
  {
   "cell_type": "markdown",
   "metadata": {
    "pycharm": {
     "name": "#%% md\n"
    }
   },
   "source": [
    "## Run this example in [Colab](https://colab.research.google.com/github/SignalOceanSdk/SignalSDK/blob/master/docs/examples/jupyter/Tonnage%20List%20API/Recall%20live%20Tonnage%20List.ipynb). "
   ]
  },
  {
   "cell_type": "markdown",
   "metadata": {
    "pycharm": {
     "name": "#%% md\n"
    }
   },
   "source": [
    "## Setup\n",
    "Install the Signal Ocean SDK:"
   ]
  },
  {
   "cell_type": "code",
   "execution_count": null,
   "metadata": {
    "pycharm": {
     "name": "#%%\n"
    }
   },
   "outputs": [],
   "source": [
    "!pip install signal-ocean"
   ]
  },
  {
   "cell_type": "markdown",
   "metadata": {
    "pycharm": {
     "name": "#%% md\n"
    }
   },
   "source": [
    "Set your subscription key, acquired here: [https://apis.signalocean.com/profile](https://apis.signalocean.com/profile)"
   ]
  },
  {
   "cell_type": "code",
   "execution_count": 30,
   "metadata": {
    "pycharm": {
     "name": "#%%\n"
    }
   },
   "outputs": [],
   "source": [
    "signal_ocean_api_key = \"\"  # replace with your subscription key"
   ]
  },
  {
   "cell_type": "markdown",
   "metadata": {
    "pycharm": {
     "name": "#%% md\n"
    }
   },
   "source": [
    "First, we need to create an instance of the `TonnageListAPI`:"
   ]
  },
  {
   "cell_type": "code",
   "execution_count": 31,
   "metadata": {
    "pycharm": {
     "name": "#%%\n"
    }
   },
   "outputs": [],
   "source": [
    "from signal_ocean import Connection\n",
    "from signal_ocean.tonnage_list import TonnageListAPI\n",
    "\n",
    "connection = Connection(signal_ocean_api_key)\n",
    "api = TonnageListAPI(connection)"
   ]
  },
  {
   "cell_type": "markdown",
   "metadata": {
    "pycharm": {
     "name": "#%% md\n"
    }
   },
   "source": [
    "## Retrieving a live tonnage list\n",
    "Retrieving a live tonnage list is almost exactly the same as getting a historical one except, instead of using the `get_historical_tonnage_list` method, you use the `get_tonnage_list` method and you don't pass a `DateRange` as an argument. The `get_tonnage_list` method returns a single `TonnageList` that contains live vessel data.\n",
    "\n",
    "Because of this similarity, we can reuse the parameters we used for our HTL queries:"
   ]
  },
  {
   "cell_type": "code",
   "execution_count": 32,
   "metadata": {
    "pycharm": {
     "name": "#%%\n"
    }
   },
   "outputs": [
    {
     "data": {
      "text/plain": "                  name vessel_class ice_class  year_built  deadweight  \\\n9488011   Safeen Elona      Aframax       NaN        2012      105258   \n9592305   Nissos Delos      Aframax       NaN        2012      115691   \n9291262       Themis 1      Aframax        1C        2005      114834   \n9407457        Matilda      Aframax       NaN        2009      112935   \n9458016     Delta Star      Aframax       NaN        2013      115618   \n9253325         Nurkez      Aframax       NaN        2004      105650   \n9330599        Lambada      Aframax       NaN        2006      104866   \n9370848  Anafi Warrior      Aframax       NaN        2009      107593   \n\n         length_overall  breadth_extreme subclass  \\\n9488011          244.38               42    Dirty   \n9592305          248.97               44    Dirty   \n9291262          253.50               44    Dirty   \n9407457          249.96               44    Dirty   \n9458016          249.97               44    Dirty   \n9253325          248.00               43    Dirty   \n9330599          243.56               42    Dirty   \n9370848          243.80               42    Dirty   \n\n        market_deployment_point_in_time push_type_point_in_time  ...  \\\n9488011                            Spot                  Pushed  ...   \n9592305                            Spot                  Pushed  ...   \n9291262                            Spot                  Pushed  ...   \n9407457                            Spot                  Pushed  ...   \n9458016                            Spot                  Pushed  ...   \n9253325                           Relet                  Pushed  ...   \n9330599                            Spot                  Pushed  ...   \n9370848                            Spot                  Pushed  ...   \n\n        open_prediction_accuracy_point_in_time open_country_point_in_time  \\\n9488011                            Narrow Area                     Greece   \n9592305                            Narrow Area                      Egypt   \n9291262                            Narrow Area               Saudi Arabia   \n9407457                            Narrow Area                     Turkey   \n9458016                                   Port                    Croatia   \n9253325                            Narrow Area               Saudi Arabia   \n9330599                                   Port               Saudi Arabia   \n9370848                                   Port                      Italy   \n\n        open_narrow_area_point_in_time open_wide_area_point_in_time  \\\n9488011             East Mediterranean                Mediterranean   \n9592305                        Red Sea                      Red Sea   \n9291262                        Red Sea                      Red Sea   \n9407457                 Sea of Marmara   Black Sea / Sea Of Marmara   \n9458016          Central Mediterranean                Mediterranean   \n9253325                        Red Sea                      Red Sea   \n9330599                        Red Sea                      Red Sea   \n9370848          Central Mediterranean                Mediterranean   \n\n        availability_port_type_point_in_time  \\\n9488011                               Source   \n9592305                               Source   \n9291262                               Source   \n9407457                               Source   \n9458016                               Source   \n9253325                               Source   \n9330599                               Source   \n9370848                               Source   \n\n        availability_date_type_point_in_time fixture_type_point_in_time  \\\n9488011                               Source                        NaN   \n9592305                               Source                        NaN   \n9291262                               Source                        NaN   \n9407457                               Source                        NaN   \n9458016                           Prediction                        NaN   \n9253325                               Source                        NaN   \n9330599                           Prediction                        NaN   \n9370848                           Prediction                        NaN   \n\n        current_vessel_sub_type_id_point_in_time  \\\n9488011                                        1   \n9592305                                        1   \n9291262                                        1   \n9407457                                        1   \n9458016                                        1   \n9253325                                        1   \n9330599                                        1   \n9370848                                        1   \n\n        current_vessel_sub_type_point_in_time  \\\n9488011                                Source   \n9592305                                Source   \n9291262                                Source   \n9407457                                Source   \n9458016                            Prediction   \n9253325                                Source   \n9330599                            Prediction   \n9370848                            Prediction   \n\n        willing_to_switch_current_vessel_sub_type_point_in_time  \n9488011                                              False       \n9592305                                              False       \n9291262                                              False       \n9407457                                              False       \n9458016                                              False       \n9253325                                              False       \n9330599                                              False       \n9370848                                              False       \n\n[8 rows x 29 columns]",
      "text/html": "<div>\n<style scoped>\n    .dataframe tbody tr th:only-of-type {\n        vertical-align: middle;\n    }\n\n    .dataframe tbody tr th {\n        vertical-align: top;\n    }\n\n    .dataframe thead th {\n        text-align: right;\n    }\n</style>\n<table border=\"1\" class=\"dataframe\">\n  <thead>\n    <tr style=\"text-align: right;\">\n      <th></th>\n      <th>name</th>\n      <th>vessel_class</th>\n      <th>ice_class</th>\n      <th>year_built</th>\n      <th>deadweight</th>\n      <th>length_overall</th>\n      <th>breadth_extreme</th>\n      <th>subclass</th>\n      <th>market_deployment_point_in_time</th>\n      <th>push_type_point_in_time</th>\n      <th>...</th>\n      <th>open_prediction_accuracy_point_in_time</th>\n      <th>open_country_point_in_time</th>\n      <th>open_narrow_area_point_in_time</th>\n      <th>open_wide_area_point_in_time</th>\n      <th>availability_port_type_point_in_time</th>\n      <th>availability_date_type_point_in_time</th>\n      <th>fixture_type_point_in_time</th>\n      <th>current_vessel_sub_type_id_point_in_time</th>\n      <th>current_vessel_sub_type_point_in_time</th>\n      <th>willing_to_switch_current_vessel_sub_type_point_in_time</th>\n    </tr>\n  </thead>\n  <tbody>\n    <tr>\n      <th>9488011</th>\n      <td>Safeen Elona</td>\n      <td>Aframax</td>\n      <td>NaN</td>\n      <td>2012</td>\n      <td>105258</td>\n      <td>244.38</td>\n      <td>42</td>\n      <td>Dirty</td>\n      <td>Spot</td>\n      <td>Pushed</td>\n      <td>...</td>\n      <td>Narrow Area</td>\n      <td>Greece</td>\n      <td>East Mediterranean</td>\n      <td>Mediterranean</td>\n      <td>Source</td>\n      <td>Source</td>\n      <td>NaN</td>\n      <td>1</td>\n      <td>Source</td>\n      <td>False</td>\n    </tr>\n    <tr>\n      <th>9592305</th>\n      <td>Nissos Delos</td>\n      <td>Aframax</td>\n      <td>NaN</td>\n      <td>2012</td>\n      <td>115691</td>\n      <td>248.97</td>\n      <td>44</td>\n      <td>Dirty</td>\n      <td>Spot</td>\n      <td>Pushed</td>\n      <td>...</td>\n      <td>Narrow Area</td>\n      <td>Egypt</td>\n      <td>Red Sea</td>\n      <td>Red Sea</td>\n      <td>Source</td>\n      <td>Source</td>\n      <td>NaN</td>\n      <td>1</td>\n      <td>Source</td>\n      <td>False</td>\n    </tr>\n    <tr>\n      <th>9291262</th>\n      <td>Themis 1</td>\n      <td>Aframax</td>\n      <td>1C</td>\n      <td>2005</td>\n      <td>114834</td>\n      <td>253.50</td>\n      <td>44</td>\n      <td>Dirty</td>\n      <td>Spot</td>\n      <td>Pushed</td>\n      <td>...</td>\n      <td>Narrow Area</td>\n      <td>Saudi Arabia</td>\n      <td>Red Sea</td>\n      <td>Red Sea</td>\n      <td>Source</td>\n      <td>Source</td>\n      <td>NaN</td>\n      <td>1</td>\n      <td>Source</td>\n      <td>False</td>\n    </tr>\n    <tr>\n      <th>9407457</th>\n      <td>Matilda</td>\n      <td>Aframax</td>\n      <td>NaN</td>\n      <td>2009</td>\n      <td>112935</td>\n      <td>249.96</td>\n      <td>44</td>\n      <td>Dirty</td>\n      <td>Spot</td>\n      <td>Pushed</td>\n      <td>...</td>\n      <td>Narrow Area</td>\n      <td>Turkey</td>\n      <td>Sea of Marmara</td>\n      <td>Black Sea / Sea Of Marmara</td>\n      <td>Source</td>\n      <td>Source</td>\n      <td>NaN</td>\n      <td>1</td>\n      <td>Source</td>\n      <td>False</td>\n    </tr>\n    <tr>\n      <th>9458016</th>\n      <td>Delta Star</td>\n      <td>Aframax</td>\n      <td>NaN</td>\n      <td>2013</td>\n      <td>115618</td>\n      <td>249.97</td>\n      <td>44</td>\n      <td>Dirty</td>\n      <td>Spot</td>\n      <td>Pushed</td>\n      <td>...</td>\n      <td>Port</td>\n      <td>Croatia</td>\n      <td>Central Mediterranean</td>\n      <td>Mediterranean</td>\n      <td>Source</td>\n      <td>Prediction</td>\n      <td>NaN</td>\n      <td>1</td>\n      <td>Prediction</td>\n      <td>False</td>\n    </tr>\n    <tr>\n      <th>9253325</th>\n      <td>Nurkez</td>\n      <td>Aframax</td>\n      <td>NaN</td>\n      <td>2004</td>\n      <td>105650</td>\n      <td>248.00</td>\n      <td>43</td>\n      <td>Dirty</td>\n      <td>Relet</td>\n      <td>Pushed</td>\n      <td>...</td>\n      <td>Narrow Area</td>\n      <td>Saudi Arabia</td>\n      <td>Red Sea</td>\n      <td>Red Sea</td>\n      <td>Source</td>\n      <td>Source</td>\n      <td>NaN</td>\n      <td>1</td>\n      <td>Source</td>\n      <td>False</td>\n    </tr>\n    <tr>\n      <th>9330599</th>\n      <td>Lambada</td>\n      <td>Aframax</td>\n      <td>NaN</td>\n      <td>2006</td>\n      <td>104866</td>\n      <td>243.56</td>\n      <td>42</td>\n      <td>Dirty</td>\n      <td>Spot</td>\n      <td>Pushed</td>\n      <td>...</td>\n      <td>Port</td>\n      <td>Saudi Arabia</td>\n      <td>Red Sea</td>\n      <td>Red Sea</td>\n      <td>Source</td>\n      <td>Prediction</td>\n      <td>NaN</td>\n      <td>1</td>\n      <td>Prediction</td>\n      <td>False</td>\n    </tr>\n    <tr>\n      <th>9370848</th>\n      <td>Anafi Warrior</td>\n      <td>Aframax</td>\n      <td>NaN</td>\n      <td>2009</td>\n      <td>107593</td>\n      <td>243.80</td>\n      <td>42</td>\n      <td>Dirty</td>\n      <td>Spot</td>\n      <td>Pushed</td>\n      <td>...</td>\n      <td>Port</td>\n      <td>Italy</td>\n      <td>Central Mediterranean</td>\n      <td>Mediterranean</td>\n      <td>Source</td>\n      <td>Prediction</td>\n      <td>NaN</td>\n      <td>1</td>\n      <td>Prediction</td>\n      <td>False</td>\n    </tr>\n  </tbody>\n</table>\n<p>8 rows × 29 columns</p>\n</div>"
     },
     "execution_count": 32,
     "metadata": {},
     "output_type": "execute_result"
    }
   ],
   "source": [
    "from datetime import timedelta, date\n",
    "from signal_ocean.tonnage_list import VesselClassFilter\n",
    "from signal_ocean.tonnage_list import PortFilter\n",
    "from signal_ocean.tonnage_list import (\n",
    "    VesselFilter,\n",
    "    PushType,\n",
    "    MarketDeployment,\n",
    "    CommercialStatus,\n",
    "    VesselSubclass,\n",
    ")\n",
    "\n",
    "vessel_class_filter = VesselClassFilter(name_like=\"aframax\")\n",
    "vessel_class = api.get_vessel_classes(vessel_class_filter)[0]\n",
    "\n",
    "port_filter = PortFilter(name_like=\"ceyhan\")\n",
    "port = api.get_ports(port_filter)[0]\n",
    "\n",
    "laycan_end_in_days = 6\n",
    "\n",
    "vessel_filter = VesselFilter(\n",
    "    push_types=[PushType.PUSHED],\n",
    "    market_deployments=[MarketDeployment.RELET, MarketDeployment.SPOT],\n",
    "    commercial_statuses=[\n",
    "        CommercialStatus.AVAILABLE,\n",
    "        CommercialStatus.CANCELLED,\n",
    "        CommercialStatus.FAILED,\n",
    "    ],\n",
    "    vessel_subclass=VesselSubclass.DIRTY,\n",
    "    latest_ais_since=5,\n",
    ")\n",
    "\n",
    "\n",
    "tonnage_list = api.get_tonnage_list(\n",
    "    port, vessel_class, laycan_end_in_days, vessel_filter\n",
    ")\n",
    "tl_data_frame = tonnage_list.to_data_frame()\n",
    "tl_data_frame"
   ]
  },
  {
   "cell_type": "code",
   "execution_count": 34,
   "metadata": {
    "pycharm": {
     "name": "#%%\n"
    }
   },
   "outputs": [],
   "source": [
    "import pandas as pd\n",
    "\n",
    "without_time_zones = tl_data_frame\n",
    "without_time_zones[\"open_date_point_in_time\"] = pd.to_datetime(without_time_zones[\"open_date_point_in_time\"]).dt.tz_localize(None)\n",
    "without_time_zones[\"eta_point_in_time\"] = pd.to_datetime(without_time_zones[\"eta_point_in_time\"]).dt.tz_localize(None)\n",
    "without_time_zones[\"latest_ais_point_in_time\"] = pd.to_datetime(without_time_zones[\"latest_ais_point_in_time\"]).dt.tz_localize(None)\n",
    "\n",
    "without_time_zones.to_excel('Ceyhan_Afra_6days_live.xlsx')"
   ]
  },
  {
   "cell_type": "code",
   "execution_count": null,
   "metadata": {
    "pycharm": {
     "name": "#%%\n"
    }
   },
   "outputs": [],
   "source": []
  }
 ],
 "metadata": {
  "kernelspec": {
   "display_name": "Python 3.9.13 64-bit",
   "language": "python",
   "name": "python3"
  },
  "language_info": {
   "codemirror_mode": {
    "name": "ipython",
    "version": 3
   },
   "file_extension": ".py",
   "mimetype": "text/x-python",
   "name": "python",
   "nbconvert_exporter": "python",
   "pygments_lexer": "ipython3",
   "version": "3.9.13"
  },
  "vscode": {
   "interpreter": {
    "hash": "cd2765398aa52a4a830dcd03c0fa88112b56c0a25e3bf6e8b58d04887424f767"
   }
  }
 },
 "nbformat": 4,
 "nbformat_minor": 4
}