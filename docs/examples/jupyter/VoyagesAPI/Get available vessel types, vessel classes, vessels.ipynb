{
 "cells": [
  {
   "cell_type": "markdown",
   "metadata": {
    "id": "rUv4xzHv9S4p"
   },
   "source": [
    "# Get available vessel types, vessel classes, vessels\n",
    "\n",
    "## Run this example in [Colab](https://colab.research.google.com/github/SignalOceanSdk/SignalSDK/blob/master/docs/examples/jupyter/VoyagesAPI/Get%20available%20vessel%20types%2C%20vessel%20classes%2C%20vessels.ipynb)"
   ]
  },
  {
   "cell_type": "markdown",
   "metadata": {
    "id": "8QK_iVn3921k"
   },
   "source": [
    "Get your personal Signal Ocean API subscription key (acquired [here](https://apis.signalocean.com/profile)) and replace it below:"
   ]
  },
  {
   "cell_type": "code",
   "execution_count": null,
   "metadata": {
    "id": "6R3E9OEF9KDF"
   },
   "outputs": [],
   "source": [
    "signal_ocean_api_key = '' # replace with your subscription key"
   ]
  },
  {
   "cell_type": "markdown",
   "metadata": {
    "id": "P58W2iZxKMVl"
   },
   "source": [
    "## Setup"
   ]
  },
  {
   "cell_type": "code",
   "execution_count": null,
   "metadata": {
    "colab": {
     "base_uri": "https://localhost:8080/"
    },
    "id": "sEJOCYf5KxMJ",
    "outputId": "86047ac2-6e6f-46f1-be20-737c06ce9e5a"
   },
   "outputs": [],
   "source": [
    "%%capture\n",
    "!pip install signal-ocean\n",
    "from signal_ocean import Connection\n",
    "from signal_ocean.voyages import VoyagesAPI\n",
    "from signal_ocean.voyages import Vessel, VesselFilter\n",
    "from signal_ocean.voyages import VesselType, VesselTypeFilter\n",
    "from signal_ocean.voyages import VesselClass, VesselClassFilter\n",
    "import pandas as pd"
   ]
  },
  {
   "cell_type": "code",
   "execution_count": null,
   "metadata": {
    "id": "-6VSeyGMKWkp"
   },
   "outputs": [],
   "source": [
    "connection = Connection(signal_ocean_api_key)\n",
    "api = VoyagesAPI(connection)"
   ]
  },
  {
   "cell_type": "markdown",
   "metadata": {},
   "source": [
    "## Vessel Filter Functions"
   ]
  },
  {
   "cell_type": "code",
   "execution_count": null,
   "metadata": {},
   "outputs": [],
   "source": [
    "def get_vessel_types(name_like = None):\n",
    "    \n",
    "    if name_like:\n",
    "        vessel_types = api.get_vessel_types(VesselTypeFilter(name_like))\n",
    "    else:\n",
    "        vessel_types = api.get_vessel_types()\n",
    "    return pd.DataFrame(v.__dict__ for v in vessel_types) \n",
    "\n",
    "def get_vessel_classes(name_like = None):\n",
    "    \n",
    "    if name_like:\n",
    "        vessel_classes = api.get_vessel_classes(VesselClassFilter(name_like))\n",
    "    else:\n",
    "        vessel_classes = api.get_vessel_classes()\n",
    "    return pd.DataFrame(v.__dict__ for v in vessel_classes) \n",
    "\n",
    "def get_vessels(name_like = None):\n",
    "    \n",
    "    if name_like:\n",
    "        vessels = api.get_imos(VesselFilter(name_like))\n",
    "    else:\n",
    "        vessels = api.get_imos()\n",
    "    return pd.DataFrame(v.__dict__ for v in vessels) "
   ]
  },
  {
   "cell_type": "markdown",
   "metadata": {
    "id": "WUFKmRlAPq5Y"
   },
   "source": [
    "## Results"
   ]
  },
  {
   "cell_type": "markdown",
   "metadata": {
    "id": "MrMsgm4bPw5P"
   },
   "source": [
    "### VesselTypes"
   ]
  },
  {
   "cell_type": "markdown",
   "metadata": {
    "id": "KAKATcarP7xU"
   },
   "source": [
    "#### Get all avalable vessel types"
   ]
  },
  {
   "cell_type": "code",
   "execution_count": null,
   "metadata": {
    "colab": {
     "base_uri": "https://localhost:8080/"
    },
    "id": "Fim8U59-QABE",
    "outputId": "ba7ae19c-f0ac-438f-bab2-b651fd1267e9"
   },
   "outputs": [],
   "source": [
    "get_vessel_types()"
   ]
  },
  {
   "cell_type": "markdown",
   "metadata": {
    "id": "Kie06_0WQGXC"
   },
   "source": [
    "#### Get avalable vessel types using VesselTypeFilter"
   ]
  },
  {
   "cell_type": "code",
   "execution_count": null,
   "metadata": {
    "colab": {
     "base_uri": "https://localhost:8080/"
    },
    "id": "v28_eDpNPj-d",
    "outputId": "9e65d432-6313-432e-c5de-8bf6622b6d08"
   },
   "outputs": [],
   "source": [
    "get_vessel_types('Tank')"
   ]
  },
  {
   "cell_type": "markdown",
   "metadata": {
    "id": "dWwHrJNFQWCm"
   },
   "source": [
    "### VesselClasses"
   ]
  },
  {
   "cell_type": "markdown",
   "metadata": {
    "id": "KEEg55JIQWCn"
   },
   "source": [
    "#### Get all avalable vessel classes"
   ]
  },
  {
   "cell_type": "code",
   "execution_count": null,
   "metadata": {
    "colab": {
     "base_uri": "https://localhost:8080/"
    },
    "id": "TtkEH7fKQWCo",
    "outputId": "dfac59b4-3d39-4327-a448-d1615336aff1"
   },
   "outputs": [],
   "source": [
    "get_vessel_classes()"
   ]
  },
  {
   "cell_type": "markdown",
   "metadata": {
    "id": "0vM3zEAvQWCp"
   },
   "source": [
    "#### Get avalable vessel classes using VesselClassFilter"
   ]
  },
  {
   "cell_type": "code",
   "execution_count": null,
   "metadata": {
    "colab": {
     "base_uri": "https://localhost:8080/"
    },
    "id": "r-7DtDWEQWCp",
    "outputId": "6e56791c-f3e7-494f-99ee-b4de037e4c98"
   },
   "outputs": [],
   "source": [
    "get_vessel_classes('max')"
   ]
  },
  {
   "cell_type": "code",
   "execution_count": null,
   "metadata": {
    "id": "M6_qgwzzQWCq"
   },
   "outputs": [],
   "source": [
    "get_vessel_classes('Afra')"
   ]
  },
  {
   "cell_type": "markdown",
   "metadata": {
    "id": "hg2o136rQtXL"
   },
   "source": [
    "### Vessels"
   ]
  },
  {
   "cell_type": "markdown",
   "metadata": {
    "id": "QPwWSgvhQtXh"
   },
   "source": [
    "#### Get all avalable vessels"
   ]
  },
  {
   "cell_type": "code",
   "execution_count": null,
   "metadata": {
    "colab": {
     "base_uri": "https://localhost:8080/"
    },
    "id": "6L3ory6rQtXh",
    "outputId": "230d2daa-6fe4-40b9-e5f9-fc2f1309efc8"
   },
   "outputs": [],
   "source": [
    "get_vessels()"
   ]
  },
  {
   "cell_type": "markdown",
   "metadata": {
    "id": "tpb_2pIiQtXi"
   },
   "source": [
    "#### Get avalable vessels using VesselFilter"
   ]
  },
  {
   "cell_type": "code",
   "execution_count": null,
   "metadata": {
    "colab": {
     "base_uri": "https://localhost:8080/"
    },
    "id": "01kumx_8QtXj",
    "outputId": "19ad8e92-5519-42a3-f956-bfa75eb0dc80"
   },
   "outputs": [],
   "source": [
    "get_vessels('Signal')"
   ]
  }
 ],
 "metadata": {
  "colab": {
   "collapsed_sections": [],
   "name": "ExtendVoyageApi.ipynb",
   "provenance": []
  },
  "kernelspec": {
   "display_name": "Python 3 (ipykernel)",
   "language": "python",
   "name": "python3"
  },
  "language_info": {
   "codemirror_mode": {
    "name": "ipython",
    "version": 3
   },
   "file_extension": ".py",
   "mimetype": "text/x-python",
   "name": "python",
   "nbconvert_exporter": "python",
   "pygments_lexer": "ipython3",
   "version": "3.8.0"
  }
 },
 "nbformat": 4,
 "nbformat_minor": 1
}
