{
 "cells": [
  {
   "cell_type": "markdown",
   "metadata": {
    "id": "rUv4xzHv9S4p"
   },
   "source": [
    "# Get available vessel types, vessel classes, vessels"
   ]
  },
  {
   "cell_type": "markdown",
   "metadata": {
    "id": "8QK_iVn3921k"
   },
   "source": [
    "Get your personal Signal Ocean API subscription key (acquired [here](https://apis.signalocean.com/profile)) and replace it below:"
   ]
  },
  {
   "cell_type": "code",
   "execution_count": 1,
   "metadata": {
    "id": "6R3E9OEF9KDF"
   },
   "outputs": [],
   "source": [
    "signal_ocean_api_key = '' # replace with your subscription key"
   ]
  },
  {
   "cell_type": "markdown",
   "metadata": {
    "id": "P58W2iZxKMVl"
   },
   "source": [
    "## Setup"
   ]
  },
  {
   "cell_type": "code",
   "execution_count": 9,
   "metadata": {
    "colab": {
     "base_uri": "https://localhost:8080/"
    },
    "id": "sEJOCYf5KxMJ",
    "outputId": "86047ac2-6e6f-46f1-be20-737c06ce9e5a"
   },
   "outputs": [],
   "source": [
    "%%capture\n",
    "!pip install signal-ocean\n",
    "from signal_ocean import Connection\n",
    "from signal_ocean.voyages import VoyagesAPI\n",
    "from signal_ocean.voyages import Vessel, VesselFilter\n",
    "from signal_ocean.voyages import VesselType, VesselTypeFilter\n",
    "from signal_ocean.voyages import VesselClass, VesselClassFilter\n",
    "import pandas as pd"
   ]
  },
  {
   "cell_type": "code",
   "execution_count": 10,
   "metadata": {
    "id": "-6VSeyGMKWkp"
   },
   "outputs": [],
   "source": [
    "connection = Connection(signal_ocean_api_key)\n",
    "api = VoyagesAPI(connection)"
   ]
  },
  {
   "cell_type": "markdown",
   "metadata": {},
   "source": [
    "## Vessel Filter Functions"
   ]
  },
  {
   "cell_type": "code",
   "execution_count": 33,
   "metadata": {},
   "outputs": [],
   "source": [
    "def get_vessel_types(name_like = None):\n",
    "    \n",
    "    if name_like:\n",
    "        vessel_types = api.get_vessel_types(VesselTypeFilter(name_like))\n",
    "    else:\n",
    "        vessel_types = api.get_vessel_types()\n",
    "    return pd.DataFrame(v.__dict__ for v in vessel_types) \n",
    "\n",
    "def get_vessel_classes(name_like = None):\n",
    "    \n",
    "    if name_like:\n",
    "        vessel_classes = api.get_vessel_classes(VesselClassFilter(name_like))\n",
    "    else:\n",
    "        vessel_classes = api.get_vessel_classes()\n",
    "    return pd.DataFrame(v.__dict__ for v in vessel_classes) \n",
    "\n",
    "def get_vessels(name_like = None):\n",
    "    \n",
    "    if name_like:\n",
    "        vessels = api.get_imos(VesselFilter(name_like))\n",
    "    else:\n",
    "        vessels = api.get_imos()\n",
    "    return pd.DataFrame(v.__dict__ for v in vessels) "
   ]
  },
  {
   "cell_type": "markdown",
   "metadata": {
    "id": "WUFKmRlAPq5Y"
   },
   "source": [
    "## Results"
   ]
  },
  {
   "cell_type": "markdown",
   "metadata": {
    "id": "MrMsgm4bPw5P"
   },
   "source": [
    "### VesselTypes"
   ]
  },
  {
   "cell_type": "markdown",
   "metadata": {
    "id": "KAKATcarP7xU"
   },
   "source": [
    "#### Get all avalable vessel types"
   ]
  },
  {
   "cell_type": "code",
   "execution_count": 27,
   "metadata": {
    "colab": {
     "base_uri": "https://localhost:8080/"
    },
    "id": "Fim8U59-QABE",
    "outputId": "ba7ae19c-f0ac-438f-bab2-b651fd1267e9"
   },
   "outputs": [
    {
     "data": {
      "text/html": [
       "<div>\n",
       "<style scoped>\n",
       "    .dataframe tbody tr th:only-of-type {\n",
       "        vertical-align: middle;\n",
       "    }\n",
       "\n",
       "    .dataframe tbody tr th {\n",
       "        vertical-align: top;\n",
       "    }\n",
       "\n",
       "    .dataframe thead th {\n",
       "        text-align: right;\n",
       "    }\n",
       "</style>\n",
       "<table border=\"1\" class=\"dataframe\">\n",
       "  <thead>\n",
       "    <tr style=\"text-align: right;\">\n",
       "      <th></th>\n",
       "      <th>vessel_type_id</th>\n",
       "      <th>vessel_type</th>\n",
       "    </tr>\n",
       "  </thead>\n",
       "  <tbody>\n",
       "    <tr>\n",
       "      <th>0</th>\n",
       "      <td>1</td>\n",
       "      <td>Tanker</td>\n",
       "    </tr>\n",
       "    <tr>\n",
       "      <th>1</th>\n",
       "      <td>3</td>\n",
       "      <td>Dry</td>\n",
       "    </tr>\n",
       "    <tr>\n",
       "      <th>2</th>\n",
       "      <td>6</td>\n",
       "      <td>LPG</td>\n",
       "    </tr>\n",
       "  </tbody>\n",
       "</table>\n",
       "</div>"
      ],
      "text/plain": [
       "   vessel_type_id vessel_type\n",
       "0               1      Tanker\n",
       "1               3         Dry\n",
       "2               6         LPG"
      ]
     },
     "execution_count": 27,
     "metadata": {},
     "output_type": "execute_result"
    }
   ],
   "source": [
    "get_vessel_types()"
   ]
  },
  {
   "cell_type": "markdown",
   "metadata": {
    "id": "Kie06_0WQGXC"
   },
   "source": [
    "#### Get avalable vessel types using VesselTypeFilter"
   ]
  },
  {
   "cell_type": "code",
   "execution_count": 28,
   "metadata": {
    "colab": {
     "base_uri": "https://localhost:8080/"
    },
    "id": "v28_eDpNPj-d",
    "outputId": "9e65d432-6313-432e-c5de-8bf6622b6d08"
   },
   "outputs": [
    {
     "data": {
      "text/html": [
       "<div>\n",
       "<style scoped>\n",
       "    .dataframe tbody tr th:only-of-type {\n",
       "        vertical-align: middle;\n",
       "    }\n",
       "\n",
       "    .dataframe tbody tr th {\n",
       "        vertical-align: top;\n",
       "    }\n",
       "\n",
       "    .dataframe thead th {\n",
       "        text-align: right;\n",
       "    }\n",
       "</style>\n",
       "<table border=\"1\" class=\"dataframe\">\n",
       "  <thead>\n",
       "    <tr style=\"text-align: right;\">\n",
       "      <th></th>\n",
       "      <th>vessel_type_id</th>\n",
       "      <th>vessel_type</th>\n",
       "    </tr>\n",
       "  </thead>\n",
       "  <tbody>\n",
       "    <tr>\n",
       "      <th>0</th>\n",
       "      <td>1</td>\n",
       "      <td>Tanker</td>\n",
       "    </tr>\n",
       "  </tbody>\n",
       "</table>\n",
       "</div>"
      ],
      "text/plain": [
       "   vessel_type_id vessel_type\n",
       "0               1      Tanker"
      ]
     },
     "execution_count": 28,
     "metadata": {},
     "output_type": "execute_result"
    }
   ],
   "source": [
    "get_vessel_types('Tank')"
   ]
  },
  {
   "cell_type": "markdown",
   "metadata": {
    "id": "dWwHrJNFQWCm"
   },
   "source": [
    "### VesselClasses"
   ]
  },
  {
   "cell_type": "markdown",
   "metadata": {
    "id": "KEEg55JIQWCn"
   },
   "source": [
    "#### Get all avalable vessel classes"
   ]
  },
  {
   "cell_type": "code",
   "execution_count": 29,
   "metadata": {
    "colab": {
     "base_uri": "https://localhost:8080/"
    },
    "id": "TtkEH7fKQWCo",
    "outputId": "dfac59b4-3d39-4327-a448-d1615336aff1"
   },
   "outputs": [
    {
     "data": {
      "text/html": [
       "<div>\n",
       "<style scoped>\n",
       "    .dataframe tbody tr th:only-of-type {\n",
       "        vertical-align: middle;\n",
       "    }\n",
       "\n",
       "    .dataframe tbody tr th {\n",
       "        vertical-align: top;\n",
       "    }\n",
       "\n",
       "    .dataframe thead th {\n",
       "        text-align: right;\n",
       "    }\n",
       "</style>\n",
       "<table border=\"1\" class=\"dataframe\">\n",
       "  <thead>\n",
       "    <tr style=\"text-align: right;\">\n",
       "      <th></th>\n",
       "      <th>vessel_class_id</th>\n",
       "      <th>vessel_class_name</th>\n",
       "      <th>vessel_type_id</th>\n",
       "      <th>vessel_type</th>\n",
       "    </tr>\n",
       "  </thead>\n",
       "  <tbody>\n",
       "    <tr>\n",
       "      <th>0</th>\n",
       "      <td>60</td>\n",
       "      <td>VLGC</td>\n",
       "      <td>6</td>\n",
       "      <td>LPG</td>\n",
       "    </tr>\n",
       "    <tr>\n",
       "      <th>1</th>\n",
       "      <td>61</td>\n",
       "      <td>Midsize/LGC</td>\n",
       "      <td>6</td>\n",
       "      <td>LPG</td>\n",
       "    </tr>\n",
       "    <tr>\n",
       "      <th>2</th>\n",
       "      <td>69</td>\n",
       "      <td>VLOC</td>\n",
       "      <td>3</td>\n",
       "      <td>Dry</td>\n",
       "    </tr>\n",
       "    <tr>\n",
       "      <th>3</th>\n",
       "      <td>70</td>\n",
       "      <td>Capesize</td>\n",
       "      <td>3</td>\n",
       "      <td>Dry</td>\n",
       "    </tr>\n",
       "    <tr>\n",
       "      <th>4</th>\n",
       "      <td>72</td>\n",
       "      <td>Post Panamax</td>\n",
       "      <td>3</td>\n",
       "      <td>Dry</td>\n",
       "    </tr>\n",
       "    <tr>\n",
       "      <th>5</th>\n",
       "      <td>74</td>\n",
       "      <td>Panamax</td>\n",
       "      <td>3</td>\n",
       "      <td>Dry</td>\n",
       "    </tr>\n",
       "    <tr>\n",
       "      <th>6</th>\n",
       "      <td>84</td>\n",
       "      <td>VLCC</td>\n",
       "      <td>1</td>\n",
       "      <td>Tanker</td>\n",
       "    </tr>\n",
       "    <tr>\n",
       "      <th>7</th>\n",
       "      <td>85</td>\n",
       "      <td>Suezmax</td>\n",
       "      <td>1</td>\n",
       "      <td>Tanker</td>\n",
       "    </tr>\n",
       "    <tr>\n",
       "      <th>8</th>\n",
       "      <td>86</td>\n",
       "      <td>Aframax</td>\n",
       "      <td>1</td>\n",
       "      <td>Tanker</td>\n",
       "    </tr>\n",
       "    <tr>\n",
       "      <th>9</th>\n",
       "      <td>87</td>\n",
       "      <td>Panamax</td>\n",
       "      <td>1</td>\n",
       "      <td>Tanker</td>\n",
       "    </tr>\n",
       "    <tr>\n",
       "      <th>10</th>\n",
       "      <td>88</td>\n",
       "      <td>MR2</td>\n",
       "      <td>1</td>\n",
       "      <td>Tanker</td>\n",
       "    </tr>\n",
       "    <tr>\n",
       "      <th>11</th>\n",
       "      <td>89</td>\n",
       "      <td>MR1</td>\n",
       "      <td>1</td>\n",
       "      <td>Tanker</td>\n",
       "    </tr>\n",
       "  </tbody>\n",
       "</table>\n",
       "</div>"
      ],
      "text/plain": [
       "    vessel_class_id vessel_class_name  vessel_type_id vessel_type\n",
       "0                60              VLGC               6         LPG\n",
       "1                61       Midsize/LGC               6         LPG\n",
       "2                69              VLOC               3         Dry\n",
       "3                70          Capesize               3         Dry\n",
       "4                72      Post Panamax               3         Dry\n",
       "5                74           Panamax               3         Dry\n",
       "6                84              VLCC               1      Tanker\n",
       "7                85           Suezmax               1      Tanker\n",
       "8                86           Aframax               1      Tanker\n",
       "9                87           Panamax               1      Tanker\n",
       "10               88               MR2               1      Tanker\n",
       "11               89               MR1               1      Tanker"
      ]
     },
     "execution_count": 29,
     "metadata": {},
     "output_type": "execute_result"
    }
   ],
   "source": [
    "get_vessel_classes()"
   ]
  },
  {
   "cell_type": "markdown",
   "metadata": {
    "id": "0vM3zEAvQWCp"
   },
   "source": [
    "#### Get avalable vessel classes using VesselClassFilter"
   ]
  },
  {
   "cell_type": "code",
   "execution_count": 30,
   "metadata": {
    "colab": {
     "base_uri": "https://localhost:8080/"
    },
    "id": "r-7DtDWEQWCp",
    "outputId": "6e56791c-f3e7-494f-99ee-b4de037e4c98"
   },
   "outputs": [
    {
     "data": {
      "text/html": [
       "<div>\n",
       "<style scoped>\n",
       "    .dataframe tbody tr th:only-of-type {\n",
       "        vertical-align: middle;\n",
       "    }\n",
       "\n",
       "    .dataframe tbody tr th {\n",
       "        vertical-align: top;\n",
       "    }\n",
       "\n",
       "    .dataframe thead th {\n",
       "        text-align: right;\n",
       "    }\n",
       "</style>\n",
       "<table border=\"1\" class=\"dataframe\">\n",
       "  <thead>\n",
       "    <tr style=\"text-align: right;\">\n",
       "      <th></th>\n",
       "      <th>vessel_class_id</th>\n",
       "      <th>vessel_class_name</th>\n",
       "      <th>vessel_type_id</th>\n",
       "      <th>vessel_type</th>\n",
       "    </tr>\n",
       "  </thead>\n",
       "  <tbody>\n",
       "    <tr>\n",
       "      <th>0</th>\n",
       "      <td>72</td>\n",
       "      <td>Post Panamax</td>\n",
       "      <td>3</td>\n",
       "      <td>Dry</td>\n",
       "    </tr>\n",
       "    <tr>\n",
       "      <th>1</th>\n",
       "      <td>74</td>\n",
       "      <td>Panamax</td>\n",
       "      <td>3</td>\n",
       "      <td>Dry</td>\n",
       "    </tr>\n",
       "    <tr>\n",
       "      <th>2</th>\n",
       "      <td>85</td>\n",
       "      <td>Suezmax</td>\n",
       "      <td>1</td>\n",
       "      <td>Tanker</td>\n",
       "    </tr>\n",
       "    <tr>\n",
       "      <th>3</th>\n",
       "      <td>86</td>\n",
       "      <td>Aframax</td>\n",
       "      <td>1</td>\n",
       "      <td>Tanker</td>\n",
       "    </tr>\n",
       "    <tr>\n",
       "      <th>4</th>\n",
       "      <td>87</td>\n",
       "      <td>Panamax</td>\n",
       "      <td>1</td>\n",
       "      <td>Tanker</td>\n",
       "    </tr>\n",
       "  </tbody>\n",
       "</table>\n",
       "</div>"
      ],
      "text/plain": [
       "   vessel_class_id vessel_class_name  vessel_type_id vessel_type\n",
       "0               72      Post Panamax               3         Dry\n",
       "1               74           Panamax               3         Dry\n",
       "2               85           Suezmax               1      Tanker\n",
       "3               86           Aframax               1      Tanker\n",
       "4               87           Panamax               1      Tanker"
      ]
     },
     "execution_count": 30,
     "metadata": {},
     "output_type": "execute_result"
    }
   ],
   "source": [
    "get_vessel_classes('max')"
   ]
  },
  {
   "cell_type": "code",
   "execution_count": 31,
   "metadata": {
    "id": "M6_qgwzzQWCq"
   },
   "outputs": [
    {
     "data": {
      "text/html": [
       "<div>\n",
       "<style scoped>\n",
       "    .dataframe tbody tr th:only-of-type {\n",
       "        vertical-align: middle;\n",
       "    }\n",
       "\n",
       "    .dataframe tbody tr th {\n",
       "        vertical-align: top;\n",
       "    }\n",
       "\n",
       "    .dataframe thead th {\n",
       "        text-align: right;\n",
       "    }\n",
       "</style>\n",
       "<table border=\"1\" class=\"dataframe\">\n",
       "  <thead>\n",
       "    <tr style=\"text-align: right;\">\n",
       "      <th></th>\n",
       "      <th>vessel_class_id</th>\n",
       "      <th>vessel_class_name</th>\n",
       "      <th>vessel_type_id</th>\n",
       "      <th>vessel_type</th>\n",
       "    </tr>\n",
       "  </thead>\n",
       "  <tbody>\n",
       "    <tr>\n",
       "      <th>0</th>\n",
       "      <td>86</td>\n",
       "      <td>Aframax</td>\n",
       "      <td>1</td>\n",
       "      <td>Tanker</td>\n",
       "    </tr>\n",
       "  </tbody>\n",
       "</table>\n",
       "</div>"
      ],
      "text/plain": [
       "   vessel_class_id vessel_class_name  vessel_type_id vessel_type\n",
       "0               86           Aframax               1      Tanker"
      ]
     },
     "execution_count": 31,
     "metadata": {},
     "output_type": "execute_result"
    }
   ],
   "source": [
    "get_vessel_classes('Afra')"
   ]
  },
  {
   "cell_type": "markdown",
   "metadata": {
    "id": "hg2o136rQtXL"
   },
   "source": [
    "### Vessels"
   ]
  },
  {
   "cell_type": "markdown",
   "metadata": {
    "id": "QPwWSgvhQtXh"
   },
   "source": [
    "#### Get all avalable vessels"
   ]
  },
  {
   "cell_type": "code",
   "execution_count": 35,
   "metadata": {
    "colab": {
     "base_uri": "https://localhost:8080/"
    },
    "id": "6L3ory6rQtXh",
    "outputId": "230d2daa-6fe4-40b9-e5f9-fc2f1309efc8"
   },
   "outputs": [
    {
     "data": {
      "text/html": [
       "<div>\n",
       "<style scoped>\n",
       "    .dataframe tbody tr th:only-of-type {\n",
       "        vertical-align: middle;\n",
       "    }\n",
       "\n",
       "    .dataframe tbody tr th {\n",
       "        vertical-align: top;\n",
       "    }\n",
       "\n",
       "    .dataframe thead th {\n",
       "        text-align: right;\n",
       "    }\n",
       "</style>\n",
       "<table border=\"1\" class=\"dataframe\">\n",
       "  <thead>\n",
       "    <tr style=\"text-align: right;\">\n",
       "      <th></th>\n",
       "      <th>imo</th>\n",
       "      <th>vessel_name</th>\n",
       "    </tr>\n",
       "  </thead>\n",
       "  <tbody>\n",
       "    <tr>\n",
       "      <th>0</th>\n",
       "      <td>5137767</td>\n",
       "      <td>Captain H.A.Downing</td>\n",
       "    </tr>\n",
       "    <tr>\n",
       "      <th>1</th>\n",
       "      <td>5243009</td>\n",
       "      <td>Mount Vernon</td>\n",
       "    </tr>\n",
       "    <tr>\n",
       "      <th>2</th>\n",
       "      <td>5330412</td>\n",
       "      <td>Nio</td>\n",
       "    </tr>\n",
       "    <tr>\n",
       "      <th>3</th>\n",
       "      <td>6329044</td>\n",
       "      <td>Petersburg</td>\n",
       "    </tr>\n",
       "    <tr>\n",
       "      <th>4</th>\n",
       "      <td>6407585</td>\n",
       "      <td>Mount Washington</td>\n",
       "    </tr>\n",
       "    <tr>\n",
       "      <th>...</th>\n",
       "      <td>...</td>\n",
       "      <td>...</td>\n",
       "    </tr>\n",
       "    <tr>\n",
       "      <th>13699</th>\n",
       "      <td>9935454</td>\n",
       "      <td>Rich Rainforest</td>\n",
       "    </tr>\n",
       "    <tr>\n",
       "      <th>13700</th>\n",
       "      <td>9935466</td>\n",
       "      <td>Benefactor</td>\n",
       "    </tr>\n",
       "    <tr>\n",
       "      <th>13701</th>\n",
       "      <td>9936240</td>\n",
       "      <td>Emerald Putuo</td>\n",
       "    </tr>\n",
       "    <tr>\n",
       "      <th>13702</th>\n",
       "      <td>9939072</td>\n",
       "      <td>Forte Sao Marcelo</td>\n",
       "    </tr>\n",
       "    <tr>\n",
       "      <th>13703</th>\n",
       "      <td>9939084</td>\n",
       "      <td>Forte Dos Reis Magos</td>\n",
       "    </tr>\n",
       "  </tbody>\n",
       "</table>\n",
       "<p>13704 rows × 2 columns</p>\n",
       "</div>"
      ],
      "text/plain": [
       "           imo           vessel_name\n",
       "0      5137767   Captain H.A.Downing\n",
       "1      5243009          Mount Vernon\n",
       "2      5330412                   Nio\n",
       "3      6329044            Petersburg\n",
       "4      6407585      Mount Washington\n",
       "...        ...                   ...\n",
       "13699  9935454       Rich Rainforest\n",
       "13700  9935466            Benefactor\n",
       "13701  9936240         Emerald Putuo\n",
       "13702  9939072     Forte Sao Marcelo\n",
       "13703  9939084  Forte Dos Reis Magos\n",
       "\n",
       "[13704 rows x 2 columns]"
      ]
     },
     "execution_count": 35,
     "metadata": {},
     "output_type": "execute_result"
    }
   ],
   "source": [
    "get_vessels()"
   ]
  },
  {
   "cell_type": "markdown",
   "metadata": {
    "id": "tpb_2pIiQtXi"
   },
   "source": [
    "#### Get avalable vessels using VesselFilter"
   ]
  },
  {
   "cell_type": "code",
   "execution_count": 34,
   "metadata": {
    "colab": {
     "base_uri": "https://localhost:8080/"
    },
    "id": "01kumx_8QtXj",
    "outputId": "19ad8e92-5519-42a3-f956-bfa75eb0dc80"
   },
   "outputs": [
    {
     "data": {
      "text/html": [
       "<div>\n",
       "<style scoped>\n",
       "    .dataframe tbody tr th:only-of-type {\n",
       "        vertical-align: middle;\n",
       "    }\n",
       "\n",
       "    .dataframe tbody tr th {\n",
       "        vertical-align: top;\n",
       "    }\n",
       "\n",
       "    .dataframe thead th {\n",
       "        text-align: right;\n",
       "    }\n",
       "</style>\n",
       "<table border=\"1\" class=\"dataframe\">\n",
       "  <thead>\n",
       "    <tr style=\"text-align: right;\">\n",
       "      <th></th>\n",
       "      <th>imo</th>\n",
       "      <th>vessel_name</th>\n",
       "    </tr>\n",
       "  </thead>\n",
       "  <tbody>\n",
       "    <tr>\n",
       "      <th>0</th>\n",
       "      <td>9412036</td>\n",
       "      <td>Signal Alpha</td>\n",
       "    </tr>\n",
       "    <tr>\n",
       "      <th>1</th>\n",
       "      <td>9773923</td>\n",
       "      <td>Signal Maya</td>\n",
       "    </tr>\n",
       "  </tbody>\n",
       "</table>\n",
       "</div>"
      ],
      "text/plain": [
       "       imo   vessel_name\n",
       "0  9412036  Signal Alpha\n",
       "1  9773923   Signal Maya"
      ]
     },
     "execution_count": 34,
     "metadata": {},
     "output_type": "execute_result"
    }
   ],
   "source": [
    "get_vessels('Signal')"
   ]
  }
 ],
 "metadata": {
  "colab": {
   "collapsed_sections": [],
   "name": "ExtendVoyageApi.ipynb",
   "provenance": []
  },
  "kernelspec": {
   "display_name": "Python 3",
   "language": "python",
   "name": "python3"
  },
  "language_info": {
   "codemirror_mode": {
    "name": "ipython",
    "version": 3
   },
   "file_extension": ".py",
   "mimetype": "text/x-python",
   "name": "python",
   "nbconvert_exporter": "python",
   "pygments_lexer": "ipython3",
   "version": "3.8.7"
  }
 },
 "nbformat": 4,
 "nbformat_minor": 1
}
