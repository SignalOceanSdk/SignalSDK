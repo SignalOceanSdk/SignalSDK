{
 "cells": [
  {
   "cell_type": "markdown",
   "metadata": {
    "id": "rUv4xzHv9S4p"
   },
   "source": [
    "# Get available vessel types, vessel classes, vessels\n",
    "\n",
    "## Run this example in [Colab](https://colab.research.google.com/github/SignalOceanSdk/SignalSDK/blob/master/docs/examples/jupyter/VoyagesAPI/Get%20available%20vessel%20types%2C%20vessel%20classes%2C%20vessels.ipynb)"
   ]
  },
  {
   "cell_type": "markdown",
   "metadata": {
    "id": "8QK_iVn3921k"
   },
   "source": [
    "Get your personal Signal Ocean API subscription key (acquired [here](https://apis.signalocean.com/profile)) and replace it below:"
   ]
  },
  {
   "cell_type": "code",
   "execution_count": 15,
   "metadata": {
    "id": "6R3E9OEF9KDF"
   },
   "outputs": [],
   "source": [
    "signal_ocean_api_key = '' # replace with your subscription key"
   ]
  },
  {
   "cell_type": "markdown",
   "metadata": {
    "id": "P58W2iZxKMVl"
   },
   "source": [
    "## Setup"
   ]
  },
  {
   "cell_type": "code",
   "execution_count": 4,
   "metadata": {
    "colab": {
     "base_uri": "https://localhost:8080/"
    },
    "id": "sEJOCYf5KxMJ",
    "outputId": "86047ac2-6e6f-46f1-be20-737c06ce9e5a"
   },
   "outputs": [],
   "source": [
    "%%capture\n",
    "!pip install signal-ocean\n",
    "from signal_ocean import Connection\n",
    "from signal_ocean.voyages import VoyagesAPI\n",
    "from signal_ocean.voyages import Vessel, VesselFilter\n",
    "from signal_ocean.voyages import VesselType, VesselTypeFilter\n",
    "from signal_ocean.voyages import VesselClass, VesselClassFilter\n",
    "import pandas as pd"
   ]
  },
  {
   "cell_type": "code",
   "execution_count": 6,
   "metadata": {
    "id": "-6VSeyGMKWkp"
   },
   "outputs": [],
   "source": [
    "connection = Connection(signal_ocean_api_key)\n",
    "api = VoyagesAPI(connection)"
   ]
  },
  {
   "cell_type": "markdown",
   "metadata": {},
   "source": [
    "## Vessel Filter Functions"
   ]
  },
  {
   "cell_type": "code",
   "execution_count": 2,
   "metadata": {},
   "outputs": [],
   "source": [
    "def get_vessel_types(name_like = None):\n",
    "    \n",
    "    if name_like:\n",
    "        vessel_types = api.get_vessel_types(VesselTypeFilter(name_like))\n",
    "    else:\n",
    "        vessel_types = api.get_vessel_types()\n",
    "    return pd.DataFrame(v.__dict__ for v in vessel_types) \n",
    "\n",
    "def get_vessel_classes(name_like = None):\n",
    "    \n",
    "    if name_like:\n",
    "        vessel_classes = api.get_vessel_classes(VesselClassFilter(name_like))\n",
    "    else:\n",
    "        vessel_classes = api.get_vessel_classes()\n",
    "    return pd.DataFrame(v.__dict__ for v in vessel_classes) \n",
    "\n",
    "def get_vessels(name_like = None):\n",
    "    \n",
    "    if name_like:\n",
    "        vessels = api.get_imos(VesselFilter(name_like))\n",
    "    else:\n",
    "        vessels = api.get_imos()\n",
    "    return pd.DataFrame(v.__dict__ for v in vessels) "
   ]
  },
  {
   "cell_type": "markdown",
   "metadata": {
    "id": "WUFKmRlAPq5Y"
   },
   "source": [
    "## Results"
   ]
  },
  {
   "cell_type": "markdown",
   "metadata": {
    "id": "MrMsgm4bPw5P"
   },
   "source": [
    "### VesselTypes"
   ]
  },
  {
   "cell_type": "markdown",
   "metadata": {
    "id": "KAKATcarP7xU"
   },
   "source": [
    "#### Get all avalable vessel types"
   ]
  },
  {
   "cell_type": "code",
   "execution_count": 3,
   "metadata": {
    "colab": {
     "base_uri": "https://localhost:8080/"
    },
    "id": "Fim8U59-QABE",
    "outputId": "ba7ae19c-f0ac-438f-bab2-b651fd1267e9"
   },
   "outputs": [
    {
     "data": {
      "text/html": [
       "<div>\n",
       "<style scoped>\n",
       "    .dataframe tbody tr th:only-of-type {\n",
       "        vertical-align: middle;\n",
       "    }\n",
       "\n",
       "    .dataframe tbody tr th {\n",
       "        vertical-align: top;\n",
       "    }\n",
       "\n",
       "    .dataframe thead th {\n",
       "        text-align: right;\n",
       "    }\n",
       "</style>\n",
       "<table border=\"1\" class=\"dataframe\">\n",
       "  <thead>\n",
       "    <tr style=\"text-align: right;\">\n",
       "      <th></th>\n",
       "      <th>vessel_type_id</th>\n",
       "      <th>vessel_type</th>\n",
       "    </tr>\n",
       "  </thead>\n",
       "  <tbody>\n",
       "    <tr>\n",
       "      <th>0</th>\n",
       "      <td>1</td>\n",
       "      <td>Tanker</td>\n",
       "    </tr>\n",
       "    <tr>\n",
       "      <th>1</th>\n",
       "      <td>3</td>\n",
       "      <td>Dry</td>\n",
       "    </tr>\n",
       "    <tr>\n",
       "      <th>2</th>\n",
       "      <td>5</td>\n",
       "      <td>LNG</td>\n",
       "    </tr>\n",
       "    <tr>\n",
       "      <th>3</th>\n",
       "      <td>6</td>\n",
       "      <td>LPG</td>\n",
       "    </tr>\n",
       "  </tbody>\n",
       "</table>\n",
       "</div>"
      ],
      "text/plain": [
       "   vessel_type_id vessel_type\n",
       "0               1      Tanker\n",
       "1               3         Dry\n",
       "2               5         LNG\n",
       "3               6         LPG"
      ]
     },
     "execution_count": 3,
     "metadata": {},
     "output_type": "execute_result"
    }
   ],
   "source": [
    "get_vessel_types()"
   ]
  },
  {
   "cell_type": "markdown",
   "metadata": {
    "id": "Kie06_0WQGXC"
   },
   "source": [
    "#### Get avalable vessel types using VesselTypeFilter"
   ]
  },
  {
   "cell_type": "code",
   "execution_count": 4,
   "metadata": {
    "colab": {
     "base_uri": "https://localhost:8080/"
    },
    "id": "v28_eDpNPj-d",
    "outputId": "9e65d432-6313-432e-c5de-8bf6622b6d08"
   },
   "outputs": [
    {
     "data": {
      "text/html": [
       "<div>\n",
       "<style scoped>\n",
       "    .dataframe tbody tr th:only-of-type {\n",
       "        vertical-align: middle;\n",
       "    }\n",
       "\n",
       "    .dataframe tbody tr th {\n",
       "        vertical-align: top;\n",
       "    }\n",
       "\n",
       "    .dataframe thead th {\n",
       "        text-align: right;\n",
       "    }\n",
       "</style>\n",
       "<table border=\"1\" class=\"dataframe\">\n",
       "  <thead>\n",
       "    <tr style=\"text-align: right;\">\n",
       "      <th></th>\n",
       "      <th>vessel_type_id</th>\n",
       "      <th>vessel_type</th>\n",
       "    </tr>\n",
       "  </thead>\n",
       "  <tbody>\n",
       "    <tr>\n",
       "      <th>0</th>\n",
       "      <td>1</td>\n",
       "      <td>Tanker</td>\n",
       "    </tr>\n",
       "  </tbody>\n",
       "</table>\n",
       "</div>"
      ],
      "text/plain": [
       "   vessel_type_id vessel_type\n",
       "0               1      Tanker"
      ]
     },
     "execution_count": 4,
     "metadata": {},
     "output_type": "execute_result"
    }
   ],
   "source": [
    "get_vessel_types('Tank')"
   ]
  },
  {
   "cell_type": "markdown",
   "metadata": {
    "id": "dWwHrJNFQWCm"
   },
   "source": [
    "### VesselClasses"
   ]
  },
  {
   "cell_type": "markdown",
   "metadata": {
    "id": "KEEg55JIQWCn"
   },
   "source": [
    "#### Get all avalable vessel classes"
   ]
  },
  {
   "cell_type": "code",
   "execution_count": 5,
   "metadata": {
    "colab": {
     "base_uri": "https://localhost:8080/"
    },
    "id": "TtkEH7fKQWCo",
    "outputId": "dfac59b4-3d39-4327-a448-d1615336aff1"
   },
   "outputs": [
    {
     "data": {
      "text/html": [
       "<div>\n",
       "<style scoped>\n",
       "    .dataframe tbody tr th:only-of-type {\n",
       "        vertical-align: middle;\n",
       "    }\n",
       "\n",
       "    .dataframe tbody tr th {\n",
       "        vertical-align: top;\n",
       "    }\n",
       "\n",
       "    .dataframe thead th {\n",
       "        text-align: right;\n",
       "    }\n",
       "</style>\n",
       "<table border=\"1\" class=\"dataframe\">\n",
       "  <thead>\n",
       "    <tr style=\"text-align: right;\">\n",
       "      <th></th>\n",
       "      <th>vessel_class_id</th>\n",
       "      <th>vessel_class_name</th>\n",
       "      <th>vessel_type_id</th>\n",
       "      <th>vessel_type</th>\n",
       "    </tr>\n",
       "  </thead>\n",
       "  <tbody>\n",
       "    <tr>\n",
       "      <th>0</th>\n",
       "      <td>60</td>\n",
       "      <td>VLGC</td>\n",
       "      <td>6</td>\n",
       "      <td>LPG</td>\n",
       "    </tr>\n",
       "    <tr>\n",
       "      <th>1</th>\n",
       "      <td>61</td>\n",
       "      <td>Midsize/LGC</td>\n",
       "      <td>6</td>\n",
       "      <td>LPG</td>\n",
       "    </tr>\n",
       "    <tr>\n",
       "      <th>2</th>\n",
       "      <td>62</td>\n",
       "      <td>Handy</td>\n",
       "      <td>6</td>\n",
       "      <td>LPG</td>\n",
       "    </tr>\n",
       "    <tr>\n",
       "      <th>3</th>\n",
       "      <td>63</td>\n",
       "      <td>Small</td>\n",
       "      <td>6</td>\n",
       "      <td>LPG</td>\n",
       "    </tr>\n",
       "    <tr>\n",
       "      <th>4</th>\n",
       "      <td>69</td>\n",
       "      <td>VLOC</td>\n",
       "      <td>3</td>\n",
       "      <td>Dry</td>\n",
       "    </tr>\n",
       "    <tr>\n",
       "      <th>5</th>\n",
       "      <td>70</td>\n",
       "      <td>Capesize</td>\n",
       "      <td>3</td>\n",
       "      <td>Dry</td>\n",
       "    </tr>\n",
       "    <tr>\n",
       "      <th>6</th>\n",
       "      <td>72</td>\n",
       "      <td>Post Panamax</td>\n",
       "      <td>3</td>\n",
       "      <td>Dry</td>\n",
       "    </tr>\n",
       "    <tr>\n",
       "      <th>7</th>\n",
       "      <td>74</td>\n",
       "      <td>Panamax</td>\n",
       "      <td>3</td>\n",
       "      <td>Dry</td>\n",
       "    </tr>\n",
       "    <tr>\n",
       "      <th>8</th>\n",
       "      <td>75</td>\n",
       "      <td>Supramax</td>\n",
       "      <td>3</td>\n",
       "      <td>Dry</td>\n",
       "    </tr>\n",
       "    <tr>\n",
       "      <th>9</th>\n",
       "      <td>76</td>\n",
       "      <td>Handymax</td>\n",
       "      <td>3</td>\n",
       "      <td>Dry</td>\n",
       "    </tr>\n",
       "    <tr>\n",
       "      <th>10</th>\n",
       "      <td>77</td>\n",
       "      <td>Handysize</td>\n",
       "      <td>3</td>\n",
       "      <td>Dry</td>\n",
       "    </tr>\n",
       "    <tr>\n",
       "      <th>11</th>\n",
       "      <td>84</td>\n",
       "      <td>VLCC</td>\n",
       "      <td>1</td>\n",
       "      <td>Tanker</td>\n",
       "    </tr>\n",
       "    <tr>\n",
       "      <th>12</th>\n",
       "      <td>85</td>\n",
       "      <td>Suezmax</td>\n",
       "      <td>1</td>\n",
       "      <td>Tanker</td>\n",
       "    </tr>\n",
       "    <tr>\n",
       "      <th>13</th>\n",
       "      <td>86</td>\n",
       "      <td>Aframax</td>\n",
       "      <td>1</td>\n",
       "      <td>Tanker</td>\n",
       "    </tr>\n",
       "    <tr>\n",
       "      <th>14</th>\n",
       "      <td>87</td>\n",
       "      <td>Panamax</td>\n",
       "      <td>1</td>\n",
       "      <td>Tanker</td>\n",
       "    </tr>\n",
       "    <tr>\n",
       "      <th>15</th>\n",
       "      <td>88</td>\n",
       "      <td>MR2</td>\n",
       "      <td>1</td>\n",
       "      <td>Tanker</td>\n",
       "    </tr>\n",
       "    <tr>\n",
       "      <th>16</th>\n",
       "      <td>89</td>\n",
       "      <td>MR1</td>\n",
       "      <td>1</td>\n",
       "      <td>Tanker</td>\n",
       "    </tr>\n",
       "    <tr>\n",
       "      <th>17</th>\n",
       "      <td>90</td>\n",
       "      <td>Small</td>\n",
       "      <td>1</td>\n",
       "      <td>Tanker</td>\n",
       "    </tr>\n",
       "    <tr>\n",
       "      <th>18</th>\n",
       "      <td>91</td>\n",
       "      <td>LNG</td>\n",
       "      <td>5</td>\n",
       "      <td>LNG</td>\n",
       "    </tr>\n",
       "    <tr>\n",
       "      <th>19</th>\n",
       "      <td>92</td>\n",
       "      <td>Small</td>\n",
       "      <td>3</td>\n",
       "      <td>Dry</td>\n",
       "    </tr>\n",
       "  </tbody>\n",
       "</table>\n",
       "</div>"
      ],
      "text/plain": [
       "    vessel_class_id vessel_class_name  vessel_type_id vessel_type\n",
       "0                60              VLGC               6         LPG\n",
       "1                61       Midsize/LGC               6         LPG\n",
       "2                62             Handy               6         LPG\n",
       "3                63             Small               6         LPG\n",
       "4                69              VLOC               3         Dry\n",
       "5                70          Capesize               3         Dry\n",
       "6                72      Post Panamax               3         Dry\n",
       "7                74           Panamax               3         Dry\n",
       "8                75          Supramax               3         Dry\n",
       "9                76          Handymax               3         Dry\n",
       "10               77         Handysize               3         Dry\n",
       "11               84              VLCC               1      Tanker\n",
       "12               85           Suezmax               1      Tanker\n",
       "13               86           Aframax               1      Tanker\n",
       "14               87           Panamax               1      Tanker\n",
       "15               88               MR2               1      Tanker\n",
       "16               89               MR1               1      Tanker\n",
       "17               90             Small               1      Tanker\n",
       "18               91               LNG               5         LNG\n",
       "19               92             Small               3         Dry"
      ]
     },
     "execution_count": 5,
     "metadata": {},
     "output_type": "execute_result"
    }
   ],
   "source": [
    "get_vessel_classes()"
   ]
  },
  {
   "cell_type": "markdown",
   "metadata": {
    "id": "0vM3zEAvQWCp"
   },
   "source": [
    "#### Get avalable vessel classes using VesselClassFilter"
   ]
  },
  {
   "cell_type": "code",
   "execution_count": 6,
   "metadata": {
    "colab": {
     "base_uri": "https://localhost:8080/"
    },
    "id": "r-7DtDWEQWCp",
    "outputId": "6e56791c-f3e7-494f-99ee-b4de037e4c98"
   },
   "outputs": [
    {
     "data": {
      "text/html": [
       "<div>\n",
       "<style scoped>\n",
       "    .dataframe tbody tr th:only-of-type {\n",
       "        vertical-align: middle;\n",
       "    }\n",
       "\n",
       "    .dataframe tbody tr th {\n",
       "        vertical-align: top;\n",
       "    }\n",
       "\n",
       "    .dataframe thead th {\n",
       "        text-align: right;\n",
       "    }\n",
       "</style>\n",
       "<table border=\"1\" class=\"dataframe\">\n",
       "  <thead>\n",
       "    <tr style=\"text-align: right;\">\n",
       "      <th></th>\n",
       "      <th>vessel_class_id</th>\n",
       "      <th>vessel_class_name</th>\n",
       "      <th>vessel_type_id</th>\n",
       "      <th>vessel_type</th>\n",
       "    </tr>\n",
       "  </thead>\n",
       "  <tbody>\n",
       "    <tr>\n",
       "      <th>0</th>\n",
       "      <td>72</td>\n",
       "      <td>Post Panamax</td>\n",
       "      <td>3</td>\n",
       "      <td>Dry</td>\n",
       "    </tr>\n",
       "    <tr>\n",
       "      <th>1</th>\n",
       "      <td>74</td>\n",
       "      <td>Panamax</td>\n",
       "      <td>3</td>\n",
       "      <td>Dry</td>\n",
       "    </tr>\n",
       "    <tr>\n",
       "      <th>2</th>\n",
       "      <td>75</td>\n",
       "      <td>Supramax</td>\n",
       "      <td>3</td>\n",
       "      <td>Dry</td>\n",
       "    </tr>\n",
       "    <tr>\n",
       "      <th>3</th>\n",
       "      <td>76</td>\n",
       "      <td>Handymax</td>\n",
       "      <td>3</td>\n",
       "      <td>Dry</td>\n",
       "    </tr>\n",
       "    <tr>\n",
       "      <th>4</th>\n",
       "      <td>85</td>\n",
       "      <td>Suezmax</td>\n",
       "      <td>1</td>\n",
       "      <td>Tanker</td>\n",
       "    </tr>\n",
       "    <tr>\n",
       "      <th>5</th>\n",
       "      <td>86</td>\n",
       "      <td>Aframax</td>\n",
       "      <td>1</td>\n",
       "      <td>Tanker</td>\n",
       "    </tr>\n",
       "    <tr>\n",
       "      <th>6</th>\n",
       "      <td>87</td>\n",
       "      <td>Panamax</td>\n",
       "      <td>1</td>\n",
       "      <td>Tanker</td>\n",
       "    </tr>\n",
       "  </tbody>\n",
       "</table>\n",
       "</div>"
      ],
      "text/plain": [
       "   vessel_class_id vessel_class_name  vessel_type_id vessel_type\n",
       "0               72      Post Panamax               3         Dry\n",
       "1               74           Panamax               3         Dry\n",
       "2               75          Supramax               3         Dry\n",
       "3               76          Handymax               3         Dry\n",
       "4               85           Suezmax               1      Tanker\n",
       "5               86           Aframax               1      Tanker\n",
       "6               87           Panamax               1      Tanker"
      ]
     },
     "execution_count": 6,
     "metadata": {},
     "output_type": "execute_result"
    }
   ],
   "source": [
    "get_vessel_classes('max')"
   ]
  },
  {
   "cell_type": "code",
   "execution_count": 7,
   "metadata": {
    "id": "M6_qgwzzQWCq"
   },
   "outputs": [
    {
     "data": {
      "text/html": [
       "<div>\n",
       "<style scoped>\n",
       "    .dataframe tbody tr th:only-of-type {\n",
       "        vertical-align: middle;\n",
       "    }\n",
       "\n",
       "    .dataframe tbody tr th {\n",
       "        vertical-align: top;\n",
       "    }\n",
       "\n",
       "    .dataframe thead th {\n",
       "        text-align: right;\n",
       "    }\n",
       "</style>\n",
       "<table border=\"1\" class=\"dataframe\">\n",
       "  <thead>\n",
       "    <tr style=\"text-align: right;\">\n",
       "      <th></th>\n",
       "      <th>vessel_class_id</th>\n",
       "      <th>vessel_class_name</th>\n",
       "      <th>vessel_type_id</th>\n",
       "      <th>vessel_type</th>\n",
       "    </tr>\n",
       "  </thead>\n",
       "  <tbody>\n",
       "    <tr>\n",
       "      <th>0</th>\n",
       "      <td>86</td>\n",
       "      <td>Aframax</td>\n",
       "      <td>1</td>\n",
       "      <td>Tanker</td>\n",
       "    </tr>\n",
       "  </tbody>\n",
       "</table>\n",
       "</div>"
      ],
      "text/plain": [
       "   vessel_class_id vessel_class_name  vessel_type_id vessel_type\n",
       "0               86           Aframax               1      Tanker"
      ]
     },
     "execution_count": 7,
     "metadata": {},
     "output_type": "execute_result"
    }
   ],
   "source": [
    "get_vessel_classes('Afra')"
   ]
  },
  {
   "cell_type": "markdown",
   "metadata": {
    "id": "hg2o136rQtXL"
   },
   "source": [
    "### Vessels"
   ]
  },
  {
   "cell_type": "markdown",
   "metadata": {
    "id": "QPwWSgvhQtXh"
   },
   "source": [
    "#### Get all avalable vessels"
   ]
  },
  {
   "cell_type": "code",
   "execution_count": 8,
   "metadata": {
    "colab": {
     "base_uri": "https://localhost:8080/"
    },
    "id": "6L3ory6rQtXh",
    "outputId": "230d2daa-6fe4-40b9-e5f9-fc2f1309efc8"
   },
   "outputs": [
    {
     "data": {
      "text/html": [
       "<div>\n",
       "<style scoped>\n",
       "    .dataframe tbody tr th:only-of-type {\n",
       "        vertical-align: middle;\n",
       "    }\n",
       "\n",
       "    .dataframe tbody tr th {\n",
       "        vertical-align: top;\n",
       "    }\n",
       "\n",
       "    .dataframe thead th {\n",
       "        text-align: right;\n",
       "    }\n",
       "</style>\n",
       "<table border=\"1\" class=\"dataframe\">\n",
       "  <thead>\n",
       "    <tr style=\"text-align: right;\">\n",
       "      <th></th>\n",
       "      <th>imo</th>\n",
       "      <th>vessel_name</th>\n",
       "    </tr>\n",
       "  </thead>\n",
       "  <tbody>\n",
       "    <tr>\n",
       "      <th>0</th>\n",
       "      <td>1013391</td>\n",
       "      <td>Hyundai Vietnam S560</td>\n",
       "    </tr>\n",
       "    <tr>\n",
       "      <th>1</th>\n",
       "      <td>1013638</td>\n",
       "      <td>Imabari Saijo 8256</td>\n",
       "    </tr>\n",
       "    <tr>\n",
       "      <th>2</th>\n",
       "      <td>1013781</td>\n",
       "      <td>Eems Boxer</td>\n",
       "    </tr>\n",
       "    <tr>\n",
       "      <th>3</th>\n",
       "      <td>1013793</td>\n",
       "      <td>Eems Bulldog</td>\n",
       "    </tr>\n",
       "    <tr>\n",
       "      <th>4</th>\n",
       "      <td>1013808</td>\n",
       "      <td>Eems Balder</td>\n",
       "    </tr>\n",
       "    <tr>\n",
       "      <th>...</th>\n",
       "      <td>...</td>\n",
       "      <td>...</td>\n",
       "    </tr>\n",
       "    <tr>\n",
       "      <th>49820</th>\n",
       "      <td>9999802</td>\n",
       "      <td>Tsuneishi Zhoushan Ss-364</td>\n",
       "    </tr>\n",
       "    <tr>\n",
       "      <th>49821</th>\n",
       "      <td>9999814</td>\n",
       "      <td>Tsuneishi Zhoushan Ss-375</td>\n",
       "    </tr>\n",
       "    <tr>\n",
       "      <th>49822</th>\n",
       "      <td>9999826</td>\n",
       "      <td>Tsuneishi Zhoushan Ss-376</td>\n",
       "    </tr>\n",
       "    <tr>\n",
       "      <th>49823</th>\n",
       "      <td>9999981</td>\n",
       "      <td>Yard: Hyundai Samho Hull: 8206</td>\n",
       "    </tr>\n",
       "    <tr>\n",
       "      <th>49824</th>\n",
       "      <td>9999993</td>\n",
       "      <td>French Warship</td>\n",
       "    </tr>\n",
       "  </tbody>\n",
       "</table>\n",
       "<p>49825 rows × 2 columns</p>\n",
       "</div>"
      ],
      "text/plain": [
       "           imo                     vessel_name\n",
       "0      1013391            Hyundai Vietnam S560\n",
       "1      1013638              Imabari Saijo 8256\n",
       "2      1013781                      Eems Boxer\n",
       "3      1013793                    Eems Bulldog\n",
       "4      1013808                     Eems Balder\n",
       "...        ...                             ...\n",
       "49820  9999802       Tsuneishi Zhoushan Ss-364\n",
       "49821  9999814       Tsuneishi Zhoushan Ss-375\n",
       "49822  9999826       Tsuneishi Zhoushan Ss-376\n",
       "49823  9999981  Yard: Hyundai Samho Hull: 8206\n",
       "49824  9999993                  French Warship\n",
       "\n",
       "[49825 rows x 2 columns]"
      ]
     },
     "execution_count": 8,
     "metadata": {},
     "output_type": "execute_result"
    }
   ],
   "source": [
    "get_vessels()"
   ]
  },
  {
   "cell_type": "markdown",
   "metadata": {
    "id": "tpb_2pIiQtXi"
   },
   "source": [
    "#### Get avalable vessels using VesselFilter"
   ]
  },
  {
   "cell_type": "code",
   "execution_count": 10,
   "metadata": {
    "colab": {
     "base_uri": "https://localhost:8080/"
    },
    "id": "01kumx_8QtXj",
    "outputId": "19ad8e92-5519-42a3-f956-bfa75eb0dc80"
   },
   "outputs": [
    {
     "data": {
      "text/html": [
       "<div>\n",
       "<style scoped>\n",
       "    .dataframe tbody tr th:only-of-type {\n",
       "        vertical-align: middle;\n",
       "    }\n",
       "\n",
       "    .dataframe tbody tr th {\n",
       "        vertical-align: top;\n",
       "    }\n",
       "\n",
       "    .dataframe thead th {\n",
       "        text-align: right;\n",
       "    }\n",
       "</style>\n",
       "<table border=\"1\" class=\"dataframe\">\n",
       "  <thead>\n",
       "    <tr style=\"text-align: right;\">\n",
       "      <th></th>\n",
       "      <th>imo</th>\n",
       "      <th>vessel_name</th>\n",
       "    </tr>\n",
       "  </thead>\n",
       "  <tbody>\n",
       "    <tr>\n",
       "      <th>0</th>\n",
       "      <td>7601451</td>\n",
       "      <td>Firstec</td>\n",
       "    </tr>\n",
       "    <tr>\n",
       "      <th>1</th>\n",
       "      <td>8204406</td>\n",
       "      <td>First Clarity</td>\n",
       "    </tr>\n",
       "    <tr>\n",
       "      <th>2</th>\n",
       "      <td>8307404</td>\n",
       "      <td>Firstsea</td>\n",
       "    </tr>\n",
       "    <tr>\n",
       "      <th>3</th>\n",
       "      <td>8608353</td>\n",
       "      <td>Medelin First</td>\n",
       "    </tr>\n",
       "    <tr>\n",
       "      <th>4</th>\n",
       "      <td>8711007</td>\n",
       "      <td>PSU First</td>\n",
       "    </tr>\n",
       "    <tr>\n",
       "      <th>5</th>\n",
       "      <td>9071727</td>\n",
       "      <td>First Kasih</td>\n",
       "    </tr>\n",
       "    <tr>\n",
       "      <th>6</th>\n",
       "      <td>9115690</td>\n",
       "      <td>Guofeng First</td>\n",
       "    </tr>\n",
       "    <tr>\n",
       "      <th>7</th>\n",
       "      <td>9124108</td>\n",
       "      <td>First  Ai</td>\n",
       "    </tr>\n",
       "    <tr>\n",
       "      <th>8</th>\n",
       "      <td>9151242</td>\n",
       "      <td>Firstec</td>\n",
       "    </tr>\n",
       "    <tr>\n",
       "      <th>9</th>\n",
       "      <td>9197129</td>\n",
       "      <td>First Bridge</td>\n",
       "    </tr>\n",
       "    <tr>\n",
       "      <th>10</th>\n",
       "      <td>9266140</td>\n",
       "      <td>First Brother</td>\n",
       "    </tr>\n",
       "    <tr>\n",
       "      <th>11</th>\n",
       "      <td>9330056</td>\n",
       "      <td>Star First</td>\n",
       "    </tr>\n",
       "    <tr>\n",
       "      <th>12</th>\n",
       "      <td>9357901</td>\n",
       "      <td>First Angel</td>\n",
       "    </tr>\n",
       "    <tr>\n",
       "      <th>13</th>\n",
       "      <td>9473119</td>\n",
       "      <td>Harbour First</td>\n",
       "    </tr>\n",
       "    <tr>\n",
       "      <th>14</th>\n",
       "      <td>9520728</td>\n",
       "      <td>Shagangfirst Star</td>\n",
       "    </tr>\n",
       "    <tr>\n",
       "      <th>15</th>\n",
       "      <td>9567752</td>\n",
       "      <td>First Lion</td>\n",
       "    </tr>\n",
       "    <tr>\n",
       "      <th>16</th>\n",
       "      <td>9713909</td>\n",
       "      <td>Glory First</td>\n",
       "    </tr>\n",
       "    <tr>\n",
       "      <th>17</th>\n",
       "      <td>9767405</td>\n",
       "      <td>PSU First</td>\n",
       "    </tr>\n",
       "    <tr>\n",
       "      <th>18</th>\n",
       "      <td>9772864</td>\n",
       "      <td>RGL First</td>\n",
       "    </tr>\n",
       "    <tr>\n",
       "      <th>19</th>\n",
       "      <td>9782247</td>\n",
       "      <td>First Sky</td>\n",
       "    </tr>\n",
       "    <tr>\n",
       "      <th>20</th>\n",
       "      <td>9856139</td>\n",
       "      <td>BLC First</td>\n",
       "    </tr>\n",
       "    <tr>\n",
       "      <th>21</th>\n",
       "      <td>9864083</td>\n",
       "      <td>First Angelus</td>\n",
       "    </tr>\n",
       "    <tr>\n",
       "      <th>22</th>\n",
       "      <td>9871775</td>\n",
       "      <td>First Phoenix</td>\n",
       "    </tr>\n",
       "    <tr>\n",
       "      <th>23</th>\n",
       "      <td>9908243</td>\n",
       "      <td>New First</td>\n",
       "    </tr>\n",
       "    <tr>\n",
       "      <th>24</th>\n",
       "      <td>9911422</td>\n",
       "      <td>First Dyquem</td>\n",
       "    </tr>\n",
       "    <tr>\n",
       "      <th>25</th>\n",
       "      <td>9920667</td>\n",
       "      <td>First Eternity</td>\n",
       "    </tr>\n",
       "    <tr>\n",
       "      <th>26</th>\n",
       "      <td>9922691</td>\n",
       "      <td>First Penguin</td>\n",
       "    </tr>\n",
       "    <tr>\n",
       "      <th>27</th>\n",
       "      <td>9933250</td>\n",
       "      <td>First Margaux</td>\n",
       "    </tr>\n",
       "    <tr>\n",
       "      <th>28</th>\n",
       "      <td>9956159</td>\n",
       "      <td>Apollo First</td>\n",
       "    </tr>\n",
       "    <tr>\n",
       "      <th>29</th>\n",
       "      <td>9974084</td>\n",
       "      <td>First Falcon</td>\n",
       "    </tr>\n",
       "    <tr>\n",
       "      <th>30</th>\n",
       "      <td>9982665</td>\n",
       "      <td>Emc First</td>\n",
       "    </tr>\n",
       "  </tbody>\n",
       "</table>\n",
       "</div>"
      ],
      "text/plain": [
       "        imo        vessel_name\n",
       "0   7601451            Firstec\n",
       "1   8204406      First Clarity\n",
       "2   8307404           Firstsea\n",
       "3   8608353      Medelin First\n",
       "4   8711007          PSU First\n",
       "5   9071727        First Kasih\n",
       "6   9115690      Guofeng First\n",
       "7   9124108          First  Ai\n",
       "8   9151242            Firstec\n",
       "9   9197129       First Bridge\n",
       "10  9266140      First Brother\n",
       "11  9330056         Star First\n",
       "12  9357901        First Angel\n",
       "13  9473119      Harbour First\n",
       "14  9520728  Shagangfirst Star\n",
       "15  9567752         First Lion\n",
       "16  9713909        Glory First\n",
       "17  9767405          PSU First\n",
       "18  9772864          RGL First\n",
       "19  9782247          First Sky\n",
       "20  9856139          BLC First\n",
       "21  9864083      First Angelus\n",
       "22  9871775      First Phoenix\n",
       "23  9908243          New First\n",
       "24  9911422       First Dyquem\n",
       "25  9920667     First Eternity\n",
       "26  9922691      First Penguin\n",
       "27  9933250      First Margaux\n",
       "28  9956159       Apollo First\n",
       "29  9974084       First Falcon\n",
       "30  9982665          Emc First"
      ]
     },
     "execution_count": 10,
     "metadata": {},
     "output_type": "execute_result"
    }
   ],
   "source": [
    "get_vessels('First')"
   ]
  }
 ],
 "metadata": {
  "colab": {
   "collapsed_sections": [],
   "name": "ExtendVoyageApi.ipynb",
   "provenance": []
  },
  "kernelspec": {
   "display_name": "Python 3 (ipykernel)",
   "language": "python",
   "name": "python3"
  },
  "language_info": {
   "codemirror_mode": {
    "name": "ipython",
    "version": 3
   },
   "file_extension": ".py",
   "mimetype": "text/x-python",
   "name": "python",
   "nbconvert_exporter": "python",
   "pygments_lexer": "ipython3",
   "version": "3.8.12"
  }
 },
 "nbformat": 4,
 "nbformat_minor": 4
}
