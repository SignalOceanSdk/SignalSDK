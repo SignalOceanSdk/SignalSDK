{
 "cells": [
  {
   "cell_type": "markdown",
   "metadata": {
    "id": "HzvBnaNeSoix"
   },
   "source": [
    "# Voyages API Voyages Data Like Use Case\n",
    "\n",
    "## Run this example in [Colab](https://colab.research.google.com/github/SignalOceanSdk/SignalSDK/blob/master/docs/examples/jupyter/VoyagesAPI/VoyagesAPI-VoyagesDataLike.ipynb). "
   ]
  },
  {
   "cell_type": "markdown",
   "metadata": {
    "id": "vcLG6o5rSoi2"
   },
   "source": [
    "A Voyage is defined as a sequence of Load operations followed by a sequence of Discharges. Users of **Signal Ocean Platform** interface with the concept of a voyage in different levels of detail. For example in the Voyages tab of Vessels Data (https://app.signalocean.com/vessels) users can see  all the operations of a voyage even at jetty level.  \n",
    "However very often arises the need of conducting an analysis of the voyages for a specific vessel class for a specific time window. This need is accommodated by the  **Voyages Data Dashboard** (https://app.signalocean.com/reportsindex/voyagesdatalive).  "
   ]
  },
  {
   "cell_type": "markdown",
   "metadata": {
    "id": "w74f5dsRSoi3"
   },
   "source": [
    "The level of detail provided by the Voyages Data Dashboard has been tailored, having in mind the neccessary information needed to carry out such an analysis without being overwhelmed by the full data provided by Signal Ocean Platform regarding the voyages of the vessels.  "
   ]
  },
  {
   "cell_type": "markdown",
   "metadata": {
    "id": "IIq0aal1Soi4"
   },
   "source": [
    "While both ```get_voyages``` and ``get_voyages_flat`` functions of the Signal SDK return the full low level data available, in this example we are going to construct a dataframe that resembles the form of ***Voyages Data Dashboard***"
   ]
  },
  {
   "cell_type": "markdown",
   "metadata": {
    "id": "rk9HODZvSoi5"
   },
   "source": [
    "## Setup\n",
    "Install the Signal Ocean SDK:\n",
    "```\n",
    "pip install signal-ocean\n",
    "```\n",
    "Set your subscription key acquired here: https://apis.signalocean.com/profile"
   ]
  },
  {
   "cell_type": "code",
   "execution_count": null,
   "metadata": {
    "id": "6VKO79fESoi6"
   },
   "outputs": [],
   "source": [
    "pip install signal-ocean"
   ]
  },
  {
   "cell_type": "code",
   "execution_count": null,
   "metadata": {
    "id": "x9lAVgQjSoi8"
   },
   "outputs": [],
   "source": [
    "signal_ocean_api_key = '' #replace with your subscription key"
   ]
  },
  {
   "cell_type": "code",
   "execution_count": null,
   "metadata": {
    "id": "JWf1w-CtSoi8"
   },
   "outputs": [],
   "source": [
    "from signal_ocean import Connection\n",
    "from signal_ocean.voyages import VoyagesAPI\n",
    "from signal_ocean.voyages import VesselClass, VesselClassFilter\n",
    "import pandas as pd\n",
    "import numpy as np\n",
    "from datetime import date, timedelta, datetime, timezone\n",
    "from dateutil.relativedelta import relativedelta"
   ]
  },
  {
   "cell_type": "code",
   "execution_count": null,
   "metadata": {
    "id": "FTbI4qFdSoi9"
   },
   "outputs": [],
   "source": [
    "pd.set_option('display.max_columns', None)"
   ]
  },
  {
   "cell_type": "code",
   "execution_count": null,
   "metadata": {
    "id": "YltH0cw6Soi-"
   },
   "outputs": [],
   "source": [
    "connection = Connection(signal_ocean_api_key)\n",
    "api = VoyagesAPI(connection)"
   ]
  },
  {
   "cell_type": "markdown",
   "metadata": {
    "id": "9pB5ASYxSoi-"
   },
   "source": [
    "### Get voyages"
   ]
  },
  {
   "cell_type": "markdown",
   "metadata": {
    "id": "8X5V-jF0Soi_"
   },
   "source": [
    "For this tutorial we will retrieve the voyages of VLCC vessels that have started during the last semester of 2021."
   ]
  },
  {
   "cell_type": "code",
   "execution_count": 6,
   "metadata": {
    "id": "GucjQmpqUGqF"
   },
   "outputs": [
    {
     "data": {
      "text/plain": [
       "84"
      ]
     },
     "execution_count": 6,
     "metadata": {},
     "output_type": "execute_result"
    }
   ],
   "source": [
    "#get vessel class id for vlcc\n",
    "vc = api.get_vessel_classes(VesselClassFilter('vlcc'))[0]\n",
    "vlcc_id = vc.vessel_class_id\n",
    "vlcc_id"
   ]
  },
  {
   "cell_type": "code",
   "execution_count": 7,
   "metadata": {
    "id": "dlk9A5AFSoi_"
   },
   "outputs": [],
   "source": [
    "start_date_to = date(2021,12,31)\n",
    "start_date_from = start_date_to - relativedelta(months=6)"
   ]
  },
  {
   "cell_type": "code",
   "execution_count": 8,
   "metadata": {
    "id": "AUwditcVSojA"
   },
   "outputs": [],
   "source": [
    "voyages = api.get_voyages_by_advanced_search(\n",
    "    vessel_class_id=vlcc_id, \n",
    "    start_date_from=start_date_from,\n",
    "    start_date_to = start_date_to\n",
    ")"
   ]
  },
  {
   "cell_type": "code",
   "execution_count": 9,
   "metadata": {
    "id": "I1ffU-5sSojA"
   },
   "outputs": [],
   "source": [
    "voyages = pd.DataFrame(v.__dict__ for v in voyages)\n",
    "events = pd.DataFrame(e.__dict__ for voyage_events in voyages['events'].dropna() for e in voyage_events)"
   ]
  },
  {
   "cell_type": "code",
   "execution_count": 10,
   "metadata": {
    "id": "bSQkhWBISojA"
   },
   "outputs": [],
   "source": [
    "# we filter out voyages that have no actual load and discharge port calls\n",
    "# (current voyages for ballast unfixed vessels)\n",
    "voyages.end_date = pd.to_datetime(voyages.end_date, errors = 'coerce', utc = True)\n",
    "voyages.dropna(subset = ['end_date'], inplace = True)"
   ]
  },
  {
   "cell_type": "code",
   "execution_count": 11,
   "metadata": {
    "id": "zfb8yy_ISojB"
   },
   "outputs": [],
   "source": [
    "def get_open_load_discharge_events(voyage_events):\n",
    "    open_event = next((e.__dict__ for e in voyage_events or [] if e.purpose=='Start'), None)\n",
    "    load_event = next((e.__dict__ for e in voyage_events or [] if e.purpose=='Load'), None)\n",
    "    discharge_event = next((e.__dict__ for e in reversed(voyage_events) or [] if e.purpose=='Discharge'), None)\n",
    "    return pd.Series((open_event,load_event, discharge_event))\n",
    "    \n",
    "voyages[['open_event','load_event','discharge_event']] = voyages['events'].apply(get_open_load_discharge_events)"
   ]
  },
  {
   "cell_type": "code",
   "execution_count": 12,
   "metadata": {
    "id": "ix1ZmDJmSojB"
   },
   "outputs": [],
   "source": [
    "mapping_dict = {'port_name':['starting_port','first_load_port','last_discharge_port'],\n",
    "                'area_name_level0':['starting_area','first_load_area','last_discharge_area'], \n",
    "                'country':['starting_country','first_load_country','last_discharge_country'],\n",
    "                'arrival_date':['open_port_arrival_date','first_load_port_arrival_date','last_discharge_port_arrival_date'],\n",
    "                'sailing_date':['open_port_sailing_date','first_load_port_sailing_date','last_discharge_port_sailing_date'], \n",
    "                }\n",
    "\n",
    "events = {0:'open_event',1:'load_event',2:'discharge_event'}"
   ]
  },
  {
   "cell_type": "code",
   "execution_count": 13,
   "metadata": {
    "id": "mH7uNAnSSojC",
    "scrolled": true
   },
   "outputs": [],
   "source": [
    "for feature,targets in mapping_dict.items():\n",
    "    for num,target in enumerate(targets):\n",
    "        voyages[target] = voyages[events[num]].apply(lambda e: e[feature] if isinstance(e,dict) else None)"
   ]
  },
  {
   "cell_type": "code",
   "execution_count": 14,
   "metadata": {
    "id": "3Uu68kCWSojC"
   },
   "outputs": [],
   "source": [
    "def get_start_time_of_operation(event):\n",
    "    if (event['event_type'] == 'PortCall') and (event['event_horizon'] != 'Future'):\n",
    "        next_event_detail = next((ed.__dict__ for ed in event['event_details'] or []), None)\n",
    "        return next_event_detail['start_time_of_operation']"
   ]
  },
  {
   "cell_type": "code",
   "execution_count": 15,
   "metadata": {
    "id": "HBwPq8bHSojD"
   },
   "outputs": [],
   "source": [
    "voyages.loc[voyages.load_event.notna(),'first_load_port_start_time_of_operation'] = (\n",
    "   voyages.loc[voyages.load_event.notna()].load_event.apply(get_start_time_of_operation)\n",
    ")\n",
    "voyages.loc[voyages.load_event.notna(),'last_discharge_port_start_time_of_operation'] = (\n",
    "   voyages.loc[voyages.discharge_event.notna()].discharge_event.apply(get_start_time_of_operation)\n",
    ")\n",
    "\n",
    "voyages.first_load_port_start_time_of_operation = pd.to_datetime(voyages.first_load_port_start_time_of_operation)\n",
    "voyages.last_discharge_port_start_time_of_operation = pd.to_datetime(voyages.last_discharge_port_start_time_of_operation)"
   ]
  },
  {
   "cell_type": "code",
   "execution_count": 16,
   "metadata": {
    "id": "ehsIpTOHSojE"
   },
   "outputs": [],
   "source": [
    "def get_sts_load_ind(load_event):\n",
    "    return next((True for d in load_event[\"event_details\"] or [] if d.event_detail_type =='StS'), False)\n",
    "\n",
    "def get_sts_discharge_ind(discharge_event):\n",
    "    return next((True for d in discharge_event[\"event_details\"] or [] if d.event_detail_type =='StS'), False)\n",
    "\n",
    "\n",
    "voyages.loc[voyages.discharge_event.notna(),'sts_discharge_ind'] = \\\n",
    "voyages.loc[voyages.discharge_event.notna(),'discharge_event'].apply(get_sts_discharge_ind)\n",
    "voyages.loc[voyages.load_event.notna(),'sts_load_ind'] = \\\n",
    "voyages.loc[voyages.load_event.notna(),'load_event'].apply(get_sts_load_ind)"
   ]
  },
  {
   "cell_type": "code",
   "execution_count": 17,
   "metadata": {
    "id": "qltkS521SojE"
   },
   "outputs": [],
   "source": [
    "def get_repairs_ind(events):\n",
    "    for ev in events:\n",
    "        if ev.purpose == 'Dry dock':\n",
    "            return True\n",
    "    return False"
   ]
  },
  {
   "cell_type": "code",
   "execution_count": 18,
   "metadata": {
    "id": "35duTrz-SojF"
   },
   "outputs": [],
   "source": [
    "voyages['repairs_ind'] = voyages.events.apply(get_repairs_ind)"
   ]
  },
  {
   "cell_type": "code",
   "execution_count": 19,
   "metadata": {
    "id": "cdOJykLBSojF"
   },
   "outputs": [],
   "source": [
    "def get_storage_ind(events):\n",
    "    for ev in events:\n",
    "        if ev.purpose == 'StorageVessel':\n",
    "            return True\n",
    "    return False"
   ]
  },
  {
   "cell_type": "code",
   "execution_count": 20,
   "metadata": {
    "id": "YQjjh2QrSojF"
   },
   "outputs": [],
   "source": [
    "voyages['storage_ind'] = voyages.events.apply(get_storage_ind)"
   ]
  },
  {
   "cell_type": "code",
   "execution_count": 21,
   "metadata": {
    "id": "hKuMHSglSojF"
   },
   "outputs": [],
   "source": [
    "voyages['local_trade_ind'] = voyages.apply(\n",
    "    lambda row: row['first_load_country'] == row['last_discharge_country'],\n",
    "    axis = 1\n",
    ")"
   ]
  },
  {
   "cell_type": "code",
   "execution_count": 22,
   "metadata": {
    "id": "-0unbzRoSojG"
   },
   "outputs": [],
   "source": [
    "vessel_status_dict = {\n",
    "    1:\"Voyage\", 2:\"Breaking\", 3:\"Domestic Trade\", 4:\"FPSO\", 5:\"FPSO Conversion\", \n",
    "    6:\"Inactive\", 7:\"Storage Vessel\", 9:\"Conversion\"\n",
    "}\n",
    "voyages['vessel_status'] = voyages.vessel_status_id.replace(vessel_status_dict)"
   ]
  },
  {
   "cell_type": "code",
   "execution_count": 23,
   "metadata": {
    "id": "DUxMPGIiSojG"
   },
   "outputs": [],
   "source": [
    "commercial_status_dict = {\n",
    "    0:\"OnSubs\", 1:\"FullyFixed\", 2:\"Failed\", 3:\"Cancelled\", 4:\"Available\", \n",
    "    -1:\"Unknown\", -2:\"NotSet\"\n",
    "}\n",
    "voyages['commercial_status'] = voyages.fixture_status_id.replace(commercial_status_dict)"
   ]
  },
  {
   "cell_type": "code",
   "execution_count": 24,
   "metadata": {
    "id": "Aubzj1d-SojG"
   },
   "outputs": [],
   "source": [
    "wanted_columns = ['vessel_name',\n",
    "                  'imo',\n",
    "                  'vessel_class',\n",
    "                  'commercial_operator',\n",
    "                  'voyage_number',\n",
    "                  'start_date',\n",
    "                  'end_date',\n",
    "                  'starting_port',\n",
    "                  'first_load_port',\n",
    "                  'last_discharge_port',\n",
    "                  'first_load_port_arrival_date',\n",
    "                  'first_load_port_start_time_of_operation',\n",
    "                  'first_load_port_sailing_date',\n",
    "                  'last_discharge_port_arrival_date',\n",
    "                  'last_discharge_port_start_time_of_operation',\n",
    "                  'last_discharge_port_sailing_date',\n",
    "                  'charterer',\n",
    "                  'rate',\n",
    "                  'rate_type',\n",
    "                  'laycan_from',\n",
    "                  'laycan_to',\n",
    "                  'quantity',\n",
    "                  'cargo_group',\n",
    "                  'cargo_type',\n",
    "                  'cargo_type_source',\n",
    "                  'fixture_is_coa',\n",
    "                  'fixture_is_hold',\n",
    "                  'fixture_date',\n",
    "                  'trade',\n",
    "                  'vessel_status',\n",
    "                  'commercial_status',\n",
    "                  'starting_country',\n",
    "                  'starting_area',\n",
    "                  'first_load_country',\n",
    "                  'first_load_area',\n",
    "                  'last_discharge_country',\n",
    "                  'last_discharge_area',\n",
    "                  'sts_load_ind',\n",
    "                  'sts_discharge_ind',\n",
    "                  'storage_ind',\n",
    "                  'repairs_ind',\n",
    "                  'is_implied_by_ais',\n",
    "                  'local_trade_ind',\n",
    "                  'has_manual_entries',\n",
    "                  'ballast_distance',\n",
    "                  'laden_distance'\n",
    "                 ]\n",
    "\n",
    "voyages = voyages[wanted_columns]"
   ]
  },
  {
   "cell_type": "code",
   "execution_count": 25,
   "metadata": {
    "id": "FSa54pH-SojG"
   },
   "outputs": [],
   "source": [
    "import re\n",
    "\n",
    "def snake_to_camel(word):\n",
    "    return ''.join(x.capitalize() or '_' for x in word.split('_'))"
   ]
  },
  {
   "cell_type": "code",
   "execution_count": 26,
   "metadata": {
    "id": "nYD31uIhSojH",
    "outputId": "1c352b41-a54c-4e33-d8e4-29bda5db3b01"
   },
   "outputs": [
    {
     "data": {
      "text/html": [
       "<div>\n",
       "<style scoped>\n",
       "    .dataframe tbody tr th:only-of-type {\n",
       "        vertical-align: middle;\n",
       "    }\n",
       "\n",
       "    .dataframe tbody tr th {\n",
       "        vertical-align: top;\n",
       "    }\n",
       "\n",
       "    .dataframe thead th {\n",
       "        text-align: right;\n",
       "    }\n",
       "</style>\n",
       "<table border=\"1\" class=\"dataframe\">\n",
       "  <thead>\n",
       "    <tr style=\"text-align: right;\">\n",
       "      <th></th>\n",
       "      <th>VesselName</th>\n",
       "      <th>Imo</th>\n",
       "      <th>VesselClass</th>\n",
       "      <th>CommercialOperator</th>\n",
       "      <th>VoyageNumber</th>\n",
       "      <th>StartDate</th>\n",
       "      <th>EndDate</th>\n",
       "      <th>StartingPort</th>\n",
       "      <th>FirstLoadPort</th>\n",
       "      <th>LastDischargePort</th>\n",
       "      <th>...</th>\n",
       "      <th>LastDischargeArea</th>\n",
       "      <th>StsLoadInd</th>\n",
       "      <th>StsDischargeInd</th>\n",
       "      <th>StorageInd</th>\n",
       "      <th>RepairsInd</th>\n",
       "      <th>IsImpliedByAis</th>\n",
       "      <th>LocalTradeInd</th>\n",
       "      <th>HasManualEntries</th>\n",
       "      <th>BallastDistance</th>\n",
       "      <th>LadenDistance</th>\n",
       "    </tr>\n",
       "  </thead>\n",
       "  <tbody>\n",
       "    <tr>\n",
       "      <th>0</th>\n",
       "      <td>Artemis III</td>\n",
       "      <td>9102241</td>\n",
       "      <td>VLCC</td>\n",
       "      <td>Bahri</td>\n",
       "      <td>132</td>\n",
       "      <td>2021-09-27 13:22:23.500000+00:00</td>\n",
       "      <td>2023-04-20 19:56:09+00:00</td>\n",
       "      <td>Dongjiangkou</td>\n",
       "      <td>Singapore</td>\n",
       "      <td>Singapore</td>\n",
       "      <td>...</td>\n",
       "      <td>Singapore / Malaysia</td>\n",
       "      <td>False</td>\n",
       "      <td>False</td>\n",
       "      <td>False</td>\n",
       "      <td>False</td>\n",
       "      <td>None</td>\n",
       "      <td>True</td>\n",
       "      <td>None</td>\n",
       "      <td>1650.51</td>\n",
       "      <td>14979.22</td>\n",
       "    </tr>\n",
       "    <tr>\n",
       "      <th>1</th>\n",
       "      <td>FT Island</td>\n",
       "      <td>9166675</td>\n",
       "      <td>VLCC</td>\n",
       "      <td>None</td>\n",
       "      <td>43</td>\n",
       "      <td>2021-08-25 01:41:55+00:00</td>\n",
       "      <td>2023-04-18 15:58:33+00:00</td>\n",
       "      <td>Huangpu</td>\n",
       "      <td>Singapore</td>\n",
       "      <td>Tanjung Pelepas</td>\n",
       "      <td>...</td>\n",
       "      <td>Singapore / Malaysia</td>\n",
       "      <td>False</td>\n",
       "      <td>True</td>\n",
       "      <td>False</td>\n",
       "      <td>True</td>\n",
       "      <td>None</td>\n",
       "      <td>False</td>\n",
       "      <td>None</td>\n",
       "      <td>9911.22</td>\n",
       "      <td>920.89</td>\n",
       "    </tr>\n",
       "    <tr>\n",
       "      <th>2</th>\n",
       "      <td>Lisa</td>\n",
       "      <td>9174397</td>\n",
       "      <td>VLCC</td>\n",
       "      <td>None</td>\n",
       "      <td>47</td>\n",
       "      <td>2021-12-20 20:04:34+00:00</td>\n",
       "      <td>2022-12-14 03:56:21+00:00</td>\n",
       "      <td>Qingdao</td>\n",
       "      <td>Malongo</td>\n",
       "      <td>Tianjin</td>\n",
       "      <td>...</td>\n",
       "      <td>North China</td>\n",
       "      <td>False</td>\n",
       "      <td>False</td>\n",
       "      <td>False</td>\n",
       "      <td>False</td>\n",
       "      <td>None</td>\n",
       "      <td>False</td>\n",
       "      <td>None</td>\n",
       "      <td>18788.49</td>\n",
       "      <td>10730.73</td>\n",
       "    </tr>\n",
       "    <tr>\n",
       "      <th>3</th>\n",
       "      <td>Destiny</td>\n",
       "      <td>9177155</td>\n",
       "      <td>VLCC</td>\n",
       "      <td>NITC</td>\n",
       "      <td>26</td>\n",
       "      <td>2021-11-19 15:55:24+00:00</td>\n",
       "      <td>2023-05-04 13:45:06+00:00</td>\n",
       "      <td>Tranmere</td>\n",
       "      <td>Pazflor Oil Field</td>\n",
       "      <td>Cotonou</td>\n",
       "      <td>...</td>\n",
       "      <td>Africa Atlantic Coast</td>\n",
       "      <td>False</td>\n",
       "      <td>False</td>\n",
       "      <td>False</td>\n",
       "      <td>False</td>\n",
       "      <td>None</td>\n",
       "      <td>False</td>\n",
       "      <td>None</td>\n",
       "      <td>4502.32</td>\n",
       "      <td>1068.07</td>\n",
       "    </tr>\n",
       "    <tr>\n",
       "      <th>4</th>\n",
       "      <td>Roma</td>\n",
       "      <td>9182291</td>\n",
       "      <td>VLCC</td>\n",
       "      <td>New Shipping</td>\n",
       "      <td>67</td>\n",
       "      <td>2021-07-28 15:59:44+00:00</td>\n",
       "      <td>2021-09-25 01:50:26+00:00</td>\n",
       "      <td>Tanjung Pelepas</td>\n",
       "      <td>Fujairah</td>\n",
       "      <td>Tanjung Pelepas</td>\n",
       "      <td>...</td>\n",
       "      <td>Singapore / Malaysia</td>\n",
       "      <td>False</td>\n",
       "      <td>True</td>\n",
       "      <td>False</td>\n",
       "      <td>False</td>\n",
       "      <td>None</td>\n",
       "      <td>False</td>\n",
       "      <td>None</td>\n",
       "      <td>3322.17</td>\n",
       "      <td>3204.19</td>\n",
       "    </tr>\n",
       "    <tr>\n",
       "      <th>...</th>\n",
       "      <td>...</td>\n",
       "      <td>...</td>\n",
       "      <td>...</td>\n",
       "      <td>...</td>\n",
       "      <td>...</td>\n",
       "      <td>...</td>\n",
       "      <td>...</td>\n",
       "      <td>...</td>\n",
       "      <td>...</td>\n",
       "      <td>...</td>\n",
       "      <td>...</td>\n",
       "      <td>...</td>\n",
       "      <td>...</td>\n",
       "      <td>...</td>\n",
       "      <td>...</td>\n",
       "      <td>...</td>\n",
       "      <td>...</td>\n",
       "      <td>...</td>\n",
       "      <td>...</td>\n",
       "      <td>...</td>\n",
       "      <td>...</td>\n",
       "    </tr>\n",
       "    <tr>\n",
       "      <th>1881</th>\n",
       "      <td>Tateshina</td>\n",
       "      <td>9910117</td>\n",
       "      <td>VLCC</td>\n",
       "      <td>None</td>\n",
       "      <td>1</td>\n",
       "      <td>2021-10-27 01:04:54+00:00</td>\n",
       "      <td>2022-01-09 07:55:52+00:00</td>\n",
       "      <td>Qushan Island</td>\n",
       "      <td>Ruwais</td>\n",
       "      <td>Rotterdam</td>\n",
       "      <td>...</td>\n",
       "      <td>Continent</td>\n",
       "      <td>False</td>\n",
       "      <td>False</td>\n",
       "      <td>False</td>\n",
       "      <td>True</td>\n",
       "      <td>None</td>\n",
       "      <td>False</td>\n",
       "      <td>None</td>\n",
       "      <td>6216.48</td>\n",
       "      <td>6651.49</td>\n",
       "    </tr>\n",
       "    <tr>\n",
       "      <th>1882</th>\n",
       "      <td>Towa Maru</td>\n",
       "      <td>9910181</td>\n",
       "      <td>VLCC</td>\n",
       "      <td>None</td>\n",
       "      <td>1</td>\n",
       "      <td>2021-11-14 23:57:53+00:00</td>\n",
       "      <td>2022-03-15 19:57:27+00:00</td>\n",
       "      <td>Kure, Hiroshima</td>\n",
       "      <td>Fujairah</td>\n",
       "      <td>Yokkaichi</td>\n",
       "      <td>...</td>\n",
       "      <td>Japan Island</td>\n",
       "      <td>False</td>\n",
       "      <td>False</td>\n",
       "      <td>False</td>\n",
       "      <td>True</td>\n",
       "      <td>None</td>\n",
       "      <td>False</td>\n",
       "      <td>None</td>\n",
       "      <td>7393.28</td>\n",
       "      <td>7276.41</td>\n",
       "    </tr>\n",
       "    <tr>\n",
       "      <th>1883</th>\n",
       "      <td>Julius Caesar</td>\n",
       "      <td>9912244</td>\n",
       "      <td>VLCC</td>\n",
       "      <td>None</td>\n",
       "      <td>1</td>\n",
       "      <td>2021-12-17 06:20:23+00:00</td>\n",
       "      <td>2022-03-16 15:58:35+00:00</td>\n",
       "      <td>Ulsan</td>\n",
       "      <td>Vizhinjam</td>\n",
       "      <td>Lome</td>\n",
       "      <td>...</td>\n",
       "      <td>Africa Atlantic Coast</td>\n",
       "      <td>True</td>\n",
       "      <td>True</td>\n",
       "      <td>False</td>\n",
       "      <td>True</td>\n",
       "      <td>None</td>\n",
       "      <td>False</td>\n",
       "      <td>None</td>\n",
       "      <td>5536.30</td>\n",
       "      <td>7239.92</td>\n",
       "    </tr>\n",
       "    <tr>\n",
       "      <th>1884</th>\n",
       "      <td>Grand Bonanza</td>\n",
       "      <td>9915569</td>\n",
       "      <td>VLCC</td>\n",
       "      <td>Koch</td>\n",
       "      <td>1</td>\n",
       "      <td>2021-10-20 05:16:43+00:00</td>\n",
       "      <td>2022-02-24 05:29:45+00:00</td>\n",
       "      <td>Okpo/Geoje</td>\n",
       "      <td>Ruwais</td>\n",
       "      <td>Lome</td>\n",
       "      <td>...</td>\n",
       "      <td>Africa Atlantic Coast</td>\n",
       "      <td>False</td>\n",
       "      <td>True</td>\n",
       "      <td>False</td>\n",
       "      <td>True</td>\n",
       "      <td>None</td>\n",
       "      <td>False</td>\n",
       "      <td>None</td>\n",
       "      <td>7651.64</td>\n",
       "      <td>7965.27</td>\n",
       "    </tr>\n",
       "    <tr>\n",
       "      <th>1885</th>\n",
       "      <td>Mpf3</td>\n",
       "      <td>9919436</td>\n",
       "      <td>VLCC</td>\n",
       "      <td>None</td>\n",
       "      <td>1</td>\n",
       "      <td>2021-12-12 12:46:01+00:00</td>\n",
       "      <td>2023-08-06 16:18:08+00:00</td>\n",
       "      <td>Shanghai</td>\n",
       "      <td>Galang Island Oil Field</td>\n",
       "      <td>Rotterdam</td>\n",
       "      <td>...</td>\n",
       "      <td>Continent</td>\n",
       "      <td>False</td>\n",
       "      <td>False</td>\n",
       "      <td>False</td>\n",
       "      <td>True</td>\n",
       "      <td>None</td>\n",
       "      <td>False</td>\n",
       "      <td>None</td>\n",
       "      <td>2270.15</td>\n",
       "      <td>6359.17</td>\n",
       "    </tr>\n",
       "  </tbody>\n",
       "</table>\n",
       "<p>1881 rows × 46 columns</p>\n",
       "</div>"
      ],
      "text/plain": [
       "         VesselName      Imo VesselClass CommercialOperator  VoyageNumber  \\\n",
       "0       Artemis III  9102241        VLCC              Bahri           132   \n",
       "1         FT Island  9166675        VLCC               None            43   \n",
       "2              Lisa  9174397        VLCC               None            47   \n",
       "3           Destiny  9177155        VLCC               NITC            26   \n",
       "4              Roma  9182291        VLCC       New Shipping            67   \n",
       "...             ...      ...         ...                ...           ...   \n",
       "1881      Tateshina  9910117        VLCC               None             1   \n",
       "1882      Towa Maru  9910181        VLCC               None             1   \n",
       "1883  Julius Caesar  9912244        VLCC               None             1   \n",
       "1884  Grand Bonanza  9915569        VLCC               Koch             1   \n",
       "1885           Mpf3  9919436        VLCC               None             1   \n",
       "\n",
       "                            StartDate                   EndDate  \\\n",
       "0    2021-09-27 13:22:23.500000+00:00 2023-04-20 19:56:09+00:00   \n",
       "1           2021-08-25 01:41:55+00:00 2023-04-18 15:58:33+00:00   \n",
       "2           2021-12-20 20:04:34+00:00 2022-12-14 03:56:21+00:00   \n",
       "3           2021-11-19 15:55:24+00:00 2023-05-04 13:45:06+00:00   \n",
       "4           2021-07-28 15:59:44+00:00 2021-09-25 01:50:26+00:00   \n",
       "...                               ...                       ...   \n",
       "1881        2021-10-27 01:04:54+00:00 2022-01-09 07:55:52+00:00   \n",
       "1882        2021-11-14 23:57:53+00:00 2022-03-15 19:57:27+00:00   \n",
       "1883        2021-12-17 06:20:23+00:00 2022-03-16 15:58:35+00:00   \n",
       "1884        2021-10-20 05:16:43+00:00 2022-02-24 05:29:45+00:00   \n",
       "1885        2021-12-12 12:46:01+00:00 2023-08-06 16:18:08+00:00   \n",
       "\n",
       "         StartingPort            FirstLoadPort LastDischargePort  ...  \\\n",
       "0        Dongjiangkou                Singapore         Singapore  ...   \n",
       "1             Huangpu                Singapore   Tanjung Pelepas  ...   \n",
       "2             Qingdao                  Malongo           Tianjin  ...   \n",
       "3            Tranmere        Pazflor Oil Field           Cotonou  ...   \n",
       "4     Tanjung Pelepas                 Fujairah   Tanjung Pelepas  ...   \n",
       "...               ...                      ...               ...  ...   \n",
       "1881    Qushan Island                   Ruwais         Rotterdam  ...   \n",
       "1882  Kure, Hiroshima                 Fujairah         Yokkaichi  ...   \n",
       "1883            Ulsan                Vizhinjam              Lome  ...   \n",
       "1884       Okpo/Geoje                   Ruwais              Lome  ...   \n",
       "1885         Shanghai  Galang Island Oil Field         Rotterdam  ...   \n",
       "\n",
       "          LastDischargeArea StsLoadInd StsDischargeInd StorageInd RepairsInd  \\\n",
       "0      Singapore / Malaysia      False           False      False      False   \n",
       "1      Singapore / Malaysia      False            True      False       True   \n",
       "2               North China      False           False      False      False   \n",
       "3     Africa Atlantic Coast      False           False      False      False   \n",
       "4      Singapore / Malaysia      False            True      False      False   \n",
       "...                     ...        ...             ...        ...        ...   \n",
       "1881              Continent      False           False      False       True   \n",
       "1882           Japan Island      False           False      False       True   \n",
       "1883  Africa Atlantic Coast       True            True      False       True   \n",
       "1884  Africa Atlantic Coast      False            True      False       True   \n",
       "1885              Continent      False           False      False       True   \n",
       "\n",
       "     IsImpliedByAis LocalTradeInd  HasManualEntries BallastDistance  \\\n",
       "0              None          True              None         1650.51   \n",
       "1              None         False              None         9911.22   \n",
       "2              None         False              None        18788.49   \n",
       "3              None         False              None         4502.32   \n",
       "4              None         False              None         3322.17   \n",
       "...             ...           ...               ...             ...   \n",
       "1881           None         False              None         6216.48   \n",
       "1882           None         False              None         7393.28   \n",
       "1883           None         False              None         5536.30   \n",
       "1884           None         False              None         7651.64   \n",
       "1885           None         False              None         2270.15   \n",
       "\n",
       "     LadenDistance  \n",
       "0         14979.22  \n",
       "1           920.89  \n",
       "2         10730.73  \n",
       "3          1068.07  \n",
       "4          3204.19  \n",
       "...            ...  \n",
       "1881       6651.49  \n",
       "1882       7276.41  \n",
       "1883       7239.92  \n",
       "1884       7965.27  \n",
       "1885       6359.17  \n",
       "\n",
       "[1881 rows x 46 columns]"
      ]
     },
     "execution_count": 26,
     "metadata": {},
     "output_type": "execute_result"
    }
   ],
   "source": [
    "voyages.columns = [*map(snake_to_camel, voyages.columns)]\n",
    "voyages"
   ]
  },
  {
   "cell_type": "code",
   "execution_count": 27,
   "metadata": {
    "id": "5_39y4nNSojI"
   },
   "outputs": [],
   "source": [
    "datetime_columns = voyages.select_dtypes(include=['datetime64[ns, UTC]']).columns\n",
    "\n",
    "voyages.loc[:,datetime_columns] = (\n",
    "    voyages\n",
    "    .select_dtypes(\n",
    "        include=['datetime64[ns, UTC]']\n",
    "    ).apply(lambda column: column.dt.tz_localize(None),\n",
    "        axis = 0\n",
    "    )\n",
    ")"
   ]
  },
  {
   "cell_type": "code",
   "execution_count": 28,
   "metadata": {
    "id": "chu_-neRSojI"
   },
   "outputs": [],
   "source": [
    "voyages.to_excel('voyages_data.xlsx', index = False)"
   ]
  }
 ],
 "metadata": {
  "colab": {
   "collapsed_sections": [],
   "name": "Copy of VoyagesAPI-VoyagesDataLike.ipynb",
   "provenance": []
  },
  "kernelspec": {
   "display_name": "Python 3 (ipykernel)",
   "language": "python",
   "name": "python3"
  },
  "language_info": {
   "codemirror_mode": {
    "name": "ipython",
    "version": 3
   },
   "file_extension": ".py",
   "mimetype": "text/x-python",
   "name": "python",
   "nbconvert_exporter": "python",
   "pygments_lexer": "ipython3",
   "version": "3.8.12"
  },
  "metadata": {
   "interpreter": {
    "hash": "63fd5069d213b44bf678585dea6b12cceca9941eaf7f819626cde1f2670de90d"
   }
  }
 },
 "nbformat": 4,
 "nbformat_minor": 4
}
