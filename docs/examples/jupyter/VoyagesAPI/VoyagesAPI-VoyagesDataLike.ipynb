{
 "cells": [
  {
   "cell_type": "markdown",
   "metadata": {
    "id": "HzvBnaNeSoix"
   },
   "source": [
    "# Voyages API Voyages Data Like Use Case\n",
    "\n",
    "## Run this example in [Colab](https://colab.research.google.com/github/SignalOceanSdk/SignalSDK/blob/master/docs/examples/jupyter/VoyagesAPI/VoyagesAPI-VoyagesDataLike.ipynb). "
   ]
  },
  {
   "cell_type": "markdown",
   "metadata": {
    "id": "vcLG6o5rSoi2"
   },
   "source": [
    "A Voyage is defined as a sequence of Load operations followed by a sequence of Discharges. Users of **Signal Ocean Platform** interface with the concept of a voyage in different levels of detail. For example in the Voyages tab of Vessels Data (https://app.signalocean.com/vessels) users can see  all the operations of a voyage even at jetty level.  \n",
    "However very often arises the need of conducting an analysis of the voyages for a specific vessel class for a specific time window. This need is accommodated by the  **Voyages Data Dashboard** (https://app.signalocean.com/reportsindex/voyagesdatalive).  "
   ]
  },
  {
   "cell_type": "markdown",
   "metadata": {
    "id": "w74f5dsRSoi3"
   },
   "source": [
    "The level of detail provided by the Voyages Data Dashboard has been tailored, having in mind the neccessary information needed to carry out such an analysis without being overwhelmed by the full data provided by Signal Ocean Platform regarding the voyages of the vessels.  "
   ]
  },
  {
   "cell_type": "markdown",
   "metadata": {
    "id": "IIq0aal1Soi4"
   },
   "source": [
    "While both ```get_voyages``` and ``get_voyages_flat`` functions of the Signal SDK return the full low level data available, in this example we are going to construct a dataframe that resembles the form of ***Voyages Data Dashboard***"
   ]
  },
  {
   "cell_type": "markdown",
   "metadata": {
    "id": "rk9HODZvSoi5"
   },
   "source": [
    "## Setup\n",
    "Install the Signal Ocean SDK:\n",
    "```\n",
    "pip install signal-ocean\n",
    "```\n",
    "Set your subscription key acquired here: https://apis.signalocean.com/profile"
   ]
  },
  {
   "cell_type": "code",
   "execution_count": null,
   "metadata": {
    "id": "6VKO79fESoi6"
   },
   "outputs": [],
   "source": [
    "pip install signal-ocean"
   ]
  },
  {
   "cell_type": "code",
   "execution_count": null,
   "metadata": {
    "id": "x9lAVgQjSoi8"
   },
   "outputs": [],
   "source": [
    "signal_ocean_api_key = '' #replace with your subscription key"
   ]
  },
  {
   "cell_type": "code",
   "execution_count": null,
   "metadata": {
    "id": "JWf1w-CtSoi8"
   },
   "outputs": [],
   "source": [
    "from signal_ocean import Connection\n",
    "from signal_ocean.voyages import VoyagesAPI\n",
    "from signal_ocean.voyages import VesselClass, VesselClassFilter\n",
    "import pandas as pd\n",
    "import numpy as np\n",
    "from datetime import date, timedelta, datetime, timezone\n",
    "from dateutil.relativedelta import relativedelta"
   ]
  },
  {
   "cell_type": "code",
   "execution_count": null,
   "metadata": {
    "id": "FTbI4qFdSoi9"
   },
   "outputs": [],
   "source": [
    "pd.set_option('display.max_columns', None)"
   ]
  },
  {
   "cell_type": "code",
   "execution_count": null,
   "metadata": {
    "id": "YltH0cw6Soi-"
   },
   "outputs": [],
   "source": [
    "connection = Connection(signal_ocean_api_key)\n",
    "api = VoyagesAPI(connection)"
   ]
  },
  {
   "cell_type": "markdown",
   "metadata": {
    "id": "9pB5ASYxSoi-"
   },
   "source": [
    "### Get voyages"
   ]
  },
  {
   "cell_type": "markdown",
   "metadata": {
    "id": "8X5V-jF0Soi_"
   },
   "source": [
    "For this tutorial we will retrieve the voyages of VLCC vessels that have started during the last semester of 2021."
   ]
  },
  {
   "cell_type": "code",
   "execution_count": null,
   "metadata": {
    "id": "GucjQmpqUGqF"
   },
   "outputs": [],
   "source": [
    "#get vessel class id for vlcc\n",
    "vc = api.get_vessel_classes(VesselClassFilter('vlcc'))[0]\n",
    "vlcc_id = vc.vessel_class_id\n",
    "vlcc_id"
   ]
  },
  {
   "cell_type": "code",
   "execution_count": null,
   "metadata": {
    "id": "dlk9A5AFSoi_"
   },
   "outputs": [],
   "source": [
    "\n",
    "start_date_to = date(2021,12,31)\n",
    "start_date_from = start_date_to - relativedelta(months=6)"
   ]
  },
  {
   "cell_type": "code",
   "execution_count": null,
   "metadata": {
    "id": "AUwditcVSojA"
   },
   "outputs": [],
   "source": [
    "voyages = api.get_voyages_by_advanced_search(\n",
    "    vessel_class_id=vlcc_id, \n",
    "    start_date_from=start_date_from,\n",
    "    start_date_to = start_date_to\n",
    ")"
   ]
  },
  {
   "cell_type": "code",
   "execution_count": null,
   "metadata": {
    "id": "I1ffU-5sSojA"
   },
   "outputs": [],
   "source": [
    "voyages = pd.DataFrame(v.__dict__ for v in voyages)\n",
    "events = pd.DataFrame(e.__dict__ for voyage_events in voyages['events'].dropna() for e in voyage_events)"
   ]
  },
  {
   "cell_type": "code",
   "execution_count": null,
   "metadata": {
    "id": "bSQkhWBISojA"
   },
   "outputs": [],
   "source": [
    "# we filter out voyages that have no actual load and discharge port calls\n",
    "# (current voyages for ballast unfixed vessels)\n",
    "voyages.end_date = pd.to_datetime(voyages.end_date, errors = 'coerce', utc = True)\n",
    "voyages.dropna(subset = ['end_date'], inplace = True)"
   ]
  },
  {
   "cell_type": "code",
   "execution_count": null,
   "metadata": {
    "id": "zfb8yy_ISojB"
   },
   "outputs": [],
   "source": [
    "def get_open_load_discharge_events(voyage_events):\n",
    "    open_event = next((e.__dict__ for e in voyage_events or [] if e.purpose=='Start'), None)\n",
    "    load_event = next((e.__dict__ for e in voyage_events or [] if e.purpose=='Load'), None)\n",
    "    discharge_event = next((e.__dict__ for e in reversed(voyage_events) or [] if e.purpose=='Discharge'), None)\n",
    "    return pd.Series((open_event,load_event, discharge_event))\n",
    "    \n",
    "voyages[['open_event','load_event','discharge_event']] = voyages['events'].apply(get_open_load_discharge_events)"
   ]
  },
  {
   "cell_type": "code",
   "execution_count": null,
   "metadata": {
    "id": "ix1ZmDJmSojB"
   },
   "outputs": [],
   "source": [
    "mapping_dict = {'port_name':['starting_port','first_load_port','last_discharge_port'],\n",
    "                'area_name_level0':['starting_area','first_load_area','last_discharge_area'], \n",
    "                'country':['starting_country','first_load_country','last_discharge_country'],\n",
    "                'arrival_date':['open_port_arrival_date','first_load_port_arrival_date','last_discharge_port_arrival_date'],\n",
    "                'sailing_date':['open_port_sailing_date','first_load_port_sailing_date','last_discharge_port_sailing_date'], \n",
    "                }\n",
    "\n",
    "events = {0:'open_event',1:'load_event',2:'discharge_event'}"
   ]
  },
  {
   "cell_type": "code",
   "execution_count": null,
   "metadata": {
    "id": "mH7uNAnSSojC",
    "scrolled": true
   },
   "outputs": [],
   "source": [
    "for feature,targets in mapping_dict.items():\n",
    "    for num,target in enumerate(targets):\n",
    "        voyages[target] = voyages[events[num]].apply(lambda e: e[feature] if isinstance(e,dict) else None)"
   ]
  },
  {
   "cell_type": "code",
   "execution_count": null,
   "metadata": {
    "id": "3Uu68kCWSojC"
   },
   "outputs": [],
   "source": [
    "def get_start_time_of_operation(event):\n",
    "    if (event['event_type'] == 'PortCall') and (event['event_horizon'] != 'Future'):\n",
    "        next_event_detail = next((ed.__dict__ for ed in event['event_details'] or []), None)\n",
    "        return next_event_detail['start_time_of_operation']"
   ]
  },
  {
   "cell_type": "code",
   "execution_count": null,
   "metadata": {
    "id": "HBwPq8bHSojD"
   },
   "outputs": [],
   "source": [
    "voyages.loc[voyages.load_event.notna(),'first_load_port_start_time_of_operation'] = (\n",
    "   voyages.loc[voyages.load_event.notna()].load_event.apply(get_start_time_of_operation)\n",
    ")\n",
    "voyages.loc[voyages.load_event.notna(),'last_discharge_port_start_time_of_operation'] = (\n",
    "   voyages.loc[voyages.discharge_event.notna()].discharge_event.apply(get_start_time_of_operation)\n",
    ")\n",
    "\n",
    "voyages.first_load_port_start_time_of_operation = pd.to_datetime(voyages.first_load_port_start_time_of_operation)\n",
    "voyages.last_discharge_port_start_time_of_operation = pd.to_datetime(voyages.last_discharge_port_start_time_of_operation)"
   ]
  },
  {
   "cell_type": "code",
   "execution_count": null,
   "metadata": {
    "id": "ehsIpTOHSojE"
   },
   "outputs": [],
   "source": [
    "def get_sts_load_ind(load_event):\n",
    "    return next((True for d in load_event[\"event_details\"] or [] if d.event_detail_type =='StS'), False)\n",
    "\n",
    "def get_sts_discharge_ind(discharge_event):\n",
    "    return next((True for d in discharge_event[\"event_details\"] or [] if d.event_detail_type =='StS'), False)\n",
    "\n",
    "\n",
    "voyages.loc[voyages.discharge_event.notna(),'sts_discharge_ind'] = \\\n",
    "voyages.loc[voyages.discharge_event.notna(),'discharge_event'].apply(get_sts_discharge_ind)\n",
    "voyages.loc[voyages.load_event.notna(),'sts_load_ind'] = \\\n",
    "voyages.loc[voyages.load_event.notna(),'load_event'].apply(get_sts_load_ind)"
   ]
  },
  {
   "cell_type": "code",
   "execution_count": null,
   "metadata": {
    "id": "qltkS521SojE"
   },
   "outputs": [],
   "source": [
    "def get_repairs_ind(events):\n",
    "    for ev in events:\n",
    "        if ev.purpose == 'Dry dock':\n",
    "            return True\n",
    "    return False"
   ]
  },
  {
   "cell_type": "code",
   "execution_count": null,
   "metadata": {
    "id": "35duTrz-SojF"
   },
   "outputs": [],
   "source": [
    "voyages['repairs_ind'] = voyages.events.apply(get_repairs_ind)"
   ]
  },
  {
   "cell_type": "code",
   "execution_count": null,
   "metadata": {
    "id": "cdOJykLBSojF"
   },
   "outputs": [],
   "source": [
    "def get_storage_ind(events):\n",
    "    for ev in events:\n",
    "        if ev.purpose == 'StorageVessel':\n",
    "            return True\n",
    "    return False"
   ]
  },
  {
   "cell_type": "code",
   "execution_count": null,
   "metadata": {
    "id": "YQjjh2QrSojF"
   },
   "outputs": [],
   "source": [
    "voyages['storage_ind'] = voyages.events.apply(get_storage_ind)"
   ]
  },
  {
   "cell_type": "code",
   "execution_count": null,
   "metadata": {
    "id": "hKuMHSglSojF"
   },
   "outputs": [],
   "source": [
    "voyages['local_trade_ind'] = voyages.apply(\n",
    "    lambda row: row['first_load_country'] == row['last_discharge_country'],\n",
    "    axis = 1\n",
    ")"
   ]
  },
  {
   "cell_type": "code",
   "execution_count": null,
   "metadata": {
    "id": "-0unbzRoSojG"
   },
   "outputs": [],
   "source": [
    "vessel_status_dict = {\n",
    "    1:\"Voyage\", 2:\"Breaking\", 3:\"Domestic Trade\", 4:\"FPSO\", 5:\"FPSO Conversion\", \n",
    "    6:\"Inactive\", 7:\"Storage Vessel\", 9:\"Conversion\"\n",
    "}\n",
    "voyages['vessel_status'] = voyages.vessel_status_id.replace(vessel_status_dict)"
   ]
  },
  {
   "cell_type": "code",
   "execution_count": null,
   "metadata": {
    "id": "DUxMPGIiSojG"
   },
   "outputs": [],
   "source": [
    "commercial_status_dict = {\n",
    "    0:\"OnSubs\", 1:\"FullyFixed\", 2:\"Failed\", 3:\"Cancelled\", 4:\"Available\", \n",
    "    -1:\"Unknown\", -2:\"NotSet\"\n",
    "}\n",
    "voyages['commercial_status'] = voyages.fixture_status_id.replace(commercial_status_dict)"
   ]
  },
  {
   "cell_type": "code",
   "execution_count": null,
   "metadata": {
    "id": "Aubzj1d-SojG"
   },
   "outputs": [],
   "source": [
    "wanted_columns = ['vessel_name',\n",
    "                  'imo',\n",
    "                  'vessel_class',\n",
    "                  'commercial_operator',\n",
    "                  'voyage_number',\n",
    "                  'start_date',\n",
    "                  'end_date',\n",
    "                  'starting_port',\n",
    "                  'first_load_port',\n",
    "                  'last_discharge_port',\n",
    "                  'first_load_port_arrival_date',\n",
    "                  'first_load_port_start_time_of_operation',\n",
    "                  'first_load_port_sailing_date',\n",
    "                  'last_discharge_port_arrival_date',\n",
    "                  'last_discharge_port_start_time_of_operation',\n",
    "                  'last_discharge_port_sailing_date',\n",
    "                  'charterer',\n",
    "                  'rate',\n",
    "                  'rate_type',\n",
    "                  'laycan_from',\n",
    "                  'laycan_to',\n",
    "                  'quantity',\n",
    "                  'cargo_group',\n",
    "                  'cargo_type',\n",
    "                  'cargo_type_source',\n",
    "                  'fixture_is_coa',\n",
    "                  'fixture_is_hold',\n",
    "                  'fixture_date',\n",
    "                  'trade',\n",
    "                  'vessel_status',\n",
    "                  'commercial_status',\n",
    "                  'starting_country',\n",
    "                  'starting_area',\n",
    "                  'first_load_country',\n",
    "                  'first_load_area',\n",
    "                  'last_discharge_country',\n",
    "                  'last_discharge_area',\n",
    "                  'sts_load_ind',\n",
    "                  'sts_discharge_ind',\n",
    "                  'storage_ind',\n",
    "                  'repairs_ind',\n",
    "                  'is_implied_by_ais',\n",
    "                  'local_trade_ind',\n",
    "                  'has_manual_entries',\n",
    "                  'ballast_distance',\n",
    "                  'laden_distance'\n",
    "                 ]\n",
    "\n",
    "voyages = voyages[wanted_columns]"
   ]
  },
  {
   "cell_type": "code",
   "execution_count": null,
   "metadata": {
    "id": "FSa54pH-SojG"
   },
   "outputs": [],
   "source": [
    "import re\n",
    "\n",
    "def snake_to_camel(word):\n",
    "    return ''.join(x.capitalize() or '_' for x in word.split('_'))"
   ]
  },
  {
   "cell_type": "code",
   "execution_count": null,
   "metadata": {
    "id": "nYD31uIhSojH",
    "outputId": "1c352b41-a54c-4e33-d8e4-29bda5db3b01"
   },
   "outputs": [],
   "source": [
    "voyages.columns = [*map(snake_to_camel, voyages.columns)]\n",
    "voyages"
   ]
  },
  {
   "cell_type": "code",
   "execution_count": null,
   "metadata": {
    "id": "5_39y4nNSojI"
   },
   "outputs": [],
   "source": [
    "datetime_columns = voyages.select_dtypes(include=['datetime64[ns, UTC]']).columns\n",
    "\n",
    "voyages.loc[:,datetime_columns] = (\n",
    "    voyages\n",
    "    .select_dtypes(\n",
    "        include=['datetime64[ns, UTC]']\n",
    "    ).apply(lambda column: column.dt.tz_localize(None),\n",
    "        axis = 0\n",
    "    )\n",
    ")"
   ]
  },
  {
   "cell_type": "code",
   "execution_count": null,
   "metadata": {
    "id": "chu_-neRSojI"
   },
   "outputs": [],
   "source": [
    "voyages.to_excel('voyages_data.xlsx', index = False)"
   ]
  }
 ],
 "metadata": {
  "colab": {
   "collapsed_sections": [],
   "name": "Copy of VoyagesAPI-VoyagesDataLike.ipynb",
   "provenance": []
  },
  "kernelspec": {
   "display_name": "Python 3 (ipykernel)",
   "language": "python",
   "name": "python3"
  },
  "language_info": {
   "codemirror_mode": {
    "name": "ipython",
    "version": 3
   },
   "file_extension": ".py",
   "mimetype": "text/x-python",
   "name": "python",
   "nbconvert_exporter": "python",
   "pygments_lexer": "ipython3",
   "version": "3.8.0"
  },
  "metadata": {
   "interpreter": {
    "hash": "63fd5069d213b44bf678585dea6b12cceca9941eaf7f819626cde1f2670de90d"
   }
  }
 },
 "nbformat": 4,
 "nbformat_minor": 1
}
