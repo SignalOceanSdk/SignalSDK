{
 "cells": [
  {
   "cell_type": "markdown",
   "metadata": {
    "id": "pLubipKzOyvL"
   },
   "source": [
    "# Flows From V4\n",
    "(powered by v4)\n",
    "\n",
    "V4 brings a complete revision and expansion of the whole CargoTracking module to serve all commodity tracking needs at vessel-per-vessel level.\n",
    "* Quantity estimated at event level (so for each StS operation and load/discharge) in addition to the voyage level and for Tanker, provided both in tonnes and in barrels. \n",
    "    * More accurate flows that go beyond the FirstLoad/LastDischarge approximation.\n",
    "* More cargo fields from the Cargo Grade level up to the Cargo Group one. \n",
    "* A source for each cargo to specify what market data backed that cargo up.\n",
    "* Confidence levels about our model estimation (High/Medium/Low).\n",
    "\n",
    "## Run this example in [Colab](https://colab.research.google.com/github/SignalOceanSdk/SignalSDK/blob/master/docs/examples/jupyter/VoyagesAPI/FlowsFromV4.ipynb). "
   ]
  },
  {
   "cell_type": "markdown",
   "metadata": {},
   "source": [
    "## Setup\n",
    "Install the Signal Ocean SDK:\n",
    "```\n",
    "pip install signal-ocean\n",
    "```\n",
    "Set your subscription key acquired here: https://apis.signalocean.com/profile"
   ]
  },
  {
   "cell_type": "code",
   "execution_count": null,
   "metadata": {
    "colab": {
     "base_uri": "https://localhost:8080/"
    },
    "id": "9bJiz_f0OyvQ",
    "outputId": "79d748c6-f3ef-4528-fd32-0999b0304c03"
   },
   "outputs": [],
   "source": [
    "!pip install signal-ocean"
   ]
  },
  {
   "cell_type": "code",
   "execution_count": null,
   "metadata": {
    "id": "poC0RHOcOyvR"
   },
   "outputs": [],
   "source": [
    "signal_ocean_api_key = '' #replace with your subscription key"
   ]
  },
  {
   "cell_type": "markdown",
   "metadata": {
    "id": "QzHwIp20OyvS"
   },
   "source": [
    "## Call the Voyages API\n",
    "The Voyages API retrieves information about vessel voyages."
   ]
  },
  {
   "cell_type": "code",
   "execution_count": 2,
   "metadata": {
    "id": "VaLkKseYOyvT"
   },
   "outputs": [],
   "source": [
    "from signal_ocean import Connection\n",
    "from signal_ocean.voyages import VoyagesAPI\n",
    "import pandas as pd\n",
    "from datetime import datetime\n",
    "import plotly.express as px"
   ]
  },
  {
   "cell_type": "code",
   "execution_count": 3,
   "metadata": {
    "id": "bSu1XgNTOyvT"
   },
   "outputs": [],
   "source": [
    "connection = Connection(signal_ocean_api_key)\n",
    "api = VoyagesAPI(connection)"
   ]
  },
  {
   "cell_type": "markdown",
   "metadata": {},
   "source": [
    "## Example 1, Tankers: VLCC Crude flows from US to China (at Port Call level, powered by V4)"
   ]
  },
  {
   "cell_type": "markdown",
   "metadata": {},
   "source": [
    "Get vessel class id for VLCCs"
   ]
  },
  {
   "cell_type": "code",
   "execution_count": 4,
   "metadata": {},
   "outputs": [
    {
     "data": {
      "text/html": [
       "<div>\n",
       "<style scoped>\n",
       "    .dataframe tbody tr th:only-of-type {\n",
       "        vertical-align: middle;\n",
       "    }\n",
       "\n",
       "    .dataframe tbody tr th {\n",
       "        vertical-align: top;\n",
       "    }\n",
       "\n",
       "    .dataframe thead th {\n",
       "        text-align: right;\n",
       "    }\n",
       "</style>\n",
       "<table border=\"1\" class=\"dataframe\">\n",
       "  <thead>\n",
       "    <tr style=\"text-align: right;\">\n",
       "      <th></th>\n",
       "      <th>vessel_class_id</th>\n",
       "      <th>vessel_class_name</th>\n",
       "      <th>vessel_type_id</th>\n",
       "      <th>vessel_type</th>\n",
       "    </tr>\n",
       "  </thead>\n",
       "  <tbody>\n",
       "    <tr>\n",
       "      <th>11</th>\n",
       "      <td>84</td>\n",
       "      <td>VLCC</td>\n",
       "      <td>1</td>\n",
       "      <td>Tanker</td>\n",
       "    </tr>\n",
       "    <tr>\n",
       "      <th>12</th>\n",
       "      <td>85</td>\n",
       "      <td>Suezmax</td>\n",
       "      <td>1</td>\n",
       "      <td>Tanker</td>\n",
       "    </tr>\n",
       "    <tr>\n",
       "      <th>13</th>\n",
       "      <td>86</td>\n",
       "      <td>Aframax</td>\n",
       "      <td>1</td>\n",
       "      <td>Tanker</td>\n",
       "    </tr>\n",
       "    <tr>\n",
       "      <th>14</th>\n",
       "      <td>87</td>\n",
       "      <td>Panamax</td>\n",
       "      <td>1</td>\n",
       "      <td>Tanker</td>\n",
       "    </tr>\n",
       "    <tr>\n",
       "      <th>15</th>\n",
       "      <td>88</td>\n",
       "      <td>MR2</td>\n",
       "      <td>1</td>\n",
       "      <td>Tanker</td>\n",
       "    </tr>\n",
       "    <tr>\n",
       "      <th>16</th>\n",
       "      <td>89</td>\n",
       "      <td>MR1</td>\n",
       "      <td>1</td>\n",
       "      <td>Tanker</td>\n",
       "    </tr>\n",
       "    <tr>\n",
       "      <th>17</th>\n",
       "      <td>90</td>\n",
       "      <td>Small</td>\n",
       "      <td>1</td>\n",
       "      <td>Tanker</td>\n",
       "    </tr>\n",
       "  </tbody>\n",
       "</table>\n",
       "</div>"
      ],
      "text/plain": [
       "    vessel_class_id vessel_class_name  vessel_type_id vessel_type\n",
       "11               84              VLCC               1      Tanker\n",
       "12               85           Suezmax               1      Tanker\n",
       "13               86           Aframax               1      Tanker\n",
       "14               87           Panamax               1      Tanker\n",
       "15               88               MR2               1      Tanker\n",
       "16               89               MR1               1      Tanker\n",
       "17               90             Small               1      Tanker"
      ]
     },
     "execution_count": 4,
     "metadata": {},
     "output_type": "execute_result"
    }
   ],
   "source": [
    "vessel_classes = api.get_vessel_classes()\n",
    "vessel_classes_df = pd.DataFrame(v.__dict__ for v in vessel_classes)\n",
    "vessel_classes_df[vessel_classes_df['vessel_type']=='Tanker'].head(10)"
   ]
  },
  {
   "cell_type": "markdown",
   "metadata": {},
   "source": [
    "### Get voyages for VLCCs"
   ]
  },
  {
   "cell_type": "markdown",
   "metadata": {},
   "source": [
    "We will use vessel_class_id = 84 as above when calling the API"
   ]
  },
  {
   "cell_type": "code",
   "execution_count": 5,
   "metadata": {
    "id": "U6U3qvJyOyvY"
   },
   "outputs": [
    {
     "data": {
      "text/html": [
       "<div>\n",
       "<style scoped>\n",
       "    .dataframe tbody tr th:only-of-type {\n",
       "        vertical-align: middle;\n",
       "    }\n",
       "\n",
       "    .dataframe tbody tr th {\n",
       "        vertical-align: top;\n",
       "    }\n",
       "\n",
       "    .dataframe thead th {\n",
       "        text-align: right;\n",
       "    }\n",
       "</style>\n",
       "<table border=\"1\" class=\"dataframe\">\n",
       "  <thead>\n",
       "    <tr style=\"text-align: right;\">\n",
       "      <th></th>\n",
       "      <th>imo</th>\n",
       "      <th>voyage_number</th>\n",
       "      <th>vessel_type_id</th>\n",
       "      <th>vessel_class_id</th>\n",
       "      <th>vessel_status_id</th>\n",
       "      <th>commercial_operator_id</th>\n",
       "      <th>deleted</th>\n",
       "      <th>events</th>\n",
       "      <th>id</th>\n",
       "      <th>horizon_id</th>\n",
       "      <th>...</th>\n",
       "      <th>is_implied_by_ais</th>\n",
       "      <th>has_manual_entries</th>\n",
       "      <th>ballast_distance</th>\n",
       "      <th>predicted_ballast_distance</th>\n",
       "      <th>laden_distance</th>\n",
       "      <th>predicted_laden_distance</th>\n",
       "      <th>suez_crossing</th>\n",
       "      <th>panama_crossing</th>\n",
       "      <th>canakkale_crossing</th>\n",
       "      <th>bosporus_crossing</th>\n",
       "    </tr>\n",
       "  </thead>\n",
       "  <tbody>\n",
       "    <tr>\n",
       "      <th>10358</th>\n",
       "      <td>9943748</td>\n",
       "      <td>4</td>\n",
       "      <td>1</td>\n",
       "      <td>84</td>\n",
       "      <td>1</td>\n",
       "      <td>558.0</td>\n",
       "      <td>False</td>\n",
       "      <td>(VoyageEvent(id='I97BAC454SEDD103100', port_id...</td>\n",
       "      <td>I97BAC454VEDD103100</td>\n",
       "      <td>2</td>\n",
       "      <td>...</td>\n",
       "      <td>None</td>\n",
       "      <td>None</td>\n",
       "      <td>6151.11</td>\n",
       "      <td>NaN</td>\n",
       "      <td>6195.45</td>\n",
       "      <td>385.69</td>\n",
       "      <td>None</td>\n",
       "      <td>None</td>\n",
       "      <td>None</td>\n",
       "      <td>None</td>\n",
       "    </tr>\n",
       "    <tr>\n",
       "      <th>10359</th>\n",
       "      <td>9946673</td>\n",
       "      <td>1</td>\n",
       "      <td>1</td>\n",
       "      <td>84</td>\n",
       "      <td>1</td>\n",
       "      <td>1441.0</td>\n",
       "      <td>False</td>\n",
       "      <td>(VoyageEvent(id='I97C63154SEDB84AF00', port_id...</td>\n",
       "      <td>I97C63154VEDB84AF00</td>\n",
       "      <td>2</td>\n",
       "      <td>...</td>\n",
       "      <td>None</td>\n",
       "      <td>None</td>\n",
       "      <td>5266.17</td>\n",
       "      <td>NaN</td>\n",
       "      <td>NaN</td>\n",
       "      <td>NaN</td>\n",
       "      <td>None</td>\n",
       "      <td>None</td>\n",
       "      <td>None</td>\n",
       "      <td>None</td>\n",
       "    </tr>\n",
       "  </tbody>\n",
       "</table>\n",
       "<p>2 rows × 69 columns</p>\n",
       "</div>"
      ],
      "text/plain": [
       "           imo  voyage_number  vessel_type_id  vessel_class_id  \\\n",
       "10358  9943748              4               1               84   \n",
       "10359  9946673              1               1               84   \n",
       "\n",
       "       vessel_status_id  commercial_operator_id  deleted  \\\n",
       "10358                 1                   558.0    False   \n",
       "10359                 1                  1441.0    False   \n",
       "\n",
       "                                                  events                   id  \\\n",
       "10358  (VoyageEvent(id='I97BAC454SEDD103100', port_id...  I97BAC454VEDD103100   \n",
       "10359  (VoyageEvent(id='I97C63154SEDB84AF00', port_id...  I97C63154VEDB84AF00   \n",
       "\n",
       "       horizon_id  ... is_implied_by_ais has_manual_entries ballast_distance  \\\n",
       "10358           2  ...              None               None          6151.11   \n",
       "10359           2  ...              None               None          5266.17   \n",
       "\n",
       "      predicted_ballast_distance laden_distance predicted_laden_distance  \\\n",
       "10358                        NaN        6195.45                   385.69   \n",
       "10359                        NaN            NaN                      NaN   \n",
       "\n",
       "      suez_crossing  panama_crossing canakkale_crossing  bosporus_crossing  \n",
       "10358          None             None               None               None  \n",
       "10359          None             None               None               None  \n",
       "\n",
       "[2 rows x 69 columns]"
      ]
     },
     "execution_count": 5,
     "metadata": {},
     "output_type": "execute_result"
    }
   ],
   "source": [
    "voyages = api.get_voyages(vessel_class_id=84, date_from=datetime.strptime(\"2021-09-01\", \"%Y-%m-%d\"))\n",
    "voyages = pd.DataFrame([v.__dict__ for v in voyages])\n",
    "voyages.tail(2)"
   ]
  },
  {
   "cell_type": "markdown",
   "metadata": {},
   "source": [
    "Keep only historical voyages and drop some columns\n",
    "* **Note 1:** Voyages Data API has information on all levels of the Cargo Tree taxonomy, from cargo group down to cargo sub type (grade). For this first example we will use cargo_sub_group that is the corresponding taxonomy of Crude\n",
    "* **Note 2:** Voyages Data API also provides quantity in barrels that we will use in this example"
   ]
  },
  {
   "cell_type": "code",
   "execution_count": 6,
   "metadata": {},
   "outputs": [],
   "source": [
    "voyages = voyages[voyages['horizon']=='Historical'][['id', 'quantity_in_barrels', 'cargo_sub_group', 'events']].copy()\n",
    "voyages.rename(columns={'quantity_in_barrels': 'voyage_quantity_in_barrels', 'id': 'v_id'}, inplace = True)"
   ]
  },
  {
   "cell_type": "markdown",
   "metadata": {},
   "source": [
    "explode dataframe to create 1 row per event and extract event info into columns"
   ]
  },
  {
   "cell_type": "code",
   "execution_count": 7,
   "metadata": {},
   "outputs": [],
   "source": [
    "voyages=voyages.explode('events')\n",
    "voyages['events'] = voyages['events'].apply(lambda x: x.__dict__)\n",
    "voyages=pd.concat([voyages.drop(['events'], axis=1), voyages['events'].apply(pd.Series)], axis=1)"
   ]
  },
  {
   "cell_type": "markdown",
   "metadata": {},
   "source": [
    "Keep only Load/Discharge events and drop some columns"
   ]
  },
  {
   "cell_type": "code",
   "execution_count": 8,
   "metadata": {},
   "outputs": [],
   "source": [
    "voyages=voyages[(voyages['purpose']=='Discharge')|(voyages['purpose']=='Load')][[ 'v_id', 'voyage_quantity_in_barrels', 'cargo_sub_group', \n",
    "                                                                                 'purpose', 'arrival_date', 'sailing_date', 'port_name', \n",
    "                                                                                 'country', 'quantity', 'quantity_in_barrels']]"
   ]
  },
  {
   "cell_type": "markdown",
   "metadata": {},
   "source": [
    "### Converting events to flows"
   ]
  },
  {
   "cell_type": "markdown",
   "metadata": {},
   "source": [
    "Combine Load and Discharge operations of the same voyage to create flows"
   ]
  },
  {
   "cell_type": "code",
   "execution_count": 9,
   "metadata": {},
   "outputs": [],
   "source": [
    "flows=voyages[voyages['purpose']=='Load'].merge(voyages[voyages['purpose']=='Discharge'], on = ['v_id', 'voyage_quantity_in_barrels', 'cargo_sub_group'], suffixes=['_load','_discharge'])"
   ]
  },
  {
   "cell_type": "markdown",
   "metadata": {},
   "source": [
    "Calculate quantity for each elementary flow"
   ]
  },
  {
   "cell_type": "code",
   "execution_count": 10,
   "metadata": {},
   "outputs": [],
   "source": [
    "flows['flow_quantity_in_barrels'] = flows['quantity_in_barrels_load']*flows['quantity_in_barrels_discharge']/flows['voyage_quantity_in_barrels']"
   ]
  },
  {
   "cell_type": "markdown",
   "metadata": {},
   "source": [
    "Convert Timestamp to datetime"
   ]
  },
  {
   "cell_type": "code",
   "execution_count": 11,
   "metadata": {},
   "outputs": [],
   "source": [
    "flows['sailing_date_load'] = flows['sailing_date_load'].apply(lambda d : pd.to_datetime(d).tz_localize(None))"
   ]
  },
  {
   "cell_type": "markdown",
   "metadata": {},
   "source": [
    "### Group flows by origin country and destination, and use sailing_date_load as date of export"
   ]
  },
  {
   "cell_type": "code",
   "execution_count": 12,
   "metadata": {},
   "outputs": [],
   "source": [
    "US_China_crude = flows[(flows['sailing_date_load']>\"2022-01-01\")&(flows['cargo_sub_group']=='Crude')] \\\n",
    "    .set_index('sailing_date_load') \\\n",
    "    .groupby(['country_load', 'country_discharge'])['flow_quantity_in_barrels'] \\\n",
    "    .resample('MS') \\\n",
    "    .sum() \\\n",
    "    .reset_index() \\\n",
    "    .rename(columns={'sailing_date_load': 'Date'})"
   ]
  },
  {
   "cell_type": "markdown",
   "metadata": {},
   "source": [
    "* Keep only US to China flows"
   ]
  },
  {
   "cell_type": "code",
   "execution_count": 13,
   "metadata": {},
   "outputs": [],
   "source": [
    "US_China_crude = US_China_crude[(US_China_crude['country_load']=='United States')&(US_China_crude['country_discharge']=='China')]"
   ]
  },
  {
   "cell_type": "markdown",
   "metadata": {},
   "source": [
    "* Aggregate all exports monthly\n",
    "* Drop unnecessary columns "
   ]
  },
  {
   "cell_type": "code",
   "execution_count": 14,
   "metadata": {},
   "outputs": [
    {
     "data": {
      "text/html": [
       "<div>\n",
       "<style scoped>\n",
       "    .dataframe tbody tr th:only-of-type {\n",
       "        vertical-align: middle;\n",
       "    }\n",
       "\n",
       "    .dataframe tbody tr th {\n",
       "        vertical-align: top;\n",
       "    }\n",
       "\n",
       "    .dataframe thead th {\n",
       "        text-align: right;\n",
       "    }\n",
       "</style>\n",
       "<table border=\"1\" class=\"dataframe\">\n",
       "  <thead>\n",
       "    <tr style=\"text-align: right;\">\n",
       "      <th></th>\n",
       "      <th>country_load</th>\n",
       "      <th>Date</th>\n",
       "      <th>TotalExports</th>\n",
       "    </tr>\n",
       "  </thead>\n",
       "  <tbody>\n",
       "    <tr>\n",
       "      <th>4443</th>\n",
       "      <td>United States</td>\n",
       "      <td>2022-01-01</td>\n",
       "      <td>5516656.0</td>\n",
       "    </tr>\n",
       "    <tr>\n",
       "      <th>4444</th>\n",
       "      <td>United States</td>\n",
       "      <td>2022-02-01</td>\n",
       "      <td>3801507.0</td>\n",
       "    </tr>\n",
       "    <tr>\n",
       "      <th>4445</th>\n",
       "      <td>United States</td>\n",
       "      <td>2022-03-01</td>\n",
       "      <td>8482108.0</td>\n",
       "    </tr>\n",
       "    <tr>\n",
       "      <th>4446</th>\n",
       "      <td>United States</td>\n",
       "      <td>2022-04-01</td>\n",
       "      <td>6956842.0</td>\n",
       "    </tr>\n",
       "    <tr>\n",
       "      <th>4447</th>\n",
       "      <td>United States</td>\n",
       "      <td>2022-05-01</td>\n",
       "      <td>1830122.0</td>\n",
       "    </tr>\n",
       "  </tbody>\n",
       "</table>\n",
       "</div>"
      ],
      "text/plain": [
       "       country_load       Date  TotalExports\n",
       "4443  United States 2022-01-01     5516656.0\n",
       "4444  United States 2022-02-01     3801507.0\n",
       "4445  United States 2022-03-01     8482108.0\n",
       "4446  United States 2022-04-01     6956842.0\n",
       "4447  United States 2022-05-01     1830122.0"
      ]
     },
     "execution_count": 14,
     "metadata": {},
     "output_type": "execute_result"
    }
   ],
   "source": [
    "US_China_crude['TotalExports'] = US_China_crude['flow_quantity_in_barrels'].groupby(US_China_crude['Date']).transform('sum')\n",
    "US_China_crude.drop_duplicates(subset=['Date'], keep='last', inplace = True)\n",
    "US_China_crude.drop(['country_discharge', 'flow_quantity_in_barrels'], axis=1, inplace = True)\n",
    "US_China_crude.head()"
   ]
  },
  {
   "cell_type": "markdown",
   "metadata": {},
   "source": [
    "### Plot the flows"
   ]
  },
  {
   "cell_type": "code",
   "execution_count": 15,
   "metadata": {},
   "outputs": [
    {
     "data": {
      "image/png": "[encoded data removed]"
     },
     "metadata": {},
     "output_type": "display_data"
    }
   ],
   "source": [
    "US_China_crude['Year'] = US_China_crude['Date'].apply(lambda date : date.year)\n",
    "US_China_crude['Month'] = US_China_crude['Date'].apply(lambda date : date.month)\n",
    "US_China_crude.sort_values(['Month', 'Year'], inplace = True)\n",
    "US_China_crude['Month'] = US_China_crude['Date'].apply(lambda date : date.strftime(\"%b\"))\n",
    "\n",
    "fig = px.histogram(US_China_crude, x=\"Month\", y=\"TotalExports\", color='Year',\n",
    "             barmode='group', height=500, width=1000,\n",
    "             title='US to China VLCC Crude (MT)',\n",
    "             color_discrete_sequence=[\"lightgray\", \"gray\", \"lightblue\"])\n",
    "fig.show()"
   ]
  },
  {
   "cell_type": "markdown",
   "metadata": {},
   "source": [
    "## Example 2 - Dry: Panamaxes Thermal Coal Flows from Newcastle to Japan (at Port Call level, powered by V4)"
   ]
  },
  {
   "cell_type": "markdown",
   "metadata": {},
   "source": [
    "Extract vessel class ids for Panamaxes"
   ]
  },
  {
   "cell_type": "code",
   "execution_count": 16,
   "metadata": {},
   "outputs": [
    {
     "data": {
      "text/html": [
       "<div>\n",
       "<style scoped>\n",
       "    .dataframe tbody tr th:only-of-type {\n",
       "        vertical-align: middle;\n",
       "    }\n",
       "\n",
       "    .dataframe tbody tr th {\n",
       "        vertical-align: top;\n",
       "    }\n",
       "\n",
       "    .dataframe thead th {\n",
       "        text-align: right;\n",
       "    }\n",
       "</style>\n",
       "<table border=\"1\" class=\"dataframe\">\n",
       "  <thead>\n",
       "    <tr style=\"text-align: right;\">\n",
       "      <th></th>\n",
       "      <th>vessel_class_id</th>\n",
       "      <th>vessel_class_name</th>\n",
       "      <th>vessel_type_id</th>\n",
       "      <th>vessel_type</th>\n",
       "    </tr>\n",
       "  </thead>\n",
       "  <tbody>\n",
       "    <tr>\n",
       "      <th>4</th>\n",
       "      <td>69</td>\n",
       "      <td>VLOC</td>\n",
       "      <td>3</td>\n",
       "      <td>Dry</td>\n",
       "    </tr>\n",
       "    <tr>\n",
       "      <th>5</th>\n",
       "      <td>70</td>\n",
       "      <td>Capesize</td>\n",
       "      <td>3</td>\n",
       "      <td>Dry</td>\n",
       "    </tr>\n",
       "    <tr>\n",
       "      <th>6</th>\n",
       "      <td>72</td>\n",
       "      <td>Post Panamax</td>\n",
       "      <td>3</td>\n",
       "      <td>Dry</td>\n",
       "    </tr>\n",
       "    <tr>\n",
       "      <th>7</th>\n",
       "      <td>74</td>\n",
       "      <td>Panamax</td>\n",
       "      <td>3</td>\n",
       "      <td>Dry</td>\n",
       "    </tr>\n",
       "    <tr>\n",
       "      <th>8</th>\n",
       "      <td>75</td>\n",
       "      <td>Supramax</td>\n",
       "      <td>3</td>\n",
       "      <td>Dry</td>\n",
       "    </tr>\n",
       "    <tr>\n",
       "      <th>9</th>\n",
       "      <td>76</td>\n",
       "      <td>Handymax</td>\n",
       "      <td>3</td>\n",
       "      <td>Dry</td>\n",
       "    </tr>\n",
       "    <tr>\n",
       "      <th>10</th>\n",
       "      <td>77</td>\n",
       "      <td>Handysize</td>\n",
       "      <td>3</td>\n",
       "      <td>Dry</td>\n",
       "    </tr>\n",
       "    <tr>\n",
       "      <th>19</th>\n",
       "      <td>92</td>\n",
       "      <td>Small</td>\n",
       "      <td>3</td>\n",
       "      <td>Dry</td>\n",
       "    </tr>\n",
       "  </tbody>\n",
       "</table>\n",
       "</div>"
      ],
      "text/plain": [
       "    vessel_class_id vessel_class_name  vessel_type_id vessel_type\n",
       "4                69              VLOC               3         Dry\n",
       "5                70          Capesize               3         Dry\n",
       "6                72      Post Panamax               3         Dry\n",
       "7                74           Panamax               3         Dry\n",
       "8                75          Supramax               3         Dry\n",
       "9                76          Handymax               3         Dry\n",
       "10               77         Handysize               3         Dry\n",
       "19               92             Small               3         Dry"
      ]
     },
     "execution_count": 16,
     "metadata": {},
     "output_type": "execute_result"
    }
   ],
   "source": [
    "vessel_classes_df[vessel_classes_df['vessel_type']=='Dry'].head(10)"
   ]
  },
  {
   "cell_type": "markdown",
   "metadata": {},
   "source": [
    "### Get voyages for selected vessel classes (Post Panamax and Panamax) after a given date"
   ]
  },
  {
   "cell_type": "code",
   "execution_count": 17,
   "metadata": {},
   "outputs": [
    {
     "data": {
      "text/html": [
       "<div>\n",
       "<style scoped>\n",
       "    .dataframe tbody tr th:only-of-type {\n",
       "        vertical-align: middle;\n",
       "    }\n",
       "\n",
       "    .dataframe tbody tr th {\n",
       "        vertical-align: top;\n",
       "    }\n",
       "\n",
       "    .dataframe thead th {\n",
       "        text-align: right;\n",
       "    }\n",
       "</style>\n",
       "<table border=\"1\" class=\"dataframe\">\n",
       "  <thead>\n",
       "    <tr style=\"text-align: right;\">\n",
       "      <th></th>\n",
       "      <th>imo</th>\n",
       "      <th>voyage_number</th>\n",
       "      <th>vessel_type_id</th>\n",
       "      <th>vessel_class_id</th>\n",
       "      <th>vessel_status_id</th>\n",
       "      <th>commercial_operator_id</th>\n",
       "      <th>deleted</th>\n",
       "      <th>events</th>\n",
       "      <th>id</th>\n",
       "      <th>horizon_id</th>\n",
       "      <th>...</th>\n",
       "      <th>is_implied_by_ais</th>\n",
       "      <th>has_manual_entries</th>\n",
       "      <th>ballast_distance</th>\n",
       "      <th>predicted_ballast_distance</th>\n",
       "      <th>laden_distance</th>\n",
       "      <th>predicted_laden_distance</th>\n",
       "      <th>suez_crossing</th>\n",
       "      <th>panama_crossing</th>\n",
       "      <th>canakkale_crossing</th>\n",
       "      <th>bosporus_crossing</th>\n",
       "    </tr>\n",
       "  </thead>\n",
       "  <tbody>\n",
       "    <tr>\n",
       "      <th>34619</th>\n",
       "      <td>9991680</td>\n",
       "      <td>2</td>\n",
       "      <td>3</td>\n",
       "      <td>74</td>\n",
       "      <td>1</td>\n",
       "      <td>NaN</td>\n",
       "      <td>False</td>\n",
       "      <td>(VoyageEvent(id='I9876004ASEDD37BE00', port_id...</td>\n",
       "      <td>I9876004AVEDD37BE00</td>\n",
       "      <td>1</td>\n",
       "      <td>...</td>\n",
       "      <td>None</td>\n",
       "      <td>None</td>\n",
       "      <td>780.03</td>\n",
       "      <td>NaN</td>\n",
       "      <td>791.47</td>\n",
       "      <td>NaN</td>\n",
       "      <td>None</td>\n",
       "      <td>None</td>\n",
       "      <td>None</td>\n",
       "      <td>None</td>\n",
       "    </tr>\n",
       "    <tr>\n",
       "      <th>34620</th>\n",
       "      <td>9991680</td>\n",
       "      <td>3</td>\n",
       "      <td>3</td>\n",
       "      <td>74</td>\n",
       "      <td>1</td>\n",
       "      <td>NaN</td>\n",
       "      <td>False</td>\n",
       "      <td>(VoyageEvent(id='I9876004ASEDD521C00', port_id...</td>\n",
       "      <td>I9876004AVEDD521C00</td>\n",
       "      <td>2</td>\n",
       "      <td>...</td>\n",
       "      <td>True</td>\n",
       "      <td>None</td>\n",
       "      <td>175.35</td>\n",
       "      <td>571.09</td>\n",
       "      <td>NaN</td>\n",
       "      <td>1419.93</td>\n",
       "      <td>None</td>\n",
       "      <td>None</td>\n",
       "      <td>None</td>\n",
       "      <td>None</td>\n",
       "    </tr>\n",
       "  </tbody>\n",
       "</table>\n",
       "<p>2 rows × 69 columns</p>\n",
       "</div>"
      ],
      "text/plain": [
       "           imo  voyage_number  vessel_type_id  vessel_class_id  \\\n",
       "34619  9991680              2               3               74   \n",
       "34620  9991680              3               3               74   \n",
       "\n",
       "       vessel_status_id  commercial_operator_id  deleted  \\\n",
       "34619                 1                     NaN    False   \n",
       "34620                 1                     NaN    False   \n",
       "\n",
       "                                                  events                   id  \\\n",
       "34619  (VoyageEvent(id='I9876004ASEDD37BE00', port_id...  I9876004AVEDD37BE00   \n",
       "34620  (VoyageEvent(id='I9876004ASEDD521C00', port_id...  I9876004AVEDD521C00   \n",
       "\n",
       "       horizon_id  ... is_implied_by_ais has_manual_entries ballast_distance  \\\n",
       "34619           1  ...              None               None           780.03   \n",
       "34620           2  ...              True               None           175.35   \n",
       "\n",
       "      predicted_ballast_distance laden_distance predicted_laden_distance  \\\n",
       "34619                        NaN         791.47                      NaN   \n",
       "34620                     571.09            NaN                  1419.93   \n",
       "\n",
       "      suez_crossing  panama_crossing canakkale_crossing  bosporus_crossing  \n",
       "34619          None             None               None               None  \n",
       "34620          None             None               None               None  \n",
       "\n",
       "[2 rows x 69 columns]"
      ]
     },
     "execution_count": 17,
     "metadata": {},
     "output_type": "execute_result"
    }
   ],
   "source": [
    "vessel_class_ids = (72, 74)\n",
    "date_from = datetime.strptime(\"2022-09-01\", \"%Y-%m-%d\")\n",
    "\n",
    "voyages = []\n",
    "for vessel_class_id in vessel_class_ids:    \n",
    "    voyages.append(api.get_voyages(vessel_class_id=vessel_class_id, date_from=date_from))\n",
    "\n",
    "voyages = pd.DataFrame([v.__dict__ for vc in voyages for v in vc])\n",
    "voyages.tail(2)"
   ]
  },
  {
   "cell_type": "markdown",
   "metadata": {},
   "source": [
    "Keep only voyages with Cargo Type Thermal Coal"
   ]
  },
  {
   "cell_type": "code",
   "execution_count": 18,
   "metadata": {},
   "outputs": [],
   "source": [
    "voyages = voyages[(voyages['horizon']=='Historical')&(voyages['cargo_type']=='Thermal Coal')][['id', 'quantity', 'cargo_type', 'events']].copy()\n",
    "voyages.rename(columns={'quantity': 'voyage_quantity', 'id': 'v_id'}, inplace = True)"
   ]
  },
  {
   "cell_type": "markdown",
   "metadata": {},
   "source": [
    "explode dataframe to create 1 row per event and extract event info into columns"
   ]
  },
  {
   "cell_type": "code",
   "execution_count": 19,
   "metadata": {},
   "outputs": [],
   "source": [
    "voyages=voyages.explode('events')\n",
    "voyages['events'] = voyages['events'].apply(lambda x: x.__dict__)\n",
    "voyages=pd.concat([voyages.drop(['events'], axis=1), voyages['events'].apply(pd.Series)], axis=1)"
   ]
  },
  {
   "cell_type": "markdown",
   "metadata": {},
   "source": [
    "Keep only Load/Discharge events and drop some columns\n",
    "* **Note:** Voyages Data API has information on all levels of Cargo Tree taxonomy, from cargo group, down to cargo sub type (grade). For this example we will use cargo_type corresponding to the taxonomy of Thermal Coal"
   ]
  },
  {
   "cell_type": "code",
   "execution_count": 20,
   "metadata": {},
   "outputs": [],
   "source": [
    "voyages=voyages[(voyages['purpose']=='Discharge')|(voyages['purpose']=='Load')][[ 'v_id', 'voyage_quantity', 'purpose', 'arrival_date', 'cargo_type',\n",
    "                                                                                 'sailing_date', 'port_name', 'country', 'quantity']]"
   ]
  },
  {
   "cell_type": "markdown",
   "metadata": {},
   "source": [
    "### Converting events to flows"
   ]
  },
  {
   "cell_type": "markdown",
   "metadata": {},
   "source": [
    "Combine Load and Discharge operations of the same voyage to create flows"
   ]
  },
  {
   "cell_type": "code",
   "execution_count": 21,
   "metadata": {},
   "outputs": [],
   "source": [
    "flows=voyages[voyages['purpose']=='Load'].merge(voyages[voyages['purpose']=='Discharge'], on = ['v_id', 'voyage_quantity', 'cargo_type'], suffixes=['_load','_discharge'])"
   ]
  },
  {
   "cell_type": "code",
   "execution_count": 22,
   "metadata": {},
   "outputs": [],
   "source": [
    "flows['flow_quantity'] = flows['quantity_load']*flows['quantity_discharge']/flows['voyage_quantity']"
   ]
  },
  {
   "cell_type": "markdown",
   "metadata": {},
   "source": [
    "Convert Timestamp to datetime"
   ]
  },
  {
   "cell_type": "code",
   "execution_count": 23,
   "metadata": {},
   "outputs": [],
   "source": [
    "flows['sailing_date_load'] = flows['sailing_date_load'].apply(lambda d : pd.to_datetime(d).tz_localize(None))"
   ]
  },
  {
   "cell_type": "markdown",
   "metadata": {},
   "source": [
    "## Group flows by origin port and destination country and use sailing_date_load as date of export"
   ]
  },
  {
   "cell_type": "code",
   "execution_count": 24,
   "metadata": {},
   "outputs": [],
   "source": [
    "Newcastle_Japan_coal = flows[(flows['sailing_date_load']>\"2023-01-01\")] \\\n",
    "    .set_index('sailing_date_load') \\\n",
    "    .groupby(['port_name_load', 'country_discharge'])['flow_quantity'] \\\n",
    "    .resample('MS') \\\n",
    "    .sum() \\\n",
    "    .reset_index() \\\n",
    "    .rename(columns={'sailing_date_load': 'Date'})"
   ]
  },
  {
   "cell_type": "markdown",
   "metadata": {},
   "source": [
    "* Keep only Newcastle to Japan flows"
   ]
  },
  {
   "cell_type": "code",
   "execution_count": 25,
   "metadata": {},
   "outputs": [],
   "source": [
    "Newcastle_Japan_coal = Newcastle_Japan_coal[(Newcastle_Japan_coal['port_name_load']=='Newcastle')&(Newcastle_Japan_coal['country_discharge']=='Japan')]"
   ]
  },
  {
   "cell_type": "markdown",
   "metadata": {},
   "source": [
    "* Aggregate all exports monthly\n",
    "* Drop unnecessary columns "
   ]
  },
  {
   "cell_type": "code",
   "execution_count": 26,
   "metadata": {},
   "outputs": [
    {
     "data": {
      "text/html": [
       "<div>\n",
       "<style scoped>\n",
       "    .dataframe tbody tr th:only-of-type {\n",
       "        vertical-align: middle;\n",
       "    }\n",
       "\n",
       "    .dataframe tbody tr th {\n",
       "        vertical-align: top;\n",
       "    }\n",
       "\n",
       "    .dataframe thead th {\n",
       "        text-align: right;\n",
       "    }\n",
       "</style>\n",
       "<table border=\"1\" class=\"dataframe\">\n",
       "  <thead>\n",
       "    <tr style=\"text-align: right;\">\n",
       "      <th></th>\n",
       "      <th>port_name_load</th>\n",
       "      <th>Date</th>\n",
       "      <th>TotalExports</th>\n",
       "    </tr>\n",
       "  </thead>\n",
       "  <tbody>\n",
       "    <tr>\n",
       "      <th>1950</th>\n",
       "      <td>Newcastle</td>\n",
       "      <td>2023-01-01</td>\n",
       "      <td>4407000.0</td>\n",
       "    </tr>\n",
       "    <tr>\n",
       "      <th>1951</th>\n",
       "      <td>Newcastle</td>\n",
       "      <td>2023-02-01</td>\n",
       "      <td>3623000.0</td>\n",
       "    </tr>\n",
       "    <tr>\n",
       "      <th>1952</th>\n",
       "      <td>Newcastle</td>\n",
       "      <td>2023-03-01</td>\n",
       "      <td>4003000.0</td>\n",
       "    </tr>\n",
       "    <tr>\n",
       "      <th>1953</th>\n",
       "      <td>Newcastle</td>\n",
       "      <td>2023-04-01</td>\n",
       "      <td>1959000.0</td>\n",
       "    </tr>\n",
       "    <tr>\n",
       "      <th>1954</th>\n",
       "      <td>Newcastle</td>\n",
       "      <td>2023-05-01</td>\n",
       "      <td>2703000.0</td>\n",
       "    </tr>\n",
       "  </tbody>\n",
       "</table>\n",
       "</div>"
      ],
      "text/plain": [
       "     port_name_load       Date  TotalExports\n",
       "1950      Newcastle 2023-01-01     4407000.0\n",
       "1951      Newcastle 2023-02-01     3623000.0\n",
       "1952      Newcastle 2023-03-01     4003000.0\n",
       "1953      Newcastle 2023-04-01     1959000.0\n",
       "1954      Newcastle 2023-05-01     2703000.0"
      ]
     },
     "execution_count": 26,
     "metadata": {},
     "output_type": "execute_result"
    }
   ],
   "source": [
    "Newcastle_Japan_coal['TotalExports'] = Newcastle_Japan_coal['flow_quantity'].groupby(Newcastle_Japan_coal['Date']).transform('sum')\n",
    "Newcastle_Japan_coal.drop_duplicates(subset=['Date'], keep='last', inplace = True)\n",
    "Newcastle_Japan_coal.drop(['country_discharge', 'flow_quantity'], axis=1, inplace = True)\n",
    "Newcastle_Japan_coal.head()"
   ]
  },
  {
   "cell_type": "markdown",
   "metadata": {},
   "source": [
    "### Plot the flows"
   ]
  },
  {
   "cell_type": "code",
   "execution_count": 27,
   "metadata": {},
   "outputs": [
    {
     "data": {
      "image/png": "[encoded data removed]"
     },
     "metadata": {},
     "output_type": "display_data"
    }
   ],
   "source": [
    "Newcastle_Japan_coal['Year'] = Newcastle_Japan_coal['Date'].apply(lambda date : date.year)\n",
    "Newcastle_Japan_coal['Month'] = Newcastle_Japan_coal['Date'].apply(lambda date : date.month)\n",
    "Newcastle_Japan_coal.sort_values(['Month', 'Year'], inplace = True)\n",
    "Newcastle_Japan_coal['Month'] = Newcastle_Japan_coal['Date'].apply(lambda date : date.strftime(\"%b\"))\n",
    "\n",
    "fig = px.histogram(Newcastle_Japan_coal, x=\"Month\", y=\"TotalExports\", color='Year',\n",
    "             barmode='group', height=500, width=1000,\n",
    "             title='Newcastle to Japan Panamaxes Thermal Coal (MT)',\n",
    "             color_discrete_sequence=[\"lightgray\", \"gray\", \"lightblue\"])\n",
    "fig.show()"
   ]
  }
 ],
 "metadata": {
  "colab": {
   "collapsed_sections": [],
   "name": "Copy of VoyagesAPI.ipynb",
   "provenance": []
  },
  "kernelspec": {
   "display_name": "Python 3 (ipykernel)",
   "language": "python",
   "name": "python3"
  },
  "language_info": {
   "codemirror_mode": {
    "name": "ipython",
    "version": 3
   },
   "file_extension": ".py",
   "mimetype": "text/x-python",
   "name": "python",
   "nbconvert_exporter": "python",
   "pygments_lexer": "ipython3",
   "version": "3.8.12"
  }
 },
 "nbformat": 4,
 "nbformat_minor": 4
}
