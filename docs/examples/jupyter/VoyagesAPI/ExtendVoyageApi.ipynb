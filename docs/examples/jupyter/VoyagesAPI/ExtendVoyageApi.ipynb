{
  "nbformat": 4,
  "nbformat_minor": 0,
  "metadata": {
    "colab": {
      "name": "ExtendVoyageApi.ipynb",
      "provenance": [],
      "collapsed_sections": []
    },
    "kernelspec": {
      "name": "python3",
      "display_name": "Python 3"
    },
    "language_info": {
      "name": "python"
    }
  },
  "cells": [
    {
      "cell_type": "markdown",
      "source": [
        "# Extend Voyage API"
      ],
      "metadata": {
        "id": "rUv4xzHv9S4p"
      }
    },
    {
      "cell_type": "markdown",
      "source": [
        "Get your personal Signal Ocean API subscription key (acquired [here](https://apis.signalocean.com/profile)) and replace it below:"
      ],
      "metadata": {
        "id": "8QK_iVn3921k"
      }
    },
    {
      "cell_type": "code",
      "execution_count": 1,
      "metadata": {
        "id": "6R3E9OEF9KDF"
      },
      "outputs": [],
      "source": [
        "signal_ocean_api_key = '' # replace with your subscription key"
      ]
    },
    {
      "cell_type": "code",
      "source": [
        ""
      ],
      "metadata": {
        "id": "i6-keXTY997y"
      },
      "execution_count": null,
      "outputs": []
    }
  ]
}