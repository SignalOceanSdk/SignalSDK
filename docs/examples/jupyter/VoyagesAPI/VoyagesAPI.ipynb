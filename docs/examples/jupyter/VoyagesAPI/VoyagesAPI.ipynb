{
 "cells": [
  {
   "cell_type": "markdown",
   "metadata": {
    "id": "pLubipKzOyvL",
    "pycharm": {
     "name": "#%% md\n"
    }
   },
   "source": [
    "# Voyages API Example\n",
    "\n",
    "## Run this example in [Colab](https://colab.research.google.com/github/SignalOceanSdk/SignalSDK/blob/master/docs/examples/jupyter/VoyagesAPI/VoyagesAPI.ipynb). "
   ]
  },
  {
   "cell_type": "markdown",
   "metadata": {},
   "source": [
    "## Setup\n",
    "Install the Signal Ocean SDK:\n",
    "```\n",
    "pip install signal-ocean\n",
    "```\n",
    "Set your subscription key acquired here: https://apis.signalocean.com/profile"
   ]
  },
  {
   "cell_type": "code",
   "execution_count": null,
   "metadata": {},
   "outputs": [],
   "source": [
    "pip install signal-ocean"
   ]
  },
  {
   "cell_type": "code",
   "execution_count": 21,
   "metadata": {
    "id": "poC0RHOcOyvR",
    "pycharm": {
     "name": "#%%\n"
    }
   },
   "outputs": [],
   "source": [
    "signal_ocean_api_key = '' #replace with your subscription key"
   ]
  },
  {
   "cell_type": "markdown",
   "metadata": {
    "id": "QzHwIp20OyvS",
    "pycharm": {
     "name": "#%% md\n"
    }
   },
   "source": [
    "## Call the Voyages API\n",
    "The Voyages API retrieves information about vessel voyages."
   ]
  },
  {
   "cell_type": "code",
   "execution_count": 22,
   "metadata": {
    "id": "VaLkKseYOyvT",
    "pycharm": {
     "name": "#%%\n"
    }
   },
   "outputs": [],
   "source": [
    "from signal_ocean import Connection\n",
    "from signal_ocean.voyages import VoyagesAPI\n",
    "from signal_ocean.voyages import Vessel, VesselFilter\n",
    "from signal_ocean.voyages import VesselType, VesselTypeFilter\n",
    "from signal_ocean.voyages import VesselClass, VesselClassFilter\n",
    "import pandas as pd\n",
    "from datetime import date, timedelta"
   ]
  },
  {
   "cell_type": "code",
   "execution_count": 23,
   "metadata": {
    "id": "bSu1XgNTOyvT",
    "pycharm": {
     "name": "#%%\n"
    }
   },
   "outputs": [],
   "source": [
    "connection = Connection(signal_ocean_api_key)\n",
    "api = VoyagesAPI(connection)"
   ]
  },
  {
   "cell_type": "markdown",
   "metadata": {
    "id": "G6tGahRbOyvU",
    "pycharm": {
     "name": "#%% md\n"
    }
   },
   "source": [
    "### Get voyages for vessel"
   ]
  },
  {
   "cell_type": "code",
   "execution_count": 2,
   "metadata": {
    "colab": {
     "base_uri": "https://localhost:8080/"
    },
    "id": "TgqUa2VkQGH1",
    "outputId": "21dbd2a9-a52a-4376-b0fa-5384f01d5611",
    "pycharm": {
     "name": "#%%\n"
    }
   },
   "outputs": [
    {
     "data": {
      "text/plain": [
       "Vessel(imo=9292187, vessel_name='Gold Pearl')"
      ]
     },
     "execution_count": 2,
     "metadata": {},
     "output_type": "execute_result"
    }
   ],
   "source": [
    "# get the imo by using the vessel name\n",
    "vessel = api.get_imos(VesselFilter('Gold Pearl'))[0]\n",
    "vessel"
   ]
  },
  {
   "cell_type": "code",
   "execution_count": 3,
   "metadata": {
    "id": "sdwh-04uOyvU",
    "pycharm": {
     "name": "#%%\n"
    }
   },
   "outputs": [],
   "source": [
    "vessel_voyages = api.get_voyages(imo=vessel.imo)"
   ]
  },
  {
   "cell_type": "code",
   "execution_count": 4,
   "metadata": {
    "colab": {
     "base_uri": "https://localhost:8080/",
     "height": 409
    },
    "id": "JFd0wslmOyvV",
    "outputId": "e2de31e6-bb3e-4945-f05b-79a34c122853",
    "pycharm": {
     "name": "#%%\n"
    }
   },
   "outputs": [
    {
     "data": {
      "text/html": [
       "<div>\n",
       "<style scoped>\n",
       "    .dataframe tbody tr th:only-of-type {\n",
       "        vertical-align: middle;\n",
       "    }\n",
       "\n",
       "    .dataframe tbody tr th {\n",
       "        vertical-align: top;\n",
       "    }\n",
       "\n",
       "    .dataframe thead th {\n",
       "        text-align: right;\n",
       "    }\n",
       "</style>\n",
       "<table border=\"1\" class=\"dataframe\">\n",
       "  <thead>\n",
       "    <tr style=\"text-align: right;\">\n",
       "      <th></th>\n",
       "      <th>imo</th>\n",
       "      <th>voyage_number</th>\n",
       "      <th>vessel_type_id</th>\n",
       "      <th>vessel_class_id</th>\n",
       "      <th>vessel_status_id</th>\n",
       "      <th>commercial_operator_id</th>\n",
       "      <th>deleted</th>\n",
       "      <th>events</th>\n",
       "      <th>id</th>\n",
       "      <th>horizon_id</th>\n",
       "      <th>...</th>\n",
       "      <th>is_implied_by_ais</th>\n",
       "      <th>has_manual_entries</th>\n",
       "      <th>ballast_distance</th>\n",
       "      <th>predicted_ballast_distance</th>\n",
       "      <th>laden_distance</th>\n",
       "      <th>predicted_laden_distance</th>\n",
       "      <th>suez_crossing</th>\n",
       "      <th>panama_crossing</th>\n",
       "      <th>canakkale_crossing</th>\n",
       "      <th>bosporus_crossing</th>\n",
       "    </tr>\n",
       "  </thead>\n",
       "  <tbody>\n",
       "    <tr>\n",
       "      <th>63</th>\n",
       "      <td>9292187</td>\n",
       "      <td>64</td>\n",
       "      <td>1</td>\n",
       "      <td>84</td>\n",
       "      <td>1</td>\n",
       "      <td>1684.0</td>\n",
       "      <td>False</td>\n",
       "      <td>(VoyageEvent(id='I8DC99BSEDABEEE00', port_id=3...</td>\n",
       "      <td>I8DC99BVEDABEEE00</td>\n",
       "      <td>1</td>\n",
       "      <td>...</td>\n",
       "      <td>None</td>\n",
       "      <td>None</td>\n",
       "      <td>3831.88</td>\n",
       "      <td>NaN</td>\n",
       "      <td>4588.66</td>\n",
       "      <td>None</td>\n",
       "      <td>None</td>\n",
       "      <td>None</td>\n",
       "      <td>None</td>\n",
       "      <td>None</td>\n",
       "    </tr>\n",
       "    <tr>\n",
       "      <th>64</th>\n",
       "      <td>9292187</td>\n",
       "      <td>65</td>\n",
       "      <td>1</td>\n",
       "      <td>84</td>\n",
       "      <td>1</td>\n",
       "      <td>1684.0</td>\n",
       "      <td>False</td>\n",
       "      <td>(VoyageEvent(id='I8DC99BSEDB0E0800', port_id=7...</td>\n",
       "      <td>I8DC99BVEDB0E0800</td>\n",
       "      <td>1</td>\n",
       "      <td>...</td>\n",
       "      <td>None</td>\n",
       "      <td>None</td>\n",
       "      <td>4612.85</td>\n",
       "      <td>NaN</td>\n",
       "      <td>5273.31</td>\n",
       "      <td>None</td>\n",
       "      <td>None</td>\n",
       "      <td>None</td>\n",
       "      <td>None</td>\n",
       "      <td>None</td>\n",
       "    </tr>\n",
       "    <tr>\n",
       "      <th>65</th>\n",
       "      <td>9292187</td>\n",
       "      <td>66</td>\n",
       "      <td>1</td>\n",
       "      <td>84</td>\n",
       "      <td>1</td>\n",
       "      <td>1684.0</td>\n",
       "      <td>False</td>\n",
       "      <td>(VoyageEvent(id='I8DC99BSEDB359500', port_id=3...</td>\n",
       "      <td>I8DC99BVEDB359500</td>\n",
       "      <td>1</td>\n",
       "      <td>...</td>\n",
       "      <td>None</td>\n",
       "      <td>None</td>\n",
       "      <td>5422.68</td>\n",
       "      <td>NaN</td>\n",
       "      <td>4631.81</td>\n",
       "      <td>None</td>\n",
       "      <td>None</td>\n",
       "      <td>None</td>\n",
       "      <td>None</td>\n",
       "      <td>None</td>\n",
       "    </tr>\n",
       "    <tr>\n",
       "      <th>66</th>\n",
       "      <td>9292187</td>\n",
       "      <td>67</td>\n",
       "      <td>1</td>\n",
       "      <td>84</td>\n",
       "      <td>1</td>\n",
       "      <td>NaN</td>\n",
       "      <td>False</td>\n",
       "      <td>(VoyageEvent(id='I8DC99BSEDB5D2200', port_id=7...</td>\n",
       "      <td>I8DC99BVEDB5D2200</td>\n",
       "      <td>1</td>\n",
       "      <td>...</td>\n",
       "      <td>None</td>\n",
       "      <td>None</td>\n",
       "      <td>10166.69</td>\n",
       "      <td>NaN</td>\n",
       "      <td>8065.06</td>\n",
       "      <td>None</td>\n",
       "      <td>None</td>\n",
       "      <td>None</td>\n",
       "      <td>None</td>\n",
       "      <td>None</td>\n",
       "    </tr>\n",
       "    <tr>\n",
       "      <th>67</th>\n",
       "      <td>9292187</td>\n",
       "      <td>68</td>\n",
       "      <td>1</td>\n",
       "      <td>84</td>\n",
       "      <td>1</td>\n",
       "      <td>NaN</td>\n",
       "      <td>False</td>\n",
       "      <td>(VoyageEvent(id='I8DC99BSEDC4A7000', port_id=3...</td>\n",
       "      <td>I8DC99BVEDC4A7000</td>\n",
       "      <td>2</td>\n",
       "      <td>...</td>\n",
       "      <td>None</td>\n",
       "      <td>None</td>\n",
       "      <td>4517.18</td>\n",
       "      <td>2439.95</td>\n",
       "      <td>NaN</td>\n",
       "      <td>None</td>\n",
       "      <td>None</td>\n",
       "      <td>None</td>\n",
       "      <td>None</td>\n",
       "      <td>None</td>\n",
       "    </tr>\n",
       "  </tbody>\n",
       "</table>\n",
       "<p>5 rows × 55 columns</p>\n",
       "</div>"
      ],
      "text/plain": [
       "        imo  voyage_number  vessel_type_id  vessel_class_id  vessel_status_id  \\\n",
       "63  9292187             64               1               84                 1   \n",
       "64  9292187             65               1               84                 1   \n",
       "65  9292187             66               1               84                 1   \n",
       "66  9292187             67               1               84                 1   \n",
       "67  9292187             68               1               84                 1   \n",
       "\n",
       "    commercial_operator_id  deleted  \\\n",
       "63                  1684.0    False   \n",
       "64                  1684.0    False   \n",
       "65                  1684.0    False   \n",
       "66                     NaN    False   \n",
       "67                     NaN    False   \n",
       "\n",
       "                                               events                 id  \\\n",
       "63  (VoyageEvent(id='I8DC99BSEDABEEE00', port_id=3...  I8DC99BVEDABEEE00   \n",
       "64  (VoyageEvent(id='I8DC99BSEDB0E0800', port_id=7...  I8DC99BVEDB0E0800   \n",
       "65  (VoyageEvent(id='I8DC99BSEDB359500', port_id=3...  I8DC99BVEDB359500   \n",
       "66  (VoyageEvent(id='I8DC99BSEDB5D2200', port_id=7...  I8DC99BVEDB5D2200   \n",
       "67  (VoyageEvent(id='I8DC99BSEDC4A7000', port_id=3...  I8DC99BVEDC4A7000   \n",
       "\n",
       "    horizon_id  ... is_implied_by_ais has_manual_entries ballast_distance  \\\n",
       "63           1  ...              None               None          3831.88   \n",
       "64           1  ...              None               None          4612.85   \n",
       "65           1  ...              None               None          5422.68   \n",
       "66           1  ...              None               None         10166.69   \n",
       "67           2  ...              None               None          4517.18   \n",
       "\n",
       "   predicted_ballast_distance laden_distance predicted_laden_distance  \\\n",
       "63                        NaN        4588.66                     None   \n",
       "64                        NaN        5273.31                     None   \n",
       "65                        NaN        4631.81                     None   \n",
       "66                        NaN        8065.06                     None   \n",
       "67                    2439.95            NaN                     None   \n",
       "\n",
       "   suez_crossing  panama_crossing canakkale_crossing  bosporus_crossing  \n",
       "63          None             None               None               None  \n",
       "64          None             None               None               None  \n",
       "65          None             None               None               None  \n",
       "66          None             None               None               None  \n",
       "67          None             None               None               None  \n",
       "\n",
       "[5 rows x 55 columns]"
      ]
     },
     "execution_count": 4,
     "metadata": {},
     "output_type": "execute_result"
    }
   ],
   "source": [
    "vessel_voyages_df = pd.DataFrame([v.__dict__ for v in vessel_voyages])\n",
    "vessel_voyages_df.tail(5)"
   ]
  },
  {
   "cell_type": "code",
   "execution_count": 5,
   "metadata": {
    "id": "MEjdHQ3cOyvW",
    "outputId": "0f167ab2-b1d4-4663-b994-ad1ac06485ea",
    "pycharm": {
     "name": "#%%\n"
    }
   },
   "outputs": [
    {
     "data": {
      "text/html": [
       "<div>\n",
       "<style scoped>\n",
       "    .dataframe tbody tr th:only-of-type {\n",
       "        vertical-align: middle;\n",
       "    }\n",
       "\n",
       "    .dataframe tbody tr th {\n",
       "        vertical-align: top;\n",
       "    }\n",
       "\n",
       "    .dataframe thead th {\n",
       "        text-align: right;\n",
       "    }\n",
       "</style>\n",
       "<table border=\"1\" class=\"dataframe\">\n",
       "  <thead>\n",
       "    <tr style=\"text-align: right;\">\n",
       "      <th></th>\n",
       "      <th>id</th>\n",
       "      <th>port_id</th>\n",
       "      <th>voyage_id</th>\n",
       "      <th>event_type</th>\n",
       "      <th>event_horizon</th>\n",
       "      <th>purpose</th>\n",
       "      <th>event_date</th>\n",
       "      <th>arrival_date</th>\n",
       "      <th>sailing_date</th>\n",
       "      <th>latitude</th>\n",
       "      <th>...</th>\n",
       "      <th>area_idlevel0</th>\n",
       "      <th>area_name_level0</th>\n",
       "      <th>area_idlevel1</th>\n",
       "      <th>area_name_level1</th>\n",
       "      <th>area_idlevel2</th>\n",
       "      <th>area_name_level2</th>\n",
       "      <th>area_idlevel3</th>\n",
       "      <th>area_name_level3</th>\n",
       "      <th>low_ais_density</th>\n",
       "      <th>event_details</th>\n",
       "    </tr>\n",
       "  </thead>\n",
       "  <tbody>\n",
       "    <tr>\n",
       "      <th>396</th>\n",
       "      <td>I8DC99BSEDC4A7000</td>\n",
       "      <td>3794</td>\n",
       "      <td>None</td>\n",
       "      <td>VoyageStart</td>\n",
       "      <td>Historical</td>\n",
       "      <td>Start</td>\n",
       "      <td>2023-08-01 15:40:25+00:00</td>\n",
       "      <td>NaT</td>\n",
       "      <td>NaT</td>\n",
       "      <td>2.0407</td>\n",
       "      <td>...</td>\n",
       "      <td>24655</td>\n",
       "      <td>Singapore / Malaysia</td>\n",
       "      <td>23</td>\n",
       "      <td>South East Asia</td>\n",
       "      <td>99</td>\n",
       "      <td>Far East</td>\n",
       "      <td>84</td>\n",
       "      <td>East</td>\n",
       "      <td>None</td>\n",
       "      <td>None</td>\n",
       "    </tr>\n",
       "    <tr>\n",
       "      <th>397</th>\n",
       "      <td>I8DC99BTEDC579F00</td>\n",
       "      <td>3794</td>\n",
       "      <td>None</td>\n",
       "      <td>Stop</td>\n",
       "      <td>Historical</td>\n",
       "      <td>Stop</td>\n",
       "      <td>NaT</td>\n",
       "      <td>2023-08-01 19:45:50+00:00</td>\n",
       "      <td>2023-08-04 15:38:45+00:00</td>\n",
       "      <td>2.0904</td>\n",
       "      <td>...</td>\n",
       "      <td>24655</td>\n",
       "      <td>Singapore / Malaysia</td>\n",
       "      <td>23</td>\n",
       "      <td>South East Asia</td>\n",
       "      <td>99</td>\n",
       "      <td>Far East</td>\n",
       "      <td>84</td>\n",
       "      <td>East</td>\n",
       "      <td>None</td>\n",
       "      <td>(VoyageEventDetail(id='I8DC99BLEDC5A4200', eve...</td>\n",
       "    </tr>\n",
       "    <tr>\n",
       "      <th>398</th>\n",
       "      <td>I8DC99BTEDC5E3680</td>\n",
       "      <td>9099</td>\n",
       "      <td>None</td>\n",
       "      <td>Stop</td>\n",
       "      <td>Historical</td>\n",
       "      <td>Stop</td>\n",
       "      <td>NaT</td>\n",
       "      <td>2023-08-06 07:52:49+00:00</td>\n",
       "      <td>2023-08-07 23:55:12+00:00</td>\n",
       "      <td>10.2290</td>\n",
       "      <td>...</td>\n",
       "      <td>24770</td>\n",
       "      <td>Thailand / Vietnam</td>\n",
       "      <td>23</td>\n",
       "      <td>South East Asia</td>\n",
       "      <td>99</td>\n",
       "      <td>Far East</td>\n",
       "      <td>84</td>\n",
       "      <td>East</td>\n",
       "      <td>None</td>\n",
       "      <td>(VoyageEventDetail(id='I8DC99BLEDC5E3680', eve...</td>\n",
       "    </tr>\n",
       "    <tr>\n",
       "      <th>399</th>\n",
       "      <td>I8DC99BTEDC64CE00</td>\n",
       "      <td>3669</td>\n",
       "      <td>None</td>\n",
       "      <td>PortCall</td>\n",
       "      <td>Historical</td>\n",
       "      <td>Dry dock</td>\n",
       "      <td>NaT</td>\n",
       "      <td>2023-08-10 07:58:02+00:00</td>\n",
       "      <td>2023-08-27 03:58:36+00:00</td>\n",
       "      <td>1.4543</td>\n",
       "      <td>...</td>\n",
       "      <td>24655</td>\n",
       "      <td>Singapore / Malaysia</td>\n",
       "      <td>23</td>\n",
       "      <td>South East Asia</td>\n",
       "      <td>99</td>\n",
       "      <td>Far East</td>\n",
       "      <td>84</td>\n",
       "      <td>East</td>\n",
       "      <td>None</td>\n",
       "      <td>(VoyageEventDetail(id='I8DC99BLEDC64CE00', eve...</td>\n",
       "    </tr>\n",
       "    <tr>\n",
       "      <th>400</th>\n",
       "      <td>I8DC99BTEDC71FD00</td>\n",
       "      <td>3913</td>\n",
       "      <td>None</td>\n",
       "      <td>Stop</td>\n",
       "      <td>Future</td>\n",
       "      <td>Stop</td>\n",
       "      <td>NaT</td>\n",
       "      <td>2023-09-14 02:18:49.611000+00:00</td>\n",
       "      <td>2023-09-14 02:18:49.611000+00:00</td>\n",
       "      <td>-33.9135</td>\n",
       "      <td>...</td>\n",
       "      <td>24776</td>\n",
       "      <td>South Africa</td>\n",
       "      <td>25015</td>\n",
       "      <td>South East Africa</td>\n",
       "      <td>25018</td>\n",
       "      <td>Africa</td>\n",
       "      <td>25027</td>\n",
       "      <td>Africa</td>\n",
       "      <td>None</td>\n",
       "      <td>()</td>\n",
       "    </tr>\n",
       "  </tbody>\n",
       "</table>\n",
       "<p>5 rows × 26 columns</p>\n",
       "</div>"
      ],
      "text/plain": [
       "                    id  port_id voyage_id   event_type event_horizon  \\\n",
       "396  I8DC99BSEDC4A7000     3794      None  VoyageStart    Historical   \n",
       "397  I8DC99BTEDC579F00     3794      None         Stop    Historical   \n",
       "398  I8DC99BTEDC5E3680     9099      None         Stop    Historical   \n",
       "399  I8DC99BTEDC64CE00     3669      None     PortCall    Historical   \n",
       "400  I8DC99BTEDC71FD00     3913      None         Stop        Future   \n",
       "\n",
       "      purpose                event_date                     arrival_date  \\\n",
       "396     Start 2023-08-01 15:40:25+00:00                              NaT   \n",
       "397      Stop                       NaT        2023-08-01 19:45:50+00:00   \n",
       "398      Stop                       NaT        2023-08-06 07:52:49+00:00   \n",
       "399  Dry dock                       NaT        2023-08-10 07:58:02+00:00   \n",
       "400      Stop                       NaT 2023-09-14 02:18:49.611000+00:00   \n",
       "\n",
       "                        sailing_date  latitude  ...  area_idlevel0  \\\n",
       "396                              NaT    2.0407  ...          24655   \n",
       "397        2023-08-04 15:38:45+00:00    2.0904  ...          24655   \n",
       "398        2023-08-07 23:55:12+00:00   10.2290  ...          24770   \n",
       "399        2023-08-27 03:58:36+00:00    1.4543  ...          24655   \n",
       "400 2023-09-14 02:18:49.611000+00:00  -33.9135  ...          24776   \n",
       "\n",
       "         area_name_level0 area_idlevel1   area_name_level1  area_idlevel2  \\\n",
       "396  Singapore / Malaysia            23    South East Asia             99   \n",
       "397  Singapore / Malaysia            23    South East Asia             99   \n",
       "398    Thailand / Vietnam            23    South East Asia             99   \n",
       "399  Singapore / Malaysia            23    South East Asia             99   \n",
       "400          South Africa         25015  South East Africa          25018   \n",
       "\n",
       "    area_name_level2  area_idlevel3 area_name_level3  low_ais_density  \\\n",
       "396         Far East             84             East             None   \n",
       "397         Far East             84             East             None   \n",
       "398         Far East             84             East             None   \n",
       "399         Far East             84             East             None   \n",
       "400           Africa          25027           Africa             None   \n",
       "\n",
       "                                         event_details  \n",
       "396                                               None  \n",
       "397  (VoyageEventDetail(id='I8DC99BLEDC5A4200', eve...  \n",
       "398  (VoyageEventDetail(id='I8DC99BLEDC5E3680', eve...  \n",
       "399  (VoyageEventDetail(id='I8DC99BLEDC64CE00', eve...  \n",
       "400                                                 ()  \n",
       "\n",
       "[5 rows x 26 columns]"
      ]
     },
     "execution_count": 5,
     "metadata": {},
     "output_type": "execute_result"
    }
   ],
   "source": [
    "vessel_events_df = pd.DataFrame(e.__dict__ for voyage_events in vessel_voyages_df['events'] for e in voyage_events)\n",
    "vessel_events_df.tail(5)"
   ]
  },
  {
   "cell_type": "code",
   "execution_count": 6,
   "metadata": {
    "id": "FBsyOee5OyvW",
    "outputId": "438d0aea-53f4-4817-cc36-43e9ec82b142",
    "pycharm": {
     "name": "#%%\n"
    }
   },
   "outputs": [
    {
     "data": {
      "text/html": [
       "<div>\n",
       "<style scoped>\n",
       "    .dataframe tbody tr th:only-of-type {\n",
       "        vertical-align: middle;\n",
       "    }\n",
       "\n",
       "    .dataframe tbody tr th {\n",
       "        vertical-align: top;\n",
       "    }\n",
       "\n",
       "    .dataframe thead th {\n",
       "        text-align: right;\n",
       "    }\n",
       "</style>\n",
       "<table border=\"1\" class=\"dataframe\">\n",
       "  <thead>\n",
       "    <tr style=\"text-align: right;\">\n",
       "      <th></th>\n",
       "      <th>id</th>\n",
       "      <th>event_id</th>\n",
       "      <th>event_detail_type</th>\n",
       "      <th>arrival_date</th>\n",
       "      <th>sailing_date</th>\n",
       "      <th>start_time_of_operation</th>\n",
       "      <th>end_time_of_operation</th>\n",
       "      <th>sts_id</th>\n",
       "      <th>geo_asset_id</th>\n",
       "      <th>geo_asset_name</th>\n",
       "      <th>latitude</th>\n",
       "      <th>longitude</th>\n",
       "      <th>other_vessel_imo</th>\n",
       "      <th>other_vessel_name</th>\n",
       "    </tr>\n",
       "  </thead>\n",
       "  <tbody>\n",
       "    <tr>\n",
       "      <th>362</th>\n",
       "      <td>I8DC99BLEDC4A7000</td>\n",
       "      <td>None</td>\n",
       "      <td>StS</td>\n",
       "      <td>2023-07-27 23:54:38+00:00</td>\n",
       "      <td>2023-08-01 03:46:27+00:00</td>\n",
       "      <td>2023-07-29 11:36:58+00:00</td>\n",
       "      <td>2023-07-30 06:04:14+00:00</td>\n",
       "      <td>8CDA208DC99B8DB90281E082900</td>\n",
       "      <td>4195</td>\n",
       "      <td>Singapore Anchorage</td>\n",
       "      <td>2.0407</td>\n",
       "      <td>104.7849</td>\n",
       "      <td>9230880.0</td>\n",
       "      <td>Timimus</td>\n",
       "    </tr>\n",
       "    <tr>\n",
       "      <th>363</th>\n",
       "      <td>I8DC99BLEDC579F00</td>\n",
       "      <td>None</td>\n",
       "      <td>StS</td>\n",
       "      <td>2023-08-01 03:55:27+00:00</td>\n",
       "      <td>2023-08-01 15:40:25+00:00</td>\n",
       "      <td>2023-08-01 03:55:27+00:00</td>\n",
       "      <td>2023-08-01 06:19:15+00:00</td>\n",
       "      <td>8CDA208DC99B8DB924324262180</td>\n",
       "      <td>4195</td>\n",
       "      <td>Singapore Anchorage</td>\n",
       "      <td>2.0876</td>\n",
       "      <td>104.7946</td>\n",
       "      <td>9230880.0</td>\n",
       "      <td>Timimus</td>\n",
       "    </tr>\n",
       "    <tr>\n",
       "      <th>364</th>\n",
       "      <td>I8DC99BLEDC5A4200</td>\n",
       "      <td>None</td>\n",
       "      <td>Stop</td>\n",
       "      <td>2023-08-01 19:45:50+00:00</td>\n",
       "      <td>2023-08-04 15:38:45+00:00</td>\n",
       "      <td>NaT</td>\n",
       "      <td>NaT</td>\n",
       "      <td>None</td>\n",
       "      <td>4195</td>\n",
       "      <td>Singapore Anchorage</td>\n",
       "      <td>2.0904</td>\n",
       "      <td>104.7968</td>\n",
       "      <td>NaN</td>\n",
       "      <td>None</td>\n",
       "    </tr>\n",
       "    <tr>\n",
       "      <th>365</th>\n",
       "      <td>I8DC99BLEDC5E3680</td>\n",
       "      <td>None</td>\n",
       "      <td>Stop</td>\n",
       "      <td>2023-08-06 07:52:49+00:00</td>\n",
       "      <td>2023-08-07 23:55:12+00:00</td>\n",
       "      <td>NaT</td>\n",
       "      <td>NaT</td>\n",
       "      <td>None</td>\n",
       "      <td>16890</td>\n",
       "      <td>Ba Son Shipyard</td>\n",
       "      <td>10.2290</td>\n",
       "      <td>107.0480</td>\n",
       "      <td>NaN</td>\n",
       "      <td>None</td>\n",
       "    </tr>\n",
       "    <tr>\n",
       "      <th>366</th>\n",
       "      <td>I8DC99BLEDC64CE00</td>\n",
       "      <td>None</td>\n",
       "      <td>Stop</td>\n",
       "      <td>2023-08-10 07:58:02+00:00</td>\n",
       "      <td>2023-08-27 03:58:36+00:00</td>\n",
       "      <td>NaT</td>\n",
       "      <td>NaT</td>\n",
       "      <td>None</td>\n",
       "      <td>5320</td>\n",
       "      <td>Mmhe Shipyard</td>\n",
       "      <td>1.4543</td>\n",
       "      <td>103.8767</td>\n",
       "      <td>NaN</td>\n",
       "      <td>None</td>\n",
       "    </tr>\n",
       "  </tbody>\n",
       "</table>\n",
       "</div>"
      ],
      "text/plain": [
       "                    id event_id event_detail_type              arrival_date  \\\n",
       "362  I8DC99BLEDC4A7000     None               StS 2023-07-27 23:54:38+00:00   \n",
       "363  I8DC99BLEDC579F00     None               StS 2023-08-01 03:55:27+00:00   \n",
       "364  I8DC99BLEDC5A4200     None              Stop 2023-08-01 19:45:50+00:00   \n",
       "365  I8DC99BLEDC5E3680     None              Stop 2023-08-06 07:52:49+00:00   \n",
       "366  I8DC99BLEDC64CE00     None              Stop 2023-08-10 07:58:02+00:00   \n",
       "\n",
       "                 sailing_date   start_time_of_operation  \\\n",
       "362 2023-08-01 03:46:27+00:00 2023-07-29 11:36:58+00:00   \n",
       "363 2023-08-01 15:40:25+00:00 2023-08-01 03:55:27+00:00   \n",
       "364 2023-08-04 15:38:45+00:00                       NaT   \n",
       "365 2023-08-07 23:55:12+00:00                       NaT   \n",
       "366 2023-08-27 03:58:36+00:00                       NaT   \n",
       "\n",
       "        end_time_of_operation                       sts_id  geo_asset_id  \\\n",
       "362 2023-07-30 06:04:14+00:00  8CDA208DC99B8DB90281E082900          4195   \n",
       "363 2023-08-01 06:19:15+00:00  8CDA208DC99B8DB924324262180          4195   \n",
       "364                       NaT                         None          4195   \n",
       "365                       NaT                         None         16890   \n",
       "366                       NaT                         None          5320   \n",
       "\n",
       "          geo_asset_name  latitude  longitude  other_vessel_imo  \\\n",
       "362  Singapore Anchorage    2.0407   104.7849         9230880.0   \n",
       "363  Singapore Anchorage    2.0876   104.7946         9230880.0   \n",
       "364  Singapore Anchorage    2.0904   104.7968               NaN   \n",
       "365      Ba Son Shipyard   10.2290   107.0480               NaN   \n",
       "366        Mmhe Shipyard    1.4543   103.8767               NaN   \n",
       "\n",
       "    other_vessel_name  \n",
       "362           Timimus  \n",
       "363           Timimus  \n",
       "364              None  \n",
       "365              None  \n",
       "366              None  "
      ]
     },
     "execution_count": 6,
     "metadata": {},
     "output_type": "execute_result"
    }
   ],
   "source": [
    "vessel_event_details_df = pd.DataFrame(e.__dict__ for event_details in vessel_events_df['event_details'] for e in event_details or [])\n",
    "vessel_event_details_df.tail(5)"
   ]
  },
  {
   "cell_type": "markdown",
   "metadata": {
    "id": "PZA3IrDHOyvY",
    "pycharm": {
     "name": "#%% md\n"
    }
   },
   "source": [
    "### Get voyages for vessel class"
   ]
  },
  {
   "cell_type": "code",
   "execution_count": 7,
   "metadata": {
    "colab": {
     "base_uri": "https://localhost:8080/"
    },
    "id": "anZJAWDBQwt4",
    "outputId": "b5f4bbb2-edeb-478b-f250-9b3ee2339275",
    "pycharm": {
     "name": "#%%\n"
    }
   },
   "outputs": [
    {
     "data": {
      "text/plain": [
       "84"
      ]
     },
     "execution_count": 7,
     "metadata": {},
     "output_type": "execute_result"
    }
   ],
   "source": [
    "#get vessel class id for vlcc\n",
    "vc = api.get_vessel_classes(VesselClassFilter('vlcc'))[0]\n",
    "vlcc_id = vc.vessel_class_id\n",
    "vlcc_id"
   ]
  },
  {
   "cell_type": "code",
   "execution_count": 8,
   "metadata": {
    "id": "U6U3qvJyOyvY",
    "pycharm": {
     "name": "#%%\n"
    }
   },
   "outputs": [],
   "source": [
    "date_from = date.today() - timedelta(days=30)\n",
    "recent_vlcc_voyages = api.get_voyages(vessel_class_id=vlcc_id, date_from=date_from)"
   ]
  },
  {
   "cell_type": "code",
   "execution_count": 9,
   "metadata": {
    "id": "YDI7YTy9OyvZ",
    "outputId": "d6923ce4-a1e3-40ae-e71a-5cde311247a5",
    "pycharm": {
     "name": "#%%\n"
    },
    "scrolled": true
   },
   "outputs": [
    {
     "data": {
      "text/html": [
       "<div>\n",
       "<style scoped>\n",
       "    .dataframe tbody tr th:only-of-type {\n",
       "        vertical-align: middle;\n",
       "    }\n",
       "\n",
       "    .dataframe tbody tr th {\n",
       "        vertical-align: top;\n",
       "    }\n",
       "\n",
       "    .dataframe thead th {\n",
       "        text-align: right;\n",
       "    }\n",
       "</style>\n",
       "<table border=\"1\" class=\"dataframe\">\n",
       "  <thead>\n",
       "    <tr style=\"text-align: right;\">\n",
       "      <th></th>\n",
       "      <th>imo</th>\n",
       "      <th>voyage_number</th>\n",
       "      <th>vessel_type_id</th>\n",
       "      <th>vessel_class_id</th>\n",
       "      <th>vessel_status_id</th>\n",
       "      <th>commercial_operator_id</th>\n",
       "      <th>deleted</th>\n",
       "      <th>events</th>\n",
       "      <th>id</th>\n",
       "      <th>horizon_id</th>\n",
       "      <th>...</th>\n",
       "      <th>is_implied_by_ais</th>\n",
       "      <th>has_manual_entries</th>\n",
       "      <th>ballast_distance</th>\n",
       "      <th>predicted_ballast_distance</th>\n",
       "      <th>laden_distance</th>\n",
       "      <th>predicted_laden_distance</th>\n",
       "      <th>suez_crossing</th>\n",
       "      <th>panama_crossing</th>\n",
       "      <th>canakkale_crossing</th>\n",
       "      <th>bosporus_crossing</th>\n",
       "    </tr>\n",
       "  </thead>\n",
       "  <tbody>\n",
       "    <tr>\n",
       "      <th>396</th>\n",
       "      <td>9933676</td>\n",
       "      <td>6</td>\n",
       "      <td>1</td>\n",
       "      <td>84</td>\n",
       "      <td>1</td>\n",
       "      <td>558.0</td>\n",
       "      <td>False</td>\n",
       "      <td>(VoyageEvent(id='I97936C54SEDC7F2C00', port_id...</td>\n",
       "      <td>I97936C54VEDC7F2C00</td>\n",
       "      <td>2</td>\n",
       "      <td>...</td>\n",
       "      <td>None</td>\n",
       "      <td>None</td>\n",
       "      <td>1189.17</td>\n",
       "      <td>NaN</td>\n",
       "      <td>NaN</td>\n",
       "      <td>NaN</td>\n",
       "      <td>None</td>\n",
       "      <td>None</td>\n",
       "      <td>None</td>\n",
       "      <td>None</td>\n",
       "    </tr>\n",
       "    <tr>\n",
       "      <th>397</th>\n",
       "      <td>9937103</td>\n",
       "      <td>4</td>\n",
       "      <td>1</td>\n",
       "      <td>84</td>\n",
       "      <td>1</td>\n",
       "      <td>1645.0</td>\n",
       "      <td>False</td>\n",
       "      <td>(VoyageEvent(id='I97A0CF54SEDC4A7000', port_id...</td>\n",
       "      <td>I97A0CF54VEDC4A7000</td>\n",
       "      <td>2</td>\n",
       "      <td>...</td>\n",
       "      <td>None</td>\n",
       "      <td>None</td>\n",
       "      <td>6710.89</td>\n",
       "      <td>NaN</td>\n",
       "      <td>5.57</td>\n",
       "      <td>11604.67</td>\n",
       "      <td>None</td>\n",
       "      <td>None</td>\n",
       "      <td>None</td>\n",
       "      <td>None</td>\n",
       "    </tr>\n",
       "    <tr>\n",
       "      <th>398</th>\n",
       "      <td>9941661</td>\n",
       "      <td>6</td>\n",
       "      <td>1</td>\n",
       "      <td>84</td>\n",
       "      <td>1</td>\n",
       "      <td>2236.0</td>\n",
       "      <td>False</td>\n",
       "      <td>(VoyageEvent(id='I97B29D54SEDC71FD00', port_id...</td>\n",
       "      <td>I97B29D54VEDC71FD00</td>\n",
       "      <td>2</td>\n",
       "      <td>...</td>\n",
       "      <td>True</td>\n",
       "      <td>None</td>\n",
       "      <td>523.75</td>\n",
       "      <td>4578.63</td>\n",
       "      <td>NaN</td>\n",
       "      <td>15532.25</td>\n",
       "      <td>None</td>\n",
       "      <td>None</td>\n",
       "      <td>None</td>\n",
       "      <td>None</td>\n",
       "    </tr>\n",
       "    <tr>\n",
       "      <th>399</th>\n",
       "      <td>9941673</td>\n",
       "      <td>5</td>\n",
       "      <td>1</td>\n",
       "      <td>84</td>\n",
       "      <td>1</td>\n",
       "      <td>2236.0</td>\n",
       "      <td>False</td>\n",
       "      <td>(VoyageEvent(id='I97B2A954SEDC71FD00', port_id...</td>\n",
       "      <td>I97B2A954VEDC71FD00</td>\n",
       "      <td>2</td>\n",
       "      <td>...</td>\n",
       "      <td>None</td>\n",
       "      <td>None</td>\n",
       "      <td>1549.48</td>\n",
       "      <td>1077.10</td>\n",
       "      <td>NaN</td>\n",
       "      <td>NaN</td>\n",
       "      <td>None</td>\n",
       "      <td>None</td>\n",
       "      <td>None</td>\n",
       "      <td>None</td>\n",
       "    </tr>\n",
       "    <tr>\n",
       "      <th>400</th>\n",
       "      <td>9943748</td>\n",
       "      <td>2</td>\n",
       "      <td>1</td>\n",
       "      <td>84</td>\n",
       "      <td>1</td>\n",
       "      <td>1645.0</td>\n",
       "      <td>False</td>\n",
       "      <td>(VoyageEvent(id='I97BAC454SEDC71FD00', port_id...</td>\n",
       "      <td>I97BAC454VEDC71FD00</td>\n",
       "      <td>2</td>\n",
       "      <td>...</td>\n",
       "      <td>None</td>\n",
       "      <td>None</td>\n",
       "      <td>3943.35</td>\n",
       "      <td>1486.83</td>\n",
       "      <td>NaN</td>\n",
       "      <td>12221.66</td>\n",
       "      <td>None</td>\n",
       "      <td>None</td>\n",
       "      <td>None</td>\n",
       "      <td>None</td>\n",
       "    </tr>\n",
       "  </tbody>\n",
       "</table>\n",
       "<p>5 rows × 55 columns</p>\n",
       "</div>"
      ],
      "text/plain": [
       "         imo  voyage_number  vessel_type_id  vessel_class_id  \\\n",
       "396  9933676              6               1               84   \n",
       "397  9937103              4               1               84   \n",
       "398  9941661              6               1               84   \n",
       "399  9941673              5               1               84   \n",
       "400  9943748              2               1               84   \n",
       "\n",
       "     vessel_status_id  commercial_operator_id  deleted  \\\n",
       "396                 1                   558.0    False   \n",
       "397                 1                  1645.0    False   \n",
       "398                 1                  2236.0    False   \n",
       "399                 1                  2236.0    False   \n",
       "400                 1                  1645.0    False   \n",
       "\n",
       "                                                events                   id  \\\n",
       "396  (VoyageEvent(id='I97936C54SEDC7F2C00', port_id...  I97936C54VEDC7F2C00   \n",
       "397  (VoyageEvent(id='I97A0CF54SEDC4A7000', port_id...  I97A0CF54VEDC4A7000   \n",
       "398  (VoyageEvent(id='I97B29D54SEDC71FD00', port_id...  I97B29D54VEDC71FD00   \n",
       "399  (VoyageEvent(id='I97B2A954SEDC71FD00', port_id...  I97B2A954VEDC71FD00   \n",
       "400  (VoyageEvent(id='I97BAC454SEDC71FD00', port_id...  I97BAC454VEDC71FD00   \n",
       "\n",
       "     horizon_id  ... is_implied_by_ais has_manual_entries ballast_distance  \\\n",
       "396           2  ...              None               None          1189.17   \n",
       "397           2  ...              None               None          6710.89   \n",
       "398           2  ...              True               None           523.75   \n",
       "399           2  ...              None               None          1549.48   \n",
       "400           2  ...              None               None          3943.35   \n",
       "\n",
       "    predicted_ballast_distance laden_distance predicted_laden_distance  \\\n",
       "396                        NaN            NaN                      NaN   \n",
       "397                        NaN           5.57                 11604.67   \n",
       "398                    4578.63            NaN                 15532.25   \n",
       "399                    1077.10            NaN                      NaN   \n",
       "400                    1486.83            NaN                 12221.66   \n",
       "\n",
       "    suez_crossing  panama_crossing canakkale_crossing  bosporus_crossing  \n",
       "396          None             None               None               None  \n",
       "397          None             None               None               None  \n",
       "398          None             None               None               None  \n",
       "399          None             None               None               None  \n",
       "400          None             None               None               None  \n",
       "\n",
       "[5 rows x 55 columns]"
      ]
     },
     "execution_count": 9,
     "metadata": {},
     "output_type": "execute_result"
    }
   ],
   "source": [
    "recent_vlcc_voyages = pd.DataFrame([v.__dict__ for v in recent_vlcc_voyages])\n",
    "recent_vlcc_voyages.tail(5)"
   ]
  },
  {
   "cell_type": "markdown",
   "metadata": {
    "id": "Lf8nvgtXOyvZ",
    "pycharm": {
     "name": "#%% md\n"
    }
   },
   "source": [
    "### Get voyages for vessel in flat format"
   ]
  },
  {
   "cell_type": "code",
   "execution_count": 10,
   "metadata": {
    "colab": {
     "base_uri": "https://localhost:8080/"
    },
    "id": "wOvAcRnrRWTK",
    "outputId": "15308ea2-4d85-4b1e-85ed-d22104ba4e7f",
    "pycharm": {
     "name": "#%%\n"
    }
   },
   "outputs": [
    {
     "data": {
      "text/plain": [
       "Vessel(imo=9292187, vessel_name='Gold Pearl')"
      ]
     },
     "execution_count": 10,
     "metadata": {},
     "output_type": "execute_result"
    }
   ],
   "source": [
    "# get the imo by using the vessel name\n",
    "vessel = api.get_imos(VesselFilter('Gold Pearl'))[0]\n",
    "vessel"
   ]
  },
  {
   "cell_type": "code",
   "execution_count": 11,
   "metadata": {
    "id": "5GL354yQOyvZ",
    "pycharm": {
     "name": "#%%\n"
    }
   },
   "outputs": [],
   "source": [
    "vessel_voyages_flat = api.get_voyages_flat(imo=vessel.imo)"
   ]
  },
  {
   "cell_type": "code",
   "execution_count": 12,
   "metadata": {
    "id": "eomp96KPOyva",
    "outputId": "ceb37f6c-c28a-4253-b3c4-9ff06a4244d9",
    "pycharm": {
     "name": "#%%\n"
    }
   },
   "outputs": [
    {
     "data": {
      "text/html": [
       "<div>\n",
       "<style scoped>\n",
       "    .dataframe tbody tr th:only-of-type {\n",
       "        vertical-align: middle;\n",
       "    }\n",
       "\n",
       "    .dataframe tbody tr th {\n",
       "        vertical-align: top;\n",
       "    }\n",
       "\n",
       "    .dataframe thead th {\n",
       "        text-align: right;\n",
       "    }\n",
       "</style>\n",
       "<table border=\"1\" class=\"dataframe\">\n",
       "  <thead>\n",
       "    <tr style=\"text-align: right;\">\n",
       "      <th></th>\n",
       "      <th>imo</th>\n",
       "      <th>voyage_number</th>\n",
       "      <th>vessel_type_id</th>\n",
       "      <th>vessel_class_id</th>\n",
       "      <th>vessel_status_id</th>\n",
       "      <th>commercial_operator_id</th>\n",
       "      <th>deleted</th>\n",
       "      <th>events</th>\n",
       "      <th>id</th>\n",
       "      <th>horizon_id</th>\n",
       "      <th>...</th>\n",
       "      <th>is_implied_by_ais</th>\n",
       "      <th>has_manual_entries</th>\n",
       "      <th>ballast_distance</th>\n",
       "      <th>predicted_ballast_distance</th>\n",
       "      <th>laden_distance</th>\n",
       "      <th>predicted_laden_distance</th>\n",
       "      <th>suez_crossing</th>\n",
       "      <th>panama_crossing</th>\n",
       "      <th>canakkale_crossing</th>\n",
       "      <th>bosporus_crossing</th>\n",
       "    </tr>\n",
       "  </thead>\n",
       "  <tbody>\n",
       "    <tr>\n",
       "      <th>63</th>\n",
       "      <td>9292187</td>\n",
       "      <td>64</td>\n",
       "      <td>1</td>\n",
       "      <td>84</td>\n",
       "      <td>1</td>\n",
       "      <td>1684.0</td>\n",
       "      <td>False</td>\n",
       "      <td>None</td>\n",
       "      <td>I8DC99BVEDABEEE00</td>\n",
       "      <td>1</td>\n",
       "      <td>...</td>\n",
       "      <td>None</td>\n",
       "      <td>None</td>\n",
       "      <td>3831.88</td>\n",
       "      <td>NaN</td>\n",
       "      <td>4588.66</td>\n",
       "      <td>None</td>\n",
       "      <td>None</td>\n",
       "      <td>None</td>\n",
       "      <td>None</td>\n",
       "      <td>None</td>\n",
       "    </tr>\n",
       "    <tr>\n",
       "      <th>64</th>\n",
       "      <td>9292187</td>\n",
       "      <td>65</td>\n",
       "      <td>1</td>\n",
       "      <td>84</td>\n",
       "      <td>1</td>\n",
       "      <td>1684.0</td>\n",
       "      <td>False</td>\n",
       "      <td>None</td>\n",
       "      <td>I8DC99BVEDB0E0800</td>\n",
       "      <td>1</td>\n",
       "      <td>...</td>\n",
       "      <td>None</td>\n",
       "      <td>None</td>\n",
       "      <td>4612.85</td>\n",
       "      <td>NaN</td>\n",
       "      <td>5273.31</td>\n",
       "      <td>None</td>\n",
       "      <td>None</td>\n",
       "      <td>None</td>\n",
       "      <td>None</td>\n",
       "      <td>None</td>\n",
       "    </tr>\n",
       "    <tr>\n",
       "      <th>65</th>\n",
       "      <td>9292187</td>\n",
       "      <td>66</td>\n",
       "      <td>1</td>\n",
       "      <td>84</td>\n",
       "      <td>1</td>\n",
       "      <td>1684.0</td>\n",
       "      <td>False</td>\n",
       "      <td>None</td>\n",
       "      <td>I8DC99BVEDB359500</td>\n",
       "      <td>1</td>\n",
       "      <td>...</td>\n",
       "      <td>None</td>\n",
       "      <td>None</td>\n",
       "      <td>5422.68</td>\n",
       "      <td>NaN</td>\n",
       "      <td>4631.81</td>\n",
       "      <td>None</td>\n",
       "      <td>None</td>\n",
       "      <td>None</td>\n",
       "      <td>None</td>\n",
       "      <td>None</td>\n",
       "    </tr>\n",
       "    <tr>\n",
       "      <th>66</th>\n",
       "      <td>9292187</td>\n",
       "      <td>67</td>\n",
       "      <td>1</td>\n",
       "      <td>84</td>\n",
       "      <td>1</td>\n",
       "      <td>NaN</td>\n",
       "      <td>False</td>\n",
       "      <td>None</td>\n",
       "      <td>I8DC99BVEDB5D2200</td>\n",
       "      <td>1</td>\n",
       "      <td>...</td>\n",
       "      <td>None</td>\n",
       "      <td>None</td>\n",
       "      <td>10166.69</td>\n",
       "      <td>NaN</td>\n",
       "      <td>8065.06</td>\n",
       "      <td>None</td>\n",
       "      <td>None</td>\n",
       "      <td>None</td>\n",
       "      <td>None</td>\n",
       "      <td>None</td>\n",
       "    </tr>\n",
       "    <tr>\n",
       "      <th>67</th>\n",
       "      <td>9292187</td>\n",
       "      <td>68</td>\n",
       "      <td>1</td>\n",
       "      <td>84</td>\n",
       "      <td>1</td>\n",
       "      <td>NaN</td>\n",
       "      <td>False</td>\n",
       "      <td>None</td>\n",
       "      <td>I8DC99BVEDC4A7000</td>\n",
       "      <td>2</td>\n",
       "      <td>...</td>\n",
       "      <td>None</td>\n",
       "      <td>None</td>\n",
       "      <td>4517.18</td>\n",
       "      <td>2439.95</td>\n",
       "      <td>NaN</td>\n",
       "      <td>None</td>\n",
       "      <td>None</td>\n",
       "      <td>None</td>\n",
       "      <td>None</td>\n",
       "      <td>None</td>\n",
       "    </tr>\n",
       "  </tbody>\n",
       "</table>\n",
       "<p>5 rows × 55 columns</p>\n",
       "</div>"
      ],
      "text/plain": [
       "        imo  voyage_number  vessel_type_id  vessel_class_id  vessel_status_id  \\\n",
       "63  9292187             64               1               84                 1   \n",
       "64  9292187             65               1               84                 1   \n",
       "65  9292187             66               1               84                 1   \n",
       "66  9292187             67               1               84                 1   \n",
       "67  9292187             68               1               84                 1   \n",
       "\n",
       "    commercial_operator_id  deleted events                 id  horizon_id  \\\n",
       "63                  1684.0    False   None  I8DC99BVEDABEEE00           1   \n",
       "64                  1684.0    False   None  I8DC99BVEDB0E0800           1   \n",
       "65                  1684.0    False   None  I8DC99BVEDB359500           1   \n",
       "66                     NaN    False   None  I8DC99BVEDB5D2200           1   \n",
       "67                     NaN    False   None  I8DC99BVEDC4A7000           2   \n",
       "\n",
       "    ... is_implied_by_ais has_manual_entries ballast_distance  \\\n",
       "63  ...              None               None          3831.88   \n",
       "64  ...              None               None          4612.85   \n",
       "65  ...              None               None          5422.68   \n",
       "66  ...              None               None         10166.69   \n",
       "67  ...              None               None          4517.18   \n",
       "\n",
       "   predicted_ballast_distance laden_distance predicted_laden_distance  \\\n",
       "63                        NaN        4588.66                     None   \n",
       "64                        NaN        5273.31                     None   \n",
       "65                        NaN        4631.81                     None   \n",
       "66                        NaN        8065.06                     None   \n",
       "67                    2439.95            NaN                     None   \n",
       "\n",
       "   suez_crossing  panama_crossing canakkale_crossing  bosporus_crossing  \n",
       "63          None             None               None               None  \n",
       "64          None             None               None               None  \n",
       "65          None             None               None               None  \n",
       "66          None             None               None               None  \n",
       "67          None             None               None               None  \n",
       "\n",
       "[5 rows x 55 columns]"
      ]
     },
     "execution_count": 12,
     "metadata": {},
     "output_type": "execute_result"
    }
   ],
   "source": [
    "vessel_voyages_df = pd.DataFrame(v.__dict__ for v in vessel_voyages_flat.voyages)\n",
    "vessel_voyages_df.tail(5)"
   ]
  },
  {
   "cell_type": "code",
   "execution_count": 13,
   "metadata": {
    "id": "ztvF1PRTOyva",
    "outputId": "878ee026-13ab-4fd6-93ec-df2aab28618d",
    "pycharm": {
     "name": "#%%\n"
    }
   },
   "outputs": [
    {
     "data": {
      "text/html": [
       "<div>\n",
       "<style scoped>\n",
       "    .dataframe tbody tr th:only-of-type {\n",
       "        vertical-align: middle;\n",
       "    }\n",
       "\n",
       "    .dataframe tbody tr th {\n",
       "        vertical-align: top;\n",
       "    }\n",
       "\n",
       "    .dataframe thead th {\n",
       "        text-align: right;\n",
       "    }\n",
       "</style>\n",
       "<table border=\"1\" class=\"dataframe\">\n",
       "  <thead>\n",
       "    <tr style=\"text-align: right;\">\n",
       "      <th></th>\n",
       "      <th>id</th>\n",
       "      <th>port_id</th>\n",
       "      <th>voyage_id</th>\n",
       "      <th>event_type</th>\n",
       "      <th>event_horizon</th>\n",
       "      <th>purpose</th>\n",
       "      <th>event_date</th>\n",
       "      <th>arrival_date</th>\n",
       "      <th>sailing_date</th>\n",
       "      <th>latitude</th>\n",
       "      <th>...</th>\n",
       "      <th>area_idlevel0</th>\n",
       "      <th>area_name_level0</th>\n",
       "      <th>area_idlevel1</th>\n",
       "      <th>area_name_level1</th>\n",
       "      <th>area_idlevel2</th>\n",
       "      <th>area_name_level2</th>\n",
       "      <th>area_idlevel3</th>\n",
       "      <th>area_name_level3</th>\n",
       "      <th>low_ais_density</th>\n",
       "      <th>event_details</th>\n",
       "    </tr>\n",
       "  </thead>\n",
       "  <tbody>\n",
       "    <tr>\n",
       "      <th>396</th>\n",
       "      <td>I8DC99BSEDC4A7000</td>\n",
       "      <td>3794</td>\n",
       "      <td>I8DC99BVEDC4A7000</td>\n",
       "      <td>VoyageStart</td>\n",
       "      <td>Historical</td>\n",
       "      <td>Start</td>\n",
       "      <td>2023-08-01 15:40:25+00:00</td>\n",
       "      <td>NaT</td>\n",
       "      <td>NaT</td>\n",
       "      <td>2.0407</td>\n",
       "      <td>...</td>\n",
       "      <td>None</td>\n",
       "      <td>None</td>\n",
       "      <td>None</td>\n",
       "      <td>None</td>\n",
       "      <td>None</td>\n",
       "      <td>None</td>\n",
       "      <td>None</td>\n",
       "      <td>None</td>\n",
       "      <td>None</td>\n",
       "      <td>None</td>\n",
       "    </tr>\n",
       "    <tr>\n",
       "      <th>397</th>\n",
       "      <td>I8DC99BTEDC579F00</td>\n",
       "      <td>3794</td>\n",
       "      <td>I8DC99BVEDC4A7000</td>\n",
       "      <td>Stop</td>\n",
       "      <td>Historical</td>\n",
       "      <td>Stop</td>\n",
       "      <td>NaT</td>\n",
       "      <td>2023-08-01 19:45:50+00:00</td>\n",
       "      <td>2023-08-04 15:38:45+00:00</td>\n",
       "      <td>2.0904</td>\n",
       "      <td>...</td>\n",
       "      <td>None</td>\n",
       "      <td>None</td>\n",
       "      <td>None</td>\n",
       "      <td>None</td>\n",
       "      <td>None</td>\n",
       "      <td>None</td>\n",
       "      <td>None</td>\n",
       "      <td>None</td>\n",
       "      <td>None</td>\n",
       "      <td>None</td>\n",
       "    </tr>\n",
       "    <tr>\n",
       "      <th>398</th>\n",
       "      <td>I8DC99BTEDC5E3680</td>\n",
       "      <td>9099</td>\n",
       "      <td>I8DC99BVEDC4A7000</td>\n",
       "      <td>Stop</td>\n",
       "      <td>Historical</td>\n",
       "      <td>Stop</td>\n",
       "      <td>NaT</td>\n",
       "      <td>2023-08-06 07:52:49+00:00</td>\n",
       "      <td>2023-08-07 23:55:12+00:00</td>\n",
       "      <td>10.2290</td>\n",
       "      <td>...</td>\n",
       "      <td>None</td>\n",
       "      <td>None</td>\n",
       "      <td>None</td>\n",
       "      <td>None</td>\n",
       "      <td>None</td>\n",
       "      <td>None</td>\n",
       "      <td>None</td>\n",
       "      <td>None</td>\n",
       "      <td>None</td>\n",
       "      <td>None</td>\n",
       "    </tr>\n",
       "    <tr>\n",
       "      <th>399</th>\n",
       "      <td>I8DC99BTEDC64CE00</td>\n",
       "      <td>3669</td>\n",
       "      <td>I8DC99BVEDC4A7000</td>\n",
       "      <td>PortCall</td>\n",
       "      <td>Historical</td>\n",
       "      <td>Dry dock</td>\n",
       "      <td>NaT</td>\n",
       "      <td>2023-08-10 07:58:02+00:00</td>\n",
       "      <td>2023-08-27 03:58:36+00:00</td>\n",
       "      <td>1.4543</td>\n",
       "      <td>...</td>\n",
       "      <td>None</td>\n",
       "      <td>None</td>\n",
       "      <td>None</td>\n",
       "      <td>None</td>\n",
       "      <td>None</td>\n",
       "      <td>None</td>\n",
       "      <td>None</td>\n",
       "      <td>None</td>\n",
       "      <td>None</td>\n",
       "      <td>None</td>\n",
       "    </tr>\n",
       "    <tr>\n",
       "      <th>400</th>\n",
       "      <td>I8DC99BTEDC71FD00</td>\n",
       "      <td>3913</td>\n",
       "      <td>I8DC99BVEDC4A7000</td>\n",
       "      <td>Stop</td>\n",
       "      <td>Future</td>\n",
       "      <td>Stop</td>\n",
       "      <td>NaT</td>\n",
       "      <td>2023-09-14 02:18:49.611000+00:00</td>\n",
       "      <td>2023-09-14 02:18:49.611000+00:00</td>\n",
       "      <td>-33.9135</td>\n",
       "      <td>...</td>\n",
       "      <td>None</td>\n",
       "      <td>None</td>\n",
       "      <td>None</td>\n",
       "      <td>None</td>\n",
       "      <td>None</td>\n",
       "      <td>None</td>\n",
       "      <td>None</td>\n",
       "      <td>None</td>\n",
       "      <td>None</td>\n",
       "      <td>None</td>\n",
       "    </tr>\n",
       "  </tbody>\n",
       "</table>\n",
       "<p>5 rows × 26 columns</p>\n",
       "</div>"
      ],
      "text/plain": [
       "                    id  port_id          voyage_id   event_type event_horizon  \\\n",
       "396  I8DC99BSEDC4A7000     3794  I8DC99BVEDC4A7000  VoyageStart    Historical   \n",
       "397  I8DC99BTEDC579F00     3794  I8DC99BVEDC4A7000         Stop    Historical   \n",
       "398  I8DC99BTEDC5E3680     9099  I8DC99BVEDC4A7000         Stop    Historical   \n",
       "399  I8DC99BTEDC64CE00     3669  I8DC99BVEDC4A7000     PortCall    Historical   \n",
       "400  I8DC99BTEDC71FD00     3913  I8DC99BVEDC4A7000         Stop        Future   \n",
       "\n",
       "      purpose                event_date                     arrival_date  \\\n",
       "396     Start 2023-08-01 15:40:25+00:00                              NaT   \n",
       "397      Stop                       NaT        2023-08-01 19:45:50+00:00   \n",
       "398      Stop                       NaT        2023-08-06 07:52:49+00:00   \n",
       "399  Dry dock                       NaT        2023-08-10 07:58:02+00:00   \n",
       "400      Stop                       NaT 2023-09-14 02:18:49.611000+00:00   \n",
       "\n",
       "                        sailing_date  latitude  ...  area_idlevel0  \\\n",
       "396                              NaT    2.0407  ...           None   \n",
       "397        2023-08-04 15:38:45+00:00    2.0904  ...           None   \n",
       "398        2023-08-07 23:55:12+00:00   10.2290  ...           None   \n",
       "399        2023-08-27 03:58:36+00:00    1.4543  ...           None   \n",
       "400 2023-09-14 02:18:49.611000+00:00  -33.9135  ...           None   \n",
       "\n",
       "     area_name_level0 area_idlevel1 area_name_level1 area_idlevel2  \\\n",
       "396              None          None             None          None   \n",
       "397              None          None             None          None   \n",
       "398              None          None             None          None   \n",
       "399              None          None             None          None   \n",
       "400              None          None             None          None   \n",
       "\n",
       "    area_name_level2 area_idlevel3 area_name_level3 low_ais_density  \\\n",
       "396             None          None             None            None   \n",
       "397             None          None             None            None   \n",
       "398             None          None             None            None   \n",
       "399             None          None             None            None   \n",
       "400             None          None             None            None   \n",
       "\n",
       "    event_details  \n",
       "396          None  \n",
       "397          None  \n",
       "398          None  \n",
       "399          None  \n",
       "400          None  \n",
       "\n",
       "[5 rows x 26 columns]"
      ]
     },
     "execution_count": 13,
     "metadata": {},
     "output_type": "execute_result"
    }
   ],
   "source": [
    "vessel_events_df = pd.DataFrame(v.__dict__ for v in vessel_voyages_flat.events)\n",
    "vessel_events_df.tail(5)"
   ]
  },
  {
   "cell_type": "code",
   "execution_count": 14,
   "metadata": {
    "id": "PklwbZAvOyva",
    "outputId": "b20a7939-012c-4f1f-f5da-f2567c91939e",
    "pycharm": {
     "name": "#%%\n"
    }
   },
   "outputs": [
    {
     "data": {
      "text/html": [
       "<div>\n",
       "<style scoped>\n",
       "    .dataframe tbody tr th:only-of-type {\n",
       "        vertical-align: middle;\n",
       "    }\n",
       "\n",
       "    .dataframe tbody tr th {\n",
       "        vertical-align: top;\n",
       "    }\n",
       "\n",
       "    .dataframe thead th {\n",
       "        text-align: right;\n",
       "    }\n",
       "</style>\n",
       "<table border=\"1\" class=\"dataframe\">\n",
       "  <thead>\n",
       "    <tr style=\"text-align: right;\">\n",
       "      <th></th>\n",
       "      <th>id</th>\n",
       "      <th>event_id</th>\n",
       "      <th>event_detail_type</th>\n",
       "      <th>arrival_date</th>\n",
       "      <th>sailing_date</th>\n",
       "      <th>start_time_of_operation</th>\n",
       "      <th>end_time_of_operation</th>\n",
       "      <th>sts_id</th>\n",
       "      <th>geo_asset_id</th>\n",
       "      <th>geo_asset_name</th>\n",
       "      <th>latitude</th>\n",
       "      <th>longitude</th>\n",
       "      <th>other_vessel_imo</th>\n",
       "      <th>other_vessel_name</th>\n",
       "    </tr>\n",
       "  </thead>\n",
       "  <tbody>\n",
       "    <tr>\n",
       "      <th>362</th>\n",
       "      <td>I8DC99BLEDC4A7000</td>\n",
       "      <td>I8DC99BTEDC4A7000</td>\n",
       "      <td>StS</td>\n",
       "      <td>2023-07-27 23:54:38+00:00</td>\n",
       "      <td>2023-08-01 03:46:27+00:00</td>\n",
       "      <td>2023-07-29 11:36:58+00:00</td>\n",
       "      <td>2023-07-30 06:04:14+00:00</td>\n",
       "      <td>8CDA208DC99B8DB90281E082900</td>\n",
       "      <td>4195</td>\n",
       "      <td>Singapore Anchorage</td>\n",
       "      <td>2.0407</td>\n",
       "      <td>104.7849</td>\n",
       "      <td>9230880.0</td>\n",
       "      <td>Timimus</td>\n",
       "    </tr>\n",
       "    <tr>\n",
       "      <th>363</th>\n",
       "      <td>I8DC99BLEDC579F00</td>\n",
       "      <td>I8DC99BTEDC4A7000</td>\n",
       "      <td>StS</td>\n",
       "      <td>2023-08-01 03:55:27+00:00</td>\n",
       "      <td>2023-08-01 15:40:25+00:00</td>\n",
       "      <td>2023-08-01 03:55:27+00:00</td>\n",
       "      <td>2023-08-01 06:19:15+00:00</td>\n",
       "      <td>8CDA208DC99B8DB924324262180</td>\n",
       "      <td>4195</td>\n",
       "      <td>Singapore Anchorage</td>\n",
       "      <td>2.0876</td>\n",
       "      <td>104.7946</td>\n",
       "      <td>9230880.0</td>\n",
       "      <td>Timimus</td>\n",
       "    </tr>\n",
       "    <tr>\n",
       "      <th>364</th>\n",
       "      <td>I8DC99BLEDC5A4200</td>\n",
       "      <td>I8DC99BTEDC579F00</td>\n",
       "      <td>Stop</td>\n",
       "      <td>2023-08-01 19:45:50+00:00</td>\n",
       "      <td>2023-08-04 15:38:45+00:00</td>\n",
       "      <td>NaT</td>\n",
       "      <td>NaT</td>\n",
       "      <td>None</td>\n",
       "      <td>4195</td>\n",
       "      <td>Singapore Anchorage</td>\n",
       "      <td>2.0904</td>\n",
       "      <td>104.7968</td>\n",
       "      <td>NaN</td>\n",
       "      <td>None</td>\n",
       "    </tr>\n",
       "    <tr>\n",
       "      <th>365</th>\n",
       "      <td>I8DC99BLEDC5E3680</td>\n",
       "      <td>I8DC99BTEDC5E3680</td>\n",
       "      <td>Stop</td>\n",
       "      <td>2023-08-06 07:52:49+00:00</td>\n",
       "      <td>2023-08-07 23:55:12+00:00</td>\n",
       "      <td>NaT</td>\n",
       "      <td>NaT</td>\n",
       "      <td>None</td>\n",
       "      <td>16890</td>\n",
       "      <td>Ba Son Shipyard</td>\n",
       "      <td>10.2290</td>\n",
       "      <td>107.0480</td>\n",
       "      <td>NaN</td>\n",
       "      <td>None</td>\n",
       "    </tr>\n",
       "    <tr>\n",
       "      <th>366</th>\n",
       "      <td>I8DC99BLEDC64CE00</td>\n",
       "      <td>I8DC99BTEDC64CE00</td>\n",
       "      <td>Stop</td>\n",
       "      <td>2023-08-10 07:58:02+00:00</td>\n",
       "      <td>2023-08-27 03:58:36+00:00</td>\n",
       "      <td>NaT</td>\n",
       "      <td>NaT</td>\n",
       "      <td>None</td>\n",
       "      <td>5320</td>\n",
       "      <td>Mmhe Shipyard</td>\n",
       "      <td>1.4543</td>\n",
       "      <td>103.8767</td>\n",
       "      <td>NaN</td>\n",
       "      <td>None</td>\n",
       "    </tr>\n",
       "  </tbody>\n",
       "</table>\n",
       "</div>"
      ],
      "text/plain": [
       "                    id           event_id event_detail_type  \\\n",
       "362  I8DC99BLEDC4A7000  I8DC99BTEDC4A7000               StS   \n",
       "363  I8DC99BLEDC579F00  I8DC99BTEDC4A7000               StS   \n",
       "364  I8DC99BLEDC5A4200  I8DC99BTEDC579F00              Stop   \n",
       "365  I8DC99BLEDC5E3680  I8DC99BTEDC5E3680              Stop   \n",
       "366  I8DC99BLEDC64CE00  I8DC99BTEDC64CE00              Stop   \n",
       "\n",
       "                 arrival_date              sailing_date  \\\n",
       "362 2023-07-27 23:54:38+00:00 2023-08-01 03:46:27+00:00   \n",
       "363 2023-08-01 03:55:27+00:00 2023-08-01 15:40:25+00:00   \n",
       "364 2023-08-01 19:45:50+00:00 2023-08-04 15:38:45+00:00   \n",
       "365 2023-08-06 07:52:49+00:00 2023-08-07 23:55:12+00:00   \n",
       "366 2023-08-10 07:58:02+00:00 2023-08-27 03:58:36+00:00   \n",
       "\n",
       "      start_time_of_operation     end_time_of_operation  \\\n",
       "362 2023-07-29 11:36:58+00:00 2023-07-30 06:04:14+00:00   \n",
       "363 2023-08-01 03:55:27+00:00 2023-08-01 06:19:15+00:00   \n",
       "364                       NaT                       NaT   \n",
       "365                       NaT                       NaT   \n",
       "366                       NaT                       NaT   \n",
       "\n",
       "                          sts_id  geo_asset_id       geo_asset_name  latitude  \\\n",
       "362  8CDA208DC99B8DB90281E082900          4195  Singapore Anchorage    2.0407   \n",
       "363  8CDA208DC99B8DB924324262180          4195  Singapore Anchorage    2.0876   \n",
       "364                         None          4195  Singapore Anchorage    2.0904   \n",
       "365                         None         16890      Ba Son Shipyard   10.2290   \n",
       "366                         None          5320        Mmhe Shipyard    1.4543   \n",
       "\n",
       "     longitude  other_vessel_imo other_vessel_name  \n",
       "362   104.7849         9230880.0           Timimus  \n",
       "363   104.7946         9230880.0           Timimus  \n",
       "364   104.7968               NaN              None  \n",
       "365   107.0480               NaN              None  \n",
       "366   103.8767               NaN              None  "
      ]
     },
     "execution_count": 14,
     "metadata": {},
     "output_type": "execute_result"
    }
   ],
   "source": [
    "vessel_event_details_df = pd.DataFrame(v.__dict__ for v in vessel_voyages_flat.event_details)\n",
    "vessel_event_details_df.tail(5)"
   ]
  },
  {
   "cell_type": "code",
   "execution_count": 15,
   "metadata": {
    "id": "Rj2ZAg3_Oyvb",
    "outputId": "35a71f08-d78d-411e-cf3a-76ee77287a35",
    "pycharm": {
     "name": "#%%\n"
    }
   },
   "outputs": [
    {
     "data": {
      "text/html": [
       "<div>\n",
       "<style scoped>\n",
       "    .dataframe tbody tr th:only-of-type {\n",
       "        vertical-align: middle;\n",
       "    }\n",
       "\n",
       "    .dataframe tbody tr th {\n",
       "        vertical-align: top;\n",
       "    }\n",
       "\n",
       "    .dataframe thead th {\n",
       "        text-align: right;\n",
       "    }\n",
       "</style>\n",
       "<table border=\"1\" class=\"dataframe\">\n",
       "  <thead>\n",
       "    <tr style=\"text-align: right;\">\n",
       "      <th></th>\n",
       "      <th>id</th>\n",
       "      <th>name</th>\n",
       "      <th>port_id</th>\n",
       "      <th>port_name</th>\n",
       "      <th>country_id</th>\n",
       "      <th>country</th>\n",
       "      <th>area_idlevel0</th>\n",
       "      <th>area_name_level0</th>\n",
       "      <th>area_idlevel1</th>\n",
       "      <th>area_name_level1</th>\n",
       "      <th>area_idlevel2</th>\n",
       "      <th>area_name_level2</th>\n",
       "      <th>area_idlevel3</th>\n",
       "      <th>area_name_level3</th>\n",
       "    </tr>\n",
       "  </thead>\n",
       "  <tbody>\n",
       "    <tr>\n",
       "      <th>241</th>\n",
       "      <td>6163</td>\n",
       "      <td>Vopak Terminal Europoort</td>\n",
       "      <td>3689</td>\n",
       "      <td>Rotterdam</td>\n",
       "      <td>173</td>\n",
       "      <td>Netherlands</td>\n",
       "      <td>24758</td>\n",
       "      <td>Continent</td>\n",
       "      <td>25016</td>\n",
       "      <td>UK Continent</td>\n",
       "      <td>25025</td>\n",
       "      <td>Mediterranean / UK Continent</td>\n",
       "      <td>25028</td>\n",
       "      <td>West</td>\n",
       "    </tr>\n",
       "    <tr>\n",
       "      <th>242</th>\n",
       "      <td>5744</td>\n",
       "      <td>Euro Tank Terminal B.v.</td>\n",
       "      <td>3689</td>\n",
       "      <td>Rotterdam</td>\n",
       "      <td>173</td>\n",
       "      <td>Netherlands</td>\n",
       "      <td>24758</td>\n",
       "      <td>Continent</td>\n",
       "      <td>25016</td>\n",
       "      <td>UK Continent</td>\n",
       "      <td>25025</td>\n",
       "      <td>Mediterranean / UK Continent</td>\n",
       "      <td>25028</td>\n",
       "      <td>West</td>\n",
       "    </tr>\n",
       "    <tr>\n",
       "      <th>243</th>\n",
       "      <td>6361</td>\n",
       "      <td>Aruba Lightering Zone</td>\n",
       "      <td>3214</td>\n",
       "      <td>San Nicolaas</td>\n",
       "      <td>21</td>\n",
       "      <td>Aruba</td>\n",
       "      <td>24746</td>\n",
       "      <td>Caribs</td>\n",
       "      <td>9</td>\n",
       "      <td>Caribs</td>\n",
       "      <td>25019</td>\n",
       "      <td>Atlantic America</td>\n",
       "      <td>25028</td>\n",
       "      <td>West</td>\n",
       "    </tr>\n",
       "    <tr>\n",
       "      <th>244</th>\n",
       "      <td>5745</td>\n",
       "      <td>Maatschap Europoort Terminal</td>\n",
       "      <td>3689</td>\n",
       "      <td>Rotterdam</td>\n",
       "      <td>173</td>\n",
       "      <td>Netherlands</td>\n",
       "      <td>24758</td>\n",
       "      <td>Continent</td>\n",
       "      <td>25016</td>\n",
       "      <td>UK Continent</td>\n",
       "      <td>25025</td>\n",
       "      <td>Mediterranean / UK Continent</td>\n",
       "      <td>25028</td>\n",
       "      <td>West</td>\n",
       "    </tr>\n",
       "    <tr>\n",
       "      <th>245</th>\n",
       "      <td>4177</td>\n",
       "      <td>Assaluyeh Anchorage</td>\n",
       "      <td>3538</td>\n",
       "      <td>Bandar Assaluyeh</td>\n",
       "      <td>115</td>\n",
       "      <td>Iran, Islamic Republic of</td>\n",
       "      <td>24777</td>\n",
       "      <td>Arabian Gulf</td>\n",
       "      <td>2</td>\n",
       "      <td>Arabian Gulf</td>\n",
       "      <td>89</td>\n",
       "      <td>Arabian Gulf</td>\n",
       "      <td>84</td>\n",
       "      <td>East</td>\n",
       "    </tr>\n",
       "  </tbody>\n",
       "</table>\n",
       "</div>"
      ],
      "text/plain": [
       "       id                          name  port_id         port_name  \\\n",
       "241  6163      Vopak Terminal Europoort     3689         Rotterdam   \n",
       "242  5744       Euro Tank Terminal B.v.     3689         Rotterdam   \n",
       "243  6361         Aruba Lightering Zone     3214      San Nicolaas   \n",
       "244  5745  Maatschap Europoort Terminal     3689         Rotterdam   \n",
       "245  4177           Assaluyeh Anchorage     3538  Bandar Assaluyeh   \n",
       "\n",
       "     country_id                    country  area_idlevel0 area_name_level0  \\\n",
       "241         173                Netherlands          24758        Continent   \n",
       "242         173                Netherlands          24758        Continent   \n",
       "243          21                      Aruba          24746           Caribs   \n",
       "244         173                Netherlands          24758        Continent   \n",
       "245         115  Iran, Islamic Republic of          24777     Arabian Gulf   \n",
       "\n",
       "     area_idlevel1 area_name_level1  area_idlevel2  \\\n",
       "241          25016     UK Continent          25025   \n",
       "242          25016     UK Continent          25025   \n",
       "243              9           Caribs          25019   \n",
       "244          25016     UK Continent          25025   \n",
       "245              2     Arabian Gulf             89   \n",
       "\n",
       "                 area_name_level2  area_idlevel3 area_name_level3  \n",
       "241  Mediterranean / UK Continent          25028             West  \n",
       "242  Mediterranean / UK Continent          25028             West  \n",
       "243              Atlantic America          25028             West  \n",
       "244  Mediterranean / UK Continent          25028             West  \n",
       "245                  Arabian Gulf             84             East  "
      ]
     },
     "execution_count": 15,
     "metadata": {},
     "output_type": "execute_result"
    }
   ],
   "source": [
    "vessel_voyages_geos_df = pd.DataFrame(v.__dict__ for v in vessel_voyages_flat.geos)\n",
    "vessel_voyages_geos_df.tail(5)"
   ]
  },
  {
   "cell_type": "markdown",
   "metadata": {
    "id": "KosfTNj0Oyvb",
    "pycharm": {
     "name": "#%% md\n"
    }
   },
   "source": [
    "### Get voyages for vessel class in the flat format"
   ]
  },
  {
   "cell_type": "code",
   "execution_count": 16,
   "metadata": {
    "id": "kCud5NPqOyvb",
    "pycharm": {
     "name": "#%%\n"
    }
   },
   "outputs": [],
   "source": [
    "#get vessel class id for vlcc\n",
    "vc = api.get_vessel_classes(VesselClassFilter('vlcc'))[0]\n",
    "vlcc_id = vc.vessel_class_id\n",
    "\n",
    "date_from = date.today() - timedelta(days=30)\n",
    "recent_vlcc_voyages_flat = api.get_voyages_flat(vessel_class_id=vlcc_id, date_from=date_from)"
   ]
  },
  {
   "cell_type": "code",
   "execution_count": 17,
   "metadata": {
    "colab": {
     "base_uri": "https://localhost:8080/"
    },
    "id": "bQwUf_ItOyvb",
    "outputId": "117a5582-d5b9-48de-9946-1806509a805d",
    "pycharm": {
     "name": "#%%\n"
    }
   },
   "outputs": [
    {
     "name": "stdout",
     "output_type": "stream",
     "text": [
      "Voyages: 401\n",
      "Events: 1453\n",
      "EventDetails: 504\n",
      "Geos: 280\n"
     ]
    }
   ],
   "source": [
    "print('Voyages:', len(recent_vlcc_voyages_flat.voyages))\n",
    "print('Events:', len(recent_vlcc_voyages_flat.events))\n",
    "print('EventDetails:', len(recent_vlcc_voyages_flat.event_details))\n",
    "print('Geos:', len(recent_vlcc_voyages_flat.geos))"
   ]
  },
  {
   "cell_type": "markdown",
   "metadata": {
    "id": "-mLcTt21Oyvc",
    "pycharm": {
     "name": "#%% md\n"
    }
   },
   "source": [
    "### Get voyages for vessel incrementally "
   ]
  },
  {
   "cell_type": "markdown",
   "metadata": {
    "id": "rTgyj0MnOyvc",
    "pycharm": {
     "name": "#%% md\n"
    }
   },
   "source": [
    "Initial requests retrieves voyages mathcing the query criteria and a query token that can be used in the subsequent request."
   ]
  },
  {
   "cell_type": "code",
   "execution_count": 18,
   "metadata": {
    "colab": {
     "base_uri": "https://localhost:8080/"
    },
    "id": "RsFqB1r_Rl-L",
    "outputId": "bda75918-067e-4cd6-f0f7-9af0c0d59f7d",
    "pycharm": {
     "name": "#%%\n"
    }
   },
   "outputs": [
    {
     "data": {
      "text/plain": [
       "Vessel(imo=9416642, vessel_name='Xin Yong Yang')"
      ]
     },
     "execution_count": 18,
     "metadata": {},
     "output_type": "execute_result"
    }
   ],
   "source": [
    "# get the imo by using the vessel name\n",
    "vessel = api.get_imos(VesselFilter('XIN YONG YANG'))[0]\n",
    "vessel"
   ]
  },
  {
   "cell_type": "code",
   "execution_count": 19,
   "metadata": {
    "colab": {
     "base_uri": "https://localhost:8080/"
    },
    "id": "A4QIdI9DOyvc",
    "outputId": "4beee3d2-7273-4732-bc90-c722d21f7e19",
    "pycharm": {
     "name": "#%%\n"
    }
   },
   "outputs": [
    {
     "data": {
      "text/plain": [
       "81"
      ]
     },
     "execution_count": 19,
     "metadata": {},
     "output_type": "execute_result"
    }
   ],
   "source": [
    "vessel_voyages, next_request_token = api.get_incremental_voyages(imo=vessel.imo)\n",
    "len(vessel_voyages)"
   ]
  },
  {
   "cell_type": "markdown",
   "metadata": {
    "id": "PO1euHByOyvc",
    "pycharm": {
     "name": "#%% md\n"
    }
   },
   "source": [
    "Provided the token retrieved for the previous request, the subsequent request retrieves only voyages that have been updated since the previous request. "
   ]
  },
  {
   "cell_type": "code",
   "execution_count": 20,
   "metadata": {
    "id": "qmVQVvyrOyvc",
    "outputId": "344ffec4-6ab9-4357-ca19-a4fdfb9078b3",
    "pycharm": {
     "name": "#%%\n"
    }
   },
   "outputs": [
    {
     "data": {
      "text/plain": [
       "0"
      ]
     },
     "execution_count": 20,
     "metadata": {},
     "output_type": "execute_result"
    }
   ],
   "source": [
    "incremental_voyages, next_request_token = api.get_incremental_voyages(imo=9416642, incremental_token=next_request_token)\n",
    "len(incremental_voyages)"
   ]
  },
  {
   "cell_type": "markdown",
   "metadata": {
    "id": "uehO3EAYOyvd",
    "pycharm": {
     "name": "#%% md\n"
    }
   },
   "source": [
    "The retrieved information is used to replace any modify voyages from the dataset. Note that returned voyages marked as deleted are only used to filter out voyages. "
   ]
  },
  {
   "cell_type": "code",
   "execution_count": 21,
   "metadata": {
    "id": "xA1FkflhOyvd",
    "outputId": "0c859de7-bd80-4ecf-f549-73eae3029e46",
    "pycharm": {
     "name": "#%%\n"
    }
   },
   "outputs": [
    {
     "data": {
      "text/plain": [
       "81"
      ]
     },
     "execution_count": 21,
     "metadata": {},
     "output_type": "execute_result"
    }
   ],
   "source": [
    "updated_voyage_ids = set(v.id for v in incremental_voyages)\n",
    "vessel_voyages = [v for v in vessel_voyages if v.id not in updated_voyage_ids]\n",
    "new_vessel_voyages = [v for v in incremental_voyages if not v.deleted]\n",
    "vessel_voyages = sorted(vessel_voyages + new_vessel_voyages, key= lambda v: v.voyage_number)\n",
    "len(vessel_voyages)"
   ]
  },
  {
   "cell_type": "markdown",
   "metadata": {
    "id": "OWOaKgomOyvd",
    "pycharm": {
     "name": "#%% md\n"
    }
   },
   "source": [
    "### Get voyages for vessel class incrementally "
   ]
  },
  {
   "cell_type": "markdown",
   "metadata": {
    "id": "EuJdS_MdOyvd",
    "pycharm": {
     "name": "#%% md\n"
    }
   },
   "source": [
    "Voyages for vessel class are retieved and updated in the same way incrementally."
   ]
  },
  {
   "cell_type": "code",
   "execution_count": 22,
   "metadata": {
    "colab": {
     "base_uri": "https://localhost:8080/"
    },
    "id": "aaKjySklR9Pv",
    "outputId": "e2d82fc0-2efc-4468-daa8-1867d7d682c5",
    "pycharm": {
     "name": "#%%\n"
    }
   },
   "outputs": [
    {
     "data": {
      "text/plain": [
       "84"
      ]
     },
     "execution_count": 22,
     "metadata": {},
     "output_type": "execute_result"
    }
   ],
   "source": [
    "#get vessel class id for vlcc\n",
    "vc = api.get_vessel_classes(VesselClassFilter('vlcc'))[0]\n",
    "vessel_class_id = vc.vessel_class_id\n",
    "vessel_class_id"
   ]
  },
  {
   "cell_type": "code",
   "execution_count": 23,
   "metadata": {
    "id": "hoDG2TrAOyvd",
    "pycharm": {
     "name": "#%%\n"
    }
   },
   "outputs": [],
   "source": [
    "date_from = date.today() - timedelta(days=30)"
   ]
  },
  {
   "cell_type": "code",
   "execution_count": 24,
   "metadata": {
    "id": "u-NrM_yFOyve",
    "outputId": "40a6b456-8a83-4e8e-f45a-757b990258c9",
    "pycharm": {
     "name": "#%%\n"
    }
   },
   "outputs": [
    {
     "data": {
      "text/plain": [
       "401"
      ]
     },
     "execution_count": 24,
     "metadata": {},
     "output_type": "execute_result"
    }
   ],
   "source": [
    "voyages, next_request_token = api.get_incremental_voyages(vessel_class_id=vessel_class_id, date_from=date_from)\n",
    "len(voyages)"
   ]
  },
  {
   "cell_type": "code",
   "execution_count": 25,
   "metadata": {
    "id": "NteLP5YGOyve",
    "outputId": "8165a9aa-d7bd-45d0-ea49-e211a144cf44",
    "pycharm": {
     "name": "#%%\n"
    }
   },
   "outputs": [
    {
     "data": {
      "text/plain": [
       "0"
      ]
     },
     "execution_count": 25,
     "metadata": {},
     "output_type": "execute_result"
    }
   ],
   "source": [
    "incremental_voyages, next_request_token = api.get_incremental_voyages(vessel_class_id=vessel_class_id, date_from=date_from, incremental_token=next_request_token)\n",
    "len(incremental_voyages)"
   ]
  },
  {
   "cell_type": "code",
   "execution_count": 26,
   "metadata": {
    "id": "EnhF_D7oOyve",
    "outputId": "dbc6d5ae-abc1-4374-d4f1-d81468496a78",
    "pycharm": {
     "name": "#%%\n"
    }
   },
   "outputs": [
    {
     "data": {
      "text/plain": [
       "401"
      ]
     },
     "execution_count": 26,
     "metadata": {},
     "output_type": "execute_result"
    }
   ],
   "source": [
    "updated_voyage_ids = set(v.id for v in incremental_voyages)\n",
    "voyages = [v for v in voyages if v.id not in updated_voyage_ids and not v.deleted]\n",
    "new_voyages = [v for v in incremental_voyages if not v.deleted]\n",
    "voyages = sorted(voyages + new_voyages, key= lambda v: (v.imo, v.voyage_number))\n",
    "len(voyages)"
   ]
  },
  {
   "cell_type": "markdown",
   "metadata": {
    "id": "7Z90cXUMOyve",
    "pycharm": {
     "name": "#%% md\n"
    }
   },
   "source": [
    "### Get voyages for vessel class incrementally in the flat format"
   ]
  },
  {
   "cell_type": "markdown",
   "metadata": {
    "id": "CDfq-d7IOyvg",
    "pycharm": {
     "name": "#%% md\n"
    }
   },
   "source": [
    "Voyages may be retrieved and updated incrementally in the flat format. "
   ]
  },
  {
   "cell_type": "code",
   "execution_count": 27,
   "metadata": {
    "colab": {
     "base_uri": "https://localhost:8080/"
    },
    "id": "bTK4pOcRSCss",
    "outputId": "9b404040-5026-40a6-ad88-08c286eb0792",
    "pycharm": {
     "name": "#%%\n"
    }
   },
   "outputs": [
    {
     "data": {
      "text/plain": [
       "84"
      ]
     },
     "execution_count": 27,
     "metadata": {},
     "output_type": "execute_result"
    }
   ],
   "source": [
    "#get vessel class id for vlcc\n",
    "vc = api.get_vessel_classes(VesselClassFilter('vlcc'))[0]\n",
    "vessel_class_id = vc.vessel_class_id\n",
    "vessel_class_id"
   ]
  },
  {
   "cell_type": "code",
   "execution_count": 28,
   "metadata": {
    "id": "GuHVwQc8Oyvg",
    "pycharm": {
     "name": "#%%\n"
    }
   },
   "outputs": [],
   "source": [
    "date_from = date.today() - timedelta(days=30)"
   ]
  },
  {
   "cell_type": "code",
   "execution_count": 29,
   "metadata": {
    "id": "IJIWwU7sOyvg",
    "pycharm": {
     "name": "#%%\n"
    }
   },
   "outputs": [],
   "source": [
    "voyages_flat, next_request_token = api.get_incremental_voyages_flat(vessel_class_id=vessel_class_id, date_from=date_from)"
   ]
  },
  {
   "cell_type": "code",
   "execution_count": 30,
   "metadata": {
    "id": "9Py1NwlNOyvg",
    "pycharm": {
     "name": "#%%\n"
    }
   },
   "outputs": [],
   "source": [
    "voyages = voyages_flat.voyages\n",
    "events = voyages_flat.events\n",
    "event_details = voyages_flat.event_details\n",
    "geos = voyages_flat.geos"
   ]
  },
  {
   "cell_type": "code",
   "execution_count": 31,
   "metadata": {
    "id": "Jy3B4gg9Oyvg",
    "outputId": "e66bfa84-49f4-40a7-f6e8-bd29ffaf1918",
    "pycharm": {
     "name": "#%%\n"
    }
   },
   "outputs": [
    {
     "data": {
      "text/plain": [
       "(401, 1453, 504, 280)"
      ]
     },
     "execution_count": 31,
     "metadata": {},
     "output_type": "execute_result"
    }
   ],
   "source": [
    "len(voyages), len(events), len(event_details), len(geos)"
   ]
  },
  {
   "cell_type": "code",
   "execution_count": 32,
   "metadata": {
    "id": "LbnYof4VOyvh",
    "pycharm": {
     "name": "#%%\n"
    }
   },
   "outputs": [],
   "source": [
    "incremental_voyages_flat, next_request_token = api.get_incremental_voyages_flat(vessel_class_id=vessel_class_id, date_from=date_from, incremental_token=next_request_token)"
   ]
  },
  {
   "cell_type": "code",
   "execution_count": 33,
   "metadata": {
    "id": "cXpOEn0uOyvh",
    "outputId": "8cf171cf-4703-4b31-9e80-923f92419544",
    "pycharm": {
     "name": "#%%\n"
    }
   },
   "outputs": [
    {
     "data": {
      "text/plain": [
       "0"
      ]
     },
     "execution_count": 33,
     "metadata": {},
     "output_type": "execute_result"
    }
   ],
   "source": [
    "len(incremental_voyages_flat.voyages)"
   ]
  },
  {
   "cell_type": "markdown",
   "metadata": {
    "id": "Us-FRQ9DOyvh",
    "pycharm": {
     "name": "#%% md\n"
    }
   },
   "source": [
    "In this case the update step is applied to voyages, events, event details and geos datasets."
   ]
  },
  {
   "cell_type": "code",
   "execution_count": 34,
   "metadata": {
    "id": "ZMj4PhVqOyvh",
    "outputId": "2bb6aea3-7055-448d-fe6d-dbf8d4e40d2b",
    "pycharm": {
     "name": "#%%\n"
    }
   },
   "outputs": [
    {
     "data": {
      "text/plain": [
       "401"
      ]
     },
     "execution_count": 34,
     "metadata": {},
     "output_type": "execute_result"
    }
   ],
   "source": [
    "updated_voyage_ids = set(v.id for v in incremental_voyages_flat.voyages)\n",
    "voyages = [v for v in voyages if v.id not in updated_voyage_ids and not v.deleted]\n",
    "new_voyages = [v for v in incremental_voyages_flat.voyages if not v.deleted]\n",
    "voyages = sorted(voyages + new_voyages, key= lambda v: (v.imo, v.voyage_number))\n",
    "len(voyages)"
   ]
  },
  {
   "cell_type": "code",
   "execution_count": 35,
   "metadata": {
    "id": "XDTr5qU3Oyvh",
    "outputId": "8f3c6357-092a-4ee9-8d30-47998e9c3237",
    "pycharm": {
     "name": "#%%\n"
    }
   },
   "outputs": [
    {
     "data": {
      "text/plain": [
       "1453"
      ]
     },
     "execution_count": 35,
     "metadata": {},
     "output_type": "execute_result"
    }
   ],
   "source": [
    "updated_event_ids = set(e.id for e in events if e.voyage_id in updated_voyage_ids)\n",
    "events = [e for e in events if e.id not in updated_event_ids]\n",
    "events = sorted(events + list(incremental_voyages_flat.events), key= lambda e: e.id)\n",
    "len(events)"
   ]
  },
  {
   "cell_type": "code",
   "execution_count": 36,
   "metadata": {
    "id": "aRpLomdkOyvh",
    "outputId": "4dd4e4d0-ec83-44c7-c12d-e1f2e6b3f797",
    "pycharm": {
     "name": "#%%\n"
    }
   },
   "outputs": [
    {
     "data": {
      "text/plain": [
       "504"
      ]
     },
     "execution_count": 36,
     "metadata": {},
     "output_type": "execute_result"
    }
   ],
   "source": [
    "event_details = [e for e in event_details if e.id not in updated_event_ids]\n",
    "event_details = sorted(event_details + list(incremental_voyages_flat.event_details), key= lambda e: e.id)\n",
    "len(event_details)"
   ]
  },
  {
   "cell_type": "code",
   "execution_count": 37,
   "metadata": {
    "id": "twfn4aRvOyvi",
    "outputId": "b5bb8b74-f929-47c4-e68f-760570524f84",
    "pycharm": {
     "name": "#%%\n"
    }
   },
   "outputs": [
    {
     "data": {
      "text/plain": [
       "280"
      ]
     },
     "execution_count": 37,
     "metadata": {},
     "output_type": "execute_result"
    }
   ],
   "source": [
    "updated_geo_ids = set(g.id for g in incremental_voyages_flat.geos)\n",
    "geos = [g for g in geos if g.id not in updated_geo_ids] + list(incremental_voyages_flat.geos)\n",
    "len(geos)"
   ]
  }
 ],
 "metadata": {
  "colab": {
   "collapsed_sections": [],
   "name": "Copy of VoyagesAPI.ipynb",
   "provenance": []
  },
  "kernelspec": {
   "display_name": "Python 3 (ipykernel)",
   "language": "python",
   "name": "python3"
  },
  "language_info": {
   "codemirror_mode": {
    "name": "ipython",
    "version": 3
   },
   "file_extension": ".py",
   "mimetype": "text/x-python",
   "name": "python",
   "nbconvert_exporter": "python",
   "pygments_lexer": "ipython3",
   "version": "3.8.12"
  }
 },
 "nbformat": 4,
 "nbformat_minor": 4
}
