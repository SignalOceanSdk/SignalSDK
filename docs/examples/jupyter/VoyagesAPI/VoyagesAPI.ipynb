{
 "cells": [
  {
   "cell_type": "markdown",
   "metadata": {
    "id": "pLubipKzOyvL"
   },
   "source": [
    "# Voyages API Example\n",
    "\n",
    "## Run this example in [Colab](https://colab.research.google.com/github/SignalOceanSdk/SignalSDK/blob/master/docs/examples/jupyter/VoyagesAPI/VoyagesAPI.ipynb). "
   ]
  },
  {
   "cell_type": "markdown",
   "metadata": {
    "id": "aXN078DoOyvP"
   },
   "source": [
    "## Setup\n",
    "Install the Signal Ocean SDK:\n",
    "```\n",
    "pip install signal-ocean\n",
    "```\n",
    "Set your subscription key acquired here: https://apis.signalocean.com/profile"
   ]
  },
  {
   "cell_type": "code",
   "execution_count": null,
   "metadata": {
    "colab": {
     "base_uri": "https://localhost:8080/"
    },
    "id": "9bJiz_f0OyvQ",
    "outputId": "79d748c6-f3ef-4528-fd32-0999b0304c03"
   },
   "outputs": [],
   "source": [
    "!pip install signal-ocean"
   ]
  },
  {
   "cell_type": "code",
   "execution_count": null,
   "metadata": {
    "id": "poC0RHOcOyvR"
   },
   "outputs": [],
   "source": [
    "signal_ocean_api_key = '' #replace with your subscription key"
   ]
  },
  {
   "cell_type": "markdown",
   "metadata": {
    "id": "QzHwIp20OyvS"
   },
   "source": [
    "## Call the Voyages API\n",
    "The Voyages API retrieves information about vessel voyages."
   ]
  },
  {
   "cell_type": "code",
   "execution_count": null,
   "metadata": {
    "id": "VaLkKseYOyvT"
   },
   "outputs": [],
   "source": [
    "from signal_ocean import Connection\n",
    "from signal_ocean.voyages import VoyagesAPI\n",
    "from signal_ocean.voyages import Vessel, VesselFilter\n",
    "from signal_ocean.voyages import VesselType, VesselTypeFilter\n",
    "from signal_ocean.voyages import VesselClass, VesselClassFilter\n",
    "import pandas as pd\n",
    "from datetime import date, timedelta"
   ]
  },
  {
   "cell_type": "code",
   "execution_count": null,
   "metadata": {
    "id": "bSu1XgNTOyvT"
   },
   "outputs": [],
   "source": [
    "connection = Connection(signal_ocean_api_key)\n",
    "api = VoyagesAPI(connection)"
   ]
  },
  {
   "cell_type": "markdown",
   "metadata": {
    "id": "G6tGahRbOyvU"
   },
   "source": [
    "### Get voyages for vessel"
   ]
  },
  {
   "cell_type": "code",
   "execution_count": null,
   "metadata": {
    "colab": {
     "base_uri": "https://localhost:8080/"
    },
    "id": "TgqUa2VkQGH1",
    "outputId": "21dbd2a9-a52a-4376-b0fa-5384f01d5611"
   },
   "outputs": [],
   "source": [
    "# get the imo by using the vessel name\n",
    "vessel = api.get_imos(VesselFilter('Seaking'))[0]\n",
    "vessel"
   ]
  },
  {
   "cell_type": "code",
   "execution_count": null,
   "metadata": {
    "id": "sdwh-04uOyvU"
   },
   "outputs": [],
   "source": [
    "vessel_voyages = api.get_voyages(imo=vessel.imo)"
   ]
  },
  {
   "cell_type": "code",
   "execution_count": null,
   "metadata": {
    "colab": {
     "base_uri": "https://localhost:8080/",
     "height": 409
    },
    "id": "JFd0wslmOyvV",
    "outputId": "e2de31e6-bb3e-4945-f05b-79a34c122853"
   },
   "outputs": [],
   "source": [
    "vessel_voyages_df = pd.DataFrame([v.__dict__ for v in vessel_voyages])\n",
    "vessel_voyages_df.tail(5)"
   ]
  },
  {
   "cell_type": "code",
   "execution_count": null,
   "metadata": {
    "id": "MEjdHQ3cOyvW",
    "outputId": "0f167ab2-b1d4-4663-b994-ad1ac06485ea"
   },
   "outputs": [],
   "source": [
    "vessel_events_df = pd.DataFrame(e.__dict__ for voyage_events in vessel_voyages_df['events'] for e in voyage_events)\n",
    "vessel_events_df.tail(5)"
   ]
  },
  {
   "cell_type": "code",
   "execution_count": null,
   "metadata": {
    "id": "FBsyOee5OyvW",
    "outputId": "438d0aea-53f4-4817-cc36-43e9ec82b142"
   },
   "outputs": [],
   "source": [
    "vessel_event_details_df = pd.DataFrame(e.__dict__ for event_details in vessel_events_df['event_details'] for e in event_details or [])\n",
    "vessel_event_details_df.tail(5)"
   ]
  },
  {
   "cell_type": "markdown",
   "metadata": {
    "id": "PZA3IrDHOyvY"
   },
   "source": [
    "### Get voyages for vessel class"
   ]
  },
  {
   "cell_type": "code",
   "execution_count": null,
   "metadata": {
    "colab": {
     "base_uri": "https://localhost:8080/"
    },
    "id": "anZJAWDBQwt4",
    "outputId": "b5f4bbb2-edeb-478b-f250-9b3ee2339275"
   },
   "outputs": [],
   "source": [
    "#get vessel class id for vlcc\n",
    "vc = api.get_vessel_classes(VesselClassFilter('vlcc'))[0]\n",
    "vlcc_id = vc.vessel_class_id\n",
    "vlcc_id"
   ]
  },
  {
   "cell_type": "code",
   "execution_count": null,
   "metadata": {
    "id": "U6U3qvJyOyvY"
   },
   "outputs": [],
   "source": [
    "date_from = date.today() - timedelta(days=30)\n",
    "recent_vlcc_voyages = api.get_voyages(vessel_class_id=vlcc_id, date_from=date_from)"
   ]
  },
  {
   "cell_type": "code",
   "execution_count": null,
   "metadata": {
    "id": "YDI7YTy9OyvZ",
    "outputId": "d6923ce4-a1e3-40ae-e71a-5cde311247a5",
    "scrolled": true
   },
   "outputs": [],
   "source": [
    "recent_vlcc_voyages = pd.DataFrame([v.__dict__ for v in recent_vlcc_voyages])\n",
    "recent_vlcc_voyages.tail(5)"
   ]
  },
  {
   "cell_type": "markdown",
   "metadata": {
    "id": "Lf8nvgtXOyvZ"
   },
   "source": [
    "### Get voyages for vessel in flat format"
   ]
  },
  {
   "cell_type": "code",
   "execution_count": null,
   "metadata": {
    "colab": {
     "base_uri": "https://localhost:8080/"
    },
    "id": "wOvAcRnrRWTK",
    "outputId": "15308ea2-4d85-4b1e-85ed-d22104ba4e7f"
   },
   "outputs": [],
   "source": [
    "# get the imo by using the vessel name\n",
    "vessel = api.get_imos(VesselFilter('Seaking'))[0]\n",
    "vessel"
   ]
  },
  {
   "cell_type": "code",
   "execution_count": null,
   "metadata": {
    "id": "5GL354yQOyvZ"
   },
   "outputs": [],
   "source": [
    "vessel_voyages_flat = api.get_voyages_flat(imo=vessel.imo)"
   ]
  },
  {
   "cell_type": "code",
   "execution_count": null,
   "metadata": {
    "id": "eomp96KPOyva",
    "outputId": "ceb37f6c-c28a-4253-b3c4-9ff06a4244d9"
   },
   "outputs": [],
   "source": [
    "vessel_voyages_df = pd.DataFrame(v.__dict__ for v in vessel_voyages_flat.voyages)\n",
    "vessel_voyages_df.tail(5)"
   ]
  },
  {
   "cell_type": "code",
   "execution_count": null,
   "metadata": {
    "id": "ztvF1PRTOyva",
    "outputId": "878ee026-13ab-4fd6-93ec-df2aab28618d"
   },
   "outputs": [],
   "source": [
    "vessel_events_df = pd.DataFrame(v.__dict__ for v in vessel_voyages_flat.events)\n",
    "vessel_events_df.tail(5)"
   ]
  },
  {
   "cell_type": "code",
   "execution_count": null,
   "metadata": {
    "id": "PklwbZAvOyva",
    "outputId": "b20a7939-012c-4f1f-f5da-f2567c91939e"
   },
   "outputs": [],
   "source": [
    "vessel_event_details_df = pd.DataFrame(v.__dict__ for v in vessel_voyages_flat.event_details)\n",
    "vessel_event_details_df.tail(5)"
   ]
  },
  {
   "cell_type": "code",
   "execution_count": null,
   "metadata": {
    "id": "Rj2ZAg3_Oyvb",
    "outputId": "35a71f08-d78d-411e-cf3a-76ee77287a35"
   },
   "outputs": [],
   "source": [
    "vessel_voyages_geos_df = pd.DataFrame(v.__dict__ for v in vessel_voyages_flat.geos)\n",
    "vessel_voyages_geos_df.tail(5)"
   ]
  },
  {
   "cell_type": "markdown",
   "metadata": {
    "id": "KosfTNj0Oyvb"
   },
   "source": [
    "### Get voyages for vessel class in the flat format"
   ]
  },
  {
   "cell_type": "code",
   "execution_count": null,
   "metadata": {
    "id": "kCud5NPqOyvb"
   },
   "outputs": [],
   "source": [
    "#get vessel class id for vlcc\n",
    "vc = api.get_vessel_classes(VesselClassFilter('vlcc'))[0]\n",
    "vlcc_id = vc.vessel_class_id\n",
    "\n",
    "date_from = date.today() - timedelta(days=30)\n",
    "recent_vlcc_voyages_flat = api.get_voyages_flat(vessel_class_id=vlcc_id, date_from=date_from)"
   ]
  },
  {
   "cell_type": "code",
   "execution_count": null,
   "metadata": {
    "colab": {
     "base_uri": "https://localhost:8080/"
    },
    "id": "bQwUf_ItOyvb",
    "outputId": "117a5582-d5b9-48de-9946-1806509a805d"
   },
   "outputs": [],
   "source": [
    "print('Voyages:', len(recent_vlcc_voyages_flat.voyages))\n",
    "print('Events:', len(recent_vlcc_voyages_flat.events))\n",
    "print('EventDetails:', len(recent_vlcc_voyages_flat.event_details))\n",
    "print('Geos:', len(recent_vlcc_voyages_flat.geos))"
   ]
  },
  {
   "cell_type": "markdown",
   "metadata": {
    "id": "-mLcTt21Oyvc"
   },
   "source": [
    "### Get voyages for vessel incrementally "
   ]
  },
  {
   "cell_type": "markdown",
   "metadata": {
    "id": "rTgyj0MnOyvc"
   },
   "source": [
    "Initial requests retrieves voyages mathcing the query criteria and a query token that can be used in the subsequent request."
   ]
  },
  {
   "cell_type": "code",
   "execution_count": null,
   "metadata": {
    "colab": {
     "base_uri": "https://localhost:8080/"
    },
    "id": "RsFqB1r_Rl-L",
    "outputId": "bda75918-067e-4cd6-f0f7-9af0c0d59f7d"
   },
   "outputs": [],
   "source": [
    "# get the imo by using the vessel name\n",
    "vessel = api.get_imos(VesselFilter('XIN YONG YANG'))[0]\n",
    "vessel"
   ]
  },
  {
   "cell_type": "code",
   "execution_count": null,
   "metadata": {
    "colab": {
     "base_uri": "https://localhost:8080/"
    },
    "id": "A4QIdI9DOyvc",
    "outputId": "4beee3d2-7273-4732-bc90-c722d21f7e19"
   },
   "outputs": [],
   "source": [
    "vessel_voyages, next_request_token = api.get_incremental_voyages(imo=vessel.imo)\n",
    "len(vessel_voyages)"
   ]
  },
  {
   "cell_type": "markdown",
   "metadata": {
    "id": "PO1euHByOyvc"
   },
   "source": [
    "Provided the token retrieved for the previous request, the subsequent request retrieves only voyages that have been updated since the previous request. "
   ]
  },
  {
   "cell_type": "code",
   "execution_count": null,
   "metadata": {
    "id": "qmVQVvyrOyvc",
    "outputId": "344ffec4-6ab9-4357-ca19-a4fdfb9078b3"
   },
   "outputs": [],
   "source": [
    "incremental_voyages, next_request_token = api.get_incremental_voyages(imo=9416642, incremental_token=next_request_token)\n",
    "len(incremental_voyages)"
   ]
  },
  {
   "cell_type": "markdown",
   "metadata": {
    "id": "uehO3EAYOyvd"
   },
   "source": [
    "The retrieved information is used to replace any modify voyages from the dataset. Note that returned voyages marked as deleted are only used to filter out voyages. "
   ]
  },
  {
   "cell_type": "code",
   "execution_count": null,
   "metadata": {
    "id": "xA1FkflhOyvd",
    "outputId": "0c859de7-bd80-4ecf-f549-73eae3029e46"
   },
   "outputs": [],
   "source": [
    "updated_voyage_ids = set(v.id for v in incremental_voyages)\n",
    "vessel_voyages = [v for v in vessel_voyages if v.id not in updated_voyage_ids]\n",
    "new_vessel_voyages = [v for v in incremental_voyages if not v.deleted]\n",
    "vessel_voyages = sorted(vessel_voyages + new_vessel_voyages, key= lambda v: v.voyage_number)\n",
    "len(vessel_voyages)"
   ]
  },
  {
   "cell_type": "markdown",
   "metadata": {
    "id": "OWOaKgomOyvd"
   },
   "source": [
    "### Get voyages for vessel class incrementally "
   ]
  },
  {
   "cell_type": "markdown",
   "metadata": {
    "id": "EuJdS_MdOyvd"
   },
   "source": [
    "Voyages for vessel class are retieved and updated in the same way incrementally."
   ]
  },
  {
   "cell_type": "code",
   "execution_count": null,
   "metadata": {
    "colab": {
     "base_uri": "https://localhost:8080/"
    },
    "id": "aaKjySklR9Pv",
    "outputId": "e2d82fc0-2efc-4468-daa8-1867d7d682c5"
   },
   "outputs": [],
   "source": [
    "#get vessel class id for vlcc\n",
    "vc = api.get_vessel_classes(VesselClassFilter('vlcc'))[0]\n",
    "vessel_class_id = vc.vessel_class_id\n",
    "vessel_class_id"
   ]
  },
  {
   "cell_type": "code",
   "execution_count": null,
   "metadata": {
    "id": "hoDG2TrAOyvd"
   },
   "outputs": [],
   "source": [
    "date_from = date.today() - timedelta(days=30)"
   ]
  },
  {
   "cell_type": "code",
   "execution_count": null,
   "metadata": {
    "id": "u-NrM_yFOyve",
    "outputId": "40a6b456-8a83-4e8e-f45a-757b990258c9"
   },
   "outputs": [],
   "source": [
    "voyages, next_request_token = api.get_incremental_voyages(vessel_class_id=vessel_class_id, date_from=date_from)\n",
    "len(voyages)"
   ]
  },
  {
   "cell_type": "code",
   "execution_count": null,
   "metadata": {
    "id": "NteLP5YGOyve",
    "outputId": "8165a9aa-d7bd-45d0-ea49-e211a144cf44"
   },
   "outputs": [],
   "source": [
    "incremental_voyages, next_request_token = api.get_incremental_voyages(vessel_class_id=vessel_class_id, date_from=date_from, incremental_token=next_request_token)\n",
    "len(incremental_voyages)"
   ]
  },
  {
   "cell_type": "code",
   "execution_count": null,
   "metadata": {
    "id": "EnhF_D7oOyve",
    "outputId": "dbc6d5ae-abc1-4374-d4f1-d81468496a78"
   },
   "outputs": [],
   "source": [
    "updated_voyage_ids = set(v.id for v in incremental_voyages)\n",
    "voyages = [v for v in voyages if v.id not in updated_voyage_ids and not v.deleted]\n",
    "new_voyages = [v for v in incremental_voyages if not v.deleted]\n",
    "voyages = sorted(voyages + new_voyages, key= lambda v: (v.imo, v.voyage_number))\n",
    "len(voyages)"
   ]
  },
  {
   "cell_type": "markdown",
   "metadata": {
    "id": "7Z90cXUMOyve"
   },
   "source": [
    "### Get voyages for vessel class incrementally in the flat format"
   ]
  },
  {
   "cell_type": "markdown",
   "metadata": {
    "id": "CDfq-d7IOyvg"
   },
   "source": [
    "Voyages may be retrieved and updated incrementally in the flat format. "
   ]
  },
  {
   "cell_type": "code",
   "execution_count": null,
   "metadata": {
    "colab": {
     "base_uri": "https://localhost:8080/"
    },
    "id": "bTK4pOcRSCss",
    "outputId": "9b404040-5026-40a6-ad88-08c286eb0792"
   },
   "outputs": [],
   "source": [
    "#get vessel class id for vlcc\n",
    "vc = api.get_vessel_classes(VesselClassFilter('vlcc'))[0]\n",
    "vessel_class_id = vc.vessel_class_id\n",
    "vessel_class_id"
   ]
  },
  {
   "cell_type": "code",
   "execution_count": null,
   "metadata": {
    "id": "GuHVwQc8Oyvg"
   },
   "outputs": [],
   "source": [
    "date_from = date.today() - timedelta(days=30)"
   ]
  },
  {
   "cell_type": "code",
   "execution_count": null,
   "metadata": {
    "id": "IJIWwU7sOyvg"
   },
   "outputs": [],
   "source": [
    "voyages_flat, next_request_token = api.get_incremental_voyages_flat(vessel_class_id=vessel_class_id, date_from=date_from)"
   ]
  },
  {
   "cell_type": "code",
   "execution_count": null,
   "metadata": {
    "id": "9Py1NwlNOyvg"
   },
   "outputs": [],
   "source": [
    "voyages = voyages_flat.voyages\n",
    "events = voyages_flat.events\n",
    "event_details = voyages_flat.event_details\n",
    "geos = voyages_flat.geos"
   ]
  },
  {
   "cell_type": "code",
   "execution_count": null,
   "metadata": {
    "id": "Jy3B4gg9Oyvg",
    "outputId": "e66bfa84-49f4-40a7-f6e8-bd29ffaf1918"
   },
   "outputs": [],
   "source": [
    "len(voyages), len(events), len(event_details), len(geos)"
   ]
  },
  {
   "cell_type": "code",
   "execution_count": null,
   "metadata": {
    "id": "LbnYof4VOyvh"
   },
   "outputs": [],
   "source": [
    "incremental_voyages_flat, next_request_token = api.get_incremental_voyages_flat(vessel_class_id=vessel_class_id, date_from=date_from, incremental_token=next_request_token)"
   ]
  },
  {
   "cell_type": "code",
   "execution_count": null,
   "metadata": {
    "id": "cXpOEn0uOyvh",
    "outputId": "8cf171cf-4703-4b31-9e80-923f92419544"
   },
   "outputs": [],
   "source": [
    "len(incremental_voyages_flat.voyages)"
   ]
  },
  {
   "cell_type": "markdown",
   "metadata": {
    "id": "Us-FRQ9DOyvh"
   },
   "source": [
    "In this case the update step is applied to voyages, events, event details and geos datasets."
   ]
  },
  {
   "cell_type": "code",
   "execution_count": null,
   "metadata": {
    "id": "ZMj4PhVqOyvh",
    "outputId": "2bb6aea3-7055-448d-fe6d-dbf8d4e40d2b"
   },
   "outputs": [],
   "source": [
    "updated_voyage_ids = set(v.id for v in incremental_voyages_flat.voyages)\n",
    "voyages = [v for v in voyages if v.id not in updated_voyage_ids and not v.deleted]\n",
    "new_voyages = [v for v in incremental_voyages_flat.voyages if not v.deleted]\n",
    "voyages = sorted(voyages + new_voyages, key= lambda v: (v.imo, v.voyage_number))\n",
    "len(voyages)"
   ]
  },
  {
   "cell_type": "code",
   "execution_count": null,
   "metadata": {
    "id": "XDTr5qU3Oyvh",
    "outputId": "8f3c6357-092a-4ee9-8d30-47998e9c3237"
   },
   "outputs": [],
   "source": [
    "updated_event_ids = set(e.id for e in events if e.voyage_id in updated_voyage_ids)\n",
    "events = [e for e in events if e.id not in updated_event_ids]\n",
    "events = sorted(events + list(incremental_voyages_flat.events), key= lambda e: e.id)\n",
    "len(events)"
   ]
  },
  {
   "cell_type": "code",
   "execution_count": null,
   "metadata": {
    "id": "aRpLomdkOyvh",
    "outputId": "4dd4e4d0-ec83-44c7-c12d-e1f2e6b3f797"
   },
   "outputs": [],
   "source": [
    "event_details = [e for e in event_details if e.id not in updated_event_ids]\n",
    "event_details = sorted(event_details + list(incremental_voyages_flat.event_details), key= lambda e: e.id)\n",
    "len(event_details)"
   ]
  },
  {
   "cell_type": "code",
   "execution_count": null,
   "metadata": {
    "id": "twfn4aRvOyvi",
    "outputId": "b5bb8b74-f929-47c4-e68f-760570524f84"
   },
   "outputs": [],
   "source": [
    "updated_geo_ids = set(g.id for g in incremental_voyages_flat.geos)\n",
    "geos = [g for g in geos if g.id not in updated_geo_ids] + list(incremental_voyages_flat.geos)\n",
    "len(geos)"
   ]
  }
 ],
 "metadata": {
  "colab": {
   "collapsed_sections": [],
   "name": "Copy of VoyagesAPI.ipynb",
   "provenance": []
  },
  "kernelspec": {
   "display_name": "Python 3",
   "language": "python",
   "name": "python3"
  },
  "language_info": {
   "codemirror_mode": {
    "name": "ipython",
    "version": 3
   },
   "file_extension": ".py",
   "mimetype": "text/x-python",
   "name": "python",
   "nbconvert_exporter": "python",
   "pygments_lexer": "ipython3",
   "version": "3.8.5"
  }
 },
 "nbformat": 4,
 "nbformat_minor": 1
}
