{
  "cells": [
    {
      "cell_type": "markdown",
      "metadata": {
        "id": "pLubipKzOyvL"
      },
      "source": [
        "# Voyages API Example\n",
        "\n",
        "## Run this example in [Colab](https://colab.research.google.com/github/SignalOceanSdk/SignalSDK/blob/master/docs/examples/jupyter/VoyagesAPI/VoyagesAPI.ipynb). "
      ]
    },
    {
      "cell_type": "markdown",
      "metadata": {
        "id": "aXN078DoOyvP"
      },
      "source": [
        "## Setup\n",
        "Install the Signal Ocean SDK:\n",
        "```\n",
        "pip install signal-ocean\n",
        "```\n",
        "Set your subscription key acquired here: https://apis.signalocean.com/profile"
      ]
    },
    {
      "cell_type": "code",
      "execution_count": 22,
      "metadata": {
        "id": "9bJiz_f0OyvQ",
        "colab": {
          "base_uri": "https://localhost:8080/"
        },
        "outputId": "79d748c6-f3ef-4528-fd32-0999b0304c03"
      },
      "outputs": [
        {
          "output_type": "stream",
          "name": "stdout",
          "text": [
            "Requirement already satisfied: signal-ocean in /usr/local/lib/python3.7/dist-packages (1.0.7)\n",
            "Requirement already satisfied: requests<3,>=2.23.0 in /usr/local/lib/python3.7/dist-packages (from signal-ocean) (2.27.1)\n",
            "Requirement already satisfied: python-dateutil<3,>=2.8.1 in /usr/local/lib/python3.7/dist-packages (from signal-ocean) (2.8.2)\n",
            "Requirement already satisfied: pandas<2,>=1.0.3 in /usr/local/lib/python3.7/dist-packages (from signal-ocean) (1.3.5)\n",
            "Requirement already satisfied: pytz>=2017.3 in /usr/local/lib/python3.7/dist-packages (from pandas<2,>=1.0.3->signal-ocean) (2021.3)\n",
            "Requirement already satisfied: numpy>=1.17.3 in /usr/local/lib/python3.7/dist-packages (from pandas<2,>=1.0.3->signal-ocean) (1.21.5)\n",
            "Requirement already satisfied: six>=1.5 in /usr/local/lib/python3.7/dist-packages (from python-dateutil<3,>=2.8.1->signal-ocean) (1.16.0)\n",
            "Requirement already satisfied: charset-normalizer~=2.0.0 in /usr/local/lib/python3.7/dist-packages (from requests<3,>=2.23.0->signal-ocean) (2.0.12)\n",
            "Requirement already satisfied: certifi>=2017.4.17 in /usr/local/lib/python3.7/dist-packages (from requests<3,>=2.23.0->signal-ocean) (2021.10.8)\n",
            "Requirement already satisfied: idna<4,>=2.5 in /usr/local/lib/python3.7/dist-packages (from requests<3,>=2.23.0->signal-ocean) (3.3)\n",
            "Requirement already satisfied: urllib3<1.27,>=1.21.1 in /usr/local/lib/python3.7/dist-packages (from requests<3,>=2.23.0->signal-ocean) (1.26.8)\n"
          ]
        }
      ],
      "source": [
        "!pip install signal-ocean"
      ]
    },
    {
      "cell_type": "code",
      "execution_count": 23,
      "metadata": {
        "id": "poC0RHOcOyvR"
      },
      "outputs": [],
      "source": [
        "signal_ocean_api_key = '' #replace with your subscription key"
      ]
    },
    {
      "cell_type": "markdown",
      "metadata": {
        "id": "QzHwIp20OyvS"
      },
      "source": [
        "## Call the Voyages API\n",
        "The Voyages API retrieves information about vessel voyages."
      ]
    },
    {
      "cell_type": "code",
      "execution_count": 2,
      "metadata": {
        "id": "VaLkKseYOyvT"
      },
      "outputs": [],
      "source": [
        "from signal_ocean import Connection\n",
        "from signal_ocean.voyages import VoyagesAPI\n",
        "from signal_ocean.voyages import Vessel, VesselFilter\n",
        "from signal_ocean.voyages import VesselType, VesselTypeFilter\n",
        "from signal_ocean.voyages import VesselClass, VesselClassFilter\n",
        "import pandas as pd\n",
        "from datetime import date, timedelta"
      ]
    },
    {
      "cell_type": "code",
      "execution_count": 4,
      "metadata": {
        "id": "bSu1XgNTOyvT"
      },
      "outputs": [],
      "source": [
        "connection = Connection(signal_ocean_api_key)\n",
        "api = VoyagesAPI(connection)"
      ]
    },
    {
      "cell_type": "markdown",
      "metadata": {
        "id": "G6tGahRbOyvU"
      },
      "source": [
        "### Get voyages for vessel"
      ]
    },
    {
      "cell_type": "code",
      "source": [
        "# get the imo by using the vessel name\n",
        "vessel = api.get_imos(VesselFilter('Seaking'))[0]\n",
        "vessel"
      ],
      "metadata": {
        "colab": {
          "base_uri": "https://localhost:8080/"
        },
        "id": "TgqUa2VkQGH1",
        "outputId": "21dbd2a9-a52a-4376-b0fa-5384f01d5611"
      },
      "execution_count": 7,
      "outputs": [
        {
          "output_type": "execute_result",
          "data": {
            "text/plain": [
              "Vessel(imo=9292187, vessel_name='Seaking')"
            ]
          },
          "metadata": {},
          "execution_count": 7
        }
      ]
    },
    {
      "cell_type": "code",
      "execution_count": 8,
      "metadata": {
        "id": "sdwh-04uOyvU"
      },
      "outputs": [],
      "source": [
        "vessel_voyages = api.get_voyages(imo=vessel.imo)"
      ]
    },
    {
      "cell_type": "code",
      "execution_count": 9,
      "metadata": {
        "id": "JFd0wslmOyvV",
        "outputId": "e2de31e6-bb3e-4945-f05b-79a34c122853",
        "colab": {
          "base_uri": "https://localhost:8080/",
          "height": 409
        }
      },
      "outputs": [
        {
          "output_type": "execute_result",
          "data": {
            "text/html": [
              "\n",
              "  <div id=\"df-a18545c0-effd-4be5-941e-81c71a67e833\">\n",
              "    <div class=\"colab-df-container\">\n",
              "      <div>\n",
              "<style scoped>\n",
              "    .dataframe tbody tr th:only-of-type {\n",
              "        vertical-align: middle;\n",
              "    }\n",
              "\n",
              "    .dataframe tbody tr th {\n",
              "        vertical-align: top;\n",
              "    }\n",
              "\n",
              "    .dataframe thead th {\n",
              "        text-align: right;\n",
              "    }\n",
              "</style>\n",
              "<table border=\"1\" class=\"dataframe\">\n",
              "  <thead>\n",
              "    <tr style=\"text-align: right;\">\n",
              "      <th></th>\n",
              "      <th>imo</th>\n",
              "      <th>voyage_number</th>\n",
              "      <th>vessel_type_id</th>\n",
              "      <th>vessel_class_id</th>\n",
              "      <th>vessel_status_id</th>\n",
              "      <th>commercial_operator_id</th>\n",
              "      <th>deleted</th>\n",
              "      <th>events</th>\n",
              "      <th>id</th>\n",
              "      <th>horizon</th>\n",
              "      <th>latest_received_ais</th>\n",
              "      <th>vessel_name</th>\n",
              "      <th>vessel_type</th>\n",
              "      <th>vessel_class</th>\n",
              "      <th>trade</th>\n",
              "      <th>trade_id</th>\n",
              "      <th>vessel_status</th>\n",
              "      <th>commercial_operator</th>\n",
              "      <th>start_date</th>\n",
              "      <th>first_load_arrival_date</th>\n",
              "      <th>end_date</th>\n",
              "      <th>charterer_id</th>\n",
              "      <th>charterer</th>\n",
              "      <th>rate</th>\n",
              "      <th>rate_type</th>\n",
              "      <th>ballast_bonus</th>\n",
              "      <th>ballast_bonus_type</th>\n",
              "      <th>cargo_type_id</th>\n",
              "      <th>cargo_type</th>\n",
              "      <th>cargo_group_id</th>\n",
              "      <th>cargo_group</th>\n",
              "      <th>cargo_type_source</th>\n",
              "      <th>quantity</th>\n",
              "      <th>laycan_from</th>\n",
              "      <th>laycan_to</th>\n",
              "      <th>fixture_status_id</th>\n",
              "      <th>fixture_status</th>\n",
              "      <th>fixture_date</th>\n",
              "      <th>fixture_is_coa</th>\n",
              "      <th>fixture_is_hold</th>\n",
              "      <th>is_implied_by_ais</th>\n",
              "      <th>has_manual_entries</th>\n",
              "      <th>ballast_distance</th>\n",
              "      <th>predicted_ballast_distance</th>\n",
              "      <th>laden_distance</th>\n",
              "      <th>predicted_laden_distance</th>\n",
              "    </tr>\n",
              "  </thead>\n",
              "  <tbody>\n",
              "    <tr>\n",
              "      <th>53</th>\n",
              "      <td>9292187</td>\n",
              "      <td>54</td>\n",
              "      <td>1</td>\n",
              "      <td>84</td>\n",
              "      <td>1</td>\n",
              "      <td>1684</td>\n",
              "      <td>False</td>\n",
              "      <td>(VoyageEvent(id='I8DC99BSED81E9100', port_id=3...</td>\n",
              "      <td>I8DC99BVED81E9100</td>\n",
              "      <td>Historic</td>\n",
              "      <td>NaT</td>\n",
              "      <td>Seaking</td>\n",
              "      <td>Tanker</td>\n",
              "      <td>VLCC</td>\n",
              "      <td>Crude</td>\n",
              "      <td>1</td>\n",
              "      <td>Voyage</td>\n",
              "      <td>Thenamaris</td>\n",
              "      <td>2021-05-03 11:59:38+00:00</td>\n",
              "      <td>2021-06-01 15:55:03+00:00</td>\n",
              "      <td>2021-07-01 11:54:33+00:00</td>\n",
              "      <td>529.0</td>\n",
              "      <td>ExxonMobil</td>\n",
              "      <td>36.25</td>\n",
              "      <td>WS</td>\n",
              "      <td>None</td>\n",
              "      <td>None</td>\n",
              "      <td>19</td>\n",
              "      <td>Crude Oil</td>\n",
              "      <td>130000.0</td>\n",
              "      <td>Dirty</td>\n",
              "      <td>MarketInfo</td>\n",
              "      <td>270000.0</td>\n",
              "      <td>2021-06-01 00:00:00+00:00</td>\n",
              "      <td>2021-06-03 23:59:59+00:00</td>\n",
              "      <td>1.0</td>\n",
              "      <td>FullyFixed</td>\n",
              "      <td>2021-05-25 08:33:41.867000+00:00</td>\n",
              "      <td>False</td>\n",
              "      <td>False</td>\n",
              "      <td>None</td>\n",
              "      <td>None</td>\n",
              "      <td>5332.30</td>\n",
              "      <td>None</td>\n",
              "      <td>3985.42</td>\n",
              "      <td>NaN</td>\n",
              "    </tr>\n",
              "    <tr>\n",
              "      <th>54</th>\n",
              "      <td>9292187</td>\n",
              "      <td>55</td>\n",
              "      <td>1</td>\n",
              "      <td>84</td>\n",
              "      <td>1</td>\n",
              "      <td>1684</td>\n",
              "      <td>False</td>\n",
              "      <td>(VoyageEvent(id='I8DC99BSED86DAB00', port_id=3...</td>\n",
              "      <td>I8DC99BVED86DAB00</td>\n",
              "      <td>Historic</td>\n",
              "      <td>NaT</td>\n",
              "      <td>Seaking</td>\n",
              "      <td>Tanker</td>\n",
              "      <td>VLCC</td>\n",
              "      <td>Crude</td>\n",
              "      <td>1</td>\n",
              "      <td>Voyage</td>\n",
              "      <td>Thenamaris</td>\n",
              "      <td>2021-07-01 11:54:33+00:00</td>\n",
              "      <td>2021-07-19 15:59:45+00:00</td>\n",
              "      <td>2021-08-11 15:57:40+00:00</td>\n",
              "      <td>1338.0</td>\n",
              "      <td>PTT Public Company Limited</td>\n",
              "      <td>29.50</td>\n",
              "      <td>WS</td>\n",
              "      <td>None</td>\n",
              "      <td>None</td>\n",
              "      <td>19</td>\n",
              "      <td>Crude Oil</td>\n",
              "      <td>130000.0</td>\n",
              "      <td>Dirty</td>\n",
              "      <td>MarketInfo</td>\n",
              "      <td>270000.0</td>\n",
              "      <td>2021-07-18 00:00:00+00:00</td>\n",
              "      <td>2021-07-20 23:59:59+00:00</td>\n",
              "      <td>1.0</td>\n",
              "      <td>FullyFixed</td>\n",
              "      <td>2021-07-08 10:08:07.783000+00:00</td>\n",
              "      <td>False</td>\n",
              "      <td>False</td>\n",
              "      <td>None</td>\n",
              "      <td>None</td>\n",
              "      <td>3674.77</td>\n",
              "      <td>None</td>\n",
              "      <td>4936.38</td>\n",
              "      <td>NaN</td>\n",
              "    </tr>\n",
              "    <tr>\n",
              "      <th>55</th>\n",
              "      <td>9292187</td>\n",
              "      <td>56</td>\n",
              "      <td>1</td>\n",
              "      <td>84</td>\n",
              "      <td>1</td>\n",
              "      <td>1684</td>\n",
              "      <td>False</td>\n",
              "      <td>(VoyageEvent(id='I8DC99BSED8953800', port_id=7...</td>\n",
              "      <td>I8DC99BVED8953800</td>\n",
              "      <td>Historic</td>\n",
              "      <td>NaT</td>\n",
              "      <td>Seaking</td>\n",
              "      <td>Tanker</td>\n",
              "      <td>VLCC</td>\n",
              "      <td>Crude</td>\n",
              "      <td>1</td>\n",
              "      <td>Voyage</td>\n",
              "      <td>Thenamaris</td>\n",
              "      <td>2021-08-11 15:57:40+00:00</td>\n",
              "      <td>2021-09-07 15:26:55+00:00</td>\n",
              "      <td>2021-10-02 15:45:46+00:00</td>\n",
              "      <td>2340.0</td>\n",
              "      <td>Nghi Son Refinery and Petrochemical LLC</td>\n",
              "      <td>29.75</td>\n",
              "      <td>WS</td>\n",
              "      <td>None</td>\n",
              "      <td>None</td>\n",
              "      <td>19</td>\n",
              "      <td>Crude Oil</td>\n",
              "      <td>130000.0</td>\n",
              "      <td>Dirty</td>\n",
              "      <td>MarketInfo</td>\n",
              "      <td>270000.0</td>\n",
              "      <td>2021-09-07 00:00:00+00:00</td>\n",
              "      <td>2021-09-08 23:59:59+00:00</td>\n",
              "      <td>1.0</td>\n",
              "      <td>FullyFixed</td>\n",
              "      <td>2021-08-19 18:07:36.710000+00:00</td>\n",
              "      <td>False</td>\n",
              "      <td>False</td>\n",
              "      <td>None</td>\n",
              "      <td>None</td>\n",
              "      <td>4649.35</td>\n",
              "      <td>None</td>\n",
              "      <td>4859.08</td>\n",
              "      <td>NaN</td>\n",
              "    </tr>\n",
              "    <tr>\n",
              "      <th>56</th>\n",
              "      <td>9292187</td>\n",
              "      <td>57</td>\n",
              "      <td>1</td>\n",
              "      <td>84</td>\n",
              "      <td>1</td>\n",
              "      <td>1684</td>\n",
              "      <td>False</td>\n",
              "      <td>(VoyageEvent(id='I8DC99BSED8E45200', port_id=1...</td>\n",
              "      <td>I8DC99BVED8E45200</td>\n",
              "      <td>Historic</td>\n",
              "      <td>NaT</td>\n",
              "      <td>Seaking</td>\n",
              "      <td>Tanker</td>\n",
              "      <td>VLCC</td>\n",
              "      <td>Crude</td>\n",
              "      <td>1</td>\n",
              "      <td>Voyage</td>\n",
              "      <td>Thenamaris</td>\n",
              "      <td>2021-10-02 15:45:46+00:00</td>\n",
              "      <td>2022-01-04 07:41:53+00:00</td>\n",
              "      <td>2022-01-28 19:55:03+00:00</td>\n",
              "      <td>529.0</td>\n",
              "      <td>ExxonMobil</td>\n",
              "      <td>42.50</td>\n",
              "      <td>WS</td>\n",
              "      <td>None</td>\n",
              "      <td>None</td>\n",
              "      <td>19</td>\n",
              "      <td>Crude Oil</td>\n",
              "      <td>130000.0</td>\n",
              "      <td>Dirty</td>\n",
              "      <td>MarketInfo</td>\n",
              "      <td>270000.0</td>\n",
              "      <td>2022-01-01 00:00:00+00:00</td>\n",
              "      <td>2022-01-03 00:00:00+00:00</td>\n",
              "      <td>1.0</td>\n",
              "      <td>FullyFixed</td>\n",
              "      <td>2021-12-20 13:46:13+00:00</td>\n",
              "      <td>False</td>\n",
              "      <td>False</td>\n",
              "      <td>None</td>\n",
              "      <td>None</td>\n",
              "      <td>9140.34</td>\n",
              "      <td>None</td>\n",
              "      <td>3653.72</td>\n",
              "      <td>NaN</td>\n",
              "    </tr>\n",
              "    <tr>\n",
              "      <th>57</th>\n",
              "      <td>9292187</td>\n",
              "      <td>58</td>\n",
              "      <td>1</td>\n",
              "      <td>84</td>\n",
              "      <td>1</td>\n",
              "      <td>1684</td>\n",
              "      <td>False</td>\n",
              "      <td>(VoyageEvent(id='I8DC99BSED9828600', port_id=3...</td>\n",
              "      <td>I8DC99BVED9828600</td>\n",
              "      <td>Current</td>\n",
              "      <td>2022-03-01 14:35:55+00:00</td>\n",
              "      <td>Seaking</td>\n",
              "      <td>Tanker</td>\n",
              "      <td>VLCC</td>\n",
              "      <td>Crude</td>\n",
              "      <td>1</td>\n",
              "      <td>Voyage</td>\n",
              "      <td>Thenamaris</td>\n",
              "      <td>2022-01-28 19:55:03+00:00</td>\n",
              "      <td>2022-02-12 23:57:01+00:00</td>\n",
              "      <td>2022-03-10 23:00:00+00:00</td>\n",
              "      <td>1482.0</td>\n",
              "      <td>Shell</td>\n",
              "      <td>NaN</td>\n",
              "      <td>None</td>\n",
              "      <td>None</td>\n",
              "      <td>None</td>\n",
              "      <td>19</td>\n",
              "      <td>Crude Oil</td>\n",
              "      <td>130000.0</td>\n",
              "      <td>Dirty</td>\n",
              "      <td>MarketInfo</td>\n",
              "      <td>270000.0</td>\n",
              "      <td>2022-02-14 00:00:00+00:00</td>\n",
              "      <td>2022-02-16 00:00:00+00:00</td>\n",
              "      <td>1.0</td>\n",
              "      <td>FullyFixed</td>\n",
              "      <td>2022-02-04 13:58:23+00:00</td>\n",
              "      <td>False</td>\n",
              "      <td>False</td>\n",
              "      <td>None</td>\n",
              "      <td>None</td>\n",
              "      <td>3705.03</td>\n",
              "      <td>None</td>\n",
              "      <td>3505.09</td>\n",
              "      <td>488.85</td>\n",
              "    </tr>\n",
              "  </tbody>\n",
              "</table>\n",
              "</div>\n",
              "      <button class=\"colab-df-convert\" onclick=\"convertToInteractive('df-a18545c0-effd-4be5-941e-81c71a67e833')\"\n",
              "              title=\"Convert this dataframe to an interactive table.\"\n",
              "              style=\"display:none;\">\n",
              "        \n",
              "  <svg xmlns=\"http://www.w3.org/2000/svg\" height=\"24px\"viewBox=\"0 0 24 24\"\n",
              "       width=\"24px\">\n",
              "    <path d=\"M0 0h24v24H0V0z\" fill=\"none\"/>\n",
              "    <path d=\"M18.56 5.44l.94 2.06.94-2.06 2.06-.94-2.06-.94-.94-2.06-.94 2.06-2.06.94zm-11 1L8.5 8.5l.94-2.06 2.06-.94-2.06-.94L8.5 2.5l-.94 2.06-2.06.94zm10 10l.94 2.06.94-2.06 2.06-.94-2.06-.94-.94-2.06-.94 2.06-2.06.94z\"/><path d=\"M17.41 7.96l-1.37-1.37c-.4-.4-.92-.59-1.43-.59-.52 0-1.04.2-1.43.59L10.3 9.45l-7.72 7.72c-.78.78-.78 2.05 0 2.83L4 21.41c.39.39.9.59 1.41.59.51 0 1.02-.2 1.41-.59l7.78-7.78 2.81-2.81c.8-.78.8-2.07 0-2.86zM5.41 20L4 18.59l7.72-7.72 1.47 1.35L5.41 20z\"/>\n",
              "  </svg>\n",
              "      </button>\n",
              "      \n",
              "  <style>\n",
              "    .colab-df-container {\n",
              "      display:flex;\n",
              "      flex-wrap:wrap;\n",
              "      gap: 12px;\n",
              "    }\n",
              "\n",
              "    .colab-df-convert {\n",
              "      background-color: #E8F0FE;\n",
              "      border: none;\n",
              "      border-radius: 50%;\n",
              "      cursor: pointer;\n",
              "      display: none;\n",
              "      fill: #1967D2;\n",
              "      height: 32px;\n",
              "      padding: 0 0 0 0;\n",
              "      width: 32px;\n",
              "    }\n",
              "\n",
              "    .colab-df-convert:hover {\n",
              "      background-color: #E2EBFA;\n",
              "      box-shadow: 0px 1px 2px rgba(60, 64, 67, 0.3), 0px 1px 3px 1px rgba(60, 64, 67, 0.15);\n",
              "      fill: #174EA6;\n",
              "    }\n",
              "\n",
              "    [theme=dark] .colab-df-convert {\n",
              "      background-color: #3B4455;\n",
              "      fill: #D2E3FC;\n",
              "    }\n",
              "\n",
              "    [theme=dark] .colab-df-convert:hover {\n",
              "      background-color: #434B5C;\n",
              "      box-shadow: 0px 1px 3px 1px rgba(0, 0, 0, 0.15);\n",
              "      filter: drop-shadow(0px 1px 2px rgba(0, 0, 0, 0.3));\n",
              "      fill: #FFFFFF;\n",
              "    }\n",
              "  </style>\n",
              "\n",
              "      <script>\n",
              "        const buttonEl =\n",
              "          document.querySelector('#df-a18545c0-effd-4be5-941e-81c71a67e833 button.colab-df-convert');\n",
              "        buttonEl.style.display =\n",
              "          google.colab.kernel.accessAllowed ? 'block' : 'none';\n",
              "\n",
              "        async function convertToInteractive(key) {\n",
              "          const element = document.querySelector('#df-a18545c0-effd-4be5-941e-81c71a67e833');\n",
              "          const dataTable =\n",
              "            await google.colab.kernel.invokeFunction('convertToInteractive',\n",
              "                                                     [key], {});\n",
              "          if (!dataTable) return;\n",
              "\n",
              "          const docLinkHtml = 'Like what you see? Visit the ' +\n",
              "            '<a target=\"_blank\" href=https://colab.research.google.com/notebooks/data_table.ipynb>data table notebook</a>'\n",
              "            + ' to learn more about interactive tables.';\n",
              "          element.innerHTML = '';\n",
              "          dataTable['output_type'] = 'display_data';\n",
              "          await google.colab.output.renderOutput(dataTable, element);\n",
              "          const docLink = document.createElement('div');\n",
              "          docLink.innerHTML = docLinkHtml;\n",
              "          element.appendChild(docLink);\n",
              "        }\n",
              "      </script>\n",
              "    </div>\n",
              "  </div>\n",
              "  "
            ],
            "text/plain": [
              "        imo  voyage_number  ...  laden_distance  predicted_laden_distance\n",
              "53  9292187             54  ...         3985.42                       NaN\n",
              "54  9292187             55  ...         4936.38                       NaN\n",
              "55  9292187             56  ...         4859.08                       NaN\n",
              "56  9292187             57  ...         3653.72                       NaN\n",
              "57  9292187             58  ...         3505.09                    488.85\n",
              "\n",
              "[5 rows x 46 columns]"
            ]
          },
          "metadata": {},
          "execution_count": 9
        }
      ],
      "source": [
        "vessel_voyages_df = pd.DataFrame([v.__dict__ for v in vessel_voyages])\n",
        "vessel_voyages_df.tail(5)"
      ]
    },
    {
      "cell_type": "code",
      "execution_count": null,
      "metadata": {
        "id": "MEjdHQ3cOyvW",
        "outputId": "0f167ab2-b1d4-4663-b994-ad1ac06485ea"
      },
      "outputs": [
        {
          "data": {
            "text/html": [
              "<div>\n",
              "<style scoped>\n",
              "    .dataframe tbody tr th:only-of-type {\n",
              "        vertical-align: middle;\n",
              "    }\n",
              "\n",
              "    .dataframe tbody tr th {\n",
              "        vertical-align: top;\n",
              "    }\n",
              "\n",
              "    .dataframe thead th {\n",
              "        text-align: right;\n",
              "    }\n",
              "</style>\n",
              "<table border=\"1\" class=\"dataframe\">\n",
              "  <thead>\n",
              "    <tr style=\"text-align: right;\">\n",
              "      <th></th>\n",
              "      <th>id</th>\n",
              "      <th>port_id</th>\n",
              "      <th>voyage_id</th>\n",
              "      <th>event_type</th>\n",
              "      <th>event_horizon</th>\n",
              "      <th>purpose</th>\n",
              "      <th>arrival_date</th>\n",
              "      <th>sailing_date</th>\n",
              "      <th>latitude</th>\n",
              "      <th>longitude</th>\n",
              "      <th>...</th>\n",
              "      <th>area_idlevel0</th>\n",
              "      <th>area_name_level0</th>\n",
              "      <th>area_idlevel1</th>\n",
              "      <th>area_name_level1</th>\n",
              "      <th>area_idlevel2</th>\n",
              "      <th>area_name_level2</th>\n",
              "      <th>area_idlevel3</th>\n",
              "      <th>area_name_level3</th>\n",
              "      <th>low_ais_density</th>\n",
              "      <th>event_details</th>\n",
              "    </tr>\n",
              "  </thead>\n",
              "  <tbody>\n",
              "    <tr>\n",
              "      <th>299</th>\n",
              "      <td>None</td>\n",
              "      <td>3532</td>\n",
              "      <td>None</td>\n",
              "      <td>PortCall</td>\n",
              "      <td>Historical</td>\n",
              "      <td>Discharge</td>\n",
              "      <td>2021-03-25 03:55:58+00:00</td>\n",
              "      <td>2021-03-26 23:59:41+00:00</td>\n",
              "      <td>22.5143</td>\n",
              "      <td>69.7044</td>\n",
              "      <td>...</td>\n",
              "      <td>24764</td>\n",
              "      <td>Pakistan / West Coast India</td>\n",
              "      <td>25012</td>\n",
              "      <td>India / Pakistan</td>\n",
              "      <td>25023</td>\n",
              "      <td>India / Pakistan</td>\n",
              "      <td>84</td>\n",
              "      <td>East</td>\n",
              "      <td>None</td>\n",
              "      <td>(VoyageEventDetail(id=None, event_id=None, eve...</td>\n",
              "    </tr>\n",
              "    <tr>\n",
              "      <th>300</th>\n",
              "      <td>None</td>\n",
              "      <td>3532</td>\n",
              "      <td>None</td>\n",
              "      <td>VoyageStart</td>\n",
              "      <td>Historical</td>\n",
              "      <td>Start</td>\n",
              "      <td>NaT</td>\n",
              "      <td>NaT</td>\n",
              "      <td>22.5143</td>\n",
              "      <td>69.7044</td>\n",
              "      <td>...</td>\n",
              "      <td>24764</td>\n",
              "      <td>Pakistan / West Coast India</td>\n",
              "      <td>25012</td>\n",
              "      <td>India / Pakistan</td>\n",
              "      <td>25023</td>\n",
              "      <td>India / Pakistan</td>\n",
              "      <td>84</td>\n",
              "      <td>East</td>\n",
              "      <td>None</td>\n",
              "      <td>None</td>\n",
              "    </tr>\n",
              "    <tr>\n",
              "      <th>301</th>\n",
              "      <td>None</td>\n",
              "      <td>3711</td>\n",
              "      <td>None</td>\n",
              "      <td>Stop</td>\n",
              "      <td>Historical</td>\n",
              "      <td>Stop</td>\n",
              "      <td>2021-03-29 19:59:51+00:00</td>\n",
              "      <td>2021-03-30 04:58:00+00:00</td>\n",
              "      <td>24.9521</td>\n",
              "      <td>58.6659</td>\n",
              "      <td>...</td>\n",
              "      <td>24777</td>\n",
              "      <td>Arabian Gulf</td>\n",
              "      <td>2</td>\n",
              "      <td>Arabian Gulf</td>\n",
              "      <td>89</td>\n",
              "      <td>Arabian Gulf</td>\n",
              "      <td>84</td>\n",
              "      <td>East</td>\n",
              "      <td>None</td>\n",
              "      <td>(VoyageEventDetail(id=None, event_id=None, eve...</td>\n",
              "    </tr>\n",
              "    <tr>\n",
              "      <th>302</th>\n",
              "      <td>None</td>\n",
              "      <td>3778</td>\n",
              "      <td>None</td>\n",
              "      <td>PortCall</td>\n",
              "      <td>Future</td>\n",
              "      <td>Load</td>\n",
              "      <td>2021-04-03 15:46:02.040000+00:00</td>\n",
              "      <td>2021-04-08 00:00:00+00:00</td>\n",
              "      <td>26.7658</td>\n",
              "      <td>50.1478</td>\n",
              "      <td>...</td>\n",
              "      <td>24777</td>\n",
              "      <td>Arabian Gulf</td>\n",
              "      <td>2</td>\n",
              "      <td>Arabian Gulf</td>\n",
              "      <td>89</td>\n",
              "      <td>Arabian Gulf</td>\n",
              "      <td>84</td>\n",
              "      <td>East</td>\n",
              "      <td>True</td>\n",
              "      <td>None</td>\n",
              "    </tr>\n",
              "    <tr>\n",
              "      <th>303</th>\n",
              "      <td>None</td>\n",
              "      <td>3823</td>\n",
              "      <td>None</td>\n",
              "      <td>PortCall</td>\n",
              "      <td>Future</td>\n",
              "      <td>Discharge</td>\n",
              "      <td>2021-04-26 15:41:50.200000+00:00</td>\n",
              "      <td>2021-04-28 16:22:09.956000+00:00</td>\n",
              "      <td>23.7871</td>\n",
              "      <td>120.1687</td>\n",
              "      <td>...</td>\n",
              "      <td>24729</td>\n",
              "      <td>Taiwan</td>\n",
              "      <td>17</td>\n",
              "      <td>China / Taiwan</td>\n",
              "      <td>99</td>\n",
              "      <td>Far East</td>\n",
              "      <td>84</td>\n",
              "      <td>East</td>\n",
              "      <td>True</td>\n",
              "      <td>None</td>\n",
              "    </tr>\n",
              "  </tbody>\n",
              "</table>\n",
              "<p>5 rows × 25 columns</p>\n",
              "</div>"
            ],
            "text/plain": [
              "       id  port_id voyage_id   event_type event_horizon    purpose  \\\n",
              "299  None     3532      None     PortCall    Historical  Discharge   \n",
              "300  None     3532      None  VoyageStart    Historical      Start   \n",
              "301  None     3711      None         Stop    Historical       Stop   \n",
              "302  None     3778      None     PortCall        Future       Load   \n",
              "303  None     3823      None     PortCall        Future  Discharge   \n",
              "\n",
              "                        arrival_date                     sailing_date  \\\n",
              "299        2021-03-25 03:55:58+00:00        2021-03-26 23:59:41+00:00   \n",
              "300                              NaT                              NaT   \n",
              "301        2021-03-29 19:59:51+00:00        2021-03-30 04:58:00+00:00   \n",
              "302 2021-04-03 15:46:02.040000+00:00        2021-04-08 00:00:00+00:00   \n",
              "303 2021-04-26 15:41:50.200000+00:00 2021-04-28 16:22:09.956000+00:00   \n",
              "\n",
              "     latitude  longitude  ...  area_idlevel0             area_name_level0  \\\n",
              "299   22.5143    69.7044  ...          24764  Pakistan / West Coast India   \n",
              "300   22.5143    69.7044  ...          24764  Pakistan / West Coast India   \n",
              "301   24.9521    58.6659  ...          24777                 Arabian Gulf   \n",
              "302   26.7658    50.1478  ...          24777                 Arabian Gulf   \n",
              "303   23.7871   120.1687  ...          24729                       Taiwan   \n",
              "\n",
              "    area_idlevel1  area_name_level1 area_idlevel2  area_name_level2  \\\n",
              "299         25012  India / Pakistan         25023  India / Pakistan   \n",
              "300         25012  India / Pakistan         25023  India / Pakistan   \n",
              "301             2      Arabian Gulf            89      Arabian Gulf   \n",
              "302             2      Arabian Gulf            89      Arabian Gulf   \n",
              "303            17    China / Taiwan            99          Far East   \n",
              "\n",
              "    area_idlevel3  area_name_level3 low_ais_density  \\\n",
              "299            84              East            None   \n",
              "300            84              East            None   \n",
              "301            84              East            None   \n",
              "302            84              East            True   \n",
              "303            84              East            True   \n",
              "\n",
              "                                         event_details  \n",
              "299  (VoyageEventDetail(id=None, event_id=None, eve...  \n",
              "300                                               None  \n",
              "301  (VoyageEventDetail(id=None, event_id=None, eve...  \n",
              "302                                               None  \n",
              "303                                               None  \n",
              "\n",
              "[5 rows x 25 columns]"
            ]
          },
          "execution_count": 6,
          "metadata": {},
          "output_type": "execute_result"
        }
      ],
      "source": [
        "vessel_events_df = pd.DataFrame(e.__dict__ for voyage_events in vessel_voyages_df['events'] for e in voyage_events)\n",
        "vessel_events_df.tail(5)"
      ]
    },
    {
      "cell_type": "code",
      "execution_count": null,
      "metadata": {
        "id": "FBsyOee5OyvW",
        "outputId": "438d0aea-53f4-4817-cc36-43e9ec82b142"
      },
      "outputs": [
        {
          "data": {
            "text/html": [
              "<div>\n",
              "<style scoped>\n",
              "    .dataframe tbody tr th:only-of-type {\n",
              "        vertical-align: middle;\n",
              "    }\n",
              "\n",
              "    .dataframe tbody tr th {\n",
              "        vertical-align: top;\n",
              "    }\n",
              "\n",
              "    .dataframe thead th {\n",
              "        text-align: right;\n",
              "    }\n",
              "</style>\n",
              "<table border=\"1\" class=\"dataframe\">\n",
              "  <thead>\n",
              "    <tr style=\"text-align: right;\">\n",
              "      <th></th>\n",
              "      <th>id</th>\n",
              "      <th>event_id</th>\n",
              "      <th>event_detail_type</th>\n",
              "      <th>arrival_date</th>\n",
              "      <th>sailing_date</th>\n",
              "      <th>start_time_of_operation</th>\n",
              "      <th>end_time_of_operation</th>\n",
              "      <th>geo_asset_id</th>\n",
              "      <th>geo_asset_name</th>\n",
              "      <th>latitude</th>\n",
              "      <th>longitude</th>\n",
              "      <th>other_vessel_imo</th>\n",
              "      <th>other_vessel_name</th>\n",
              "    </tr>\n",
              "  </thead>\n",
              "  <tbody>\n",
              "    <tr>\n",
              "      <th>271</th>\n",
              "      <td>None</td>\n",
              "      <td>None</td>\n",
              "      <td>Jetty</td>\n",
              "      <td>2021-02-03 07:55:41+00:00</td>\n",
              "      <td>2021-02-04 23:39:34+00:00</td>\n",
              "      <td>2021-02-03 10:57:50+00:00</td>\n",
              "      <td>2021-02-03 12:15:52+00:00</td>\n",
              "      <td>4369</td>\n",
              "      <td>FPSO Akpo</td>\n",
              "      <td>3.160565</td>\n",
              "      <td>6.831695</td>\n",
              "      <td>NaN</td>\n",
              "      <td>None</td>\n",
              "    </tr>\n",
              "    <tr>\n",
              "      <th>272</th>\n",
              "      <td>None</td>\n",
              "      <td>None</td>\n",
              "      <td>Stop</td>\n",
              "      <td>2021-02-06 11:35:06+00:00</td>\n",
              "      <td>2021-02-08 10:46:06+00:00</td>\n",
              "      <td>NaT</td>\n",
              "      <td>NaT</td>\n",
              "      <td>4062</td>\n",
              "      <td>Port Gentil Anchorage</td>\n",
              "      <td>-0.996812</td>\n",
              "      <td>7.547887</td>\n",
              "      <td>NaN</td>\n",
              "      <td>None</td>\n",
              "    </tr>\n",
              "    <tr>\n",
              "      <th>273</th>\n",
              "      <td>None</td>\n",
              "      <td>None</td>\n",
              "      <td>Jetty</td>\n",
              "      <td>2021-02-09 09:05:48+00:00</td>\n",
              "      <td>2021-02-28 23:06:13.400000+00:00</td>\n",
              "      <td>2021-02-26 15:27:11+00:00</td>\n",
              "      <td>2021-02-26 15:27:11+00:00</td>\n",
              "      <td>5352</td>\n",
              "      <td>Bonny Offshore Terminal</td>\n",
              "      <td>4.170430</td>\n",
              "      <td>7.218700</td>\n",
              "      <td>NaN</td>\n",
              "      <td>None</td>\n",
              "    </tr>\n",
              "    <tr>\n",
              "      <th>274</th>\n",
              "      <td>None</td>\n",
              "      <td>None</td>\n",
              "      <td>Jetty</td>\n",
              "      <td>2021-03-25 03:55:58+00:00</td>\n",
              "      <td>2021-03-26 23:59:41+00:00</td>\n",
              "      <td>2021-03-25 03:55:58+00:00</td>\n",
              "      <td>2021-03-26 23:59:41+00:00</td>\n",
              "      <td>5112</td>\n",
              "      <td>Essar Vadinar Refinery</td>\n",
              "      <td>22.514310</td>\n",
              "      <td>69.704380</td>\n",
              "      <td>NaN</td>\n",
              "      <td>None</td>\n",
              "    </tr>\n",
              "    <tr>\n",
              "      <th>275</th>\n",
              "      <td>None</td>\n",
              "      <td>None</td>\n",
              "      <td>Stop</td>\n",
              "      <td>2021-03-29 19:59:51+00:00</td>\n",
              "      <td>2021-03-30 04:58:00+00:00</td>\n",
              "      <td>NaT</td>\n",
              "      <td>NaT</td>\n",
              "      <td>5101</td>\n",
              "      <td>Mina Al Fahal Refinery</td>\n",
              "      <td>24.952147</td>\n",
              "      <td>58.665850</td>\n",
              "      <td>NaN</td>\n",
              "      <td>None</td>\n",
              "    </tr>\n",
              "  </tbody>\n",
              "</table>\n",
              "</div>"
            ],
            "text/plain": [
              "       id event_id event_detail_type              arrival_date  \\\n",
              "271  None     None             Jetty 2021-02-03 07:55:41+00:00   \n",
              "272  None     None              Stop 2021-02-06 11:35:06+00:00   \n",
              "273  None     None             Jetty 2021-02-09 09:05:48+00:00   \n",
              "274  None     None             Jetty 2021-03-25 03:55:58+00:00   \n",
              "275  None     None              Stop 2021-03-29 19:59:51+00:00   \n",
              "\n",
              "                        sailing_date   start_time_of_operation  \\\n",
              "271        2021-02-04 23:39:34+00:00 2021-02-03 10:57:50+00:00   \n",
              "272        2021-02-08 10:46:06+00:00                       NaT   \n",
              "273 2021-02-28 23:06:13.400000+00:00 2021-02-26 15:27:11+00:00   \n",
              "274        2021-03-26 23:59:41+00:00 2021-03-25 03:55:58+00:00   \n",
              "275        2021-03-30 04:58:00+00:00                       NaT   \n",
              "\n",
              "        end_time_of_operation  geo_asset_id           geo_asset_name  \\\n",
              "271 2021-02-03 12:15:52+00:00          4369                FPSO Akpo   \n",
              "272                       NaT          4062    Port Gentil Anchorage   \n",
              "273 2021-02-26 15:27:11+00:00          5352  Bonny Offshore Terminal   \n",
              "274 2021-03-26 23:59:41+00:00          5112   Essar Vadinar Refinery   \n",
              "275                       NaT          5101   Mina Al Fahal Refinery   \n",
              "\n",
              "      latitude  longitude  other_vessel_imo other_vessel_name  \n",
              "271   3.160565   6.831695               NaN              None  \n",
              "272  -0.996812   7.547887               NaN              None  \n",
              "273   4.170430   7.218700               NaN              None  \n",
              "274  22.514310  69.704380               NaN              None  \n",
              "275  24.952147  58.665850               NaN              None  "
            ]
          },
          "execution_count": 7,
          "metadata": {},
          "output_type": "execute_result"
        }
      ],
      "source": [
        "vessel_event_details_df = pd.DataFrame(e.__dict__ for event_details in vessel_events_df['event_details'] for e in event_details or [])\n",
        "vessel_event_details_df.tail(5)"
      ]
    },
    {
      "cell_type": "markdown",
      "metadata": {
        "id": "PZA3IrDHOyvY"
      },
      "source": [
        "### Get voyages for vessel class"
      ]
    },
    {
      "cell_type": "code",
      "source": [
        "#get vessel class id for vlcc\n",
        "vc = api.get_vessel_classes(VesselClassFilter('vlcc'))[0]\n",
        "vlcc_id = vc.vessel_class_id\n",
        "vlcc_id"
      ],
      "metadata": {
        "colab": {
          "base_uri": "https://localhost:8080/"
        },
        "id": "anZJAWDBQwt4",
        "outputId": "b5f4bbb2-edeb-478b-f250-9b3ee2339275"
      },
      "execution_count": 10,
      "outputs": [
        {
          "output_type": "execute_result",
          "data": {
            "text/plain": [
              "84"
            ]
          },
          "metadata": {},
          "execution_count": 10
        }
      ]
    },
    {
      "cell_type": "code",
      "execution_count": null,
      "metadata": {
        "id": "U6U3qvJyOyvY"
      },
      "outputs": [],
      "source": [
        "date_from = date.today() - timedelta(days=30)\n",
        "recent_vlcc_voyages = api.get_voyages(vessel_class_id=vlcc_id, date_from=date_from)"
      ]
    },
    {
      "cell_type": "code",
      "execution_count": null,
      "metadata": {
        "scrolled": true,
        "id": "YDI7YTy9OyvZ",
        "outputId": "d6923ce4-a1e3-40ae-e71a-5cde311247a5"
      },
      "outputs": [
        {
          "data": {
            "text/html": [
              "<div>\n",
              "<style scoped>\n",
              "    .dataframe tbody tr th:only-of-type {\n",
              "        vertical-align: middle;\n",
              "    }\n",
              "\n",
              "    .dataframe tbody tr th {\n",
              "        vertical-align: top;\n",
              "    }\n",
              "\n",
              "    .dataframe thead th {\n",
              "        text-align: right;\n",
              "    }\n",
              "</style>\n",
              "<table border=\"1\" class=\"dataframe\">\n",
              "  <thead>\n",
              "    <tr style=\"text-align: right;\">\n",
              "      <th></th>\n",
              "      <th>imo</th>\n",
              "      <th>voyage_number</th>\n",
              "      <th>vessel_type_id</th>\n",
              "      <th>vessel_class_id</th>\n",
              "      <th>vessel_status_id</th>\n",
              "      <th>commercial_operator_id</th>\n",
              "      <th>deleted</th>\n",
              "      <th>events</th>\n",
              "      <th>id</th>\n",
              "      <th>vessel_name</th>\n",
              "      <th>...</th>\n",
              "      <th>cargo_group</th>\n",
              "      <th>cargo_type_source</th>\n",
              "      <th>quantity</th>\n",
              "      <th>laycan_from</th>\n",
              "      <th>laycan_to</th>\n",
              "      <th>fixture_status_id</th>\n",
              "      <th>fixture_status</th>\n",
              "      <th>fixture_date</th>\n",
              "      <th>fixture_is_coa</th>\n",
              "      <th>fixture_is_hold</th>\n",
              "    </tr>\n",
              "  </thead>\n",
              "  <tbody>\n",
              "    <tr>\n",
              "      <th>188</th>\n",
              "      <td>9878656</td>\n",
              "      <td>4</td>\n",
              "      <td>1</td>\n",
              "      <td>84</td>\n",
              "      <td>1</td>\n",
              "      <td>-1</td>\n",
              "      <td>False</td>\n",
              "      <td>(VoyageEvent(id=None, port_id=3596, voyage_id=...</td>\n",
              "      <td>9878656.4</td>\n",
              "      <td>Shoho Maru</td>\n",
              "      <td>...</td>\n",
              "      <td>Dirty</td>\n",
              "      <td>Estimated</td>\n",
              "      <td>NaN</td>\n",
              "      <td>NaT</td>\n",
              "      <td>NaT</td>\n",
              "      <td>NaN</td>\n",
              "      <td>None</td>\n",
              "      <td>NaT</td>\n",
              "      <td>None</td>\n",
              "      <td>None</td>\n",
              "    </tr>\n",
              "    <tr>\n",
              "      <th>189</th>\n",
              "      <td>9878826</td>\n",
              "      <td>4</td>\n",
              "      <td>1</td>\n",
              "      <td>84</td>\n",
              "      <td>1</td>\n",
              "      <td>1713</td>\n",
              "      <td>False</td>\n",
              "      <td>(VoyageEvent(id=None, port_id=3801, voyage_id=...</td>\n",
              "      <td>9878826.4</td>\n",
              "      <td>Babylon</td>\n",
              "      <td>...</td>\n",
              "      <td>Dirty</td>\n",
              "      <td>Estimated</td>\n",
              "      <td>NaN</td>\n",
              "      <td>NaT</td>\n",
              "      <td>NaT</td>\n",
              "      <td>NaN</td>\n",
              "      <td>None</td>\n",
              "      <td>NaT</td>\n",
              "      <td>None</td>\n",
              "      <td>None</td>\n",
              "    </tr>\n",
              "    <tr>\n",
              "      <th>190</th>\n",
              "      <td>9878826</td>\n",
              "      <td>5</td>\n",
              "      <td>1</td>\n",
              "      <td>84</td>\n",
              "      <td>1</td>\n",
              "      <td>1713</td>\n",
              "      <td>False</td>\n",
              "      <td>(VoyageEvent(id=None, port_id=3801, voyage_id=...</td>\n",
              "      <td>9878826.5</td>\n",
              "      <td>Babylon</td>\n",
              "      <td>...</td>\n",
              "      <td>Dirty</td>\n",
              "      <td>Estimated</td>\n",
              "      <td>NaN</td>\n",
              "      <td>NaT</td>\n",
              "      <td>NaT</td>\n",
              "      <td>NaN</td>\n",
              "      <td>None</td>\n",
              "      <td>NaT</td>\n",
              "      <td>None</td>\n",
              "      <td>None</td>\n",
              "    </tr>\n",
              "    <tr>\n",
              "      <th>191</th>\n",
              "      <td>9878838</td>\n",
              "      <td>5</td>\n",
              "      <td>1</td>\n",
              "      <td>84</td>\n",
              "      <td>1</td>\n",
              "      <td>1713</td>\n",
              "      <td>False</td>\n",
              "      <td>(VoyageEvent(id=None, port_id=3801, voyage_id=...</td>\n",
              "      <td>9878838.5</td>\n",
              "      <td>Silverstone St</td>\n",
              "      <td>...</td>\n",
              "      <td>Dirty</td>\n",
              "      <td>Estimated</td>\n",
              "      <td>NaN</td>\n",
              "      <td>NaT</td>\n",
              "      <td>NaT</td>\n",
              "      <td>NaN</td>\n",
              "      <td>None</td>\n",
              "      <td>NaT</td>\n",
              "      <td>None</td>\n",
              "      <td>None</td>\n",
              "    </tr>\n",
              "    <tr>\n",
              "      <th>192</th>\n",
              "      <td>9878838</td>\n",
              "      <td>6</td>\n",
              "      <td>1</td>\n",
              "      <td>84</td>\n",
              "      <td>1</td>\n",
              "      <td>1713</td>\n",
              "      <td>False</td>\n",
              "      <td>(VoyageEvent(id=None, port_id=3801, voyage_id=...</td>\n",
              "      <td>9878838.6</td>\n",
              "      <td>Silverstone St</td>\n",
              "      <td>...</td>\n",
              "      <td>Dirty</td>\n",
              "      <td>Estimated</td>\n",
              "      <td>NaN</td>\n",
              "      <td>NaT</td>\n",
              "      <td>NaT</td>\n",
              "      <td>NaN</td>\n",
              "      <td>None</td>\n",
              "      <td>NaT</td>\n",
              "      <td>None</td>\n",
              "      <td>None</td>\n",
              "    </tr>\n",
              "  </tbody>\n",
              "</table>\n",
              "<p>5 rows × 37 columns</p>\n",
              "</div>"
            ],
            "text/plain": [
              "         imo  voyage_number  vessel_type_id  vessel_class_id  \\\n",
              "188  9878656              4               1               84   \n",
              "189  9878826              4               1               84   \n",
              "190  9878826              5               1               84   \n",
              "191  9878838              5               1               84   \n",
              "192  9878838              6               1               84   \n",
              "\n",
              "     vessel_status_id  commercial_operator_id  deleted  \\\n",
              "188                 1                      -1    False   \n",
              "189                 1                    1713    False   \n",
              "190                 1                    1713    False   \n",
              "191                 1                    1713    False   \n",
              "192                 1                    1713    False   \n",
              "\n",
              "                                                events         id  \\\n",
              "188  (VoyageEvent(id=None, port_id=3596, voyage_id=...  9878656.4   \n",
              "189  (VoyageEvent(id=None, port_id=3801, voyage_id=...  9878826.4   \n",
              "190  (VoyageEvent(id=None, port_id=3801, voyage_id=...  9878826.5   \n",
              "191  (VoyageEvent(id=None, port_id=3801, voyage_id=...  9878838.5   \n",
              "192  (VoyageEvent(id=None, port_id=3801, voyage_id=...  9878838.6   \n",
              "\n",
              "        vessel_name  ... cargo_group cargo_type_source quantity  laycan_from  \\\n",
              "188      Shoho Maru  ...       Dirty         Estimated      NaN          NaT   \n",
              "189         Babylon  ...       Dirty         Estimated      NaN          NaT   \n",
              "190         Babylon  ...       Dirty         Estimated      NaN          NaT   \n",
              "191  Silverstone St  ...       Dirty         Estimated      NaN          NaT   \n",
              "192  Silverstone St  ...       Dirty         Estimated      NaN          NaT   \n",
              "\n",
              "    laycan_to fixture_status_id fixture_status fixture_date  fixture_is_coa  \\\n",
              "188       NaT               NaN           None          NaT            None   \n",
              "189       NaT               NaN           None          NaT            None   \n",
              "190       NaT               NaN           None          NaT            None   \n",
              "191       NaT               NaN           None          NaT            None   \n",
              "192       NaT               NaN           None          NaT            None   \n",
              "\n",
              "    fixture_is_hold  \n",
              "188            None  \n",
              "189            None  \n",
              "190            None  \n",
              "191            None  \n",
              "192            None  \n",
              "\n",
              "[5 rows x 37 columns]"
            ]
          },
          "execution_count": 9,
          "metadata": {},
          "output_type": "execute_result"
        }
      ],
      "source": [
        "recent_vlcc_voyages = pd.DataFrame([v.__dict__ for v in recent_vlcc_voyages])\n",
        "recent_vlcc_voyages.tail(5)"
      ]
    },
    {
      "cell_type": "markdown",
      "metadata": {
        "id": "Lf8nvgtXOyvZ"
      },
      "source": [
        "### Get voyages for vessel in flat format"
      ]
    },
    {
      "cell_type": "code",
      "source": [
        "# get the imo by using the vessel name\n",
        "vessel = api.get_imos(VesselFilter('Seaking'))[0]\n",
        "vessel"
      ],
      "metadata": {
        "colab": {
          "base_uri": "https://localhost:8080/"
        },
        "id": "wOvAcRnrRWTK",
        "outputId": "15308ea2-4d85-4b1e-85ed-d22104ba4e7f"
      },
      "execution_count": 11,
      "outputs": [
        {
          "output_type": "execute_result",
          "data": {
            "text/plain": [
              "Vessel(imo=9292187, vessel_name='Seaking')"
            ]
          },
          "metadata": {},
          "execution_count": 11
        }
      ]
    },
    {
      "cell_type": "code",
      "execution_count": 12,
      "metadata": {
        "id": "5GL354yQOyvZ"
      },
      "outputs": [],
      "source": [
        "vessel_voyages_flat = api.get_voyages_flat(imo=vessel.imo)"
      ]
    },
    {
      "cell_type": "code",
      "execution_count": null,
      "metadata": {
        "id": "eomp96KPOyva",
        "outputId": "ceb37f6c-c28a-4253-b3c4-9ff06a4244d9"
      },
      "outputs": [
        {
          "data": {
            "text/html": [
              "<div>\n",
              "<style scoped>\n",
              "    .dataframe tbody tr th:only-of-type {\n",
              "        vertical-align: middle;\n",
              "    }\n",
              "\n",
              "    .dataframe tbody tr th {\n",
              "        vertical-align: top;\n",
              "    }\n",
              "\n",
              "    .dataframe thead th {\n",
              "        text-align: right;\n",
              "    }\n",
              "</style>\n",
              "<table border=\"1\" class=\"dataframe\">\n",
              "  <thead>\n",
              "    <tr style=\"text-align: right;\">\n",
              "      <th></th>\n",
              "      <th>imo</th>\n",
              "      <th>voyage_number</th>\n",
              "      <th>vessel_type_id</th>\n",
              "      <th>vessel_class_id</th>\n",
              "      <th>vessel_status_id</th>\n",
              "      <th>commercial_operator_id</th>\n",
              "      <th>deleted</th>\n",
              "      <th>events</th>\n",
              "      <th>id</th>\n",
              "      <th>vessel_name</th>\n",
              "      <th>...</th>\n",
              "      <th>cargo_group</th>\n",
              "      <th>cargo_type_source</th>\n",
              "      <th>quantity</th>\n",
              "      <th>laycan_from</th>\n",
              "      <th>laycan_to</th>\n",
              "      <th>fixture_status_id</th>\n",
              "      <th>fixture_status</th>\n",
              "      <th>fixture_date</th>\n",
              "      <th>fixture_is_coa</th>\n",
              "      <th>fixture_is_hold</th>\n",
              "    </tr>\n",
              "  </thead>\n",
              "  <tbody>\n",
              "    <tr>\n",
              "      <th>48</th>\n",
              "      <td>9292187</td>\n",
              "      <td>49</td>\n",
              "      <td>1</td>\n",
              "      <td>84</td>\n",
              "      <td>1</td>\n",
              "      <td>1684</td>\n",
              "      <td>False</td>\n",
              "      <td>None</td>\n",
              "      <td>9292187.49</td>\n",
              "      <td>Seaking</td>\n",
              "      <td>...</td>\n",
              "      <td>Dirty</td>\n",
              "      <td>Estimated</td>\n",
              "      <td>NaN</td>\n",
              "      <td>2020-04-25 03:47:05+00:00</td>\n",
              "      <td>2020-04-26 03:47:05+00:00</td>\n",
              "      <td>1.0</td>\n",
              "      <td>FullyFixed</td>\n",
              "      <td>2020-03-19 03:42:23+00:00</td>\n",
              "      <td>False</td>\n",
              "      <td>False</td>\n",
              "    </tr>\n",
              "    <tr>\n",
              "      <th>49</th>\n",
              "      <td>9292187</td>\n",
              "      <td>50</td>\n",
              "      <td>1</td>\n",
              "      <td>84</td>\n",
              "      <td>1</td>\n",
              "      <td>1713</td>\n",
              "      <td>False</td>\n",
              "      <td>None</td>\n",
              "      <td>9292187.50</td>\n",
              "      <td>Seaking</td>\n",
              "      <td>...</td>\n",
              "      <td>Dirty</td>\n",
              "      <td>Estimated</td>\n",
              "      <td>NaN</td>\n",
              "      <td>2020-06-01 03:57:15+00:00</td>\n",
              "      <td>2020-06-02 03:57:15+00:00</td>\n",
              "      <td>1.0</td>\n",
              "      <td>FullyFixed</td>\n",
              "      <td>2020-05-26 17:49:57+00:00</td>\n",
              "      <td>True</td>\n",
              "      <td>True</td>\n",
              "    </tr>\n",
              "    <tr>\n",
              "      <th>50</th>\n",
              "      <td>9292187</td>\n",
              "      <td>51</td>\n",
              "      <td>1</td>\n",
              "      <td>84</td>\n",
              "      <td>1</td>\n",
              "      <td>1713</td>\n",
              "      <td>False</td>\n",
              "      <td>None</td>\n",
              "      <td>9292187.51</td>\n",
              "      <td>Seaking</td>\n",
              "      <td>...</td>\n",
              "      <td>Dirty</td>\n",
              "      <td>MarketInfo</td>\n",
              "      <td>270000.0</td>\n",
              "      <td>2020-10-16 00:00:00+00:00</td>\n",
              "      <td>2020-10-18 23:59:00+00:00</td>\n",
              "      <td>1.0</td>\n",
              "      <td>FullyFixed</td>\n",
              "      <td>2020-10-07 13:08:52+00:00</td>\n",
              "      <td>True</td>\n",
              "      <td>False</td>\n",
              "    </tr>\n",
              "    <tr>\n",
              "      <th>51</th>\n",
              "      <td>9292187</td>\n",
              "      <td>52</td>\n",
              "      <td>1</td>\n",
              "      <td>84</td>\n",
              "      <td>1</td>\n",
              "      <td>1713</td>\n",
              "      <td>False</td>\n",
              "      <td>None</td>\n",
              "      <td>9292187.52</td>\n",
              "      <td>Seaking</td>\n",
              "      <td>...</td>\n",
              "      <td>Dirty</td>\n",
              "      <td>MarketInfo</td>\n",
              "      <td>260000.0</td>\n",
              "      <td>2021-02-02 00:00:00+00:00</td>\n",
              "      <td>2021-02-02 00:00:00+00:00</td>\n",
              "      <td>1.0</td>\n",
              "      <td>FullyFixed</td>\n",
              "      <td>2021-01-12 13:45:27.563000+00:00</td>\n",
              "      <td>False</td>\n",
              "      <td>False</td>\n",
              "    </tr>\n",
              "    <tr>\n",
              "      <th>52</th>\n",
              "      <td>9292187</td>\n",
              "      <td>53</td>\n",
              "      <td>1</td>\n",
              "      <td>84</td>\n",
              "      <td>1</td>\n",
              "      <td>1713</td>\n",
              "      <td>False</td>\n",
              "      <td>None</td>\n",
              "      <td>9292187.53</td>\n",
              "      <td>Seaking</td>\n",
              "      <td>...</td>\n",
              "      <td>Dirty</td>\n",
              "      <td>MarketInfo</td>\n",
              "      <td>270000.0</td>\n",
              "      <td>2021-04-08 00:00:00+00:00</td>\n",
              "      <td>2021-04-08 00:00:00+00:00</td>\n",
              "      <td>1.0</td>\n",
              "      <td>FullyFixed</td>\n",
              "      <td>2021-03-23 12:57:56+00:00</td>\n",
              "      <td>False</td>\n",
              "      <td>False</td>\n",
              "    </tr>\n",
              "  </tbody>\n",
              "</table>\n",
              "<p>5 rows × 37 columns</p>\n",
              "</div>"
            ],
            "text/plain": [
              "        imo  voyage_number  vessel_type_id  vessel_class_id  vessel_status_id  \\\n",
              "48  9292187             49               1               84                 1   \n",
              "49  9292187             50               1               84                 1   \n",
              "50  9292187             51               1               84                 1   \n",
              "51  9292187             52               1               84                 1   \n",
              "52  9292187             53               1               84                 1   \n",
              "\n",
              "    commercial_operator_id  deleted events          id vessel_name  ...  \\\n",
              "48                    1684    False   None  9292187.49     Seaking  ...   \n",
              "49                    1713    False   None  9292187.50     Seaking  ...   \n",
              "50                    1713    False   None  9292187.51     Seaking  ...   \n",
              "51                    1713    False   None  9292187.52     Seaking  ...   \n",
              "52                    1713    False   None  9292187.53     Seaking  ...   \n",
              "\n",
              "   cargo_group cargo_type_source  quantity               laycan_from  \\\n",
              "48       Dirty         Estimated       NaN 2020-04-25 03:47:05+00:00   \n",
              "49       Dirty         Estimated       NaN 2020-06-01 03:57:15+00:00   \n",
              "50       Dirty        MarketInfo  270000.0 2020-10-16 00:00:00+00:00   \n",
              "51       Dirty        MarketInfo  260000.0 2021-02-02 00:00:00+00:00   \n",
              "52       Dirty        MarketInfo  270000.0 2021-04-08 00:00:00+00:00   \n",
              "\n",
              "                   laycan_to fixture_status_id fixture_status  \\\n",
              "48 2020-04-26 03:47:05+00:00               1.0     FullyFixed   \n",
              "49 2020-06-02 03:57:15+00:00               1.0     FullyFixed   \n",
              "50 2020-10-18 23:59:00+00:00               1.0     FullyFixed   \n",
              "51 2021-02-02 00:00:00+00:00               1.0     FullyFixed   \n",
              "52 2021-04-08 00:00:00+00:00               1.0     FullyFixed   \n",
              "\n",
              "                       fixture_date  fixture_is_coa fixture_is_hold  \n",
              "48        2020-03-19 03:42:23+00:00           False           False  \n",
              "49        2020-05-26 17:49:57+00:00            True            True  \n",
              "50        2020-10-07 13:08:52+00:00            True           False  \n",
              "51 2021-01-12 13:45:27.563000+00:00           False           False  \n",
              "52        2021-03-23 12:57:56+00:00           False           False  \n",
              "\n",
              "[5 rows x 37 columns]"
            ]
          },
          "execution_count": 11,
          "metadata": {},
          "output_type": "execute_result"
        }
      ],
      "source": [
        "vessel_voyages_df = pd.DataFrame(v.__dict__ for v in vessel_voyages_flat.voyages)\n",
        "vessel_voyages_df.tail(5)"
      ]
    },
    {
      "cell_type": "code",
      "execution_count": null,
      "metadata": {
        "id": "ztvF1PRTOyva",
        "outputId": "878ee026-13ab-4fd6-93ec-df2aab28618d"
      },
      "outputs": [
        {
          "data": {
            "text/html": [
              "<div>\n",
              "<style scoped>\n",
              "    .dataframe tbody tr th:only-of-type {\n",
              "        vertical-align: middle;\n",
              "    }\n",
              "\n",
              "    .dataframe tbody tr th {\n",
              "        vertical-align: top;\n",
              "    }\n",
              "\n",
              "    .dataframe thead th {\n",
              "        text-align: right;\n",
              "    }\n",
              "</style>\n",
              "<table border=\"1\" class=\"dataframe\">\n",
              "  <thead>\n",
              "    <tr style=\"text-align: right;\">\n",
              "      <th></th>\n",
              "      <th>id</th>\n",
              "      <th>port_id</th>\n",
              "      <th>voyage_id</th>\n",
              "      <th>event_type</th>\n",
              "      <th>event_horizon</th>\n",
              "      <th>purpose</th>\n",
              "      <th>arrival_date</th>\n",
              "      <th>sailing_date</th>\n",
              "      <th>latitude</th>\n",
              "      <th>longitude</th>\n",
              "      <th>...</th>\n",
              "      <th>area_idlevel0</th>\n",
              "      <th>area_name_level0</th>\n",
              "      <th>area_idlevel1</th>\n",
              "      <th>area_name_level1</th>\n",
              "      <th>area_idlevel2</th>\n",
              "      <th>area_name_level2</th>\n",
              "      <th>area_idlevel3</th>\n",
              "      <th>area_name_level3</th>\n",
              "      <th>low_ais_density</th>\n",
              "      <th>event_details</th>\n",
              "    </tr>\n",
              "  </thead>\n",
              "  <tbody>\n",
              "    <tr>\n",
              "      <th>299</th>\n",
              "      <td>9292187.52.6</td>\n",
              "      <td>3532</td>\n",
              "      <td>9292187.52</td>\n",
              "      <td>PortCall</td>\n",
              "      <td>Historical</td>\n",
              "      <td>Discharge</td>\n",
              "      <td>2021-03-25 03:55:58+00:00</td>\n",
              "      <td>2021-03-26 23:59:41+00:00</td>\n",
              "      <td>22.5143</td>\n",
              "      <td>69.7044</td>\n",
              "      <td>...</td>\n",
              "      <td>None</td>\n",
              "      <td>None</td>\n",
              "      <td>None</td>\n",
              "      <td>None</td>\n",
              "      <td>None</td>\n",
              "      <td>None</td>\n",
              "      <td>None</td>\n",
              "      <td>None</td>\n",
              "      <td>None</td>\n",
              "      <td>None</td>\n",
              "    </tr>\n",
              "    <tr>\n",
              "      <th>300</th>\n",
              "      <td>9292187.53.0</td>\n",
              "      <td>3532</td>\n",
              "      <td>9292187.53</td>\n",
              "      <td>VoyageStart</td>\n",
              "      <td>Historical</td>\n",
              "      <td>Start</td>\n",
              "      <td>NaT</td>\n",
              "      <td>NaT</td>\n",
              "      <td>22.5143</td>\n",
              "      <td>69.7044</td>\n",
              "      <td>...</td>\n",
              "      <td>None</td>\n",
              "      <td>None</td>\n",
              "      <td>None</td>\n",
              "      <td>None</td>\n",
              "      <td>None</td>\n",
              "      <td>None</td>\n",
              "      <td>None</td>\n",
              "      <td>None</td>\n",
              "      <td>None</td>\n",
              "      <td>None</td>\n",
              "    </tr>\n",
              "    <tr>\n",
              "      <th>301</th>\n",
              "      <td>9292187.53.1</td>\n",
              "      <td>3711</td>\n",
              "      <td>9292187.53</td>\n",
              "      <td>Stop</td>\n",
              "      <td>Historical</td>\n",
              "      <td>Stop</td>\n",
              "      <td>2021-03-29 19:59:51+00:00</td>\n",
              "      <td>2021-03-30 04:58:00+00:00</td>\n",
              "      <td>24.9521</td>\n",
              "      <td>58.6659</td>\n",
              "      <td>...</td>\n",
              "      <td>None</td>\n",
              "      <td>None</td>\n",
              "      <td>None</td>\n",
              "      <td>None</td>\n",
              "      <td>None</td>\n",
              "      <td>None</td>\n",
              "      <td>None</td>\n",
              "      <td>None</td>\n",
              "      <td>None</td>\n",
              "      <td>None</td>\n",
              "    </tr>\n",
              "    <tr>\n",
              "      <th>302</th>\n",
              "      <td>9292187.53.2</td>\n",
              "      <td>3778</td>\n",
              "      <td>9292187.53</td>\n",
              "      <td>PortCall</td>\n",
              "      <td>Future</td>\n",
              "      <td>Load</td>\n",
              "      <td>2021-04-03 15:46:02.040000+00:00</td>\n",
              "      <td>2021-04-08 00:00:00+00:00</td>\n",
              "      <td>26.7658</td>\n",
              "      <td>50.1478</td>\n",
              "      <td>...</td>\n",
              "      <td>None</td>\n",
              "      <td>None</td>\n",
              "      <td>None</td>\n",
              "      <td>None</td>\n",
              "      <td>None</td>\n",
              "      <td>None</td>\n",
              "      <td>None</td>\n",
              "      <td>None</td>\n",
              "      <td>True</td>\n",
              "      <td>None</td>\n",
              "    </tr>\n",
              "    <tr>\n",
              "      <th>303</th>\n",
              "      <td>9292187.53.3</td>\n",
              "      <td>3823</td>\n",
              "      <td>9292187.53</td>\n",
              "      <td>PortCall</td>\n",
              "      <td>Future</td>\n",
              "      <td>Discharge</td>\n",
              "      <td>2021-04-26 15:41:50.200000+00:00</td>\n",
              "      <td>2021-04-28 16:22:09.956000+00:00</td>\n",
              "      <td>23.7871</td>\n",
              "      <td>120.1687</td>\n",
              "      <td>...</td>\n",
              "      <td>None</td>\n",
              "      <td>None</td>\n",
              "      <td>None</td>\n",
              "      <td>None</td>\n",
              "      <td>None</td>\n",
              "      <td>None</td>\n",
              "      <td>None</td>\n",
              "      <td>None</td>\n",
              "      <td>True</td>\n",
              "      <td>None</td>\n",
              "    </tr>\n",
              "  </tbody>\n",
              "</table>\n",
              "<p>5 rows × 25 columns</p>\n",
              "</div>"
            ],
            "text/plain": [
              "               id  port_id   voyage_id   event_type event_horizon    purpose  \\\n",
              "299  9292187.52.6     3532  9292187.52     PortCall    Historical  Discharge   \n",
              "300  9292187.53.0     3532  9292187.53  VoyageStart    Historical      Start   \n",
              "301  9292187.53.1     3711  9292187.53         Stop    Historical       Stop   \n",
              "302  9292187.53.2     3778  9292187.53     PortCall        Future       Load   \n",
              "303  9292187.53.3     3823  9292187.53     PortCall        Future  Discharge   \n",
              "\n",
              "                        arrival_date                     sailing_date  \\\n",
              "299        2021-03-25 03:55:58+00:00        2021-03-26 23:59:41+00:00   \n",
              "300                              NaT                              NaT   \n",
              "301        2021-03-29 19:59:51+00:00        2021-03-30 04:58:00+00:00   \n",
              "302 2021-04-03 15:46:02.040000+00:00        2021-04-08 00:00:00+00:00   \n",
              "303 2021-04-26 15:41:50.200000+00:00 2021-04-28 16:22:09.956000+00:00   \n",
              "\n",
              "     latitude  longitude  ...  area_idlevel0 area_name_level0 area_idlevel1  \\\n",
              "299   22.5143    69.7044  ...           None             None          None   \n",
              "300   22.5143    69.7044  ...           None             None          None   \n",
              "301   24.9521    58.6659  ...           None             None          None   \n",
              "302   26.7658    50.1478  ...           None             None          None   \n",
              "303   23.7871   120.1687  ...           None             None          None   \n",
              "\n",
              "    area_name_level1 area_idlevel2 area_name_level2 area_idlevel3  \\\n",
              "299             None          None             None          None   \n",
              "300             None          None             None          None   \n",
              "301             None          None             None          None   \n",
              "302             None          None             None          None   \n",
              "303             None          None             None          None   \n",
              "\n",
              "    area_name_level3 low_ais_density event_details  \n",
              "299             None            None          None  \n",
              "300             None            None          None  \n",
              "301             None            None          None  \n",
              "302             None            True          None  \n",
              "303             None            True          None  \n",
              "\n",
              "[5 rows x 25 columns]"
            ]
          },
          "execution_count": 12,
          "metadata": {},
          "output_type": "execute_result"
        }
      ],
      "source": [
        "vessel_events_df = pd.DataFrame(v.__dict__ for v in vessel_voyages_flat.events)\n",
        "vessel_events_df.tail(5)"
      ]
    },
    {
      "cell_type": "code",
      "execution_count": null,
      "metadata": {
        "id": "PklwbZAvOyva",
        "outputId": "b20a7939-012c-4f1f-f5da-f2567c91939e"
      },
      "outputs": [
        {
          "data": {
            "text/html": [
              "<div>\n",
              "<style scoped>\n",
              "    .dataframe tbody tr th:only-of-type {\n",
              "        vertical-align: middle;\n",
              "    }\n",
              "\n",
              "    .dataframe tbody tr th {\n",
              "        vertical-align: top;\n",
              "    }\n",
              "\n",
              "    .dataframe thead th {\n",
              "        text-align: right;\n",
              "    }\n",
              "</style>\n",
              "<table border=\"1\" class=\"dataframe\">\n",
              "  <thead>\n",
              "    <tr style=\"text-align: right;\">\n",
              "      <th></th>\n",
              "      <th>id</th>\n",
              "      <th>event_id</th>\n",
              "      <th>event_detail_type</th>\n",
              "      <th>arrival_date</th>\n",
              "      <th>sailing_date</th>\n",
              "      <th>start_time_of_operation</th>\n",
              "      <th>end_time_of_operation</th>\n",
              "      <th>geo_asset_id</th>\n",
              "      <th>geo_asset_name</th>\n",
              "      <th>latitude</th>\n",
              "      <th>longitude</th>\n",
              "      <th>other_vessel_imo</th>\n",
              "      <th>other_vessel_name</th>\n",
              "    </tr>\n",
              "  </thead>\n",
              "  <tbody>\n",
              "    <tr>\n",
              "      <th>271</th>\n",
              "      <td>9292187.52.3.0</td>\n",
              "      <td>9292187.52.3</td>\n",
              "      <td>Jetty</td>\n",
              "      <td>2021-02-03 07:55:41+00:00</td>\n",
              "      <td>2021-02-04 23:39:34+00:00</td>\n",
              "      <td>2021-02-03 10:57:50+00:00</td>\n",
              "      <td>2021-02-03 12:15:52+00:00</td>\n",
              "      <td>4369</td>\n",
              "      <td>FPSO Akpo</td>\n",
              "      <td>3.160565</td>\n",
              "      <td>6.831695</td>\n",
              "      <td>NaN</td>\n",
              "      <td>None</td>\n",
              "    </tr>\n",
              "    <tr>\n",
              "      <th>272</th>\n",
              "      <td>9292187.52.4.0</td>\n",
              "      <td>9292187.52.4</td>\n",
              "      <td>Stop</td>\n",
              "      <td>2021-02-06 11:35:06+00:00</td>\n",
              "      <td>2021-02-08 10:46:06+00:00</td>\n",
              "      <td>NaT</td>\n",
              "      <td>NaT</td>\n",
              "      <td>4062</td>\n",
              "      <td>Port Gentil Anchorage</td>\n",
              "      <td>-0.996812</td>\n",
              "      <td>7.547887</td>\n",
              "      <td>NaN</td>\n",
              "      <td>None</td>\n",
              "    </tr>\n",
              "    <tr>\n",
              "      <th>273</th>\n",
              "      <td>9292187.52.5.0</td>\n",
              "      <td>9292187.52.5</td>\n",
              "      <td>Jetty</td>\n",
              "      <td>2021-02-09 09:05:48+00:00</td>\n",
              "      <td>2021-02-28 23:06:13.400000+00:00</td>\n",
              "      <td>2021-02-26 15:27:11+00:00</td>\n",
              "      <td>2021-02-26 15:27:11+00:00</td>\n",
              "      <td>5352</td>\n",
              "      <td>Bonny Offshore Terminal</td>\n",
              "      <td>4.170430</td>\n",
              "      <td>7.218700</td>\n",
              "      <td>NaN</td>\n",
              "      <td>None</td>\n",
              "    </tr>\n",
              "    <tr>\n",
              "      <th>274</th>\n",
              "      <td>9292187.52.6.0</td>\n",
              "      <td>9292187.52.6</td>\n",
              "      <td>Jetty</td>\n",
              "      <td>2021-03-25 03:55:58+00:00</td>\n",
              "      <td>2021-03-26 23:59:41+00:00</td>\n",
              "      <td>2021-03-25 03:55:58+00:00</td>\n",
              "      <td>2021-03-26 23:59:41+00:00</td>\n",
              "      <td>5112</td>\n",
              "      <td>Essar Vadinar Refinery</td>\n",
              "      <td>22.514310</td>\n",
              "      <td>69.704380</td>\n",
              "      <td>NaN</td>\n",
              "      <td>None</td>\n",
              "    </tr>\n",
              "    <tr>\n",
              "      <th>275</th>\n",
              "      <td>9292187.53.1.0</td>\n",
              "      <td>9292187.53.1</td>\n",
              "      <td>Stop</td>\n",
              "      <td>2021-03-29 19:59:51+00:00</td>\n",
              "      <td>2021-03-30 04:58:00+00:00</td>\n",
              "      <td>NaT</td>\n",
              "      <td>NaT</td>\n",
              "      <td>5101</td>\n",
              "      <td>Mina Al Fahal Refinery</td>\n",
              "      <td>24.952147</td>\n",
              "      <td>58.665850</td>\n",
              "      <td>NaN</td>\n",
              "      <td>None</td>\n",
              "    </tr>\n",
              "  </tbody>\n",
              "</table>\n",
              "</div>"
            ],
            "text/plain": [
              "                 id      event_id event_detail_type              arrival_date  \\\n",
              "271  9292187.52.3.0  9292187.52.3             Jetty 2021-02-03 07:55:41+00:00   \n",
              "272  9292187.52.4.0  9292187.52.4              Stop 2021-02-06 11:35:06+00:00   \n",
              "273  9292187.52.5.0  9292187.52.5             Jetty 2021-02-09 09:05:48+00:00   \n",
              "274  9292187.52.6.0  9292187.52.6             Jetty 2021-03-25 03:55:58+00:00   \n",
              "275  9292187.53.1.0  9292187.53.1              Stop 2021-03-29 19:59:51+00:00   \n",
              "\n",
              "                        sailing_date   start_time_of_operation  \\\n",
              "271        2021-02-04 23:39:34+00:00 2021-02-03 10:57:50+00:00   \n",
              "272        2021-02-08 10:46:06+00:00                       NaT   \n",
              "273 2021-02-28 23:06:13.400000+00:00 2021-02-26 15:27:11+00:00   \n",
              "274        2021-03-26 23:59:41+00:00 2021-03-25 03:55:58+00:00   \n",
              "275        2021-03-30 04:58:00+00:00                       NaT   \n",
              "\n",
              "        end_time_of_operation  geo_asset_id           geo_asset_name  \\\n",
              "271 2021-02-03 12:15:52+00:00          4369                FPSO Akpo   \n",
              "272                       NaT          4062    Port Gentil Anchorage   \n",
              "273 2021-02-26 15:27:11+00:00          5352  Bonny Offshore Terminal   \n",
              "274 2021-03-26 23:59:41+00:00          5112   Essar Vadinar Refinery   \n",
              "275                       NaT          5101   Mina Al Fahal Refinery   \n",
              "\n",
              "      latitude  longitude  other_vessel_imo other_vessel_name  \n",
              "271   3.160565   6.831695               NaN              None  \n",
              "272  -0.996812   7.547887               NaN              None  \n",
              "273   4.170430   7.218700               NaN              None  \n",
              "274  22.514310  69.704380               NaN              None  \n",
              "275  24.952147  58.665850               NaN              None  "
            ]
          },
          "execution_count": 13,
          "metadata": {},
          "output_type": "execute_result"
        }
      ],
      "source": [
        "vessel_event_details_df = pd.DataFrame(v.__dict__ for v in vessel_voyages_flat.event_details)\n",
        "vessel_event_details_df.tail(5)"
      ]
    },
    {
      "cell_type": "code",
      "execution_count": null,
      "metadata": {
        "id": "Rj2ZAg3_Oyvb",
        "outputId": "35a71f08-d78d-411e-cf3a-76ee77287a35"
      },
      "outputs": [
        {
          "data": {
            "text/html": [
              "<div>\n",
              "<style scoped>\n",
              "    .dataframe tbody tr th:only-of-type {\n",
              "        vertical-align: middle;\n",
              "    }\n",
              "\n",
              "    .dataframe tbody tr th {\n",
              "        vertical-align: top;\n",
              "    }\n",
              "\n",
              "    .dataframe thead th {\n",
              "        text-align: right;\n",
              "    }\n",
              "</style>\n",
              "<table border=\"1\" class=\"dataframe\">\n",
              "  <thead>\n",
              "    <tr style=\"text-align: right;\">\n",
              "      <th></th>\n",
              "      <th>id</th>\n",
              "      <th>name</th>\n",
              "      <th>port_id</th>\n",
              "      <th>port_name</th>\n",
              "      <th>country_id</th>\n",
              "      <th>country</th>\n",
              "      <th>area_idlevel0</th>\n",
              "      <th>area_name_level0</th>\n",
              "      <th>area_idlevel1</th>\n",
              "      <th>area_name_level1</th>\n",
              "      <th>area_idlevel2</th>\n",
              "      <th>area_name_level2</th>\n",
              "      <th>area_idlevel3</th>\n",
              "      <th>area_name_level3</th>\n",
              "    </tr>\n",
              "  </thead>\n",
              "  <tbody>\n",
              "    <tr>\n",
              "      <th>205</th>\n",
              "      <td>6507</td>\n",
              "      <td>Terminal Island</td>\n",
              "      <td>3857</td>\n",
              "      <td>Long Beach</td>\n",
              "      <td>240</td>\n",
              "      <td>United States</td>\n",
              "      <td>24741</td>\n",
              "      <td>US West Coast</td>\n",
              "      <td>25017</td>\n",
              "      <td>West Coast North America</td>\n",
              "      <td>25026</td>\n",
              "      <td>West Coast North America</td>\n",
              "      <td>85</td>\n",
              "      <td>Pacific America</td>\n",
              "    </tr>\n",
              "    <tr>\n",
              "      <th>206</th>\n",
              "      <td>6163</td>\n",
              "      <td>Vopak Terminal Europoort</td>\n",
              "      <td>3689</td>\n",
              "      <td>Rotterdam</td>\n",
              "      <td>173</td>\n",
              "      <td>Netherlands</td>\n",
              "      <td>24758</td>\n",
              "      <td>Continent</td>\n",
              "      <td>25016</td>\n",
              "      <td>UK Continent</td>\n",
              "      <td>25025</td>\n",
              "      <td>Mediterranean / UK Continent</td>\n",
              "      <td>25028</td>\n",
              "      <td>West</td>\n",
              "    </tr>\n",
              "    <tr>\n",
              "      <th>207</th>\n",
              "      <td>5744</td>\n",
              "      <td>Euro Tank Terminal B.v.</td>\n",
              "      <td>3689</td>\n",
              "      <td>Rotterdam</td>\n",
              "      <td>173</td>\n",
              "      <td>Netherlands</td>\n",
              "      <td>24758</td>\n",
              "      <td>Continent</td>\n",
              "      <td>25016</td>\n",
              "      <td>UK Continent</td>\n",
              "      <td>25025</td>\n",
              "      <td>Mediterranean / UK Continent</td>\n",
              "      <td>25028</td>\n",
              "      <td>West</td>\n",
              "    </tr>\n",
              "    <tr>\n",
              "      <th>208</th>\n",
              "      <td>6361</td>\n",
              "      <td>Aruba Lightering Zone</td>\n",
              "      <td>3214</td>\n",
              "      <td>San Nicolaas</td>\n",
              "      <td>21</td>\n",
              "      <td>Aruba</td>\n",
              "      <td>24746</td>\n",
              "      <td>Caribs</td>\n",
              "      <td>9</td>\n",
              "      <td>Caribs</td>\n",
              "      <td>25019</td>\n",
              "      <td>Atlantic America</td>\n",
              "      <td>25028</td>\n",
              "      <td>West</td>\n",
              "    </tr>\n",
              "    <tr>\n",
              "      <th>209</th>\n",
              "      <td>5745</td>\n",
              "      <td>Maatschap Europoort Terminal</td>\n",
              "      <td>3689</td>\n",
              "      <td>Rotterdam</td>\n",
              "      <td>173</td>\n",
              "      <td>Netherlands</td>\n",
              "      <td>24758</td>\n",
              "      <td>Continent</td>\n",
              "      <td>25016</td>\n",
              "      <td>UK Continent</td>\n",
              "      <td>25025</td>\n",
              "      <td>Mediterranean / UK Continent</td>\n",
              "      <td>25028</td>\n",
              "      <td>West</td>\n",
              "    </tr>\n",
              "  </tbody>\n",
              "</table>\n",
              "</div>"
            ],
            "text/plain": [
              "       id                          name  port_id     port_name  country_id  \\\n",
              "205  6507               Terminal Island     3857    Long Beach         240   \n",
              "206  6163      Vopak Terminal Europoort     3689     Rotterdam         173   \n",
              "207  5744       Euro Tank Terminal B.v.     3689     Rotterdam         173   \n",
              "208  6361         Aruba Lightering Zone     3214  San Nicolaas          21   \n",
              "209  5745  Maatschap Europoort Terminal     3689     Rotterdam         173   \n",
              "\n",
              "           country  area_idlevel0 area_name_level0  area_idlevel1  \\\n",
              "205  United States          24741    US West Coast          25017   \n",
              "206    Netherlands          24758        Continent          25016   \n",
              "207    Netherlands          24758        Continent          25016   \n",
              "208          Aruba          24746           Caribs              9   \n",
              "209    Netherlands          24758        Continent          25016   \n",
              "\n",
              "             area_name_level1  area_idlevel2              area_name_level2  \\\n",
              "205  West Coast North America          25026      West Coast North America   \n",
              "206              UK Continent          25025  Mediterranean / UK Continent   \n",
              "207              UK Continent          25025  Mediterranean / UK Continent   \n",
              "208                    Caribs          25019              Atlantic America   \n",
              "209              UK Continent          25025  Mediterranean / UK Continent   \n",
              "\n",
              "     area_idlevel3 area_name_level3  \n",
              "205             85  Pacific America  \n",
              "206          25028             West  \n",
              "207          25028             West  \n",
              "208          25028             West  \n",
              "209          25028             West  "
            ]
          },
          "execution_count": 14,
          "metadata": {},
          "output_type": "execute_result"
        }
      ],
      "source": [
        "vessel_voyages_geos_df = pd.DataFrame(v.__dict__ for v in vessel_voyages_flat.geos)\n",
        "vessel_voyages_geos_df.tail(5)"
      ]
    },
    {
      "cell_type": "markdown",
      "metadata": {
        "id": "KosfTNj0Oyvb"
      },
      "source": [
        "### Get voyages for vessel class in the flat format"
      ]
    },
    {
      "cell_type": "code",
      "execution_count": 13,
      "metadata": {
        "id": "kCud5NPqOyvb"
      },
      "outputs": [],
      "source": [
        "#get vessel class id for vlcc\n",
        "vc = api.get_vessel_classes(VesselClassFilter('vlcc'))[0]\n",
        "vlcc_id = vc.vessel_class_id\n",
        "\n",
        "date_from = date.today() - timedelta(days=30)\n",
        "recent_vlcc_voyages_flat = api.get_voyages_flat(vessel_class_id=vlcc_id, date_from=date_from)"
      ]
    },
    {
      "cell_type": "code",
      "execution_count": 14,
      "metadata": {
        "id": "bQwUf_ItOyvb",
        "outputId": "117a5582-d5b9-48de-9946-1806509a805d",
        "colab": {
          "base_uri": "https://localhost:8080/"
        }
      },
      "outputs": [
        {
          "output_type": "stream",
          "name": "stdout",
          "text": [
            "Voyages: 340\n",
            "Events: 1080\n",
            "EventDetails: 463\n",
            "Geos: 246\n"
          ]
        }
      ],
      "source": [
        "print('Voyages:', len(recent_vlcc_voyages_flat.voyages))\n",
        "print('Events:', len(recent_vlcc_voyages_flat.events))\n",
        "print('EventDetails:', len(recent_vlcc_voyages_flat.event_details))\n",
        "print('Geos:', len(recent_vlcc_voyages_flat.geos))"
      ]
    },
    {
      "cell_type": "markdown",
      "metadata": {
        "id": "-mLcTt21Oyvc"
      },
      "source": [
        "### Get voyages for vessel incrementally "
      ]
    },
    {
      "cell_type": "markdown",
      "metadata": {
        "id": "rTgyj0MnOyvc"
      },
      "source": [
        "Initial requests retrieves voyages mathcing the query criteria and a query token that can be used in the subsequent request."
      ]
    },
    {
      "cell_type": "code",
      "source": [
        "# get the imo by using the vessel name\n",
        "vessel = api.get_imos(VesselFilter('XIN YONG YANG'))[0]\n",
        "vessel"
      ],
      "metadata": {
        "colab": {
          "base_uri": "https://localhost:8080/"
        },
        "id": "RsFqB1r_Rl-L",
        "outputId": "bda75918-067e-4cd6-f0f7-9af0c0d59f7d"
      },
      "execution_count": 15,
      "outputs": [
        {
          "output_type": "execute_result",
          "data": {
            "text/plain": [
              "Vessel(imo=9416642, vessel_name='Xin Yong Yang')"
            ]
          },
          "metadata": {},
          "execution_count": 15
        }
      ]
    },
    {
      "cell_type": "code",
      "execution_count": 16,
      "metadata": {
        "id": "A4QIdI9DOyvc",
        "outputId": "4beee3d2-7273-4732-bc90-c722d21f7e19",
        "colab": {
          "base_uri": "https://localhost:8080/"
        }
      },
      "outputs": [
        {
          "output_type": "execute_result",
          "data": {
            "text/plain": [
              "73"
            ]
          },
          "metadata": {},
          "execution_count": 16
        }
      ],
      "source": [
        "vessel_voyages, next_request_token = api.get_incremental_voyages(imo=vessel.imo)\n",
        "len(vessel_voyages)"
      ]
    },
    {
      "cell_type": "markdown",
      "metadata": {
        "id": "PO1euHByOyvc"
      },
      "source": [
        "Provided the token retrieved for the previous request, the subsequent request retrieves only voyages that have been updated since the previous request. "
      ]
    },
    {
      "cell_type": "code",
      "execution_count": null,
      "metadata": {
        "id": "qmVQVvyrOyvc",
        "outputId": "344ffec4-6ab9-4357-ca19-a4fdfb9078b3"
      },
      "outputs": [
        {
          "data": {
            "text/plain": [
              "0"
            ]
          },
          "execution_count": 18,
          "metadata": {},
          "output_type": "execute_result"
        }
      ],
      "source": [
        "incremental_voyages, next_request_token = api.get_incremental_voyages(imo=9416642, incremental_token=next_request_token)\n",
        "len(incremental_voyages)"
      ]
    },
    {
      "cell_type": "markdown",
      "metadata": {
        "id": "uehO3EAYOyvd"
      },
      "source": [
        "The retrieved information is used to replace any modify voyages from the dataset. Note that returned voyages marked as deleted are only used to filter out voyages. "
      ]
    },
    {
      "cell_type": "code",
      "execution_count": null,
      "metadata": {
        "id": "xA1FkflhOyvd",
        "outputId": "0c859de7-bd80-4ecf-f549-73eae3029e46"
      },
      "outputs": [
        {
          "data": {
            "text/plain": [
              "68"
            ]
          },
          "execution_count": 19,
          "metadata": {},
          "output_type": "execute_result"
        }
      ],
      "source": [
        "updated_voyage_ids = set(v.id for v in incremental_voyages)\n",
        "vessel_voyages = [v for v in vessel_voyages if v.id not in updated_voyage_ids]\n",
        "new_vessel_voyages = [v for v in incremental_voyages if not v.deleted]\n",
        "vessel_voyages = sorted(vessel_voyages + new_vessel_voyages, key= lambda v: v.voyage_number)\n",
        "len(vessel_voyages)"
      ]
    },
    {
      "cell_type": "markdown",
      "metadata": {
        "id": "OWOaKgomOyvd"
      },
      "source": [
        "### Get voyages for vessel class incrementally "
      ]
    },
    {
      "cell_type": "markdown",
      "metadata": {
        "id": "EuJdS_MdOyvd"
      },
      "source": [
        "Voyages for vessel class are retieved and updated in the same way incrementally."
      ]
    },
    {
      "cell_type": "code",
      "source": [
        "#get vessel class id for vlcc\n",
        "vc = api.get_vessel_classes(VesselClassFilter('vlcc'))[0]\n",
        "vessel_class_id = vc.vessel_class_id\n",
        "vessel_class_id"
      ],
      "metadata": {
        "colab": {
          "base_uri": "https://localhost:8080/"
        },
        "id": "aaKjySklR9Pv",
        "outputId": "e2d82fc0-2efc-4468-daa8-1867d7d682c5"
      },
      "execution_count": 17,
      "outputs": [
        {
          "output_type": "execute_result",
          "data": {
            "text/plain": [
              "84"
            ]
          },
          "metadata": {},
          "execution_count": 17
        }
      ]
    },
    {
      "cell_type": "code",
      "execution_count": 18,
      "metadata": {
        "id": "hoDG2TrAOyvd"
      },
      "outputs": [],
      "source": [
        "date_from = date.today() - timedelta(days=30)"
      ]
    },
    {
      "cell_type": "code",
      "execution_count": null,
      "metadata": {
        "id": "u-NrM_yFOyve",
        "outputId": "40a6b456-8a83-4e8e-f45a-757b990258c9"
      },
      "outputs": [
        {
          "data": {
            "text/plain": [
              "193"
            ]
          },
          "execution_count": 21,
          "metadata": {},
          "output_type": "execute_result"
        }
      ],
      "source": [
        "voyages, next_request_token = api.get_incremental_voyages(vessel_class_id=vessel_class_id, date_from=date_from)\n",
        "len(voyages)"
      ]
    },
    {
      "cell_type": "code",
      "execution_count": null,
      "metadata": {
        "id": "NteLP5YGOyve",
        "outputId": "8165a9aa-d7bd-45d0-ea49-e211a144cf44"
      },
      "outputs": [
        {
          "data": {
            "text/plain": [
              "0"
            ]
          },
          "execution_count": 22,
          "metadata": {},
          "output_type": "execute_result"
        }
      ],
      "source": [
        "incremental_voyages, next_request_token = api.get_incremental_voyages(vessel_class_id=vessel_class_id, date_from=date_from, incremental_token=next_request_token)\n",
        "len(incremental_voyages)"
      ]
    },
    {
      "cell_type": "code",
      "execution_count": null,
      "metadata": {
        "id": "EnhF_D7oOyve",
        "outputId": "dbc6d5ae-abc1-4374-d4f1-d81468496a78"
      },
      "outputs": [
        {
          "data": {
            "text/plain": [
              "193"
            ]
          },
          "execution_count": 23,
          "metadata": {},
          "output_type": "execute_result"
        }
      ],
      "source": [
        "updated_voyage_ids = set(v.id for v in incremental_voyages)\n",
        "voyages = [v for v in voyages if v.id not in updated_voyage_ids]\n",
        "new_voyages = [v for v in incremental_voyages if not v.deleted]\n",
        "voyages = sorted(voyages + new_voyages, key= lambda v: (v.imo, v.voyage_number))\n",
        "len(voyages)"
      ]
    },
    {
      "cell_type": "markdown",
      "metadata": {
        "id": "7Z90cXUMOyve"
      },
      "source": [
        "### Get voyages for vessel class incrementally in the flat format"
      ]
    },
    {
      "cell_type": "markdown",
      "metadata": {
        "id": "CDfq-d7IOyvg"
      },
      "source": [
        "Voyages may be retrieved and updated incrementally in the flat format. "
      ]
    },
    {
      "cell_type": "code",
      "source": [
        "#get vessel class id for vlcc\n",
        "vc = api.get_vessel_classes(VesselClassFilter('vlcc'))[0]\n",
        "vessel_class_id = vc.vessel_class_id\n",
        "vessel_class_id"
      ],
      "metadata": {
        "colab": {
          "base_uri": "https://localhost:8080/"
        },
        "id": "bTK4pOcRSCss",
        "outputId": "9b404040-5026-40a6-ad88-08c286eb0792"
      },
      "execution_count": 19,
      "outputs": [
        {
          "output_type": "execute_result",
          "data": {
            "text/plain": [
              "84"
            ]
          },
          "metadata": {},
          "execution_count": 19
        }
      ]
    },
    {
      "cell_type": "code",
      "execution_count": 20,
      "metadata": {
        "id": "GuHVwQc8Oyvg"
      },
      "outputs": [],
      "source": [
        "date_from = date.today() - timedelta(days=30)"
      ]
    },
    {
      "cell_type": "code",
      "execution_count": 21,
      "metadata": {
        "id": "IJIWwU7sOyvg"
      },
      "outputs": [],
      "source": [
        "voyages_flat, next_request_token = api.get_incremental_voyages_flat(vessel_class_id=vessel_class_id, date_from=date_from)"
      ]
    },
    {
      "cell_type": "code",
      "execution_count": null,
      "metadata": {
        "id": "9Py1NwlNOyvg"
      },
      "outputs": [],
      "source": [
        "voyages = voyages_flat.voyages\n",
        "events = voyages_flat.events\n",
        "event_details = voyages_flat.event_details\n",
        "geos = voyages_flat.geos"
      ]
    },
    {
      "cell_type": "code",
      "execution_count": null,
      "metadata": {
        "id": "Jy3B4gg9Oyvg",
        "outputId": "e66bfa84-49f4-40a7-f6e8-bd29ffaf1918"
      },
      "outputs": [
        {
          "data": {
            "text/plain": [
              "(193, 801, 345, 187)"
            ]
          },
          "execution_count": 27,
          "metadata": {},
          "output_type": "execute_result"
        }
      ],
      "source": [
        "len(voyages), len(events), len(event_details), len(geos)"
      ]
    },
    {
      "cell_type": "code",
      "execution_count": null,
      "metadata": {
        "id": "LbnYof4VOyvh"
      },
      "outputs": [],
      "source": [
        "incremental_voyages_flat, next_request_token = api.get_incremental_voyages_flat(vessel_class_id=vessel_class_id, date_from=date_from, incremental_token=next_request_token)"
      ]
    },
    {
      "cell_type": "code",
      "execution_count": null,
      "metadata": {
        "id": "cXpOEn0uOyvh",
        "outputId": "8cf171cf-4703-4b31-9e80-923f92419544"
      },
      "outputs": [
        {
          "data": {
            "text/plain": [
              "0"
            ]
          },
          "execution_count": 29,
          "metadata": {},
          "output_type": "execute_result"
        }
      ],
      "source": [
        "len(incremental_voyages_flat.voyages)"
      ]
    },
    {
      "cell_type": "markdown",
      "metadata": {
        "id": "Us-FRQ9DOyvh"
      },
      "source": [
        "In this case the update step is applied to voyages, events, event details and geos datasets."
      ]
    },
    {
      "cell_type": "code",
      "execution_count": null,
      "metadata": {
        "id": "ZMj4PhVqOyvh",
        "outputId": "2bb6aea3-7055-448d-fe6d-dbf8d4e40d2b"
      },
      "outputs": [
        {
          "data": {
            "text/plain": [
              "193"
            ]
          },
          "execution_count": 30,
          "metadata": {},
          "output_type": "execute_result"
        }
      ],
      "source": [
        "updated_voyage_ids = set(v.id for v in incremental_voyages_flat.voyages)\n",
        "voyages = [v for v in voyages if v.id not in updated_voyage_ids]\n",
        "new_voyages = [v for v in incremental_voyages_flat.voyages if not v.deleted]\n",
        "voyages = sorted(voyages + new_voyages, key= lambda v: (v.imo, v.voyage_number))\n",
        "len(voyages)"
      ]
    },
    {
      "cell_type": "code",
      "execution_count": null,
      "metadata": {
        "id": "XDTr5qU3Oyvh",
        "outputId": "8f3c6357-092a-4ee9-8d30-47998e9c3237"
      },
      "outputs": [
        {
          "data": {
            "text/plain": [
              "801"
            ]
          },
          "execution_count": 31,
          "metadata": {},
          "output_type": "execute_result"
        }
      ],
      "source": [
        "updated_event_ids = set(e.id for e in events if e.voyage_id in updated_voyage_ids)\n",
        "events = [e for e in events if e.id not in updated_event_ids]\n",
        "events = sorted(events + list(incremental_voyages_flat.events), key= lambda e: e.id)\n",
        "len(events)"
      ]
    },
    {
      "cell_type": "code",
      "execution_count": null,
      "metadata": {
        "id": "aRpLomdkOyvh",
        "outputId": "4dd4e4d0-ec83-44c7-c12d-e1f2e6b3f797"
      },
      "outputs": [
        {
          "data": {
            "text/plain": [
              "345"
            ]
          },
          "execution_count": 32,
          "metadata": {},
          "output_type": "execute_result"
        }
      ],
      "source": [
        "event_details = [e for e in event_details if e.id not in updated_event_ids]\n",
        "event_details = sorted(event_details + list(incremental_voyages_flat.event_details), key= lambda e: e.id)\n",
        "len(event_details)"
      ]
    },
    {
      "cell_type": "code",
      "execution_count": null,
      "metadata": {
        "id": "twfn4aRvOyvi",
        "outputId": "b5bb8b74-f929-47c4-e68f-760570524f84"
      },
      "outputs": [
        {
          "data": {
            "text/plain": [
              "187"
            ]
          },
          "execution_count": 33,
          "metadata": {},
          "output_type": "execute_result"
        }
      ],
      "source": [
        "updated_geo_ids = set(g.id for g in incremental_voyages_flat.geos)\n",
        "geos = [g for g in geos if g.id not in updated_geo_ids] + list(incremental_voyages_flat.geos)\n",
        "len(geos)"
      ]
    }
  ],
  "metadata": {
    "kernelspec": {
      "display_name": "Python 3",
      "language": "python",
      "name": "python3"
    },
    "language_info": {
      "codemirror_mode": {
        "name": "ipython",
        "version": 3
      },
      "file_extension": ".py",
      "mimetype": "text/x-python",
      "name": "python",
      "nbconvert_exporter": "python",
      "pygments_lexer": "ipython3",
      "version": "3.8.5"
    },
    "colab": {
      "name": "Copy of VoyagesAPI.ipynb",
      "provenance": [],
      "collapsed_sections": []
    }
  },
  "nbformat": 4,
  "nbformat_minor": 0
}