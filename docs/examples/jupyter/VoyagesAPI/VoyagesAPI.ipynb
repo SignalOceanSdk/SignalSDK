{
 "cells": [
  {
   "cell_type": "markdown",
   "metadata": {
    "id": "pLubipKzOyvL",
    "pycharm": {
     "name": "#%% md\n"
    }
   },
   "source": [
    "# Voyages API Example\n",
    "\n",
    "## Run this example in [Colab](https://colab.research.google.com/github/SignalOceanSdk/SignalSDK/blob/master/docs/examples/jupyter/VoyagesAPI/VoyagesAPI.ipynb). "
   ]
  },
  {
   "cell_type": "markdown",
   "metadata": {},
   "source": [
    "## Setup\n",
    "Install the Signal Ocean SDK:\n",
    "```\n",
    "pip install signal-ocean\n",
    "```\n",
    "Set your subscription key acquired here: https://apis.signalocean.com/profile"
   ]
  },
  {
   "cell_type": "code",
   "execution_count": null,
   "metadata": {},
   "outputs": [],
   "source": [
    "pip install signal-ocean"
   ]
  },
  {
   "cell_type": "code",
   "execution_count": 1,
   "metadata": {
    "id": "poC0RHOcOyvR",
    "pycharm": {
     "name": "#%%\n"
    }
   },
   "outputs": [],
   "source": [
    "signal_ocean_api_key = '' #replace with your subscription key"
   ]
  },
  {
   "cell_type": "markdown",
   "metadata": {
    "id": "QzHwIp20OyvS",
    "pycharm": {
     "name": "#%% md\n"
    }
   },
   "source": [
    "## Call the Voyages API\n",
    "The Voyages API retrieves information about vessel voyages."
   ]
  },
  {
   "cell_type": "code",
   "execution_count": 2,
   "metadata": {
    "id": "VaLkKseYOyvT",
    "pycharm": {
     "name": "#%%\n"
    }
   },
   "outputs": [],
   "source": [
    "from signal_ocean import Connection\n",
    "from signal_ocean.voyages import VoyagesAPI\n",
    "from signal_ocean.voyages import Vessel, VesselFilter\n",
    "from signal_ocean.voyages import VesselType, VesselTypeFilter\n",
    "from signal_ocean.voyages import VesselClass, VesselClassFilter\n",
    "import pandas as pd\n",
    "from datetime import date, timedelta"
   ]
  },
  {
   "cell_type": "code",
   "execution_count": 3,
   "metadata": {
    "id": "bSu1XgNTOyvT",
    "pycharm": {
     "name": "#%%\n"
    }
   },
   "outputs": [],
   "source": [
    "connection = Connection(signal_ocean_api_key)\n",
    "api = VoyagesAPI(connection)"
   ]
  },
  {
   "cell_type": "markdown",
   "metadata": {
    "id": "G6tGahRbOyvU",
    "pycharm": {
     "name": "#%% md\n"
    }
   },
   "source": [
    "### Get voyages for vessel"
   ]
  },
  {
   "cell_type": "code",
   "execution_count": 4,
   "metadata": {
    "colab": {
     "base_uri": "https://localhost:8080/"
    },
    "id": "TgqUa2VkQGH1",
    "outputId": "21dbd2a9-a52a-4376-b0fa-5384f01d5611",
    "pycharm": {
     "name": "#%%\n"
    }
   },
   "outputs": [
    {
     "data": {
      "text/plain": [
       "Vessel(imo=9293002, vessel_name='Blint')"
      ]
     },
     "execution_count": 4,
     "metadata": {},
     "output_type": "execute_result"
    }
   ],
   "source": [
    "# get the imo by using the vessel name\n",
    "vessel = api.get_imos(VesselFilter('Blint'))[0]\n",
    "vessel"
   ]
  },
  {
   "cell_type": "code",
   "execution_count": 5,
   "metadata": {
    "id": "sdwh-04uOyvU",
    "pycharm": {
     "name": "#%%\n"
    }
   },
   "outputs": [],
   "source": [
    "vessel_voyages = api.get_voyages(imo=9293002)"
   ]
  },
  {
   "cell_type": "code",
   "execution_count": 6,
   "metadata": {
    "colab": {
     "base_uri": "https://localhost:8080/",
     "height": 409
    },
    "id": "JFd0wslmOyvV",
    "outputId": "e2de31e6-bb3e-4945-f05b-79a34c122853",
    "pycharm": {
     "name": "#%%\n"
    }
   },
   "outputs": [
    {
     "data": {
      "text/html": [
       "<div>\n",
       "<style scoped>\n",
       "    .dataframe tbody tr th:only-of-type {\n",
       "        vertical-align: middle;\n",
       "    }\n",
       "\n",
       "    .dataframe tbody tr th {\n",
       "        vertical-align: top;\n",
       "    }\n",
       "\n",
       "    .dataframe thead th {\n",
       "        text-align: right;\n",
       "    }\n",
       "</style>\n",
       "<table border=\"1\" class=\"dataframe\">\n",
       "  <thead>\n",
       "    <tr style=\"text-align: right;\">\n",
       "      <th></th>\n",
       "      <th>imo</th>\n",
       "      <th>voyage_number</th>\n",
       "      <th>vessel_type_id</th>\n",
       "      <th>vessel_class_id</th>\n",
       "      <th>vessel_status_id</th>\n",
       "      <th>commercial_operator_id</th>\n",
       "      <th>deleted</th>\n",
       "      <th>events</th>\n",
       "      <th>id</th>\n",
       "      <th>horizon_id</th>\n",
       "      <th>...</th>\n",
       "      <th>predicted_ballast_distance</th>\n",
       "      <th>laden_distance</th>\n",
       "      <th>predicted_laden_distance</th>\n",
       "      <th>suez_crossing</th>\n",
       "      <th>panama_crossing</th>\n",
       "      <th>canakkale_crossing</th>\n",
       "      <th>bosporus_crossing</th>\n",
       "      <th>torres_strait_crossing</th>\n",
       "      <th>magellan_strait_crossing</th>\n",
       "      <th>great_belt_crossing</th>\n",
       "    </tr>\n",
       "  </thead>\n",
       "  <tbody>\n",
       "    <tr>\n",
       "      <th>125</th>\n",
       "      <td>9293002</td>\n",
       "      <td>126</td>\n",
       "      <td>1</td>\n",
       "      <td>86</td>\n",
       "      <td>1</td>\n",
       "      <td>1597.0</td>\n",
       "      <td>False</td>\n",
       "      <td>(VoyageEvent(id='I8DCCCASEDE4C9900', voyage_id...</td>\n",
       "      <td>I8DCCCAVEDE4C9900</td>\n",
       "      <td>1</td>\n",
       "      <td>...</td>\n",
       "      <td>None</td>\n",
       "      <td>7915.09</td>\n",
       "      <td>NaN</td>\n",
       "      <td>BallastHistorical, LadenHistorical</td>\n",
       "      <td>None</td>\n",
       "      <td>None</td>\n",
       "      <td>None</td>\n",
       "      <td>None</td>\n",
       "      <td>None</td>\n",
       "      <td>LadenHistorical</td>\n",
       "    </tr>\n",
       "    <tr>\n",
       "      <th>126</th>\n",
       "      <td>9293002</td>\n",
       "      <td>127</td>\n",
       "      <td>1</td>\n",
       "      <td>86</td>\n",
       "      <td>1</td>\n",
       "      <td>1597.0</td>\n",
       "      <td>False</td>\n",
       "      <td>(VoyageEvent(id='I8DCCCASEDE9BB300', voyage_id...</td>\n",
       "      <td>I8DCCCAVEDE9BB300</td>\n",
       "      <td>1</td>\n",
       "      <td>...</td>\n",
       "      <td>None</td>\n",
       "      <td>7956.52</td>\n",
       "      <td>NaN</td>\n",
       "      <td>BallastHistorical, LadenHistorical</td>\n",
       "      <td>None</td>\n",
       "      <td>None</td>\n",
       "      <td>None</td>\n",
       "      <td>None</td>\n",
       "      <td>None</td>\n",
       "      <td>LadenHistorical</td>\n",
       "    </tr>\n",
       "    <tr>\n",
       "      <th>127</th>\n",
       "      <td>9293002</td>\n",
       "      <td>128</td>\n",
       "      <td>1</td>\n",
       "      <td>86</td>\n",
       "      <td>1</td>\n",
       "      <td>1597.0</td>\n",
       "      <td>False</td>\n",
       "      <td>(VoyageEvent(id='I8DCCCASEDF125A00', voyage_id...</td>\n",
       "      <td>I8DCCCAVEDF125A00</td>\n",
       "      <td>1</td>\n",
       "      <td>...</td>\n",
       "      <td>None</td>\n",
       "      <td>7961.28</td>\n",
       "      <td>NaN</td>\n",
       "      <td>BallastHistorical, LadenHistorical</td>\n",
       "      <td>None</td>\n",
       "      <td>None</td>\n",
       "      <td>None</td>\n",
       "      <td>None</td>\n",
       "      <td>None</td>\n",
       "      <td>LadenHistorical</td>\n",
       "    </tr>\n",
       "    <tr>\n",
       "      <th>128</th>\n",
       "      <td>9293002</td>\n",
       "      <td>129</td>\n",
       "      <td>1</td>\n",
       "      <td>86</td>\n",
       "      <td>1</td>\n",
       "      <td>NaN</td>\n",
       "      <td>False</td>\n",
       "      <td>(VoyageEvent(id='I8DCCCASEDF617400', voyage_id...</td>\n",
       "      <td>I8DCCCAVEDF617400</td>\n",
       "      <td>1</td>\n",
       "      <td>...</td>\n",
       "      <td>None</td>\n",
       "      <td>5931.72</td>\n",
       "      <td>NaN</td>\n",
       "      <td>BallastHistorical, LadenHistorical</td>\n",
       "      <td>None</td>\n",
       "      <td>None</td>\n",
       "      <td>None</td>\n",
       "      <td>None</td>\n",
       "      <td>None</td>\n",
       "      <td>LadenHistorical</td>\n",
       "    </tr>\n",
       "    <tr>\n",
       "      <th>129</th>\n",
       "      <td>9293002</td>\n",
       "      <td>130</td>\n",
       "      <td>1</td>\n",
       "      <td>86</td>\n",
       "      <td>1</td>\n",
       "      <td>NaN</td>\n",
       "      <td>False</td>\n",
       "      <td>(VoyageEvent(id='I8DCCCASEDFD81B00', voyage_id...</td>\n",
       "      <td>I8DCCCAVEDFD81B00</td>\n",
       "      <td>2</td>\n",
       "      <td>...</td>\n",
       "      <td>None</td>\n",
       "      <td>63.37</td>\n",
       "      <td>726.43</td>\n",
       "      <td>None</td>\n",
       "      <td>None</td>\n",
       "      <td>None</td>\n",
       "      <td>None</td>\n",
       "      <td>None</td>\n",
       "      <td>None</td>\n",
       "      <td>None</td>\n",
       "    </tr>\n",
       "  </tbody>\n",
       "</table>\n",
       "<p>5 rows × 75 columns</p>\n",
       "</div>"
      ],
      "text/plain": [
       "         imo  voyage_number  vessel_type_id  vessel_class_id  \\\n",
       "125  9293002            126               1               86   \n",
       "126  9293002            127               1               86   \n",
       "127  9293002            128               1               86   \n",
       "128  9293002            129               1               86   \n",
       "129  9293002            130               1               86   \n",
       "\n",
       "     vessel_status_id  commercial_operator_id  deleted  \\\n",
       "125                 1                  1597.0    False   \n",
       "126                 1                  1597.0    False   \n",
       "127                 1                  1597.0    False   \n",
       "128                 1                     NaN    False   \n",
       "129                 1                     NaN    False   \n",
       "\n",
       "                                                events                 id  \\\n",
       "125  (VoyageEvent(id='I8DCCCASEDE4C9900', voyage_id...  I8DCCCAVEDE4C9900   \n",
       "126  (VoyageEvent(id='I8DCCCASEDE9BB300', voyage_id...  I8DCCCAVEDE9BB300   \n",
       "127  (VoyageEvent(id='I8DCCCASEDF125A00', voyage_id...  I8DCCCAVEDF125A00   \n",
       "128  (VoyageEvent(id='I8DCCCASEDF617400', voyage_id...  I8DCCCAVEDF617400   \n",
       "129  (VoyageEvent(id='I8DCCCASEDFD81B00', voyage_id...  I8DCCCAVEDFD81B00   \n",
       "\n",
       "     horizon_id  ... predicted_ballast_distance laden_distance  \\\n",
       "125           1  ...                       None        7915.09   \n",
       "126           1  ...                       None        7956.52   \n",
       "127           1  ...                       None        7961.28   \n",
       "128           1  ...                       None        5931.72   \n",
       "129           2  ...                       None          63.37   \n",
       "\n",
       "    predicted_laden_distance                       suez_crossing  \\\n",
       "125                      NaN  BallastHistorical, LadenHistorical   \n",
       "126                      NaN  BallastHistorical, LadenHistorical   \n",
       "127                      NaN  BallastHistorical, LadenHistorical   \n",
       "128                      NaN  BallastHistorical, LadenHistorical   \n",
       "129                   726.43                                None   \n",
       "\n",
       "    panama_crossing canakkale_crossing bosporus_crossing  \\\n",
       "125            None               None              None   \n",
       "126            None               None              None   \n",
       "127            None               None              None   \n",
       "128            None               None              None   \n",
       "129            None               None              None   \n",
       "\n",
       "     torres_strait_crossing magellan_strait_crossing  great_belt_crossing  \n",
       "125                    None                     None      LadenHistorical  \n",
       "126                    None                     None      LadenHistorical  \n",
       "127                    None                     None      LadenHistorical  \n",
       "128                    None                     None      LadenHistorical  \n",
       "129                    None                     None                 None  \n",
       "\n",
       "[5 rows x 75 columns]"
      ]
     },
     "execution_count": 6,
     "metadata": {},
     "output_type": "execute_result"
    }
   ],
   "source": [
    "vessel_voyages_df = pd.DataFrame([v.__dict__ for v in vessel_voyages])\n",
    "vessel_voyages_df.tail(5)"
   ]
  },
  {
   "cell_type": "code",
   "execution_count": 7,
   "metadata": {
    "id": "MEjdHQ3cOyvW",
    "outputId": "0f167ab2-b1d4-4663-b994-ad1ac06485ea",
    "pycharm": {
     "name": "#%%\n"
    }
   },
   "outputs": [
    {
     "data": {
      "text/html": [
       "<div>\n",
       "<style scoped>\n",
       "    .dataframe tbody tr th:only-of-type {\n",
       "        vertical-align: middle;\n",
       "    }\n",
       "\n",
       "    .dataframe tbody tr th {\n",
       "        vertical-align: top;\n",
       "    }\n",
       "\n",
       "    .dataframe thead th {\n",
       "        text-align: right;\n",
       "    }\n",
       "</style>\n",
       "<table border=\"1\" class=\"dataframe\">\n",
       "  <thead>\n",
       "    <tr style=\"text-align: right;\">\n",
       "      <th></th>\n",
       "      <th>id</th>\n",
       "      <th>voyage_id</th>\n",
       "      <th>event_type_id</th>\n",
       "      <th>event_type</th>\n",
       "      <th>event_horizon_id</th>\n",
       "      <th>event_horizon</th>\n",
       "      <th>purpose</th>\n",
       "      <th>event_date</th>\n",
       "      <th>arrival_date</th>\n",
       "      <th>sailing_date</th>\n",
       "      <th>...</th>\n",
       "      <th>area_idlevel2</th>\n",
       "      <th>area_name_level2</th>\n",
       "      <th>area_idlevel3</th>\n",
       "      <th>area_name_level3</th>\n",
       "      <th>low_ais_density</th>\n",
       "      <th>quantity</th>\n",
       "      <th>quantity_unit_id</th>\n",
       "      <th>quantity_unit</th>\n",
       "      <th>quantity_in_barrels</th>\n",
       "      <th>event_details</th>\n",
       "    </tr>\n",
       "  </thead>\n",
       "  <tbody>\n",
       "    <tr>\n",
       "      <th>724</th>\n",
       "      <td>I8DCCCATEDFDC0F80</td>\n",
       "      <td>None</td>\n",
       "      <td>0</td>\n",
       "      <td>Stop</td>\n",
       "      <td>0</td>\n",
       "      <td>Historical</td>\n",
       "      <td>Stop</td>\n",
       "      <td>NaT</td>\n",
       "      <td>2025-06-12 19:59:10+00:00</td>\n",
       "      <td>2025-06-21 19:59:47+00:00</td>\n",
       "      <td>...</td>\n",
       "      <td>103</td>\n",
       "      <td>Red Sea</td>\n",
       "      <td>84</td>\n",
       "      <td>East</td>\n",
       "      <td>None</td>\n",
       "      <td>NaN</td>\n",
       "      <td>NaN</td>\n",
       "      <td>None</td>\n",
       "      <td>NaN</td>\n",
       "      <td>(VoyageEventDetail(id='I8DCCCALEDFDC0F80', eve...</td>\n",
       "    </tr>\n",
       "    <tr>\n",
       "      <th>725</th>\n",
       "      <td>I8DCCCATEDFE54A00</td>\n",
       "      <td>None</td>\n",
       "      <td>1</td>\n",
       "      <td>PortCall</td>\n",
       "      <td>0</td>\n",
       "      <td>Historical</td>\n",
       "      <td>Discharge</td>\n",
       "      <td>NaT</td>\n",
       "      <td>2025-06-24 03:59:17+00:00</td>\n",
       "      <td>2025-06-24 06:55:48+00:00</td>\n",
       "      <td>...</td>\n",
       "      <td>103</td>\n",
       "      <td>Red Sea</td>\n",
       "      <td>84</td>\n",
       "      <td>East</td>\n",
       "      <td>None</td>\n",
       "      <td>102000.0</td>\n",
       "      <td>1.0</td>\n",
       "      <td>MetricTonnes</td>\n",
       "      <td>723115.0</td>\n",
       "      <td>(VoyageEventDetail(id='I8DCCCALEDFE54A00', eve...</td>\n",
       "    </tr>\n",
       "    <tr>\n",
       "      <th>726</th>\n",
       "      <td>I8DCCCASEDFD81B00</td>\n",
       "      <td>None</td>\n",
       "      <td>2</td>\n",
       "      <td>VoyageStart</td>\n",
       "      <td>0</td>\n",
       "      <td>Historical</td>\n",
       "      <td>Start</td>\n",
       "      <td>2025-06-24 06:55:48+00:00</td>\n",
       "      <td>NaT</td>\n",
       "      <td>NaT</td>\n",
       "      <td>...</td>\n",
       "      <td>103</td>\n",
       "      <td>Red Sea</td>\n",
       "      <td>84</td>\n",
       "      <td>East</td>\n",
       "      <td>None</td>\n",
       "      <td>NaN</td>\n",
       "      <td>NaN</td>\n",
       "      <td>None</td>\n",
       "      <td>NaN</td>\n",
       "      <td>None</td>\n",
       "    </tr>\n",
       "    <tr>\n",
       "      <th>727</th>\n",
       "      <td>I8DCCCATEDFF27900</td>\n",
       "      <td>None</td>\n",
       "      <td>1</td>\n",
       "      <td>PortCall</td>\n",
       "      <td>1</td>\n",
       "      <td>Current</td>\n",
       "      <td>Load</td>\n",
       "      <td>NaT</td>\n",
       "      <td>2025-07-02 03:52:30+00:00</td>\n",
       "      <td>2025-07-11 17:02:33.745000+00:00</td>\n",
       "      <td>...</td>\n",
       "      <td>25023</td>\n",
       "      <td>India / Pakistan</td>\n",
       "      <td>84</td>\n",
       "      <td>East</td>\n",
       "      <td>None</td>\n",
       "      <td>100000.0</td>\n",
       "      <td>1.0</td>\n",
       "      <td>MetricTonnes</td>\n",
       "      <td>724493.0</td>\n",
       "      <td>(VoyageEventDetail(id='I8DCCCALEDFF27900', eve...</td>\n",
       "    </tr>\n",
       "    <tr>\n",
       "      <th>728</th>\n",
       "      <td>I8DCCCATEDFFFA800</td>\n",
       "      <td>None</td>\n",
       "      <td>1</td>\n",
       "      <td>PortCall</td>\n",
       "      <td>2</td>\n",
       "      <td>Future</td>\n",
       "      <td>Discharge</td>\n",
       "      <td>NaT</td>\n",
       "      <td>2025-07-14 06:09:17.754000+00:00</td>\n",
       "      <td>2025-07-16 21:40:59.243000+00:00</td>\n",
       "      <td>...</td>\n",
       "      <td>25023</td>\n",
       "      <td>India / Pakistan</td>\n",
       "      <td>84</td>\n",
       "      <td>East</td>\n",
       "      <td>True</td>\n",
       "      <td>100000.0</td>\n",
       "      <td>1.0</td>\n",
       "      <td>MetricTonnes</td>\n",
       "      <td>724493.0</td>\n",
       "      <td>None</td>\n",
       "    </tr>\n",
       "  </tbody>\n",
       "</table>\n",
       "<p>5 rows × 33 columns</p>\n",
       "</div>"
      ],
      "text/plain": [
       "                    id voyage_id  event_type_id   event_type  \\\n",
       "724  I8DCCCATEDFDC0F80      None              0         Stop   \n",
       "725  I8DCCCATEDFE54A00      None              1     PortCall   \n",
       "726  I8DCCCASEDFD81B00      None              2  VoyageStart   \n",
       "727  I8DCCCATEDFF27900      None              1     PortCall   \n",
       "728  I8DCCCATEDFFFA800      None              1     PortCall   \n",
       "\n",
       "     event_horizon_id event_horizon    purpose                event_date  \\\n",
       "724                 0    Historical       Stop                       NaT   \n",
       "725                 0    Historical  Discharge                       NaT   \n",
       "726                 0    Historical      Start 2025-06-24 06:55:48+00:00   \n",
       "727                 1       Current       Load                       NaT   \n",
       "728                 2        Future  Discharge                       NaT   \n",
       "\n",
       "                        arrival_date                     sailing_date  ...  \\\n",
       "724        2025-06-12 19:59:10+00:00        2025-06-21 19:59:47+00:00  ...   \n",
       "725        2025-06-24 03:59:17+00:00        2025-06-24 06:55:48+00:00  ...   \n",
       "726                              NaT                              NaT  ...   \n",
       "727        2025-07-02 03:52:30+00:00 2025-07-11 17:02:33.745000+00:00  ...   \n",
       "728 2025-07-14 06:09:17.754000+00:00 2025-07-16 21:40:59.243000+00:00  ...   \n",
       "\n",
       "     area_idlevel2  area_name_level2  area_idlevel3 area_name_level3  \\\n",
       "724            103           Red Sea             84             East   \n",
       "725            103           Red Sea             84             East   \n",
       "726            103           Red Sea             84             East   \n",
       "727          25023  India / Pakistan             84             East   \n",
       "728          25023  India / Pakistan             84             East   \n",
       "\n",
       "     low_ais_density  quantity quantity_unit_id  quantity_unit  \\\n",
       "724             None       NaN              NaN           None   \n",
       "725             None  102000.0              1.0   MetricTonnes   \n",
       "726             None       NaN              NaN           None   \n",
       "727             None  100000.0              1.0   MetricTonnes   \n",
       "728             True  100000.0              1.0   MetricTonnes   \n",
       "\n",
       "    quantity_in_barrels                                      event_details  \n",
       "724                 NaN  (VoyageEventDetail(id='I8DCCCALEDFDC0F80', eve...  \n",
       "725            723115.0  (VoyageEventDetail(id='I8DCCCALEDFE54A00', eve...  \n",
       "726                 NaN                                               None  \n",
       "727            724493.0  (VoyageEventDetail(id='I8DCCCALEDFF27900', eve...  \n",
       "728            724493.0                                               None  \n",
       "\n",
       "[5 rows x 33 columns]"
      ]
     },
     "execution_count": 7,
     "metadata": {},
     "output_type": "execute_result"
    }
   ],
   "source": [
    "vessel_events_df = pd.DataFrame(e.__dict__ for voyage_events in vessel_voyages_df['events'] for e in voyage_events)\n",
    "vessel_events_df.tail(5)"
   ]
  },
  {
   "cell_type": "code",
   "execution_count": 8,
   "metadata": {
    "id": "FBsyOee5OyvW",
    "outputId": "438d0aea-53f4-4817-cc36-43e9ec82b142",
    "pycharm": {
     "name": "#%%\n"
    }
   },
   "outputs": [
    {
     "data": {
      "text/html": [
       "<div>\n",
       "<style scoped>\n",
       "    .dataframe tbody tr th:only-of-type {\n",
       "        vertical-align: middle;\n",
       "    }\n",
       "\n",
       "    .dataframe tbody tr th {\n",
       "        vertical-align: top;\n",
       "    }\n",
       "\n",
       "    .dataframe thead th {\n",
       "        text-align: right;\n",
       "    }\n",
       "</style>\n",
       "<table border=\"1\" class=\"dataframe\">\n",
       "  <thead>\n",
       "    <tr style=\"text-align: right;\">\n",
       "      <th></th>\n",
       "      <th>id</th>\n",
       "      <th>event_id</th>\n",
       "      <th>event_detail_type</th>\n",
       "      <th>arrival_date</th>\n",
       "      <th>sailing_date</th>\n",
       "      <th>start_time_of_operation</th>\n",
       "      <th>end_time_of_operation</th>\n",
       "      <th>sts_id</th>\n",
       "      <th>geo_asset_id</th>\n",
       "      <th>geo_asset_name</th>\n",
       "      <th>latitude</th>\n",
       "      <th>longitude</th>\n",
       "      <th>other_vessel_imo</th>\n",
       "      <th>other_vessel_name</th>\n",
       "      <th>floating_storage_start_date</th>\n",
       "      <th>floating_storage_duration</th>\n",
       "    </tr>\n",
       "  </thead>\n",
       "  <tbody>\n",
       "    <tr>\n",
       "      <th>622</th>\n",
       "      <td>I8DCCCALEDFBDBD00</td>\n",
       "      <td>None</td>\n",
       "      <td>Stop</td>\n",
       "      <td>2025-05-26 11:45:23+00:00</td>\n",
       "      <td>2025-05-26 15:59:20+00:00</td>\n",
       "      <td>NaT</td>\n",
       "      <td>NaT</td>\n",
       "      <td>None</td>\n",
       "      <td>4116</td>\n",
       "      <td>Paldiski Anchorage</td>\n",
       "      <td>59.1670</td>\n",
       "      <td>21.4375</td>\n",
       "      <td>NaN</td>\n",
       "      <td>None</td>\n",
       "      <td>NaT</td>\n",
       "      <td>NaN</td>\n",
       "    </tr>\n",
       "    <tr>\n",
       "      <th>623</th>\n",
       "      <td>I8DCCCALEDFD81B00</td>\n",
       "      <td>None</td>\n",
       "      <td>Stop</td>\n",
       "      <td>2025-06-11 11:55:25+00:00</td>\n",
       "      <td>2025-06-12 03:59:00+00:00</td>\n",
       "      <td>NaT</td>\n",
       "      <td>NaT</td>\n",
       "      <td>None</td>\n",
       "      <td>14573</td>\n",
       "      <td>Port Said Anchorage</td>\n",
       "      <td>31.4698</td>\n",
       "      <td>32.3213</td>\n",
       "      <td>NaN</td>\n",
       "      <td>None</td>\n",
       "      <td>NaT</td>\n",
       "      <td>NaN</td>\n",
       "    </tr>\n",
       "    <tr>\n",
       "      <th>624</th>\n",
       "      <td>I8DCCCALEDFDC0F80</td>\n",
       "      <td>None</td>\n",
       "      <td>Stop</td>\n",
       "      <td>2025-06-12 19:59:10+00:00</td>\n",
       "      <td>2025-06-21 19:59:47+00:00</td>\n",
       "      <td>NaT</td>\n",
       "      <td>NaT</td>\n",
       "      <td>None</td>\n",
       "      <td>14489</td>\n",
       "      <td>Suez Anchorage</td>\n",
       "      <td>29.7230</td>\n",
       "      <td>32.6030</td>\n",
       "      <td>NaN</td>\n",
       "      <td>None</td>\n",
       "      <td>2025-06-12 19:59:10+00:00</td>\n",
       "      <td>9.0</td>\n",
       "    </tr>\n",
       "    <tr>\n",
       "      <th>625</th>\n",
       "      <td>I8DCCCALEDFE54A00</td>\n",
       "      <td>None</td>\n",
       "      <td>StS</td>\n",
       "      <td>2025-06-24 03:59:17+00:00</td>\n",
       "      <td>2025-06-24 06:55:48+00:00</td>\n",
       "      <td>2025-06-24 03:59:17+00:00</td>\n",
       "      <td>2025-06-24 06:55:48+00:00</td>\n",
       "      <td>8CFD778DCCCA8DDB2D37D821880</td>\n",
       "      <td>4160</td>\n",
       "      <td>Marsa Barshayer Anchorage</td>\n",
       "      <td>19.3839</td>\n",
       "      <td>38.4933</td>\n",
       "      <td>9239927.0</td>\n",
       "      <td>Daffodil</td>\n",
       "      <td>NaT</td>\n",
       "      <td>NaN</td>\n",
       "    </tr>\n",
       "    <tr>\n",
       "      <th>626</th>\n",
       "      <td>I8DCCCALEDFF27900</td>\n",
       "      <td>None</td>\n",
       "      <td>Stop</td>\n",
       "      <td>2025-07-02 03:52:30+00:00</td>\n",
       "      <td>2025-07-09 09:41:36+00:00</td>\n",
       "      <td>NaT</td>\n",
       "      <td>NaT</td>\n",
       "      <td>None</td>\n",
       "      <td>5113</td>\n",
       "      <td>Jamnagar Refinery (Reliance)</td>\n",
       "      <td>22.6507</td>\n",
       "      <td>69.9005</td>\n",
       "      <td>NaN</td>\n",
       "      <td>None</td>\n",
       "      <td>NaT</td>\n",
       "      <td>NaN</td>\n",
       "    </tr>\n",
       "  </tbody>\n",
       "</table>\n",
       "</div>"
      ],
      "text/plain": [
       "                    id event_id event_detail_type              arrival_date  \\\n",
       "622  I8DCCCALEDFBDBD00     None              Stop 2025-05-26 11:45:23+00:00   \n",
       "623  I8DCCCALEDFD81B00     None              Stop 2025-06-11 11:55:25+00:00   \n",
       "624  I8DCCCALEDFDC0F80     None              Stop 2025-06-12 19:59:10+00:00   \n",
       "625  I8DCCCALEDFE54A00     None               StS 2025-06-24 03:59:17+00:00   \n",
       "626  I8DCCCALEDFF27900     None              Stop 2025-07-02 03:52:30+00:00   \n",
       "\n",
       "                 sailing_date   start_time_of_operation  \\\n",
       "622 2025-05-26 15:59:20+00:00                       NaT   \n",
       "623 2025-06-12 03:59:00+00:00                       NaT   \n",
       "624 2025-06-21 19:59:47+00:00                       NaT   \n",
       "625 2025-06-24 06:55:48+00:00 2025-06-24 03:59:17+00:00   \n",
       "626 2025-07-09 09:41:36+00:00                       NaT   \n",
       "\n",
       "        end_time_of_operation                       sts_id  geo_asset_id  \\\n",
       "622                       NaT                         None          4116   \n",
       "623                       NaT                         None         14573   \n",
       "624                       NaT                         None         14489   \n",
       "625 2025-06-24 06:55:48+00:00  8CFD778DCCCA8DDB2D37D821880          4160   \n",
       "626                       NaT                         None          5113   \n",
       "\n",
       "                   geo_asset_name  latitude  longitude  other_vessel_imo  \\\n",
       "622            Paldiski Anchorage   59.1670    21.4375               NaN   \n",
       "623           Port Said Anchorage   31.4698    32.3213               NaN   \n",
       "624                Suez Anchorage   29.7230    32.6030               NaN   \n",
       "625     Marsa Barshayer Anchorage   19.3839    38.4933         9239927.0   \n",
       "626  Jamnagar Refinery (Reliance)   22.6507    69.9005               NaN   \n",
       "\n",
       "    other_vessel_name floating_storage_start_date  floating_storage_duration  \n",
       "622              None                         NaT                        NaN  \n",
       "623              None                         NaT                        NaN  \n",
       "624              None   2025-06-12 19:59:10+00:00                        9.0  \n",
       "625          Daffodil                         NaT                        NaN  \n",
       "626              None                         NaT                        NaN  "
      ]
     },
     "execution_count": 8,
     "metadata": {},
     "output_type": "execute_result"
    }
   ],
   "source": [
    "vessel_event_details_df = pd.DataFrame(e.__dict__ for event_details in vessel_events_df['event_details'] for e in event_details or [])\n",
    "vessel_event_details_df.tail(5)"
   ]
  },
  {
   "cell_type": "markdown",
   "metadata": {
    "id": "PZA3IrDHOyvY",
    "pycharm": {
     "name": "#%% md\n"
    }
   },
   "source": [
    "### Get voyages for vessel class"
   ]
  },
  {
   "cell_type": "code",
   "execution_count": 9,
   "metadata": {
    "colab": {
     "base_uri": "https://localhost:8080/"
    },
    "id": "anZJAWDBQwt4",
    "outputId": "b5f4bbb2-edeb-478b-f250-9b3ee2339275",
    "pycharm": {
     "name": "#%%\n"
    }
   },
   "outputs": [
    {
     "data": {
      "text/plain": [
       "84"
      ]
     },
     "execution_count": 9,
     "metadata": {},
     "output_type": "execute_result"
    }
   ],
   "source": [
    "#get vessel class id for vlcc\n",
    "vc = api.get_vessel_classes(VesselClassFilter('vlcc'))[0]\n",
    "vlcc_id = vc.vessel_class_id\n",
    "vlcc_id"
   ]
  },
  {
   "cell_type": "code",
   "execution_count": 10,
   "metadata": {
    "id": "U6U3qvJyOyvY",
    "pycharm": {
     "name": "#%%\n"
    }
   },
   "outputs": [],
   "source": [
    "date_from = date.today() - timedelta(days=30)\n",
    "recent_vlcc_voyages = api.get_voyages(vessel_class_id=vlcc_id, date_from=date_from)"
   ]
  },
  {
   "cell_type": "code",
   "execution_count": 11,
   "metadata": {
    "id": "YDI7YTy9OyvZ",
    "outputId": "d6923ce4-a1e3-40ae-e71a-5cde311247a5",
    "pycharm": {
     "name": "#%%\n"
    },
    "scrolled": true
   },
   "outputs": [
    {
     "data": {
      "text/html": [
       "<div>\n",
       "<style scoped>\n",
       "    .dataframe tbody tr th:only-of-type {\n",
       "        vertical-align: middle;\n",
       "    }\n",
       "\n",
       "    .dataframe tbody tr th {\n",
       "        vertical-align: top;\n",
       "    }\n",
       "\n",
       "    .dataframe thead th {\n",
       "        text-align: right;\n",
       "    }\n",
       "</style>\n",
       "<table border=\"1\" class=\"dataframe\">\n",
       "  <thead>\n",
       "    <tr style=\"text-align: right;\">\n",
       "      <th></th>\n",
       "      <th>imo</th>\n",
       "      <th>voyage_number</th>\n",
       "      <th>vessel_type_id</th>\n",
       "      <th>vessel_class_id</th>\n",
       "      <th>vessel_status_id</th>\n",
       "      <th>commercial_operator_id</th>\n",
       "      <th>deleted</th>\n",
       "      <th>events</th>\n",
       "      <th>id</th>\n",
       "      <th>horizon_id</th>\n",
       "      <th>...</th>\n",
       "      <th>predicted_ballast_distance</th>\n",
       "      <th>laden_distance</th>\n",
       "      <th>predicted_laden_distance</th>\n",
       "      <th>suez_crossing</th>\n",
       "      <th>panama_crossing</th>\n",
       "      <th>canakkale_crossing</th>\n",
       "      <th>bosporus_crossing</th>\n",
       "      <th>torres_strait_crossing</th>\n",
       "      <th>magellan_strait_crossing</th>\n",
       "      <th>great_belt_crossing</th>\n",
       "    </tr>\n",
       "  </thead>\n",
       "  <tbody>\n",
       "    <tr>\n",
       "      <th>395</th>\n",
       "      <td>9933652</td>\n",
       "      <td>15</td>\n",
       "      <td>1</td>\n",
       "      <td>84</td>\n",
       "      <td>1</td>\n",
       "      <td>558.0</td>\n",
       "      <td>False</td>\n",
       "      <td>(VoyageEvent(id='I97935454SEDFD81B00', voyage_...</td>\n",
       "      <td>I97935454VEDFD81B00</td>\n",
       "      <td>2</td>\n",
       "      <td>...</td>\n",
       "      <td>2267.48</td>\n",
       "      <td>NaN</td>\n",
       "      <td>9624.93</td>\n",
       "      <td>None</td>\n",
       "      <td>None</td>\n",
       "      <td>None</td>\n",
       "      <td>None</td>\n",
       "      <td>None</td>\n",
       "      <td>None</td>\n",
       "      <td>None</td>\n",
       "    </tr>\n",
       "    <tr>\n",
       "      <th>396</th>\n",
       "      <td>9937799</td>\n",
       "      <td>7</td>\n",
       "      <td>1</td>\n",
       "      <td>84</td>\n",
       "      <td>1</td>\n",
       "      <td>1031.0</td>\n",
       "      <td>False</td>\n",
       "      <td>(VoyageEvent(id='I97A38754SEDFD81B00', voyage_...</td>\n",
       "      <td>I97A38754VEDFD81B00</td>\n",
       "      <td>2</td>\n",
       "      <td>...</td>\n",
       "      <td>NaN</td>\n",
       "      <td>NaN</td>\n",
       "      <td>NaN</td>\n",
       "      <td>None</td>\n",
       "      <td>None</td>\n",
       "      <td>None</td>\n",
       "      <td>None</td>\n",
       "      <td>None</td>\n",
       "      <td>BallastHistorical</td>\n",
       "      <td>None</td>\n",
       "    </tr>\n",
       "    <tr>\n",
       "      <th>397</th>\n",
       "      <td>9941673</td>\n",
       "      <td>15</td>\n",
       "      <td>1</td>\n",
       "      <td>84</td>\n",
       "      <td>1</td>\n",
       "      <td>2236.0</td>\n",
       "      <td>False</td>\n",
       "      <td>(VoyageEvent(id='I97B2A954SEDFD81B00', voyage_...</td>\n",
       "      <td>I97B2A954VEDFD81B00</td>\n",
       "      <td>2</td>\n",
       "      <td>...</td>\n",
       "      <td>NaN</td>\n",
       "      <td>8.8</td>\n",
       "      <td>6475.67</td>\n",
       "      <td>None</td>\n",
       "      <td>None</td>\n",
       "      <td>None</td>\n",
       "      <td>None</td>\n",
       "      <td>None</td>\n",
       "      <td>None</td>\n",
       "      <td>None</td>\n",
       "    </tr>\n",
       "    <tr>\n",
       "      <th>398</th>\n",
       "      <td>9988695</td>\n",
       "      <td>1</td>\n",
       "      <td>1</td>\n",
       "      <td>84</td>\n",
       "      <td>1</td>\n",
       "      <td>NaN</td>\n",
       "      <td>False</td>\n",
       "      <td>(VoyageEvent(id='I986A5754SEDFD81B00', voyage_...</td>\n",
       "      <td>I986A5754VEDFD81B00</td>\n",
       "      <td>2</td>\n",
       "      <td>...</td>\n",
       "      <td>NaN</td>\n",
       "      <td>NaN</td>\n",
       "      <td>NaN</td>\n",
       "      <td>None</td>\n",
       "      <td>None</td>\n",
       "      <td>None</td>\n",
       "      <td>None</td>\n",
       "      <td>None</td>\n",
       "      <td>None</td>\n",
       "      <td>None</td>\n",
       "    </tr>\n",
       "    <tr>\n",
       "      <th>399</th>\n",
       "      <td>1037048</td>\n",
       "      <td>1</td>\n",
       "      <td>1</td>\n",
       "      <td>84</td>\n",
       "      <td>1</td>\n",
       "      <td>435.0</td>\n",
       "      <td>False</td>\n",
       "      <td>(VoyageEvent(id='IFD2F854SEDFD81B00', voyage_i...</td>\n",
       "      <td>IFD2F854VEDFD81B00</td>\n",
       "      <td>2</td>\n",
       "      <td>...</td>\n",
       "      <td>45.68</td>\n",
       "      <td>NaN</td>\n",
       "      <td>NaN</td>\n",
       "      <td>None</td>\n",
       "      <td>None</td>\n",
       "      <td>None</td>\n",
       "      <td>None</td>\n",
       "      <td>None</td>\n",
       "      <td>None</td>\n",
       "      <td>None</td>\n",
       "    </tr>\n",
       "  </tbody>\n",
       "</table>\n",
       "<p>5 rows × 75 columns</p>\n",
       "</div>"
      ],
      "text/plain": [
       "         imo  voyage_number  vessel_type_id  vessel_class_id  \\\n",
       "395  9933652             15               1               84   \n",
       "396  9937799              7               1               84   \n",
       "397  9941673             15               1               84   \n",
       "398  9988695              1               1               84   \n",
       "399  1037048              1               1               84   \n",
       "\n",
       "     vessel_status_id  commercial_operator_id  deleted  \\\n",
       "395                 1                   558.0    False   \n",
       "396                 1                  1031.0    False   \n",
       "397                 1                  2236.0    False   \n",
       "398                 1                     NaN    False   \n",
       "399                 1                   435.0    False   \n",
       "\n",
       "                                                events                   id  \\\n",
       "395  (VoyageEvent(id='I97935454SEDFD81B00', voyage_...  I97935454VEDFD81B00   \n",
       "396  (VoyageEvent(id='I97A38754SEDFD81B00', voyage_...  I97A38754VEDFD81B00   \n",
       "397  (VoyageEvent(id='I97B2A954SEDFD81B00', voyage_...  I97B2A954VEDFD81B00   \n",
       "398  (VoyageEvent(id='I986A5754SEDFD81B00', voyage_...  I986A5754VEDFD81B00   \n",
       "399  (VoyageEvent(id='IFD2F854SEDFD81B00', voyage_i...   IFD2F854VEDFD81B00   \n",
       "\n",
       "     horizon_id  ... predicted_ballast_distance laden_distance  \\\n",
       "395           2  ...                    2267.48            NaN   \n",
       "396           2  ...                        NaN            NaN   \n",
       "397           2  ...                        NaN            8.8   \n",
       "398           2  ...                        NaN            NaN   \n",
       "399           2  ...                      45.68            NaN   \n",
       "\n",
       "    predicted_laden_distance suez_crossing panama_crossing canakkale_crossing  \\\n",
       "395                  9624.93          None            None               None   \n",
       "396                      NaN          None            None               None   \n",
       "397                  6475.67          None            None               None   \n",
       "398                      NaN          None            None               None   \n",
       "399                      NaN          None            None               None   \n",
       "\n",
       "    bosporus_crossing  torres_strait_crossing magellan_strait_crossing  \\\n",
       "395              None                    None                     None   \n",
       "396              None                    None        BallastHistorical   \n",
       "397              None                    None                     None   \n",
       "398              None                    None                     None   \n",
       "399              None                    None                     None   \n",
       "\n",
       "     great_belt_crossing  \n",
       "395                 None  \n",
       "396                 None  \n",
       "397                 None  \n",
       "398                 None  \n",
       "399                 None  \n",
       "\n",
       "[5 rows x 75 columns]"
      ]
     },
     "execution_count": 11,
     "metadata": {},
     "output_type": "execute_result"
    }
   ],
   "source": [
    "recent_vlcc_voyages = pd.DataFrame([v.__dict__ for v in recent_vlcc_voyages])\n",
    "recent_vlcc_voyages.tail(5)"
   ]
  },
  {
   "cell_type": "markdown",
   "metadata": {
    "id": "Lf8nvgtXOyvZ",
    "pycharm": {
     "name": "#%% md\n"
    }
   },
   "source": [
    "### Get voyages for vessel in flat format"
   ]
  },
  {
   "cell_type": "code",
   "execution_count": 12,
   "metadata": {
    "colab": {
     "base_uri": "https://localhost:8080/"
    },
    "id": "wOvAcRnrRWTK",
    "outputId": "15308ea2-4d85-4b1e-85ed-d22104ba4e7f",
    "pycharm": {
     "name": "#%%\n"
    }
   },
   "outputs": [
    {
     "data": {
      "text/plain": [
       "Vessel(imo=1013494, vessel_name='Sea Energy')"
      ]
     },
     "execution_count": 12,
     "metadata": {},
     "output_type": "execute_result"
    }
   ],
   "source": [
    "# get the imo by using the vessel name\n",
    "vessel = api.get_imos(VesselFilter('Sea'))[0]\n",
    "vessel"
   ]
  },
  {
   "cell_type": "code",
   "execution_count": 13,
   "metadata": {
    "id": "5GL354yQOyvZ",
    "pycharm": {
     "name": "#%%\n"
    }
   },
   "outputs": [],
   "source": [
    "vessel_voyages_flat = api.get_voyages_flat(imo=vessel.imo)"
   ]
  },
  {
   "cell_type": "code",
   "execution_count": 14,
   "metadata": {
    "id": "eomp96KPOyva",
    "outputId": "ceb37f6c-c28a-4253-b3c4-9ff06a4244d9",
    "pycharm": {
     "name": "#%%\n"
    }
   },
   "outputs": [
    {
     "data": {
      "text/html": [
       "<div>\n",
       "<style scoped>\n",
       "    .dataframe tbody tr th:only-of-type {\n",
       "        vertical-align: middle;\n",
       "    }\n",
       "\n",
       "    .dataframe tbody tr th {\n",
       "        vertical-align: top;\n",
       "    }\n",
       "\n",
       "    .dataframe thead th {\n",
       "        text-align: right;\n",
       "    }\n",
       "</style>\n",
       "<table border=\"1\" class=\"dataframe\">\n",
       "  <thead>\n",
       "    <tr style=\"text-align: right;\">\n",
       "      <th></th>\n",
       "    </tr>\n",
       "  </thead>\n",
       "  <tbody>\n",
       "  </tbody>\n",
       "</table>\n",
       "</div>"
      ],
      "text/plain": [
       "Empty DataFrame\n",
       "Columns: []\n",
       "Index: []"
      ]
     },
     "execution_count": 14,
     "metadata": {},
     "output_type": "execute_result"
    }
   ],
   "source": [
    "vessel_voyages_df = pd.DataFrame(v.__dict__ for v in vessel_voyages_flat.voyages)\n",
    "vessel_voyages_df.tail(5)"
   ]
  },
  {
   "cell_type": "code",
   "execution_count": 15,
   "metadata": {
    "id": "ztvF1PRTOyva",
    "outputId": "878ee026-13ab-4fd6-93ec-df2aab28618d",
    "pycharm": {
     "name": "#%%\n"
    }
   },
   "outputs": [
    {
     "data": {
      "text/html": [
       "<div>\n",
       "<style scoped>\n",
       "    .dataframe tbody tr th:only-of-type {\n",
       "        vertical-align: middle;\n",
       "    }\n",
       "\n",
       "    .dataframe tbody tr th {\n",
       "        vertical-align: top;\n",
       "    }\n",
       "\n",
       "    .dataframe thead th {\n",
       "        text-align: right;\n",
       "    }\n",
       "</style>\n",
       "<table border=\"1\" class=\"dataframe\">\n",
       "  <thead>\n",
       "    <tr style=\"text-align: right;\">\n",
       "      <th></th>\n",
       "    </tr>\n",
       "  </thead>\n",
       "  <tbody>\n",
       "  </tbody>\n",
       "</table>\n",
       "</div>"
      ],
      "text/plain": [
       "Empty DataFrame\n",
       "Columns: []\n",
       "Index: []"
      ]
     },
     "execution_count": 15,
     "metadata": {},
     "output_type": "execute_result"
    }
   ],
   "source": [
    "vessel_events_df = pd.DataFrame(v.__dict__ for v in vessel_voyages_flat.events)\n",
    "vessel_events_df.tail(5)"
   ]
  },
  {
   "cell_type": "code",
   "execution_count": 16,
   "metadata": {
    "id": "PklwbZAvOyva",
    "outputId": "b20a7939-012c-4f1f-f5da-f2567c91939e",
    "pycharm": {
     "name": "#%%\n"
    }
   },
   "outputs": [
    {
     "data": {
      "text/html": [
       "<div>\n",
       "<style scoped>\n",
       "    .dataframe tbody tr th:only-of-type {\n",
       "        vertical-align: middle;\n",
       "    }\n",
       "\n",
       "    .dataframe tbody tr th {\n",
       "        vertical-align: top;\n",
       "    }\n",
       "\n",
       "    .dataframe thead th {\n",
       "        text-align: right;\n",
       "    }\n",
       "</style>\n",
       "<table border=\"1\" class=\"dataframe\">\n",
       "  <thead>\n",
       "    <tr style=\"text-align: right;\">\n",
       "      <th></th>\n",
       "    </tr>\n",
       "  </thead>\n",
       "  <tbody>\n",
       "  </tbody>\n",
       "</table>\n",
       "</div>"
      ],
      "text/plain": [
       "Empty DataFrame\n",
       "Columns: []\n",
       "Index: []"
      ]
     },
     "execution_count": 16,
     "metadata": {},
     "output_type": "execute_result"
    }
   ],
   "source": [
    "vessel_event_details_df = pd.DataFrame(v.__dict__ for v in vessel_voyages_flat.event_details)\n",
    "vessel_event_details_df.tail(5)"
   ]
  },
  {
   "cell_type": "code",
   "execution_count": 17,
   "metadata": {
    "id": "Rj2ZAg3_Oyvb",
    "outputId": "35a71f08-d78d-411e-cf3a-76ee77287a35",
    "pycharm": {
     "name": "#%%\n"
    }
   },
   "outputs": [
    {
     "data": {
      "text/html": [
       "<div>\n",
       "<style scoped>\n",
       "    .dataframe tbody tr th:only-of-type {\n",
       "        vertical-align: middle;\n",
       "    }\n",
       "\n",
       "    .dataframe tbody tr th {\n",
       "        vertical-align: top;\n",
       "    }\n",
       "\n",
       "    .dataframe thead th {\n",
       "        text-align: right;\n",
       "    }\n",
       "</style>\n",
       "<table border=\"1\" class=\"dataframe\">\n",
       "  <thead>\n",
       "    <tr style=\"text-align: right;\">\n",
       "      <th></th>\n",
       "    </tr>\n",
       "  </thead>\n",
       "  <tbody>\n",
       "  </tbody>\n",
       "</table>\n",
       "</div>"
      ],
      "text/plain": [
       "Empty DataFrame\n",
       "Columns: []\n",
       "Index: []"
      ]
     },
     "execution_count": 17,
     "metadata": {},
     "output_type": "execute_result"
    }
   ],
   "source": [
    "vessel_voyages_geos_df = pd.DataFrame(v.__dict__ for v in vessel_voyages_flat.geos)\n",
    "vessel_voyages_geos_df.tail(5)"
   ]
  },
  {
   "cell_type": "markdown",
   "metadata": {
    "id": "KosfTNj0Oyvb",
    "pycharm": {
     "name": "#%% md\n"
    }
   },
   "source": [
    "### Get voyages for vessel class in the flat format"
   ]
  },
  {
   "cell_type": "code",
   "execution_count": 18,
   "metadata": {
    "id": "kCud5NPqOyvb",
    "pycharm": {
     "name": "#%%\n"
    }
   },
   "outputs": [],
   "source": [
    "#get vessel class id for vlcc\n",
    "vc = api.get_vessel_classes(VesselClassFilter('vlcc'))[0]\n",
    "vlcc_id = vc.vessel_class_id\n",
    "\n",
    "date_from = date.today() - timedelta(days=30)\n",
    "recent_vlcc_voyages_flat = api.get_voyages_flat(vessel_class_id=vlcc_id, date_from=date_from)"
   ]
  },
  {
   "cell_type": "code",
   "execution_count": 19,
   "metadata": {
    "colab": {
     "base_uri": "https://localhost:8080/"
    },
    "id": "bQwUf_ItOyvb",
    "outputId": "117a5582-d5b9-48de-9946-1806509a805d",
    "pycharm": {
     "name": "#%%\n"
    }
   },
   "outputs": [
    {
     "name": "stdout",
     "output_type": "stream",
     "text": [
      "Voyages: 400\n",
      "Events: 1357\n",
      "EventDetails: 483\n",
      "Geos: 288\n"
     ]
    }
   ],
   "source": [
    "print('Voyages:', len(recent_vlcc_voyages_flat.voyages))\n",
    "print('Events:', len(recent_vlcc_voyages_flat.events))\n",
    "print('EventDetails:', len(recent_vlcc_voyages_flat.event_details))\n",
    "print('Geos:', len(recent_vlcc_voyages_flat.geos))"
   ]
  },
  {
   "cell_type": "markdown",
   "metadata": {
    "id": "-mLcTt21Oyvc",
    "pycharm": {
     "name": "#%% md\n"
    }
   },
   "source": [
    "### Get voyages for vessel incrementally "
   ]
  },
  {
   "cell_type": "markdown",
   "metadata": {
    "id": "rTgyj0MnOyvc",
    "pycharm": {
     "name": "#%% md\n"
    }
   },
   "source": [
    "Initial requests retrieves voyages mathcing the query criteria and a query token that can be used in the subsequent request."
   ]
  },
  {
   "cell_type": "code",
   "execution_count": 20,
   "metadata": {
    "colab": {
     "base_uri": "https://localhost:8080/"
    },
    "id": "RsFqB1r_Rl-L",
    "outputId": "bda75918-067e-4cd6-f0f7-9af0c0d59f7d",
    "pycharm": {
     "name": "#%%\n"
    }
   },
   "outputs": [
    {
     "data": {
      "text/plain": [
       "Vessel(imo=9416642, vessel_name='Xin Yong Yang')"
      ]
     },
     "execution_count": 20,
     "metadata": {},
     "output_type": "execute_result"
    }
   ],
   "source": [
    "# get the imo by using the vessel name\n",
    "vessel = api.get_imos(VesselFilter('XIN YONG YANG'))[0]\n",
    "vessel"
   ]
  },
  {
   "cell_type": "code",
   "execution_count": 21,
   "metadata": {
    "colab": {
     "base_uri": "https://localhost:8080/"
    },
    "id": "A4QIdI9DOyvc",
    "outputId": "4beee3d2-7273-4732-bc90-c722d21f7e19",
    "pycharm": {
     "name": "#%%\n"
    }
   },
   "outputs": [
    {
     "data": {
      "text/plain": [
       "92"
      ]
     },
     "execution_count": 21,
     "metadata": {},
     "output_type": "execute_result"
    }
   ],
   "source": [
    "vessel_voyages, next_request_token = api.get_incremental_voyages(imo=vessel.imo)\n",
    "len(vessel_voyages)"
   ]
  },
  {
   "cell_type": "markdown",
   "metadata": {
    "id": "PO1euHByOyvc",
    "pycharm": {
     "name": "#%% md\n"
    }
   },
   "source": [
    "Provided the token retrieved for the previous request, the subsequent request retrieves only voyages that have been updated since the previous request. "
   ]
  },
  {
   "cell_type": "code",
   "execution_count": 22,
   "metadata": {
    "id": "qmVQVvyrOyvc",
    "outputId": "344ffec4-6ab9-4357-ca19-a4fdfb9078b3",
    "pycharm": {
     "name": "#%%\n"
    }
   },
   "outputs": [
    {
     "data": {
      "text/plain": [
       "0"
      ]
     },
     "execution_count": 22,
     "metadata": {},
     "output_type": "execute_result"
    }
   ],
   "source": [
    "incremental_voyages, next_request_token = api.get_incremental_voyages(imo=9416642, incremental_token=next_request_token)\n",
    "len(incremental_voyages)"
   ]
  },
  {
   "cell_type": "markdown",
   "metadata": {
    "id": "uehO3EAYOyvd",
    "pycharm": {
     "name": "#%% md\n"
    }
   },
   "source": [
    "The retrieved information is used to replace any modify voyages from the dataset. Note that returned voyages marked as deleted are only used to filter out voyages. "
   ]
  },
  {
   "cell_type": "code",
   "execution_count": 23,
   "metadata": {
    "id": "xA1FkflhOyvd",
    "outputId": "0c859de7-bd80-4ecf-f549-73eae3029e46",
    "pycharm": {
     "name": "#%%\n"
    }
   },
   "outputs": [
    {
     "data": {
      "text/plain": [
       "92"
      ]
     },
     "execution_count": 23,
     "metadata": {},
     "output_type": "execute_result"
    }
   ],
   "source": [
    "updated_voyage_ids = set(v.id for v in incremental_voyages)\n",
    "vessel_voyages = [v for v in vessel_voyages if v.id not in updated_voyage_ids]\n",
    "new_vessel_voyages = [v for v in incremental_voyages if not v.deleted]\n",
    "vessel_voyages = sorted(vessel_voyages + new_vessel_voyages, key= lambda v: v.voyage_number)\n",
    "len(vessel_voyages)"
   ]
  },
  {
   "cell_type": "markdown",
   "metadata": {
    "id": "OWOaKgomOyvd",
    "pycharm": {
     "name": "#%% md\n"
    }
   },
   "source": [
    "### Get voyages for vessel class incrementally "
   ]
  },
  {
   "cell_type": "markdown",
   "metadata": {
    "id": "EuJdS_MdOyvd",
    "pycharm": {
     "name": "#%% md\n"
    }
   },
   "source": [
    "Voyages for vessel class are retieved and updated in the same way incrementally."
   ]
  },
  {
   "cell_type": "code",
   "execution_count": 24,
   "metadata": {
    "colab": {
     "base_uri": "https://localhost:8080/"
    },
    "id": "aaKjySklR9Pv",
    "outputId": "e2d82fc0-2efc-4468-daa8-1867d7d682c5",
    "pycharm": {
     "name": "#%%\n"
    }
   },
   "outputs": [
    {
     "data": {
      "text/plain": [
       "84"
      ]
     },
     "execution_count": 24,
     "metadata": {},
     "output_type": "execute_result"
    }
   ],
   "source": [
    "#get vessel class id for vlcc\n",
    "vc = api.get_vessel_classes(VesselClassFilter('vlcc'))[0]\n",
    "vessel_class_id = vc.vessel_class_id\n",
    "vessel_class_id"
   ]
  },
  {
   "cell_type": "code",
   "execution_count": 25,
   "metadata": {
    "id": "hoDG2TrAOyvd",
    "pycharm": {
     "name": "#%%\n"
    }
   },
   "outputs": [],
   "source": [
    "date_from = date.today() - timedelta(days=30)"
   ]
  },
  {
   "cell_type": "code",
   "execution_count": 26,
   "metadata": {
    "id": "u-NrM_yFOyve",
    "outputId": "40a6b456-8a83-4e8e-f45a-757b990258c9",
    "pycharm": {
     "name": "#%%\n"
    }
   },
   "outputs": [
    {
     "data": {
      "text/plain": [
       "400"
      ]
     },
     "execution_count": 26,
     "metadata": {},
     "output_type": "execute_result"
    }
   ],
   "source": [
    "voyages, next_request_token = api.get_incremental_voyages(vessel_class_id=vessel_class_id, date_from=date_from)\n",
    "len(voyages)"
   ]
  },
  {
   "cell_type": "code",
   "execution_count": 27,
   "metadata": {
    "id": "NteLP5YGOyve",
    "outputId": "8165a9aa-d7bd-45d0-ea49-e211a144cf44",
    "pycharm": {
     "name": "#%%\n"
    }
   },
   "outputs": [
    {
     "data": {
      "text/plain": [
       "0"
      ]
     },
     "execution_count": 27,
     "metadata": {},
     "output_type": "execute_result"
    }
   ],
   "source": [
    "incremental_voyages, next_request_token = api.get_incremental_voyages(vessel_class_id=vessel_class_id, date_from=date_from, incremental_token=next_request_token)\n",
    "len(incremental_voyages)"
   ]
  },
  {
   "cell_type": "code",
   "execution_count": 28,
   "metadata": {
    "id": "EnhF_D7oOyve",
    "outputId": "dbc6d5ae-abc1-4374-d4f1-d81468496a78",
    "pycharm": {
     "name": "#%%\n"
    }
   },
   "outputs": [
    {
     "data": {
      "text/plain": [
       "400"
      ]
     },
     "execution_count": 28,
     "metadata": {},
     "output_type": "execute_result"
    }
   ],
   "source": [
    "updated_voyage_ids = set(v.id for v in incremental_voyages)\n",
    "voyages = [v for v in voyages if v.id not in updated_voyage_ids and not v.deleted]\n",
    "new_voyages = [v for v in incremental_voyages if not v.deleted]\n",
    "voyages = sorted(voyages + new_voyages, key= lambda v: (v.imo, v.voyage_number))\n",
    "len(voyages)"
   ]
  },
  {
   "cell_type": "markdown",
   "metadata": {
    "id": "7Z90cXUMOyve",
    "pycharm": {
     "name": "#%% md\n"
    }
   },
   "source": [
    "### Get voyages for vessel class incrementally in the flat format"
   ]
  },
  {
   "cell_type": "markdown",
   "metadata": {
    "id": "CDfq-d7IOyvg",
    "pycharm": {
     "name": "#%% md\n"
    }
   },
   "source": [
    "Voyages may be retrieved and updated incrementally in the flat format. "
   ]
  },
  {
   "cell_type": "code",
   "execution_count": 29,
   "metadata": {
    "colab": {
     "base_uri": "https://localhost:8080/"
    },
    "id": "bTK4pOcRSCss",
    "outputId": "9b404040-5026-40a6-ad88-08c286eb0792",
    "pycharm": {
     "name": "#%%\n"
    }
   },
   "outputs": [
    {
     "data": {
      "text/plain": [
       "84"
      ]
     },
     "execution_count": 29,
     "metadata": {},
     "output_type": "execute_result"
    }
   ],
   "source": [
    "#get vessel class id for vlcc\n",
    "vc = api.get_vessel_classes(VesselClassFilter('vlcc'))[0]\n",
    "vessel_class_id = vc.vessel_class_id\n",
    "vessel_class_id"
   ]
  },
  {
   "cell_type": "code",
   "execution_count": 30,
   "metadata": {
    "id": "GuHVwQc8Oyvg",
    "pycharm": {
     "name": "#%%\n"
    }
   },
   "outputs": [],
   "source": [
    "date_from = date.today() - timedelta(days=30)"
   ]
  },
  {
   "cell_type": "code",
   "execution_count": 31,
   "metadata": {
    "id": "IJIWwU7sOyvg",
    "pycharm": {
     "name": "#%%\n"
    }
   },
   "outputs": [],
   "source": [
    "voyages_flat, next_request_token = api.get_incremental_voyages_flat(vessel_class_id=vessel_class_id, date_from=date_from)"
   ]
  },
  {
   "cell_type": "code",
   "execution_count": 32,
   "metadata": {
    "id": "9Py1NwlNOyvg",
    "pycharm": {
     "name": "#%%\n"
    }
   },
   "outputs": [],
   "source": [
    "voyages = voyages_flat.voyages\n",
    "events = voyages_flat.events\n",
    "event_details = voyages_flat.event_details\n",
    "geos = voyages_flat.geos"
   ]
  },
  {
   "cell_type": "code",
   "execution_count": 33,
   "metadata": {
    "id": "Jy3B4gg9Oyvg",
    "outputId": "e66bfa84-49f4-40a7-f6e8-bd29ffaf1918",
    "pycharm": {
     "name": "#%%\n"
    }
   },
   "outputs": [
    {
     "data": {
      "text/plain": [
       "(400, 1357, 483, 288)"
      ]
     },
     "execution_count": 33,
     "metadata": {},
     "output_type": "execute_result"
    }
   ],
   "source": [
    "len(voyages), len(events), len(event_details), len(geos)"
   ]
  },
  {
   "cell_type": "code",
   "execution_count": 34,
   "metadata": {
    "id": "LbnYof4VOyvh",
    "pycharm": {
     "name": "#%%\n"
    }
   },
   "outputs": [],
   "source": [
    "incremental_voyages_flat, next_request_token = api.get_incremental_voyages_flat(vessel_class_id=vessel_class_id, date_from=date_from, incremental_token=next_request_token)"
   ]
  },
  {
   "cell_type": "code",
   "execution_count": 35,
   "metadata": {
    "id": "cXpOEn0uOyvh",
    "outputId": "8cf171cf-4703-4b31-9e80-923f92419544",
    "pycharm": {
     "name": "#%%\n"
    }
   },
   "outputs": [
    {
     "data": {
      "text/plain": [
       "0"
      ]
     },
     "execution_count": 35,
     "metadata": {},
     "output_type": "execute_result"
    }
   ],
   "source": [
    "len(incremental_voyages_flat.voyages)"
   ]
  },
  {
   "cell_type": "markdown",
   "metadata": {
    "id": "Us-FRQ9DOyvh",
    "pycharm": {
     "name": "#%% md\n"
    }
   },
   "source": [
    "In this case the update step is applied to voyages, events, event details and geos datasets."
   ]
  },
  {
   "cell_type": "code",
   "execution_count": 36,
   "metadata": {
    "id": "ZMj4PhVqOyvh",
    "outputId": "2bb6aea3-7055-448d-fe6d-dbf8d4e40d2b",
    "pycharm": {
     "name": "#%%\n"
    }
   },
   "outputs": [
    {
     "data": {
      "text/plain": [
       "400"
      ]
     },
     "execution_count": 36,
     "metadata": {},
     "output_type": "execute_result"
    }
   ],
   "source": [
    "updated_voyage_ids = set(v.id for v in incremental_voyages_flat.voyages)\n",
    "voyages = [v for v in voyages if v.id not in updated_voyage_ids and not v.deleted]\n",
    "new_voyages = [v for v in incremental_voyages_flat.voyages if not v.deleted]\n",
    "voyages = sorted(voyages + new_voyages, key= lambda v: (v.imo, v.voyage_number))\n",
    "len(voyages)"
   ]
  },
  {
   "cell_type": "code",
   "execution_count": 37,
   "metadata": {
    "id": "XDTr5qU3Oyvh",
    "outputId": "8f3c6357-092a-4ee9-8d30-47998e9c3237",
    "pycharm": {
     "name": "#%%\n"
    }
   },
   "outputs": [
    {
     "data": {
      "text/plain": [
       "1357"
      ]
     },
     "execution_count": 37,
     "metadata": {},
     "output_type": "execute_result"
    }
   ],
   "source": [
    "updated_event_ids = set(e.id for e in events if e.voyage_id in updated_voyage_ids)\n",
    "events = [e for e in events if e.id not in updated_event_ids]\n",
    "events = sorted(events + list(incremental_voyages_flat.events), key= lambda e: e.id)\n",
    "len(events)"
   ]
  },
  {
   "cell_type": "code",
   "execution_count": 38,
   "metadata": {
    "id": "aRpLomdkOyvh",
    "outputId": "4dd4e4d0-ec83-44c7-c12d-e1f2e6b3f797",
    "pycharm": {
     "name": "#%%\n"
    }
   },
   "outputs": [
    {
     "data": {
      "text/plain": [
       "483"
      ]
     },
     "execution_count": 38,
     "metadata": {},
     "output_type": "execute_result"
    }
   ],
   "source": [
    "event_details = [e for e in event_details if e.id not in updated_event_ids]\n",
    "event_details = sorted(event_details + list(incremental_voyages_flat.event_details), key= lambda e: e.id)\n",
    "len(event_details)"
   ]
  },
  {
   "cell_type": "code",
   "execution_count": 39,
   "metadata": {
    "id": "twfn4aRvOyvi",
    "outputId": "b5bb8b74-f929-47c4-e68f-760570524f84",
    "pycharm": {
     "name": "#%%\n"
    }
   },
   "outputs": [
    {
     "data": {
      "text/plain": [
       "288"
      ]
     },
     "execution_count": 39,
     "metadata": {},
     "output_type": "execute_result"
    }
   ],
   "source": [
    "updated_geo_ids = set(g.id for g in incremental_voyages_flat.geos)\n",
    "geos = [g for g in geos if g.id not in updated_geo_ids] + list(incremental_voyages_flat.geos)\n",
    "len(geos)"
   ]
  },
  {
   "cell_type": "code",
   "execution_count": null,
   "metadata": {},
   "outputs": [],
   "source": []
  }
 ],
 "metadata": {
  "colab": {
   "collapsed_sections": [],
   "name": "Copy of VoyagesAPI.ipynb",
   "provenance": []
  },
  "kernelspec": {
   "display_name": "Python 3 (ipykernel)",
   "language": "python",
   "name": "python3"
  },
  "language_info": {
   "codemirror_mode": {
    "name": "ipython",
    "version": 3
   },
   "file_extension": ".py",
   "mimetype": "text/x-python",
   "name": "python",
   "nbconvert_exporter": "python",
   "pygments_lexer": "ipython3",
   "version": "3.8.12"
  }
 },
 "nbformat": 4,
 "nbformat_minor": 4
}
