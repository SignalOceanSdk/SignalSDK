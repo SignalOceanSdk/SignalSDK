{
 "cells": [
  {
   "cell_type": "markdown",
   "metadata": {
    "id": "pLubipKzOyvL",
    "pycharm": {
     "name": "#%% md\n"
    }
   },
   "source": [
    "# Voyages API Example\n",
    "\n",
    "## Run this example in [Colab](https://colab.research.google.com/github/SignalOceanSdk/SignalSDK/blob/master/docs/examples/jupyter/VoyagesAPI/VoyagesAPI.ipynb). "
   ]
  },
  {
   "cell_type": "markdown",
   "metadata": {},
   "source": [
    "## Setup\n",
    "Install the Signal Ocean SDK:\n",
    "```\n",
    "pip install signal-ocean\n",
    "```\n",
    "Set your subscription key acquired here: https://apis.signalocean.com/profile"
   ]
  },
  {
   "cell_type": "code",
   "execution_count": null,
   "metadata": {},
   "outputs": [],
   "source": [
    "pip install signal-ocean"
   ]
  },
  {
   "cell_type": "code",
   "execution_count": 21,
   "metadata": {
    "id": "poC0RHOcOyvR",
    "pycharm": {
     "name": "#%%\n"
    }
   },
   "outputs": [],
   "source": [
    "signal_ocean_api_key = '' #replace with your subscription key"
   ]
  },
  {
   "cell_type": "markdown",
   "metadata": {
    "id": "QzHwIp20OyvS",
    "pycharm": {
     "name": "#%% md\n"
    }
   },
   "source": [
    "## Call the Voyages API\n",
    "The Voyages API retrieves information about vessel voyages."
   ]
  },
  {
   "cell_type": "code",
   "execution_count": 22,
   "metadata": {
    "id": "VaLkKseYOyvT",
    "pycharm": {
     "name": "#%%\n"
    }
   },
   "outputs": [],
   "source": [
    "from signal_ocean import Connection\n",
    "from signal_ocean.voyages import VoyagesAPI\n",
    "from signal_ocean.voyages import Vessel, VesselFilter\n",
    "from signal_ocean.voyages import VesselType, VesselTypeFilter\n",
    "from signal_ocean.voyages import VesselClass, VesselClassFilter\n",
    "import pandas as pd\n",
    "from datetime import date, timedelta"
   ]
  },
  {
   "cell_type": "code",
   "execution_count": 23,
   "metadata": {
    "id": "bSu1XgNTOyvT",
    "pycharm": {
     "name": "#%%\n"
    }
   },
   "outputs": [],
   "source": [
    "connection = Connection(signal_ocean_api_key)\n",
    "api = VoyagesAPI(connection)"
   ]
  },
  {
   "cell_type": "markdown",
   "metadata": {
    "id": "G6tGahRbOyvU",
    "pycharm": {
     "name": "#%% md\n"
    }
   },
   "source": [
    "### Get voyages for vessel"
   ]
  },
  {
   "cell_type": "code",
   "execution_count": 2,
   "metadata": {
    "colab": {
     "base_uri": "https://localhost:8080/"
    },
    "id": "TgqUa2VkQGH1",
    "outputId": "21dbd2a9-a52a-4376-b0fa-5384f01d5611",
    "pycharm": {
     "name": "#%%\n"
    }
   },
   "outputs": [
    {
     "data": {
      "text/plain": [
       "Vessel(imo=1014022, vessel_name='Seaexplorer')"
      ]
     },
     "execution_count": 2,
     "metadata": {},
     "output_type": "execute_result"
    }
   ],
   "source": [
    "# get the imo by using the vessel name\n",
    "vessel = api.get_imos(VesselFilter('Sea'))[0]\n",
    "vessel"
   ]
  },
  {
   "cell_type": "code",
   "execution_count": 3,
   "metadata": {
    "id": "sdwh-04uOyvU",
    "pycharm": {
     "name": "#%%\n"
    }
   },
   "outputs": [],
   "source": [
    "vessel_voyages = api.get_voyages(imo=vessel.imo)"
   ]
  },
  {
   "cell_type": "code",
   "execution_count": 4,
   "metadata": {
    "colab": {
     "base_uri": "https://localhost:8080/",
     "height": 409
    },
    "id": "JFd0wslmOyvV",
    "outputId": "e2de31e6-bb3e-4945-f05b-79a34c122853",
    "pycharm": {
     "name": "#%%\n"
    }
   },
   "outputs": [
    {
     "data": {
      "text/html": [
       "<div>\n",
       "<style scoped>\n",
       "    .dataframe tbody tr th:only-of-type {\n",
       "        vertical-align: middle;\n",
       "    }\n",
       "\n",
       "    .dataframe tbody tr th {\n",
       "        vertical-align: top;\n",
       "    }\n",
       "\n",
       "    .dataframe thead th {\n",
       "        text-align: right;\n",
       "    }\n",
       "</style>\n",
       "<table border=\"1\" class=\"dataframe\">\n",
       "  <thead>\n",
       "    <tr style=\"text-align: right;\">\n",
       "      <th></th>\n",
       "      <th>imo</th>\n",
       "      <th>voyage_number</th>\n",
       "      <th>vessel_type_id</th>\n",
       "      <th>vessel_class_id</th>\n",
       "      <th>vessel_status_id</th>\n",
       "      <th>commercial_operator_id</th>\n",
       "      <th>deleted</th>\n",
       "      <th>events</th>\n",
       "      <th>id</th>\n",
       "      <th>horizon_id</th>\n",
       "      <th>...</th>\n",
       "      <th>predicted_ballast_distance</th>\n",
       "      <th>laden_distance</th>\n",
       "      <th>predicted_laden_distance</th>\n",
       "      <th>suez_crossing</th>\n",
       "      <th>panama_crossing</th>\n",
       "      <th>canakkale_crossing</th>\n",
       "      <th>bosporus_crossing</th>\n",
       "      <th>torres_strait_crossing</th>\n",
       "      <th>magellan_strait_crossing</th>\n",
       "      <th>great_belt_crossing</th>\n",
       "    </tr>\n",
       "  </thead>\n",
       "  <tbody>\n",
       "    <tr>\n",
       "      <th>0</th>\n",
       "      <td>1014022</td>\n",
       "      <td>1</td>\n",
       "      <td>1</td>\n",
       "      <td>88</td>\n",
       "      <td>1</td>\n",
       "      <td>1684</td>\n",
       "      <td>False</td>\n",
       "      <td>(VoyageEvent(id='IF790658SEDE9BB300', voyage_i...</td>\n",
       "      <td>IF790658VEDE9BB300</td>\n",
       "      <td>1</td>\n",
       "      <td>...</td>\n",
       "      <td>None</td>\n",
       "      <td>1335.66</td>\n",
       "      <td>NaN</td>\n",
       "      <td>None</td>\n",
       "      <td>None</td>\n",
       "      <td>None</td>\n",
       "      <td>None</td>\n",
       "      <td>None</td>\n",
       "      <td>None</td>\n",
       "      <td>None</td>\n",
       "    </tr>\n",
       "    <tr>\n",
       "      <th>1</th>\n",
       "      <td>1014022</td>\n",
       "      <td>2</td>\n",
       "      <td>1</td>\n",
       "      <td>88</td>\n",
       "      <td>1</td>\n",
       "      <td>1684</td>\n",
       "      <td>False</td>\n",
       "      <td>(VoyageEvent(id='IF790658SEDF125A00', voyage_i...</td>\n",
       "      <td>IF790658VEDF125A00</td>\n",
       "      <td>1</td>\n",
       "      <td>...</td>\n",
       "      <td>None</td>\n",
       "      <td>13548.53</td>\n",
       "      <td>NaN</td>\n",
       "      <td>None</td>\n",
       "      <td>None</td>\n",
       "      <td>None</td>\n",
       "      <td>None</td>\n",
       "      <td>None</td>\n",
       "      <td>None</td>\n",
       "      <td>None</td>\n",
       "    </tr>\n",
       "    <tr>\n",
       "      <th>2</th>\n",
       "      <td>1014022</td>\n",
       "      <td>3</td>\n",
       "      <td>1</td>\n",
       "      <td>88</td>\n",
       "      <td>1</td>\n",
       "      <td>1684</td>\n",
       "      <td>False</td>\n",
       "      <td>(VoyageEvent(id='IF790658SEDF617400', voyage_i...</td>\n",
       "      <td>IF790658VEDF617400</td>\n",
       "      <td>1</td>\n",
       "      <td>...</td>\n",
       "      <td>None</td>\n",
       "      <td>4372.47</td>\n",
       "      <td>NaN</td>\n",
       "      <td>None</td>\n",
       "      <td>None</td>\n",
       "      <td>None</td>\n",
       "      <td>None</td>\n",
       "      <td>None</td>\n",
       "      <td>None</td>\n",
       "      <td>None</td>\n",
       "    </tr>\n",
       "    <tr>\n",
       "      <th>3</th>\n",
       "      <td>1014022</td>\n",
       "      <td>4</td>\n",
       "      <td>1</td>\n",
       "      <td>88</td>\n",
       "      <td>1</td>\n",
       "      <td>1684</td>\n",
       "      <td>False</td>\n",
       "      <td>(VoyageEvent(id='IF790658SEDF890100', voyage_i...</td>\n",
       "      <td>IF790658VEDF890100</td>\n",
       "      <td>1</td>\n",
       "      <td>...</td>\n",
       "      <td>None</td>\n",
       "      <td>6217.78</td>\n",
       "      <td>NaN</td>\n",
       "      <td>None</td>\n",
       "      <td>None</td>\n",
       "      <td>None</td>\n",
       "      <td>None</td>\n",
       "      <td>None</td>\n",
       "      <td>None</td>\n",
       "      <td>None</td>\n",
       "    </tr>\n",
       "    <tr>\n",
       "      <th>4</th>\n",
       "      <td>1014022</td>\n",
       "      <td>5</td>\n",
       "      <td>1</td>\n",
       "      <td>88</td>\n",
       "      <td>1</td>\n",
       "      <td>1684</td>\n",
       "      <td>False</td>\n",
       "      <td>(VoyageEvent(id='IF790658SEDFB08E00', voyage_i...</td>\n",
       "      <td>IF790658VEDFB08E00</td>\n",
       "      <td>2</td>\n",
       "      <td>...</td>\n",
       "      <td>None</td>\n",
       "      <td>2756.33</td>\n",
       "      <td>2052.31</td>\n",
       "      <td>None</td>\n",
       "      <td>None</td>\n",
       "      <td>None</td>\n",
       "      <td>None</td>\n",
       "      <td>None</td>\n",
       "      <td>None</td>\n",
       "      <td>None</td>\n",
       "    </tr>\n",
       "  </tbody>\n",
       "</table>\n",
       "<p>5 rows × 75 columns</p>\n",
       "</div>"
      ],
      "text/plain": [
       "       imo  voyage_number  vessel_type_id  vessel_class_id  vessel_status_id  \\\n",
       "0  1014022              1               1               88                 1   \n",
       "1  1014022              2               1               88                 1   \n",
       "2  1014022              3               1               88                 1   \n",
       "3  1014022              4               1               88                 1   \n",
       "4  1014022              5               1               88                 1   \n",
       "\n",
       "   commercial_operator_id  deleted  \\\n",
       "0                    1684    False   \n",
       "1                    1684    False   \n",
       "2                    1684    False   \n",
       "3                    1684    False   \n",
       "4                    1684    False   \n",
       "\n",
       "                                              events                  id  \\\n",
       "0  (VoyageEvent(id='IF790658SEDE9BB300', voyage_i...  IF790658VEDE9BB300   \n",
       "1  (VoyageEvent(id='IF790658SEDF125A00', voyage_i...  IF790658VEDF125A00   \n",
       "2  (VoyageEvent(id='IF790658SEDF617400', voyage_i...  IF790658VEDF617400   \n",
       "3  (VoyageEvent(id='IF790658SEDF890100', voyage_i...  IF790658VEDF890100   \n",
       "4  (VoyageEvent(id='IF790658SEDFB08E00', voyage_i...  IF790658VEDFB08E00   \n",
       "\n",
       "   horizon_id  ... predicted_ballast_distance laden_distance  \\\n",
       "0           1  ...                       None        1335.66   \n",
       "1           1  ...                       None       13548.53   \n",
       "2           1  ...                       None        4372.47   \n",
       "3           1  ...                       None        6217.78   \n",
       "4           2  ...                       None        2756.33   \n",
       "\n",
       "  predicted_laden_distance suez_crossing panama_crossing canakkale_crossing  \\\n",
       "0                      NaN          None            None               None   \n",
       "1                      NaN          None            None               None   \n",
       "2                      NaN          None            None               None   \n",
       "3                      NaN          None            None               None   \n",
       "4                  2052.31          None            None               None   \n",
       "\n",
       "  bosporus_crossing  torres_strait_crossing magellan_strait_crossing  \\\n",
       "0              None                    None                     None   \n",
       "1              None                    None                     None   \n",
       "2              None                    None                     None   \n",
       "3              None                    None                     None   \n",
       "4              None                    None                     None   \n",
       "\n",
       "   great_belt_crossing  \n",
       "0                 None  \n",
       "1                 None  \n",
       "2                 None  \n",
       "3                 None  \n",
       "4                 None  \n",
       "\n",
       "[5 rows x 75 columns]"
      ]
     },
     "execution_count": 4,
     "metadata": {},
     "output_type": "execute_result"
    }
   ],
   "source": [
    "vessel_voyages_df = pd.DataFrame([v.__dict__ for v in vessel_voyages])\n",
    "vessel_voyages_df.tail(5)"
   ]
  },
  {
   "cell_type": "code",
   "execution_count": 5,
   "metadata": {
    "id": "MEjdHQ3cOyvW",
    "outputId": "0f167ab2-b1d4-4663-b994-ad1ac06485ea",
    "pycharm": {
     "name": "#%%\n"
    }
   },
   "outputs": [
    {
     "data": {
      "text/html": [
       "<div>\n",
       "<style scoped>\n",
       "    .dataframe tbody tr th:only-of-type {\n",
       "        vertical-align: middle;\n",
       "    }\n",
       "\n",
       "    .dataframe tbody tr th {\n",
       "        vertical-align: top;\n",
       "    }\n",
       "\n",
       "    .dataframe thead th {\n",
       "        text-align: right;\n",
       "    }\n",
       "</style>\n",
       "<table border=\"1\" class=\"dataframe\">\n",
       "  <thead>\n",
       "    <tr style=\"text-align: right;\">\n",
       "      <th></th>\n",
       "      <th>id</th>\n",
       "      <th>voyage_id</th>\n",
       "      <th>event_type_id</th>\n",
       "      <th>event_type</th>\n",
       "      <th>event_horizon_id</th>\n",
       "      <th>event_horizon</th>\n",
       "      <th>purpose</th>\n",
       "      <th>event_date</th>\n",
       "      <th>arrival_date</th>\n",
       "      <th>sailing_date</th>\n",
       "      <th>...</th>\n",
       "      <th>area_idlevel2</th>\n",
       "      <th>area_name_level2</th>\n",
       "      <th>area_idlevel3</th>\n",
       "      <th>area_name_level3</th>\n",
       "      <th>low_ais_density</th>\n",
       "      <th>quantity</th>\n",
       "      <th>quantity_unit_id</th>\n",
       "      <th>quantity_unit</th>\n",
       "      <th>quantity_in_barrels</th>\n",
       "      <th>event_details</th>\n",
       "    </tr>\n",
       "  </thead>\n",
       "  <tbody>\n",
       "    <tr>\n",
       "      <th>28</th>\n",
       "      <td>IF790658TEDFCAEC00</td>\n",
       "      <td>None</td>\n",
       "      <td>1</td>\n",
       "      <td>PortCall</td>\n",
       "      <td>0</td>\n",
       "      <td>Historical</td>\n",
       "      <td>Discharge</td>\n",
       "      <td>NaT</td>\n",
       "      <td>2025-06-01 15:51:15+00:00</td>\n",
       "      <td>2025-06-03 15:58:21+00:00</td>\n",
       "      <td>...</td>\n",
       "      <td>25019</td>\n",
       "      <td>Atlantic America</td>\n",
       "      <td>25028</td>\n",
       "      <td>West</td>\n",
       "      <td>None</td>\n",
       "      <td>27000.0</td>\n",
       "      <td>1.0</td>\n",
       "      <td>MetricTonnes</td>\n",
       "      <td>230769.0</td>\n",
       "      <td>(VoyageEventDetail(id='IF790658LEDFCAEC00', ev...</td>\n",
       "    </tr>\n",
       "    <tr>\n",
       "      <th>29</th>\n",
       "      <td>IF790658SEDFB08E00</td>\n",
       "      <td>None</td>\n",
       "      <td>2</td>\n",
       "      <td>VoyageStart</td>\n",
       "      <td>0</td>\n",
       "      <td>Historical</td>\n",
       "      <td>Start</td>\n",
       "      <td>2025-06-03 15:58:21+00:00</td>\n",
       "      <td>NaT</td>\n",
       "      <td>NaT</td>\n",
       "      <td>...</td>\n",
       "      <td>25019</td>\n",
       "      <td>Atlantic America</td>\n",
       "      <td>25028</td>\n",
       "      <td>West</td>\n",
       "      <td>None</td>\n",
       "      <td>NaN</td>\n",
       "      <td>NaN</td>\n",
       "      <td>None</td>\n",
       "      <td>NaN</td>\n",
       "      <td>None</td>\n",
       "    </tr>\n",
       "    <tr>\n",
       "      <th>30</th>\n",
       "      <td>IF790658TEDFD03200</td>\n",
       "      <td>None</td>\n",
       "      <td>0</td>\n",
       "      <td>Stop</td>\n",
       "      <td>0</td>\n",
       "      <td>Historical</td>\n",
       "      <td>Stop</td>\n",
       "      <td>NaT</td>\n",
       "      <td>2025-06-03 23:51:28+00:00</td>\n",
       "      <td>2025-06-04 11:54:36+00:00</td>\n",
       "      <td>...</td>\n",
       "      <td>25019</td>\n",
       "      <td>Atlantic America</td>\n",
       "      <td>25028</td>\n",
       "      <td>West</td>\n",
       "      <td>None</td>\n",
       "      <td>NaN</td>\n",
       "      <td>NaN</td>\n",
       "      <td>None</td>\n",
       "      <td>NaN</td>\n",
       "      <td>(VoyageEventDetail(id='IF790658LEDFD03200', ev...</td>\n",
       "    </tr>\n",
       "    <tr>\n",
       "      <th>31</th>\n",
       "      <td>IF790658TEDFD81B00</td>\n",
       "      <td>None</td>\n",
       "      <td>1</td>\n",
       "      <td>PortCall</td>\n",
       "      <td>0</td>\n",
       "      <td>Historical</td>\n",
       "      <td>Load</td>\n",
       "      <td>NaT</td>\n",
       "      <td>2025-06-12 23:51:02+00:00</td>\n",
       "      <td>2025-06-15 11:50:03+00:00</td>\n",
       "      <td>...</td>\n",
       "      <td>25019</td>\n",
       "      <td>Atlantic America</td>\n",
       "      <td>25028</td>\n",
       "      <td>West</td>\n",
       "      <td>None</td>\n",
       "      <td>38000.0</td>\n",
       "      <td>1.0</td>\n",
       "      <td>MetricTonnes</td>\n",
       "      <td>316667.0</td>\n",
       "      <td>(VoyageEventDetail(id='IF790658LEDFD81B00', ev...</td>\n",
       "    </tr>\n",
       "    <tr>\n",
       "      <th>32</th>\n",
       "      <td>IF790658TEDFF27900</td>\n",
       "      <td>None</td>\n",
       "      <td>1</td>\n",
       "      <td>PortCall</td>\n",
       "      <td>2</td>\n",
       "      <td>Future</td>\n",
       "      <td>Discharge</td>\n",
       "      <td>NaT</td>\n",
       "      <td>2025-07-01 14:43:13.321000+00:00</td>\n",
       "      <td>2025-07-04 07:14:19.243000+00:00</td>\n",
       "      <td>...</td>\n",
       "      <td>25025</td>\n",
       "      <td>Mediterranean / UK Continent</td>\n",
       "      <td>25028</td>\n",
       "      <td>West</td>\n",
       "      <td>True</td>\n",
       "      <td>38000.0</td>\n",
       "      <td>1.0</td>\n",
       "      <td>MetricTonnes</td>\n",
       "      <td>316667.0</td>\n",
       "      <td>None</td>\n",
       "    </tr>\n",
       "  </tbody>\n",
       "</table>\n",
       "<p>5 rows × 33 columns</p>\n",
       "</div>"
      ],
      "text/plain": [
       "                    id voyage_id  event_type_id   event_type  \\\n",
       "28  IF790658TEDFCAEC00      None              1     PortCall   \n",
       "29  IF790658SEDFB08E00      None              2  VoyageStart   \n",
       "30  IF790658TEDFD03200      None              0         Stop   \n",
       "31  IF790658TEDFD81B00      None              1     PortCall   \n",
       "32  IF790658TEDFF27900      None              1     PortCall   \n",
       "\n",
       "    event_horizon_id event_horizon    purpose                event_date  \\\n",
       "28                 0    Historical  Discharge                       NaT   \n",
       "29                 0    Historical      Start 2025-06-03 15:58:21+00:00   \n",
       "30                 0    Historical       Stop                       NaT   \n",
       "31                 0    Historical       Load                       NaT   \n",
       "32                 2        Future  Discharge                       NaT   \n",
       "\n",
       "                       arrival_date                     sailing_date  ...  \\\n",
       "28        2025-06-01 15:51:15+00:00        2025-06-03 15:58:21+00:00  ...   \n",
       "29                              NaT                              NaT  ...   \n",
       "30        2025-06-03 23:51:28+00:00        2025-06-04 11:54:36+00:00  ...   \n",
       "31        2025-06-12 23:51:02+00:00        2025-06-15 11:50:03+00:00  ...   \n",
       "32 2025-07-01 14:43:13.321000+00:00 2025-07-04 07:14:19.243000+00:00  ...   \n",
       "\n",
       "    area_idlevel2              area_name_level2  area_idlevel3  \\\n",
       "28          25019              Atlantic America          25028   \n",
       "29          25019              Atlantic America          25028   \n",
       "30          25019              Atlantic America          25028   \n",
       "31          25019              Atlantic America          25028   \n",
       "32          25025  Mediterranean / UK Continent          25028   \n",
       "\n",
       "   area_name_level3  low_ais_density quantity quantity_unit_id  quantity_unit  \\\n",
       "28             West             None  27000.0              1.0   MetricTonnes   \n",
       "29             West             None      NaN              NaN           None   \n",
       "30             West             None      NaN              NaN           None   \n",
       "31             West             None  38000.0              1.0   MetricTonnes   \n",
       "32             West             True  38000.0              1.0   MetricTonnes   \n",
       "\n",
       "   quantity_in_barrels                                      event_details  \n",
       "28            230769.0  (VoyageEventDetail(id='IF790658LEDFCAEC00', ev...  \n",
       "29                 NaN                                               None  \n",
       "30                 NaN  (VoyageEventDetail(id='IF790658LEDFD03200', ev...  \n",
       "31            316667.0  (VoyageEventDetail(id='IF790658LEDFD81B00', ev...  \n",
       "32            316667.0                                               None  \n",
       "\n",
       "[5 rows x 33 columns]"
      ]
     },
     "execution_count": 5,
     "metadata": {},
     "output_type": "execute_result"
    }
   ],
   "source": [
    "vessel_events_df = pd.DataFrame(e.__dict__ for voyage_events in vessel_voyages_df['events'] for e in voyage_events)\n",
    "vessel_events_df.tail(5)"
   ]
  },
  {
   "cell_type": "code",
   "execution_count": 6,
   "metadata": {
    "id": "FBsyOee5OyvW",
    "outputId": "438d0aea-53f4-4817-cc36-43e9ec82b142",
    "pycharm": {
     "name": "#%%\n"
    }
   },
   "outputs": [
    {
     "data": {
      "text/html": [
       "<div>\n",
       "<style scoped>\n",
       "    .dataframe tbody tr th:only-of-type {\n",
       "        vertical-align: middle;\n",
       "    }\n",
       "\n",
       "    .dataframe tbody tr th {\n",
       "        vertical-align: top;\n",
       "    }\n",
       "\n",
       "    .dataframe thead th {\n",
       "        text-align: right;\n",
       "    }\n",
       "</style>\n",
       "<table border=\"1\" class=\"dataframe\">\n",
       "  <thead>\n",
       "    <tr style=\"text-align: right;\">\n",
       "      <th></th>\n",
       "      <th>id</th>\n",
       "      <th>event_id</th>\n",
       "      <th>event_detail_type</th>\n",
       "      <th>arrival_date</th>\n",
       "      <th>sailing_date</th>\n",
       "      <th>start_time_of_operation</th>\n",
       "      <th>end_time_of_operation</th>\n",
       "      <th>sts_id</th>\n",
       "      <th>geo_asset_id</th>\n",
       "      <th>geo_asset_name</th>\n",
       "      <th>latitude</th>\n",
       "      <th>longitude</th>\n",
       "      <th>other_vessel_imo</th>\n",
       "      <th>other_vessel_name</th>\n",
       "      <th>floating_storage_start_date</th>\n",
       "      <th>floating_storage_duration</th>\n",
       "    </tr>\n",
       "  </thead>\n",
       "  <tbody>\n",
       "    <tr>\n",
       "      <th>26</th>\n",
       "      <td>IF790658LEDFB08E00</td>\n",
       "      <td>None</td>\n",
       "      <td>Stop</td>\n",
       "      <td>2025-05-15 15:48:42+00:00</td>\n",
       "      <td>2025-05-16 07:53:28+00:00</td>\n",
       "      <td>NaT</td>\n",
       "      <td>NaT</td>\n",
       "      <td>None</td>\n",
       "      <td>4427</td>\n",
       "      <td>Lome Lightering Zone</td>\n",
       "      <td>6.0568</td>\n",
       "      <td>1.2939</td>\n",
       "      <td>NaN</td>\n",
       "      <td>None</td>\n",
       "      <td>None</td>\n",
       "      <td>None</td>\n",
       "    </tr>\n",
       "    <tr>\n",
       "      <th>27</th>\n",
       "      <td>IF790658LEDFBDBD00</td>\n",
       "      <td>None</td>\n",
       "      <td>Stop</td>\n",
       "      <td>2025-05-22 15:51:57+00:00</td>\n",
       "      <td>2025-05-23 07:53:58+00:00</td>\n",
       "      <td>NaT</td>\n",
       "      <td>NaT</td>\n",
       "      <td>None</td>\n",
       "      <td>5669</td>\n",
       "      <td>Estaçao Da Shell-Gale</td>\n",
       "      <td>14.1189</td>\n",
       "      <td>-26.3622</td>\n",
       "      <td>NaN</td>\n",
       "      <td>None</td>\n",
       "      <td>None</td>\n",
       "      <td>None</td>\n",
       "    </tr>\n",
       "    <tr>\n",
       "      <th>28</th>\n",
       "      <td>IF790658LEDFCAEC00</td>\n",
       "      <td>None</td>\n",
       "      <td>Jetty</td>\n",
       "      <td>2025-06-01 15:51:15+00:00</td>\n",
       "      <td>2025-06-03 15:58:21+00:00</td>\n",
       "      <td>2025-06-02 11:57:40+00:00</td>\n",
       "      <td>2025-06-03 15:58:21+00:00</td>\n",
       "      <td>None</td>\n",
       "      <td>5544</td>\n",
       "      <td>New York Kinder Morgan Carteret Terminal</td>\n",
       "      <td>40.5890</td>\n",
       "      <td>-74.2082</td>\n",
       "      <td>NaN</td>\n",
       "      <td>None</td>\n",
       "      <td>None</td>\n",
       "      <td>None</td>\n",
       "    </tr>\n",
       "    <tr>\n",
       "      <th>29</th>\n",
       "      <td>IF790658LEDFD03200</td>\n",
       "      <td>None</td>\n",
       "      <td>Stop</td>\n",
       "      <td>2025-06-03 23:51:28+00:00</td>\n",
       "      <td>2025-06-04 11:54:36+00:00</td>\n",
       "      <td>NaT</td>\n",
       "      <td>NaT</td>\n",
       "      <td>None</td>\n",
       "      <td>5544</td>\n",
       "      <td>New York Kinder Morgan Carteret Terminal</td>\n",
       "      <td>40.6419</td>\n",
       "      <td>-74.0631</td>\n",
       "      <td>NaN</td>\n",
       "      <td>None</td>\n",
       "      <td>None</td>\n",
       "      <td>None</td>\n",
       "    </tr>\n",
       "    <tr>\n",
       "      <th>30</th>\n",
       "      <td>IF790658LEDFD81B00</td>\n",
       "      <td>None</td>\n",
       "      <td>Jetty</td>\n",
       "      <td>2025-06-12 23:51:02+00:00</td>\n",
       "      <td>2025-06-15 11:50:03+00:00</td>\n",
       "      <td>2025-06-13 23:49:47+00:00</td>\n",
       "      <td>2025-06-15 11:50:03+00:00</td>\n",
       "      <td>None</td>\n",
       "      <td>4716</td>\n",
       "      <td>Marathon Texas City Refinery</td>\n",
       "      <td>29.3736</td>\n",
       "      <td>-94.8893</td>\n",
       "      <td>NaN</td>\n",
       "      <td>None</td>\n",
       "      <td>None</td>\n",
       "      <td>None</td>\n",
       "    </tr>\n",
       "  </tbody>\n",
       "</table>\n",
       "</div>"
      ],
      "text/plain": [
       "                    id event_id event_detail_type              arrival_date  \\\n",
       "26  IF790658LEDFB08E00     None              Stop 2025-05-15 15:48:42+00:00   \n",
       "27  IF790658LEDFBDBD00     None              Stop 2025-05-22 15:51:57+00:00   \n",
       "28  IF790658LEDFCAEC00     None             Jetty 2025-06-01 15:51:15+00:00   \n",
       "29  IF790658LEDFD03200     None              Stop 2025-06-03 23:51:28+00:00   \n",
       "30  IF790658LEDFD81B00     None             Jetty 2025-06-12 23:51:02+00:00   \n",
       "\n",
       "                sailing_date   start_time_of_operation  \\\n",
       "26 2025-05-16 07:53:28+00:00                       NaT   \n",
       "27 2025-05-23 07:53:58+00:00                       NaT   \n",
       "28 2025-06-03 15:58:21+00:00 2025-06-02 11:57:40+00:00   \n",
       "29 2025-06-04 11:54:36+00:00                       NaT   \n",
       "30 2025-06-15 11:50:03+00:00 2025-06-13 23:49:47+00:00   \n",
       "\n",
       "       end_time_of_operation sts_id  geo_asset_id  \\\n",
       "26                       NaT   None          4427   \n",
       "27                       NaT   None          5669   \n",
       "28 2025-06-03 15:58:21+00:00   None          5544   \n",
       "29                       NaT   None          5544   \n",
       "30 2025-06-15 11:50:03+00:00   None          4716   \n",
       "\n",
       "                              geo_asset_name  latitude  longitude  \\\n",
       "26                      Lome Lightering Zone    6.0568     1.2939   \n",
       "27                     Estaçao Da Shell-Gale   14.1189   -26.3622   \n",
       "28  New York Kinder Morgan Carteret Terminal   40.5890   -74.2082   \n",
       "29  New York Kinder Morgan Carteret Terminal   40.6419   -74.0631   \n",
       "30              Marathon Texas City Refinery   29.3736   -94.8893   \n",
       "\n",
       "    other_vessel_imo other_vessel_name floating_storage_start_date  \\\n",
       "26               NaN              None                        None   \n",
       "27               NaN              None                        None   \n",
       "28               NaN              None                        None   \n",
       "29               NaN              None                        None   \n",
       "30               NaN              None                        None   \n",
       "\n",
       "   floating_storage_duration  \n",
       "26                      None  \n",
       "27                      None  \n",
       "28                      None  \n",
       "29                      None  \n",
       "30                      None  "
      ]
     },
     "execution_count": 6,
     "metadata": {},
     "output_type": "execute_result"
    }
   ],
   "source": [
    "vessel_event_details_df = pd.DataFrame(e.__dict__ for event_details in vessel_events_df['event_details'] for e in event_details or [])\n",
    "vessel_event_details_df.tail(5)"
   ]
  },
  {
   "cell_type": "markdown",
   "metadata": {
    "id": "PZA3IrDHOyvY",
    "pycharm": {
     "name": "#%% md\n"
    }
   },
   "source": [
    "### Get voyages for vessel class"
   ]
  },
  {
   "cell_type": "code",
   "execution_count": 7,
   "metadata": {
    "colab": {
     "base_uri": "https://localhost:8080/"
    },
    "id": "anZJAWDBQwt4",
    "outputId": "b5f4bbb2-edeb-478b-f250-9b3ee2339275",
    "pycharm": {
     "name": "#%%\n"
    }
   },
   "outputs": [
    {
     "data": {
      "text/plain": [
       "84"
      ]
     },
     "execution_count": 7,
     "metadata": {},
     "output_type": "execute_result"
    }
   ],
   "source": [
    "#get vessel class id for vlcc\n",
    "vc = api.get_vessel_classes(VesselClassFilter('vlcc'))[0]\n",
    "vlcc_id = vc.vessel_class_id\n",
    "vlcc_id"
   ]
  },
  {
   "cell_type": "code",
   "execution_count": 8,
   "metadata": {
    "id": "U6U3qvJyOyvY",
    "pycharm": {
     "name": "#%%\n"
    }
   },
   "outputs": [],
   "source": [
    "date_from = date.today() - timedelta(days=30)\n",
    "recent_vlcc_voyages = api.get_voyages(vessel_class_id=vlcc_id, date_from=date_from)"
   ]
  },
  {
   "cell_type": "code",
   "execution_count": 9,
   "metadata": {
    "id": "YDI7YTy9OyvZ",
    "outputId": "d6923ce4-a1e3-40ae-e71a-5cde311247a5",
    "pycharm": {
     "name": "#%%\n"
    },
    "scrolled": true
   },
   "outputs": [
    {
     "data": {
      "text/html": [
       "<div>\n",
       "<style scoped>\n",
       "    .dataframe tbody tr th:only-of-type {\n",
       "        vertical-align: middle;\n",
       "    }\n",
       "\n",
       "    .dataframe tbody tr th {\n",
       "        vertical-align: top;\n",
       "    }\n",
       "\n",
       "    .dataframe thead th {\n",
       "        text-align: right;\n",
       "    }\n",
       "</style>\n",
       "<table border=\"1\" class=\"dataframe\">\n",
       "  <thead>\n",
       "    <tr style=\"text-align: right;\">\n",
       "      <th></th>\n",
       "      <th>imo</th>\n",
       "      <th>voyage_number</th>\n",
       "      <th>vessel_type_id</th>\n",
       "      <th>vessel_class_id</th>\n",
       "      <th>vessel_status_id</th>\n",
       "      <th>commercial_operator_id</th>\n",
       "      <th>deleted</th>\n",
       "      <th>events</th>\n",
       "      <th>id</th>\n",
       "      <th>horizon_id</th>\n",
       "      <th>...</th>\n",
       "      <th>predicted_ballast_distance</th>\n",
       "      <th>laden_distance</th>\n",
       "      <th>predicted_laden_distance</th>\n",
       "      <th>suez_crossing</th>\n",
       "      <th>panama_crossing</th>\n",
       "      <th>canakkale_crossing</th>\n",
       "      <th>bosporus_crossing</th>\n",
       "      <th>torres_strait_crossing</th>\n",
       "      <th>magellan_strait_crossing</th>\n",
       "      <th>great_belt_crossing</th>\n",
       "    </tr>\n",
       "  </thead>\n",
       "  <tbody>\n",
       "    <tr>\n",
       "      <th>392</th>\n",
       "      <td>9933652</td>\n",
       "      <td>15</td>\n",
       "      <td>1</td>\n",
       "      <td>84</td>\n",
       "      <td>1</td>\n",
       "      <td>558.0</td>\n",
       "      <td>False</td>\n",
       "      <td>(VoyageEvent(id='I97935454SEDFD81B00', voyage_...</td>\n",
       "      <td>I97935454VEDFD81B00</td>\n",
       "      <td>2</td>\n",
       "      <td>...</td>\n",
       "      <td>863.56</td>\n",
       "      <td>NaN</td>\n",
       "      <td>NaN</td>\n",
       "      <td>None</td>\n",
       "      <td>None</td>\n",
       "      <td>None</td>\n",
       "      <td>None</td>\n",
       "      <td>None</td>\n",
       "      <td>None</td>\n",
       "      <td>None</td>\n",
       "    </tr>\n",
       "    <tr>\n",
       "      <th>393</th>\n",
       "      <td>9937799</td>\n",
       "      <td>7</td>\n",
       "      <td>1</td>\n",
       "      <td>84</td>\n",
       "      <td>1</td>\n",
       "      <td>1031.0</td>\n",
       "      <td>False</td>\n",
       "      <td>(VoyageEvent(id='I97A38754SEDFD81B00', voyage_...</td>\n",
       "      <td>I97A38754VEDFD81B00</td>\n",
       "      <td>3</td>\n",
       "      <td>...</td>\n",
       "      <td>251.92</td>\n",
       "      <td>NaN</td>\n",
       "      <td>NaN</td>\n",
       "      <td>None</td>\n",
       "      <td>None</td>\n",
       "      <td>None</td>\n",
       "      <td>None</td>\n",
       "      <td>None</td>\n",
       "      <td>None</td>\n",
       "      <td>None</td>\n",
       "    </tr>\n",
       "    <tr>\n",
       "      <th>394</th>\n",
       "      <td>9941673</td>\n",
       "      <td>15</td>\n",
       "      <td>1</td>\n",
       "      <td>84</td>\n",
       "      <td>1</td>\n",
       "      <td>2236.0</td>\n",
       "      <td>False</td>\n",
       "      <td>(VoyageEvent(id='I97B2A954SEDFD81B00', voyage_...</td>\n",
       "      <td>I97B2A954VEDFD81B00</td>\n",
       "      <td>2</td>\n",
       "      <td>...</td>\n",
       "      <td>571.16</td>\n",
       "      <td>NaN</td>\n",
       "      <td>NaN</td>\n",
       "      <td>None</td>\n",
       "      <td>None</td>\n",
       "      <td>None</td>\n",
       "      <td>None</td>\n",
       "      <td>None</td>\n",
       "      <td>None</td>\n",
       "      <td>None</td>\n",
       "    </tr>\n",
       "    <tr>\n",
       "      <th>395</th>\n",
       "      <td>9943748</td>\n",
       "      <td>11</td>\n",
       "      <td>1</td>\n",
       "      <td>84</td>\n",
       "      <td>1</td>\n",
       "      <td>558.0</td>\n",
       "      <td>False</td>\n",
       "      <td>(VoyageEvent(id='I97BAC454SEDFB08E00', voyage_...</td>\n",
       "      <td>I97BAC454VEDFB08E00</td>\n",
       "      <td>2</td>\n",
       "      <td>...</td>\n",
       "      <td>NaN</td>\n",
       "      <td>5.7</td>\n",
       "      <td>5759.96</td>\n",
       "      <td>None</td>\n",
       "      <td>None</td>\n",
       "      <td>None</td>\n",
       "      <td>None</td>\n",
       "      <td>None</td>\n",
       "      <td>None</td>\n",
       "      <td>None</td>\n",
       "    </tr>\n",
       "    <tr>\n",
       "      <th>396</th>\n",
       "      <td>9988695</td>\n",
       "      <td>1</td>\n",
       "      <td>1</td>\n",
       "      <td>84</td>\n",
       "      <td>1</td>\n",
       "      <td>NaN</td>\n",
       "      <td>False</td>\n",
       "      <td>(VoyageEvent(id='I986A5754SEDFD81B00', voyage_...</td>\n",
       "      <td>I986A5754VEDFD81B00</td>\n",
       "      <td>2</td>\n",
       "      <td>...</td>\n",
       "      <td>NaN</td>\n",
       "      <td>NaN</td>\n",
       "      <td>NaN</td>\n",
       "      <td>None</td>\n",
       "      <td>None</td>\n",
       "      <td>None</td>\n",
       "      <td>None</td>\n",
       "      <td>None</td>\n",
       "      <td>None</td>\n",
       "      <td>None</td>\n",
       "    </tr>\n",
       "  </tbody>\n",
       "</table>\n",
       "<p>5 rows × 75 columns</p>\n",
       "</div>"
      ],
      "text/plain": [
       "         imo  voyage_number  vessel_type_id  vessel_class_id  \\\n",
       "392  9933652             15               1               84   \n",
       "393  9937799              7               1               84   \n",
       "394  9941673             15               1               84   \n",
       "395  9943748             11               1               84   \n",
       "396  9988695              1               1               84   \n",
       "\n",
       "     vessel_status_id  commercial_operator_id  deleted  \\\n",
       "392                 1                   558.0    False   \n",
       "393                 1                  1031.0    False   \n",
       "394                 1                  2236.0    False   \n",
       "395                 1                   558.0    False   \n",
       "396                 1                     NaN    False   \n",
       "\n",
       "                                                events                   id  \\\n",
       "392  (VoyageEvent(id='I97935454SEDFD81B00', voyage_...  I97935454VEDFD81B00   \n",
       "393  (VoyageEvent(id='I97A38754SEDFD81B00', voyage_...  I97A38754VEDFD81B00   \n",
       "394  (VoyageEvent(id='I97B2A954SEDFD81B00', voyage_...  I97B2A954VEDFD81B00   \n",
       "395  (VoyageEvent(id='I97BAC454SEDFB08E00', voyage_...  I97BAC454VEDFB08E00   \n",
       "396  (VoyageEvent(id='I986A5754SEDFD81B00', voyage_...  I986A5754VEDFD81B00   \n",
       "\n",
       "     horizon_id  ... predicted_ballast_distance laden_distance  \\\n",
       "392           2  ...                     863.56            NaN   \n",
       "393           3  ...                     251.92            NaN   \n",
       "394           2  ...                     571.16            NaN   \n",
       "395           2  ...                        NaN            5.7   \n",
       "396           2  ...                        NaN            NaN   \n",
       "\n",
       "    predicted_laden_distance suez_crossing panama_crossing canakkale_crossing  \\\n",
       "392                      NaN          None            None               None   \n",
       "393                      NaN          None            None               None   \n",
       "394                      NaN          None            None               None   \n",
       "395                  5759.96          None            None               None   \n",
       "396                      NaN          None            None               None   \n",
       "\n",
       "    bosporus_crossing  torres_strait_crossing magellan_strait_crossing  \\\n",
       "392              None                    None                     None   \n",
       "393              None                    None                     None   \n",
       "394              None                    None                     None   \n",
       "395              None                    None                     None   \n",
       "396              None                    None                     None   \n",
       "\n",
       "     great_belt_crossing  \n",
       "392                 None  \n",
       "393                 None  \n",
       "394                 None  \n",
       "395                 None  \n",
       "396                 None  \n",
       "\n",
       "[5 rows x 75 columns]"
      ]
     },
     "execution_count": 9,
     "metadata": {},
     "output_type": "execute_result"
    }
   ],
   "source": [
    "recent_vlcc_voyages = pd.DataFrame([v.__dict__ for v in recent_vlcc_voyages])\n",
    "recent_vlcc_voyages.tail(5)"
   ]
  },
  {
   "cell_type": "markdown",
   "metadata": {
    "id": "Lf8nvgtXOyvZ",
    "pycharm": {
     "name": "#%% md\n"
    }
   },
   "source": [
    "### Get voyages for vessel in flat format"
   ]
  },
  {
   "cell_type": "code",
   "execution_count": 10,
   "metadata": {
    "colab": {
     "base_uri": "https://localhost:8080/"
    },
    "id": "wOvAcRnrRWTK",
    "outputId": "15308ea2-4d85-4b1e-85ed-d22104ba4e7f",
    "pycharm": {
     "name": "#%%\n"
    }
   },
   "outputs": [
    {
     "data": {
      "text/plain": [
       "Vessel(imo=1014022, vessel_name='Seaexplorer')"
      ]
     },
     "execution_count": 10,
     "metadata": {},
     "output_type": "execute_result"
    }
   ],
   "source": [
    "# get the imo by using the vessel name\n",
    "vessel = api.get_imos(VesselFilter('Sea'))[0]\n",
    "vessel"
   ]
  },
  {
   "cell_type": "code",
   "execution_count": 11,
   "metadata": {
    "id": "5GL354yQOyvZ",
    "pycharm": {
     "name": "#%%\n"
    }
   },
   "outputs": [],
   "source": [
    "vessel_voyages_flat = api.get_voyages_flat(imo=vessel.imo)"
   ]
  },
  {
   "cell_type": "code",
   "execution_count": 12,
   "metadata": {
    "id": "eomp96KPOyva",
    "outputId": "ceb37f6c-c28a-4253-b3c4-9ff06a4244d9",
    "pycharm": {
     "name": "#%%\n"
    }
   },
   "outputs": [
    {
     "data": {
      "text/html": [
       "<div>\n",
       "<style scoped>\n",
       "    .dataframe tbody tr th:only-of-type {\n",
       "        vertical-align: middle;\n",
       "    }\n",
       "\n",
       "    .dataframe tbody tr th {\n",
       "        vertical-align: top;\n",
       "    }\n",
       "\n",
       "    .dataframe thead th {\n",
       "        text-align: right;\n",
       "    }\n",
       "</style>\n",
       "<table border=\"1\" class=\"dataframe\">\n",
       "  <thead>\n",
       "    <tr style=\"text-align: right;\">\n",
       "      <th></th>\n",
       "      <th>imo</th>\n",
       "      <th>voyage_number</th>\n",
       "      <th>vessel_type_id</th>\n",
       "      <th>vessel_class_id</th>\n",
       "      <th>vessel_status_id</th>\n",
       "      <th>commercial_operator_id</th>\n",
       "      <th>deleted</th>\n",
       "      <th>events</th>\n",
       "      <th>id</th>\n",
       "      <th>horizon_id</th>\n",
       "      <th>...</th>\n",
       "      <th>predicted_ballast_distance</th>\n",
       "      <th>laden_distance</th>\n",
       "      <th>predicted_laden_distance</th>\n",
       "      <th>suez_crossing</th>\n",
       "      <th>panama_crossing</th>\n",
       "      <th>canakkale_crossing</th>\n",
       "      <th>bosporus_crossing</th>\n",
       "      <th>torres_strait_crossing</th>\n",
       "      <th>magellan_strait_crossing</th>\n",
       "      <th>great_belt_crossing</th>\n",
       "    </tr>\n",
       "  </thead>\n",
       "  <tbody>\n",
       "    <tr>\n",
       "      <th>0</th>\n",
       "      <td>1014022</td>\n",
       "      <td>1</td>\n",
       "      <td>1</td>\n",
       "      <td>88</td>\n",
       "      <td>1</td>\n",
       "      <td>1684</td>\n",
       "      <td>False</td>\n",
       "      <td>None</td>\n",
       "      <td>IF790658VEDE9BB300</td>\n",
       "      <td>1</td>\n",
       "      <td>...</td>\n",
       "      <td>None</td>\n",
       "      <td>1335.66</td>\n",
       "      <td>NaN</td>\n",
       "      <td>None</td>\n",
       "      <td>None</td>\n",
       "      <td>None</td>\n",
       "      <td>None</td>\n",
       "      <td>None</td>\n",
       "      <td>None</td>\n",
       "      <td>None</td>\n",
       "    </tr>\n",
       "    <tr>\n",
       "      <th>1</th>\n",
       "      <td>1014022</td>\n",
       "      <td>2</td>\n",
       "      <td>1</td>\n",
       "      <td>88</td>\n",
       "      <td>1</td>\n",
       "      <td>1684</td>\n",
       "      <td>False</td>\n",
       "      <td>None</td>\n",
       "      <td>IF790658VEDF125A00</td>\n",
       "      <td>1</td>\n",
       "      <td>...</td>\n",
       "      <td>None</td>\n",
       "      <td>13548.53</td>\n",
       "      <td>NaN</td>\n",
       "      <td>None</td>\n",
       "      <td>None</td>\n",
       "      <td>None</td>\n",
       "      <td>None</td>\n",
       "      <td>None</td>\n",
       "      <td>None</td>\n",
       "      <td>None</td>\n",
       "    </tr>\n",
       "    <tr>\n",
       "      <th>2</th>\n",
       "      <td>1014022</td>\n",
       "      <td>3</td>\n",
       "      <td>1</td>\n",
       "      <td>88</td>\n",
       "      <td>1</td>\n",
       "      <td>1684</td>\n",
       "      <td>False</td>\n",
       "      <td>None</td>\n",
       "      <td>IF790658VEDF617400</td>\n",
       "      <td>1</td>\n",
       "      <td>...</td>\n",
       "      <td>None</td>\n",
       "      <td>4372.47</td>\n",
       "      <td>NaN</td>\n",
       "      <td>None</td>\n",
       "      <td>None</td>\n",
       "      <td>None</td>\n",
       "      <td>None</td>\n",
       "      <td>None</td>\n",
       "      <td>None</td>\n",
       "      <td>None</td>\n",
       "    </tr>\n",
       "    <tr>\n",
       "      <th>3</th>\n",
       "      <td>1014022</td>\n",
       "      <td>4</td>\n",
       "      <td>1</td>\n",
       "      <td>88</td>\n",
       "      <td>1</td>\n",
       "      <td>1684</td>\n",
       "      <td>False</td>\n",
       "      <td>None</td>\n",
       "      <td>IF790658VEDF890100</td>\n",
       "      <td>1</td>\n",
       "      <td>...</td>\n",
       "      <td>None</td>\n",
       "      <td>6217.78</td>\n",
       "      <td>NaN</td>\n",
       "      <td>None</td>\n",
       "      <td>None</td>\n",
       "      <td>None</td>\n",
       "      <td>None</td>\n",
       "      <td>None</td>\n",
       "      <td>None</td>\n",
       "      <td>None</td>\n",
       "    </tr>\n",
       "    <tr>\n",
       "      <th>4</th>\n",
       "      <td>1014022</td>\n",
       "      <td>5</td>\n",
       "      <td>1</td>\n",
       "      <td>88</td>\n",
       "      <td>1</td>\n",
       "      <td>1684</td>\n",
       "      <td>False</td>\n",
       "      <td>None</td>\n",
       "      <td>IF790658VEDFB08E00</td>\n",
       "      <td>2</td>\n",
       "      <td>...</td>\n",
       "      <td>None</td>\n",
       "      <td>2756.33</td>\n",
       "      <td>2052.31</td>\n",
       "      <td>None</td>\n",
       "      <td>None</td>\n",
       "      <td>None</td>\n",
       "      <td>None</td>\n",
       "      <td>None</td>\n",
       "      <td>None</td>\n",
       "      <td>None</td>\n",
       "    </tr>\n",
       "  </tbody>\n",
       "</table>\n",
       "<p>5 rows × 75 columns</p>\n",
       "</div>"
      ],
      "text/plain": [
       "       imo  voyage_number  vessel_type_id  vessel_class_id  vessel_status_id  \\\n",
       "0  1014022              1               1               88                 1   \n",
       "1  1014022              2               1               88                 1   \n",
       "2  1014022              3               1               88                 1   \n",
       "3  1014022              4               1               88                 1   \n",
       "4  1014022              5               1               88                 1   \n",
       "\n",
       "   commercial_operator_id  deleted events                  id  horizon_id  \\\n",
       "0                    1684    False   None  IF790658VEDE9BB300           1   \n",
       "1                    1684    False   None  IF790658VEDF125A00           1   \n",
       "2                    1684    False   None  IF790658VEDF617400           1   \n",
       "3                    1684    False   None  IF790658VEDF890100           1   \n",
       "4                    1684    False   None  IF790658VEDFB08E00           2   \n",
       "\n",
       "   ... predicted_ballast_distance laden_distance predicted_laden_distance  \\\n",
       "0  ...                       None        1335.66                      NaN   \n",
       "1  ...                       None       13548.53                      NaN   \n",
       "2  ...                       None        4372.47                      NaN   \n",
       "3  ...                       None        6217.78                      NaN   \n",
       "4  ...                       None        2756.33                  2052.31   \n",
       "\n",
       "  suez_crossing panama_crossing canakkale_crossing bosporus_crossing  \\\n",
       "0          None            None               None              None   \n",
       "1          None            None               None              None   \n",
       "2          None            None               None              None   \n",
       "3          None            None               None              None   \n",
       "4          None            None               None              None   \n",
       "\n",
       "   torres_strait_crossing magellan_strait_crossing  great_belt_crossing  \n",
       "0                    None                     None                 None  \n",
       "1                    None                     None                 None  \n",
       "2                    None                     None                 None  \n",
       "3                    None                     None                 None  \n",
       "4                    None                     None                 None  \n",
       "\n",
       "[5 rows x 75 columns]"
      ]
     },
     "execution_count": 12,
     "metadata": {},
     "output_type": "execute_result"
    }
   ],
   "source": [
    "vessel_voyages_df = pd.DataFrame(v.__dict__ for v in vessel_voyages_flat.voyages)\n",
    "vessel_voyages_df.tail(5)"
   ]
  },
  {
   "cell_type": "code",
   "execution_count": 13,
   "metadata": {
    "id": "ztvF1PRTOyva",
    "outputId": "878ee026-13ab-4fd6-93ec-df2aab28618d",
    "pycharm": {
     "name": "#%%\n"
    }
   },
   "outputs": [
    {
     "data": {
      "text/html": [
       "<div>\n",
       "<style scoped>\n",
       "    .dataframe tbody tr th:only-of-type {\n",
       "        vertical-align: middle;\n",
       "    }\n",
       "\n",
       "    .dataframe tbody tr th {\n",
       "        vertical-align: top;\n",
       "    }\n",
       "\n",
       "    .dataframe thead th {\n",
       "        text-align: right;\n",
       "    }\n",
       "</style>\n",
       "<table border=\"1\" class=\"dataframe\">\n",
       "  <thead>\n",
       "    <tr style=\"text-align: right;\">\n",
       "      <th></th>\n",
       "      <th>id</th>\n",
       "      <th>voyage_id</th>\n",
       "      <th>event_type_id</th>\n",
       "      <th>event_type</th>\n",
       "      <th>event_horizon_id</th>\n",
       "      <th>event_horizon</th>\n",
       "      <th>purpose</th>\n",
       "      <th>event_date</th>\n",
       "      <th>arrival_date</th>\n",
       "      <th>sailing_date</th>\n",
       "      <th>...</th>\n",
       "      <th>area_idlevel2</th>\n",
       "      <th>area_name_level2</th>\n",
       "      <th>area_idlevel3</th>\n",
       "      <th>area_name_level3</th>\n",
       "      <th>low_ais_density</th>\n",
       "      <th>quantity</th>\n",
       "      <th>quantity_unit_id</th>\n",
       "      <th>quantity_unit</th>\n",
       "      <th>quantity_in_barrels</th>\n",
       "      <th>event_details</th>\n",
       "    </tr>\n",
       "  </thead>\n",
       "  <tbody>\n",
       "    <tr>\n",
       "      <th>28</th>\n",
       "      <td>IF790658TEDFCAEC00</td>\n",
       "      <td>IF790658VEDF890100</td>\n",
       "      <td>1</td>\n",
       "      <td>PortCall</td>\n",
       "      <td>0</td>\n",
       "      <td>Historical</td>\n",
       "      <td>Discharge</td>\n",
       "      <td>NaT</td>\n",
       "      <td>2025-06-01 15:51:15+00:00</td>\n",
       "      <td>2025-06-03 15:58:21+00:00</td>\n",
       "      <td>...</td>\n",
       "      <td>None</td>\n",
       "      <td>None</td>\n",
       "      <td>None</td>\n",
       "      <td>None</td>\n",
       "      <td>None</td>\n",
       "      <td>27000.0</td>\n",
       "      <td>1.0</td>\n",
       "      <td>MetricTonnes</td>\n",
       "      <td>230769.0</td>\n",
       "      <td>None</td>\n",
       "    </tr>\n",
       "    <tr>\n",
       "      <th>29</th>\n",
       "      <td>IF790658SEDFB08E00</td>\n",
       "      <td>IF790658VEDFB08E00</td>\n",
       "      <td>2</td>\n",
       "      <td>VoyageStart</td>\n",
       "      <td>0</td>\n",
       "      <td>Historical</td>\n",
       "      <td>Start</td>\n",
       "      <td>2025-06-03 15:58:21+00:00</td>\n",
       "      <td>NaT</td>\n",
       "      <td>NaT</td>\n",
       "      <td>...</td>\n",
       "      <td>None</td>\n",
       "      <td>None</td>\n",
       "      <td>None</td>\n",
       "      <td>None</td>\n",
       "      <td>None</td>\n",
       "      <td>NaN</td>\n",
       "      <td>NaN</td>\n",
       "      <td>None</td>\n",
       "      <td>NaN</td>\n",
       "      <td>None</td>\n",
       "    </tr>\n",
       "    <tr>\n",
       "      <th>30</th>\n",
       "      <td>IF790658TEDFD03200</td>\n",
       "      <td>IF790658VEDFB08E00</td>\n",
       "      <td>0</td>\n",
       "      <td>Stop</td>\n",
       "      <td>0</td>\n",
       "      <td>Historical</td>\n",
       "      <td>Stop</td>\n",
       "      <td>NaT</td>\n",
       "      <td>2025-06-03 23:51:28+00:00</td>\n",
       "      <td>2025-06-04 11:54:36+00:00</td>\n",
       "      <td>...</td>\n",
       "      <td>None</td>\n",
       "      <td>None</td>\n",
       "      <td>None</td>\n",
       "      <td>None</td>\n",
       "      <td>None</td>\n",
       "      <td>NaN</td>\n",
       "      <td>NaN</td>\n",
       "      <td>None</td>\n",
       "      <td>NaN</td>\n",
       "      <td>None</td>\n",
       "    </tr>\n",
       "    <tr>\n",
       "      <th>31</th>\n",
       "      <td>IF790658TEDFD81B00</td>\n",
       "      <td>IF790658VEDFB08E00</td>\n",
       "      <td>1</td>\n",
       "      <td>PortCall</td>\n",
       "      <td>0</td>\n",
       "      <td>Historical</td>\n",
       "      <td>Load</td>\n",
       "      <td>NaT</td>\n",
       "      <td>2025-06-12 23:51:02+00:00</td>\n",
       "      <td>2025-06-15 11:50:03+00:00</td>\n",
       "      <td>...</td>\n",
       "      <td>None</td>\n",
       "      <td>None</td>\n",
       "      <td>None</td>\n",
       "      <td>None</td>\n",
       "      <td>None</td>\n",
       "      <td>38000.0</td>\n",
       "      <td>1.0</td>\n",
       "      <td>MetricTonnes</td>\n",
       "      <td>316667.0</td>\n",
       "      <td>None</td>\n",
       "    </tr>\n",
       "    <tr>\n",
       "      <th>32</th>\n",
       "      <td>IF790658TEDFF27900</td>\n",
       "      <td>IF790658VEDFB08E00</td>\n",
       "      <td>1</td>\n",
       "      <td>PortCall</td>\n",
       "      <td>2</td>\n",
       "      <td>Future</td>\n",
       "      <td>Discharge</td>\n",
       "      <td>NaT</td>\n",
       "      <td>2025-07-01 14:43:13.321000+00:00</td>\n",
       "      <td>2025-07-04 07:14:19.243000+00:00</td>\n",
       "      <td>...</td>\n",
       "      <td>None</td>\n",
       "      <td>None</td>\n",
       "      <td>None</td>\n",
       "      <td>None</td>\n",
       "      <td>True</td>\n",
       "      <td>38000.0</td>\n",
       "      <td>1.0</td>\n",
       "      <td>MetricTonnes</td>\n",
       "      <td>316667.0</td>\n",
       "      <td>None</td>\n",
       "    </tr>\n",
       "  </tbody>\n",
       "</table>\n",
       "<p>5 rows × 33 columns</p>\n",
       "</div>"
      ],
      "text/plain": [
       "                    id           voyage_id  event_type_id   event_type  \\\n",
       "28  IF790658TEDFCAEC00  IF790658VEDF890100              1     PortCall   \n",
       "29  IF790658SEDFB08E00  IF790658VEDFB08E00              2  VoyageStart   \n",
       "30  IF790658TEDFD03200  IF790658VEDFB08E00              0         Stop   \n",
       "31  IF790658TEDFD81B00  IF790658VEDFB08E00              1     PortCall   \n",
       "32  IF790658TEDFF27900  IF790658VEDFB08E00              1     PortCall   \n",
       "\n",
       "    event_horizon_id event_horizon    purpose                event_date  \\\n",
       "28                 0    Historical  Discharge                       NaT   \n",
       "29                 0    Historical      Start 2025-06-03 15:58:21+00:00   \n",
       "30                 0    Historical       Stop                       NaT   \n",
       "31                 0    Historical       Load                       NaT   \n",
       "32                 2        Future  Discharge                       NaT   \n",
       "\n",
       "                       arrival_date                     sailing_date  ...  \\\n",
       "28        2025-06-01 15:51:15+00:00        2025-06-03 15:58:21+00:00  ...   \n",
       "29                              NaT                              NaT  ...   \n",
       "30        2025-06-03 23:51:28+00:00        2025-06-04 11:54:36+00:00  ...   \n",
       "31        2025-06-12 23:51:02+00:00        2025-06-15 11:50:03+00:00  ...   \n",
       "32 2025-07-01 14:43:13.321000+00:00 2025-07-04 07:14:19.243000+00:00  ...   \n",
       "\n",
       "    area_idlevel2  area_name_level2  area_idlevel3 area_name_level3  \\\n",
       "28           None              None           None             None   \n",
       "29           None              None           None             None   \n",
       "30           None              None           None             None   \n",
       "31           None              None           None             None   \n",
       "32           None              None           None             None   \n",
       "\n",
       "    low_ais_density quantity quantity_unit_id quantity_unit  \\\n",
       "28             None  27000.0              1.0  MetricTonnes   \n",
       "29             None      NaN              NaN          None   \n",
       "30             None      NaN              NaN          None   \n",
       "31             None  38000.0              1.0  MetricTonnes   \n",
       "32             True  38000.0              1.0  MetricTonnes   \n",
       "\n",
       "   quantity_in_barrels event_details  \n",
       "28            230769.0          None  \n",
       "29                 NaN          None  \n",
       "30                 NaN          None  \n",
       "31            316667.0          None  \n",
       "32            316667.0          None  \n",
       "\n",
       "[5 rows x 33 columns]"
      ]
     },
     "execution_count": 13,
     "metadata": {},
     "output_type": "execute_result"
    }
   ],
   "source": [
    "vessel_events_df = pd.DataFrame(v.__dict__ for v in vessel_voyages_flat.events)\n",
    "vessel_events_df.tail(5)"
   ]
  },
  {
   "cell_type": "code",
   "execution_count": 14,
   "metadata": {
    "id": "PklwbZAvOyva",
    "outputId": "b20a7939-012c-4f1f-f5da-f2567c91939e",
    "pycharm": {
     "name": "#%%\n"
    }
   },
   "outputs": [
    {
     "data": {
      "text/html": [
       "<div>\n",
       "<style scoped>\n",
       "    .dataframe tbody tr th:only-of-type {\n",
       "        vertical-align: middle;\n",
       "    }\n",
       "\n",
       "    .dataframe tbody tr th {\n",
       "        vertical-align: top;\n",
       "    }\n",
       "\n",
       "    .dataframe thead th {\n",
       "        text-align: right;\n",
       "    }\n",
       "</style>\n",
       "<table border=\"1\" class=\"dataframe\">\n",
       "  <thead>\n",
       "    <tr style=\"text-align: right;\">\n",
       "      <th></th>\n",
       "      <th>id</th>\n",
       "      <th>event_id</th>\n",
       "      <th>event_detail_type</th>\n",
       "      <th>arrival_date</th>\n",
       "      <th>sailing_date</th>\n",
       "      <th>start_time_of_operation</th>\n",
       "      <th>end_time_of_operation</th>\n",
       "      <th>sts_id</th>\n",
       "      <th>geo_asset_id</th>\n",
       "      <th>geo_asset_name</th>\n",
       "      <th>latitude</th>\n",
       "      <th>longitude</th>\n",
       "      <th>other_vessel_imo</th>\n",
       "      <th>other_vessel_name</th>\n",
       "      <th>floating_storage_start_date</th>\n",
       "      <th>floating_storage_duration</th>\n",
       "    </tr>\n",
       "  </thead>\n",
       "  <tbody>\n",
       "    <tr>\n",
       "      <th>26</th>\n",
       "      <td>IF790658LEDFB08E00</td>\n",
       "      <td>IF790658TEDFB08E00</td>\n",
       "      <td>Stop</td>\n",
       "      <td>2025-05-15 15:48:42+00:00</td>\n",
       "      <td>2025-05-16 07:53:28+00:00</td>\n",
       "      <td>NaT</td>\n",
       "      <td>NaT</td>\n",
       "      <td>None</td>\n",
       "      <td>4427</td>\n",
       "      <td>Lome Lightering Zone</td>\n",
       "      <td>6.0568</td>\n",
       "      <td>1.2939</td>\n",
       "      <td>NaN</td>\n",
       "      <td>None</td>\n",
       "      <td>None</td>\n",
       "      <td>None</td>\n",
       "    </tr>\n",
       "    <tr>\n",
       "      <th>27</th>\n",
       "      <td>IF790658LEDFBDBD00</td>\n",
       "      <td>IF790658TEDFBDBD00</td>\n",
       "      <td>Stop</td>\n",
       "      <td>2025-05-22 15:51:57+00:00</td>\n",
       "      <td>2025-05-23 07:53:58+00:00</td>\n",
       "      <td>NaT</td>\n",
       "      <td>NaT</td>\n",
       "      <td>None</td>\n",
       "      <td>5669</td>\n",
       "      <td>Estaçao Da Shell-Gale</td>\n",
       "      <td>14.1189</td>\n",
       "      <td>-26.3622</td>\n",
       "      <td>NaN</td>\n",
       "      <td>None</td>\n",
       "      <td>None</td>\n",
       "      <td>None</td>\n",
       "    </tr>\n",
       "    <tr>\n",
       "      <th>28</th>\n",
       "      <td>IF790658LEDFCAEC00</td>\n",
       "      <td>IF790658TEDFCAEC00</td>\n",
       "      <td>Jetty</td>\n",
       "      <td>2025-06-01 15:51:15+00:00</td>\n",
       "      <td>2025-06-03 15:58:21+00:00</td>\n",
       "      <td>2025-06-02 11:57:40+00:00</td>\n",
       "      <td>2025-06-03 15:58:21+00:00</td>\n",
       "      <td>None</td>\n",
       "      <td>5544</td>\n",
       "      <td>New York Kinder Morgan Carteret Terminal</td>\n",
       "      <td>40.5890</td>\n",
       "      <td>-74.2082</td>\n",
       "      <td>NaN</td>\n",
       "      <td>None</td>\n",
       "      <td>None</td>\n",
       "      <td>None</td>\n",
       "    </tr>\n",
       "    <tr>\n",
       "      <th>29</th>\n",
       "      <td>IF790658LEDFD03200</td>\n",
       "      <td>IF790658TEDFD03200</td>\n",
       "      <td>Stop</td>\n",
       "      <td>2025-06-03 23:51:28+00:00</td>\n",
       "      <td>2025-06-04 11:54:36+00:00</td>\n",
       "      <td>NaT</td>\n",
       "      <td>NaT</td>\n",
       "      <td>None</td>\n",
       "      <td>5544</td>\n",
       "      <td>New York Kinder Morgan Carteret Terminal</td>\n",
       "      <td>40.6419</td>\n",
       "      <td>-74.0631</td>\n",
       "      <td>NaN</td>\n",
       "      <td>None</td>\n",
       "      <td>None</td>\n",
       "      <td>None</td>\n",
       "    </tr>\n",
       "    <tr>\n",
       "      <th>30</th>\n",
       "      <td>IF790658LEDFD81B00</td>\n",
       "      <td>IF790658TEDFD81B00</td>\n",
       "      <td>Jetty</td>\n",
       "      <td>2025-06-12 23:51:02+00:00</td>\n",
       "      <td>2025-06-15 11:50:03+00:00</td>\n",
       "      <td>2025-06-13 23:49:47+00:00</td>\n",
       "      <td>2025-06-15 11:50:03+00:00</td>\n",
       "      <td>None</td>\n",
       "      <td>4716</td>\n",
       "      <td>Marathon Texas City Refinery</td>\n",
       "      <td>29.3736</td>\n",
       "      <td>-94.8893</td>\n",
       "      <td>NaN</td>\n",
       "      <td>None</td>\n",
       "      <td>None</td>\n",
       "      <td>None</td>\n",
       "    </tr>\n",
       "  </tbody>\n",
       "</table>\n",
       "</div>"
      ],
      "text/plain": [
       "                    id            event_id event_detail_type  \\\n",
       "26  IF790658LEDFB08E00  IF790658TEDFB08E00              Stop   \n",
       "27  IF790658LEDFBDBD00  IF790658TEDFBDBD00              Stop   \n",
       "28  IF790658LEDFCAEC00  IF790658TEDFCAEC00             Jetty   \n",
       "29  IF790658LEDFD03200  IF790658TEDFD03200              Stop   \n",
       "30  IF790658LEDFD81B00  IF790658TEDFD81B00             Jetty   \n",
       "\n",
       "                arrival_date              sailing_date  \\\n",
       "26 2025-05-15 15:48:42+00:00 2025-05-16 07:53:28+00:00   \n",
       "27 2025-05-22 15:51:57+00:00 2025-05-23 07:53:58+00:00   \n",
       "28 2025-06-01 15:51:15+00:00 2025-06-03 15:58:21+00:00   \n",
       "29 2025-06-03 23:51:28+00:00 2025-06-04 11:54:36+00:00   \n",
       "30 2025-06-12 23:51:02+00:00 2025-06-15 11:50:03+00:00   \n",
       "\n",
       "     start_time_of_operation     end_time_of_operation sts_id  geo_asset_id  \\\n",
       "26                       NaT                       NaT   None          4427   \n",
       "27                       NaT                       NaT   None          5669   \n",
       "28 2025-06-02 11:57:40+00:00 2025-06-03 15:58:21+00:00   None          5544   \n",
       "29                       NaT                       NaT   None          5544   \n",
       "30 2025-06-13 23:49:47+00:00 2025-06-15 11:50:03+00:00   None          4716   \n",
       "\n",
       "                              geo_asset_name  latitude  longitude  \\\n",
       "26                      Lome Lightering Zone    6.0568     1.2939   \n",
       "27                     Estaçao Da Shell-Gale   14.1189   -26.3622   \n",
       "28  New York Kinder Morgan Carteret Terminal   40.5890   -74.2082   \n",
       "29  New York Kinder Morgan Carteret Terminal   40.6419   -74.0631   \n",
       "30              Marathon Texas City Refinery   29.3736   -94.8893   \n",
       "\n",
       "    other_vessel_imo other_vessel_name floating_storage_start_date  \\\n",
       "26               NaN              None                        None   \n",
       "27               NaN              None                        None   \n",
       "28               NaN              None                        None   \n",
       "29               NaN              None                        None   \n",
       "30               NaN              None                        None   \n",
       "\n",
       "   floating_storage_duration  \n",
       "26                      None  \n",
       "27                      None  \n",
       "28                      None  \n",
       "29                      None  \n",
       "30                      None  "
      ]
     },
     "execution_count": 14,
     "metadata": {},
     "output_type": "execute_result"
    }
   ],
   "source": [
    "vessel_event_details_df = pd.DataFrame(v.__dict__ for v in vessel_voyages_flat.event_details)\n",
    "vessel_event_details_df.tail(5)"
   ]
  },
  {
   "cell_type": "code",
   "execution_count": 15,
   "metadata": {
    "id": "Rj2ZAg3_Oyvb",
    "outputId": "35a71f08-d78d-411e-cf3a-76ee77287a35",
    "pycharm": {
     "name": "#%%\n"
    }
   },
   "outputs": [
    {
     "data": {
      "text/html": [
       "<div>\n",
       "<style scoped>\n",
       "    .dataframe tbody tr th:only-of-type {\n",
       "        vertical-align: middle;\n",
       "    }\n",
       "\n",
       "    .dataframe tbody tr th {\n",
       "        vertical-align: top;\n",
       "    }\n",
       "\n",
       "    .dataframe thead th {\n",
       "        text-align: right;\n",
       "    }\n",
       "</style>\n",
       "<table border=\"1\" class=\"dataframe\">\n",
       "  <thead>\n",
       "    <tr style=\"text-align: right;\">\n",
       "      <th></th>\n",
       "      <th>id</th>\n",
       "      <th>name</th>\n",
       "      <th>port_id</th>\n",
       "      <th>port_unlocode</th>\n",
       "      <th>port_name</th>\n",
       "      <th>country_id</th>\n",
       "      <th>country</th>\n",
       "      <th>area_idlevel0</th>\n",
       "      <th>area_name_level0</th>\n",
       "      <th>area_idlevel1</th>\n",
       "      <th>area_name_level1</th>\n",
       "      <th>area_idlevel2</th>\n",
       "      <th>area_name_level2</th>\n",
       "      <th>area_idlevel3</th>\n",
       "      <th>area_name_level3</th>\n",
       "    </tr>\n",
       "  </thead>\n",
       "  <tbody>\n",
       "    <tr>\n",
       "      <th>46</th>\n",
       "      <td>3684</td>\n",
       "      <td>Port Harcourt</td>\n",
       "      <td>3684</td>\n",
       "      <td>NG PHC</td>\n",
       "      <td>Port Harcourt</td>\n",
       "      <td>171</td>\n",
       "      <td>Nigeria</td>\n",
       "      <td>24772</td>\n",
       "      <td>Africa Atlantic Coast</td>\n",
       "      <td>37</td>\n",
       "      <td>West Africa</td>\n",
       "      <td>25018</td>\n",
       "      <td>Africa</td>\n",
       "      <td>25027</td>\n",
       "      <td>Africa</td>\n",
       "    </tr>\n",
       "    <tr>\n",
       "      <th>47</th>\n",
       "      <td>3334</td>\n",
       "      <td>Cape Verde</td>\n",
       "      <td>3334</td>\n",
       "      <td>CV GRA</td>\n",
       "      <td>Cape Verde</td>\n",
       "      <td>59</td>\n",
       "      <td>Cabo Verde</td>\n",
       "      <td>24772</td>\n",
       "      <td>Africa Atlantic Coast</td>\n",
       "      <td>37</td>\n",
       "      <td>West Africa</td>\n",
       "      <td>25018</td>\n",
       "      <td>Africa</td>\n",
       "      <td>25027</td>\n",
       "      <td>Africa</td>\n",
       "    </tr>\n",
       "    <tr>\n",
       "      <th>48</th>\n",
       "      <td>3886</td>\n",
       "      <td>Texas City</td>\n",
       "      <td>3886</td>\n",
       "      <td>US TXT</td>\n",
       "      <td>Texas City</td>\n",
       "      <td>240</td>\n",
       "      <td>United States</td>\n",
       "      <td>24676</td>\n",
       "      <td>US Gulf</td>\n",
       "      <td>33</td>\n",
       "      <td>US Gulf &amp; Mainland</td>\n",
       "      <td>25019</td>\n",
       "      <td>Atlantic America</td>\n",
       "      <td>25028</td>\n",
       "      <td>West</td>\n",
       "    </tr>\n",
       "    <tr>\n",
       "      <th>49</th>\n",
       "      <td>6328</td>\n",
       "      <td>Petrotitan Xiao Hu Terminal</td>\n",
       "      <td>3289</td>\n",
       "      <td>CN DGG</td>\n",
       "      <td>Dongguan</td>\n",
       "      <td>55</td>\n",
       "      <td>China</td>\n",
       "      <td>24725</td>\n",
       "      <td>South China</td>\n",
       "      <td>17</td>\n",
       "      <td>China / Taiwan</td>\n",
       "      <td>99</td>\n",
       "      <td>Far East</td>\n",
       "      <td>84</td>\n",
       "      <td>East</td>\n",
       "    </tr>\n",
       "    <tr>\n",
       "      <th>50</th>\n",
       "      <td>5744</td>\n",
       "      <td>Euro Tank Terminal B.v.</td>\n",
       "      <td>3689</td>\n",
       "      <td>NL RTM</td>\n",
       "      <td>Rotterdam</td>\n",
       "      <td>173</td>\n",
       "      <td>Netherlands</td>\n",
       "      <td>24758</td>\n",
       "      <td>Continent</td>\n",
       "      <td>25016</td>\n",
       "      <td>UK Continent</td>\n",
       "      <td>25025</td>\n",
       "      <td>Mediterranean / UK Continent</td>\n",
       "      <td>25028</td>\n",
       "      <td>West</td>\n",
       "    </tr>\n",
       "  </tbody>\n",
       "</table>\n",
       "</div>"
      ],
      "text/plain": [
       "      id                         name  port_id port_unlocode      port_name  \\\n",
       "46  3684                Port Harcourt     3684        NG PHC  Port Harcourt   \n",
       "47  3334                   Cape Verde     3334        CV GRA     Cape Verde   \n",
       "48  3886                   Texas City     3886        US TXT     Texas City   \n",
       "49  6328  Petrotitan Xiao Hu Terminal     3289        CN DGG       Dongguan   \n",
       "50  5744      Euro Tank Terminal B.v.     3689        NL RTM      Rotterdam   \n",
       "\n",
       "    country_id        country  area_idlevel0       area_name_level0  \\\n",
       "46         171        Nigeria          24772  Africa Atlantic Coast   \n",
       "47          59     Cabo Verde          24772  Africa Atlantic Coast   \n",
       "48         240  United States          24676                US Gulf   \n",
       "49          55          China          24725            South China   \n",
       "50         173    Netherlands          24758              Continent   \n",
       "\n",
       "    area_idlevel1    area_name_level1  area_idlevel2  \\\n",
       "46             37         West Africa          25018   \n",
       "47             37         West Africa          25018   \n",
       "48             33  US Gulf & Mainland          25019   \n",
       "49             17      China / Taiwan             99   \n",
       "50          25016        UK Continent          25025   \n",
       "\n",
       "                area_name_level2  area_idlevel3 area_name_level3  \n",
       "46                        Africa          25027           Africa  \n",
       "47                        Africa          25027           Africa  \n",
       "48              Atlantic America          25028             West  \n",
       "49                      Far East             84             East  \n",
       "50  Mediterranean / UK Continent          25028             West  "
      ]
     },
     "execution_count": 15,
     "metadata": {},
     "output_type": "execute_result"
    }
   ],
   "source": [
    "vessel_voyages_geos_df = pd.DataFrame(v.__dict__ for v in vessel_voyages_flat.geos)\n",
    "vessel_voyages_geos_df.tail(5)"
   ]
  },
  {
   "cell_type": "markdown",
   "metadata": {
    "id": "KosfTNj0Oyvb",
    "pycharm": {
     "name": "#%% md\n"
    }
   },
   "source": [
    "### Get voyages for vessel class in the flat format"
   ]
  },
  {
   "cell_type": "code",
   "execution_count": 16,
   "metadata": {
    "id": "kCud5NPqOyvb",
    "pycharm": {
     "name": "#%%\n"
    }
   },
   "outputs": [],
   "source": [
    "#get vessel class id for vlcc\n",
    "vc = api.get_vessel_classes(VesselClassFilter('vlcc'))[0]\n",
    "vlcc_id = vc.vessel_class_id\n",
    "\n",
    "date_from = date.today() - timedelta(days=30)\n",
    "recent_vlcc_voyages_flat = api.get_voyages_flat(vessel_class_id=vlcc_id, date_from=date_from)"
   ]
  },
  {
   "cell_type": "code",
   "execution_count": 17,
   "metadata": {
    "colab": {
     "base_uri": "https://localhost:8080/"
    },
    "id": "bQwUf_ItOyvb",
    "outputId": "117a5582-d5b9-48de-9946-1806509a805d",
    "pycharm": {
     "name": "#%%\n"
    }
   },
   "outputs": [
    {
     "name": "stdout",
     "output_type": "stream",
     "text": [
      "Voyages: 397\n",
      "Events: 1443\n",
      "EventDetails: 534\n",
      "Geos: 298\n"
     ]
    }
   ],
   "source": [
    "print('Voyages:', len(recent_vlcc_voyages_flat.voyages))\n",
    "print('Events:', len(recent_vlcc_voyages_flat.events))\n",
    "print('EventDetails:', len(recent_vlcc_voyages_flat.event_details))\n",
    "print('Geos:', len(recent_vlcc_voyages_flat.geos))"
   ]
  },
  {
   "cell_type": "markdown",
   "metadata": {
    "id": "-mLcTt21Oyvc",
    "pycharm": {
     "name": "#%% md\n"
    }
   },
   "source": [
    "### Get voyages for vessel incrementally "
   ]
  },
  {
   "cell_type": "markdown",
   "metadata": {
    "id": "rTgyj0MnOyvc",
    "pycharm": {
     "name": "#%% md\n"
    }
   },
   "source": [
    "Initial requests retrieves voyages mathcing the query criteria and a query token that can be used in the subsequent request."
   ]
  },
  {
   "cell_type": "code",
   "execution_count": 18,
   "metadata": {
    "colab": {
     "base_uri": "https://localhost:8080/"
    },
    "id": "RsFqB1r_Rl-L",
    "outputId": "bda75918-067e-4cd6-f0f7-9af0c0d59f7d",
    "pycharm": {
     "name": "#%%\n"
    }
   },
   "outputs": [
    {
     "data": {
      "text/plain": [
       "Vessel(imo=9416642, vessel_name='Xin Yong Yang')"
      ]
     },
     "execution_count": 18,
     "metadata": {},
     "output_type": "execute_result"
    }
   ],
   "source": [
    "# get the imo by using the vessel name\n",
    "vessel = api.get_imos(VesselFilter('XIN YONG YANG'))[0]\n",
    "vessel"
   ]
  },
  {
   "cell_type": "code",
   "execution_count": 19,
   "metadata": {
    "colab": {
     "base_uri": "https://localhost:8080/"
    },
    "id": "A4QIdI9DOyvc",
    "outputId": "4beee3d2-7273-4732-bc90-c722d21f7e19",
    "pycharm": {
     "name": "#%%\n"
    }
   },
   "outputs": [
    {
     "data": {
      "text/plain": [
       "92"
      ]
     },
     "execution_count": 19,
     "metadata": {},
     "output_type": "execute_result"
    }
   ],
   "source": [
    "vessel_voyages, next_request_token = api.get_incremental_voyages(imo=vessel.imo)\n",
    "len(vessel_voyages)"
   ]
  },
  {
   "cell_type": "markdown",
   "metadata": {
    "id": "PO1euHByOyvc",
    "pycharm": {
     "name": "#%% md\n"
    }
   },
   "source": [
    "Provided the token retrieved for the previous request, the subsequent request retrieves only voyages that have been updated since the previous request. "
   ]
  },
  {
   "cell_type": "code",
   "execution_count": 20,
   "metadata": {
    "id": "qmVQVvyrOyvc",
    "outputId": "344ffec4-6ab9-4357-ca19-a4fdfb9078b3",
    "pycharm": {
     "name": "#%%\n"
    }
   },
   "outputs": [
    {
     "data": {
      "text/plain": [
       "1"
      ]
     },
     "execution_count": 20,
     "metadata": {},
     "output_type": "execute_result"
    }
   ],
   "source": [
    "incremental_voyages, next_request_token = api.get_incremental_voyages(imo=9416642, incremental_token=next_request_token)\n",
    "len(incremental_voyages)"
   ]
  },
  {
   "cell_type": "markdown",
   "metadata": {
    "id": "uehO3EAYOyvd",
    "pycharm": {
     "name": "#%% md\n"
    }
   },
   "source": [
    "The retrieved information is used to replace any modify voyages from the dataset. Note that returned voyages marked as deleted are only used to filter out voyages. "
   ]
  },
  {
   "cell_type": "code",
   "execution_count": 21,
   "metadata": {
    "id": "xA1FkflhOyvd",
    "outputId": "0c859de7-bd80-4ecf-f549-73eae3029e46",
    "pycharm": {
     "name": "#%%\n"
    }
   },
   "outputs": [
    {
     "data": {
      "text/plain": [
       "92"
      ]
     },
     "execution_count": 21,
     "metadata": {},
     "output_type": "execute_result"
    }
   ],
   "source": [
    "updated_voyage_ids = set(v.id for v in incremental_voyages)\n",
    "vessel_voyages = [v for v in vessel_voyages if v.id not in updated_voyage_ids]\n",
    "new_vessel_voyages = [v for v in incremental_voyages if not v.deleted]\n",
    "vessel_voyages = sorted(vessel_voyages + new_vessel_voyages, key= lambda v: v.voyage_number)\n",
    "len(vessel_voyages)"
   ]
  },
  {
   "cell_type": "markdown",
   "metadata": {
    "id": "OWOaKgomOyvd",
    "pycharm": {
     "name": "#%% md\n"
    }
   },
   "source": [
    "### Get voyages for vessel class incrementally "
   ]
  },
  {
   "cell_type": "markdown",
   "metadata": {
    "id": "EuJdS_MdOyvd",
    "pycharm": {
     "name": "#%% md\n"
    }
   },
   "source": [
    "Voyages for vessel class are retieved and updated in the same way incrementally."
   ]
  },
  {
   "cell_type": "code",
   "execution_count": 22,
   "metadata": {
    "colab": {
     "base_uri": "https://localhost:8080/"
    },
    "id": "aaKjySklR9Pv",
    "outputId": "e2d82fc0-2efc-4468-daa8-1867d7d682c5",
    "pycharm": {
     "name": "#%%\n"
    }
   },
   "outputs": [
    {
     "data": {
      "text/plain": [
       "84"
      ]
     },
     "execution_count": 22,
     "metadata": {},
     "output_type": "execute_result"
    }
   ],
   "source": [
    "#get vessel class id for vlcc\n",
    "vc = api.get_vessel_classes(VesselClassFilter('vlcc'))[0]\n",
    "vessel_class_id = vc.vessel_class_id\n",
    "vessel_class_id"
   ]
  },
  {
   "cell_type": "code",
   "execution_count": 23,
   "metadata": {
    "id": "hoDG2TrAOyvd",
    "pycharm": {
     "name": "#%%\n"
    }
   },
   "outputs": [],
   "source": [
    "date_from = date.today() - timedelta(days=30)"
   ]
  },
  {
   "cell_type": "code",
   "execution_count": 24,
   "metadata": {
    "id": "u-NrM_yFOyve",
    "outputId": "40a6b456-8a83-4e8e-f45a-757b990258c9",
    "pycharm": {
     "name": "#%%\n"
    }
   },
   "outputs": [
    {
     "data": {
      "text/plain": [
       "397"
      ]
     },
     "execution_count": 24,
     "metadata": {},
     "output_type": "execute_result"
    }
   ],
   "source": [
    "voyages, next_request_token = api.get_incremental_voyages(vessel_class_id=vessel_class_id, date_from=date_from)\n",
    "len(voyages)"
   ]
  },
  {
   "cell_type": "code",
   "execution_count": 25,
   "metadata": {
    "id": "NteLP5YGOyve",
    "outputId": "8165a9aa-d7bd-45d0-ea49-e211a144cf44",
    "pycharm": {
     "name": "#%%\n"
    }
   },
   "outputs": [
    {
     "data": {
      "text/plain": [
       "54"
      ]
     },
     "execution_count": 25,
     "metadata": {},
     "output_type": "execute_result"
    }
   ],
   "source": [
    "incremental_voyages, next_request_token = api.get_incremental_voyages(vessel_class_id=vessel_class_id, date_from=date_from, incremental_token=next_request_token)\n",
    "len(incremental_voyages)"
   ]
  },
  {
   "cell_type": "code",
   "execution_count": 26,
   "metadata": {
    "id": "EnhF_D7oOyve",
    "outputId": "dbc6d5ae-abc1-4374-d4f1-d81468496a78",
    "pycharm": {
     "name": "#%%\n"
    }
   },
   "outputs": [
    {
     "data": {
      "text/plain": [
       "397"
      ]
     },
     "execution_count": 26,
     "metadata": {},
     "output_type": "execute_result"
    }
   ],
   "source": [
    "updated_voyage_ids = set(v.id for v in incremental_voyages)\n",
    "voyages = [v for v in voyages if v.id not in updated_voyage_ids and not v.deleted]\n",
    "new_voyages = [v for v in incremental_voyages if not v.deleted]\n",
    "voyages = sorted(voyages + new_voyages, key= lambda v: (v.imo, v.voyage_number))\n",
    "len(voyages)"
   ]
  },
  {
   "cell_type": "markdown",
   "metadata": {
    "id": "7Z90cXUMOyve",
    "pycharm": {
     "name": "#%% md\n"
    }
   },
   "source": [
    "### Get voyages for vessel class incrementally in the flat format"
   ]
  },
  {
   "cell_type": "markdown",
   "metadata": {
    "id": "CDfq-d7IOyvg",
    "pycharm": {
     "name": "#%% md\n"
    }
   },
   "source": [
    "Voyages may be retrieved and updated incrementally in the flat format. "
   ]
  },
  {
   "cell_type": "code",
   "execution_count": 27,
   "metadata": {
    "colab": {
     "base_uri": "https://localhost:8080/"
    },
    "id": "bTK4pOcRSCss",
    "outputId": "9b404040-5026-40a6-ad88-08c286eb0792",
    "pycharm": {
     "name": "#%%\n"
    }
   },
   "outputs": [
    {
     "data": {
      "text/plain": [
       "84"
      ]
     },
     "execution_count": 27,
     "metadata": {},
     "output_type": "execute_result"
    }
   ],
   "source": [
    "#get vessel class id for vlcc\n",
    "vc = api.get_vessel_classes(VesselClassFilter('vlcc'))[0]\n",
    "vessel_class_id = vc.vessel_class_id\n",
    "vessel_class_id"
   ]
  },
  {
   "cell_type": "code",
   "execution_count": 28,
   "metadata": {
    "id": "GuHVwQc8Oyvg",
    "pycharm": {
     "name": "#%%\n"
    }
   },
   "outputs": [],
   "source": [
    "date_from = date.today() - timedelta(days=30)"
   ]
  },
  {
   "cell_type": "code",
   "execution_count": 29,
   "metadata": {
    "id": "IJIWwU7sOyvg",
    "pycharm": {
     "name": "#%%\n"
    }
   },
   "outputs": [],
   "source": [
    "voyages_flat, next_request_token = api.get_incremental_voyages_flat(vessel_class_id=vessel_class_id, date_from=date_from)"
   ]
  },
  {
   "cell_type": "code",
   "execution_count": 30,
   "metadata": {
    "id": "9Py1NwlNOyvg",
    "pycharm": {
     "name": "#%%\n"
    }
   },
   "outputs": [],
   "source": [
    "voyages = voyages_flat.voyages\n",
    "events = voyages_flat.events\n",
    "event_details = voyages_flat.event_details\n",
    "geos = voyages_flat.geos"
   ]
  },
  {
   "cell_type": "code",
   "execution_count": 31,
   "metadata": {
    "id": "Jy3B4gg9Oyvg",
    "outputId": "e66bfa84-49f4-40a7-f6e8-bd29ffaf1918",
    "pycharm": {
     "name": "#%%\n"
    }
   },
   "outputs": [
    {
     "data": {
      "text/plain": [
       "(397, 1443, 534, 298)"
      ]
     },
     "execution_count": 31,
     "metadata": {},
     "output_type": "execute_result"
    }
   ],
   "source": [
    "len(voyages), len(events), len(event_details), len(geos)"
   ]
  },
  {
   "cell_type": "code",
   "execution_count": 32,
   "metadata": {
    "id": "LbnYof4VOyvh",
    "pycharm": {
     "name": "#%%\n"
    }
   },
   "outputs": [],
   "source": [
    "incremental_voyages_flat, next_request_token = api.get_incremental_voyages_flat(vessel_class_id=vessel_class_id, date_from=date_from, incremental_token=next_request_token)"
   ]
  },
  {
   "cell_type": "code",
   "execution_count": 33,
   "metadata": {
    "id": "cXpOEn0uOyvh",
    "outputId": "8cf171cf-4703-4b31-9e80-923f92419544",
    "pycharm": {
     "name": "#%%\n"
    }
   },
   "outputs": [
    {
     "data": {
      "text/plain": [
       "72"
      ]
     },
     "execution_count": 33,
     "metadata": {},
     "output_type": "execute_result"
    }
   ],
   "source": [
    "len(incremental_voyages_flat.voyages)"
   ]
  },
  {
   "cell_type": "markdown",
   "metadata": {
    "id": "Us-FRQ9DOyvh",
    "pycharm": {
     "name": "#%% md\n"
    }
   },
   "source": [
    "In this case the update step is applied to voyages, events, event details and geos datasets."
   ]
  },
  {
   "cell_type": "code",
   "execution_count": 34,
   "metadata": {
    "id": "ZMj4PhVqOyvh",
    "outputId": "2bb6aea3-7055-448d-fe6d-dbf8d4e40d2b",
    "pycharm": {
     "name": "#%%\n"
    }
   },
   "outputs": [
    {
     "data": {
      "text/plain": [
       "397"
      ]
     },
     "execution_count": 34,
     "metadata": {},
     "output_type": "execute_result"
    }
   ],
   "source": [
    "updated_voyage_ids = set(v.id for v in incremental_voyages_flat.voyages)\n",
    "voyages = [v for v in voyages if v.id not in updated_voyage_ids and not v.deleted]\n",
    "new_voyages = [v for v in incremental_voyages_flat.voyages if not v.deleted]\n",
    "voyages = sorted(voyages + new_voyages, key= lambda v: (v.imo, v.voyage_number))\n",
    "len(voyages)"
   ]
  },
  {
   "cell_type": "code",
   "execution_count": 35,
   "metadata": {
    "id": "XDTr5qU3Oyvh",
    "outputId": "8f3c6357-092a-4ee9-8d30-47998e9c3237",
    "pycharm": {
     "name": "#%%\n"
    }
   },
   "outputs": [
    {
     "data": {
      "text/plain": [
       "1443"
      ]
     },
     "execution_count": 35,
     "metadata": {},
     "output_type": "execute_result"
    }
   ],
   "source": [
    "updated_event_ids = set(e.id for e in events if e.voyage_id in updated_voyage_ids)\n",
    "events = [e for e in events if e.id not in updated_event_ids]\n",
    "events = sorted(events + list(incremental_voyages_flat.events), key= lambda e: e.id)\n",
    "len(events)"
   ]
  },
  {
   "cell_type": "code",
   "execution_count": 36,
   "metadata": {
    "id": "aRpLomdkOyvh",
    "outputId": "4dd4e4d0-ec83-44c7-c12d-e1f2e6b3f797",
    "pycharm": {
     "name": "#%%\n"
    }
   },
   "outputs": [
    {
     "data": {
      "text/plain": [
       "619"
      ]
     },
     "execution_count": 36,
     "metadata": {},
     "output_type": "execute_result"
    }
   ],
   "source": [
    "event_details = [e for e in event_details if e.id not in updated_event_ids]\n",
    "event_details = sorted(event_details + list(incremental_voyages_flat.event_details), key= lambda e: e.id)\n",
    "len(event_details)"
   ]
  },
  {
   "cell_type": "code",
   "execution_count": 37,
   "metadata": {
    "id": "twfn4aRvOyvi",
    "outputId": "b5bb8b74-f929-47c4-e68f-760570524f84",
    "pycharm": {
     "name": "#%%\n"
    }
   },
   "outputs": [
    {
     "data": {
      "text/plain": [
       "298"
      ]
     },
     "execution_count": 37,
     "metadata": {},
     "output_type": "execute_result"
    }
   ],
   "source": [
    "updated_geo_ids = set(g.id for g in incremental_voyages_flat.geos)\n",
    "geos = [g for g in geos if g.id not in updated_geo_ids] + list(incremental_voyages_flat.geos)\n",
    "len(geos)"
   ]
  }
 ],
 "metadata": {
  "colab": {
   "collapsed_sections": [],
   "name": "Copy of VoyagesAPI.ipynb",
   "provenance": []
  },
  "kernelspec": {
   "display_name": "Python 3 (ipykernel)",
   "language": "python",
   "name": "python3"
  },
  "language_info": {
   "codemirror_mode": {
    "name": "ipython",
    "version": 3
   },
   "file_extension": ".py",
   "mimetype": "text/x-python",
   "name": "python",
   "nbconvert_exporter": "python",
   "pygments_lexer": "ipython3",
   "version": "3.8.12"
  }
 },
 "nbformat": 4,
 "nbformat_minor": 4
}
