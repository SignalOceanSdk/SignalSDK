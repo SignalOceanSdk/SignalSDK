{
 "cells": [
  {
   "cell_type": "markdown",
   "metadata": {
    "id": "V70yOocurXnC"
   },
   "source": [
    "# Fixture Count Example"
   ]
  },
  {
   "cell_type": "markdown",
   "metadata": {
    "id": "k8jAdWCWrkxs"
   },
   "source": [
    "- Get your personal Signal Ocean API subscription key (acquired [here](https://apis.signalocean.com/profile)) and replace it below:"
   ]
  },
  {
   "cell_type": "code",
   "execution_count": null,
   "metadata": {
    "id": "-zD_5VRirW3l"
   },
   "outputs": [],
   "source": [
    "signal_ocean_api_key = \"\"  # replace with your subscription key"
   ]
  },
  {
   "cell_type": "markdown",
   "metadata": {
    "id": "Q_h-MW7rwnvq"
   },
   "source": [
    "## Setup"
   ]
  },
  {
   "cell_type": "markdown",
   "metadata": {
    "id": "pPx-tu3_UnFv"
   },
   "source": [
    "### Import libraries and set default values"
   ]
  },
  {
   "cell_type": "markdown",
   "metadata": {
    "id": "87m_JUs5ws_T"
   },
   "source": [
    "- Install the Signal Ocean SDK and import all required modules:"
   ]
  },
  {
   "cell_type": "code",
   "execution_count": null,
   "metadata": {
    "colab": {
     "base_uri": "https://localhost:8080/"
    },
    "id": "7e9KKjzJwnEg",
    "outputId": "fc34c951-c866-461e-ccdb-c08dc072ef13"
   },
   "outputs": [
    {
     "name": "stdout",
     "output_type": "stream",
     "text": [
      "Collecting signal-ocean\n",
      "  Downloading signal_ocean-1.0.7-py3-none-any.whl (94 kB)\n",
      "\u001b[?25l\r",
      "\u001b[K     |███▌                            | 10 kB 10.8 MB/s eta 0:00:01\r",
      "\u001b[K     |███████                         | 20 kB 13.1 MB/s eta 0:00:01\r",
      "\u001b[K     |██████████▍                     | 30 kB 10.8 MB/s eta 0:00:01\r",
      "\u001b[K     |██████████████                  | 40 kB 8.8 MB/s eta 0:00:01\r",
      "\u001b[K     |█████████████████▍              | 51 kB 4.6 MB/s eta 0:00:01\r",
      "\u001b[K     |████████████████████▉           | 61 kB 5.3 MB/s eta 0:00:01\r",
      "\u001b[K     |████████████████████████▎       | 71 kB 5.2 MB/s eta 0:00:01\r",
      "\u001b[K     |███████████████████████████▉    | 81 kB 5.3 MB/s eta 0:00:01\r",
      "\u001b[K     |███████████████████████████████▎| 92 kB 5.8 MB/s eta 0:00:01\r",
      "\u001b[K     |████████████████████████████████| 94 kB 1.4 MB/s \n",
      "\u001b[?25hRequirement already satisfied: requests<3,>=2.23.0 in /usr/local/lib/python3.7/dist-packages (from signal-ocean) (2.23.0)\n",
      "Requirement already satisfied: python-dateutil<3,>=2.8.1 in /usr/local/lib/python3.7/dist-packages (from signal-ocean) (2.8.2)\n",
      "Requirement already satisfied: pandas<2,>=1.0.3 in /usr/local/lib/python3.7/dist-packages (from signal-ocean) (1.3.5)\n",
      "Requirement already satisfied: numpy>=1.17.3 in /usr/local/lib/python3.7/dist-packages (from pandas<2,>=1.0.3->signal-ocean) (1.21.5)\n",
      "Requirement already satisfied: pytz>=2017.3 in /usr/local/lib/python3.7/dist-packages (from pandas<2,>=1.0.3->signal-ocean) (2018.9)\n",
      "Requirement already satisfied: six>=1.5 in /usr/local/lib/python3.7/dist-packages (from python-dateutil<3,>=2.8.1->signal-ocean) (1.15.0)\n",
      "Requirement already satisfied: certifi>=2017.4.17 in /usr/local/lib/python3.7/dist-packages (from requests<3,>=2.23.0->signal-ocean) (2021.10.8)\n",
      "Requirement already satisfied: chardet<4,>=3.0.2 in /usr/local/lib/python3.7/dist-packages (from requests<3,>=2.23.0->signal-ocean) (3.0.4)\n",
      "Requirement already satisfied: urllib3!=1.25.0,!=1.25.1,<1.26,>=1.21.1 in /usr/local/lib/python3.7/dist-packages (from requests<3,>=2.23.0->signal-ocean) (1.24.3)\n",
      "Requirement already satisfied: idna<3,>=2.5 in /usr/local/lib/python3.7/dist-packages (from requests<3,>=2.23.0->signal-ocean) (2.10)\n",
      "Installing collected packages: signal-ocean\n",
      "Successfully installed signal-ocean-1.0.7\n"
     ]
    }
   ],
   "source": [
    "!pip install signal-ocean\n",
    "\n",
    "from signal_ocean import Connection\n",
    "from signal_ocean.voyages import VoyagesAPI\n",
    "from signal_ocean.voyages import VesselClass, VesselClassFilter\n",
    "import pandas as pd\n",
    "from datetime import date, timedelta, datetime\n",
    "from dateutil.relativedelta import relativedelta\n",
    "import matplotlib.pyplot as plt\n",
    "from matplotlib.pyplot import figure\n",
    "from collections import OrderedDict\n",
    "\n",
    "from plotly.subplots import make_subplots\n",
    "import plotly.graph_objects as go\n",
    "import plotly.express as px\n",
    "import numpy as np\n",
    "import math\n",
    "\n",
    "# Initialize the voyage api\n",
    "connection = Connection(signal_ocean_api_key)\n",
    "api = VoyagesAPI(connection)\n",
    "\n",
    "#set up the grouped areas\n",
    "area_mapping = {\n",
    "    'Arabian Gulf':'AG',\n",
    "    'Red Sea':'AG',\n",
    "    'Singapore / Malaysia':'AG',\n",
    "    'Canada Atlantic Coast':'Caribs',\n",
    "    'Caribs':'Caribs',\n",
    "    'US Atlantic Coast':'Caribs',\n",
    "    'East Coast Mexico':'USG',\n",
    "    'US Gulf':'USG',\n",
    "    'Africa Atlantic Coast':'WAF',\n",
    "    'Argentina & Uruguay':'WAF',\n",
    "    'Brazil':'WAF'\n",
    "}"
   ]
  },
  {
   "cell_type": "markdown",
   "metadata": {
    "id": "dB-QigpmUt1s"
   },
   "source": [
    "### Set parameters"
   ]
  },
  {
   "cell_type": "markdown",
   "metadata": {
    "id": "2wGxDaBEyiIo"
   },
   "source": [
    "- set  the vessel class"
   ]
  },
  {
   "cell_type": "code",
   "execution_count": null,
   "metadata": {
    "id": "oPNGSyY6ybOC"
   },
   "outputs": [],
   "source": [
    "vessel_class_name_like = 'vlcc'"
   ]
  },
  {
   "cell_type": "markdown",
   "metadata": {
    "id": "bpgUvY_nzVOM"
   },
   "source": [
    "- set the year and month from when you want to count fixtures"
   ]
  },
  {
   "cell_type": "code",
   "execution_count": null,
   "metadata": {
    "id": "-xHZ7iqxzVzV"
   },
   "outputs": [],
   "source": [
    "year, month = 2022, 2"
   ]
  },
  {
   "cell_type": "markdown",
   "metadata": {
    "id": "ipszfMrlz9I0"
   },
   "source": [
    "## Calculate Fixture Count"
   ]
  },
  {
   "cell_type": "markdown",
   "metadata": {
    "id": "p0-q-ElQzkGu"
   },
   "source": [
    "* get the voyages data using Voyage API \n",
    "* we extract the voyages which have start after 2 months before the fixture date\n",
    "* from the Voyage Events we extract the Area Level 0, which will be used to create the area groups for fixtures"
   ]
  },
  {
   "cell_type": "code",
   "execution_count": null,
   "metadata": {
    "id": "4or49rRrzm9f"
   },
   "outputs": [],
   "source": [
    "def get_voyages(vcn, year, month):\n",
    "  def get_voyage_load_area(voyage_events):\n",
    "    return next((e.area_name_level0 for e in voyage_events or [] if e.purpose=='Load'), None)\n",
    "  def get_voyage_port_id(voyage_events):\n",
    "    return next((e.port_id for e in voyage_events or [] if e.purpose=='Load'), None)\n",
    "\n",
    "  #calculate the voyage start date (2 month before)\n",
    "  months_back = 2\n",
    "  fixture_date_from = date(year=year, month=month,day=1)\n",
    "  date_from = fixture_date_from - relativedelta(months=+months_back)\n",
    "\n",
    "  # get the vessel class id\n",
    "  vc = api.get_vessel_classes(VesselClassFilter(vcn))[0]\n",
    "  vessel_class_id = vc.vessel_class_id\n",
    "  \n",
    "  data = api.get_voyages(vessel_class_id=vessel_class_id, date_from=date_from)\n",
    "  voyages = pd.DataFrame([v.__dict__ for v in data])\n",
    "  voyages['Level0AreaName_load'] = voyages['events'].apply(get_voyage_load_area)\n",
    "  voyages['port_id'] = voyages['events'].apply(get_voyage_port_id)\n",
    "  voyages.rename(columns={'vessel_class_id': 'VesselClassID'}, inplace=True)\n",
    "  return voyages"
   ]
  },
  {
   "cell_type": "markdown",
   "metadata": {
    "id": "EXBU4h1m0AdY"
   },
   "source": [
    "- Using the area_mapping dictionary we group the level 0 areas\n",
    "- In order a voyage to be fixed, the laycan_from field should not be null\n",
    "- We keep the voyages which has laycan_From greater than the selected date \n",
    "- The final Step is to group the data by year, month, area, and decate and calculate the fixture count for each group"
   ]
  },
  {
   "cell_type": "code",
   "execution_count": null,
   "metadata": {
    "id": "teoLBibp0Csc"
   },
   "outputs": [],
   "source": [
    "def preprocess(data,area_mapping):\n",
    "\n",
    "  # Keep only the dirty\n",
    "  voyages = data.copy()\n",
    "  voyages = voyages[voyages.trade_id == 1]\n",
    "\n",
    "  # merge with the area_mapping on area_level0_name and vessel_class_id\n",
    "  voyages['Area'] = voyages.Level0AreaName_load.map(lambda x: area_mapping[x] \n",
    "                                                    if x in area_mapping \n",
    "                                                    else None)\n",
    "  voyages_df = voyages[[\"imo\",\"voyage_number\",\"VesselClassID\",\n",
    "                        \"Level0AreaName_load\",\"Area\",\"laycan_from\",\"port_id\"]]\n",
    "\n",
    "  # filter with laycan from is not null\n",
    "  voyages_df = voyages_df[~voyages_df.laycan_from.isna()]\n",
    "  \n",
    "  # filter with laycan from\n",
    "  filtered_voyages = voyages_df[voyages_df.laycan_from.dt.date >= \n",
    "                                date(year=year, month=month, day=1)]\n",
    "\n",
    "  # split the laycan from to month, date, year and create the decade\n",
    "  final_df = filtered_voyages.copy()\n",
    "  final_df['day'] = final_df['laycan_from'].dt.day\n",
    "  final_df['month'] = final_df['laycan_from'].dt.month\n",
    "  final_df['year'] = final_df['laycan_from'].dt.year\n",
    "\n",
    "  choices = [1,2,3]\n",
    "  conditions = [\n",
    "        (final_df['day'] <= 10), \n",
    "        ((final_df['day'] > 10) & (final_df['day'] <= 20)),\n",
    "        (final_df['day'] > 20) ]\n",
    "  final_df['decade'] = np.select(conditions, choices, default=np.nan)\n",
    "  final_df['decade'] = final_df['decade'].astype(int)\n",
    "\n",
    "\n",
    "  # Remove 'Other' load areas\n",
    "  final_df = final_df[~final_df.Area.isna()]\n",
    "\n",
    "  \n",
    "  fixture_counts_df = (\n",
    "    final_df\n",
    "    .groupby(['month','year','Area','decade'])\n",
    "    .size()\n",
    "    .rename('fixture_counts')\n",
    "    .reset_index()    \n",
    "  )\n",
    "\n",
    "  month_groups = set(fixture_counts_df.groupby(['year','month']) \\\n",
    "                                        .groups.keys())\n",
    "  area_groups = set(area_mapping.values())\n",
    "  area_month_groups = []\n",
    "  for area in area_groups:\n",
    "    for period in month_groups:\n",
    "      area_month_groups.append((period[0],period[1],area))\n",
    "  decate_areas = []\n",
    "  for area_month in area_month_groups:\n",
    "    decate_areas.append((1,area_month[0],area_month[1],area_month[2]))\n",
    "    decate_areas.append((2,area_month[0],area_month[1],area_month[2]))\n",
    "    decate_areas.append((3,area_month[0],area_month[1],area_month[2]))\n",
    "  decate_per_area = pd.DataFrame(decate_areas, columns=['decade', \n",
    "                                                        'year','month',\n",
    "                                                        'Area'])\n",
    "  fixture_counts_df = pd.merge(fixture_counts_df,decate_per_area,\n",
    "                               on=['decade','year','month','Area'],\n",
    "                               how='right').fillna(0)\n",
    "\n",
    "  fixture_counts_df['Area Total'] = (\n",
    "    fixture_counts_df\n",
    "    .groupby(['year','month','Area'])\n",
    "    .fixture_counts\n",
    "    .transform('sum')    \n",
    "  )\n",
    "  \n",
    "  fixture_counts_df = fixture_counts_df.sort_values(\n",
    "      ['year','month','Area Total','Area','decade'],\n",
    "      ascending=[False,False,True,True,True,]) \n",
    "  return fixture_counts_df"
   ]
  },
  {
   "cell_type": "markdown",
   "metadata": {
    "id": "83p-iwGH1P2J"
   },
   "source": [
    "- Plot Results"
   ]
  },
  {
   "cell_type": "code",
   "execution_count": null,
   "metadata": {
    "id": "4qvPBBGM5lms"
   },
   "outputs": [],
   "source": [
    "def plot_results(fixture_counts_df):\n",
    "\n",
    "  decade_mapping = {\n",
    "      1:'First decade (1st - 10th)',\n",
    "      2:'Second decade (10th - 20th)',\n",
    "      3:'Third decade (20th - 30th)'   \n",
    "  }\n",
    "  fixture_counts_df['year'] = fixture_counts_df['year'].astype(int)\n",
    "  fixture_counts_df['month'] = fixture_counts_df['month'].astype(int)\n",
    "  fixture_counts_df['year_month_name'] = \\\n",
    "    fixture_counts_df.apply(lambda x: \\\n",
    "                              date(x.year, x.month, 1).strftime('%B') \\\n",
    "                              + \" \" + str(x.year), axis=1) \n",
    "\n",
    "  fig = px.bar(fixture_counts_df, \n",
    "                  x='fixture_counts', \n",
    "                  y='Area',\n",
    "                  color=fixture_counts_df['decade'].map(decade_mapping),  \n",
    "                  barmode='stack', \n",
    "                  orientation='h',\n",
    "                  title='Fixture counts',\n",
    "                  text='fixture_counts',\n",
    "                  facet_col  =\"year_month_name\",\n",
    "                  facet_col_wrap = 2,\n",
    "                  )\n",
    "\n",
    "  rows = len(fixture_counts_df.groupby(['year','month']).groups.keys())\n",
    "  fig.update_layout(width=1400,\n",
    "                    height=250*math.ceil(rows/2),\n",
    "                    legend_title=\"Decade\",\n",
    "                    xaxis={'categoryorder':'total ascending'})\n",
    "  fig.show()"
   ]
  },
  {
   "cell_type": "markdown",
   "metadata": {
    "id": "LM0ZhYA-5oLL"
   },
   "source": [
    "## Results"
   ]
  },
  {
   "cell_type": "code",
   "execution_count": null,
   "metadata": {
    "id": "PvWHcnG15sEl"
   },
   "outputs": [],
   "source": [
    "# Get voyages\n",
    "voyages = get_voyages(vessel_class_name_like, year, month)"
   ]
  },
  {
   "cell_type": "code",
   "execution_count": null,
   "metadata": {
    "colab": {
     "base_uri": "https://localhost:8080/",
     "height": 206
    },
    "id": "4bdbRCEe57BI",
    "outputId": "32d419a3-600f-4b64-9eca-6b166b3bef8f"
   },
   "outputs": [
    {
     "data": {
      "text/html": [
       "\n",
       "  <div id=\"df-37a2b1c4-ad33-47e0-81eb-e68385523e54\">\n",
       "    <div class=\"colab-df-container\">\n",
       "      <div>\n",
       "<style scoped>\n",
       "    .dataframe tbody tr th:only-of-type {\n",
       "        vertical-align: middle;\n",
       "    }\n",
       "\n",
       "    .dataframe tbody tr th {\n",
       "        vertical-align: top;\n",
       "    }\n",
       "\n",
       "    .dataframe thead th {\n",
       "        text-align: right;\n",
       "    }\n",
       "</style>\n",
       "<table border=\"1\" class=\"dataframe\">\n",
       "  <thead>\n",
       "    <tr style=\"text-align: right;\">\n",
       "      <th></th>\n",
       "      <th>month</th>\n",
       "      <th>year</th>\n",
       "      <th>Area</th>\n",
       "      <th>decade</th>\n",
       "      <th>fixture_counts</th>\n",
       "      <th>Area Total</th>\n",
       "    </tr>\n",
       "  </thead>\n",
       "  <tbody>\n",
       "    <tr>\n",
       "      <th>9</th>\n",
       "      <td>5</td>\n",
       "      <td>2022</td>\n",
       "      <td>AG</td>\n",
       "      <td>1</td>\n",
       "      <td>0.0</td>\n",
       "      <td>0.0</td>\n",
       "    </tr>\n",
       "    <tr>\n",
       "      <th>10</th>\n",
       "      <td>5</td>\n",
       "      <td>2022</td>\n",
       "      <td>AG</td>\n",
       "      <td>2</td>\n",
       "      <td>0.0</td>\n",
       "      <td>0.0</td>\n",
       "    </tr>\n",
       "    <tr>\n",
       "      <th>11</th>\n",
       "      <td>5</td>\n",
       "      <td>2022</td>\n",
       "      <td>AG</td>\n",
       "      <td>3</td>\n",
       "      <td>0.0</td>\n",
       "      <td>0.0</td>\n",
       "    </tr>\n",
       "    <tr>\n",
       "      <th>21</th>\n",
       "      <td>5</td>\n",
       "      <td>2022</td>\n",
       "      <td>Caribs</td>\n",
       "      <td>1</td>\n",
       "      <td>0.0</td>\n",
       "      <td>0.0</td>\n",
       "    </tr>\n",
       "    <tr>\n",
       "      <th>22</th>\n",
       "      <td>5</td>\n",
       "      <td>2022</td>\n",
       "      <td>Caribs</td>\n",
       "      <td>2</td>\n",
       "      <td>0.0</td>\n",
       "      <td>0.0</td>\n",
       "    </tr>\n",
       "  </tbody>\n",
       "</table>\n",
       "</div>\n",
       "      <button class=\"colab-df-convert\" onclick=\"convertToInteractive('df-37a2b1c4-ad33-47e0-81eb-e68385523e54')\"\n",
       "              title=\"Convert this dataframe to an interactive table.\"\n",
       "              style=\"display:none;\">\n",
       "        \n",
       "  <svg xmlns=\"http://www.w3.org/2000/svg\" height=\"24px\"viewBox=\"0 0 24 24\"\n",
       "       width=\"24px\">\n",
       "    <path d=\"M0 0h24v24H0V0z\" fill=\"none\"/>\n",
       "    <path d=\"M18.56 5.44l.94 2.06.94-2.06 2.06-.94-2.06-.94-.94-2.06-.94 2.06-2.06.94zm-11 1L8.5 8.5l.94-2.06 2.06-.94-2.06-.94L8.5 2.5l-.94 2.06-2.06.94zm10 10l.94 2.06.94-2.06 2.06-.94-2.06-.94-.94-2.06-.94 2.06-2.06.94z\"/><path d=\"M17.41 7.96l-1.37-1.37c-.4-.4-.92-.59-1.43-.59-.52 0-1.04.2-1.43.59L10.3 9.45l-7.72 7.72c-.78.78-.78 2.05 0 2.83L4 21.41c.39.39.9.59 1.41.59.51 0 1.02-.2 1.41-.59l7.78-7.78 2.81-2.81c.8-.78.8-2.07 0-2.86zM5.41 20L4 18.59l7.72-7.72 1.47 1.35L5.41 20z\"/>\n",
       "  </svg>\n",
       "      </button>\n",
       "      \n",
       "  <style>\n",
       "    .colab-df-container {\n",
       "      display:flex;\n",
       "      flex-wrap:wrap;\n",
       "      gap: 12px;\n",
       "    }\n",
       "\n",
       "    .colab-df-convert {\n",
       "      background-color: #E8F0FE;\n",
       "      border: none;\n",
       "      border-radius: 50%;\n",
       "      cursor: pointer;\n",
       "      display: none;\n",
       "      fill: #1967D2;\n",
       "      height: 32px;\n",
       "      padding: 0 0 0 0;\n",
       "      width: 32px;\n",
       "    }\n",
       "\n",
       "    .colab-df-convert:hover {\n",
       "      background-color: #E2EBFA;\n",
       "      box-shadow: 0px 1px 2px rgba(60, 64, 67, 0.3), 0px 1px 3px 1px rgba(60, 64, 67, 0.15);\n",
       "      fill: #174EA6;\n",
       "    }\n",
       "\n",
       "    [theme=dark] .colab-df-convert {\n",
       "      background-color: #3B4455;\n",
       "      fill: #D2E3FC;\n",
       "    }\n",
       "\n",
       "    [theme=dark] .colab-df-convert:hover {\n",
       "      background-color: #434B5C;\n",
       "      box-shadow: 0px 1px 3px 1px rgba(0, 0, 0, 0.15);\n",
       "      filter: drop-shadow(0px 1px 2px rgba(0, 0, 0, 0.3));\n",
       "      fill: #FFFFFF;\n",
       "    }\n",
       "  </style>\n",
       "\n",
       "      <script>\n",
       "        const buttonEl =\n",
       "          document.querySelector('#df-37a2b1c4-ad33-47e0-81eb-e68385523e54 button.colab-df-convert');\n",
       "        buttonEl.style.display =\n",
       "          google.colab.kernel.accessAllowed ? 'block' : 'none';\n",
       "\n",
       "        async function convertToInteractive(key) {\n",
       "          const element = document.querySelector('#df-37a2b1c4-ad33-47e0-81eb-e68385523e54');\n",
       "          const dataTable =\n",
       "            await google.colab.kernel.invokeFunction('convertToInteractive',\n",
       "                                                     [key], {});\n",
       "          if (!dataTable) return;\n",
       "\n",
       "          const docLinkHtml = 'Like what you see? Visit the ' +\n",
       "            '<a target=\"_blank\" href=https://colab.research.google.com/notebooks/data_table.ipynb>data table notebook</a>'\n",
       "            + ' to learn more about interactive tables.';\n",
       "          element.innerHTML = '';\n",
       "          dataTable['output_type'] = 'display_data';\n",
       "          await google.colab.output.renderOutput(dataTable, element);\n",
       "          const docLink = document.createElement('div');\n",
       "          docLink.innerHTML = docLinkHtml;\n",
       "          element.appendChild(docLink);\n",
       "        }\n",
       "      </script>\n",
       "    </div>\n",
       "  </div>\n",
       "  "
      ],
      "text/plain": [
       "    month  year    Area  decade  fixture_counts  Area Total\n",
       "9       5  2022      AG       1             0.0         0.0\n",
       "10      5  2022      AG       2             0.0         0.0\n",
       "11      5  2022      AG       3             0.0         0.0\n",
       "21      5  2022  Caribs       1             0.0         0.0\n",
       "22      5  2022  Caribs       2             0.0         0.0"
      ]
     },
     "execution_count": 83,
     "metadata": {},
     "output_type": "execute_result"
    }
   ],
   "source": [
    "# Preprocess and plot the results\n",
    "preprocessed_voyages = preprocess(voyages, area_mapping)\n",
    "preprocessed_voyages.head()"
   ]
  },
  {
   "cell_type": "code",
   "execution_count": null,
   "metadata": {
    "colab": {
     "base_uri": "https://localhost:8080/",
     "height": 537
    },
    "id": "TGc9soQlVPVl",
    "outputId": "12ba8d80-33e7-49f1-b2a2-1d114cbbbe9a"
   },
   "outputs": [
    {
     "data": {
      "text/html": [
       "<html>\n",
       "<head><meta charset=\"utf-8\" /></head>\n",
       "<body>\n",
       "    <div>            <script src=\"https://cdnjs.cloudflare.com/ajax/libs/mathjax/2.7.5/MathJax.js?config=TeX-AMS-MML_SVG\"></script><script type=\"text/javascript\">if (window.MathJax) {MathJax.Hub.Config({SVG: {font: \"STIX-Web\"}});}</script>                <script type=\"text/javascript\">window.PlotlyConfig = {MathJaxConfig: 'local'};</script>\n",
       "        <script src=\"https://cdn.plot.ly/plotly-2.8.3.min.js\"></script>                <div id=\"9919f005-fe5d-46e1-a622-61644ac368de\" class=\"plotly-graph-div\" style=\"height:500px; width:1400px;\"></div>            <script type=\"text/javascript\">                                    window.PLOTLYENV=window.PLOTLYENV || {};                                    if (document.getElementById(\"9919f005-fe5d-46e1-a622-61644ac368de\")) {                    Plotly.newPlot(                        \"9919f005-fe5d-46e1-a622-61644ac368de\",                        [{\"alignmentgroup\":\"True\",\"hovertemplate\":\"color=First decade (1st - 10th)<br>year_month_name=May 2022<br>fixture_counts=%{text}<br>Area=%{y}<extra></extra>\",\"legendgroup\":\"First decade (1st - 10th)\",\"marker\":{\"color\":\"#636efa\",\"pattern\":{\"shape\":\"\"}},\"name\":\"First decade (1st - 10th)\",\"offsetgroup\":\"First decade (1st - 10th)\",\"orientation\":\"h\",\"showlegend\":true,\"text\":[0.0,0.0,0.0,1.0],\"textposition\":\"auto\",\"x\":[0.0,0.0,0.0,1.0],\"xaxis\":\"x3\",\"y\":[\"AG\",\"Caribs\",\"WAF\",\"USG\"],\"yaxis\":\"y3\",\"type\":\"bar\"},{\"alignmentgroup\":\"True\",\"hovertemplate\":\"color=First decade (1st - 10th)<br>year_month_name=April 2022<br>fixture_counts=%{text}<br>Area=%{y}<extra></extra>\",\"legendgroup\":\"First decade (1st - 10th)\",\"marker\":{\"color\":\"#636efa\",\"pattern\":{\"shape\":\"\"}},\"name\":\"First decade (1st - 10th)\",\"offsetgroup\":\"First decade (1st - 10th)\",\"orientation\":\"h\",\"showlegend\":false,\"text\":[0.0,2.0,10.0,31.0],\"textposition\":\"auto\",\"x\":[0.0,2.0,10.0,31.0],\"xaxis\":\"x4\",\"y\":[\"Caribs\",\"USG\",\"WAF\",\"AG\"],\"yaxis\":\"y4\",\"type\":\"bar\"},{\"alignmentgroup\":\"True\",\"hovertemplate\":\"color=First decade (1st - 10th)<br>year_month_name=March 2022<br>fixture_counts=%{text}<br>Area=%{y}<extra></extra>\",\"legendgroup\":\"First decade (1st - 10th)\",\"marker\":{\"color\":\"#636efa\",\"pattern\":{\"shape\":\"\"}},\"name\":\"First decade (1st - 10th)\",\"offsetgroup\":\"First decade (1st - 10th)\",\"orientation\":\"h\",\"showlegend\":false,\"text\":[1.0,3.0,6.0,22.0],\"textposition\":\"auto\",\"x\":[1.0,3.0,6.0,22.0],\"xaxis\":\"x\",\"y\":[\"Caribs\",\"USG\",\"WAF\",\"AG\"],\"yaxis\":\"y\",\"type\":\"bar\"},{\"alignmentgroup\":\"True\",\"hovertemplate\":\"color=First decade (1st - 10th)<br>year_month_name=February 2022<br>fixture_counts=%{text}<br>Area=%{y}<extra></extra>\",\"legendgroup\":\"First decade (1st - 10th)\",\"marker\":{\"color\":\"#636efa\",\"pattern\":{\"shape\":\"\"}},\"name\":\"First decade (1st - 10th)\",\"offsetgroup\":\"First decade (1st - 10th)\",\"orientation\":\"h\",\"showlegend\":false,\"text\":[0.0,3.0,11.0,29.0],\"textposition\":\"auto\",\"x\":[0.0,3.0,11.0,29.0],\"xaxis\":\"x2\",\"y\":[\"Caribs\",\"USG\",\"WAF\",\"AG\"],\"yaxis\":\"y2\",\"type\":\"bar\"},{\"alignmentgroup\":\"True\",\"hovertemplate\":\"color=Second decade (10th - 20th)<br>year_month_name=May 2022<br>fixture_counts=%{text}<br>Area=%{y}<extra></extra>\",\"legendgroup\":\"Second decade (10th - 20th)\",\"marker\":{\"color\":\"#EF553B\",\"pattern\":{\"shape\":\"\"}},\"name\":\"Second decade (10th - 20th)\",\"offsetgroup\":\"Second decade (10th - 20th)\",\"orientation\":\"h\",\"showlegend\":true,\"text\":[0.0,0.0,0.0,0.0],\"textposition\":\"auto\",\"x\":[0.0,0.0,0.0,0.0],\"xaxis\":\"x3\",\"y\":[\"AG\",\"Caribs\",\"WAF\",\"USG\"],\"yaxis\":\"y3\",\"type\":\"bar\"},{\"alignmentgroup\":\"True\",\"hovertemplate\":\"color=Second decade (10th - 20th)<br>year_month_name=April 2022<br>fixture_counts=%{text}<br>Area=%{y}<extra></extra>\",\"legendgroup\":\"Second decade (10th - 20th)\",\"marker\":{\"color\":\"#EF553B\",\"pattern\":{\"shape\":\"\"}},\"name\":\"Second decade (10th - 20th)\",\"offsetgroup\":\"Second decade (10th - 20th)\",\"orientation\":\"h\",\"showlegend\":false,\"text\":[0.0,5.0,6.0,2.0],\"textposition\":\"auto\",\"x\":[0.0,5.0,6.0,2.0],\"xaxis\":\"x4\",\"y\":[\"Caribs\",\"USG\",\"WAF\",\"AG\"],\"yaxis\":\"y4\",\"type\":\"bar\"},{\"alignmentgroup\":\"True\",\"hovertemplate\":\"color=Second decade (10th - 20th)<br>year_month_name=March 2022<br>fixture_counts=%{text}<br>Area=%{y}<extra></extra>\",\"legendgroup\":\"Second decade (10th - 20th)\",\"marker\":{\"color\":\"#EF553B\",\"pattern\":{\"shape\":\"\"}},\"name\":\"Second decade (10th - 20th)\",\"offsetgroup\":\"Second decade (10th - 20th)\",\"orientation\":\"h\",\"showlegend\":false,\"text\":[0.0,4.0,11.0,29.0],\"textposition\":\"auto\",\"x\":[0.0,4.0,11.0,29.0],\"xaxis\":\"x\",\"y\":[\"Caribs\",\"USG\",\"WAF\",\"AG\"],\"yaxis\":\"y\",\"type\":\"bar\"},{\"alignmentgroup\":\"True\",\"hovertemplate\":\"color=Second decade (10th - 20th)<br>year_month_name=February 2022<br>fixture_counts=%{text}<br>Area=%{y}<extra></extra>\",\"legendgroup\":\"Second decade (10th - 20th)\",\"marker\":{\"color\":\"#EF553B\",\"pattern\":{\"shape\":\"\"}},\"name\":\"Second decade (10th - 20th)\",\"offsetgroup\":\"Second decade (10th - 20th)\",\"orientation\":\"h\",\"showlegend\":false,\"text\":[1.0,7.0,11.0,25.0],\"textposition\":\"auto\",\"x\":[1.0,7.0,11.0,25.0],\"xaxis\":\"x2\",\"y\":[\"Caribs\",\"USG\",\"WAF\",\"AG\"],\"yaxis\":\"y2\",\"type\":\"bar\"},{\"alignmentgroup\":\"True\",\"hovertemplate\":\"color=Third decade (20th - 30th)<br>year_month_name=May 2022<br>fixture_counts=%{text}<br>Area=%{y}<extra></extra>\",\"legendgroup\":\"Third decade (20th - 30th)\",\"marker\":{\"color\":\"#00cc96\",\"pattern\":{\"shape\":\"\"}},\"name\":\"Third decade (20th - 30th)\",\"offsetgroup\":\"Third decade (20th - 30th)\",\"orientation\":\"h\",\"showlegend\":true,\"text\":[0.0,0.0,0.0,0.0],\"textposition\":\"auto\",\"x\":[0.0,0.0,0.0,0.0],\"xaxis\":\"x3\",\"y\":[\"AG\",\"Caribs\",\"WAF\",\"USG\"],\"yaxis\":\"y3\",\"type\":\"bar\"},{\"alignmentgroup\":\"True\",\"hovertemplate\":\"color=Third decade (20th - 30th)<br>year_month_name=April 2022<br>fixture_counts=%{text}<br>Area=%{y}<extra></extra>\",\"legendgroup\":\"Third decade (20th - 30th)\",\"marker\":{\"color\":\"#00cc96\",\"pattern\":{\"shape\":\"\"}},\"name\":\"Third decade (20th - 30th)\",\"offsetgroup\":\"Third decade (20th - 30th)\",\"orientation\":\"h\",\"showlegend\":false,\"text\":[0.0,3.0,1.0,0.0],\"textposition\":\"auto\",\"x\":[0.0,3.0,1.0,0.0],\"xaxis\":\"x4\",\"y\":[\"Caribs\",\"USG\",\"WAF\",\"AG\"],\"yaxis\":\"y4\",\"type\":\"bar\"},{\"alignmentgroup\":\"True\",\"hovertemplate\":\"color=Third decade (20th - 30th)<br>year_month_name=March 2022<br>fixture_counts=%{text}<br>Area=%{y}<extra></extra>\",\"legendgroup\":\"Third decade (20th - 30th)\",\"marker\":{\"color\":\"#00cc96\",\"pattern\":{\"shape\":\"\"}},\"name\":\"Third decade (20th - 30th)\",\"offsetgroup\":\"Third decade (20th - 30th)\",\"orientation\":\"h\",\"showlegend\":false,\"text\":[0.0,8.0,8.0,25.0],\"textposition\":\"auto\",\"x\":[0.0,8.0,8.0,25.0],\"xaxis\":\"x\",\"y\":[\"Caribs\",\"USG\",\"WAF\",\"AG\"],\"yaxis\":\"y\",\"type\":\"bar\"},{\"alignmentgroup\":\"True\",\"hovertemplate\":\"color=Third decade (20th - 30th)<br>year_month_name=February 2022<br>fixture_counts=%{text}<br>Area=%{y}<extra></extra>\",\"legendgroup\":\"Third decade (20th - 30th)\",\"marker\":{\"color\":\"#00cc96\",\"pattern\":{\"shape\":\"\"}},\"name\":\"Third decade (20th - 30th)\",\"offsetgroup\":\"Third decade (20th - 30th)\",\"orientation\":\"h\",\"showlegend\":false,\"text\":[0.0,0.0,3.0,23.0],\"textposition\":\"auto\",\"x\":[0.0,0.0,3.0,23.0],\"xaxis\":\"x2\",\"y\":[\"Caribs\",\"USG\",\"WAF\",\"AG\"],\"yaxis\":\"y2\",\"type\":\"bar\"}],                        {\"template\":{\"data\":{\"bar\":[{\"error_x\":{\"color\":\"#2a3f5f\"},\"error_y\":{\"color\":\"#2a3f5f\"},\"marker\":{\"line\":{\"color\":\"#E5ECF6\",\"width\":0.5},\"pattern\":{\"fillmode\":\"overlay\",\"size\":10,\"solidity\":0.2}},\"type\":\"bar\"}],\"barpolar\":[{\"marker\":{\"line\":{\"color\":\"#E5ECF6\",\"width\":0.5},\"pattern\":{\"fillmode\":\"overlay\",\"size\":10,\"solidity\":0.2}},\"type\":\"barpolar\"}],\"carpet\":[{\"aaxis\":{\"endlinecolor\":\"#2a3f5f\",\"gridcolor\":\"white\",\"linecolor\":\"white\",\"minorgridcolor\":\"white\",\"startlinecolor\":\"#2a3f5f\"},\"baxis\":{\"endlinecolor\":\"#2a3f5f\",\"gridcolor\":\"white\",\"linecolor\":\"white\",\"minorgridcolor\":\"white\",\"startlinecolor\":\"#2a3f5f\"},\"type\":\"carpet\"}],\"choropleth\":[{\"colorbar\":{\"outlinewidth\":0,\"ticks\":\"\"},\"type\":\"choropleth\"}],\"contour\":[{\"colorbar\":{\"outlinewidth\":0,\"ticks\":\"\"},\"colorscale\":[[0.0,\"#0d0887\"],[0.1111111111111111,\"#46039f\"],[0.2222222222222222,\"#7201a8\"],[0.3333333333333333,\"#9c179e\"],[0.4444444444444444,\"#bd3786\"],[0.5555555555555556,\"#d8576b\"],[0.6666666666666666,\"#ed7953\"],[0.7777777777777778,\"#fb9f3a\"],[0.8888888888888888,\"#fdca26\"],[1.0,\"#f0f921\"]],\"type\":\"contour\"}],\"contourcarpet\":[{\"colorbar\":{\"outlinewidth\":0,\"ticks\":\"\"},\"type\":\"contourcarpet\"}],\"heatmap\":[{\"colorbar\":{\"outlinewidth\":0,\"ticks\":\"\"},\"colorscale\":[[0.0,\"#0d0887\"],[0.1111111111111111,\"#46039f\"],[0.2222222222222222,\"#7201a8\"],[0.3333333333333333,\"#9c179e\"],[0.4444444444444444,\"#bd3786\"],[0.5555555555555556,\"#d8576b\"],[0.6666666666666666,\"#ed7953\"],[0.7777777777777778,\"#fb9f3a\"],[0.8888888888888888,\"#fdca26\"],[1.0,\"#f0f921\"]],\"type\":\"heatmap\"}],\"heatmapgl\":[{\"colorbar\":{\"outlinewidth\":0,\"ticks\":\"\"},\"colorscale\":[[0.0,\"#0d0887\"],[0.1111111111111111,\"#46039f\"],[0.2222222222222222,\"#7201a8\"],[0.3333333333333333,\"#9c179e\"],[0.4444444444444444,\"#bd3786\"],[0.5555555555555556,\"#d8576b\"],[0.6666666666666666,\"#ed7953\"],[0.7777777777777778,\"#fb9f3a\"],[0.8888888888888888,\"#fdca26\"],[1.0,\"#f0f921\"]],\"type\":\"heatmapgl\"}],\"histogram\":[{\"marker\":{\"pattern\":{\"fillmode\":\"overlay\",\"size\":10,\"solidity\":0.2}},\"type\":\"histogram\"}],\"histogram2d\":[{\"colorbar\":{\"outlinewidth\":0,\"ticks\":\"\"},\"colorscale\":[[0.0,\"#0d0887\"],[0.1111111111111111,\"#46039f\"],[0.2222222222222222,\"#7201a8\"],[0.3333333333333333,\"#9c179e\"],[0.4444444444444444,\"#bd3786\"],[0.5555555555555556,\"#d8576b\"],[0.6666666666666666,\"#ed7953\"],[0.7777777777777778,\"#fb9f3a\"],[0.8888888888888888,\"#fdca26\"],[1.0,\"#f0f921\"]],\"type\":\"histogram2d\"}],\"histogram2dcontour\":[{\"colorbar\":{\"outlinewidth\":0,\"ticks\":\"\"},\"colorscale\":[[0.0,\"#0d0887\"],[0.1111111111111111,\"#46039f\"],[0.2222222222222222,\"#7201a8\"],[0.3333333333333333,\"#9c179e\"],[0.4444444444444444,\"#bd3786\"],[0.5555555555555556,\"#d8576b\"],[0.6666666666666666,\"#ed7953\"],[0.7777777777777778,\"#fb9f3a\"],[0.8888888888888888,\"#fdca26\"],[1.0,\"#f0f921\"]],\"type\":\"histogram2dcontour\"}],\"mesh3d\":[{\"colorbar\":{\"outlinewidth\":0,\"ticks\":\"\"},\"type\":\"mesh3d\"}],\"parcoords\":[{\"line\":{\"colorbar\":{\"outlinewidth\":0,\"ticks\":\"\"}},\"type\":\"parcoords\"}],\"pie\":[{\"automargin\":true,\"type\":\"pie\"}],\"scatter\":[{\"marker\":{\"colorbar\":{\"outlinewidth\":0,\"ticks\":\"\"}},\"type\":\"scatter\"}],\"scatter3d\":[{\"line\":{\"colorbar\":{\"outlinewidth\":0,\"ticks\":\"\"}},\"marker\":{\"colorbar\":{\"outlinewidth\":0,\"ticks\":\"\"}},\"type\":\"scatter3d\"}],\"scattercarpet\":[{\"marker\":{\"colorbar\":{\"outlinewidth\":0,\"ticks\":\"\"}},\"type\":\"scattercarpet\"}],\"scattergeo\":[{\"marker\":{\"colorbar\":{\"outlinewidth\":0,\"ticks\":\"\"}},\"type\":\"scattergeo\"}],\"scattergl\":[{\"marker\":{\"colorbar\":{\"outlinewidth\":0,\"ticks\":\"\"}},\"type\":\"scattergl\"}],\"scattermapbox\":[{\"marker\":{\"colorbar\":{\"outlinewidth\":0,\"ticks\":\"\"}},\"type\":\"scattermapbox\"}],\"scatterpolar\":[{\"marker\":{\"colorbar\":{\"outlinewidth\":0,\"ticks\":\"\"}},\"type\":\"scatterpolar\"}],\"scatterpolargl\":[{\"marker\":{\"colorbar\":{\"outlinewidth\":0,\"ticks\":\"\"}},\"type\":\"scatterpolargl\"}],\"scatterternary\":[{\"marker\":{\"colorbar\":{\"outlinewidth\":0,\"ticks\":\"\"}},\"type\":\"scatterternary\"}],\"surface\":[{\"colorbar\":{\"outlinewidth\":0,\"ticks\":\"\"},\"colorscale\":[[0.0,\"#0d0887\"],[0.1111111111111111,\"#46039f\"],[0.2222222222222222,\"#7201a8\"],[0.3333333333333333,\"#9c179e\"],[0.4444444444444444,\"#bd3786\"],[0.5555555555555556,\"#d8576b\"],[0.6666666666666666,\"#ed7953\"],[0.7777777777777778,\"#fb9f3a\"],[0.8888888888888888,\"#fdca26\"],[1.0,\"#f0f921\"]],\"type\":\"surface\"}],\"table\":[{\"cells\":{\"fill\":{\"color\":\"#EBF0F8\"},\"line\":{\"color\":\"white\"}},\"header\":{\"fill\":{\"color\":\"#C8D4E3\"},\"line\":{\"color\":\"white\"}},\"type\":\"table\"}]},\"layout\":{\"annotationdefaults\":{\"arrowcolor\":\"#2a3f5f\",\"arrowhead\":0,\"arrowwidth\":1},\"autotypenumbers\":\"strict\",\"coloraxis\":{\"colorbar\":{\"outlinewidth\":0,\"ticks\":\"\"}},\"colorscale\":{\"diverging\":[[0,\"#8e0152\"],[0.1,\"#c51b7d\"],[0.2,\"#de77ae\"],[0.3,\"#f1b6da\"],[0.4,\"#fde0ef\"],[0.5,\"#f7f7f7\"],[0.6,\"#e6f5d0\"],[0.7,\"#b8e186\"],[0.8,\"#7fbc41\"],[0.9,\"#4d9221\"],[1,\"#276419\"]],\"sequential\":[[0.0,\"#0d0887\"],[0.1111111111111111,\"#46039f\"],[0.2222222222222222,\"#7201a8\"],[0.3333333333333333,\"#9c179e\"],[0.4444444444444444,\"#bd3786\"],[0.5555555555555556,\"#d8576b\"],[0.6666666666666666,\"#ed7953\"],[0.7777777777777778,\"#fb9f3a\"],[0.8888888888888888,\"#fdca26\"],[1.0,\"#f0f921\"]],\"sequentialminus\":[[0.0,\"#0d0887\"],[0.1111111111111111,\"#46039f\"],[0.2222222222222222,\"#7201a8\"],[0.3333333333333333,\"#9c179e\"],[0.4444444444444444,\"#bd3786\"],[0.5555555555555556,\"#d8576b\"],[0.6666666666666666,\"#ed7953\"],[0.7777777777777778,\"#fb9f3a\"],[0.8888888888888888,\"#fdca26\"],[1.0,\"#f0f921\"]]},\"colorway\":[\"#636efa\",\"#EF553B\",\"#00cc96\",\"#ab63fa\",\"#FFA15A\",\"#19d3f3\",\"#FF6692\",\"#B6E880\",\"#FF97FF\",\"#FECB52\"],\"font\":{\"color\":\"#2a3f5f\"},\"geo\":{\"bgcolor\":\"white\",\"lakecolor\":\"white\",\"landcolor\":\"#E5ECF6\",\"showlakes\":true,\"showland\":true,\"subunitcolor\":\"white\"},\"hoverlabel\":{\"align\":\"left\"},\"hovermode\":\"closest\",\"mapbox\":{\"style\":\"light\"},\"paper_bgcolor\":\"white\",\"plot_bgcolor\":\"#E5ECF6\",\"polar\":{\"angularaxis\":{\"gridcolor\":\"white\",\"linecolor\":\"white\",\"ticks\":\"\"},\"bgcolor\":\"#E5ECF6\",\"radialaxis\":{\"gridcolor\":\"white\",\"linecolor\":\"white\",\"ticks\":\"\"}},\"scene\":{\"xaxis\":{\"backgroundcolor\":\"#E5ECF6\",\"gridcolor\":\"white\",\"gridwidth\":2,\"linecolor\":\"white\",\"showbackground\":true,\"ticks\":\"\",\"zerolinecolor\":\"white\"},\"yaxis\":{\"backgroundcolor\":\"#E5ECF6\",\"gridcolor\":\"white\",\"gridwidth\":2,\"linecolor\":\"white\",\"showbackground\":true,\"ticks\":\"\",\"zerolinecolor\":\"white\"},\"zaxis\":{\"backgroundcolor\":\"#E5ECF6\",\"gridcolor\":\"white\",\"gridwidth\":2,\"linecolor\":\"white\",\"showbackground\":true,\"ticks\":\"\",\"zerolinecolor\":\"white\"}},\"shapedefaults\":{\"line\":{\"color\":\"#2a3f5f\"}},\"ternary\":{\"aaxis\":{\"gridcolor\":\"white\",\"linecolor\":\"white\",\"ticks\":\"\"},\"baxis\":{\"gridcolor\":\"white\",\"linecolor\":\"white\",\"ticks\":\"\"},\"bgcolor\":\"#E5ECF6\",\"caxis\":{\"gridcolor\":\"white\",\"linecolor\":\"white\",\"ticks\":\"\"}},\"title\":{\"x\":0.05},\"xaxis\":{\"automargin\":true,\"gridcolor\":\"white\",\"linecolor\":\"white\",\"ticks\":\"\",\"title\":{\"standoff\":15},\"zerolinecolor\":\"white\",\"zerolinewidth\":2},\"yaxis\":{\"automargin\":true,\"gridcolor\":\"white\",\"linecolor\":\"white\",\"ticks\":\"\",\"title\":{\"standoff\":15},\"zerolinecolor\":\"white\",\"zerolinewidth\":2}}},\"xaxis\":{\"anchor\":\"y\",\"domain\":[0.0,0.49],\"title\":{\"text\":\"fixture_counts\"},\"categoryorder\":\"total ascending\"},\"yaxis\":{\"anchor\":\"x\",\"domain\":[0.0,0.46499999999999997],\"title\":{\"text\":\"Area\"}},\"xaxis2\":{\"anchor\":\"y2\",\"domain\":[0.51,1.0],\"matches\":\"x\",\"title\":{\"text\":\"fixture_counts\"}},\"yaxis2\":{\"anchor\":\"x2\",\"domain\":[0.0,0.46499999999999997],\"matches\":\"y\",\"showticklabels\":false},\"xaxis3\":{\"anchor\":\"y3\",\"domain\":[0.0,0.49],\"matches\":\"x\",\"showticklabels\":false},\"yaxis3\":{\"anchor\":\"x3\",\"domain\":[0.5349999999999999,0.9999999999999999],\"matches\":\"y\",\"title\":{\"text\":\"Area\"}},\"xaxis4\":{\"anchor\":\"y4\",\"domain\":[0.51,1.0],\"matches\":\"x\",\"showticklabels\":false},\"yaxis4\":{\"anchor\":\"x4\",\"domain\":[0.5349999999999999,0.9999999999999999],\"matches\":\"y\",\"showticklabels\":false},\"annotations\":[{\"font\":{},\"showarrow\":false,\"text\":\"year_month_name=March 2022\",\"x\":0.245,\"xanchor\":\"center\",\"xref\":\"paper\",\"y\":0.46499999999999997,\"yanchor\":\"bottom\",\"yref\":\"paper\"},{\"font\":{},\"showarrow\":false,\"text\":\"year_month_name=February 2022\",\"x\":0.755,\"xanchor\":\"center\",\"xref\":\"paper\",\"y\":0.46499999999999997,\"yanchor\":\"bottom\",\"yref\":\"paper\"},{\"font\":{},\"showarrow\":false,\"text\":\"year_month_name=May 2022\",\"x\":0.245,\"xanchor\":\"center\",\"xref\":\"paper\",\"y\":0.9999999999999999,\"yanchor\":\"bottom\",\"yref\":\"paper\"},{\"font\":{},\"showarrow\":false,\"text\":\"year_month_name=April 2022\",\"x\":0.755,\"xanchor\":\"center\",\"xref\":\"paper\",\"y\":0.9999999999999999,\"yanchor\":\"bottom\",\"yref\":\"paper\"}],\"legend\":{\"title\":{\"text\":\"Decade\"},\"tracegroupgap\":0},\"title\":{\"text\":\"Fixture counts\"},\"barmode\":\"group\",\"width\":1400,\"height\":500},                        {\"responsive\": true}                    ).then(function(){\n",
       "                            \n",
       "var gd = document.getElementById('9919f005-fe5d-46e1-a622-61644ac368de');\n",
       "var x = new MutationObserver(function (mutations, observer) {{\n",
       "        var display = window.getComputedStyle(gd).display;\n",
       "        if (!display || display === 'none') {{\n",
       "            console.log([gd, 'removed!']);\n",
       "            Plotly.purge(gd);\n",
       "            observer.disconnect();\n",
       "        }}\n",
       "}});\n",
       "\n",
       "// Listen for the removal of the full notebook cells\n",
       "var notebookContainer = gd.closest('#notebook-container');\n",
       "if (notebookContainer) {{\n",
       "    x.observe(notebookContainer, {childList: true});\n",
       "}}\n",
       "\n",
       "// Listen for the clearing of the current output cell\n",
       "var outputEl = gd.closest('.output');\n",
       "if (outputEl) {{\n",
       "    x.observe(outputEl, {childList: true});\n",
       "}}\n",
       "\n",
       "                        })                };                            </script>        </div>\n",
       "</body>\n",
       "</html>"
      ]
     },
     "metadata": {},
     "output_type": "display_data"
    }
   ],
   "source": [
    "plot_results(preprocessed_voyages)"
   ]
  },
  {
   "cell_type": "code",
   "execution_count": null,
   "metadata": {
    "id": "Vs3-KXAyGrLj"
   },
   "outputs": [],
   "source": []
  }
 ],
 "metadata": {
  "colab": {
   "collapsed_sections": [],
   "name": "FixtureCount.ipynb",
   "provenance": []
  },
  "kernelspec": {
   "display_name": "Python 3",
   "language": "python",
   "name": "python3"
  },
  "language_info": {
   "codemirror_mode": {
    "name": "ipython",
    "version": 3
   },
   "file_extension": ".py",
   "mimetype": "text/x-python",
   "name": "python",
   "nbconvert_exporter": "python",
   "pygments_lexer": "ipython3",
   "version": "3.8.7"
  }
 },
 "nbformat": 4,
 "nbformat_minor": 1
}
