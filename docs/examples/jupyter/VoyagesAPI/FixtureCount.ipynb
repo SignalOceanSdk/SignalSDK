{
 "cells": [
  {
   "cell_type": "markdown",
   "metadata": {
    "id": "V70yOocurXnC"
   },
   "source": [
    "# Fixture Count Example"
   ]
  },
  {
   "cell_type": "markdown",
   "metadata": {
    "id": "k8jAdWCWrkxs"
   },
   "source": [
    "- Get your personal Signal Ocean API subscription key (acquired [here](https://apis.signalocean.com/profile)) and replace it below:"
   ]
  },
  {
   "cell_type": "code",
   "execution_count": 1,
   "metadata": {
    "id": "-zD_5VRirW3l"
   },
   "outputs": [],
   "source": [
    "signal_ocean_api_key = \"\"  # replace with your subscription key"
   ]
  },
  {
   "cell_type": "markdown",
   "metadata": {
    "id": "Q_h-MW7rwnvq"
   },
   "source": [
    "## Setup"
   ]
  },
  {
   "cell_type": "markdown",
   "metadata": {
    "id": "pPx-tu3_UnFv"
   },
   "source": [
    "### Import libraries and set default values"
   ]
  },
  {
   "cell_type": "markdown",
   "metadata": {
    "id": "87m_JUs5ws_T"
   },
   "source": [
    "- Install the Signal Ocean SDK and import all required modules:"
   ]
  },
  {
   "cell_type": "code",
   "execution_count": 2,
   "metadata": {
    "colab": {
     "base_uri": "https://localhost:8080/"
    },
    "id": "7e9KKjzJwnEg",
    "outputId": "61a5e78d-c8e9-41ac-dcaa-fe533210b075"
   },
   "outputs": [
    {
     "name": "stdout",
     "output_type": "stream",
     "text": [
      "Requirement already satisfied: signal-ocean in /usr/local/lib/python3.7/dist-packages (1.0.7)\n",
      "Requirement already satisfied: pandas<2,>=1.0.3 in /usr/local/lib/python3.7/dist-packages (from signal-ocean) (1.3.5)\n",
      "Requirement already satisfied: requests<3,>=2.23.0 in /usr/local/lib/python3.7/dist-packages (from signal-ocean) (2.23.0)\n",
      "Requirement already satisfied: python-dateutil<3,>=2.8.1 in /usr/local/lib/python3.7/dist-packages (from signal-ocean) (2.8.2)\n",
      "Requirement already satisfied: pytz>=2017.3 in /usr/local/lib/python3.7/dist-packages (from pandas<2,>=1.0.3->signal-ocean) (2018.9)\n",
      "Requirement already satisfied: numpy>=1.17.3 in /usr/local/lib/python3.7/dist-packages (from pandas<2,>=1.0.3->signal-ocean) (1.21.5)\n",
      "Requirement already satisfied: six>=1.5 in /usr/local/lib/python3.7/dist-packages (from python-dateutil<3,>=2.8.1->signal-ocean) (1.15.0)\n",
      "Requirement already satisfied: idna<3,>=2.5 in /usr/local/lib/python3.7/dist-packages (from requests<3,>=2.23.0->signal-ocean) (2.10)\n",
      "Requirement already satisfied: certifi>=2017.4.17 in /usr/local/lib/python3.7/dist-packages (from requests<3,>=2.23.0->signal-ocean) (2021.10.8)\n",
      "Requirement already satisfied: urllib3!=1.25.0,!=1.25.1,<1.26,>=1.21.1 in /usr/local/lib/python3.7/dist-packages (from requests<3,>=2.23.0->signal-ocean) (1.24.3)\n",
      "Requirement already satisfied: chardet<4,>=3.0.2 in /usr/local/lib/python3.7/dist-packages (from requests<3,>=2.23.0->signal-ocean) (3.0.4)\n"
     ]
    }
   ],
   "source": [
    "!pip install signal-ocean\n",
    "\n",
    "from signal_ocean import Connection\n",
    "from signal_ocean.voyages import VoyagesAPI\n",
    "from signal_ocean.voyages import VesselClass, VesselClassFilter\n",
    "import pandas as pd\n",
    "from datetime import date, timedelta, datetime\n",
    "from dateutil.relativedelta import relativedelta\n",
    "import matplotlib.pyplot as plt\n",
    "from matplotlib.pyplot import figure\n",
    "from collections import OrderedDict\n",
    "\n",
    "from plotly.subplots import make_subplots\n",
    "import plotly.graph_objects as go\n",
    "import plotly.express as px\n",
    "import numpy as np\n",
    "import math\n",
    "\n",
    "# Initialize the voyage api\n",
    "connection = Connection(signal_ocean_api_key)\n",
    "api = VoyagesAPI(connection)\n",
    "\n",
    "#set up the grouped areas\n",
    "area_mapping = {\n",
    "    'Arabian Gulf':'AG',\n",
    "    'Red Sea':'AG',\n",
    "    'Singapore / Malaysia':'AG',\n",
    "    'Canada Atlantic Coast':'Caribs',\n",
    "    'Caribs':'Caribs',\n",
    "    'US Atlantic Coast':'Caribs',\n",
    "    'East Coast Mexico':'USG',\n",
    "    'US Gulf':'USG',\n",
    "    'Africa Atlantic Coast':'WAF',\n",
    "    'Argentina & Uruguay':'WAF',\n",
    "    'Brazil':'WAF'\n",
    "}"
   ]
  },
  {
   "cell_type": "markdown",
   "metadata": {
    "id": "dB-QigpmUt1s"
   },
   "source": [
    "### Set parameters"
   ]
  },
  {
   "cell_type": "markdown",
   "metadata": {
    "id": "2wGxDaBEyiIo"
   },
   "source": [
    "- set  the vessel class"
   ]
  },
  {
   "cell_type": "code",
   "execution_count": 3,
   "metadata": {
    "id": "oPNGSyY6ybOC"
   },
   "outputs": [],
   "source": [
    "vessel_class_name_like = 'vlcc'"
   ]
  },
  {
   "cell_type": "markdown",
   "metadata": {
    "id": "bpgUvY_nzVOM"
   },
   "source": [
    "- set the year and month from when you want to count fixtures"
   ]
  },
  {
   "cell_type": "code",
   "execution_count": 4,
   "metadata": {
    "id": "-xHZ7iqxzVzV"
   },
   "outputs": [],
   "source": [
    "year, month = 2021, 8"
   ]
  },
  {
   "cell_type": "markdown",
   "metadata": {
    "id": "ipszfMrlz9I0"
   },
   "source": [
    "## Calculate Fixture Count"
   ]
  },
  {
   "cell_type": "markdown",
   "metadata": {
    "id": "_Rjau3TuvNfr"
   },
   "source": [
    "### Get fixtures"
   ]
  },
  {
   "cell_type": "markdown",
   "metadata": {
    "id": "p0-q-ElQzkGu"
   },
   "source": [
    "* get the voyages data using Voyage API \n",
    "* we extract the voyages which have start after 2 months before the fixture date\n",
    "* from the Voyage Events we extract the Area Level 0, which will be used to create the area groups for fixtures"
   ]
  },
  {
   "cell_type": "code",
   "execution_count": 5,
   "metadata": {
    "id": "4or49rRrzm9f"
   },
   "outputs": [],
   "source": [
    "def get_voyages(vcn, year, month):\n",
    "  def get_voyage_load_area(voyage_events):\n",
    "    return next((e.area_name_level0 for e in voyage_events or [] if e.purpose=='Load'), None)\n",
    "  def get_voyage_port_id(voyage_events):\n",
    "    return next((e.port_id for e in voyage_events or [] if e.purpose=='Load'), None)\n",
    "\n",
    "  #calculate the voyage start date (2 month before)\n",
    "  months_back = 2\n",
    "  fixture_date_from = date(year=year, month=month,day=1)\n",
    "  date_from = fixture_date_from - relativedelta(months=+months_back)\n",
    "\n",
    "  # get the vessel class id\n",
    "  vc = api.get_vessel_classes(VesselClassFilter(vcn))[0]\n",
    "  vessel_class_id = vc.vessel_class_id\n",
    "  \n",
    "  data = api.get_voyages(vessel_class_id=vessel_class_id, date_from=date_from)\n",
    "  voyages = pd.DataFrame([v.__dict__ for v in data])\n",
    "  voyages['Level0AreaName_load'] = voyages['events'].apply(get_voyage_load_area)\n",
    "  voyages['port_id'] = voyages['events'].apply(get_voyage_port_id)\n",
    "  voyages.rename(columns={'vessel_class_id': 'VesselClassID'}, inplace=True)\n",
    "  return voyages"
   ]
  },
  {
   "cell_type": "markdown",
   "metadata": {
    "id": "7Tj_dh-TvR1o"
   },
   "source": [
    "### Preprocess Fixtures"
   ]
  },
  {
   "cell_type": "markdown",
   "metadata": {
    "id": "EXBU4h1m0AdY"
   },
   "source": [
    "- We use the area_mapping dictionary we group the level 0 areas\n",
    "- In order a voyage to be fixed, the laycan_from field should not be null\n",
    "- We keep the voyages which has laycan_from is greater than the selected date \n",
    "- The final Step is to group the data by year, month, area, and decate and calculate the fixture count for each group"
   ]
  },
  {
   "cell_type": "code",
   "execution_count": 14,
   "metadata": {
    "id": "teoLBibp0Csc"
   },
   "outputs": [],
   "source": [
    "def preprocess(data,area_mapping):\n",
    "\n",
    "  # Keep only the dirty\n",
    "  voyages = data.copy()\n",
    "  voyages = voyages[voyages.trade_id == 1]\n",
    "\n",
    "  # merge with the area_mapping on area_level0_name and vessel_class_id\n",
    "  voyages['Area'] = voyages.Level0AreaName_load.map(lambda x: area_mapping[x] \n",
    "                                                    if x in area_mapping \n",
    "                                                    else None)\n",
    "  voyages_df = voyages[[\"imo\",\"voyage_number\",\"VesselClassID\",\n",
    "                        \"Level0AreaName_load\",\"Area\",\"laycan_from\",\"port_id\"]]\n",
    "\n",
    "  # filter with laycan from is not null\n",
    "  voyages_df = voyages_df[~voyages_df.laycan_from.isna()]\n",
    "  \n",
    "  # filter with laycan from\n",
    "  filtered_voyages = voyages_df[voyages_df.laycan_from.dt.date >= \n",
    "                                date(year=year, month=month, day=1)]\n",
    "\n",
    "  # split the laycan from to month, date, year and create the decade\n",
    "  final_df = filtered_voyages.copy()\n",
    "  final_df['day'] = final_df['laycan_from'].dt.day\n",
    "  final_df['month'] = final_df['laycan_from'].dt.month\n",
    "  final_df['year'] = final_df['laycan_from'].dt.year\n",
    "\n",
    "  choices = [1,2,3]\n",
    "  conditions = [\n",
    "        (final_df['day'] <= 10), \n",
    "        ((final_df['day'] > 10) & (final_df['day'] <= 20)),\n",
    "        (final_df['day'] > 20) ]\n",
    "  final_df['decade'] = np.select(conditions, choices, default=np.nan)\n",
    "  final_df['decade'] = final_df['decade'].astype(int)\n",
    "\n",
    "  # Remove nan load areas\n",
    "  final_df = final_df[~final_df.Area.isna()]\n",
    "\n",
    "  fixture_counts_df = (\n",
    "    final_df\n",
    "    .groupby(['month','year','Area','decade'])\n",
    "    .size()\n",
    "    .rename('fixture_counts')\n",
    "    .reset_index()    \n",
    "  )\n",
    "\n",
    "  # this step is to help us visualize the Area with 0 fixtures \n",
    "  month_groups = set(fixture_counts_df.groupby(['year','month']) \\\n",
    "                                        .groups.keys())\n",
    "  area_groups = set(area_mapping.values())\n",
    "  area_month_groups = []\n",
    "  for area in area_groups:\n",
    "    for period in month_groups:\n",
    "      area_month_groups.append((period[0],period[1],area))\n",
    "  decate_areas = []\n",
    "  for area_month in area_month_groups:\n",
    "    decate_areas.append((1,area_month[0],area_month[1],area_month[2]))\n",
    "    decate_areas.append((2,area_month[0],area_month[1],area_month[2]))\n",
    "    decate_areas.append((3,area_month[0],area_month[1],area_month[2]))\n",
    "  decate_per_area = pd.DataFrame(decate_areas, columns=['decade', \n",
    "                                                        'year','month',\n",
    "                                                        'Area'])\n",
    "  fixture_counts_df = pd.merge(fixture_counts_df,decate_per_area,\n",
    "                               on=['decade','year','month','Area'],\n",
    "                               how='right').fillna(0)\n",
    "  # calculate the total fixtures\n",
    "  fixture_counts_df['Area Total'] = (\n",
    "    fixture_counts_df\n",
    "    .groupby(['year','month','Area'])\n",
    "    .fixture_counts\n",
    "    .transform('sum')    \n",
    "  )\n",
    "  \n",
    "  # sort the the fixture counts\n",
    "  fixture_counts_df = fixture_counts_df.sort_values(\n",
    "      ['year','month','Area Total','Area','decade'],\n",
    "      ascending=[False,False,True,True,True,]) \n",
    "  return fixture_counts_df"
   ]
  },
  {
   "cell_type": "markdown",
   "metadata": {
    "id": "83p-iwGH1P2J"
   },
   "source": [
    "### Plot Fixture Counts"
   ]
  },
  {
   "cell_type": "code",
   "execution_count": 7,
   "metadata": {
    "id": "4qvPBBGM5lms"
   },
   "outputs": [],
   "source": [
    "def plot_results(fixture_counts_df):\n",
    "\n",
    "  def get_trace(name,color,decate,show_legend):\n",
    "    return go.Bar(\n",
    "                name=name,\n",
    "                x=data[data.decade==decate][\"fixture_counts\"],\n",
    "                y=data[data.decade==decate][\"Area\"],\n",
    "                orientation='h',\n",
    "                showlegend=show_legend,\n",
    "                marker={'color': color},\n",
    "                text=data[data.decade==decate][\"fixture_counts\"]\n",
    "            )\n",
    "\n",
    "  group_plots = fixture_counts_df.groupby(['year','month']).groups.keys()\n",
    "  sorted_groups = sorted(group_plots, \n",
    "                         key=lambda element: (element[0], element[1]),\n",
    "                         reverse=True)\n",
    "  figures = []\n",
    "  titles = []\n",
    "  for i,group in enumerate(sorted_groups):\n",
    "    data = fixture_counts_df[\n",
    "                             (fixture_counts_df.year==group[0])&\n",
    "                             (fixture_counts_df.month==group[1])\n",
    "                             ]\n",
    "    titles.append(\n",
    "        date(group[0], group[1], 1).strftime('%B') + \" \" + str(group[0])\n",
    "        )\n",
    "    show_legend = True if i == 0 else False\n",
    "    fig = go.Figure(\n",
    "          data=[\n",
    "            get_trace(\"First decade (1st - 10th)\", 'green', 1, show_legend),\n",
    "            get_trace(\"Second decade (10th - 20th)\", 'blue', 2, show_legend),\n",
    "            get_trace(\"Third decade (20th - 30th)\", 'red', 3, show_legend)\n",
    "          ],\n",
    "        )\n",
    "    figures.append(fig)\n",
    "  no_rows = math.ceil(len(sorted_groups)/2)\n",
    "  specs = [[{}, {}] for _ in range(no_rows)]\n",
    "  fig_subplots = make_subplots(\n",
    "    rows=no_rows, cols=2,\n",
    "    specs=specs,\n",
    "    x_title='Fixture Counts',\n",
    "    y_title='Areas',\n",
    "    subplot_titles=tuple(titles),\n",
    "    )\n",
    "  \n",
    "  for i,f in enumerate(figures):\n",
    "    for t in f.data:\n",
    "      fig_subplots.append_trace(t, row=(i//2)+1, col=(i%2)+1)\n",
    "\n",
    "  fig_subplots['layout'].update(\n",
    "      height=300*no_rows, \n",
    "      width=1400, \n",
    "      title='Fixture Counts',\n",
    "      barmode='stack',\n",
    "      legend_traceorder='reversed')\n",
    "  fig_subplots.show()\n",
    "    \n",
    "\n"
   ]
  },
  {
   "cell_type": "markdown",
   "metadata": {
    "id": "LM0ZhYA-5oLL"
   },
   "source": [
    "## Results"
   ]
  },
  {
   "cell_type": "code",
   "execution_count": 8,
   "metadata": {
    "id": "PvWHcnG15sEl"
   },
   "outputs": [],
   "source": [
    "# Get voyages\n",
    "voyages = get_voyages(vessel_class_name_like, year, month)"
   ]
  },
  {
   "cell_type": "code",
   "execution_count": 12,
   "metadata": {
    "id": "4bdbRCEe57BI"
   },
   "outputs": [],
   "source": [
    "# Preprocess fixtures\n",
    "preprocessed_voyages = preprocess(voyages, area_mapping)"
   ]
  },
  {
   "cell_type": "code",
   "execution_count": 13,
   "metadata": {
    "colab": {
     "base_uri": "https://localhost:8080/",
     "height": 1000
    },
    "id": "TGc9soQlVPVl",
    "outputId": "9264f350-8d7d-4aac-886b-7d3f7fbd2b38"
   },
   "outputs": [
    {
     "data": {
      "text/html": [
       "<html>\n",
       "<head><meta charset=\"utf-8\" /></head>\n",
       "<body>\n",
       "    <div>            <script src=\"https://cdnjs.cloudflare.com/ajax/libs/mathjax/2.7.5/MathJax.js?config=TeX-AMS-MML_SVG\"></script><script type=\"text/javascript\">if (window.MathJax) {MathJax.Hub.Config({SVG: {font: \"STIX-Web\"}});}</script>                <script type=\"text/javascript\">window.PlotlyConfig = {MathJaxConfig: 'local'};</script>\n",
       "        <script src=\"https://cdn.plot.ly/plotly-2.8.3.min.js\"></script>                <div id=\"8fc9eb54-49b0-4645-b54b-2645448fb272\" class=\"plotly-graph-div\" style=\"height:1500px; width:1400px;\"></div>            <script type=\"text/javascript\">                                    window.PLOTLYENV=window.PLOTLYENV || {};                                    if (document.getElementById(\"8fc9eb54-49b0-4645-b54b-2645448fb272\")) {                    Plotly.newPlot(                        \"8fc9eb54-49b0-4645-b54b-2645448fb272\",                        [{\"marker\":{\"color\":\"green\"},\"name\":\"First decade (1st - 10th)\",\"orientation\":\"h\",\"showlegend\":true,\"text\":[0.0,3.0,11.0,39.0],\"x\":[0.0,3.0,11.0,39.0],\"y\":[\"Caribs\",\"USG\",\"WAF\",\"AG\"],\"type\":\"bar\",\"xaxis\":\"x\",\"yaxis\":\"y\"},{\"marker\":{\"color\":\"blue\"},\"name\":\"Second decade (10th - 20th)\",\"orientation\":\"h\",\"showlegend\":true,\"text\":[0.0,5.0,6.0,4.0],\"x\":[0.0,5.0,6.0,4.0],\"y\":[\"Caribs\",\"USG\",\"WAF\",\"AG\"],\"type\":\"bar\",\"xaxis\":\"x\",\"yaxis\":\"y\"},{\"marker\":{\"color\":\"red\"},\"name\":\"Third decade (20th - 30th)\",\"orientation\":\"h\",\"showlegend\":true,\"text\":[0.0,5.0,1.0,0.0],\"x\":[0.0,5.0,1.0,0.0],\"y\":[\"Caribs\",\"USG\",\"WAF\",\"AG\"],\"type\":\"bar\",\"xaxis\":\"x\",\"yaxis\":\"y\"},{\"marker\":{\"color\":\"green\"},\"name\":\"First decade (1st - 10th)\",\"orientation\":\"h\",\"showlegend\":false,\"text\":[1.0,3.0,6.0,22.0],\"x\":[1.0,3.0,6.0,22.0],\"y\":[\"Caribs\",\"USG\",\"WAF\",\"AG\"],\"type\":\"bar\",\"xaxis\":\"x2\",\"yaxis\":\"y2\"},{\"marker\":{\"color\":\"blue\"},\"name\":\"Second decade (10th - 20th)\",\"orientation\":\"h\",\"showlegend\":false,\"text\":[0.0,5.0,11.0,30.0],\"x\":[0.0,5.0,11.0,30.0],\"y\":[\"Caribs\",\"USG\",\"WAF\",\"AG\"],\"type\":\"bar\",\"xaxis\":\"x2\",\"yaxis\":\"y2\"},{\"marker\":{\"color\":\"red\"},\"name\":\"Third decade (20th - 30th)\",\"orientation\":\"h\",\"showlegend\":false,\"text\":[0.0,7.0,8.0,24.0],\"x\":[0.0,7.0,8.0,24.0],\"y\":[\"Caribs\",\"USG\",\"WAF\",\"AG\"],\"type\":\"bar\",\"xaxis\":\"x2\",\"yaxis\":\"y2\"},{\"marker\":{\"color\":\"green\"},\"name\":\"First decade (1st - 10th)\",\"orientation\":\"h\",\"showlegend\":false,\"text\":[0.0,4.0,11.0,29.0],\"x\":[0.0,4.0,11.0,29.0],\"y\":[\"Caribs\",\"USG\",\"WAF\",\"AG\"],\"type\":\"bar\",\"xaxis\":\"x3\",\"yaxis\":\"y3\"},{\"marker\":{\"color\":\"blue\"},\"name\":\"Second decade (10th - 20th)\",\"orientation\":\"h\",\"showlegend\":false,\"text\":[1.0,7.0,11.0,26.0],\"x\":[1.0,7.0,11.0,26.0],\"y\":[\"Caribs\",\"USG\",\"WAF\",\"AG\"],\"type\":\"bar\",\"xaxis\":\"x3\",\"yaxis\":\"y3\"},{\"marker\":{\"color\":\"red\"},\"name\":\"Third decade (20th - 30th)\",\"orientation\":\"h\",\"showlegend\":false,\"text\":[0.0,0.0,3.0,23.0],\"x\":[0.0,0.0,3.0,23.0],\"y\":[\"Caribs\",\"USG\",\"WAF\",\"AG\"],\"type\":\"bar\",\"xaxis\":\"x3\",\"yaxis\":\"y3\"},{\"marker\":{\"color\":\"green\"},\"name\":\"First decade (1st - 10th)\",\"orientation\":\"h\",\"showlegend\":false,\"text\":[2.0,4.0,8.0,32.0],\"x\":[2.0,4.0,8.0,32.0],\"y\":[\"Caribs\",\"USG\",\"WAF\",\"AG\"],\"type\":\"bar\",\"xaxis\":\"x4\",\"yaxis\":\"y4\"},{\"marker\":{\"color\":\"blue\"},\"name\":\"Second decade (10th - 20th)\",\"orientation\":\"h\",\"showlegend\":false,\"text\":[1.0,7.0,11.0,29.0],\"x\":[1.0,7.0,11.0,29.0],\"y\":[\"Caribs\",\"USG\",\"WAF\",\"AG\"],\"type\":\"bar\",\"xaxis\":\"x4\",\"yaxis\":\"y4\"},{\"marker\":{\"color\":\"red\"},\"name\":\"Third decade (20th - 30th)\",\"orientation\":\"h\",\"showlegend\":false,\"text\":[0.0,2.0,9.0,29.0],\"x\":[0.0,2.0,9.0,29.0],\"y\":[\"Caribs\",\"USG\",\"WAF\",\"AG\"],\"type\":\"bar\",\"xaxis\":\"x4\",\"yaxis\":\"y4\"},{\"marker\":{\"color\":\"green\"},\"name\":\"First decade (1st - 10th)\",\"orientation\":\"h\",\"showlegend\":false,\"text\":[1.0,5.0,10.0,36.0],\"x\":[1.0,5.0,10.0,36.0],\"y\":[\"Caribs\",\"USG\",\"WAF\",\"AG\"],\"type\":\"bar\",\"xaxis\":\"x5\",\"yaxis\":\"y5\"},{\"marker\":{\"color\":\"blue\"},\"name\":\"Second decade (10th - 20th)\",\"orientation\":\"h\",\"showlegend\":false,\"text\":[0.0,7.0,10.0,32.0],\"x\":[0.0,7.0,10.0,32.0],\"y\":[\"Caribs\",\"USG\",\"WAF\",\"AG\"],\"type\":\"bar\",\"xaxis\":\"x5\",\"yaxis\":\"y5\"},{\"marker\":{\"color\":\"red\"},\"name\":\"Third decade (20th - 30th)\",\"orientation\":\"h\",\"showlegend\":false,\"text\":[1.0,5.0,11.0,37.0],\"x\":[1.0,5.0,11.0,37.0],\"y\":[\"Caribs\",\"USG\",\"WAF\",\"AG\"],\"type\":\"bar\",\"xaxis\":\"x5\",\"yaxis\":\"y5\"},{\"marker\":{\"color\":\"green\"},\"name\":\"First decade (1st - 10th)\",\"orientation\":\"h\",\"showlegend\":false,\"text\":[1.0,9.0,11.0,37.0],\"x\":[1.0,9.0,11.0,37.0],\"y\":[\"Caribs\",\"USG\",\"WAF\",\"AG\"],\"type\":\"bar\",\"xaxis\":\"x6\",\"yaxis\":\"y6\"},{\"marker\":{\"color\":\"blue\"},\"name\":\"Second decade (10th - 20th)\",\"orientation\":\"h\",\"showlegend\":false,\"text\":[0.0,9.0,13.0,28.0],\"x\":[0.0,9.0,13.0,28.0],\"y\":[\"Caribs\",\"USG\",\"WAF\",\"AG\"],\"type\":\"bar\",\"xaxis\":\"x6\",\"yaxis\":\"y6\"},{\"marker\":{\"color\":\"red\"},\"name\":\"Third decade (20th - 30th)\",\"orientation\":\"h\",\"showlegend\":false,\"text\":[1.0,1.0,6.0,32.0],\"x\":[1.0,1.0,6.0,32.0],\"y\":[\"Caribs\",\"USG\",\"WAF\",\"AG\"],\"type\":\"bar\",\"xaxis\":\"x6\",\"yaxis\":\"y6\"},{\"marker\":{\"color\":\"green\"},\"name\":\"First decade (1st - 10th)\",\"orientation\":\"h\",\"showlegend\":false,\"text\":[0.0,6.0,12.0,39.0],\"x\":[0.0,6.0,12.0,39.0],\"y\":[\"Caribs\",\"USG\",\"WAF\",\"AG\"],\"type\":\"bar\",\"xaxis\":\"x7\",\"yaxis\":\"y7\"},{\"marker\":{\"color\":\"blue\"},\"name\":\"Second decade (10th - 20th)\",\"orientation\":\"h\",\"showlegend\":false,\"text\":[1.0,4.0,12.0,34.0],\"x\":[1.0,4.0,12.0,34.0],\"y\":[\"Caribs\",\"USG\",\"WAF\",\"AG\"],\"type\":\"bar\",\"xaxis\":\"x7\",\"yaxis\":\"y7\"},{\"marker\":{\"color\":\"red\"},\"name\":\"Third decade (20th - 30th)\",\"orientation\":\"h\",\"showlegend\":false,\"text\":[0.0,3.0,8.0,31.0],\"x\":[0.0,3.0,8.0,31.0],\"y\":[\"Caribs\",\"USG\",\"WAF\",\"AG\"],\"type\":\"bar\",\"xaxis\":\"x7\",\"yaxis\":\"y7\"},{\"marker\":{\"color\":\"green\"},\"name\":\"First decade (1st - 10th)\",\"orientation\":\"h\",\"showlegend\":false,\"text\":[0.0,5.0,12.0,35.0],\"x\":[0.0,5.0,12.0,35.0],\"y\":[\"Caribs\",\"USG\",\"WAF\",\"AG\"],\"type\":\"bar\",\"xaxis\":\"x8\",\"yaxis\":\"y8\"},{\"marker\":{\"color\":\"blue\"},\"name\":\"Second decade (10th - 20th)\",\"orientation\":\"h\",\"showlegend\":false,\"text\":[1.0,2.0,9.0,35.0],\"x\":[1.0,2.0,9.0,35.0],\"y\":[\"Caribs\",\"USG\",\"WAF\",\"AG\"],\"type\":\"bar\",\"xaxis\":\"x8\",\"yaxis\":\"y8\"},{\"marker\":{\"color\":\"red\"},\"name\":\"Third decade (20th - 30th)\",\"orientation\":\"h\",\"showlegend\":false,\"text\":[0.0,5.0,10.0,26.0],\"x\":[0.0,5.0,10.0,26.0],\"y\":[\"Caribs\",\"USG\",\"WAF\",\"AG\"],\"type\":\"bar\",\"xaxis\":\"x8\",\"yaxis\":\"y8\"},{\"marker\":{\"color\":\"green\"},\"name\":\"First decade (1st - 10th)\",\"orientation\":\"h\",\"showlegend\":false,\"text\":[0.0,5.0,12.0,27.0],\"x\":[0.0,5.0,12.0,27.0],\"y\":[\"Caribs\",\"USG\",\"WAF\",\"AG\"],\"type\":\"bar\",\"xaxis\":\"x9\",\"yaxis\":\"y9\"},{\"marker\":{\"color\":\"blue\"},\"name\":\"Second decade (10th - 20th)\",\"orientation\":\"h\",\"showlegend\":false,\"text\":[1.0,4.0,8.0,24.0],\"x\":[1.0,4.0,8.0,24.0],\"y\":[\"Caribs\",\"USG\",\"WAF\",\"AG\"],\"type\":\"bar\",\"xaxis\":\"x9\",\"yaxis\":\"y9\"},{\"marker\":{\"color\":\"red\"},\"name\":\"Third decade (20th - 30th)\",\"orientation\":\"h\",\"showlegend\":false,\"text\":[0.0,1.0,10.0,30.0],\"x\":[0.0,1.0,10.0,30.0],\"y\":[\"Caribs\",\"USG\",\"WAF\",\"AG\"],\"type\":\"bar\",\"xaxis\":\"x9\",\"yaxis\":\"y9\"}],                        {\"template\":{\"data\":{\"bar\":[{\"error_x\":{\"color\":\"#2a3f5f\"},\"error_y\":{\"color\":\"#2a3f5f\"},\"marker\":{\"line\":{\"color\":\"#E5ECF6\",\"width\":0.5},\"pattern\":{\"fillmode\":\"overlay\",\"size\":10,\"solidity\":0.2}},\"type\":\"bar\"}],\"barpolar\":[{\"marker\":{\"line\":{\"color\":\"#E5ECF6\",\"width\":0.5},\"pattern\":{\"fillmode\":\"overlay\",\"size\":10,\"solidity\":0.2}},\"type\":\"barpolar\"}],\"carpet\":[{\"aaxis\":{\"endlinecolor\":\"#2a3f5f\",\"gridcolor\":\"white\",\"linecolor\":\"white\",\"minorgridcolor\":\"white\",\"startlinecolor\":\"#2a3f5f\"},\"baxis\":{\"endlinecolor\":\"#2a3f5f\",\"gridcolor\":\"white\",\"linecolor\":\"white\",\"minorgridcolor\":\"white\",\"startlinecolor\":\"#2a3f5f\"},\"type\":\"carpet\"}],\"choropleth\":[{\"colorbar\":{\"outlinewidth\":0,\"ticks\":\"\"},\"type\":\"choropleth\"}],\"contour\":[{\"colorbar\":{\"outlinewidth\":0,\"ticks\":\"\"},\"colorscale\":[[0.0,\"#0d0887\"],[0.1111111111111111,\"#46039f\"],[0.2222222222222222,\"#7201a8\"],[0.3333333333333333,\"#9c179e\"],[0.4444444444444444,\"#bd3786\"],[0.5555555555555556,\"#d8576b\"],[0.6666666666666666,\"#ed7953\"],[0.7777777777777778,\"#fb9f3a\"],[0.8888888888888888,\"#fdca26\"],[1.0,\"#f0f921\"]],\"type\":\"contour\"}],\"contourcarpet\":[{\"colorbar\":{\"outlinewidth\":0,\"ticks\":\"\"},\"type\":\"contourcarpet\"}],\"heatmap\":[{\"colorbar\":{\"outlinewidth\":0,\"ticks\":\"\"},\"colorscale\":[[0.0,\"#0d0887\"],[0.1111111111111111,\"#46039f\"],[0.2222222222222222,\"#7201a8\"],[0.3333333333333333,\"#9c179e\"],[0.4444444444444444,\"#bd3786\"],[0.5555555555555556,\"#d8576b\"],[0.6666666666666666,\"#ed7953\"],[0.7777777777777778,\"#fb9f3a\"],[0.8888888888888888,\"#fdca26\"],[1.0,\"#f0f921\"]],\"type\":\"heatmap\"}],\"heatmapgl\":[{\"colorbar\":{\"outlinewidth\":0,\"ticks\":\"\"},\"colorscale\":[[0.0,\"#0d0887\"],[0.1111111111111111,\"#46039f\"],[0.2222222222222222,\"#7201a8\"],[0.3333333333333333,\"#9c179e\"],[0.4444444444444444,\"#bd3786\"],[0.5555555555555556,\"#d8576b\"],[0.6666666666666666,\"#ed7953\"],[0.7777777777777778,\"#fb9f3a\"],[0.8888888888888888,\"#fdca26\"],[1.0,\"#f0f921\"]],\"type\":\"heatmapgl\"}],\"histogram\":[{\"marker\":{\"pattern\":{\"fillmode\":\"overlay\",\"size\":10,\"solidity\":0.2}},\"type\":\"histogram\"}],\"histogram2d\":[{\"colorbar\":{\"outlinewidth\":0,\"ticks\":\"\"},\"colorscale\":[[0.0,\"#0d0887\"],[0.1111111111111111,\"#46039f\"],[0.2222222222222222,\"#7201a8\"],[0.3333333333333333,\"#9c179e\"],[0.4444444444444444,\"#bd3786\"],[0.5555555555555556,\"#d8576b\"],[0.6666666666666666,\"#ed7953\"],[0.7777777777777778,\"#fb9f3a\"],[0.8888888888888888,\"#fdca26\"],[1.0,\"#f0f921\"]],\"type\":\"histogram2d\"}],\"histogram2dcontour\":[{\"colorbar\":{\"outlinewidth\":0,\"ticks\":\"\"},\"colorscale\":[[0.0,\"#0d0887\"],[0.1111111111111111,\"#46039f\"],[0.2222222222222222,\"#7201a8\"],[0.3333333333333333,\"#9c179e\"],[0.4444444444444444,\"#bd3786\"],[0.5555555555555556,\"#d8576b\"],[0.6666666666666666,\"#ed7953\"],[0.7777777777777778,\"#fb9f3a\"],[0.8888888888888888,\"#fdca26\"],[1.0,\"#f0f921\"]],\"type\":\"histogram2dcontour\"}],\"mesh3d\":[{\"colorbar\":{\"outlinewidth\":0,\"ticks\":\"\"},\"type\":\"mesh3d\"}],\"parcoords\":[{\"line\":{\"colorbar\":{\"outlinewidth\":0,\"ticks\":\"\"}},\"type\":\"parcoords\"}],\"pie\":[{\"automargin\":true,\"type\":\"pie\"}],\"scatter\":[{\"marker\":{\"colorbar\":{\"outlinewidth\":0,\"ticks\":\"\"}},\"type\":\"scatter\"}],\"scatter3d\":[{\"line\":{\"colorbar\":{\"outlinewidth\":0,\"ticks\":\"\"}},\"marker\":{\"colorbar\":{\"outlinewidth\":0,\"ticks\":\"\"}},\"type\":\"scatter3d\"}],\"scattercarpet\":[{\"marker\":{\"colorbar\":{\"outlinewidth\":0,\"ticks\":\"\"}},\"type\":\"scattercarpet\"}],\"scattergeo\":[{\"marker\":{\"colorbar\":{\"outlinewidth\":0,\"ticks\":\"\"}},\"type\":\"scattergeo\"}],\"scattergl\":[{\"marker\":{\"colorbar\":{\"outlinewidth\":0,\"ticks\":\"\"}},\"type\":\"scattergl\"}],\"scattermapbox\":[{\"marker\":{\"colorbar\":{\"outlinewidth\":0,\"ticks\":\"\"}},\"type\":\"scattermapbox\"}],\"scatterpolar\":[{\"marker\":{\"colorbar\":{\"outlinewidth\":0,\"ticks\":\"\"}},\"type\":\"scatterpolar\"}],\"scatterpolargl\":[{\"marker\":{\"colorbar\":{\"outlinewidth\":0,\"ticks\":\"\"}},\"type\":\"scatterpolargl\"}],\"scatterternary\":[{\"marker\":{\"colorbar\":{\"outlinewidth\":0,\"ticks\":\"\"}},\"type\":\"scatterternary\"}],\"surface\":[{\"colorbar\":{\"outlinewidth\":0,\"ticks\":\"\"},\"colorscale\":[[0.0,\"#0d0887\"],[0.1111111111111111,\"#46039f\"],[0.2222222222222222,\"#7201a8\"],[0.3333333333333333,\"#9c179e\"],[0.4444444444444444,\"#bd3786\"],[0.5555555555555556,\"#d8576b\"],[0.6666666666666666,\"#ed7953\"],[0.7777777777777778,\"#fb9f3a\"],[0.8888888888888888,\"#fdca26\"],[1.0,\"#f0f921\"]],\"type\":\"surface\"}],\"table\":[{\"cells\":{\"fill\":{\"color\":\"#EBF0F8\"},\"line\":{\"color\":\"white\"}},\"header\":{\"fill\":{\"color\":\"#C8D4E3\"},\"line\":{\"color\":\"white\"}},\"type\":\"table\"}]},\"layout\":{\"annotationdefaults\":{\"arrowcolor\":\"#2a3f5f\",\"arrowhead\":0,\"arrowwidth\":1},\"autotypenumbers\":\"strict\",\"coloraxis\":{\"colorbar\":{\"outlinewidth\":0,\"ticks\":\"\"}},\"colorscale\":{\"diverging\":[[0,\"#8e0152\"],[0.1,\"#c51b7d\"],[0.2,\"#de77ae\"],[0.3,\"#f1b6da\"],[0.4,\"#fde0ef\"],[0.5,\"#f7f7f7\"],[0.6,\"#e6f5d0\"],[0.7,\"#b8e186\"],[0.8,\"#7fbc41\"],[0.9,\"#4d9221\"],[1,\"#276419\"]],\"sequential\":[[0.0,\"#0d0887\"],[0.1111111111111111,\"#46039f\"],[0.2222222222222222,\"#7201a8\"],[0.3333333333333333,\"#9c179e\"],[0.4444444444444444,\"#bd3786\"],[0.5555555555555556,\"#d8576b\"],[0.6666666666666666,\"#ed7953\"],[0.7777777777777778,\"#fb9f3a\"],[0.8888888888888888,\"#fdca26\"],[1.0,\"#f0f921\"]],\"sequentialminus\":[[0.0,\"#0d0887\"],[0.1111111111111111,\"#46039f\"],[0.2222222222222222,\"#7201a8\"],[0.3333333333333333,\"#9c179e\"],[0.4444444444444444,\"#bd3786\"],[0.5555555555555556,\"#d8576b\"],[0.6666666666666666,\"#ed7953\"],[0.7777777777777778,\"#fb9f3a\"],[0.8888888888888888,\"#fdca26\"],[1.0,\"#f0f921\"]]},\"colorway\":[\"#636efa\",\"#EF553B\",\"#00cc96\",\"#ab63fa\",\"#FFA15A\",\"#19d3f3\",\"#FF6692\",\"#B6E880\",\"#FF97FF\",\"#FECB52\"],\"font\":{\"color\":\"#2a3f5f\"},\"geo\":{\"bgcolor\":\"white\",\"lakecolor\":\"white\",\"landcolor\":\"#E5ECF6\",\"showlakes\":true,\"showland\":true,\"subunitcolor\":\"white\"},\"hoverlabel\":{\"align\":\"left\"},\"hovermode\":\"closest\",\"mapbox\":{\"style\":\"light\"},\"paper_bgcolor\":\"white\",\"plot_bgcolor\":\"#E5ECF6\",\"polar\":{\"angularaxis\":{\"gridcolor\":\"white\",\"linecolor\":\"white\",\"ticks\":\"\"},\"bgcolor\":\"#E5ECF6\",\"radialaxis\":{\"gridcolor\":\"white\",\"linecolor\":\"white\",\"ticks\":\"\"}},\"scene\":{\"xaxis\":{\"backgroundcolor\":\"#E5ECF6\",\"gridcolor\":\"white\",\"gridwidth\":2,\"linecolor\":\"white\",\"showbackground\":true,\"ticks\":\"\",\"zerolinecolor\":\"white\"},\"yaxis\":{\"backgroundcolor\":\"#E5ECF6\",\"gridcolor\":\"white\",\"gridwidth\":2,\"linecolor\":\"white\",\"showbackground\":true,\"ticks\":\"\",\"zerolinecolor\":\"white\"},\"zaxis\":{\"backgroundcolor\":\"#E5ECF6\",\"gridcolor\":\"white\",\"gridwidth\":2,\"linecolor\":\"white\",\"showbackground\":true,\"ticks\":\"\",\"zerolinecolor\":\"white\"}},\"shapedefaults\":{\"line\":{\"color\":\"#2a3f5f\"}},\"ternary\":{\"aaxis\":{\"gridcolor\":\"white\",\"linecolor\":\"white\",\"ticks\":\"\"},\"baxis\":{\"gridcolor\":\"white\",\"linecolor\":\"white\",\"ticks\":\"\"},\"bgcolor\":\"#E5ECF6\",\"caxis\":{\"gridcolor\":\"white\",\"linecolor\":\"white\",\"ticks\":\"\"}},\"title\":{\"x\":0.05},\"xaxis\":{\"automargin\":true,\"gridcolor\":\"white\",\"linecolor\":\"white\",\"ticks\":\"\",\"title\":{\"standoff\":15},\"zerolinecolor\":\"white\",\"zerolinewidth\":2},\"yaxis\":{\"automargin\":true,\"gridcolor\":\"white\",\"linecolor\":\"white\",\"ticks\":\"\",\"title\":{\"standoff\":15},\"zerolinecolor\":\"white\",\"zerolinewidth\":2}}},\"xaxis\":{\"anchor\":\"y\",\"domain\":[0.0,0.45]},\"yaxis\":{\"anchor\":\"x\",\"domain\":[0.88,1.0]},\"xaxis2\":{\"anchor\":\"y2\",\"domain\":[0.55,1.0]},\"yaxis2\":{\"anchor\":\"x2\",\"domain\":[0.88,1.0]},\"xaxis3\":{\"anchor\":\"y3\",\"domain\":[0.0,0.45]},\"yaxis3\":{\"anchor\":\"x3\",\"domain\":[0.66,0.78]},\"xaxis4\":{\"anchor\":\"y4\",\"domain\":[0.55,1.0]},\"yaxis4\":{\"anchor\":\"x4\",\"domain\":[0.66,0.78]},\"xaxis5\":{\"anchor\":\"y5\",\"domain\":[0.0,0.45]},\"yaxis5\":{\"anchor\":\"x5\",\"domain\":[0.44,0.56]},\"xaxis6\":{\"anchor\":\"y6\",\"domain\":[0.55,1.0]},\"yaxis6\":{\"anchor\":\"x6\",\"domain\":[0.44,0.56]},\"xaxis7\":{\"anchor\":\"y7\",\"domain\":[0.0,0.45]},\"yaxis7\":{\"anchor\":\"x7\",\"domain\":[0.22,0.33999999999999997]},\"xaxis8\":{\"anchor\":\"y8\",\"domain\":[0.55,1.0]},\"yaxis8\":{\"anchor\":\"x8\",\"domain\":[0.22,0.33999999999999997]},\"xaxis9\":{\"anchor\":\"y9\",\"domain\":[0.0,0.45]},\"yaxis9\":{\"anchor\":\"x9\",\"domain\":[0.0,0.12]},\"xaxis10\":{\"anchor\":\"y10\",\"domain\":[0.55,1.0]},\"yaxis10\":{\"anchor\":\"x10\",\"domain\":[0.0,0.12]},\"annotations\":[{\"font\":{\"size\":16},\"showarrow\":false,\"text\":\"April 2022\",\"x\":0.225,\"xanchor\":\"center\",\"xref\":\"paper\",\"y\":1.0,\"yanchor\":\"bottom\",\"yref\":\"paper\"},{\"font\":{\"size\":16},\"showarrow\":false,\"text\":\"March 2022\",\"x\":0.775,\"xanchor\":\"center\",\"xref\":\"paper\",\"y\":1.0,\"yanchor\":\"bottom\",\"yref\":\"paper\"},{\"font\":{\"size\":16},\"showarrow\":false,\"text\":\"February 2022\",\"x\":0.225,\"xanchor\":\"center\",\"xref\":\"paper\",\"y\":0.78,\"yanchor\":\"bottom\",\"yref\":\"paper\"},{\"font\":{\"size\":16},\"showarrow\":false,\"text\":\"January 2022\",\"x\":0.775,\"xanchor\":\"center\",\"xref\":\"paper\",\"y\":0.78,\"yanchor\":\"bottom\",\"yref\":\"paper\"},{\"font\":{\"size\":16},\"showarrow\":false,\"text\":\"December 2021\",\"x\":0.225,\"xanchor\":\"center\",\"xref\":\"paper\",\"y\":0.56,\"yanchor\":\"bottom\",\"yref\":\"paper\"},{\"font\":{\"size\":16},\"showarrow\":false,\"text\":\"November 2021\",\"x\":0.775,\"xanchor\":\"center\",\"xref\":\"paper\",\"y\":0.56,\"yanchor\":\"bottom\",\"yref\":\"paper\"},{\"font\":{\"size\":16},\"showarrow\":false,\"text\":\"October 2021\",\"x\":0.225,\"xanchor\":\"center\",\"xref\":\"paper\",\"y\":0.33999999999999997,\"yanchor\":\"bottom\",\"yref\":\"paper\"},{\"font\":{\"size\":16},\"showarrow\":false,\"text\":\"September 2021\",\"x\":0.775,\"xanchor\":\"center\",\"xref\":\"paper\",\"y\":0.33999999999999997,\"yanchor\":\"bottom\",\"yref\":\"paper\"},{\"font\":{\"size\":16},\"showarrow\":false,\"text\":\"August 2021\",\"x\":0.225,\"xanchor\":\"center\",\"xref\":\"paper\",\"y\":0.12,\"yanchor\":\"bottom\",\"yref\":\"paper\"},{\"font\":{\"size\":16},\"showarrow\":false,\"text\":\"Fixture Counts\",\"x\":0.5,\"xanchor\":\"center\",\"xref\":\"paper\",\"y\":0,\"yanchor\":\"top\",\"yref\":\"paper\",\"yshift\":-30},{\"font\":{\"size\":16},\"showarrow\":false,\"text\":\"Areas\",\"textangle\":-90,\"x\":0,\"xanchor\":\"right\",\"xref\":\"paper\",\"xshift\":-40,\"y\":0.5,\"yanchor\":\"middle\",\"yref\":\"paper\"}],\"legend\":{\"traceorder\":\"reversed\"},\"height\":1500,\"width\":1400,\"title\":{\"text\":\"Fixture Counts\"},\"barmode\":\"stack\"},                        {\"responsive\": true}                    ).then(function(){\n",
       "                            \n",
       "var gd = document.getElementById('8fc9eb54-49b0-4645-b54b-2645448fb272');\n",
       "var x = new MutationObserver(function (mutations, observer) {{\n",
       "        var display = window.getComputedStyle(gd).display;\n",
       "        if (!display || display === 'none') {{\n",
       "            console.log([gd, 'removed!']);\n",
       "            Plotly.purge(gd);\n",
       "            observer.disconnect();\n",
       "        }}\n",
       "}});\n",
       "\n",
       "// Listen for the removal of the full notebook cells\n",
       "var notebookContainer = gd.closest('#notebook-container');\n",
       "if (notebookContainer) {{\n",
       "    x.observe(notebookContainer, {childList: true});\n",
       "}}\n",
       "\n",
       "// Listen for the clearing of the current output cell\n",
       "var outputEl = gd.closest('.output');\n",
       "if (outputEl) {{\n",
       "    x.observe(outputEl, {childList: true});\n",
       "}}\n",
       "\n",
       "                        })                };                            </script>        </div>\n",
       "</body>\n",
       "</html>"
      ]
     },
     "metadata": {},
     "output_type": "display_data"
    }
   ],
   "source": [
    "# Plot the results\n",
    "plot_results(preprocessed_voyages)"
   ]
  },
  {
   "cell_type": "code",
   "execution_count": 10,
   "metadata": {
    "id": "Vs3-KXAyGrLj"
   },
   "outputs": [],
   "source": []
  }
 ],
 "metadata": {
  "colab": {
   "collapsed_sections": [],
   "name": "FixtureCount.ipynb",
   "provenance": []
  },
  "kernelspec": {
   "display_name": "Python 3",
   "language": "python",
   "name": "python3"
  },
  "language_info": {
   "codemirror_mode": {
    "name": "ipython",
    "version": 3
   },
   "file_extension": ".py",
   "mimetype": "text/x-python",
   "name": "python",
   "nbconvert_exporter": "python",
   "pygments_lexer": "ipython3",
   "version": "3.8.7"
  }
 },
 "nbformat": 4,
 "nbformat_minor": 1
}
